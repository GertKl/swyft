{
 "cells": [
  {
   "cell_type": "markdown",
   "id": "d74664b7-7747-4243-abfe-e3273bc1ab96",
   "metadata": {
    "tags": []
   },
   "source": [
    "# SwyftModule\n",
    "\n",
    "In this notebook, we will go through the basic steps of performing parameter inference with Swyft."
   ]
  },
  {
   "cell_type": "markdown",
   "id": "b4c7a3f1-ab43-432e-a64f-b7f1358a24da",
   "metadata": {
    "tags": []
   },
   "source": [
    "## Setup\n",
    "\n",
    "First we need some imports."
   ]
  },
  {
   "cell_type": "code",
   "execution_count": 1,
   "id": "8e9d04e5-d08e-46ab-a520-4547dedf0487",
   "metadata": {},
   "outputs": [],
   "source": [
    "%load_ext autoreload\n",
    "%autoreload 2"
   ]
  },
  {
   "cell_type": "code",
   "execution_count": 2,
   "id": "0297c907",
   "metadata": {},
   "outputs": [],
   "source": [
    "import numpy as np\n",
    "import swyft\n",
    "import pylab as plt\n",
    "import scipy.stats"
   ]
  },
  {
   "cell_type": "markdown",
   "id": "ab99366b-0783-46f5-be2d-80cbbb85e163",
   "metadata": {
    "tags": []
   },
   "source": [
    "## Training data\n",
    "\n",
    "Now we generate training data.  As simple example, we consider the model\n",
    "\n",
    "$$\n",
    "x = z + \\epsilon\n",
    "$$\n",
    "\n",
    "where the parameter $z \\sim \\mathcal{N}(\\mu = 0, \\sigma = 1)$ is standard normal distributed, and $\\epsilon \\sim \\mathcal{N}(\\mu = 0, \\sigma = 0.1)$ is a small noise contribution.  We are interested in the posterior of $z$ given a measurement of parameter $x$."
   ]
  },
  {
   "cell_type": "code",
   "execution_count": 4,
   "id": "c0439f14-d49f-4e52-8916-49a785daede5",
   "metadata": {},
   "outputs": [],
   "source": [
    "N = 10000  # Number of samples\n",
    "z = np.random.rand(N, 1)*2-1  # Uniform prior over [-1, 1]\n",
    "x = z + np.random.randn(N, 1)*0.1"
   ]
  },
  {
   "cell_type": "markdown",
   "id": "0fc90b4f-dd7e-43fb-af9a-7664f43787ab",
   "metadata": {},
   "source": [
    "Training data that is kept in memory is stored in a `swyft.Samples` object."
   ]
  },
  {
   "cell_type": "code",
   "execution_count": 5,
   "id": "315a3a80-c59b-4daf-b846-afb452b7575c",
   "metadata": {},
   "outputs": [],
   "source": [
    "samples = swyft.Samples(x = x, z = z)"
   ]
  },
  {
   "cell_type": "markdown",
   "id": "c3380509-cb9d-415d-b5f8-787ab75b10f7",
   "metadata": {},
   "source": [
    "## Inference network\n",
    "\n",
    "The inference network is an instance of `swyft.SwyftModule`.  It estimates ratios of the form\n",
    "$$\n",
    "r(A; B) = \\frac{p(A, B)}{p(A)p(B)}\\;,\n",
    "$$\n",
    "where $A$ and $B$ refer to any subset of variables in the training data.  In the below example, we set $A \\to x$ and $B \\to z$.\n",
    "\n",
    "We use here a standard dense network, `swyft.LogRatioEstimator_1dim`, for mapping $x$ and $z$ onto a ratio estimator object."
   ]
  },
  {
   "cell_type": "code",
   "execution_count": 6,
   "id": "4aa1226d-923b-4c4f-a2d3-ca04e4e74925",
   "metadata": {},
   "outputs": [],
   "source": [
    "class Network(swyft.SwyftModule):\n",
    "    def __init__(self):\n",
    "        super().__init__()\n",
    "        self.logratios = swyft.LogRatioEstimator_1dim(num_features = 1, num_params = 1, varnames = 'z')\n",
    "\n",
    "    def forward(self, A, B):\n",
    "        logratios = self.logratios(A['x'], B['z'])\n",
    "        return logratios"
   ]
  },
  {
   "cell_type": "markdown",
   "id": "2554dbed-fc91-45d2-bfa7-418cdaad67b6",
   "metadata": {},
   "source": [
    "## Trainer\n",
    "\n",
    "Training is now done using the `SwyftTrainer` class, which extends `pytorch_lightning.Trainer` by methods like `infer` (see below).  Since our training data is double precision in this example, we have to set `precision = 64`."
   ]
  },
  {
   "cell_type": "code",
   "execution_count": 11,
   "id": "5683ce37-a8d0-4ed7-94a6-512ccc7babcb",
   "metadata": {},
   "outputs": [
    {
     "name": "stderr",
     "output_type": "stream",
     "text": [
      "GPU available: True (cuda), used: True\n",
      "TPU available: False, using: 0 TPU cores\n",
      "IPU available: False, using: 0 IPUs\n",
      "HPU available: False, using: 0 HPUs\n"
     ]
    }
   ],
   "source": [
    "trainer = swyft.SwyftTrainer(accelerator = 'gpu', devices = 1, max_epochs = 10, precision = 64)"
   ]
  },
  {
   "cell_type": "markdown",
   "id": "053eff99-5d2b-4419-bce7-d938831b623e",
   "metadata": {},
   "source": [
    "The `swyft.Samples` class provides convenience functions to generate data loaders for training and validation data. We preserve 1000 samples for validation and testing.  The setting of `num_workers` will depend on your system."
   ]
  },
  {
   "cell_type": "code",
   "execution_count": 12,
   "id": "c19cf04c-1847-47e3-8a0f-5925b75409e1",
   "metadata": {},
   "outputs": [],
   "source": [
    "dm = swyft.SwyftDataModule(samples, fractions = [0.8, 0.02, 0.1], num_workers = 3, batch_size = 128)"
   ]
  },
  {
   "cell_type": "code",
   "execution_count": 13,
   "id": "c5811d37-d10b-49e8-a8ed-1e6d43caefa4",
   "metadata": {},
   "outputs": [],
   "source": [
    "network = Network()"
   ]
  },
  {
   "cell_type": "markdown",
   "id": "cb7d2914-0382-465c-927a-053c06cfc5c3",
   "metadata": {},
   "source": [
    "Finally, we perform the fit. (Potential warning messages related to logging and checkpoints can be ignored at this point.  Proper logging will be discussed in a later notebook.)"
   ]
  },
  {
   "cell_type": "code",
   "execution_count": 14,
   "id": "41f7765b-45b8-4684-b820-4f75c9719857",
   "metadata": {},
   "outputs": [
    {
     "name": "stderr",
     "output_type": "stream",
     "text": [
      "LOCAL_RANK: 0 - CUDA_VISIBLE_DEVICES: [0]\n",
      "\n",
      "  | Name      | Type                   | Params\n",
      "-----------------------------------------------------\n",
      "0 | logratios | LogRatioEstimator_1dim | 17.4 K\n",
      "-----------------------------------------------------\n",
      "17.4 K    Trainable params\n",
      "0         Non-trainable params\n",
      "17.4 K    Total params\n",
      "0.139     Total estimated model params size (MB)\n"
     ]
    },
    {
     "name": "stdout",
     "output_type": "stream",
     "text": [
      "Epoch 0:  97%|█████████▋| 68/70 [00:01<00:00, 67.84it/s, loss=-0.787, v_num=1e+7] \n",
      "Validation: 0it [00:00, ?it/s]\u001b[A\n",
      "Validation:   0%|          | 0/2 [00:00<?, ?it/s]\u001b[A\n",
      "Validation DataLoader 0:   0%|          | 0/2 [00:00<?, ?it/s]\u001b[A\n",
      "Epoch 0:  99%|█████████▊| 69/70 [00:01<00:00, 52.77it/s, loss=-0.787, v_num=1e+7]\n",
      "Epoch 0: 100%|██████████| 70/70 [00:01<00:00, 53.02it/s, loss=-0.787, v_num=1e+7, val_loss=-.801]\n",
      "Epoch 1:  97%|█████████▋| 68/70 [00:01<00:00, 63.49it/s, loss=-0.805, v_num=1e+7, val_loss=-.801]\n",
      "Validation: 0it [00:00, ?it/s]\u001b[A\n",
      "Validation:   0%|          | 0/2 [00:00<?, ?it/s]\u001b[A\n",
      "Validation DataLoader 0:   0%|          | 0/2 [00:00<?, ?it/s]\u001b[A\n",
      "Epoch 1:  99%|█████████▊| 69/70 [00:01<00:00, 49.18it/s, loss=-0.805, v_num=1e+7, val_loss=-.801]\n",
      "Epoch 1: 100%|██████████| 70/70 [00:01<00:00, 49.60it/s, loss=-0.805, v_num=1e+7, val_loss=-.778]\n",
      "Epoch 2:  97%|█████████▋| 68/70 [00:01<00:00, 66.51it/s, loss=-0.817, v_num=1e+7, val_loss=-.778]\n",
      "Validation: 0it [00:00, ?it/s]\u001b[A\n",
      "Validation:   0%|          | 0/2 [00:00<?, ?it/s]\u001b[A\n",
      "Validation DataLoader 0:   0%|          | 0/2 [00:00<?, ?it/s]\u001b[A\n",
      "Epoch 2:  99%|█████████▊| 69/70 [00:01<00:00, 52.09it/s, loss=-0.817, v_num=1e+7, val_loss=-.778]\n",
      "Epoch 2: 100%|██████████| 70/70 [00:01<00:00, 51.85it/s, loss=-0.817, v_num=1e+7, val_loss=-.774]\n",
      "Epoch 3:  97%|█████████▋| 68/70 [00:01<00:00, 58.75it/s, loss=-0.79, v_num=1e+7, val_loss=-.774] \n",
      "Validation: 0it [00:00, ?it/s]\u001b[A\n",
      "Validation:   0%|          | 0/2 [00:00<?, ?it/s]\u001b[A\n",
      "Validation DataLoader 0:   0%|          | 0/2 [00:00<?, ?it/s]\u001b[A\n",
      "Epoch 3:  99%|█████████▊| 69/70 [00:01<00:00, 46.47it/s, loss=-0.79, v_num=1e+7, val_loss=-.774]\n",
      "Epoch 3: 100%|██████████| 70/70 [00:01<00:00, 46.81it/s, loss=-0.79, v_num=1e+7, val_loss=-.802]\n",
      "Epoch 4:  97%|█████████▋| 68/70 [00:01<00:00, 59.72it/s, loss=-0.821, v_num=1e+7, val_loss=-.802]\n",
      "Validation: 0it [00:00, ?it/s]\u001b[A\n",
      "Validation:   0%|          | 0/2 [00:00<?, ?it/s]\u001b[A\n",
      "Validation DataLoader 0:   0%|          | 0/2 [00:00<?, ?it/s]\u001b[A\n",
      "Epoch 4:  99%|█████████▊| 69/70 [00:01<00:00, 50.30it/s, loss=-0.821, v_num=1e+7, val_loss=-.802]\n",
      "Epoch 4: 100%|██████████| 70/70 [00:01<00:00, 45.31it/s, loss=-0.821, v_num=1e+7, val_loss=-.801]\n",
      "Epoch 5:  97%|█████████▋| 68/70 [00:01<00:00, 64.89it/s, loss=-0.803, v_num=1e+7, val_loss=-.801]\n",
      "Validation: 0it [00:00, ?it/s]\u001b[A\n",
      "Validation:   0%|          | 0/2 [00:00<?, ?it/s]\u001b[A\n",
      "Validation DataLoader 0:   0%|          | 0/2 [00:00<?, ?it/s]\u001b[A\n",
      "Epoch 5:  99%|█████████▊| 69/70 [00:01<00:00, 49.68it/s, loss=-0.803, v_num=1e+7, val_loss=-.801]\n",
      "Epoch 5: 100%|██████████| 70/70 [00:01<00:00, 50.07it/s, loss=-0.803, v_num=1e+7, val_loss=-.796]\n",
      "Epoch 6:  97%|█████████▋| 68/70 [00:01<00:00, 63.47it/s, loss=-0.798, v_num=1e+7, val_loss=-.796]\n",
      "Validation: 0it [00:00, ?it/s]\u001b[A\n",
      "Validation:   0%|          | 0/2 [00:00<?, ?it/s]\u001b[A\n",
      "Validation DataLoader 0:   0%|          | 0/2 [00:00<?, ?it/s]\u001b[A\n",
      "Epoch 6:  99%|█████████▊| 69/70 [00:01<00:00, 48.76it/s, loss=-0.798, v_num=1e+7, val_loss=-.796]\n",
      "Epoch 6: 100%|██████████| 70/70 [00:01<00:00, 49.18it/s, loss=-0.798, v_num=1e+7, val_loss=-.787]\n",
      "Epoch 7:  97%|█████████▋| 68/70 [00:01<00:00, 66.13it/s, loss=-0.822, v_num=1e+7, val_loss=-.787]\n",
      "Validation: 0it [00:00, ?it/s]\u001b[A\n",
      "Validation:   0%|          | 0/2 [00:00<?, ?it/s]\u001b[A\n",
      "Validation DataLoader 0:   0%|          | 0/2 [00:00<?, ?it/s]\u001b[A\n",
      "Epoch 7:  99%|█████████▊| 69/70 [00:01<00:00, 49.30it/s, loss=-0.822, v_num=1e+7, val_loss=-.787]\n",
      "Epoch 7: 100%|██████████| 70/70 [00:01<00:00, 49.74it/s, loss=-0.822, v_num=1e+7, val_loss=-.788]\n",
      "Epoch 8:  97%|█████████▋| 68/70 [00:01<00:00, 65.10it/s, loss=-0.803, v_num=1e+7, val_loss=-.788]\n",
      "Validation: 0it [00:00, ?it/s]\u001b[A\n",
      "Validation:   0%|          | 0/2 [00:00<?, ?it/s]\u001b[A\n",
      "Validation DataLoader 0:   0%|          | 0/2 [00:00<?, ?it/s]\u001b[A\n",
      "Epoch 8:  99%|█████████▊| 69/70 [00:01<00:00, 49.14it/s, loss=-0.803, v_num=1e+7, val_loss=-.788]\n",
      "Epoch 8: 100%|██████████| 70/70 [00:01<00:00, 48.73it/s, loss=-0.803, v_num=1e+7, val_loss=-.788]\n",
      "Epoch 9:  97%|█████████▋| 68/70 [00:01<00:00, 66.69it/s, loss=-0.818, v_num=1e+7, val_loss=-.788]\n",
      "Validation: 0it [00:00, ?it/s]\u001b[A\n",
      "Validation:   0%|          | 0/2 [00:00<?, ?it/s]\u001b[A\n",
      "Validation DataLoader 0:   0%|          | 0/2 [00:00<?, ?it/s]\u001b[A\n",
      "Epoch 9:  99%|█████████▊| 69/70 [00:01<00:00, 49.91it/s, loss=-0.818, v_num=1e+7, val_loss=-.788]\n",
      "Epoch 9: 100%|██████████| 70/70 [00:01<00:00, 50.30it/s, loss=-0.818, v_num=1e+7, val_loss=-.795]\n",
      "Epoch 9: 100%|██████████| 70/70 [00:01<00:00, 50.16it/s, loss=-0.818, v_num=1e+7, val_loss=-.795]"
     ]
    },
    {
     "name": "stderr",
     "output_type": "stream",
     "text": [
      "`Trainer.fit` stopped: `max_epochs=10` reached.\n"
     ]
    },
    {
     "name": "stdout",
     "output_type": "stream",
     "text": [
      "Epoch 9: 100%|██████████| 70/70 [00:01<00:00, 49.40it/s, loss=-0.818, v_num=1e+7, val_loss=-.795]\n"
     ]
    }
   ],
   "source": [
    "trainer.fit(network, dm)"
   ]
  },
  {
   "cell_type": "markdown",
   "id": "ad00723f-5469-475a-a7b3-2e3cf0119396",
   "metadata": {},
   "source": [
    "Finally, we can test the network performance on the separate testing samples."
   ]
  },
  {
   "cell_type": "code",
   "execution_count": 16,
   "id": "6c0ac543-141a-4660-b1b9-70791eae24d0",
   "metadata": {},
   "outputs": [
    {
     "name": "stderr",
     "output_type": "stream",
     "text": [
      "LOCAL_RANK: 0 - CUDA_VISIBLE_DEVICES: [0]\n"
     ]
    },
    {
     "name": "stdout",
     "output_type": "stream",
     "text": [
      "Testing DataLoader 0: 100%|██████████| 9/9 [00:00<00:00, 202.68it/s]\n"
     ]
    },
    {
     "data": {
      "text/html": [
       "<pre style=\"white-space:pre;overflow-x:auto;line-height:normal;font-family:Menlo,'DejaVu Sans Mono',consolas,'Courier New',monospace\">┏━━━━━━━━━━━━━━━━━━━━━━━━━━━┳━━━━━━━━━━━━━━━━━━━━━━━━━━━┓\n",
       "┃<span style=\"font-weight: bold\">        Test metric        </span>┃<span style=\"font-weight: bold\">       DataLoader 0        </span>┃\n",
       "┡━━━━━━━━━━━━━━━━━━━━━━━━━━━╇━━━━━━━━━━━━━━━━━━━━━━━━━━━┩\n",
       "│<span style=\"color: #008080; text-decoration-color: #008080\">         test_loss         </span>│<span style=\"color: #800080; text-decoration-color: #800080\">    -0.8428825986368504    </span>│\n",
       "└───────────────────────────┴───────────────────────────┘\n",
       "</pre>\n"
      ],
      "text/plain": [
       "┏━━━━━━━━━━━━━━━━━━━━━━━━━━━┳━━━━━━━━━━━━━━━━━━━━━━━━━━━┓\n",
       "┃\u001b[1m \u001b[0m\u001b[1m       Test metric       \u001b[0m\u001b[1m \u001b[0m┃\u001b[1m \u001b[0m\u001b[1m      DataLoader 0       \u001b[0m\u001b[1m \u001b[0m┃\n",
       "┡━━━━━━━━━━━━━━━━━━━━━━━━━━━╇━━━━━━━━━━━━━━━━━━━━━━━━━━━┩\n",
       "│\u001b[36m \u001b[0m\u001b[36m        test_loss        \u001b[0m\u001b[36m \u001b[0m│\u001b[35m \u001b[0m\u001b[35m   -0.8428825986368504   \u001b[0m\u001b[35m \u001b[0m│\n",
       "└───────────────────────────┴───────────────────────────┘\n"
      ]
     },
     "metadata": {},
     "output_type": "display_data"
    },
    {
     "data": {
      "text/plain": [
       "[{'test_loss': -0.8428825986368504}]"
      ]
     },
     "execution_count": 16,
     "metadata": {},
     "output_type": "execute_result"
    }
   ],
   "source": [
    "trainer.test(network, dm)"
   ]
  },
  {
   "cell_type": "markdown",
   "id": "a7bd5cdf-d1d1-4bbc-b70a-387d8b0a22a3",
   "metadata": {},
   "source": [
    "## Inference"
   ]
  },
  {
   "cell_type": "markdown",
   "id": "0a2a76de-45c5-445b-b45d-80da8448f4d2",
   "metadata": {},
   "source": [
    "We assume that we measure the values $x=0.2$."
   ]
  },
  {
   "cell_type": "code",
   "execution_count": 17,
   "id": "841a27bb-f8fd-48ab-9504-d8881a4f6777",
   "metadata": {},
   "outputs": [],
   "source": [
    "x0 = 0.2"
   ]
  },
  {
   "cell_type": "markdown",
   "id": "9073fa35-376d-4cd4-bdd0-a5bad6443dcf",
   "metadata": {},
   "source": [
    "Below we will need that this is a `Sample` object."
   ]
  },
  {
   "cell_type": "code",
   "execution_count": 18,
   "id": "9e57adc9-5f6a-49a3-919d-41f570578d59",
   "metadata": {},
   "outputs": [],
   "source": [
    "A = swyft.Sample(x = np.array([x0]))"
   ]
  },
  {
   "cell_type": "markdown",
   "id": "ee9bdb3a-243f-4457-b826-d7ec967f0a98",
   "metadata": {},
   "source": [
    "We first generate a large number of prior samples."
   ]
  },
  {
   "cell_type": "code",
   "execution_count": 19,
   "id": "6ec1f09c-de11-4688-89bd-564f75a64bb8",
   "metadata": {},
   "outputs": [],
   "source": [
    "B = swyft.Samples(z = np.random.rand(1_000_000, 1)*2-1)"
   ]
  },
  {
   "cell_type": "markdown",
   "id": "1fc2a59b-a7b6-404a-ac72-d86d6b8a6185",
   "metadata": {},
   "source": [
    "Swyft provides the method `infer` in order to efficiently evaluate the inference network. That method takes either dataloaders or individual samples (i.e. dictionaries of tensors) as input.  This efficiently evaluates the ratio $r(x; z)$ for a large number of prior samples $z$ for a fixed values of $x$."
   ]
  },
  {
   "cell_type": "code",
   "execution_count": 21,
   "id": "6e1cbc13-ab64-43a8-acf0-4ab9f9c650f6",
   "metadata": {},
   "outputs": [
    {
     "name": "stderr",
     "output_type": "stream",
     "text": [
      "LOCAL_RANK: 0 - CUDA_VISIBLE_DEVICES: [0]\n"
     ]
    },
    {
     "name": "stdout",
     "output_type": "stream",
     "text": [
      "Predicting DataLoader 0: 100%|██████████| 977/977 [00:07<00:00, 129.65it/s]\n"
     ]
    }
   ],
   "source": [
    "predictions = trainer.infer(network, A, B)"
   ]
  },
  {
   "cell_type": "markdown",
   "id": "edebf21b-b0b6-4525-8bd2-7b9f25f76204",
   "metadata": {},
   "source": [
    "## Plot results\n",
    "\n",
    "First we obtain samples from the posterior, using subsampling with a weight that happens to be given by $e^r$."
   ]
  },
  {
   "cell_type": "code",
   "execution_count": 23,
   "id": "dbab5ad8-52d4-4932-a93c-989b59663e63",
   "metadata": {},
   "outputs": [
    {
     "data": {
      "text/plain": [
       "<matplotlib.legend.Legend at 0x14abf70344f0>"
      ]
     },
     "execution_count": 23,
     "metadata": {},
     "output_type": "execute_result"
    },
    {
     "data": {
      "image/png": "[encoded data removed]",
      "text/plain": [
       "<Figure size 432x288 with 1 Axes>"
      ]
     },
     "metadata": {
      "needs_background": "light"
     },
     "output_type": "display_data"
    }
   ],
   "source": [
    "# Plot swyft results\n",
    "plt.hist(predictions.params[:,0].numpy(), weights = predictions.weights.numpy(),\n",
    "         bins = 200, density = True, color = 'lightblue', label = \"Swyft\");\n",
    "plt.xlabel(predictions.parnames[0])\n",
    "\n",
    "# Compare with analytical result\n",
    "xn = np.linspace(-1, 1, 1000)\n",
    "yn = scipy.stats.norm.pdf(xn, x0, 0.1)\n",
    "plt.plot(xn, yn, 'k', label = \"Analytical answer\")\n",
    "plt.ylim([1e-6, yn.max()*1.1])\n",
    "#plt.yscale('log')\n",
    "plt.legend(loc=2)"
   ]
  },
  {
   "cell_type": "code",
   "execution_count": null,
   "id": "6eb7f407-7b5c-4dd6-b662-d62dc744f64a",
   "metadata": {},
   "outputs": [],
   "source": []
  }
 ],
 "metadata": {
  "kernelspec": {
   "display_name": "Python 3",
   "language": "python",
   "name": "python3"
  },
  "language_info": {
   "codemirror_mode": {
    "name": "ipython",
    "version": 3
   },
   "file_extension": ".py",
   "mimetype": "text/x-python",
   "name": "python",
   "nbconvert_exporter": "python",
   "pygments_lexer": "ipython3",
   "version": "3.9.7"
  }
 },
 "nbformat": 4,
 "nbformat_minor": 5
}
