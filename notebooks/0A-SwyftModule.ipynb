{
 "cells": [
  {
   "cell_type": "markdown",
   "id": "d74664b7-7747-4243-abfe-e3273bc1ab96",
   "metadata": {},
   "source": [
    "# SwyftModule\n",
    "\n",
    "In this notebook, we will go through the basic steps of performing parameter inference with Swyft."
   ]
  },
  {
   "cell_type": "markdown",
   "id": "b4c7a3f1-ab43-432e-a64f-b7f1358a24da",
   "metadata": {},
   "source": [
    "## Setup\n",
    "\n",
    "First we need some imports."
   ]
  },
  {
   "cell_type": "code",
   "execution_count": 15,
   "id": "8e9d04e5-d08e-46ab-a520-4547dedf0487",
   "metadata": {},
   "outputs": [
    {
     "name": "stdout",
     "output_type": "stream",
     "text": [
      "The autoreload extension is already loaded. To reload it, use:\n",
      "  %reload_ext autoreload\n"
     ]
    }
   ],
   "source": [
    "%load_ext autoreload\n",
    "%autoreload 2"
   ]
  },
  {
   "cell_type": "code",
   "execution_count": 16,
   "id": "0297c907",
   "metadata": {},
   "outputs": [],
   "source": [
    "import numpy as np\n",
    "import swyft\n",
    "import pylab as plt\n",
    "import scipy.stats"
   ]
  },
  {
   "cell_type": "markdown",
   "id": "ab99366b-0783-46f5-be2d-80cbbb85e163",
   "metadata": {
    "tags": []
   },
   "source": [
    "## Training data\n",
    "\n",
    "Now we generate training data.  As simple example, we consider the model\n",
    "\n",
    "$$\n",
    "x = z + \\epsilon\n",
    "$$\n",
    "\n",
    "where the parameter $z \\sim \\mathcal{N}(\\mu = 0, \\sigma = 1)$ is standard normal distributed, and $\\epsilon \\sim \\mathcal{N}(\\mu = 0, \\sigma = 0.1)$ is a small noise contribution.  We are interested in the posterior of $z$ given a measurement of parameter $x$."
   ]
  },
  {
   "cell_type": "code",
   "execution_count": 17,
   "id": "c0439f14-d49f-4e52-8916-49a785daede5",
   "metadata": {},
   "outputs": [],
   "source": [
    "N = 10000  # Number of samples\n",
    "z = np.random.rand(N, 1)*2-1\n",
    "x = z + np.random.randn(N, 1)*0.1"
   ]
  },
  {
   "cell_type": "markdown",
   "id": "0fc90b4f-dd7e-43fb-af9a-7664f43787ab",
   "metadata": {},
   "source": [
    "Training data that is kept in memory is stored in a `swyft.Samples` object."
   ]
  },
  {
   "cell_type": "code",
   "execution_count": 27,
   "id": "315a3a80-c59b-4daf-b846-afb452b7575c",
   "metadata": {},
   "outputs": [],
   "source": [
    "samples = swyft.Samples(x = x, z = z)"
   ]
  },
  {
   "cell_type": "markdown",
   "id": "c3380509-cb9d-415d-b5f8-787ab75b10f7",
   "metadata": {},
   "source": [
    "## Inference network\n",
    "\n",
    "The inference network is an instance of `swyft.SwyftModule`.  It estimates ratios of the form\n",
    "$$\n",
    "r(A; B) = \\frac{p(A, B)}{p(A)p(B)}\\;,\n",
    "$$\n",
    "where $A$ and $B$ refer to any subset of variables in the training data.  In the below example, we set $A \\to x$ and $B \\to z$.\n",
    "\n",
    "We use here a standard dense network, `swyft.LogRatioEstimator_1dim`, for mapping $x$ and $z$ onto a ratio estimator object."
   ]
  },
  {
   "cell_type": "code",
   "execution_count": 30,
   "id": "3e6dc7e9-ff0a-479d-a4e8-fd8025717327",
   "metadata": {},
   "outputs": [],
   "source": [
    "class Network(swyft.SwyftModule):\n",
    "    def __init__(self):\n",
    "        super().__init__()\n",
    "        self.logratios = swyft.LogRatioEstimator_1dim(num_features = 1, num_params = 1, varnames = 'z')\n",
    "\n",
    "    def forward(self, A, B):\n",
    "        logratios = self.logratios(A['x'], B['z'])\n",
    "        return logratios"
   ]
  },
  {
   "cell_type": "markdown",
   "id": "2554dbed-fc91-45d2-bfa7-418cdaad67b6",
   "metadata": {},
   "source": [
    "## Trainer\n",
    "\n",
    "Training is now done using the `SwyftTrainer` class, which extends `pytorch_lightning.Trainer` by methods like `infer` (see below).  Since our training data is double precision in this example, we have to set `precision = 64`."
   ]
  },
  {
   "cell_type": "code",
   "execution_count": 31,
   "id": "5683ce37-a8d0-4ed7-94a6-512ccc7babcb",
   "metadata": {},
   "outputs": [
    {
     "name": "stderr",
     "output_type": "stream",
     "text": [
      "GPU available: True, used: False\n",
      "TPU available: False, using: 0 TPU cores\n",
      "IPU available: False, using: 0 IPUs\n",
      "/home/weniger/miniconda3b/envs/zero/lib/python3.9/site-packages/pytorch_lightning/trainer/trainer.py:1584: UserWarning: GPU available but not used. Set the gpus flag in your trainer `Trainer(gpus=1)` or script `--gpus=1`.\n",
      "  rank_zero_warn(\n"
     ]
    }
   ],
   "source": [
    "trainer = swyft.SwyftTrainer(accelerator = 'cpu', gpus=1, max_epochs = 10, precision = 64)"
   ]
  },
  {
   "cell_type": "markdown",
   "id": "053eff99-5d2b-4419-bce7-d938831b623e",
   "metadata": {},
   "source": [
    "The `swyft.Samples` class provides convenience functions to generate data loaders for training and validation data. We preserve the last 500 samples for validation."
   ]
  },
  {
   "cell_type": "code",
   "execution_count": 32,
   "id": "60085c53-3c65-4851-ab71-ea369e365eda",
   "metadata": {},
   "outputs": [],
   "source": [
    "dl_train = samples[:-500].get_dataloader(batch_size = 64, shuffle = True)\n",
    "dl_valid = samples[-500:].get_dataloader(batch_size = 64)"
   ]
  },
  {
   "cell_type": "code",
   "execution_count": 33,
   "id": "c5811d37-d10b-49e8-a8ed-1e6d43caefa4",
   "metadata": {},
   "outputs": [],
   "source": [
    "network = Network()"
   ]
  },
  {
   "cell_type": "code",
   "execution_count": 34,
   "id": "41f7765b-45b8-4684-b820-4f75c9719857",
   "metadata": {},
   "outputs": [
    {
     "name": "stderr",
     "output_type": "stream",
     "text": [
      "\n",
      "  | Name      | Type                   | Params\n",
      "-----------------------------------------------------\n",
      "0 | logratios | LogRatioEstimator_1dim | 17.4 K\n",
      "-----------------------------------------------------\n",
      "17.4 K    Trainable params\n",
      "0         Non-trainable params\n",
      "17.4 K    Total params\n",
      "0.139     Total estimated model params size (MB)\n",
      "/home/weniger/miniconda3b/envs/zero/lib/python3.9/site-packages/pytorch_lightning/callbacks/model_checkpoint.py:631: UserWarning: Checkpoint directory /home/weniger/codes/swyft/notebooks/lightning_logs/version_9947768/checkpoints exists and is not empty.\n",
      "  rank_zero_warn(f\"Checkpoint directory {dirpath} exists and is not empty.\")\n"
     ]
    },
    {
     "name": "stdout",
     "output_type": "stream",
     "text": [
      "                                                              "
     ]
    },
    {
     "name": "stderr",
     "output_type": "stream",
     "text": [
      "/home/weniger/miniconda3b/envs/zero/lib/python3.9/site-packages/pytorch_lightning/trainer/data_loading.py:132: UserWarning: The dataloader, val_dataloader 0, does not have many workers which may be a bottleneck. Consider increasing the value of the `num_workers` argument` (try 24 which is the number of cpus on this machine) in the `DataLoader` init to improve performance.\n",
      "  rank_zero_warn(\n",
      "/home/weniger/miniconda3b/envs/zero/lib/python3.9/site-packages/pytorch_lightning/trainer/data_loading.py:132: UserWarning: The dataloader, train_dataloader, does not have many workers which may be a bottleneck. Consider increasing the value of the `num_workers` argument` (try 24 which is the number of cpus on this machine) in the `DataLoader` init to improve performance.\n",
      "  rank_zero_warn(\n"
     ]
    },
    {
     "name": "stdout",
     "output_type": "stream",
     "text": [
      "Epoch 0:  95%|█████████▍| 149/157 [00:01<00:00, 89.32it/s, loss=-0.843, v_num=9947768]\n",
      "Validating: 0it [00:00, ?it/s]\u001b[A\n",
      "Epoch 0: 100%|██████████| 157/157 [00:01<00:00, 92.28it/s, loss=-0.843, v_num=9947768, val_loss=-.779]\n",
      "Epoch 1:  96%|█████████▌| 150/157 [00:01<00:00, 89.80it/s, loss=-0.832, v_num=9947768, val_loss=-.779]\n",
      "Validating: 0it [00:00, ?it/s]\u001b[A\n",
      "Epoch 1: 100%|██████████| 157/157 [00:01<00:00, 92.22it/s, loss=-0.832, v_num=9947768, val_loss=-.799]\n",
      "Epoch 2:  96%|█████████▌| 150/157 [00:01<00:00, 89.53it/s, loss=-0.773, v_num=9947768, val_loss=-.799]\n",
      "Validating: 0it [00:00, ?it/s]\u001b[A\n",
      "Epoch 2: 100%|██████████| 157/157 [00:01<00:00, 91.86it/s, loss=-0.773, v_num=9947768, val_loss=-.786]\n",
      "Epoch 3:  96%|█████████▌| 150/157 [00:01<00:00, 87.33it/s, loss=-0.847, v_num=9947768, val_loss=-.786]\n",
      "Validating: 0it [00:00, ?it/s]\u001b[A\n",
      "Epoch 3: 100%|██████████| 157/157 [00:01<00:00, 89.74it/s, loss=-0.847, v_num=9947768, val_loss=-.794]\n",
      "Epoch 4:  96%|█████████▌| 150/157 [00:01<00:00, 86.49it/s, loss=-0.826, v_num=9947768, val_loss=-.794]\n",
      "Validating: 0it [00:00, ?it/s]\u001b[A\n",
      "Epoch 4: 100%|██████████| 157/157 [00:01<00:00, 88.85it/s, loss=-0.826, v_num=9947768, val_loss=-.789]\n",
      "Epoch 5:  96%|█████████▌| 150/157 [00:01<00:00, 89.35it/s, loss=-0.855, v_num=9947768, val_loss=-.789]\n",
      "Validating: 0it [00:00, ?it/s]\u001b[A\n",
      "Epoch 5: 100%|██████████| 157/157 [00:01<00:00, 91.75it/s, loss=-0.855, v_num=9947768, val_loss=-.796]\n",
      "Epoch 6:   1%|▏         | 2/157 [00:00<00:01, 85.29it/s, loss=-0.85, v_num=9947768, val_loss=-.796]   "
     ]
    },
    {
     "name": "stderr",
     "output_type": "stream",
     "text": [
      "/home/weniger/miniconda3b/envs/zero/lib/python3.9/site-packages/pytorch_lightning/trainer/trainer.py:688: UserWarning: Detected KeyboardInterrupt, attempting graceful shutdown...\n",
      "  rank_zero_warn(\"Detected KeyboardInterrupt, attempting graceful shutdown...\")\n"
     ]
    }
   ],
   "source": [
    "trainer.fit(network, dl_train, dl_valid)"
   ]
  },
  {
   "cell_type": "markdown",
   "id": "a7bd5cdf-d1d1-4bbc-b70a-387d8b0a22a3",
   "metadata": {},
   "source": [
    "## Inference"
   ]
  },
  {
   "cell_type": "markdown",
   "id": "0a2a76de-45c5-445b-b45d-80da8448f4d2",
   "metadata": {},
   "source": [
    "We assume that we measure the values $x=0.2$."
   ]
  },
  {
   "cell_type": "code",
   "execution_count": 35,
   "id": "841a27bb-f8fd-48ab-9504-d8881a4f6777",
   "metadata": {},
   "outputs": [],
   "source": [
    "x0 = 0.2"
   ]
  },
  {
   "cell_type": "markdown",
   "id": "9073fa35-376d-4cd4-bdd0-a5bad6443dcf",
   "metadata": {},
   "source": [
    "Below we will need that this is a `Sample` object."
   ]
  },
  {
   "cell_type": "code",
   "execution_count": 36,
   "id": "9e57adc9-5f6a-49a3-919d-41f570578d59",
   "metadata": {},
   "outputs": [],
   "source": [
    "A = swyft.Sample(x = np.array([x0]))"
   ]
  },
  {
   "cell_type": "markdown",
   "id": "ee9bdb3a-243f-4457-b826-d7ec967f0a98",
   "metadata": {},
   "source": [
    "We first generate a large number of prior samples."
   ]
  },
  {
   "cell_type": "code",
   "execution_count": 37,
   "id": "6ec1f09c-de11-4688-89bd-564f75a64bb8",
   "metadata": {},
   "outputs": [],
   "source": [
    "B = swyft.Samples(z = np.random.rand(1_000_000, 1)*2-1)"
   ]
  },
  {
   "cell_type": "markdown",
   "id": "1fc2a59b-a7b6-404a-ac72-d86d6b8a6185",
   "metadata": {},
   "source": [
    "Swyft provides the method `infer` in order to efficiently evaluate the inference network. That method takes either dataloaders or individual samples (i.e. dictionaries of tensors) as input.  This efficiently evaluates the ratio $r(x; z)$ for a large number of prior samples $z$ for a fixed values of $x$."
   ]
  },
  {
   "cell_type": "code",
   "execution_count": 39,
   "id": "6e1cbc13-ab64-43a8-acf0-4ab9f9c650f6",
   "metadata": {},
   "outputs": [
    {
     "name": "stdout",
     "output_type": "stream",
     "text": [
      "Predicting: 100%|██████████| 977/977 [00:09<00:00, 100.16it/s]\n"
     ]
    }
   ],
   "source": [
    "predictions = trainer.infer(network, A, B)"
   ]
  },
  {
   "cell_type": "code",
   "execution_count": 46,
   "id": "d53084fb-bb35-4fef-83e3-69d91fe1e01f",
   "metadata": {},
   "outputs": [
    {
     "data": {
      "text/plain": [
       "array(['z[0]'], dtype='<U4')"
      ]
     },
     "execution_count": 46,
     "metadata": {},
     "output_type": "execute_result"
    }
   ],
   "source": [
    "predictions.parnames[0]"
   ]
  },
  {
   "cell_type": "markdown",
   "id": "edebf21b-b0b6-4525-8bd2-7b9f25f76204",
   "metadata": {},
   "source": [
    "## Plot results\n",
    "\n",
    "First we obtain samples from the posterior, using subsampling with a weight that happens to be given by $e^r$."
   ]
  },
  {
   "cell_type": "code",
   "execution_count": 47,
   "id": "dbab5ad8-52d4-4932-a93c-989b59663e63",
   "metadata": {},
   "outputs": [
    {
     "data": {
      "text/plain": [
       "<matplotlib.legend.Legend at 0x14b782a6c3d0>"
      ]
     },
     "execution_count": 47,
     "metadata": {},
     "output_type": "execute_result"
    },
    {
     "data": {
      "image/png": "[encoded data removed]",
      "text/plain": [
       "<Figure size 432x288 with 1 Axes>"
      ]
     },
     "metadata": {
      "needs_background": "light"
     },
     "output_type": "display_data"
    }
   ],
   "source": [
    "# Plot swyft results\n",
    "plt.hist(predictions.params[:,0].numpy(), weights = predictions.weights.numpy(),\n",
    "         bins = 200, density = True, color = 'lightblue', label = \"Swyft\");\n",
    "plt.xlabel(predictions.parnames[0])\n",
    "\n",
    "# Compare with analytical result\n",
    "xn = np.linspace(-1, 1, 1000)\n",
    "yn = scipy.stats.norm.pdf(xn, x0, 0.1)\n",
    "plt.plot(xn, yn, 'k', label = \"Analytical answer\")\n",
    "plt.ylim([1e-6, yn.max()*1.1])\n",
    "#plt.yscale('log')\n",
    "plt.legend(loc=2)"
   ]
  },
  {
   "cell_type": "code",
   "execution_count": null,
   "id": "6eb7f407-7b5c-4dd6-b662-d62dc744f64a",
   "metadata": {},
   "outputs": [],
   "source": []
  }
 ],
 "metadata": {
  "kernelspec": {
   "display_name": "Python 3",
   "language": "python",
   "name": "python3"
  },
  "language_info": {
   "codemirror_mode": {
    "name": "ipython",
    "version": 3
   },
   "file_extension": ".py",
   "mimetype": "text/x-python",
   "name": "python",
   "nbconvert_exporter": "python",
   "pygments_lexer": "ipython3",
   "version": "3.9.7"
  }
 },
 "nbformat": 4,
 "nbformat_minor": 5
}
