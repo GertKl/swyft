{
 "cells": [
  {
   "cell_type": "markdown",
   "id": "d7227a5f-a3a7-49e2-aced-71f3bad525f6",
   "metadata": {},
   "source": [
    "# Swyft Simulator\n",
    "\n",
    "In this notebook, we will demonstrate how to generate training data using the `swyft.Simulator` class."
   ]
  },
  {
   "cell_type": "markdown",
   "id": "29ea7c81-1684-4af2-9631-7d133706e99c",
   "metadata": {},
   "source": [
    "## Setup\n",
    "\n",
    "First some imports."
   ]
  },
  {
   "cell_type": "code",
   "execution_count": 13,
   "id": "056737c2-4e99-4c43-b769-22e6c682330e",
   "metadata": {},
   "outputs": [],
   "source": [
    "import numpy as np\n",
    "from scipy import stats\n",
    "import pylab as plt\n",
    "import torch\n",
    "import swyft"
   ]
  },
  {
   "cell_type": "markdown",
   "id": "ffffb995-5a62-434f-9a4c-6223ff6017b7",
   "metadata": {},
   "source": [
    "## Definition of a simulator\n",
    "\n",
    "The simulator defines a forward model for generating samples.  This happens in the `forward` method, where we populate the `trace` with sampling instructions for the relevant variables."
   ]
  },
  {
   "cell_type": "code",
   "execution_count": 18,
   "id": "31e8f48c-f2d9-4649-8ce2-d8cf27ff6cad",
   "metadata": {},
   "outputs": [],
   "source": [
    "class Simulator(swyft.Simulator):\n",
    "    def __init__(self):\n",
    "        super().__init__()\n",
    "        self.on_after_forward = swyft.to_numpy32\n",
    "\n",
    "    def forward(self, trace):\n",
    "        z = trace.sample('z', lambda: np.random.rand(1))\n",
    "        x = trace.sample('x', lambda z: z + np.random.randn(1)*0.1, z)\n",
    "        \n",
    "sim = Simulator()"
   ]
  },
  {
   "cell_type": "markdown",
   "id": "3dfe3b24-72c4-4b9a-80bd-f23959438224",
   "metadata": {},
   "source": [
    "### Generating training data\n",
    "\n",
    "It is now simple to generate training data."
   ]
  },
  {
   "cell_type": "code",
   "execution_count": 19,
   "id": "c435cdc2-90c3-4a8e-9bfa-2a2adab92fd3",
   "metadata": {},
   "outputs": [
    {
     "name": "stderr",
     "output_type": "stream",
     "text": [
      "100%|██████████| 10000/10000 [00:00<00:00, 50832.35it/s]\n"
     ]
    }
   ],
   "source": [
    "samples = sim.sample(10000)"
   ]
  },
  {
   "cell_type": "markdown",
   "id": "1d69dc8e-b0d6-435a-a41f-ff19386a2b7b",
   "metadata": {},
   "source": [
    "Notice that the generated samples are single-precision, which is caused by the optional `on_after_forward` hook."
   ]
  },
  {
   "cell_type": "code",
   "execution_count": 21,
   "id": "bad9ec9f-40d7-450d-b1df-fd4cab18aaec",
   "metadata": {},
   "outputs": [
    {
     "data": {
      "text/plain": [
       "Samples({'z': array([[0.18097152],\n",
       "       [0.6321205 ],\n",
       "       [0.42921144]], dtype=float32), 'x': array([[0.24864887],\n",
       "       [0.6349443 ],\n",
       "       [0.33088908]], dtype=float32)})"
      ]
     },
     "execution_count": 21,
     "metadata": {},
     "output_type": "execute_result"
    }
   ],
   "source": [
    "samples[0:3]"
   ]
  },
  {
   "cell_type": "markdown",
   "id": "a285132c-e708-4d24-9552-0e763cef1ad1",
   "metadata": {
    "tags": []
   },
   "source": [
    "### Why a simulator class?"
   ]
  },
  {
   "cell_type": "markdown",
   "id": "2af4b6c4-7db1-498a-9806-74734b2f5f61",
   "metadata": {},
   "source": [
    "The simulator class defines the computational graph of the simulator model.  Sample statements in the simulator are lazily evaluated. That means that only those components in the calculational graph are evaluated that are necessary for a given task.\n",
    "\n",
    "As an example, we can use this to only generate samples for one of the variables."
   ]
  },
  {
   "cell_type": "code",
   "execution_count": 22,
   "id": "adb430fc-3477-4561-b9c5-52481d82ec25",
   "metadata": {},
   "outputs": [
    {
     "data": {
      "text/plain": [
       "Sample({'z': array([0.9259025], dtype=float32)})"
      ]
     },
     "execution_count": 22,
     "metadata": {},
     "output_type": "execute_result"
    }
   ],
   "source": [
    "sim.sample(targets = ['z'])"
   ]
  },
  {
   "cell_type": "markdown",
   "id": "d4f94912-3c43-4285-9dba-283e62de7e59",
   "metadata": {},
   "source": [
    "Or we can generate sample that are conditioned on certain variables."
   ]
  },
  {
   "cell_type": "code",
   "execution_count": 23,
   "id": "757a05cb-9595-48c5-9d45-697d443fe528",
   "metadata": {},
   "outputs": [
    {
     "data": {
      "text/plain": [
       "Sample({'z': array([1.], dtype=float32), 'x': array([1.1271212], dtype=float32)})"
      ]
     },
     "execution_count": 23,
     "metadata": {},
     "output_type": "execute_result"
    }
   ],
   "source": [
    "sim.sample(conditions = {'z': np.array([1.])})"
   ]
  },
  {
   "cell_type": "code",
   "execution_count": null,
   "id": "cfad1e99-8b12-4f4c-8c77-41e468145182",
   "metadata": {},
   "outputs": [],
   "source": []
  }
 ],
 "metadata": {
  "kernelspec": {
   "display_name": "Python 3",
   "language": "python",
   "name": "python3"
  },
  "language_info": {
   "codemirror_mode": {
    "name": "ipython",
    "version": 3
   },
   "file_extension": ".py",
   "mimetype": "text/x-python",
   "name": "python",
   "nbconvert_exporter": "python",
   "pygments_lexer": "ipython3",
   "version": "3.9.7"
  }
 },
 "nbformat": 4,
 "nbformat_minor": 5
}
