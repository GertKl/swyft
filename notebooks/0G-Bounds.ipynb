{
 "cells": [
  {
   "cell_type": "markdown",
   "id": "b4c7a3f1-ab43-432e-a64f-b7f1358a24da",
   "metadata": {},
   "source": [
    "# Bounds\n",
    "\n",
    "First we need some imports."
   ]
  },
  {
   "cell_type": "code",
   "execution_count": 1,
   "id": "8e9d04e5-d08e-46ab-a520-4547dedf0487",
   "metadata": {},
   "outputs": [],
   "source": [
    "%load_ext autoreload\n",
    "%autoreload 2"
   ]
  },
  {
   "cell_type": "code",
   "execution_count": 2,
   "id": "0297c907",
   "metadata": {},
   "outputs": [],
   "source": [
    "import numpy as np\n",
    "from scipy import stats\n",
    "import pylab as plt\n",
    "import torch\n",
    "import torchist\n",
    "import swyft\n",
    "import pytorch_lightning as pl"
   ]
  },
  {
   "cell_type": "markdown",
   "id": "ab99366b-0783-46f5-be2d-80cbbb85e163",
   "metadata": {
    "tags": []
   },
   "source": [
    "## Training data\n",
    "\n",
    "Now we generate training data.  As simple example, we consider the model\n",
    "\n",
    "$$\n",
    "x = z + \\epsilon\n",
    "$$\n",
    "\n",
    "where the parameter $z \\sim \\mathcal{N}(\\mu = 0, \\sigma = 1)$ is standard normal distributed, and $\\epsilon \\sim \\mathcal{N}(\\mu = 0, \\sigma = 0.1)$ is a small noise contribution.  We are interested in the posterior of $z$ given a measurement of parameter $x$."
   ]
  },
  {
   "cell_type": "code",
   "execution_count": 3,
   "id": "c0439f14-d49f-4e52-8916-49a785daede5",
   "metadata": {},
   "outputs": [],
   "source": [
    "class Simulator(swyft.Simulator):\n",
    "    def __init__(self, bounds = None):\n",
    "        super().__init__()\n",
    "        self.transform_samples = swyft.to_numpy32\n",
    "        self.z_sampler = swyft.RectBoundSampler(stats.norm([0], [1]), bounds = bounds.params[0,0] if bounds else None)\n",
    "\n",
    "    def forward(self, trace):\n",
    "        z = trace.sample('z', self.z_sampler)\n",
    "        x = trace.sample('x', lambda z: z + np.random.randn(1)*0.1, z)\n",
    "        \n",
    "sim = Simulator(bounds = None)"
   ]
  },
  {
   "cell_type": "code",
   "execution_count": 4,
   "id": "4a1ed06f-9bbe-460d-bda3-400a3eaee6f5",
   "metadata": {},
   "outputs": [
    {
     "name": "stderr",
     "output_type": "stream",
     "text": [
      "100%|██████████| 10000/10000 [00:08<00:00, 1218.33it/s]\n"
     ]
    }
   ],
   "source": [
    "samples = sim.sample(10000)"
   ]
  },
  {
   "cell_type": "code",
   "execution_count": 5,
   "id": "3e6dc7e9-ff0a-479d-a4e8-fd8025717327",
   "metadata": {},
   "outputs": [],
   "source": [
    "class Network(swyft.SwyftModule):\n",
    "    def __init__(self):\n",
    "        super().__init__()\n",
    "        self.logratios = swyft.LogRatioEstimator_1dim(num_features = 1, num_params = 1, varnames = 'z')\n",
    "\n",
    "    def forward(self, A, B):\n",
    "        logratios = self.logratios(A['x'], B['z'])\n",
    "        return logratios"
   ]
  },
  {
   "cell_type": "markdown",
   "id": "2554dbed-fc91-45d2-bfa7-418cdaad67b6",
   "metadata": {},
   "source": [
    "## Trainer\n",
    "\n",
    "Training is now done using the `SwyftTrainer` class, which extends `pytorch_lightning.Trainer` by methods like `infer` (see below)."
   ]
  },
  {
   "cell_type": "code",
   "execution_count": 8,
   "id": "5683ce37-a8d0-4ed7-94a6-512ccc7babcb",
   "metadata": {},
   "outputs": [
    {
     "name": "stderr",
     "output_type": "stream",
     "text": [
      "GPU available: True (cuda), used: True\n",
      "TPU available: False, using: 0 TPU cores\n",
      "IPU available: False, using: 0 IPUs\n",
      "HPU available: False, using: 0 HPUs\n"
     ]
    }
   ],
   "source": [
    "model_checkpoint = pl.callbacks.ModelCheckpoint(monitor = 'val_loss', save_top_k = 1)\n",
    "logger = pl.loggers.TensorBoardLogger(\"./lightning_logs\", name = \"Test1\")\n",
    "trainer = swyft.SwyftTrainer(accelerator = 'gpu', max_epochs = 20, precision = 64, logger = logger, callbacks = [model_checkpoint])"
   ]
  },
  {
   "cell_type": "markdown",
   "id": "053eff99-5d2b-4419-bce7-d938831b623e",
   "metadata": {},
   "source": [
    "The `swyft.Samples` class provides convenience functions to generate data loaders for training and validation data."
   ]
  },
  {
   "cell_type": "code",
   "execution_count": 9,
   "id": "b1b09c64-a0e4-4d69-a639-a5843efac80c",
   "metadata": {},
   "outputs": [],
   "source": [
    "dm = swyft.SwyftDataModule(samples, fractions = [0.8, 0.02, 0.1], num_workers = 3, batch_size = 256)"
   ]
  },
  {
   "cell_type": "code",
   "execution_count": 10,
   "id": "c5811d37-d10b-49e8-a8ed-1e6d43caefa4",
   "metadata": {},
   "outputs": [],
   "source": [
    "network = Network()"
   ]
  },
  {
   "cell_type": "code",
   "execution_count": 11,
   "id": "41f7765b-45b8-4684-b820-4f75c9719857",
   "metadata": {},
   "outputs": [
    {
     "name": "stderr",
     "output_type": "stream",
     "text": [
      "LOCAL_RANK: 0 - CUDA_VISIBLE_DEVICES: [0]\n",
      "\n",
      "  | Name      | Type                   | Params\n",
      "-----------------------------------------------------\n",
      "0 | logratios | LogRatioEstimator_1dim | 17.4 K\n",
      "-----------------------------------------------------\n",
      "17.4 K    Trainable params\n",
      "0         Non-trainable params\n",
      "17.4 K    Total params\n",
      "0.139     Total estimated model params size (MB)\n"
     ]
    },
    {
     "name": "stdout",
     "output_type": "stream",
     "text": [
      "                                                                           "
     ]
    },
    {
     "name": "stderr",
     "output_type": "stream",
     "text": [
      "/home/weniger/miniconda3b/envs/zero/lib/python3.9/site-packages/pytorch_lightning/trainer/trainer.py:1894: PossibleUserWarning: The number of training batches (34) is smaller than the logging interval Trainer(log_every_n_steps=50). Set a lower value for log_every_n_steps if you want to see logs for the training epoch.\n",
      "  rank_zero_warn(\n"
     ]
    },
    {
     "name": "stdout",
     "output_type": "stream",
     "text": [
      "Epoch 0:  97%|█████████▋| 34/35 [00:00<00:00, 53.36it/s, loss=-0.944, v_num=52] \n",
      "Validation: 0it [00:00, ?it/s]\u001b[A\n",
      "Validation:   0%|          | 0/1 [00:00<?, ?it/s]\u001b[A\n",
      "Validation DataLoader 0:   0%|          | 0/1 [00:00<?, ?it/s]\u001b[A\n",
      "Epoch 0: 100%|██████████| 35/35 [00:00<00:00, 38.22it/s, loss=-0.944, v_num=52, val_loss=-.670]\n",
      "Epoch 1:  97%|█████████▋| 34/35 [00:00<00:00, 50.52it/s, loss=-0.955, v_num=52, val_loss=-.670]\n",
      "Validation: 0it [00:00, ?it/s]\u001b[A\n",
      "Validation:   0%|          | 0/1 [00:00<?, ?it/s]\u001b[A\n",
      "Validation DataLoader 0:   0%|          | 0/1 [00:00<?, ?it/s]\u001b[A\n",
      "Epoch 1: 100%|██████████| 35/35 [00:00<00:00, 36.98it/s, loss=-0.955, v_num=52, val_loss=-1.04]\n",
      "Epoch 2:  97%|█████████▋| 34/35 [00:00<00:00, 55.22it/s, loss=-0.985, v_num=52, val_loss=-1.04]\n",
      "Validation: 0it [00:00, ?it/s]\u001b[A\n",
      "Validation:   0%|          | 0/1 [00:00<?, ?it/s]\u001b[A\n",
      "Validation DataLoader 0:   0%|          | 0/1 [00:00<?, ?it/s]\u001b[A\n",
      "Epoch 2: 100%|██████████| 35/35 [00:00<00:00, 37.39it/s, loss=-0.985, v_num=52, val_loss=-1.05]\n",
      "Epoch 3:  97%|█████████▋| 34/35 [00:00<00:00, 57.51it/s, loss=-0.98, v_num=52, val_loss=-1.05] \n",
      "Validation: 0it [00:00, ?it/s]\u001b[A\n",
      "Validation:   0%|          | 0/1 [00:00<?, ?it/s]\u001b[A\n",
      "Validation DataLoader 0:   0%|          | 0/1 [00:00<?, ?it/s]\u001b[A\n",
      "Epoch 3: 100%|██████████| 35/35 [00:00<00:00, 42.78it/s, loss=-0.98, v_num=52, val_loss=-1.06]\n",
      "Epoch 4:  97%|█████████▋| 34/35 [00:00<00:00, 57.51it/s, loss=-0.978, v_num=52, val_loss=-1.06]\n",
      "Validation: 0it [00:00, ?it/s]\u001b[A\n",
      "Validation:   0%|          | 0/1 [00:00<?, ?it/s]\u001b[A\n",
      "Validation DataLoader 0:   0%|          | 0/1 [00:00<?, ?it/s]\u001b[A\n",
      "Epoch 4: 100%|██████████| 35/35 [00:00<00:00, 36.01it/s, loss=-0.978, v_num=52, val_loss=-1.05]\n",
      "Epoch 5:  97%|█████████▋| 34/35 [00:00<00:00, 55.00it/s, loss=-0.973, v_num=52, val_loss=-1.05]\n",
      "Validation: 0it [00:00, ?it/s]\u001b[A\n",
      "Validation:   0%|          | 0/1 [00:00<?, ?it/s]\u001b[A\n",
      "Validation DataLoader 0:   0%|          | 0/1 [00:00<?, ?it/s]\u001b[A\n",
      "Epoch 5: 100%|██████████| 35/35 [00:00<00:00, 36.17it/s, loss=-0.973, v_num=52, val_loss=-1.06]\n",
      "Epoch 6:  97%|█████████▋| 34/35 [00:00<00:00, 54.89it/s, loss=-0.966, v_num=52, val_loss=-1.06]\n",
      "Validation: 0it [00:00, ?it/s]\u001b[A\n",
      "Validation:   0%|          | 0/1 [00:00<?, ?it/s]\u001b[A\n",
      "Validation DataLoader 0:   0%|          | 0/1 [00:00<?, ?it/s]\u001b[A\n",
      "Epoch 6: 100%|██████████| 35/35 [00:00<00:00, 37.33it/s, loss=-0.966, v_num=52, val_loss=-1.05]\n",
      "Epoch 7:  97%|█████████▋| 34/35 [00:00<00:00, 52.98it/s, loss=-0.972, v_num=52, val_loss=-1.05]\n",
      "Validation: 0it [00:00, ?it/s]\u001b[A\n",
      "Validation:   0%|          | 0/1 [00:00<?, ?it/s]\u001b[A\n",
      "Validation DataLoader 0:   0%|          | 0/1 [00:00<?, ?it/s]\u001b[A\n",
      "Epoch 7: 100%|██████████| 35/35 [00:00<00:00, 36.41it/s, loss=-0.972, v_num=52, val_loss=-1.06]\n",
      "Epoch 8:  97%|█████████▋| 34/35 [00:00<00:00, 50.54it/s, loss=-0.993, v_num=52, val_loss=-1.06]\n",
      "Validation: 0it [00:00, ?it/s]\u001b[A\n",
      "Validation:   0%|          | 0/1 [00:00<?, ?it/s]\u001b[A\n",
      "Validation DataLoader 0:   0%|          | 0/1 [00:00<?, ?it/s]\u001b[A\n",
      "Epoch 8: 100%|██████████| 35/35 [00:01<00:00, 34.02it/s, loss=-0.993, v_num=52, val_loss=-1.07]\n",
      "Epoch 9:  97%|█████████▋| 34/35 [00:00<00:00, 47.71it/s, loss=-0.973, v_num=52, val_loss=-1.07]\n",
      "Validation: 0it [00:00, ?it/s]\u001b[A\n",
      "Validation:   0%|          | 0/1 [00:00<?, ?it/s]\u001b[A\n",
      "Validation DataLoader 0:   0%|          | 0/1 [00:00<?, ?it/s]\u001b[A\n",
      "Epoch 9: 100%|██████████| 35/35 [00:01<00:00, 34.52it/s, loss=-0.973, v_num=52, val_loss=-1.06]\n",
      "Epoch 10:  97%|█████████▋| 34/35 [00:00<00:00, 46.10it/s, loss=-0.975, v_num=52, val_loss=-1.06]\n",
      "Validation: 0it [00:00, ?it/s]\u001b[A\n",
      "Validation:   0%|          | 0/1 [00:00<?, ?it/s]\u001b[A\n",
      "Validation DataLoader 0:   0%|          | 0/1 [00:00<?, ?it/s]\u001b[A\n",
      "Epoch 10: 100%|██████████| 35/35 [00:01<00:00, 33.09it/s, loss=-0.975, v_num=52, val_loss=-1.06]\n",
      "Epoch 11:  97%|█████████▋| 34/35 [00:00<00:00, 50.15it/s, loss=-0.964, v_num=52, val_loss=-1.06]\n",
      "Validation: 0it [00:00, ?it/s]\u001b[A\n",
      "Validation:   0%|          | 0/1 [00:00<?, ?it/s]\u001b[A\n",
      "Validation DataLoader 0:   0%|          | 0/1 [00:00<?, ?it/s]\u001b[A\n",
      "Epoch 11: 100%|██████████| 35/35 [00:00<00:00, 35.60it/s, loss=-0.964, v_num=52, val_loss=-1.06]\n",
      "Epoch 12:  97%|█████████▋| 34/35 [00:00<00:00, 48.80it/s, loss=-0.995, v_num=52, val_loss=-1.06]\n",
      "Validation: 0it [00:00, ?it/s]\u001b[A\n",
      "Validation:   0%|          | 0/1 [00:00<?, ?it/s]\u001b[A\n",
      "Validation DataLoader 0:   0%|          | 0/1 [00:00<?, ?it/s]\u001b[A\n",
      "Epoch 12: 100%|██████████| 35/35 [00:00<00:00, 36.03it/s, loss=-0.995, v_num=52, val_loss=-1.06]\n",
      "Epoch 13:  97%|█████████▋| 34/35 [00:00<00:00, 40.26it/s, loss=-0.961, v_num=52, val_loss=-1.06]\n",
      "Validation: 0it [00:00, ?it/s]\u001b[A\n",
      "Validation:   0%|          | 0/1 [00:00<?, ?it/s]\u001b[A\n",
      "Validation DataLoader 0:   0%|          | 0/1 [00:00<?, ?it/s]\u001b[A\n",
      "Epoch 13: 100%|██████████| 35/35 [00:01<00:00, 31.12it/s, loss=-0.961, v_num=52, val_loss=-1.06]\n",
      "Epoch 14:  97%|█████████▋| 34/35 [00:00<00:00, 45.95it/s, loss=-1, v_num=52, val_loss=-1.06]    \n",
      "Validation: 0it [00:00, ?it/s]\u001b[A\n",
      "Validation:   0%|          | 0/1 [00:00<?, ?it/s]\u001b[A\n",
      "Validation DataLoader 0:   0%|          | 0/1 [00:00<?, ?it/s]\u001b[A\n",
      "Epoch 14: 100%|██████████| 35/35 [00:01<00:00, 34.04it/s, loss=-1, v_num=52, val_loss=-1.06]\n",
      "Epoch 15:  97%|█████████▋| 34/35 [00:00<00:00, 53.64it/s, loss=-0.978, v_num=52, val_loss=-1.06]\n",
      "Validation: 0it [00:00, ?it/s]\u001b[A\n",
      "Validation:   0%|          | 0/1 [00:00<?, ?it/s]\u001b[A\n",
      "Validation DataLoader 0:   0%|          | 0/1 [00:00<?, ?it/s]\u001b[A\n",
      "Epoch 15: 100%|██████████| 35/35 [00:00<00:00, 35.96it/s, loss=-0.978, v_num=52, val_loss=-1.06]\n",
      "Epoch 16:  97%|█████████▋| 34/35 [00:00<00:00, 52.88it/s, loss=-0.984, v_num=52, val_loss=-1.06]\n",
      "Validation: 0it [00:00, ?it/s]\u001b[A\n",
      "Validation:   0%|          | 0/1 [00:00<?, ?it/s]\u001b[A\n",
      "Validation DataLoader 0:   0%|          | 0/1 [00:00<?, ?it/s]\u001b[A\n",
      "Epoch 16: 100%|██████████| 35/35 [00:00<00:00, 37.91it/s, loss=-0.984, v_num=52, val_loss=-1.06]\n",
      "Epoch 17:  97%|█████████▋| 34/35 [00:00<00:00, 49.71it/s, loss=-0.971, v_num=52, val_loss=-1.06]\n",
      "Validation: 0it [00:00, ?it/s]\u001b[A\n",
      "Validation:   0%|          | 0/1 [00:00<?, ?it/s]\u001b[A\n",
      "Validation DataLoader 0:   0%|          | 0/1 [00:00<?, ?it/s]\u001b[A\n",
      "Epoch 17: 100%|██████████| 35/35 [00:01<00:00, 34.04it/s, loss=-0.971, v_num=52, val_loss=-1.06]\n",
      "Epoch 18:  97%|█████████▋| 34/35 [00:00<00:00, 52.16it/s, loss=-0.967, v_num=52, val_loss=-1.06]\n",
      "Validation: 0it [00:00, ?it/s]\u001b[A\n",
      "Validation:   0%|          | 0/1 [00:00<?, ?it/s]\u001b[A\n",
      "Validation DataLoader 0:   0%|          | 0/1 [00:00<?, ?it/s]\u001b[A\n",
      "Epoch 18: 100%|██████████| 35/35 [00:01<00:00, 33.88it/s, loss=-0.967, v_num=52, val_loss=-1.06]\n",
      "Epoch 19:  97%|█████████▋| 34/35 [00:00<00:00, 48.15it/s, loss=-0.971, v_num=52, val_loss=-1.06]\n",
      "Validation: 0it [00:00, ?it/s]\u001b[A\n",
      "Validation:   0%|          | 0/1 [00:00<?, ?it/s]\u001b[A\n",
      "Validation DataLoader 0:   0%|          | 0/1 [00:00<?, ?it/s]\u001b[A\n",
      "Epoch 19: 100%|██████████| 35/35 [00:00<00:00, 36.24it/s, loss=-0.971, v_num=52, val_loss=-1.06]\n",
      "Epoch 19: 100%|██████████| 35/35 [00:00<00:00, 35.71it/s, loss=-0.971, v_num=52, val_loss=-1.06]"
     ]
    },
    {
     "name": "stderr",
     "output_type": "stream",
     "text": [
      "`Trainer.fit` stopped: `max_epochs=20` reached.\n"
     ]
    },
    {
     "name": "stdout",
     "output_type": "stream",
     "text": [
      "Epoch 19: 100%|██████████| 35/35 [00:00<00:00, 35.56it/s, loss=-0.971, v_num=52, val_loss=-1.06]\n"
     ]
    }
   ],
   "source": [
    "trainer.fit(network, dm)"
   ]
  },
  {
   "cell_type": "code",
   "execution_count": 12,
   "id": "6712af91-b48c-4ab8-b9ca-a6bacd31d3de",
   "metadata": {},
   "outputs": [
    {
     "name": "stderr",
     "output_type": "stream",
     "text": [
      "100%|██████████| 10000/10000 [00:08<00:00, 1207.75it/s]\n"
     ]
    }
   ],
   "source": [
    "prior_samples = sim.sample(N = 10000, targets = ['z'])"
   ]
  },
  {
   "cell_type": "code",
   "execution_count": 13,
   "id": "796e5339-1473-40cb-8183-54a7ef22d118",
   "metadata": {},
   "outputs": [],
   "source": [
    "obs = swyft.Sample(x = np.array([0.3]))"
   ]
  },
  {
   "cell_type": "code",
   "execution_count": 14,
   "id": "2f38bf37-5a4d-4a4a-a680-17312f8ab9ce",
   "metadata": {},
   "outputs": [
    {
     "name": "stderr",
     "output_type": "stream",
     "text": [
      "LOCAL_RANK: 0 - CUDA_VISIBLE_DEVICES: [0]\n"
     ]
    },
    {
     "name": "stdout",
     "output_type": "stream",
     "text": [
      "Predicting DataLoader 0: 100%|██████████| 10/10 [00:00<00:00, 127.90it/s]\n"
     ]
    },
    {
     "name": "stderr",
     "output_type": "stream",
     "text": [
      "/home/weniger/miniconda3b/envs/zero/lib/python3.9/site-packages/pytorch_lightning/loops/epoch/prediction_epoch_loop.py:173: UserWarning: Lightning couldn't infer the indices fetched for your dataloader.\n",
      "  warning_cache.warn(\"Lightning couldn't infer the indices fetched for your dataloader.\")\n"
     ]
    }
   ],
   "source": [
    "logratios = trainer.infer(network, obs, prior_samples)"
   ]
  },
  {
   "cell_type": "code",
   "execution_count": 15,
   "id": "9ecf1e03-0ae4-4f82-a8b0-f166b97093eb",
   "metadata": {},
   "outputs": [
    {
     "data": {
      "image/png": "[encoded data removed]",
      "text/plain": [
       "<Figure size 432x288 with 1 Axes>"
      ]
     },
     "metadata": {
      "needs_background": "light"
     },
     "output_type": "display_data"
    }
   ],
   "source": [
    "swyft.plot_1d(logratios, \"z[0]\", ax = plt.gca(), smooth = 1, bins = 30)"
   ]
  },
  {
   "cell_type": "code",
   "execution_count": 16,
   "id": "0a245da6-52a0-48d4-abb6-c3431f77d46a",
   "metadata": {},
   "outputs": [
    {
     "data": {
      "text/plain": [
       "RectangleBounds(params=tensor([[[-1.8097,  2.2581]]], dtype=torch.float64), parnames=array([['z[0]']], dtype='<U4'))"
      ]
     },
     "execution_count": 16,
     "metadata": {},
     "output_type": "execute_result"
    }
   ],
   "source": [
    "bounds = swyft.lightning.bounds.get_rect_bounds(logratios, threshold = 1e-6)\n",
    "bounds"
   ]
  },
  {
   "cell_type": "code",
   "execution_count": null,
   "id": "15f609f4-6b40-4a57-8632-da7f638e1317",
   "metadata": {},
   "outputs": [],
   "source": []
  }
 ],
 "metadata": {
  "kernelspec": {
   "display_name": "Python 3",
   "language": "python",
   "name": "python3"
  },
  "language_info": {
   "codemirror_mode": {
    "name": "ipython",
    "version": 3
   },
   "file_extension": ".py",
   "mimetype": "text/x-python",
   "name": "python",
   "nbconvert_exporter": "python",
   "pygments_lexer": "ipython3",
   "version": "3.9.7"
  }
 },
 "nbformat": 4,
 "nbformat_minor": 5
}
