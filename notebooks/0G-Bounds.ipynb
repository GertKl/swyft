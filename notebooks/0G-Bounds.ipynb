{
 "cells": [
  {
   "cell_type": "markdown",
   "id": "b4c7a3f1-ab43-432e-a64f-b7f1358a24da",
   "metadata": {},
   "source": [
    "# Bounds\n",
    "\n",
    "First we need some imports."
   ]
  },
  {
   "cell_type": "code",
   "execution_count": 39,
   "id": "8e9d04e5-d08e-46ab-a520-4547dedf0487",
   "metadata": {},
   "outputs": [
    {
     "name": "stdout",
     "output_type": "stream",
     "text": [
      "The autoreload extension is already loaded. To reload it, use:\n",
      "  %reload_ext autoreload\n"
     ]
    }
   ],
   "source": [
    "%load_ext autoreload\n",
    "%autoreload 2"
   ]
  },
  {
   "cell_type": "code",
   "execution_count": 40,
   "id": "0297c907",
   "metadata": {},
   "outputs": [],
   "source": [
    "import numpy as np\n",
    "from scipy import stats\n",
    "import pylab as plt\n",
    "import torch\n",
    "import torchist\n",
    "import swyft\n",
    "\n",
    "from pytorch_lightning.callbacks import ModelCheckpoint\n",
    "from pytorch_lightning.loggers import TensorBoardLogger"
   ]
  },
  {
   "cell_type": "markdown",
   "id": "ab99366b-0783-46f5-be2d-80cbbb85e163",
   "metadata": {
    "tags": []
   },
   "source": [
    "## Training data\n",
    "\n",
    "Now we generate training data.  As simple example, we consider the model\n",
    "\n",
    "$$\n",
    "x = z + \\epsilon\n",
    "$$\n",
    "\n",
    "where the parameter $z \\sim \\mathcal{N}(\\mu = 0, \\sigma = 1)$ is standard normal distributed, and $\\epsilon \\sim \\mathcal{N}(\\mu = 0, \\sigma = 0.1)$ is a small noise contribution.  We are interested in the posterior of $z$ given a measurement of parameter $x$."
   ]
  },
  {
   "cell_type": "code",
   "execution_count": 41,
   "id": "c0439f14-d49f-4e52-8916-49a785daede5",
   "metadata": {},
   "outputs": [],
   "source": [
    "class Simulator(swyft.Simulator):\n",
    "    def __init__(self, bounds = None):\n",
    "        super().__init__()\n",
    "        self.on_after_forward = swyft.to_numpy32\n",
    "        self.z_sampler = swyft.RectBoundSampler(stats.norm([0], [1]), bounds = bounds.params[0,0] if bounds else None)\n",
    "\n",
    "    def forward(self, trace):\n",
    "        z = trace.sample('z', self.z_sampler)\n",
    "        x = trace.sample('x', lambda z: z + np.random.randn(1)*0.1, z)\n",
    "        \n",
    "sim = Simulator(bounds = bounds)"
   ]
  },
  {
   "cell_type": "code",
   "execution_count": 42,
   "id": "4a1ed06f-9bbe-460d-bda3-400a3eaee6f5",
   "metadata": {},
   "outputs": [
    {
     "name": "stderr",
     "output_type": "stream",
     "text": [
      "100%|██████████| 10000/10000 [00:07<00:00, 1305.11it/s]\n"
     ]
    }
   ],
   "source": [
    "samples = sim.sample(10000)"
   ]
  },
  {
   "cell_type": "code",
   "execution_count": 43,
   "id": "3e6dc7e9-ff0a-479d-a4e8-fd8025717327",
   "metadata": {},
   "outputs": [],
   "source": [
    "class Network(swyft.SwyftModule):\n",
    "    def __init__(self):\n",
    "        super().__init__(lr = 1e-3, lrs_factor = 0.1, lrs_patience = 3, early_stopping_patience = 2)\n",
    "        self.logratios = swyft.LogRatioEstimator_1dim(num_features = 1, num_params = 1, varnames = 'z')\n",
    "\n",
    "    def forward(self, A, B):\n",
    "        logratios = self.logratios(A['x'], B['z'])\n",
    "        return logratios"
   ]
  },
  {
   "cell_type": "markdown",
   "id": "2554dbed-fc91-45d2-bfa7-418cdaad67b6",
   "metadata": {},
   "source": [
    "## Trainer\n",
    "\n",
    "Training is now done using the `SwyftTrainer` class, which extends `pytorch_lightning.Trainer` by methods like `infer` (see below)."
   ]
  },
  {
   "cell_type": "code",
   "execution_count": 44,
   "id": "5683ce37-a8d0-4ed7-94a6-512ccc7babcb",
   "metadata": {},
   "outputs": [
    {
     "name": "stderr",
     "output_type": "stream",
     "text": [
      "GPU available: True, used: True\n",
      "TPU available: False, using: 0 TPU cores\n",
      "IPU available: False, using: 0 IPUs\n"
     ]
    }
   ],
   "source": [
    "model_checkpoint = ModelCheckpoint(monitor = 'val_loss', save_top_k = 1)\n",
    "logger = TensorBoardLogger(\"./lightning_logs\", name = \"Test1\")\n",
    "trainer = swyft.SwyftTrainer(accelerator = 'gpu', gpus=1, max_epochs = 20, precision = 64, logger = logger, callbacks = [model_checkpoint])"
   ]
  },
  {
   "cell_type": "markdown",
   "id": "053eff99-5d2b-4419-bce7-d938831b623e",
   "metadata": {},
   "source": [
    "The `swyft.Samples` class provides convenience functions to generate data loaders for training and validation data."
   ]
  },
  {
   "cell_type": "code",
   "execution_count": 45,
   "id": "b1b09c64-a0e4-4d69-a639-a5843efac80c",
   "metadata": {},
   "outputs": [],
   "source": [
    "dl_train = samples[:-2000].get_dataloader(batch_size = 128, shuffle = True)\n",
    "dl_valid = samples[-2000:].get_dataloader(batch_size = 128)"
   ]
  },
  {
   "cell_type": "code",
   "execution_count": 46,
   "id": "c5811d37-d10b-49e8-a8ed-1e6d43caefa4",
   "metadata": {},
   "outputs": [],
   "source": [
    "network = Network()"
   ]
  },
  {
   "cell_type": "code",
   "execution_count": 47,
   "id": "41f7765b-45b8-4684-b820-4f75c9719857",
   "metadata": {},
   "outputs": [
    {
     "name": "stderr",
     "output_type": "stream",
     "text": [
      "LOCAL_RANK: 0 - CUDA_VISIBLE_DEVICES: [0]\n",
      "\n",
      "  | Name      | Type                   | Params\n",
      "-----------------------------------------------------\n",
      "0 | logratios | LogRatioEstimator_1dim | 17.4 K\n",
      "-----------------------------------------------------\n",
      "17.4 K    Trainable params\n",
      "0         Non-trainable params\n",
      "17.4 K    Total params\n",
      "0.139     Total estimated model params size (MB)\n"
     ]
    },
    {
     "name": "stdout",
     "output_type": "stream",
     "text": [
      "                                                              "
     ]
    },
    {
     "name": "stderr",
     "output_type": "stream",
     "text": [
      "/home/weniger/miniconda3b/envs/zero/lib/python3.9/site-packages/pytorch_lightning/trainer/data_loading.py:132: UserWarning: The dataloader, val_dataloader 0, does not have many workers which may be a bottleneck. Consider increasing the value of the `num_workers` argument` (try 24 which is the number of cpus on this machine) in the `DataLoader` init to improve performance.\n",
      "  rank_zero_warn(\n",
      "/home/weniger/miniconda3b/envs/zero/lib/python3.9/site-packages/pytorch_lightning/trainer/data_loading.py:132: UserWarning: The dataloader, train_dataloader, does not have many workers which may be a bottleneck. Consider increasing the value of the `num_workers` argument` (try 24 which is the number of cpus on this machine) in the `DataLoader` init to improve performance.\n",
      "  rank_zero_warn(\n"
     ]
    },
    {
     "name": "stdout",
     "output_type": "stream",
     "text": [
      "Epoch 0:  80%|███████▉  | 63/79 [00:00<00:00, 134.48it/s, loss=-0.63, v_num=45] \n",
      "Validating: 0it [00:00, ?it/s]\u001b[A\n",
      "Epoch 0: 100%|██████████| 79/79 [00:00<00:00, 152.46it/s, loss=-0.63, v_num=45, val_loss=-.580]\n",
      "Epoch 1:  80%|███████▉  | 63/79 [00:00<00:00, 113.45it/s, loss=-0.633, v_num=45, val_loss=-.580]\n",
      "Validating: 0it [00:00, ?it/s]\u001b[A\n",
      "Epoch 1: 100%|██████████| 79/79 [00:00<00:00, 130.70it/s, loss=-0.633, v_num=45, val_loss=-.604]\n",
      "Epoch 2:  80%|███████▉  | 63/79 [00:00<00:00, 128.63it/s, loss=-0.596, v_num=45, val_loss=-.604]\n",
      "Validating: 0it [00:00, ?it/s]\u001b[A\n",
      "Epoch 2: 100%|██████████| 79/79 [00:00<00:00, 146.51it/s, loss=-0.596, v_num=45, val_loss=-.608]\n",
      "Epoch 3:  80%|███████▉  | 63/79 [00:00<00:00, 107.24it/s, loss=-0.63, v_num=45, val_loss=-.608] \n",
      "Validating: 0it [00:00, ?it/s]\u001b[A\n",
      "Epoch 3: 100%|██████████| 79/79 [00:00<00:00, 123.88it/s, loss=-0.63, v_num=45, val_loss=-.600]\n",
      "Epoch 4:  80%|███████▉  | 63/79 [00:00<00:00, 131.85it/s, loss=-0.635, v_num=45, val_loss=-.600]\n",
      "Validating: 0it [00:00, ?it/s]\u001b[A\n",
      "Epoch 4: 100%|██████████| 79/79 [00:00<00:00, 149.71it/s, loss=-0.635, v_num=45, val_loss=-.610]\n",
      "Epoch 5:  80%|███████▉  | 63/79 [00:00<00:00, 134.76it/s, loss=-0.635, v_num=45, val_loss=-.610]\n",
      "Validating: 0it [00:00, ?it/s]\u001b[A\n",
      "Epoch 5: 100%|██████████| 79/79 [00:00<00:00, 152.65it/s, loss=-0.635, v_num=45, val_loss=-.608]\n",
      "Epoch 6:  80%|███████▉  | 63/79 [00:00<00:00, 118.00it/s, loss=-0.621, v_num=45, val_loss=-.608]\n",
      "Validating: 0it [00:00, ?it/s]\u001b[A\n",
      "Epoch 6: 100%|██████████| 79/79 [00:00<00:00, 135.50it/s, loss=-0.621, v_num=45, val_loss=-.611]\n",
      "Epoch 7:  80%|███████▉  | 63/79 [00:00<00:00, 115.83it/s, loss=-0.613, v_num=45, val_loss=-.611]\n",
      "Validating: 0it [00:00, ?it/s]\u001b[A\n",
      "Epoch 7: 100%|██████████| 79/79 [00:00<00:00, 132.19it/s, loss=-0.613, v_num=45, val_loss=-.606]\n",
      "Epoch 8:  80%|███████▉  | 63/79 [00:00<00:00, 112.14it/s, loss=-0.6, v_num=45, val_loss=-.606]  \n",
      "Validating: 0it [00:00, ?it/s]\u001b[A\n",
      "Epoch 8: 100%|██████████| 79/79 [00:00<00:00, 129.30it/s, loss=-0.6, v_num=45, val_loss=-.601]\n",
      "Epoch 8: 100%|██████████| 79/79 [00:00<00:00, 128.40it/s, loss=-0.6, v_num=45, val_loss=-.601]\n"
     ]
    }
   ],
   "source": [
    "trainer.fit(network, dl_train, dl_valid)"
   ]
  },
  {
   "cell_type": "code",
   "execution_count": 48,
   "id": "6712af91-b48c-4ab8-b9ca-a6bacd31d3de",
   "metadata": {},
   "outputs": [
    {
     "name": "stderr",
     "output_type": "stream",
     "text": [
      "100%|██████████| 10000/10000 [00:07<00:00, 1355.35it/s]\n"
     ]
    }
   ],
   "source": [
    "prior_samples = sim.sample(N = 10000, targets = ['z'])"
   ]
  },
  {
   "cell_type": "code",
   "execution_count": 49,
   "id": "796e5339-1473-40cb-8183-54a7ef22d118",
   "metadata": {},
   "outputs": [],
   "source": [
    "obs = swyft.Sample(x = np.array([0.3]))"
   ]
  },
  {
   "cell_type": "code",
   "execution_count": 50,
   "id": "2f38bf37-5a4d-4a4a-a680-17312f8ab9ce",
   "metadata": {},
   "outputs": [
    {
     "name": "stderr",
     "output_type": "stream",
     "text": [
      "The following callbacks returned in `LightningModule.configure_callbacks` will override existing callbacks passed to Trainer: EarlyStopping, LearningRateMonitor\n",
      "LOCAL_RANK: 0 - CUDA_VISIBLE_DEVICES: [0]\n"
     ]
    },
    {
     "name": "stdout",
     "output_type": "stream",
     "text": [
      "Predicting: 63it [00:00, ?it/s]\n"
     ]
    }
   ],
   "source": [
    "logratios = trainer.infer(network, obs, prior_samples)"
   ]
  },
  {
   "cell_type": "code",
   "execution_count": 51,
   "id": "9ecf1e03-0ae4-4f82-a8b0-f166b97093eb",
   "metadata": {},
   "outputs": [
    {
     "data": {
      "image/png": "[encoded data removed]",
      "text/plain": [
       "<Figure size 432x288 with 1 Axes>"
      ]
     },
     "metadata": {
      "needs_background": "light"
     },
     "output_type": "display_data"
    }
   ],
   "source": [
    "swyft.plot_1d(logratios, \"z[0]\", ax = plt.gca(), smooth = 1, bins = 30)"
   ]
  },
  {
   "cell_type": "code",
   "execution_count": 53,
   "id": "0a245da6-52a0-48d4-abb6-c3431f77d46a",
   "metadata": {},
   "outputs": [
    {
     "data": {
      "text/plain": [
       "RectangleBounds(params=tensor([[[-0.2306,  0.7157]]], dtype=torch.float64), parnames=array([['z[0]']], dtype='<U4'))"
      ]
     },
     "execution_count": 53,
     "metadata": {},
     "output_type": "execute_result"
    }
   ],
   "source": [
    "bounds = swyft.lightning.bounds.get_rect_bounds(logratios, threshold = 1e-4)\n",
    "bounds"
   ]
  },
  {
   "cell_type": "code",
   "execution_count": null,
   "id": "15f609f4-6b40-4a57-8632-da7f638e1317",
   "metadata": {},
   "outputs": [],
   "source": []
  }
 ],
 "metadata": {
  "kernelspec": {
   "display_name": "Python 3",
   "language": "python",
   "name": "python3"
  },
  "language_info": {
   "codemirror_mode": {
    "name": "ipython",
    "version": 3
   },
   "file_extension": ".py",
   "mimetype": "text/x-python",
   "name": "python",
   "nbconvert_exporter": "python",
   "pygments_lexer": "ipython3",
   "version": "3.9.7"
  }
 },
 "nbformat": 4,
 "nbformat_minor": 5
}
