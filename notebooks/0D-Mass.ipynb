{
 "cells": [
  {
   "cell_type": "markdown",
   "id": "b4c7a3f1-ab43-432e-a64f-b7f1358a24da",
   "metadata": {},
   "source": [
    "# Mass estimation\n",
    "\n",
    "First we need some imports."
   ]
  },
  {
   "cell_type": "code",
   "execution_count": 107,
   "id": "8e9d04e5-d08e-46ab-a520-4547dedf0487",
   "metadata": {},
   "outputs": [
    {
     "name": "stdout",
     "output_type": "stream",
     "text": [
      "The autoreload extension is already loaded. To reload it, use:\n",
      "  %reload_ext autoreload\n"
     ]
    }
   ],
   "source": [
    "%load_ext autoreload\n",
    "%autoreload 2"
   ]
  },
  {
   "cell_type": "code",
   "execution_count": 108,
   "id": "0297c907",
   "metadata": {},
   "outputs": [],
   "source": [
    "import numpy as np\n",
    "from scipy import stats\n",
    "import pylab as plt\n",
    "import torch\n",
    "import torchist\n",
    "import swyft"
   ]
  },
  {
   "cell_type": "markdown",
   "id": "ab99366b-0783-46f5-be2d-80cbbb85e163",
   "metadata": {
    "tags": []
   },
   "source": [
    "## Training data\n",
    "\n",
    "Now we generate training data.  As simple example, we consider the model\n",
    "\n",
    "$$\n",
    "x = z + \\epsilon\n",
    "$$\n",
    "\n",
    "where the parameter $z \\sim \\mathcal{N}(\\mu = 0, \\sigma = 1)$ is standard normal distributed, and $\\epsilon \\sim \\mathcal{N}(\\mu = 0, \\sigma = 0.1)$ is a small noise contribution.  We are interested in the posterior of $z$ given a measurement of parameter $x$."
   ]
  },
  {
   "cell_type": "code",
   "execution_count": 109,
   "id": "c0439f14-d49f-4e52-8916-49a785daede5",
   "metadata": {},
   "outputs": [],
   "source": [
    "N = 100000  # Number of samples\n",
    "z = np.random.rand(N, 3)*2 - 1\n",
    "r = (z[:,0]**2 + z[:,1]**2)**0.5\n",
    "x = r.reshape(N, 1) + np.random.randn(N, 1)*0.1"
   ]
  },
  {
   "cell_type": "markdown",
   "id": "0fc90b4f-dd7e-43fb-af9a-7664f43787ab",
   "metadata": {},
   "source": [
    "Training data that is kept in memory is stored in a `swyft.Samples` object."
   ]
  },
  {
   "cell_type": "code",
   "execution_count": 110,
   "id": "315a3a80-c59b-4daf-b846-afb452b7575c",
   "metadata": {},
   "outputs": [],
   "source": [
    "samples = swyft.Samples(x = x, z = z)"
   ]
  },
  {
   "cell_type": "markdown",
   "id": "c3380509-cb9d-415d-b5f8-787ab75b10f7",
   "metadata": {},
   "source": [
    "## Inference network\n",
    "\n",
    "The inference network is an instance of `swyft.SwyftModule`.  It estimates ratios of the form\n",
    "$$\n",
    "r(A; B) = \\frac{p(A, B)}{p(A)p(B)}\\;,\n",
    "$$\n",
    "where $A$ and $B$ refer to any subset of variables in the training data.  In the below example, we set $A \\to x$ and $B \\to z$.\n",
    "\n",
    "We use here a standard dense network, `swyft.RatioEstimatorMLP1d`, for mapping $x$ and $z$ onto a ratio estimator object."
   ]
  },
  {
   "cell_type": "code",
   "execution_count": 111,
   "id": "3e6dc7e9-ff0a-479d-a4e8-fd8025717327",
   "metadata": {},
   "outputs": [],
   "source": [
    "class Network(swyft.SwyftModule):\n",
    "    def __init__(self):\n",
    "        super().__init__()\n",
    "        marginals = ((0, 1),)\n",
    "        self.logratios1 = swyft.LogRatioEstimator_1dim(num_features = 1, num_params = 3, varnames = 'z')\n",
    "        self.logratios2 = swyft.LogRatioEstimator_Ndim(num_features = 1, marginals = marginals, varnames = 'z')\n",
    "\n",
    "    def forward(self, A, B):\n",
    "        logratios1 = self.logratios1(A['x'], B['z'])\n",
    "        logratios2 = self.logratios2(A['x'], B['z'])\n",
    "        return logratios1, logratios2"
   ]
  },
  {
   "cell_type": "markdown",
   "id": "2554dbed-fc91-45d2-bfa7-418cdaad67b6",
   "metadata": {},
   "source": [
    "## Trainer\n",
    "\n",
    "Training is now done using the `SwyftTrainer` class, which extends `pytorch_lightning.Trainer` by methods like `infer` (see below)."
   ]
  },
  {
   "cell_type": "code",
   "execution_count": 112,
   "id": "5683ce37-a8d0-4ed7-94a6-512ccc7babcb",
   "metadata": {},
   "outputs": [
    {
     "name": "stderr",
     "output_type": "stream",
     "text": [
      "GPU available: True, used: True\n",
      "TPU available: False, using: 0 TPU cores\n",
      "IPU available: False, using: 0 IPUs\n"
     ]
    }
   ],
   "source": [
    "trainer = swyft.SwyftTrainer(accelerator = 'gpu', gpus=1, max_epochs = 10, precision = 64)"
   ]
  },
  {
   "cell_type": "markdown",
   "id": "053eff99-5d2b-4419-bce7-d938831b623e",
   "metadata": {},
   "source": [
    "The `swyft.Samples` class provides convenience functions to generate data loaders for training and validation data."
   ]
  },
  {
   "cell_type": "code",
   "execution_count": 116,
   "id": "60085c53-3c65-4851-ab71-ea369e365eda",
   "metadata": {},
   "outputs": [],
   "source": [
    "dl_train = samples[:-500].get_dataloader(batch_size = 512, shuffle = True)\n",
    "dl_valid = samples[-500:].get_dataloader(batch_size = 512)"
   ]
  },
  {
   "cell_type": "code",
   "execution_count": 117,
   "id": "c5811d37-d10b-49e8-a8ed-1e6d43caefa4",
   "metadata": {},
   "outputs": [],
   "source": [
    "network = Network()"
   ]
  },
  {
   "cell_type": "code",
   "execution_count": 119,
   "id": "41f7765b-45b8-4684-b820-4f75c9719857",
   "metadata": {},
   "outputs": [
    {
     "name": "stderr",
     "output_type": "stream",
     "text": [
      "LOCAL_RANK: 0 - CUDA_VISIBLE_DEVICES: [0]\n",
      "\n",
      "  | Name       | Type                   | Params\n",
      "------------------------------------------------------\n",
      "0 | logratios1 | LogRatioEstimator_1dim | 52.2 K\n",
      "1 | logratios2 | LogRatioEstimator_Ndim | 17.5 K\n",
      "------------------------------------------------------\n",
      "69.7 K    Trainable params\n",
      "0         Non-trainable params\n",
      "69.7 K    Total params\n",
      "0.558     Total estimated model params size (MB)\n"
     ]
    },
    {
     "name": "stdout",
     "output_type": "stream",
     "text": [
      "Epoch 1:  11%|█         | 21/196 [03:49<31:53, 10.93s/it, loss=-0.87, v_num=9947768, val_loss=-.899]\n",
      "Epoch 1:  99%|█████████▉| 195/196 [00:04<00:00, 46.98it/s, loss=-0.881, v_num=9947768]\n",
      "Validating: 0it [00:00, ?it/s]\u001b[A\n",
      "Epoch 1: 100%|██████████| 196/196 [00:04<00:00, 46.92it/s, loss=-0.881, v_num=9947768, val_loss=-.904]\n",
      "Epoch 2:  99%|█████████▉| 195/196 [00:04<00:00, 47.30it/s, loss=-0.933, v_num=9947768, val_loss=-.904]\n",
      "Validating: 0it [00:00, ?it/s]\u001b[A\n",
      "Epoch 2: 100%|██████████| 196/196 [00:04<00:00, 47.31it/s, loss=-0.933, v_num=9947768, val_loss=-.928]\n",
      "Epoch 3:  99%|█████████▉| 195/196 [00:04<00:00, 46.41it/s, loss=-0.915, v_num=9947768, val_loss=-.928]\n",
      "Validating: 0it [00:00, ?it/s]\u001b[A\n",
      "Epoch 3: 100%|██████████| 196/196 [00:04<00:00, 46.43it/s, loss=-0.915, v_num=9947768, val_loss=-.920]\n",
      "Epoch 4:  99%|█████████▉| 195/196 [00:04<00:00, 47.28it/s, loss=-0.873, v_num=9947768, val_loss=-.920]\n",
      "Validating: 0it [00:00, ?it/s]\u001b[A\n",
      "Epoch 4: 100%|██████████| 196/196 [00:04<00:00, 47.23it/s, loss=-0.873, v_num=9947768, val_loss=-.885]\n",
      "Epoch 5:  99%|█████████▉| 195/196 [00:04<00:00, 46.74it/s, loss=-0.894, v_num=9947768, val_loss=-.885]\n",
      "Validating: 0it [00:00, ?it/s]\u001b[A\n",
      "Epoch 5: 100%|██████████| 196/196 [00:04<00:00, 46.76it/s, loss=-0.894, v_num=9947768, val_loss=-.931]\n",
      "Epoch 6:  99%|█████████▉| 195/196 [00:04<00:00, 47.30it/s, loss=-0.898, v_num=9947768, val_loss=-.931]\n",
      "Validating: 0it [00:00, ?it/s]\u001b[A\n",
      "Epoch 6: 100%|██████████| 196/196 [00:04<00:00, 47.26it/s, loss=-0.898, v_num=9947768, val_loss=-.928]\n",
      "Epoch 7:  99%|█████████▉| 195/196 [00:04<00:00, 47.45it/s, loss=-0.904, v_num=9947768, val_loss=-.928]\n",
      "Validating: 0it [00:00, ?it/s]\u001b[A\n",
      "Epoch 7: 100%|██████████| 196/196 [00:04<00:00, 47.49it/s, loss=-0.904, v_num=9947768, val_loss=-.923]\n",
      "Epoch 8:  99%|█████████▉| 195/196 [00:04<00:00, 47.26it/s, loss=-0.894, v_num=9947768, val_loss=-.923]\n",
      "Validating: 0it [00:00, ?it/s]\u001b[A\n",
      "Epoch 8: 100%|██████████| 196/196 [00:04<00:00, 47.28it/s, loss=-0.894, v_num=9947768, val_loss=-.907]\n",
      "Epoch 9:  99%|█████████▉| 195/196 [00:04<00:00, 46.91it/s, loss=-0.907, v_num=9947768, val_loss=-.907]\n",
      "Validating: 0it [00:00, ?it/s]\u001b[A\n",
      "Epoch 9: 100%|██████████| 196/196 [00:04<00:00, 46.96it/s, loss=-0.907, v_num=9947768, val_loss=-.918]\n",
      "Epoch 9: 100%|██████████| 196/196 [00:04<00:00, 46.59it/s, loss=-0.907, v_num=9947768, val_loss=-.918]\n"
     ]
    }
   ],
   "source": [
    "trainer.fit(network, dl_train, dl_valid)"
   ]
  },
  {
   "cell_type": "markdown",
   "id": "a7bd5cdf-d1d1-4bbc-b70a-387d8b0a22a3",
   "metadata": {},
   "source": [
    "## Coverage tests"
   ]
  },
  {
   "cell_type": "markdown",
   "id": "ee9bdb3a-243f-4457-b826-d7ec967f0a98",
   "metadata": {},
   "source": [
    "We first generate some prior samples."
   ]
  },
  {
   "cell_type": "code",
   "execution_count": 141,
   "id": "6ec1f09c-de11-4688-89bd-564f75a64bb8",
   "metadata": {},
   "outputs": [],
   "source": [
    "samples_prior = swyft.Samples(z = np.random.rand(10000, 3)*2-1)"
   ]
  },
  {
   "cell_type": "markdown",
   "id": "ca56fcb9-c1a3-4047-ac98-d6abe3f8368f",
   "metadata": {},
   "source": [
    "Then we can use the `test_coverage` method to estimate the probability mass contained in the smallest highest-likelihood regions that contain the true parameter."
   ]
  },
  {
   "cell_type": "code",
   "execution_count": 143,
   "id": "8f6d74d6-464d-4ae7-b933-237193ec200a",
   "metadata": {},
   "outputs": [
    {
     "name": "stderr",
     "output_type": "stream",
     "text": [
      "LOCAL_RANK: 0 - CUDA_VISIBLE_DEVICES: [0]\n"
     ]
    },
    {
     "name": "stdout",
     "output_type": "stream",
     "text": [
      "WARNING: This estimates the mass of highest-likelihood intervals.\n",
      "Predicting: 195it [00:00, ?it/s]"
     ]
    },
    {
     "name": "stderr",
     "output_type": "stream",
     "text": [
      "LOCAL_RANK: 0 - CUDA_VISIBLE_DEVICES: [0]\n"
     ]
    },
    {
     "name": "stdout",
     "output_type": "stream",
     "text": [
      "\n",
      "Predicting: 100%|██████████| 5000/5000 [00:44<00:00, 107.26it/s]\n"
     ]
    }
   ],
   "source": [
    "coverage_samples = trainer.test_coverage(network, samples[-500:], samples_prior)"
   ]
  },
  {
   "cell_type": "markdown",
   "id": "886b1d5d-b022-490b-acd7-5aa15ce548ee",
   "metadata": {},
   "source": [
    "Based on these estimates, we can produce then the standard P-P plot. Here, $p$ corresponds to the probability mass *outside* the highest-likelihodo regions.  We here plot $1-p$, in order to move the credible regions with the highest credibility to the upper right corner."
   ]
  },
  {
   "cell_type": "code",
   "execution_count": 145,
   "id": "8e962c3b-469e-4472-8220-41991a46d518",
   "metadata": {},
   "outputs": [
    {
     "data": {
      "image/png": "[encoded data removed]",
      "text/plain": [
       "<Figure size 432x288 with 1 Axes>"
      ]
     },
     "metadata": {
      "needs_background": "light"
     },
     "output_type": "display_data"
    }
   ],
   "source": [
    "swyft.plot_pp(coverage_samples, \"z[0]\", \"z[1]\")"
   ]
  },
  {
   "cell_type": "markdown",
   "id": "cf23d109-7ccc-4a0c-962b-9ffbd3a7a550",
   "metadata": {},
   "source": [
    "In P-P plots, regions with high credibility ($1-p = 68.3\\%, 95.5\\%, 99.7\\%$ etc) become increasingly hard to interpret. Swyft also provides functionality to directly plot the corresponding $z_p$ values ($z_p = 1.0, 2.0, 3.0$ etc)."
   ]
  },
  {
   "cell_type": "code",
   "execution_count": 147,
   "id": "54a4a7ed-7281-4cf6-adbb-093a0876ed33",
   "metadata": {},
   "outputs": [
    {
     "data": {
      "image/png": "[encoded data removed]",
      "text/plain": [
       "<Figure size 432x288 with 1 Axes>"
      ]
     },
     "metadata": {
      "needs_background": "light"
     },
     "output_type": "display_data"
    }
   ],
   "source": [
    "swyft.plot_zz(mass, \"z[0]\", \"z[1]\")"
   ]
  },
  {
   "cell_type": "code",
   "execution_count": null,
   "id": "988ed45b-4d4c-4507-b291-04f692c26277",
   "metadata": {},
   "outputs": [],
   "source": []
  }
 ],
 "metadata": {
  "kernelspec": {
   "display_name": "Python 3",
   "language": "python",
   "name": "python3"
  },
  "language_info": {
   "codemirror_mode": {
    "name": "ipython",
    "version": 3
   },
   "file_extension": ".py",
   "mimetype": "text/x-python",
   "name": "python",
   "nbconvert_exporter": "python",
   "pygments_lexer": "ipython3",
   "version": "3.9.7"
  }
 },
 "nbformat": 4,
 "nbformat_minor": 5
}
