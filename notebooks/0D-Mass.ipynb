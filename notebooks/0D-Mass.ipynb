{
 "cells": [
  {
   "cell_type": "markdown",
   "id": "b4c7a3f1-ab43-432e-a64f-b7f1358a24da",
   "metadata": {},
   "source": [
    "## Setup\n",
    "\n",
    "First we need some imports."
   ]
  },
  {
   "cell_type": "code",
   "execution_count": 1,
   "id": "8e9d04e5-d08e-46ab-a520-4547dedf0487",
   "metadata": {},
   "outputs": [],
   "source": [
    "%load_ext autoreload\n",
    "%autoreload 2"
   ]
  },
  {
   "cell_type": "code",
   "execution_count": 2,
   "id": "0297c907",
   "metadata": {},
   "outputs": [],
   "source": [
    "import numpy as np\n",
    "from scipy import stats\n",
    "import pylab as plt\n",
    "import torch\n",
    "import swyft"
   ]
  },
  {
   "cell_type": "markdown",
   "id": "ab99366b-0783-46f5-be2d-80cbbb85e163",
   "metadata": {
    "tags": []
   },
   "source": [
    "## Training data\n",
    "\n",
    "Now we generate training data.  As simple example, we consider the model\n",
    "\n",
    "$$\n",
    "x = z + \\epsilon\n",
    "$$\n",
    "\n",
    "where the parameter $z \\sim \\mathcal{N}(\\mu = 0, \\sigma = 1)$ is standard normal distributed, and $\\epsilon \\sim \\mathcal{N}(\\mu = 0, \\sigma = 0.1)$ is a small noise contribution.  We are interested in the posterior of $z$ given a measurement of parameter $x$."
   ]
  },
  {
   "cell_type": "code",
   "execution_count": 3,
   "id": "c0439f14-d49f-4e52-8916-49a785daede5",
   "metadata": {},
   "outputs": [],
   "source": [
    "N = 100000  # Number of samples\n",
    "z = np.random.rand(N, 3)*2 - 1\n",
    "r = (z[:,0]**2 + z[:,1]**2)**0.5\n",
    "x = r.reshape(N, 1) + np.random.randn(N, 1)*0.1"
   ]
  },
  {
   "cell_type": "markdown",
   "id": "0fc90b4f-dd7e-43fb-af9a-7664f43787ab",
   "metadata": {},
   "source": [
    "Training data that is kept in memory is stored in a `swyft.Samples` object."
   ]
  },
  {
   "cell_type": "code",
   "execution_count": 4,
   "id": "315a3a80-c59b-4daf-b846-afb452b7575c",
   "metadata": {},
   "outputs": [],
   "source": [
    "samples = swyft.Samples(x = x, z = z)"
   ]
  },
  {
   "cell_type": "markdown",
   "id": "c3380509-cb9d-415d-b5f8-787ab75b10f7",
   "metadata": {},
   "source": [
    "## Inference network\n",
    "\n",
    "The inference network is an instance of `swyft.SwyftModule`.  It estimates ratios of the form\n",
    "$$\n",
    "r(A; B) = \\frac{p(A, B)}{p(A)p(B)}\\;,\n",
    "$$\n",
    "where $A$ and $B$ refer to any subset of variables in the training data.  In the below example, we set $A \\to x$ and $B \\to z$.\n",
    "\n",
    "We use here a standard dense network, `swyft.RatioEstimatorMLP1d`, for mapping $x$ and $z$ onto a ratio estimator object."
   ]
  },
  {
   "cell_type": "code",
   "execution_count": 5,
   "id": "3e6dc7e9-ff0a-479d-a4e8-fd8025717327",
   "metadata": {},
   "outputs": [],
   "source": [
    "class Network(swyft.SwyftModule):\n",
    "    def __init__(self):\n",
    "        super().__init__()\n",
    "        marginals = ((0, 1),)\n",
    "        self.logratios1 = swyft.LogRatioEstimator_1dim(num_features = 1, num_params = 3, varnames = 'z')\n",
    "        self.logratios2 = swyft.LogRatioEstimator_Ndim(num_features = 1, marginals = marginals, varnames = 'z')\n",
    "\n",
    "    def forward(self, A, B):\n",
    "        logratios1 = self.logratios1(A['x'], B['z'])\n",
    "        logratios2 = self.logratios2(A['x'], B['z'])\n",
    "        return logratios1, logratios2"
   ]
  },
  {
   "cell_type": "markdown",
   "id": "2554dbed-fc91-45d2-bfa7-418cdaad67b6",
   "metadata": {},
   "source": [
    "## Trainer\n",
    "\n",
    "Training is now done using the `SwyftTrainer` class, which extends `pytorch_lightning.Trainer` by methods like `infer` (see below)."
   ]
  },
  {
   "cell_type": "code",
   "execution_count": 6,
   "id": "5683ce37-a8d0-4ed7-94a6-512ccc7babcb",
   "metadata": {},
   "outputs": [
    {
     "name": "stderr",
     "output_type": "stream",
     "text": [
      "GPU available: True, used: True\n",
      "TPU available: False, using: 0 TPU cores\n",
      "IPU available: False, using: 0 IPUs\n"
     ]
    }
   ],
   "source": [
    "trainer = swyft.SwyftTrainer(accelerator = 'gpu', gpus=1, max_epochs = 10, precision = 64)"
   ]
  },
  {
   "cell_type": "markdown",
   "id": "053eff99-5d2b-4419-bce7-d938831b623e",
   "metadata": {},
   "source": [
    "The `swyft.Samples` class provides convenience functions to generate data loaders for training and validation data."
   ]
  },
  {
   "cell_type": "code",
   "execution_count": 7,
   "id": "60085c53-3c65-4851-ab71-ea369e365eda",
   "metadata": {},
   "outputs": [],
   "source": [
    "dl_train = samples[:-500].get_dataloader(batch_size = 256, shuffle = True)\n",
    "dl_valid = samples[-500:].get_dataloader(batch_size = 256)"
   ]
  },
  {
   "cell_type": "code",
   "execution_count": 8,
   "id": "c5811d37-d10b-49e8-a8ed-1e6d43caefa4",
   "metadata": {},
   "outputs": [],
   "source": [
    "network = Network()"
   ]
  },
  {
   "cell_type": "code",
   "execution_count": 9,
   "id": "41f7765b-45b8-4684-b820-4f75c9719857",
   "metadata": {},
   "outputs": [
    {
     "name": "stderr",
     "output_type": "stream",
     "text": [
      "LOCAL_RANK: 0 - CUDA_VISIBLE_DEVICES: [0]\n",
      "\n",
      "  | Name       | Type                   | Params\n",
      "------------------------------------------------------\n",
      "0 | logratios1 | LogRatioEstimator_1dim | 52.2 K\n",
      "1 | logratios2 | LogRatioEstimator_Ndim | 17.5 K\n",
      "------------------------------------------------------\n",
      "69.7 K    Trainable params\n",
      "0         Non-trainable params\n",
      "69.7 K    Total params\n",
      "0.558     Total estimated model params size (MB)\n",
      "/home/weniger/miniconda3b/envs/zero/lib/python3.9/site-packages/pytorch_lightning/callbacks/model_checkpoint.py:631: UserWarning: Checkpoint directory /home/weniger/codes/swyft/notebooks/lightning_logs/version_9934787/checkpoints exists and is not empty.\n",
      "  rank_zero_warn(f\"Checkpoint directory {dirpath} exists and is not empty.\")\n"
     ]
    },
    {
     "name": "stdout",
     "output_type": "stream",
     "text": [
      "Validation sanity check:   0%|          | 0/2 [00:00<?, ?it/s]"
     ]
    },
    {
     "name": "stderr",
     "output_type": "stream",
     "text": [
      "/home/weniger/miniconda3b/envs/zero/lib/python3.9/site-packages/pytorch_lightning/trainer/data_loading.py:132: UserWarning: The dataloader, val_dataloader 0, does not have many workers which may be a bottleneck. Consider increasing the value of the `num_workers` argument` (try 24 which is the number of cpus on this machine) in the `DataLoader` init to improve performance.\n",
      "  rank_zero_warn(\n"
     ]
    },
    {
     "name": "stdout",
     "output_type": "stream",
     "text": [
      "                                                                      "
     ]
    },
    {
     "name": "stderr",
     "output_type": "stream",
     "text": [
      "/home/weniger/miniconda3b/envs/zero/lib/python3.9/site-packages/pytorch_lightning/trainer/data_loading.py:132: UserWarning: The dataloader, train_dataloader, does not have many workers which may be a bottleneck. Consider increasing the value of the `num_workers` argument` (try 24 which is the number of cpus on this machine) in the `DataLoader` init to improve performance.\n",
      "  rank_zero_warn(\n"
     ]
    },
    {
     "name": "stdout",
     "output_type": "stream",
     "text": [
      "Epoch 0:  99%|█████████▉| 389/391 [00:06<00:00, 61.80it/s, loss=-0.819, v_num=9934787]\n",
      "Validating: 0it [00:00, ?it/s]\u001b[A\n",
      "Epoch 0: 100%|██████████| 391/391 [00:06<00:00, 61.91it/s, loss=-0.819, v_num=9934787, val_loss=-.851]\n",
      "Epoch 1:  99%|█████████▉| 389/391 [00:05<00:00, 68.46it/s, loss=-0.897, v_num=9934787, val_loss=-.851]\n",
      "Validating: 0it [00:00, ?it/s]\u001b[A\n",
      "Epoch 1: 100%|██████████| 391/391 [00:05<00:00, 68.57it/s, loss=-0.897, v_num=9934787, val_loss=-.859]\n",
      "Epoch 2:  99%|█████████▉| 389/391 [00:05<00:00, 65.42it/s, loss=-0.846, v_num=9934787, val_loss=-.859]\n",
      "Validating: 0it [00:00, ?it/s]\u001b[A\n",
      "Epoch 2: 100%|██████████| 391/391 [00:05<00:00, 65.53it/s, loss=-0.846, v_num=9934787, val_loss=-.860]\n",
      "Epoch 3:  99%|█████████▉| 389/391 [00:06<00:00, 62.20it/s, loss=-0.891, v_num=9934787, val_loss=-.860]\n",
      "Validating: 0it [00:00, ?it/s]\u001b[A\n",
      "Epoch 3: 100%|██████████| 391/391 [00:06<00:00, 62.31it/s, loss=-0.891, v_num=9934787, val_loss=-.879]\n",
      "Epoch 4:  99%|█████████▉| 389/391 [00:06<00:00, 64.26it/s, loss=-0.862, v_num=9934787, val_loss=-.879]\n",
      "Validating: 0it [00:00, ?it/s]\u001b[A\n",
      "Epoch 4: 100%|██████████| 391/391 [00:06<00:00, 64.37it/s, loss=-0.862, v_num=9934787, val_loss=-.851]\n",
      "Epoch 5:  99%|█████████▉| 389/391 [00:05<00:00, 69.14it/s, loss=-0.898, v_num=9934787, val_loss=-.851]\n",
      "Validating: 0it [00:00, ?it/s]\u001b[A\n",
      "Epoch 5: 100%|██████████| 391/391 [00:05<00:00, 69.24it/s, loss=-0.898, v_num=9934787, val_loss=-.850]\n",
      "Epoch 6:  99%|█████████▉| 389/391 [00:06<00:00, 63.94it/s, loss=-0.912, v_num=9934787, val_loss=-.850]\n",
      "Validating: 0it [00:00, ?it/s]\u001b[A\n",
      "Epoch 6: 100%|██████████| 391/391 [00:06<00:00, 64.06it/s, loss=-0.912, v_num=9934787, val_loss=-.863]\n",
      "Epoch 7:  99%|█████████▉| 389/391 [00:06<00:00, 63.46it/s, loss=-0.889, v_num=9934787, val_loss=-.863]\n",
      "Validating: 0it [00:00, ?it/s]\u001b[A\n",
      "Epoch 7: 100%|██████████| 391/391 [00:06<00:00, 63.57it/s, loss=-0.889, v_num=9934787, val_loss=-.874]\n",
      "Epoch 8:  99%|█████████▉| 389/391 [00:06<00:00, 64.22it/s, loss=-0.885, v_num=9934787, val_loss=-.874]\n",
      "Validating: 0it [00:00, ?it/s]\u001b[A\n",
      "Epoch 8: 100%|██████████| 391/391 [00:06<00:00, 64.33it/s, loss=-0.885, v_num=9934787, val_loss=-.867]\n",
      "Epoch 9:  99%|█████████▉| 389/391 [00:06<00:00, 63.79it/s, loss=-0.913, v_num=9934787, val_loss=-.867]\n",
      "Validating: 0it [00:00, ?it/s]\u001b[A\n",
      "Epoch 9: 100%|██████████| 391/391 [00:06<00:00, 63.90it/s, loss=-0.913, v_num=9934787, val_loss=-.872]\n",
      "Epoch 9: 100%|██████████| 391/391 [00:06<00:00, 63.54it/s, loss=-0.913, v_num=9934787, val_loss=-.872]\n"
     ]
    }
   ],
   "source": [
    "trainer.fit(network, dl_train, dl_valid)"
   ]
  },
  {
   "cell_type": "markdown",
   "id": "a7bd5cdf-d1d1-4bbc-b70a-387d8b0a22a3",
   "metadata": {},
   "source": [
    "## Inference"
   ]
  },
  {
   "cell_type": "markdown",
   "id": "0a2a76de-45c5-445b-b45d-80da8448f4d2",
   "metadata": {},
   "source": [
    "We assume that we measure the values $x=0.2$."
   ]
  },
  {
   "cell_type": "code",
   "execution_count": 36,
   "id": "841a27bb-f8fd-48ab-9504-d8881a4f6777",
   "metadata": {},
   "outputs": [],
   "source": [
    "x0 = 0.5"
   ]
  },
  {
   "cell_type": "markdown",
   "id": "ee9bdb3a-243f-4457-b826-d7ec967f0a98",
   "metadata": {},
   "source": [
    "We first generate a large number of prior samples."
   ]
  },
  {
   "cell_type": "code",
   "execution_count": 37,
   "id": "6ec1f09c-de11-4688-89bd-564f75a64bb8",
   "metadata": {},
   "outputs": [],
   "source": [
    "B = swyft.Samples(z = np.random.rand(1000000, 3)*2-1)"
   ]
  },
  {
   "cell_type": "markdown",
   "id": "1fc2a59b-a7b6-404a-ac72-d86d6b8a6185",
   "metadata": {},
   "source": [
    "Swyft provides the method `infer` in order to efficiently evaluate the inference network. That method takes either dataloaders or individual samples (i.e. dictionaries of tensors) as input.  This efficiently evaluates the ratio $r(x; z)$ for a large number of prior samples $z$ for a fixed values of $x$."
   ]
  },
  {
   "cell_type": "code",
   "execution_count": 38,
   "id": "9e57adc9-5f6a-49a3-919d-41f570578d59",
   "metadata": {},
   "outputs": [],
   "source": [
    "A = swyft.Sample(x = np.array([x0]))"
   ]
  },
  {
   "cell_type": "code",
   "execution_count": 39,
   "id": "6e1cbc13-ab64-43a8-acf0-4ab9f9c650f6",
   "metadata": {},
   "outputs": [
    {
     "name": "stderr",
     "output_type": "stream",
     "text": [
      "LOCAL_RANK: 0 - CUDA_VISIBLE_DEVICES: [0]\n"
     ]
    },
    {
     "name": "stdout",
     "output_type": "stream",
     "text": [
      "Predicting: 100%|██████████| 977/977 [00:08<00:00, 70.30it/s] \n"
     ]
    }
   ],
   "source": [
    "predictions = trainer.infer(network, A, B)"
   ]
  },
  {
   "cell_type": "markdown",
   "id": "edebf21b-b0b6-4525-8bd2-7b9f25f76204",
   "metadata": {},
   "source": [
    "## Plot results\n",
    "\n",
    "First we obtain samples from the posterior, using subsampling with a weight that happens to be given by $e^r$."
   ]
  },
  {
   "cell_type": "code",
   "execution_count": 47,
   "id": "bbd5a851-d667-4c3f-9ddd-89fec0d6c91b",
   "metadata": {},
   "outputs": [
    {
     "data": {
      "image/png": "[encoded data removed]",
      "text/plain": [
       "<Figure size 432x288 with 1 Axes>"
      ]
     },
     "metadata": {
      "needs_background": "light"
     },
     "output_type": "display_data"
    }
   ],
   "source": [
    "swyft.plot_2d(predictions, \"z[0]\", \"z[1]\", bins = 100, smooth = 2, color = 'r', ax = plt.gca(), cmap = 'gray_r');"
   ]
  },
  {
   "cell_type": "code",
   "execution_count": 49,
   "id": "8f6d74d6-464d-4ae7-b933-237193ec200a",
   "metadata": {},
   "outputs": [
    {
     "name": "stderr",
     "output_type": "stream",
     "text": [
      "LOCAL_RANK: 0 - CUDA_VISIBLE_DEVICES: [0]\n"
     ]
    },
    {
     "name": "stdout",
     "output_type": "stream",
     "text": [
      "Predicting:  11%|█▏        | 912/8000 [00:06<01:34, 75.37it/s] \n",
      "Predicting: 389it [00:00, ?it/s]"
     ]
    },
    {
     "name": "stderr",
     "output_type": "stream",
     "text": [
      "LOCAL_RANK: 0 - CUDA_VISIBLE_DEVICES: [0]\n"
     ]
    },
    {
     "name": "stdout",
     "output_type": "stream",
     "text": [
      "\n",
      "Predicting: 389it [00:01, ?it/s]\n"
     ]
    }
   ],
   "source": [
    "mass = trainer.estimate_mass(network, samples[:100], B[:2000])"
   ]
  },
  {
   "cell_type": "code",
   "execution_count": 56,
   "id": "da75ed26-e7ef-41cb-a438-2fb7ad69e8c7",
   "metadata": {},
   "outputs": [
    {
     "ename": "AttributeError",
     "evalue": "'SwyftTrainer' object has no attribute 'hpd_coverage'",
     "output_type": "error",
     "traceback": [
      "\u001b[0;31m---------------------------------------------------------------------------\u001b[0m",
      "\u001b[0;31mAttributeError\u001b[0m                            Traceback (most recent call last)",
      "Input \u001b[0;32mIn [56]\u001b[0m, in \u001b[0;36m<module>\u001b[0;34m\u001b[0m\n\u001b[0;32m----> 1\u001b[0m \u001b[43mtrainer\u001b[49m\u001b[38;5;241;43m.\u001b[39;49m\u001b[43mhpd_coverage\u001b[49m\n",
      "\u001b[0;31mAttributeError\u001b[0m: 'SwyftTrainer' object has no attribute 'hpd_coverage'"
     ]
    }
   ],
   "source": [
    "trainer.hpd_coverage"
   ]
  },
  {
   "cell_type": "code",
   "execution_count": 52,
   "id": "3244848d-9b5c-4b8b-bb65-461385436ce6",
   "metadata": {},
   "outputs": [],
   "source": [
    "def plot_z_score(masses, params, axes = None):\n",
    "    axes = axes if axes is not None else plt.gca()\n",
    "    params = params if isinstance(params, list) else [params]\n",
    "    scores = None\n",
    "    if isinstance(masses, list) or isinstance(masses, tuple):\n",
    "        for i in range(len(masses)):\n",
    "            scores = masses[i].get_matching_z_score(*params)\n",
    "            if scores is not None:\n",
    "                break\n",
    "    if scores is not None:\n",
    "        swyft.plot.mass.plot_empirical_z_score(axes, scores[:,0], scores[:,1], scores[:,2:])"
   ]
  },
  {
   "cell_type": "code",
   "execution_count": 53,
   "id": "15f8ed3d-368e-49b3-9c75-d711bf84e63b",
   "metadata": {},
   "outputs": [],
   "source": [
    "def plot_scores(mass):\n",
    "    s = mass.get_z_scores()\n",
    "    for j, k in enumerate(s.keys()):\n",
    "        for i in [0, 1, 2]:\n",
    "            y = s[k][i,1]\n",
    "            yerr = np.array([s[k][i,2]-y, y-s[k][i,0]]).reshape(2, 1)\n",
    "            plt.errorbar(j, [y], yerr = yerr, marker='.', color='k')\n",
    "    labels = [list(v) for v in s.keys()]\n",
    "    plt.xticks(range(len(labels)), labels)\n",
    "    plt.axhline(1., color='k', ls=':')\n",
    "    plt.axhline(2., color='k', ls=':')\n",
    "    plt.axhline(3., color='k', ls=':')"
   ]
  },
  {
   "cell_type": "code",
   "execution_count": 54,
   "id": "59d9bd9a-0606-4c9b-a6e7-5dc8213034ef",
   "metadata": {},
   "outputs": [
    {
     "data": {
      "image/png": "[encoded data removed]",
      "text/plain": [
       "<Figure size 432x288 with 1 Axes>"
      ]
     },
     "metadata": {
      "needs_background": "light"
     },
     "output_type": "display_data"
    }
   ],
   "source": [
    "plot_z_score(mass, [\"z[0]\", \"z[1]\"])"
   ]
  },
  {
   "cell_type": "code",
   "execution_count": 55,
   "id": "b358f960-7beb-441b-ae47-b543426413cb",
   "metadata": {},
   "outputs": [
    {
     "name": "stderr",
     "output_type": "stream",
     "text": [
      "<ipython-input-53-0df9aa5c6d74>:6: RuntimeWarning: invalid value encountered in double_scalars\n",
      "  yerr = np.array([s[k][i,2]-y, y-s[k][i,0]]).reshape(2, 1)\n",
      "<ipython-input-53-0df9aa5c6d74>:6: RuntimeWarning: invalid value encountered in double_scalars\n",
      "  yerr = np.array([s[k][i,2]-y, y-s[k][i,0]]).reshape(2, 1)\n",
      "<ipython-input-53-0df9aa5c6d74>:6: RuntimeWarning: invalid value encountered in double_scalars\n",
      "  yerr = np.array([s[k][i,2]-y, y-s[k][i,0]]).reshape(2, 1)\n"
     ]
    },
    {
     "data": {
      "image/png": "[encoded data removed]",
      "text/plain": [
       "<Figure size 432x288 with 1 Axes>"
      ]
     },
     "metadata": {
      "needs_background": "light"
     },
     "output_type": "display_data"
    }
   ],
   "source": [
    "plot_scores(mass[0])"
   ]
  },
  {
   "cell_type": "code",
   "execution_count": null,
   "id": "dc4ff865-10f6-47af-986d-20d6a09b089b",
   "metadata": {},
   "outputs": [],
   "source": []
  }
 ],
 "metadata": {
  "kernelspec": {
   "display_name": "Python 3",
   "language": "python",
   "name": "python3"
  },
  "language_info": {
   "codemirror_mode": {
    "name": "ipython",
    "version": 3
   },
   "file_extension": ".py",
   "mimetype": "text/x-python",
   "name": "python",
   "nbconvert_exporter": "python",
   "pygments_lexer": "ipython3",
   "version": "3.9.7"
  }
 },
 "nbformat": 4,
 "nbformat_minor": 5
}
