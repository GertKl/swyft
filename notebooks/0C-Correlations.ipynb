{
 "cells": [
  {
   "cell_type": "markdown",
   "id": "d74664b7-7747-4243-abfe-e3273bc1ab96",
   "metadata": {},
   "source": [
    "# Introduction to swyft-lightning\n",
    "\n",
    "In this notebook, we will go through the basic steps of performing parameter inference with Swyft."
   ]
  },
  {
   "cell_type": "markdown",
   "id": "b4c7a3f1-ab43-432e-a64f-b7f1358a24da",
   "metadata": {},
   "source": [
    "## Setup\n",
    "\n",
    "First we need some imports."
   ]
  },
  {
   "cell_type": "code",
   "execution_count": 1,
   "id": "8e9d04e5-d08e-46ab-a520-4547dedf0487",
   "metadata": {},
   "outputs": [],
   "source": [
    "%load_ext autoreload\n",
    "%autoreload 2"
   ]
  },
  {
   "cell_type": "code",
   "execution_count": 2,
   "id": "0297c907",
   "metadata": {},
   "outputs": [],
   "source": [
    "import numpy as np\n",
    "from scipy import stats\n",
    "import pylab as plt\n",
    "import torch\n",
    "import swyft"
   ]
  },
  {
   "cell_type": "markdown",
   "id": "ab99366b-0783-46f5-be2d-80cbbb85e163",
   "metadata": {
    "tags": []
   },
   "source": [
    "## Training data\n",
    "\n",
    "Now we generate training data.  As simple example, we consider the model\n",
    "\n",
    "$$\n",
    "x = z + \\epsilon\n",
    "$$\n",
    "\n",
    "where the parameter $z \\sim \\mathcal{N}(\\mu = 0, \\sigma = 1)$ is standard normal distributed, and $\\epsilon \\sim \\mathcal{N}(\\mu = 0, \\sigma = 0.1)$ is a small noise contribution.  We are interested in the posterior of $z$ given a measurement of parameter $x$."
   ]
  },
  {
   "cell_type": "code",
   "execution_count": 3,
   "id": "c0439f14-d49f-4e52-8916-49a785daede5",
   "metadata": {},
   "outputs": [],
   "source": [
    "N = 10000  # Number of samples\n",
    "z = np.random.randn(N, 3)\n",
    "x = z + np.random.randn(N, 3)*0.02 + np.random.rand(N, 1)*0.1\n",
    "x, z = swyft.to_numpy32(x, z)  # Convenience function to convert to single precision"
   ]
  },
  {
   "cell_type": "markdown",
   "id": "0fc90b4f-dd7e-43fb-af9a-7664f43787ab",
   "metadata": {},
   "source": [
    "Training data that is kept in memory is stored in a `swyft.Samples` object."
   ]
  },
  {
   "cell_type": "code",
   "execution_count": 4,
   "id": "315a3a80-c59b-4daf-b846-afb452b7575c",
   "metadata": {},
   "outputs": [],
   "source": [
    "samples = swyft.Samples(x = x, z = z)"
   ]
  },
  {
   "cell_type": "markdown",
   "id": "c3380509-cb9d-415d-b5f8-787ab75b10f7",
   "metadata": {},
   "source": [
    "## Inference network\n",
    "\n",
    "The inference network is an instance of `swyft.SwyftModule`.  It estimates ratios of the form\n",
    "$$\n",
    "r(A; B) = \\frac{p(A, B)}{p(A)p(B)}\\;,\n",
    "$$\n",
    "where $A$ and $B$ refer to any subset of variables in the training data.  In the below example, we set $A \\to x$ and $B \\to z$.\n",
    "\n",
    "We use here a standard dense network, `swyft.RatioEstimatorMLP1d`, for mapping $x$ and $z$ onto a ratio estimator object."
   ]
  },
  {
   "cell_type": "code",
   "execution_count": 33,
   "id": "3e6dc7e9-ff0a-479d-a4e8-fd8025717327",
   "metadata": {},
   "outputs": [],
   "source": [
    "class Network(swyft.SwyftModule):\n",
    "    def __init__(self):\n",
    "        super().__init__()\n",
    "        marginals = ((0, 1), (0, 2))\n",
    "        self.logratios = swyft.LogRatioEstimator_Ndim(num_features = 3, marginals = marginals, varnames = 'z')\n",
    "\n",
    "    def forward(self, A, B):\n",
    "        logratios = self.logratios(A['x'], B['z'])\n",
    "        return logratios"
   ]
  },
  {
   "cell_type": "markdown",
   "id": "2554dbed-fc91-45d2-bfa7-418cdaad67b6",
   "metadata": {},
   "source": [
    "## Trainer\n",
    "\n",
    "Training is now done using the `SwyftTrainer` class, which extends `pytorch_lightning.Trainer` by methods like `infer` (see below)."
   ]
  },
  {
   "cell_type": "code",
   "execution_count": 34,
   "id": "5683ce37-a8d0-4ed7-94a6-512ccc7babcb",
   "metadata": {},
   "outputs": [
    {
     "name": "stderr",
     "output_type": "stream",
     "text": [
      "GPU available: True, used: True\n",
      "TPU available: False, using: 0 TPU cores\n",
      "IPU available: False, using: 0 IPUs\n"
     ]
    }
   ],
   "source": [
    "trainer = swyft.SwyftTrainer(accelerator = 'gpu', gpus=1, max_epochs = 10)"
   ]
  },
  {
   "cell_type": "markdown",
   "id": "053eff99-5d2b-4419-bce7-d938831b623e",
   "metadata": {},
   "source": [
    "The `swyft.Samples` class provides convenience functions to generate data loaders for training and validation data."
   ]
  },
  {
   "cell_type": "code",
   "execution_count": 35,
   "id": "60085c53-3c65-4851-ab71-ea369e365eda",
   "metadata": {},
   "outputs": [],
   "source": [
    "dl_train = samples[:-500].get_dataloader(batch_size = 64, shuffle = True)\n",
    "dl_valid = samples[-500:].get_dataloader(batch_size = 64)"
   ]
  },
  {
   "cell_type": "code",
   "execution_count": 36,
   "id": "c5811d37-d10b-49e8-a8ed-1e6d43caefa4",
   "metadata": {},
   "outputs": [],
   "source": [
    "network = Network()"
   ]
  },
  {
   "cell_type": "code",
   "execution_count": 37,
   "id": "41f7765b-45b8-4684-b820-4f75c9719857",
   "metadata": {},
   "outputs": [
    {
     "name": "stderr",
     "output_type": "stream",
     "text": [
      "LOCAL_RANK: 0 - CUDA_VISIBLE_DEVICES: [0]\n",
      "\n",
      "  | Name      | Type                   | Params\n",
      "-----------------------------------------------------\n",
      "0 | logratios | LogRatioEstimator_Ndim | 35.2 K\n",
      "-----------------------------------------------------\n",
      "35.2 K    Trainable params\n",
      "0         Non-trainable params\n",
      "35.2 K    Total params\n",
      "0.141     Total estimated model params size (MB)\n"
     ]
    },
    {
     "name": "stdout",
     "output_type": "stream",
     "text": [
      "Epoch 0:  95%|█████████▍| 149/157 [00:01<00:00, 98.46it/s, loss=-2.63, v_num=9927147]\n",
      "Validating: 0it [00:00, ?it/s]\u001b[A\n",
      "Epoch 0: 100%|██████████| 157/157 [00:01<00:00, 101.82it/s, loss=-2.63, v_num=9927147, val_loss=-2.58]\n",
      "Epoch 1:  96%|█████████▌| 150/157 [00:01<00:00, 99.33it/s, loss=-2.64, v_num=9927147, val_loss=-2.58] \n",
      "Validating: 0it [00:00, ?it/s]\u001b[A\n",
      "Epoch 1: 100%|██████████| 157/157 [00:01<00:00, 102.14it/s, loss=-2.64, v_num=9927147, val_loss=-2.63]\n",
      "Epoch 2:  96%|█████████▌| 150/157 [00:01<00:00, 99.59it/s, loss=-2.69, v_num=9927147, val_loss=-2.63] \n",
      "Validating: 0it [00:00, ?it/s]\u001b[A\n",
      "Epoch 2: 100%|██████████| 157/157 [00:01<00:00, 102.45it/s, loss=-2.69, v_num=9927147, val_loss=-2.60]\n",
      "Epoch 3:  96%|█████████▌| 150/157 [00:01<00:00, 98.83it/s, loss=-2.68, v_num=9927147, val_loss=-2.60] \n",
      "Validating: 0it [00:00, ?it/s]\u001b[A\n",
      "Epoch 3: 100%|██████████| 157/157 [00:01<00:00, 101.48it/s, loss=-2.68, v_num=9927147, val_loss=-2.66]\n",
      "Epoch 4:  96%|█████████▌| 150/157 [00:01<00:00, 98.18it/s, loss=-2.7, v_num=9927147, val_loss=-2.66]  \n",
      "Validating: 0it [00:00, ?it/s]\u001b[A\n",
      "Epoch 4: 100%|██████████| 157/157 [00:01<00:00, 101.02it/s, loss=-2.7, v_num=9927147, val_loss=-2.66]\n",
      "Epoch 5:  96%|█████████▌| 150/157 [00:01<00:00, 99.88it/s, loss=-2.68, v_num=9927147, val_loss=-2.66]\n",
      "Validating: 0it [00:00, ?it/s]\u001b[A\n",
      "Epoch 5: 100%|██████████| 157/157 [00:01<00:00, 102.74it/s, loss=-2.68, v_num=9927147, val_loss=-2.64]\n",
      "Epoch 6:  96%|█████████▌| 150/157 [00:01<00:00, 99.64it/s, loss=-2.68, v_num=9927147, val_loss=-2.64] \n",
      "Validating: 0it [00:00, ?it/s]\u001b[A\n",
      "Epoch 6: 100%|██████████| 157/157 [00:01<00:00, 102.50it/s, loss=-2.68, v_num=9927147, val_loss=-2.68]\n",
      "Epoch 7:  96%|█████████▌| 150/157 [00:01<00:00, 99.44it/s, loss=-2.7, v_num=9927147, val_loss=-2.68]  \n",
      "Validating: 0it [00:00, ?it/s]\u001b[A\n",
      "Epoch 7: 100%|██████████| 157/157 [00:01<00:00, 102.30it/s, loss=-2.7, v_num=9927147, val_loss=-2.67]\n",
      "Epoch 8:  96%|█████████▌| 150/157 [00:01<00:00, 99.61it/s, loss=-2.67, v_num=9927147, val_loss=-2.67]\n",
      "Validating: 0it [00:00, ?it/s]\u001b[A\n",
      "Epoch 8: 100%|██████████| 157/157 [00:01<00:00, 102.48it/s, loss=-2.67, v_num=9927147, val_loss=-2.68]\n",
      "Epoch 9:  96%|█████████▌| 150/157 [00:01<00:00, 100.13it/s, loss=-2.68, v_num=9927147, val_loss=-2.68]\n",
      "Validating: 0it [00:00, ?it/s]\u001b[A\n",
      "Epoch 9: 100%|██████████| 157/157 [00:01<00:00, 103.00it/s, loss=-2.68, v_num=9927147, val_loss=-2.65]\n",
      "Epoch 9: 100%|██████████| 157/157 [00:01<00:00, 101.81it/s, loss=-2.68, v_num=9927147, val_loss=-2.65]\n"
     ]
    }
   ],
   "source": [
    "trainer.fit(network, dl_train, dl_valid)"
   ]
  },
  {
   "cell_type": "markdown",
   "id": "a7bd5cdf-d1d1-4bbc-b70a-387d8b0a22a3",
   "metadata": {},
   "source": [
    "## Inference"
   ]
  },
  {
   "cell_type": "markdown",
   "id": "0a2a76de-45c5-445b-b45d-80da8448f4d2",
   "metadata": {},
   "source": [
    "We assume that we measure the values $x=0.2$."
   ]
  },
  {
   "cell_type": "code",
   "execution_count": 26,
   "id": "841a27bb-f8fd-48ab-9504-d8881a4f6777",
   "metadata": {},
   "outputs": [],
   "source": [
    "x0 = 0.2"
   ]
  },
  {
   "cell_type": "markdown",
   "id": "ee9bdb3a-243f-4457-b826-d7ec967f0a98",
   "metadata": {},
   "source": [
    "We first generate a large number of prior samples."
   ]
  },
  {
   "cell_type": "code",
   "execution_count": 27,
   "id": "6ec1f09c-de11-4688-89bd-564f75a64bb8",
   "metadata": {},
   "outputs": [],
   "source": [
    "prior_samples = swyft.Samples(dict(z = swyft.to_numpy32(np.random.randn(100000, 3))))"
   ]
  },
  {
   "cell_type": "markdown",
   "id": "1fc2a59b-a7b6-404a-ac72-d86d6b8a6185",
   "metadata": {},
   "source": [
    "Swyft provides the method `infer` in order to efficiently evaluate the inference network. That method takes either dataloaders or individual samples (i.e. dictionaries of tensors) as input.  This efficiently evaluates the ratio $r(x; z)$ for a large number of prior samples $z$ for a fixed values of $x$."
   ]
  },
  {
   "cell_type": "code",
   "execution_count": 28,
   "id": "9e57adc9-5f6a-49a3-919d-41f570578d59",
   "metadata": {},
   "outputs": [],
   "source": [
    "A = swyft.Sample(x = torch.tensor([x0, x0, x0]))\n",
    "B = prior_samples.get_dataloader(batch_size = 1024)"
   ]
  },
  {
   "cell_type": "code",
   "execution_count": 29,
   "id": "6e1cbc13-ab64-43a8-acf0-4ab9f9c650f6",
   "metadata": {},
   "outputs": [
    {
     "name": "stderr",
     "output_type": "stream",
     "text": [
      "LOCAL_RANK: 0 - CUDA_VISIBLE_DEVICES: [0]\n"
     ]
    },
    {
     "name": "stdout",
     "output_type": "stream",
     "text": [
      "Predicting: 149it [00:00, ?it/s]\n"
     ]
    }
   ],
   "source": [
    "predictions = trainer.infer(network, A, B)"
   ]
  },
  {
   "cell_type": "markdown",
   "id": "edebf21b-b0b6-4525-8bd2-7b9f25f76204",
   "metadata": {},
   "source": [
    "## Plot results\n",
    "\n",
    "First we obtain samples from the posterior, using subsampling with a weight that happens to be given by $e^r$."
   ]
  },
  {
   "cell_type": "code",
   "execution_count": 30,
   "id": "81d62050-e573-4a1a-b106-8226bc203ac4",
   "metadata": {},
   "outputs": [
    {
     "name": "stdout",
     "output_type": "stream",
     "text": [
      "[['z[0]' 'z[1]']\n",
      " ['z[0]' 'z[2]']]\n"
     ]
    }
   ],
   "source": [
    "post_samples = predictions.sample(1_000_000)[:,0].numpy()\n",
    "parname = predictions.parnames\n",
    "print(parname)"
   ]
  },
  {
   "cell_type": "code",
   "execution_count": 31,
   "id": "9cdd405b-5bbf-4b9d-8020-ef4498066de4",
   "metadata": {},
   "outputs": [
    {
     "data": {
      "text/plain": [
       "Text(0, 0.5, 'z[1]')"
      ]
     },
     "execution_count": 31,
     "metadata": {},
     "output_type": "execute_result"
    },
    {
     "data": {
      "image/png": "[encoded data removed]",
      "text/plain": [
       "<Figure size 432x288 with 1 Axes>"
      ]
     },
     "metadata": {
      "needs_background": "light"
     },
     "output_type": "display_data"
    }
   ],
   "source": [
    "plt.scatter(post_samples[:,0], post_samples[:,1])\n",
    "plt.xlabel(parname[0,0])\n",
    "plt.ylabel(parname[0,1])"
   ]
  },
  {
   "cell_type": "code",
   "execution_count": null,
   "id": "2c3c0db1-0770-412d-8b7e-094a0a733a77",
   "metadata": {},
   "outputs": [],
   "source": []
  }
 ],
 "metadata": {
  "kernelspec": {
   "display_name": "Python 3",
   "language": "python",
   "name": "python3"
  },
  "language_info": {
   "codemirror_mode": {
    "name": "ipython",
    "version": 3
   },
   "file_extension": ".py",
   "mimetype": "text/x-python",
   "name": "python",
   "nbconvert_exporter": "python",
   "pygments_lexer": "ipython3",
   "version": "3.9.7"
  }
 },
 "nbformat": 4,
 "nbformat_minor": 5
}
