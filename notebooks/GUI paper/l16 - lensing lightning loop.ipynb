{
 "cells": [
  {
   "cell_type": "code",
   "execution_count": 1,
   "id": "3822aac4-d5eb-4979-b237-70c80d2489e8",
   "metadata": {},
   "outputs": [],
   "source": [
    "# Makes it easier to debug\n",
    "%load_ext autoreload\n",
    "#%load_ext line_profiler\n",
    "%autoreload 2"
   ]
  },
  {
   "cell_type": "code",
   "execution_count": 2,
   "id": "0297c907",
   "metadata": {},
   "outputs": [],
   "source": [
    "import pylab as plt\n",
    "import numpy as np\n",
    "import skimage.transform\n",
    "import skimage.restoration\n",
    "from tqdm import tqdm\n",
    "import skimage.filters\n",
    "import torch\n",
    "import torch.nn as nn\n",
    "import typing as tp\n",
    "from pyrofit.utils import pad_dims\n",
    "from torch.nn.functional import grid_sample\n",
    "from pyro import distributions as dist\n",
    "from pyrofit.lensing.utils import get_meshgrid\n",
    "from pyrofit.lensing.lenses import SPLELens\n",
    "from pyrofit.lensing.sources import SersicSource, AnalyticSource\n",
    "from pyrofit.utils.torchutils import _mid_many, unravel_index\n",
    "from pyrofit.utils import kNN\n",
    "from fft_conv_pytorch import fft_conv, FFTConv2d\n",
    "import swyft\n",
    "from dataclasses import dataclass\n",
    "from swyft.alpha.components import RatioEstimatorGaussian1d, MeanStd, SimpleDataset\n",
    "import pytorch_lightning as pl\n",
    "from torch.nn import functional as F"
   ]
  },
  {
   "cell_type": "markdown",
   "id": "cbd9eea8-0bdc-4628-9d64-76a0222d8279",
   "metadata": {},
   "source": [
    "## Todo list\n",
    "\n",
    "- [ ] Dictionary-valued parameters\n",
    "- [ ] No enforced network structure"
   ]
  },
  {
   "cell_type": "markdown",
   "id": "54ca6745",
   "metadata": {},
   "source": [
    "## Basic idea\n",
    "\n",
    "1) We learn $p(L|I)$ based on joined samples $L, I \\sim p(L, I)$ vs marginal samples $L, I \\sim p(L) p(I)$.  Here, we identify $z = L$ and $x = I$.\n",
    "2) We learn $p(S|I, L)$, based on the identification of $x = (I, L)$ and $z=S$."
   ]
  },
  {
   "cell_type": "code",
   "execution_count": 3,
   "id": "e7c8a19d",
   "metadata": {},
   "outputs": [],
   "source": [
    "torch.cuda.set_device(0)\n",
    "torch.set_default_tensor_type(torch.cuda.FloatTensor)\n",
    "DEVICE='cuda'"
   ]
  },
  {
   "cell_type": "code",
   "execution_count": 4,
   "id": "7ca2b302",
   "metadata": {},
   "outputs": [],
   "source": [
    "NPIX = 50\n",
    "CHANNELS = [0.5, 1, 2, 4, 8, 16, 32]\n",
    "SIGMA = 0.02\n",
    "KNN = 3"
   ]
  },
  {
   "cell_type": "markdown",
   "id": "bc4ebb62",
   "metadata": {
    "tags": []
   },
   "source": [
    "## General helper functions - should be part of swyft"
   ]
  },
  {
   "cell_type": "code",
   "execution_count": 5,
   "id": "beb9c689-6b8e-49af-b23d-0f04717adf54",
   "metadata": {},
   "outputs": [],
   "source": [
    "def get_1d_rect_bounds(samples, th = 1e-6):\n",
    "    bounds = {}\n",
    "    for k, v in samples.items():\n",
    "        w = v[..., 0]\n",
    "        p = v[..., 1]\n",
    "        all_max = p.max(dim=0).values\n",
    "        all_min = p.min(dim=0).values\n",
    "        constr_min = torch.where(w > np.log(th), p, all_max).min(dim=0).values\n",
    "        constr_max = torch.where(w > np.log(th), p, all_min).max(dim=0).values\n",
    "        bound = torch.stack([constr_min, constr_max], dim = -1)\n",
    "        bounds[k] = bound\n",
    "    return bounds"
   ]
  },
  {
   "cell_type": "code",
   "execution_count": 6,
   "id": "415f357a-89d9-4922-8579-eb73dd5c92bd",
   "metadata": {},
   "outputs": [],
   "source": [
    "def append_randomized(z):\n",
    "    assert len(z)%2 == 0, \"Cannot expand odd batch dimensions.\"\n",
    "    n = len(z)//2\n",
    "    idx = torch.randperm(n)\n",
    "    z = torch.cat([z, z[n+idx], z[idx]])\n",
    "    return z"
   ]
  },
  {
   "cell_type": "code",
   "execution_count": 7,
   "id": "67a0b70a-6dcd-4adf-8763-e1ce4e2205d4",
   "metadata": {},
   "outputs": [],
   "source": [
    "def valmap(m, d):\n",
    "    return {k: m(v) for k, v in d.items()}"
   ]
  },
  {
   "cell_type": "code",
   "execution_count": 8,
   "id": "891c9177-32b1-4303-9d27-850137533320",
   "metadata": {},
   "outputs": [],
   "source": [
    "class SwyftModel(pl.LightningModule):\n",
    "    def __init__(self):\n",
    "        super().__init__()\n",
    "        self._predict_condition_x = {}\n",
    "        self._predict_condition_z = {}\n",
    "        \n",
    "    def configure_optimizers(self):\n",
    "        optimizer = torch.optim.Adam(self.parameters(), lr=1e-3)\n",
    "        #scheduler = torch.optim.lr_scheduler.StepLR(optimizer, 30)\n",
    "        lr_scheduler = {\"scheduler\": torch.optim.lr_scheduler.ReduceLROnPlateau(optimizer), \"monitor\": \"val_loss\"}\n",
    "        return dict(optimizer = optimizer, lr_scheduler = lr_scheduler)\n",
    "\n",
    "    def _log_ratios(self, x, z):\n",
    "        out = self(x, z)\n",
    "        log_ratios = torch.cat([val[..., 0].flatten(start_dim = 1) for val in out.values()])\n",
    "        return log_ratios\n",
    "    \n",
    "    def validation_step(self, batch, batch_idx):\n",
    "        loss = self._calc_loss(batch, batch_idx)\n",
    "        self.log(\"val_loss\", loss)\n",
    "        return loss\n",
    "        \n",
    "    def _calc_loss(self, batch, batch_idx):\n",
    "        x, z = batch\n",
    "        z = valmap(append_randomized, z)\n",
    "        log_ratios = self._log_ratios(x, z)\n",
    "        nbatch = len(log_ratios)//2\n",
    "        y = torch.zeros_like(log_ratios)\n",
    "        y[:nbatch, ...] = 1\n",
    "        loss = F.binary_cross_entropy_with_logits(log_ratios, y, reduce = False)\n",
    "        loss = loss.sum()\n",
    "        return loss\n",
    "    \n",
    "    def training_step(self, batch, batch_idx):\n",
    "        loss = self._calc_loss(batch, batch_idx)\n",
    "        self.log(\"train_loss\", loss)\n",
    "        return loss\n",
    "    \n",
    "    def _set_predict_conditions(self, condition_x, condition_z):\n",
    "        self._predict_condition_x = {k: v.unsqueeze(0) for k, v in condition_x.items()}\n",
    "        self._predict_condition_z = {k: v.unsqueeze(0) for k, v in condition_z.items()}\n",
    "    \n",
    "    def predict_step(self, batch, batch_idx):\n",
    "        x, z = batch\n",
    "        condition_x = swyft.utils.dict_to_device(self._predict_condition_x, self.device)\n",
    "        x.update(**condition_x)\n",
    "        #z.update(**self._predict_condition_z)\n",
    "        return self(x, z)"
   ]
  },
  {
   "cell_type": "code",
   "execution_count": 9,
   "id": "017181a2-694b-43ac-8022-321df313cb69",
   "metadata": {},
   "outputs": [],
   "source": [
    "def equalize_tensors(a, b):\n",
    "    n, m = len(a), len(b)\n",
    "    if n == m:\n",
    "        return a, b\n",
    "    elif n == 1:\n",
    "        shape = list(a.shape)\n",
    "        shape[0] = m\n",
    "        return a.expand(*shape), b\n",
    "    elif m == 1:\n",
    "        shape = list(b.shape)\n",
    "        shape[0] = n\n",
    "        return a, b.expand(*shape)\n",
    "    elif n < m:\n",
    "        assert m%n == 0, \"Cannot equalize tensors with non-divisible batch sizes.\"\n",
    "        shape = [1 for _ in range(a.dim())]\n",
    "        shape[0] = m//n\n",
    "        return a.repeat(*shape), b\n",
    "    else:\n",
    "        assert n%m == 0, \"Cannot equalize tensors with non-divisible batch sizes.\"\n",
    "        shape = [1 for _ in range(b.dim())]\n",
    "        shape[0] = n//m\n",
    "        return a, b.repeat(*shape)"
   ]
  },
  {
   "cell_type": "code",
   "execution_count": 10,
   "id": "c98f58bd-734b-4f5b-8074-8be288677572",
   "metadata": {},
   "outputs": [],
   "source": [
    "class SwyftTrainer(pl.Trainer):\n",
    "    def infer(self, dataloader, condition_x = {}, condition_z = {}):\n",
    "        self.model._set_predict_conditions(condition_x, condition_z)\n",
    "        ratio_batches = self.predict(dataloaders = dataloader)\n",
    "        keys = ratio_batches[0].keys()\n",
    "        d = {k: torch.cat([r[k] for r in ratio_batches]) for k in keys}\n",
    "        self.model._set_predict_conditions({}, {})  # Set it back to no conditioning\n",
    "        return d"
   ]
  },
  {
   "cell_type": "code",
   "execution_count": 11,
   "id": "80e6ba90-5d1f-45bb-bbb4-c90cff332e9d",
   "metadata": {},
   "outputs": [],
   "source": [
    "class DictStore(dict):\n",
    "    def __len__(self):\n",
    "        n = [len(v) for v in self.values()]\n",
    "        assert all([x == n[0] for x in n]), \"Inconsistent lengths in DictStore\"\n",
    "        return n[0]\n",
    "    \n",
    "    def _get_ith_entry(self, i):\n",
    "        return {k: v[i] for k, v in self.items()}\n",
    "    \n",
    "    def __getitem__(self, k):\n",
    "        if isinstance(k, int):\n",
    "            return self._get_ith_entry(k)\n",
    "        else:\n",
    "            return super().__getitem__(k)"
   ]
  },
  {
   "cell_type": "code",
   "execution_count": 12,
   "id": "702115d3-5f3f-4723-8d1f-462788808b37",
   "metadata": {},
   "outputs": [],
   "source": [
    "# Generate new dictionary\n",
    "\n",
    "def dictstoremap(model, dictstore):\n",
    "    N = len(dictstore)\n",
    "    out = []\n",
    "    for i in tqdm(range(N)):\n",
    "        x = model(dictstore[i])\n",
    "        out.append(x)\n",
    "    out = torch.utils.data.dataloader.default_collate(out) # using torch internal functionality for this, yay!\n",
    "    out = {k: v.cpu() for k, v in out.items()}\n",
    "    return out"
   ]
  },
  {
   "cell_type": "code",
   "execution_count": 13,
   "id": "81dcfeaf-5932-4b7a-a1be-706b97091fd8",
   "metadata": {},
   "outputs": [],
   "source": [
    "# Since we want to learn the src parameters, which are generated inside the generative model, \n",
    "# we simply attach the flattened src array to the parameter vectors and hope for the best\n",
    "\n",
    "class DictDataset(torch.utils.data.Dataset):\n",
    "    def __init__(self, dataset, x_keys, z_keys, hook = None):\n",
    "        self._dataset = dataset\n",
    "        self._x_keys = x_keys\n",
    "        self._z_keys = z_keys\n",
    "        self._hook = hook\n",
    "\n",
    "    def __len__(self):\n",
    "        return len(self._dataset[list(self._dataset.keys())[0]])\n",
    "    \n",
    "    def __getitem__(self, i):\n",
    "        d = {k: v[i] for k, v in self._dataset.items()}\n",
    "        if self._hook is not None:\n",
    "            d = self._hook(d)\n",
    "        x = {k: d[k] for k in self._x_keys}\n",
    "        z = {k: d[k] for k in self._z_keys}\n",
    "        return x, z"
   ]
  },
  {
   "cell_type": "markdown",
   "id": "e08760c6-3057-415c-8775-4f4c8cdeb8e5",
   "metadata": {},
   "source": [
    "## Physics model"
   ]
  },
  {
   "cell_type": "code",
   "execution_count": 14,
   "id": "dd1acf0b",
   "metadata": {},
   "outputs": [],
   "source": [
    "class RandomSource:\n",
    "    def __init__(self, npix =  NPIX, channels = CHANNELS, K = 129):\n",
    "        self._K = K\n",
    "        self._channels = channels\n",
    "        self._npix = npix\n",
    "        \n",
    "        self._kernels = self._get_kernels(self._K, self._channels)\n",
    "        self._conv = self._get_kernel_conv(self._kernels)\n",
    "        \n",
    "    @staticmethod\n",
    "    def _get_kernels(K, channels):\n",
    "        C = len(channels)\n",
    "        kernel = np.zeros((C, C, K, K))\n",
    "        x = np.linspace(-64, 64, K)\n",
    "        X, Y = np.meshgrid(x, x)\n",
    "        R = (X**2 + Y**2)**0.5\n",
    "\n",
    "        for i, s in enumerate(channels):\n",
    "            kern = np.exp(-0.5*R**2/s**2)\n",
    "            kern /= (kern**2).sum()**0.5\n",
    "            kernel[i, i] = kern\n",
    "\n",
    "        return kernel\n",
    "\n",
    "    @staticmethod\n",
    "    def _get_kernel_conv(kernel):\n",
    "        C = len(kernel)\n",
    "        K = len(kernel[0][0])\n",
    "        gaussian_weights = nn.Parameter(torch.tensor(kernel).float().cuda())\n",
    "        conv = FFTConv2d(in_channels = C, out_channels = C, kernel_size=K, bias=False, padding = int(K/2))\n",
    "        with torch.no_grad():\n",
    "            conv.weight = gaussian_weights\n",
    "        return conv\n",
    "\n",
    "    def _get_source_image(self, seeds, A=0.5, B = 0.3, C = 0.55, D = 4.):\n",
    "        scales = A*(np.array(self._channels)/max(self._channels))**B\n",
    "        seeds = seeds * torch.tensor(scales).cuda().float().unsqueeze(1).unsqueeze(2)\n",
    "        x = torch.linspace(-1, 1, self._npix).to(seeds.device)\n",
    "        X, Y = torch.meshgrid([x, x])\n",
    "        R = (X**2 + Y**2)**0.5\n",
    "        imgc = self._conv(seeds.unsqueeze(0)).squeeze(0).squeeze(0)\n",
    "        img = imgc.sum(axis=-3)\n",
    "        img = torch.exp(img)*(1/(1+(R/C)**D))\n",
    "        return img\n",
    "\n",
    "    def __call__(self):\n",
    "        C = len(self._channels)\n",
    "        return self._get_source_image(torch.randn(C, self._npix, self._npix).cuda()).detach()"
   ]
  },
  {
   "cell_type": "code",
   "execution_count": 15,
   "id": "f9cc9449",
   "metadata": {},
   "outputs": [],
   "source": [
    "class ArraySource(AnalyticSource):\n",
    "    def __init__(self, image_array, x: float = 0., y: float = 0., scale: float = 1., peak_intensity: float = 1.,\n",
    "                 origin: tp.Literal['lower', 'upper'] = 'lower', aspect=None, device=None):\n",
    "        super().__init__(device=device)\n",
    "\n",
    "        self.x, self.y = x, y\n",
    "        self.peak_intensity = peak_intensity\n",
    "\n",
    "        self.image = self._image(image_array, peak_intensity, device)\n",
    "\n",
    "        if aspect is None:\n",
    "            aspect = self.image.shape[-2] / self.image.shape[-1]\n",
    "        self.semi_scale = torch.tensor([scale, (-1 if origin == 'lower' else 1) * aspect * scale], device=device) / 2\n",
    "\n",
    "    def _image(self, image_array, peak_intensity=None, device=None) -> torch.Tensor:\n",
    "        image = torch.tensor(image_array)\n",
    "        if image.shape[-1] in (1, 3, 4):\n",
    "            image = torch.movedim(image, -1, -3)\n",
    "        if peak_intensity is not None:\n",
    "            image = image.to(torch.get_default_dtype())\n",
    "            image = image / torch.amax(image, (-2, -1), keepdim=True) * peak_intensity\n",
    "        self.rollback_dims = image.ndim\n",
    "        return pad_dims(image, ndim=4)[0].to(device=device, dtype=torch.get_default_dtype())\n",
    "\n",
    "    def flux(self, X, Y):\n",
    "        grid = torch.stack((X - self.x, Y - self.y), dim=-1).reshape(-1, *X.shape[-2:], 2) / self.semi_scale\n",
    "\n",
    "        return grid_sample(\n",
    "            self.image.expand(grid.shape[0], *self.image.shape[-3:]),\n",
    "            grid,\n",
    "            align_corners=True\n",
    "        ).reshape(*X.shape[:-2], *self.image.shape[-self.rollback_dims:-2], *X.shape[-2:])"
   ]
  },
  {
   "cell_type": "code",
   "execution_count": 16,
   "id": "de7407bb",
   "metadata": {},
   "outputs": [],
   "source": [
    "def get_kNN_idx(X, Y, Xsrc, Ysrc, k = 1):\n",
    "        \"\"\"Return indices into `Xsrc` and `Ysrc` closest to each point in `psrc`.\"\"\"\n",
    "        P = torch.stack((X, Y), -1).flatten(-3, -2)\n",
    "        Psrc = torch.stack((Xsrc, Ysrc), -1).flatten(-3, -2)\n",
    "        idx = unravel_index(kNN(P, Psrc, k).squeeze(-1), Xsrc.shape[-2:])\n",
    "        idx = torch.reshape(idx, (NPIX, NPIX, k, 2))\n",
    "        return idx"
   ]
  },
  {
   "cell_type": "code",
   "execution_count": 17,
   "id": "5ff75df2-d1e7-4791-91de-9f4711c40ece",
   "metadata": {},
   "outputs": [],
   "source": [
    "def deproject_idx(image, kNN_idx):\n",
    "        \"\"\"Return indices into `Xsrc` and `Ysrc` closest to each point in `psrc`.\"\"\"\n",
    "        k = kNN_idx.shape[-2]\n",
    "        B = image.shape[0]\n",
    "        #print(k, B)\n",
    "        #print(image.shape)\n",
    "        #print(kNN_idx.shape)\n",
    "        # TODO: Need to speed up nested python loops\n",
    "        src_image = torch.stack([torch.stack([image[b, kNN_idx[b, ..., i,0], kNN_idx[b, ..., i,1]] for i in range(k)]) for b in range(B)])\n",
    "        return src_image"
   ]
  },
  {
   "cell_type": "code",
   "execution_count": 18,
   "id": "06bcfcf1",
   "metadata": {},
   "outputs": [],
   "source": [
    "def image_generator(x, y, phi, q, r_ein, slope, src_image):\n",
    "    res = 0.0125*8                      # resolution in arcsec\n",
    "    nx, ny = 50, 50                   # number of pixels\n",
    "    X, Y = get_meshgrid(res, nx, ny)    # grid\n",
    "\n",
    "    # Lens\n",
    "    lens = SPLELens(device=DEVICE)\n",
    "    lens.XY = X,Y\n",
    "    # Displacement field\n",
    "    alphas = lens(x=x, y=y, phi=phi, q=q, r_ein=r_ein, slope=slope)\n",
    "\n",
    "    # Lensing equation\n",
    "    X_src = X - alphas[..., 0, :, :]\n",
    "    Y_src = Y - alphas[..., 1, :, :]\n",
    "\n",
    "    # Source\n",
    "    source = ArraySource(src_image, peak_intensity = None, scale = 1)\n",
    "\n",
    "    # Lensed source\n",
    "    image = source(X=X_src, Y=Y_src)\n",
    "    \n",
    "    return image, [X, Y, X_src, Y_src]"
   ]
  },
  {
   "cell_type": "markdown",
   "id": "93d83b8b-4b96-4f92-b71b-84ecba33cc68",
   "metadata": {},
   "source": [
    "## Problem-specific analysis components"
   ]
  },
  {
   "cell_type": "code",
   "execution_count": 19,
   "id": "db2c3024-004e-4ad1-8e9a-93999f462752",
   "metadata": {},
   "outputs": [],
   "source": [
    "def model(pars):\n",
    "    torch.cuda.set_device(0)\n",
    "    torch.set_default_tensor_type(torch.cuda.FloatTensor)    \n",
    "    x, y, phi, q, r_ein, slope = pars['z_lens']\n",
    "    slope = 2.0\n",
    "    src_image = pars['src'].cuda()\n",
    "    img, coords = image_generator(x, y, phi, q, r_ein, slope, src_image)\n",
    "    X, Y, Xsrc, Ysrc = coords\n",
    "    kNN_idx = get_kNN_idx(X/5, -Y/5, Xsrc, Ysrc, k = KNN)  # TODO: Need to sort out strange 1/5 and -1/5 factors\n",
    "    torch.set_default_tensor_type(torch.FloatTensor)\n",
    "    return dict(img = img.cpu(), kNN_idx = kNN_idx.cpu(), X = X.cpu(), Y = Y.cpu(), Xsrc = Xsrc.cpu(), Ysrc = Ysrc.cpu())"
   ]
  },
  {
   "cell_type": "code",
   "execution_count": 20,
   "id": "fb6e5ea0-e5a9-433e-bd10-1f6fa9155e70",
   "metadata": {},
   "outputs": [],
   "source": [
    "def noise(d):\n",
    "    d['img'] = d['img'] + torch.randn_like(d['img'])*SIGMA\n",
    "    return d"
   ]
  },
  {
   "cell_type": "code",
   "execution_count": 21,
   "id": "8d94528e",
   "metadata": {},
   "outputs": [],
   "source": [
    "# Draw from source prior\n",
    "def prior_src(N, bounds = None):\n",
    "    rnd_src = RandomSource()\n",
    "    src = torch.stack([rnd_src().cpu() for _ in range(N)])\n",
    "    return DictStore(src=src)\n",
    "\n",
    "def prior_lens(N, bounds = None):\n",
    "    if bounds is not None:\n",
    "        low = bounds['z_lens'][..., 0]\n",
    "        high = bounds['z_lens'][..., 1]\n",
    "    else:\n",
    "        low =  np.array([-0.2, -0.2, 0, 0.2, 1.0, 1.5])\n",
    "        high = np.array([0.2, 0.2, 1.5, 0.9, 2.0, 2.5])\n",
    "    draw = np.array([np.random.uniform(low=low, high=high) for _ in range(N)])\n",
    "    return DictStore(z_lens = torch.tensor(draw).float())"
   ]
  },
  {
   "cell_type": "code",
   "execution_count": 22,
   "id": "72f07472-6e92-4892-83b3-ae91d26e0161",
   "metadata": {},
   "outputs": [],
   "source": [
    "# https://stackoverflow.com/questions/16463582/memoize-to-disk-python-persistent-memoization\n",
    "#def persist_to_file():\n",
    "def persist_to_file(original_func):\n",
    "        def new_func(*args, file_path = None, **kwargs):\n",
    "            cache = None\n",
    "            if file_path is not None:\n",
    "                try:\n",
    "                    cache = torch.load(file_path)\n",
    "                except (FileNotFoundError, ValueError):\n",
    "                    pass\n",
    "            if cache is None:\n",
    "                cache = original_func(*args, **kwargs)\n",
    "                if file_path is not None:\n",
    "                    torch.save(cache, file_path)\n",
    "            return cache\n",
    "        return new_func\n",
    "    #return decorator"
   ]
  },
  {
   "cell_type": "code",
   "execution_count": 23,
   "id": "3693d77f-a548-48db-971a-588842f173b0",
   "metadata": {},
   "outputs": [],
   "source": [
    "@persist_to_file\n",
    "def get_datadict(N, bounds = None):\n",
    "    prior_dict = DictStore(**prior_src(N), **prior_lens(N))\n",
    "    sim_dict = dictstoremap(model, prior_dict)\n",
    "    dict_store = DictStore(**prior_dict, **sim_dict)\n",
    "    return dict_store"
   ]
  },
  {
   "cell_type": "code",
   "execution_count": 24,
   "id": "2a6f57ea-00e0-415f-be10-2de6e555878f",
   "metadata": {},
   "outputs": [],
   "source": [
    "@persist_to_file\n",
    "def get_fake_data():\n",
    "    dict_store = get_datadict(10)\n",
    "    dataset = DictDataset(dict_store, hook = noise, x_keys = ['img'], z_keys=['z_lens', 'src'])\n",
    "    x0, z0 = dataset[0]\n",
    "    return x0, z0"
   ]
  },
  {
   "cell_type": "markdown",
   "id": "d2be2f92-d80e-4aa5-9844-302ce3ea11f6",
   "metadata": {},
   "source": [
    "## Definition of target image"
   ]
  },
  {
   "cell_type": "code",
   "execution_count": 25,
   "id": "ac7277de-5e36-4367-bd04-018187229985",
   "metadata": {},
   "outputs": [
    {
     "name": "stdout",
     "output_type": "stream",
     "text": [
      "tensor([-0.1346, -0.0670,  0.9889,  0.3908,  1.3470,  2.4581], device='cpu')\n"
     ]
    },
    {
     "data": {
      "text/plain": [
       "<matplotlib.colorbar.Colorbar at 0x14d15614b5b0>"
      ]
     },
     "execution_count": 25,
     "metadata": {},
     "output_type": "execute_result"
    },
    {
     "data": {
      "image/png": "[encoded data removed]",
      "text/plain": [
       "<Figure size 1080x360 with 4 Axes>"
      ]
     },
     "metadata": {
      "needs_background": "light"
     },
     "output_type": "display_data"
    }
   ],
   "source": [
    "x0, z0 = get_fake_data(file_path = 'fake_data3.pt')\n",
    "\n",
    "print(z0['z_lens'])\n",
    "plt.figure(figsize=(15, 5))\n",
    "plt.subplot(1, 2, 1)\n",
    "plt.imshow(x0['img'])\n",
    "plt.colorbar()\n",
    "plt.subplot(1, 2, 2)\n",
    "plt.imshow(z0['src'])\n",
    "plt.colorbar()"
   ]
  },
  {
   "cell_type": "code",
   "execution_count": 26,
   "id": "e0afb416-08aa-4499-8914-2b321d905f90",
   "metadata": {},
   "outputs": [],
   "source": [
    "class LensNetwork(SwyftModel):\n",
    "    def __init__(self):\n",
    "        super().__init__()\n",
    "        self.online_z_score = swyft.networks.OnlineDictStandardizingLayer(dict(img = (50, 50)))\n",
    "        self.CNN = torch.nn.Sequential(\n",
    "            torch.nn.Conv2d(1, 10, 3),\n",
    "            torch.nn.MaxPool2d(2),\n",
    "            torch.nn.Conv2d(10, 20, 3),\n",
    "            torch.nn.MaxPool2d(2),\n",
    "            torch.nn.Conv2d(20, 40, 3),\n",
    "            torch.nn.MaxPool2d(2),\n",
    "            torch.nn.Flatten(),\n",
    "            torch.nn.Linear(640, 128),\n",
    "            torch.nn.ReLU(),\n",
    "            torch.nn.Linear(128, 16),\n",
    "        )\n",
    "        self.ptrans = swyft.networks.ParameterTransform(\n",
    "            6, [(0,), (1,), (2,), (3,), (4,), (5,)], online_z_score=False\n",
    "        )\n",
    "        n_marginals, n_block_parameters = self.ptrans.marginal_block_shape\n",
    "        n_observation_features = 16\n",
    "        self.classifier = swyft.networks.MarginalClassifier(\n",
    "            n_marginals,\n",
    "            n_observation_features + n_block_parameters,\n",
    "            hidden_features=256,\n",
    "            dropout_probability = 0.1,\n",
    "            num_blocks=3,\n",
    "        )\n",
    "        \n",
    "    def forward(self, x, z):\n",
    "        # Digesting x\n",
    "        x = dict(img = x['img'])\n",
    "        x = self.online_z_score(x)['img']\n",
    "        x = self.CNN(x.unsqueeze(1)).squeeze(1)\n",
    "        \n",
    "        # Digesting z\n",
    "        z = self.ptrans(z['z_lens'])\n",
    "        \n",
    "        # Combine!\n",
    "        x, z = equalize_tensors(x, z)\n",
    "        ratios = self.classifier(x, z)\n",
    "        ratios = ratios.unsqueeze(-1)\n",
    "        ratios = torch.cat([ratios, z], dim=-1)\n",
    "        return dict(z_lens=ratios)"
   ]
  },
  {
   "cell_type": "markdown",
   "id": "39dac473-98a3-481e-b9af-b8d30157fda2",
   "metadata": {},
   "source": [
    "# Workflow"
   ]
  },
  {
   "cell_type": "code",
   "execution_count": 34,
   "id": "8919a0b9-e26e-42f3-b2c2-e5bb6d11747c",
   "metadata": {},
   "outputs": [],
   "source": [
    "SMOKE_TEST = True"
   ]
  },
  {
   "cell_type": "code",
   "execution_count": 35,
   "id": "eb94e0a7-d80e-46d0-82fd-eeb6143b5b81",
   "metadata": {},
   "outputs": [],
   "source": [
    "if SMOKE_TEST:\n",
    "    Ntrain1, ME1, R1, Nsrc = 1000, 10, 1, 100\n",
    "else:\n",
    "    Ntrain1, ME1, R1, Nsrc = 5000, 100, 3, 1000"
   ]
  },
  {
   "cell_type": "code",
   "execution_count": 36,
   "id": "4979837a-be5f-43ef-8a84-e4752a1c9228",
   "metadata": {
    "tags": []
   },
   "outputs": [
    {
     "name": "stderr",
     "output_type": "stream",
     "text": [
      "GPU available: True, used: True\n",
      "TPU available: False, using: 0 TPU cores\n",
      "IPU available: False, using: 0 IPUs\n",
      "LOCAL_RANK: 0 - CUDA_VISIBLE_DEVICES: [0]\n",
      "\n",
      "  | Name           | Type                         | Params\n",
      "----------------------------------------------------------------\n",
      "0 | online_z_score | OnlineDictStandardizingLayer | 0     \n",
      "1 | CNN            | Sequential                   | 93.3 K\n",
      "2 | ptrans         | ParameterTransform           | 0     \n",
      "3 | classifier     | MarginalClassifier           | 2.4 M \n",
      "----------------------------------------------------------------\n",
      "2.5 M     Trainable params\n",
      "0         Non-trainable params\n",
      "2.5 M     Total params\n",
      "10.038    Total estimated model params size (MB)\n",
      "/home/weniger/miniconda3/envs/p38/lib/python3.8/site-packages/pytorch_lightning/callbacks/model_checkpoint.py:631: UserWarning: Checkpoint directory /home/weniger/codes/swyft_papergui/notebooks/GUI paper/lightning_logs/version_8757722/checkpoints exists and is not empty.\n",
      "  rank_zero_warn(f\"Checkpoint directory {dirpath} exists and is not empty.\")\n"
     ]
    },
    {
     "data": {
      "application/vnd.jupyter.widget-view+json": {
       "model_id": "",
       "version_major": 2,
       "version_minor": 0
      },
      "text/plain": [
       "Validation sanity check: 0it [00:00, ?it/s]"
      ]
     },
     "metadata": {},
     "output_type": "display_data"
    },
    {
     "name": "stderr",
     "output_type": "stream",
     "text": [
      "/home/weniger/miniconda3/envs/p38/lib/python3.8/site-packages/pytorch_lightning/trainer/data_loading.py:432: UserWarning: The number of training samples (16) is smaller than the logging interval Trainer(log_every_n_steps=50). Set a lower value for log_every_n_steps if you want to see logs for the training epoch.\n",
      "  rank_zero_warn(\n"
     ]
    },
    {
     "data": {
      "application/vnd.jupyter.widget-view+json": {
       "model_id": "630ba4c5558342eb87d6ac51b7ccbc88",
       "version_major": 2,
       "version_minor": 0
      },
      "text/plain": [
       "Training: 0it [00:00, ?it/s]"
      ]
     },
     "metadata": {},
     "output_type": "display_data"
    },
    {
     "data": {
      "application/vnd.jupyter.widget-view+json": {
       "model_id": "",
       "version_major": 2,
       "version_minor": 0
      },
      "text/plain": [
       "Validating: 0it [00:00, ?it/s]"
      ]
     },
     "metadata": {},
     "output_type": "display_data"
    },
    {
     "data": {
      "application/vnd.jupyter.widget-view+json": {
       "model_id": "",
       "version_major": 2,
       "version_minor": 0
      },
      "text/plain": [
       "Validating: 0it [00:00, ?it/s]"
      ]
     },
     "metadata": {},
     "output_type": "display_data"
    },
    {
     "data": {
      "application/vnd.jupyter.widget-view+json": {
       "model_id": "",
       "version_major": 2,
       "version_minor": 0
      },
      "text/plain": [
       "Validating: 0it [00:00, ?it/s]"
      ]
     },
     "metadata": {},
     "output_type": "display_data"
    },
    {
     "data": {
      "application/vnd.jupyter.widget-view+json": {
       "model_id": "",
       "version_major": 2,
       "version_minor": 0
      },
      "text/plain": [
       "Validating: 0it [00:00, ?it/s]"
      ]
     },
     "metadata": {},
     "output_type": "display_data"
    },
    {
     "data": {
      "application/vnd.jupyter.widget-view+json": {
       "model_id": "",
       "version_major": 2,
       "version_minor": 0
      },
      "text/plain": [
       "Validating: 0it [00:00, ?it/s]"
      ]
     },
     "metadata": {},
     "output_type": "display_data"
    },
    {
     "data": {
      "application/vnd.jupyter.widget-view+json": {
       "model_id": "",
       "version_major": 2,
       "version_minor": 0
      },
      "text/plain": [
       "Validating: 0it [00:00, ?it/s]"
      ]
     },
     "metadata": {},
     "output_type": "display_data"
    },
    {
     "data": {
      "application/vnd.jupyter.widget-view+json": {
       "model_id": "",
       "version_major": 2,
       "version_minor": 0
      },
      "text/plain": [
       "Validating: 0it [00:00, ?it/s]"
      ]
     },
     "metadata": {},
     "output_type": "display_data"
    },
    {
     "data": {
      "application/vnd.jupyter.widget-view+json": {
       "model_id": "",
       "version_major": 2,
       "version_minor": 0
      },
      "text/plain": [
       "Validating: 0it [00:00, ?it/s]"
      ]
     },
     "metadata": {},
     "output_type": "display_data"
    },
    {
     "data": {
      "application/vnd.jupyter.widget-view+json": {
       "model_id": "",
       "version_major": 2,
       "version_minor": 0
      },
      "text/plain": [
       "Validating: 0it [00:00, ?it/s]"
      ]
     },
     "metadata": {},
     "output_type": "display_data"
    },
    {
     "data": {
      "application/vnd.jupyter.widget-view+json": {
       "model_id": "",
       "version_major": 2,
       "version_minor": 0
      },
      "text/plain": [
       "Validating: 0it [00:00, ?it/s]"
      ]
     },
     "metadata": {},
     "output_type": "display_data"
    },
    {
     "name": "stderr",
     "output_type": "stream",
     "text": [
      "Restoring states from the checkpoint path at /home/weniger/codes/swyft_papergui/notebooks/GUI paper/lightning_logs/version_8757722/checkpoints/epoch=9-step=159.ckpt\n",
      "LOCAL_RANK: 0 - CUDA_VISIBLE_DEVICES: [0]\n",
      "Loaded model weights from checkpoint at /home/weniger/codes/swyft_papergui/notebooks/GUI paper/lightning_logs/version_8757722/checkpoints/epoch=9-step=159.ckpt\n"
     ]
    },
    {
     "data": {
      "application/vnd.jupyter.widget-view+json": {
       "model_id": "29c63fec5102411ca81992d0450055be",
       "version_major": 2,
       "version_minor": 0
      },
      "text/plain": [
       "Predicting: 16it [00:00, ?it/s]"
      ]
     },
     "metadata": {},
     "output_type": "display_data"
    }
   ],
   "source": [
    "bounds = None\n",
    "results = []\n",
    "for i in range(R1):\n",
    "    # Generate train data, x, z ~ p(x|z)p_b(z)\n",
    "    dict_store = get_datadict(Ntrain1, bounds = None, file_path = 'data_%i_i%i.pt'%(Ntrain1, i))\n",
    "    dataset = DictDataset(dict_store, hook = noise, x_keys = ['img'], z_keys=['z_lens', 'src'])\n",
    "    \n",
    "    # Train ratios: p(z_lens|img)/p(z_lens)\n",
    "    net_lens = LensNetwork()\n",
    "    trainer = SwyftTrainer(accelerator = 'gpu', gpus=1, max_epochs = 10)\n",
    "    train_loader = torch.utils.data.DataLoader(dataset, batch_size=64)\n",
    "    trainer.fit(net_lens, train_loader, train_loader)\n",
    "    \n",
    "    # Inference\n",
    "    inference = trainer.infer(train_loader, condition_x = x0)\n",
    "    bounds = get_1d_rect_bounds(inference)\n",
    "    \n",
    "    results.append(dict(dataset=dataset, trainer=trainer, tl = train_loader, bounds = bounds, inference=inference))"
   ]
  },
  {
   "cell_type": "code",
   "execution_count": 37,
   "id": "37962dc4-f058-4123-a898-1f22026dd349",
   "metadata": {},
   "outputs": [
    {
     "data": {
      "image/png": "[encoded data removed]",
      "text/plain": [
       "<Figure size 432x288 with 1 Axes>"
      ]
     },
     "metadata": {
      "needs_background": "light"
     },
     "output_type": "display_data"
    }
   ],
   "source": [
    "i = 4\n",
    "#inference = trainer.infer(train_loader, condition_x = x0)\n",
    "inference = results[-1]['inference']\n",
    "z = inference['z_lens']\n",
    "w = z[:,i,0].detach().cpu().numpy()\n",
    "p = z[:,i,1].detach().cpu().numpy()\n",
    "plt.axvline(z0['z_lens'][i].cpu(), color='r')\n",
    "w = np.exp(w-w.max())\n",
    "plt.hist(p, weights = w, bins = 50);"
   ]
  }
 ],
 "metadata": {
  "kernelspec": {
   "display_name": "p38",
   "language": "python",
   "name": "p38"
  },
  "language_info": {
   "codemirror_mode": {
    "name": "ipython",
    "version": 3
   },
   "file_extension": ".py",
   "mimetype": "text/x-python",
   "name": "python",
   "nbconvert_exporter": "python",
   "pygments_lexer": "ipython3",
   "version": "3.8.2"
  }
 },
 "nbformat": 4,
 "nbformat_minor": 5
}
