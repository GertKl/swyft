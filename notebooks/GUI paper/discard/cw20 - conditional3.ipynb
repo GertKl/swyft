{
 "cells": [
  {
   "cell_type": "markdown",
   "id": "c51cba04-d85b-4952-91d2-072943816826",
   "metadata": {},
   "source": [
    "Discard: Development step for CTMNRE"
   ]
  },
  {
   "cell_type": "code",
   "execution_count": 1,
   "id": "8b944e94",
   "metadata": {},
   "outputs": [],
   "source": [
    "# Makes it easier to debug\n",
    "%load_ext autoreload\n",
    "%load_ext line_profiler\n",
    "%autoreload 2\n",
    "\n",
    "import torch"
   ]
  },
  {
   "cell_type": "code",
   "execution_count": 2,
   "id": "9c7e3470",
   "metadata": {},
   "outputs": [],
   "source": [
    "import swyft\n",
    "import pylab as plt\n",
    "import numpy as np\n",
    "import scipy"
   ]
  },
  {
   "cell_type": "code",
   "execution_count": 3,
   "id": "7ee5d587",
   "metadata": {},
   "outputs": [],
   "source": [
    "import swyft"
   ]
  },
  {
   "cell_type": "code",
   "execution_count": 4,
   "id": "70cdf857",
   "metadata": {},
   "outputs": [
    {
     "data": {
      "text/plain": [
       "array(-0.69314718)"
      ]
     },
     "execution_count": 4,
     "metadata": {},
     "output_type": "execute_result"
    }
   ],
   "source": [
    "def logdiffcdf(dist, a, b):\n",
    "    if dist.cdf(b) < 0.5:\n",
    "        return np.log(dist.cdf(b) - dist.cdf(a))\n",
    "    else:\n",
    "        return np.log(dist.sf(a) - dist.sf(b))\n",
    "    \n",
    "def logdiffcdf(dist, a, b):\n",
    "    return np.where(dist.cdf(b) < 0.5,\n",
    "        np.log(dist.cdf(b) - dist.cdf(a)),\n",
    "        np.log(dist.sf(a) - dist.sf(b))\n",
    "            )\n",
    "\n",
    "dist = scipy.stats.norm(0, 1)\n",
    "logdiffcdf(dist, -10, 0)"
   ]
  },
  {
   "cell_type": "code",
   "execution_count": 5,
   "id": "b97376a7",
   "metadata": {},
   "outputs": [
    {
     "data": {
      "text/plain": [
       "(array(0.21030622), array(-0.69314718))"
      ]
     },
     "execution_count": 5,
     "metadata": {},
     "output_type": "execute_result"
    }
   ],
   "source": [
    "def trunc_sample(dist, r, size = None, return_logdiffcdf = True):\n",
    "    r = np.array(r)\n",
    "    c = dist.cdf(r)\n",
    "    s = scipy.stats.uniform(loc = c[...,0], scale = c[...,1] - c[...,0]).rvs(size=size)\n",
    "    z = np.array(dist.ppf(s))\n",
    "    if not return_logdiffcdf:\n",
    "        return z\n",
    "    else:\n",
    "        l = logdiffcdf(dist, r[...,0], r[...,1])\n",
    "        return z, l\n",
    "\n",
    "dist = scipy.stats.lognorm(1., 0.1)\n",
    "s = 0.1\n",
    "trunc_sample(dist, [s, s+1], return_logdiffcdf = True)"
   ]
  },
  {
   "cell_type": "code",
   "execution_count": 6,
   "id": "f043282f",
   "metadata": {},
   "outputs": [
    {
     "data": {
      "text/plain": [
       "{'x': array([ 0.25900024,  0.09748594, -0.12619322, -0.18476429,  0.30334348,\n",
       "        -0.26550228,  0.04691092,  0.3183778 , -0.16335806,  0.2170522 ])}"
      ]
     },
     "execution_count": 6,
     "metadata": {},
     "output_type": "execute_result"
    }
   ],
   "source": [
    "N = 10\n",
    "def prior():\n",
    "    beta = scipy.stats.lognorm(1, 0.01).rvs()\n",
    "    z = scipy.stats.norm(0, beta).rvs((N,))\n",
    "    return dict(beta = beta, z = z)\n",
    "    \n",
    "def model(pars):\n",
    "    z = pars['z']\n",
    "    x = scipy.stats.norm(z, 0.0001).rvs()\n",
    "    return dict(x = x)\n",
    "\n",
    "pars = prior()\n",
    "model(pars)"
   ]
  },
  {
   "cell_type": "code",
   "execution_count": 7,
   "id": "b8c15909",
   "metadata": {},
   "outputs": [],
   "source": [
    "def trunc_prior(truncs):\n",
    "    beta, log_prob_beta = trunc_sample(scipy.stats.lognorm(1, 0, 1), truncs['beta'])\n",
    "    z, log_prob_z = trunc_sample(scipy.stats.norm(0, beta), truncs['z'])\n",
    "    weight = np.exp(log_prob_z.sum())\n",
    "    return dict(beta = beta, z = z, weight = weight)"
   ]
  },
  {
   "cell_type": "code",
   "execution_count": 8,
   "id": "17ab5adf",
   "metadata": {},
   "outputs": [],
   "source": [
    "def get_trunc_draws(Ntrials, truncs):\n",
    "    draws = [trunc_prior(truncs) for _ in range(Ntrials)]\n",
    "    weights = np.array([v['weight'] for v in draws])\n",
    "    mask = weights/weights.max() > np.random.rand(len(weights))\n",
    "    return [draws[i] for i in np.arange(Ntrials)[mask]]"
   ]
  },
  {
   "cell_type": "code",
   "execution_count": 42,
   "id": "2ab0fe73",
   "metadata": {},
   "outputs": [],
   "source": [
    "z_trunc = np.ones((100, 2))\n",
    "z_trunc[:,0] = 0.4\n",
    "z_trunc[:,1] = 0.5\n",
    "truncs = dict(beta=[0.35, 0.55], z = z_trunc)\n",
    "draws = get_trunc_draws(1000, truncs)\n",
    "betas = np.array([v['beta'] for v in draws])\n",
    "zs = np.array([v['z'] for v in draws])"
   ]
  },
  {
   "cell_type": "code",
   "execution_count": 10,
   "id": "65ac7897",
   "metadata": {},
   "outputs": [
    {
     "data": {
      "text/plain": [
       "409"
      ]
     },
     "execution_count": 10,
     "metadata": {},
     "output_type": "execute_result"
    },
    {
     "data": {
      "image/png": "[encoded data removed]",
      "text/plain": [
       "<Figure size 432x288 with 1 Axes>"
      ]
     },
     "metadata": {
      "needs_background": "light"
     },
     "output_type": "display_data"
    }
   ],
   "source": [
    "plt.hist(betas)\n",
    "len(betas)"
   ]
  },
  {
   "cell_type": "code",
   "execution_count": 11,
   "id": "d80fc972",
   "metadata": {},
   "outputs": [],
   "source": [
    "# DONE: \n",
    "# - Update bounds to return samples as vector\n",
    "# - Does that have to be inside hypercube?\n",
    "\n",
    "class EmpiricalBound(swyft.Bound):\n",
    "    def __init__(self, u):\n",
    "        self.u = u\n",
    "        \n",
    "    def sample(self, N):\n",
    "        idx = np.random.choice(len(self.u), N, replace=False)\n",
    "        return self.u[idx]\n",
    "    \n",
    "    def __call__(self, u):\n",
    "        return np.ones(len(u))\n",
    "    \n",
    "    @property\n",
    "    def volume(self):\n",
    "        return 1.\n",
    "    \n",
    "    def state_dict(self):\n",
    "        return {\"tag\": \"EmpiricalBound\"} "
   ]
  },
  {
   "cell_type": "code",
   "execution_count": 12,
   "id": "ba7bf3fd",
   "metadata": {},
   "outputs": [
    {
     "data": {
      "text/plain": [
       "tensor([[-2.3263,  2.3263],\n",
       "        [-2.3263,  2.3263],\n",
       "        [-2.3263,  2.3263]])"
      ]
     },
     "execution_count": 12,
     "metadata": {},
     "output_type": "execute_result"
    }
   ],
   "source": [
    "r = torch.zeros(3, 2)\n",
    "r[:,0] = 0.01\n",
    "r[:,1] = 1-0.01\n",
    "torch.distributions.Normal(0, 1).icdf(r)"
   ]
  },
  {
   "cell_type": "code",
   "execution_count": 13,
   "id": "f97e7f01",
   "metadata": {},
   "outputs": [],
   "source": [
    "# TODO:\n",
    "# - Generalize to any distribution with free loc and scale?\n",
    "# - Should return bounds or interval rather than samples from bound region\n",
    "# - Can directly act on data space\n",
    "\n",
    "class DistributionRatio(torch.nn.Module):\n",
    "    def __init__(self, dist, *shape):\n",
    "        super().__init__()\n",
    "        self.dist = dist\n",
    "        self.log_prefactor = torch.nn.Parameter(torch.zeros(*shape))\n",
    "        self.log_scale = torch.nn.Parameter(torch.zeros(*shape))\n",
    "        \n",
    "    def bounds(self, m, epsilon):\n",
    "        scale = torch.exp(self.log_scale)\n",
    "        r0 = torch.zeros_like(m) + epsilon\n",
    "        r1 = torch.ones_like(m) - epsilon\n",
    "        b0 = self.dist(m, scale).icdf(r0)\n",
    "        b1 = self.dist(m, scale).icdf(r1)\n",
    "        return torch.vstack([b0, b1])\n",
    "    \n",
    "    def forward(self, z, m, return_bounds = None):\n",
    "        if return_bounds:\n",
    "            return self.bounds(m, return_bounds)\n",
    "        scale = torch.exp(self.log_scale)\n",
    "        log_ratio = self.dist(m, scale).log_prob(z) + self.log_prefactor\n",
    "        return log_ratio"
   ]
  },
  {
   "cell_type": "code",
   "execution_count": 14,
   "id": "dcac6c02",
   "metadata": {},
   "outputs": [],
   "source": [
    "# DONE\n",
    "# - This remains painfully useful\n",
    "\n",
    "class View:\n",
    "    def __init__(self, **shapes):\n",
    "        self._shapes = shapes\n",
    "        self._i0 = {}\n",
    "        self._i1 = {}\n",
    "        \n",
    "        N = 0\n",
    "        for key, value in shapes.items():\n",
    "            n = np.prod(value)\n",
    "            self._i0[key] = N\n",
    "            self._i1[key] = N + n\n",
    "            N += n\n",
    "        \n",
    "        self._N = N\n",
    "        \n",
    "    def __len__(self):\n",
    "        return self._N\n",
    "\n",
    "class Viewer:\n",
    "    def __init__(self, view, u):\n",
    "        self._view = view\n",
    "        self._u = u\n",
    "        \n",
    "    def __getattr__(self, key):\n",
    "        ucut = self._u[..., self._view._i0[key]:self._view._i1[key]]\n",
    "        if type(ucut) == np.ndarray:\n",
    "            return ucut.reshape(*self._u.shape[:-1], *self._view._shapes[key])  # TODO Redunadnt\n",
    "        else:\n",
    "            return ucut.reshape(*self._u.shape[:-1], *self._view._shapes[key])\n",
    "    \n",
    "    def __setattr__(self, key, value):\n",
    "        if key[:1] == '_':\n",
    "            object.__setattr__(self, key, value)\n",
    "        else:\n",
    "            if type(value) == np.ndarray:\n",
    "                value_shaped = value.reshape(*self._u.shape[:-1], np.prod(self._view._shapes[key]))  # TODO Redundant\n",
    "            else:\n",
    "                value_shaped = value.reshape(*self._u.shape[:-1], np.prod(self._view._shapes[key]))\n",
    "            self._u[..., self._view._i0[key]:self._view._i1[key]] = value_shaped\n",
    "    \n",
    "    def __len__(self):\n",
    "        return self._view._N\n",
    "    \n",
    "    def __call__(self):\n",
    "        return self._u"
   ]
  },
  {
   "cell_type": "markdown",
   "id": "b6971326",
   "metadata": {},
   "source": [
    "## Model"
   ]
  },
  {
   "cell_type": "code",
   "execution_count": 15,
   "id": "766d6e8f",
   "metadata": {},
   "outputs": [],
   "source": [
    "N = 10 # Number of data bins\n",
    "SIGMA = 0.01  # Measurement uncertainty"
   ]
  },
  {
   "cell_type": "code",
   "execution_count": 16,
   "id": "c7574997",
   "metadata": {},
   "outputs": [],
   "source": [
    "# DONE\n",
    "# - Remove an transformation. We live in real space.\n",
    "\n",
    "view = View(z = (N,), b = (1,))\n",
    "\n",
    "def model(v):\n",
    "    vv = Viewer(view, v)\n",
    "    return dict(z=vv.z)\n",
    "    \n",
    "# Noise model\n",
    "def noise(sim, v):\n",
    "    noise = np.random.randn(N)*SIGMA\n",
    "    return dict(x = sim['z'] + noise)\n",
    "\n",
    "# Prior\n",
    "\n",
    "def transform(u):\n",
    "    return u\n",
    "    \n",
    "NPAR = N +1"
   ]
  },
  {
   "cell_type": "markdown",
   "id": "22f1ca4c",
   "metadata": {},
   "source": [
    "## Network"
   ]
  },
  {
   "cell_type": "code",
   "execution_count": 17,
   "id": "78418d8f",
   "metadata": {},
   "outputs": [],
   "source": [
    "# TODO:\n",
    "# - Update to prior_truncated based on truncation bounds\n",
    "\n",
    "def run_round(ntrain, bound = None, max_epochs = 0):\n",
    "    store = swyft.MemoryStore(sim)\n",
    "    store.add(ntrain, prior, bound)\n",
    "    store.simulate()\n",
    "    dataset = swyft.Dataset(ntrain*10000, prior, store, bound = bound, simhook = noise, check_coverage = False)\n",
    "    print(\"Dataset size:\", len(dataset))\n",
    "    post = swyft.Posteriors(dataset)\n",
    "    partition = range(NPAR)\n",
    "    post.add(partition, device='cuda', head_args = dict(online_norm = False), tail = RatioSampler)\n",
    "    post.train(partition, max_epochs = max_epochs, scheduler_args = dict(patience = 1, factor = 0.5), early_stopping_patience = 5, \n",
    "               batch_size = 64, optimizer_args = dict(lr = 0.01))\n",
    "    tail = list(post._ratios.items())[0][1].tail\n",
    "    bound = CrazyBound(x0, tail)\n",
    "    return dict(post=post, store=store, dataset=dataset, tail=tail, bound=bound)"
   ]
  },
  {
   "cell_type": "code",
   "execution_count": 18,
   "id": "bd99c3b5",
   "metadata": {},
   "outputs": [],
   "source": [
    "def plot_dataset(dataset):\n",
    "    for i in range(200):\n",
    "        plt.plot(dataset[i][0]['x'], color='0.5')\n",
    "    plt.plot(x0, marker='x', color='r', lw=2)"
   ]
  },
  {
   "cell_type": "code",
   "execution_count": 19,
   "id": "bca9f0a6",
   "metadata": {},
   "outputs": [],
   "source": [
    "def plot_tail(tail, u0 = None, i0 = 0, i1 = 10, scaled = False):\n",
    "    NS = 1000\n",
    "    s = tail.sample(x0.unsqueeze(0).repeat(NS, 1).cuda(), NS).detach().cpu().numpy()\n",
    "    for i in range(i0, i1):\n",
    "        if scaled:\n",
    "            plt.scatter(s[:,-1], scipy.stats.norm(0., 1.).ppf(s[:,i]))\n",
    "        else:\n",
    "            plt.scatter(s[:,-1], s[:,i])\n",
    "    plt.xlim([0, 1])\n",
    "    if not scaled:\n",
    "        plt.ylim([0, 1])\n",
    "    if u0 is not None:\n",
    "        plt.axvline(u0[-1])\n",
    "        if scaled:\n",
    "            s = scipy.stats.norm(0., 1.).ppf(u0[i0:i1])\n",
    "            plt.scatter(u0[-1]*np.ones(i1-i0), s, marker='.', color='k')\n",
    "        else:\n",
    "            plt.scatter(u0[-1]*np.ones(i1-i0), u0[i0:i1], marker='.', color='k')"
   ]
  },
  {
   "cell_type": "markdown",
   "id": "04cba1dd",
   "metadata": {},
   "source": [
    "## Analysis"
   ]
  },
  {
   "cell_type": "code",
   "execution_count": 20,
   "id": "5e926934",
   "metadata": {},
   "outputs": [],
   "source": [
    "from swyft.utils.array import array_to_tensor\n",
    "class SimpleDataset(torch.utils.data.Dataset):                                                                                                                                                 \n",
    "    \"\"\"Dataset which merely keeps track of observation and parameter data in one place\"\"\"                                                                                                      \n",
    "                                                                                                                                                                                               \n",
    "    def __init__(self, observations, us, vs) -> None:                                                                                                                   \n",
    "        \"\"\"                                                                                                                                                                                    \n",
    "        Args:                                                                                                                                                                                  \n",
    "            observations: dictionary of batched obserations                                                                                                                                    \n",
    "            us: array or tensor of unit cube parameters                                                                                                                                        \n",
    "            vs: array or tensor of natural parameters                                                                                                                                          \n",
    "        \"\"\"                                                                                                                                                                                    \n",
    "        super().__init__()                                                                                                                                                                     \n",
    "        b = us.shape[0]                                                                                                                                                                        \n",
    "        assert (                                                                                                                                                                               \n",
    "            vs.shape[0] == b                                                                                                                                                                   \n",
    "        ), \"the us and vs arrays do not have the same batch dimension\"                                                                                                                         \n",
    "        assert all(                                                                                                                                                                            \n",
    "            [b == x.shape[0] for x in observations.values()]                                                                                                                                   \n",
    "        ), \"the observation values do not have the same batch dimension as us and vs\"                                                                                                          \n",
    "        self.observations = observations                                                                                                                                                       \n",
    "        self.us = us                                                                                                                                                                           \n",
    "        self.vs = vs                                                                                                                                                                           \n",
    "        self._len = b           \n",
    "        \n",
    "    def pnames(self):\n",
    "        return None\n",
    "    \n",
    "    def prior(self):\n",
    "        return None\n",
    "    \n",
    "    def bound(self):\n",
    "        return None\n",
    "    \n",
    "    @property\n",
    "    def requires_sim(self):\n",
    "        return False\n",
    "                                                                                                                                                                                               \n",
    "    def __getitem__(self, idx):\n",
    "        return (                                                                                                                                                                               \n",
    "            {                                                                                                                                                                                  \n",
    "                key: array_to_tensor(val[idx, ...])                                                                                                                                            \n",
    "                for key, val in self.observations.items()                                                                                                                                      \n",
    "            },                                                                                                                                                                                 \n",
    "            array_to_tensor(self.us[idx, ...]),                                                                                                                                                \n",
    "            array_to_tensor(self.vs[idx, ...]),                                                                                                                                                \n",
    "        )                                                                                                                                                                                      \n",
    "                                                                                                                                                                                               \n",
    "    def __len__(self) -> int:                                                                                                                                                                  \n",
    "        return self._len"
   ]
  },
  {
   "cell_type": "code",
   "execution_count": 21,
   "id": "2d2df58a",
   "metadata": {},
   "outputs": [],
   "source": [
    "prior()\n",
    "s = np.zeros((1000, NPAR))\n",
    "vu = Viewer(view, s)\n",
    "for i in range(len(s)):\n",
    "    p = prior()\n",
    "    vu.b[i] = p['beta']\n",
    "    vu.z[i] = p['z']"
   ]
  },
  {
   "cell_type": "code",
   "execution_count": 22,
   "id": "dc9670cd",
   "metadata": {},
   "outputs": [],
   "source": [
    "us = vs = s\n",
    "observations = {\"x\": np.array([noise(model(s[i]), s[i])['x'] for i in range(len(s))])}\n",
    "dataset = SimpleDataset(observations, us, vs)"
   ]
  },
  {
   "cell_type": "code",
   "execution_count": 23,
   "id": "38651072",
   "metadata": {},
   "outputs": [],
   "source": [
    "post = swyft.Posteriors(dataset)"
   ]
  },
  {
   "cell_type": "code",
   "execution_count": 24,
   "id": "b2df043a",
   "metadata": {},
   "outputs": [],
   "source": [
    "# DONE:\n",
    "# - Remove all correlation nonsense\n",
    "# - Return one ratio estimator for one observable\n",
    "# - Functionality to return bounds instead - not samples\n",
    "\n",
    "class RatioSampler(swyft.Module):\n",
    "    def __init__(self, *args, **kwargs):\n",
    "        super().__init__(*args, **kwargs)\n",
    "        self.rb = DistributionRatio(torch.distributions.LogNormal, (1,))\n",
    "        self.rz = DistributionRatio(torch.distributions.Normal, (N,))\n",
    "        self.get_mb = torch.nn.Sequential(\n",
    "            torch.nn.Linear(N, 32),\n",
    "            #torch.nn.BatchNorm1d(32),\n",
    "            torch.nn.ReLU(),\n",
    "            torch.nn.Linear(32, 256),\n",
    "            #torch.nn.BatchNorm1d(256),\n",
    "            torch.nn.ReLU(),\n",
    "            torch.nn.Linear(256, 128),\n",
    "            #torch.nn.BatchNorm1d(128),\n",
    "            torch.nn.ReLU(),\n",
    "            torch.nn.Linear(128, 1),\n",
    "            torch.nn.Sigmoid()\n",
    "        )\n",
    "        self.get_mz = torch.nn.Sequential(\n",
    "            #swyft.networks.linear.LinearWithChannel(N, 1, 1),\n",
    "            torch.nn.Linear(1, 128),\n",
    "            torch.nn.ReLU(),\n",
    "            torch.nn.Linear(128, 1),\n",
    "            #torch.nn.ReLU(),\n",
    "            #swyft.networks.linear.LinearWithChannel(N, 32, 1),\n",
    "            #torch.nn.Sigmoid()  # stay within [0, 1]\n",
    "        )\n",
    "        self.bn = torch.nn.BatchNorm1d(N, momentum = 0.01, affine = False, eps = 1.)\n",
    "    \n",
    "    def embedding(self, x):\n",
    "        return x\n",
    "\n",
    "    def forward(self, x, u, return_bounds = None):\n",
    "        uv = Viewer(view, u)\n",
    "        \n",
    "        f = self.embedding(x)\n",
    "        f_sorted = torch.sort(f, dim=-1)[0]\n",
    "        f_sorted = self.bn(f_sorted)\n",
    "        \n",
    "        mb = self.get_mb(f_sorted)\n",
    "        rb = self.rb(uv.b, mb, return_bounds = return_bounds)\n",
    "        \n",
    "        mz = self.get_mz(f.unsqueeze(-1)).squeeze(-1)\n",
    "        rz = self.rz(uv.z, mz, return_bounds = return_bounds)\n",
    "        \n",
    "        r = torch.hstack([rz, rb])\n",
    "        return r"
   ]
  },
  {
   "cell_type": "code",
   "execution_count": 25,
   "id": "841aa324",
   "metadata": {},
   "outputs": [],
   "source": [
    "partition = range(NPAR)\n",
    "post.add(partition, device='cuda', head_args = dict(online_norm = False), tail = RatioSampler)"
   ]
  },
  {
   "cell_type": "code",
   "execution_count": 26,
   "id": "31e22e81",
   "metadata": {},
   "outputs": [
    {
     "name": "stdout",
     "output_type": "stream",
     "text": [
      "Training: lr=0.0013, Epoch=60, VL=5.685, TL=8.518\n"
     ]
    }
   ],
   "source": [
    "post.train(partition, max_epochs = 100, scheduler_args = dict(patience = 1, factor = 0.5), early_stopping_patience = 5, \n",
    "           batch_size = 64, optimizer_args = dict(lr = 0.01))"
   ]
  },
  {
   "cell_type": "code",
   "execution_count": 27,
   "id": "3415b1d6",
   "metadata": {},
   "outputs": [],
   "source": [
    "tail = list(post._ratios.items())[0][1].tail"
   ]
  },
  {
   "cell_type": "code",
   "execution_count": 118,
   "id": "6b862e53",
   "metadata": {},
   "outputs": [
    {
     "data": {
      "text/plain": [
       "tensor(0.2565, device='cuda:0')"
      ]
     },
     "execution_count": 118,
     "metadata": {},
     "output_type": "execute_result"
    }
   ],
   "source": [
    "x0, u0, _ = dataset[15:16]\n",
    "x0 = x0['x'].cuda()\n",
    "u0 = u0.cuda()\n",
    "b = tail.forward(x0, u0, return_bounds = 0.00001)\n",
    "u0[-1][-1]"
   ]
  },
  {
   "cell_type": "code",
   "execution_count": 119,
   "id": "98d62159",
   "metadata": {},
   "outputs": [
    {
     "data": {
      "text/plain": [
       "[<matplotlib.lines.Line2D at 0x15300e5f8400>]"
      ]
     },
     "execution_count": 119,
     "metadata": {},
     "output_type": "execute_result"
    },
    {
     "data": {
      "image/png": "[encoded data removed]",
      "text/plain": [
       "<Figure size 432x288 with 1 Axes>"
      ]
     },
     "metadata": {
      "needs_background": "light"
     },
     "output_type": "display_data"
    }
   ],
   "source": [
    "z_trunc = b[:, :N].cpu().detach().numpy().T\n",
    "plt.plot(z_trunc[:,0])\n",
    "plt.plot(z_trunc[:,1])"
   ]
  },
  {
   "cell_type": "code",
   "execution_count": 120,
   "id": "bba2f5e8",
   "metadata": {},
   "outputs": [
    {
     "data": {
      "image/png": "[encoded data removed]",
      "text/plain": [
       "<Figure size 432x288 with 1 Axes>"
      ]
     },
     "metadata": {
      "needs_background": "light"
     },
     "output_type": "display_data"
    }
   ],
   "source": [
    "trunc = dict(beta = [0.01, 10.55], z = z_trunc)\n",
    "draws = get_trunc_draws(3000, trunc)\n",
    "len(draws)\n",
    "betas = np.array([v['beta'] for v in draws])\n",
    "plt.hist(betas, bins = 20);"
   ]
  },
  {
   "cell_type": "code",
   "execution_count": null,
   "id": "279e19fc",
   "metadata": {},
   "outputs": [],
   "source": []
  }
 ],
 "metadata": {
  "kernelspec": {
   "display_name": "Python 3",
   "language": "python",
   "name": "python3"
  },
  "language_info": {
   "codemirror_mode": {
    "name": "ipython",
    "version": 3
   },
   "file_extension": ".py",
   "mimetype": "text/x-python",
   "name": "python",
   "nbconvert_exporter": "python",
   "pygments_lexer": "ipython3",
   "version": "3.8.2"
  }
 },
 "nbformat": 4,
 "nbformat_minor": 5
}
