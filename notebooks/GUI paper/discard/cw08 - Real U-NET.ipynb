{
 "cells": [
  {
   "cell_type": "markdown",
   "metadata": {},
   "source": [
    "# CW08 - GUI paper exploration 8 - The real U-Net\n",
    "Discard: Explorative work"
   ]
  },
  {
   "cell_type": "code",
   "execution_count": 1,
   "metadata": {},
   "outputs": [],
   "source": [
    "# Makes it easier to debug\n",
    "%load_ext autoreload\n",
    "%load_ext line_profiler\n",
    "%autoreload 2"
   ]
  },
  {
   "cell_type": "code",
   "execution_count": 2,
   "metadata": {},
   "outputs": [],
   "source": [
    "import numpy as np\n",
    "import pylab as plt\n",
    "from scipy.linalg import inv\n",
    "from scipy import stats\n",
    "import scipy\n",
    "import torch\n",
    "import swyft\n",
    "from swyft.networks.module import Module\n",
    "from typing import Sequence\n",
    "from swyft.networks.tail import _get_z_shape, _combine\n",
    "from swyft.networks.normalization import OnlineNormalizationLayer\n",
    "from swyft.networks.linear import LinearWithChannel\n",
    "from torch import nn\n",
    "from swyft.types import ObsType, SimShapeType"
   ]
  },
  {
   "cell_type": "markdown",
   "metadata": {},
   "source": [
    "## Model"
   ]
  },
  {
   "cell_type": "code",
   "execution_count": 3,
   "metadata": {},
   "outputs": [],
   "source": [
    "N = 40  # Number of data bins\n",
    "SIGMA = 0.5  # Measurement uncertainty\n",
    "NRES = 6"
   ]
  },
  {
   "cell_type": "code",
   "execution_count": 4,
   "metadata": {},
   "outputs": [],
   "source": [
    "# Noise-free model\n",
    "NPAR = 4\n",
    "\n",
    "# Model and reference parameters\n",
    "def spec(a, b, c, d, LW = 0.5):\n",
    "    x = np.linspace(0, 10, N)\n",
    "    y_bg = a+x*b\n",
    "    y_sig = c*stats.norm.pdf(x, d, LW)\n",
    "    return y_bg + y_sig\n",
    "\n",
    "def model(v):\n",
    "    x = spec(v[0], v[1], v[2], v[3])\n",
    "    return dict(x=x)\n",
    "\n",
    "# Noise model\n",
    "def noise(sim, v, sigma = SIGMA):\n",
    "    noise = np.random.randn(N)*sigma\n",
    "    return dict(x = sim['x'] + noise)\n",
    "\n",
    "# Prior\n",
    "def transform(u):\n",
    "    a = scipy.stats.uniform(-1., 1.).ppf(u[0])\n",
    "    b = scipy.stats.uniform(-1., 1.).ppf(u[1])\n",
    "    c = scipy.stats.uniform(0., 10.).ppf(u[2])\n",
    "    d = scipy.stats.uniform(0, 10.).ppf(u[3])\n",
    "    return np.array([a, b, c, d])"
   ]
  },
  {
   "cell_type": "markdown",
   "metadata": {},
   "source": [
    "### Zoom in"
   ]
  },
  {
   "cell_type": "code",
   "execution_count": 5,
   "metadata": {},
   "outputs": [],
   "source": [
    "sim = swyft.Simulator(model, NPAR, dict(x=(N,)))"
   ]
  },
  {
   "cell_type": "code",
   "execution_count": 6,
   "metadata": {},
   "outputs": [],
   "source": [
    "prior = swyft.Prior(transform, NPAR)"
   ]
  },
  {
   "cell_type": "code",
   "execution_count": 7,
   "metadata": {},
   "outputs": [],
   "source": [
    "NTRAIN = 1000"
   ]
  },
  {
   "cell_type": "code",
   "execution_count": 8,
   "metadata": {},
   "outputs": [
    {
     "name": "stdout",
     "output_type": "stream",
     "text": [
      "Creating new store.\n",
      "Store: Adding 995 new samples to simulator store.\n"
     ]
    }
   ],
   "source": [
    "store = swyft.MemoryStore(sim)\n",
    "store.add(NTRAIN, prior)\n",
    "store.simulate()"
   ]
  },
  {
   "cell_type": "code",
   "execution_count": 9,
   "metadata": {},
   "outputs": [],
   "source": [
    "dataset = swyft.Dataset(NTRAIN, prior, store, simhook = noise)"
   ]
  },
  {
   "cell_type": "code",
   "execution_count": 10,
   "metadata": {},
   "outputs": [
    {
     "name": "stderr",
     "output_type": "stream",
     "text": [
      "/home/weniger/.local/lib/python3.7/site-packages/torch/nn/functional.py:652: UserWarning: Named tensors and all their associated APIs are an experimental feature and subject to change. Please do not use them for anything important until they are released as stable. (Triggered internally at  /pytorch/c10/core/TensorImpl.h:1156.)\n",
      "  return torch.max_pool1d(input, kernel_size, stride, padding, dilation, ceil_mode)\n"
     ]
    },
    {
     "data": {
      "text/plain": [
       "torch.Size([3, 3, 40, 2])"
      ]
     },
     "execution_count": 10,
     "metadata": {},
     "output_type": "execute_result"
    }
   ],
   "source": [
    "class MyNet3(nn.Module):\n",
    "    def __init__(self):\n",
    "        super().__init__()\n",
    "        self.c1 = nn.Conv1d(1, 8, 3, padding = 1, padding_mode = 'zeros')\n",
    "        self.c2 = nn.Conv1d(8, 16, 3, padding = 1, padding_mode = 'zeros')\n",
    "        self.c3 = nn.Conv1d(16, 32, 3, padding = 1, padding_mode = 'zeros')\n",
    "        self.mp = nn.MaxPool1d(2)\n",
    "        self.ct1 = nn.ConvTranspose1d(32, 32, 3, stride = 2, padding=0)\n",
    "        self.ct2 = nn.ConvTranspose1d(48, 512-8, 3, stride = 2, padding=0)\n",
    "        self.ct3 = nn.ConvTranspose1d(512, 6, 3, stride = 2, padding=0)\n",
    "        self.ac = nn.ReLU()\n",
    "        \n",
    "    def forward(self, x):\n",
    "        #print(x.shape)\n",
    "        x = x.unsqueeze(1)\n",
    "        x1 = self.ac(self.mp(self.c1(x)))\n",
    "        x2 = self.ac(self.mp(self.c2(x1)))\n",
    "        x3 = self.ac(self.mp(self.c3(x2)))\n",
    "        x4 = self.ac(self.ct1(x3)[:,:,:-1])\n",
    "        x4 = torch.cat([x2, x4], dim = 1)\n",
    "        x5 = self.ac(self.ct2(x4)[:,:,:-1])\n",
    "        x5 = torch.cat([x1, x5], dim = 1)\n",
    "        x6 = self.ct3(x5)[:,:,:-1]\n",
    "        x = x6.reshape(-1, 3, 2, N)\n",
    "        x = torch.swapaxes(x, 2, 3)\n",
    "        return x\n",
    "\n",
    "mn3 = MyNet3()\n",
    "mn3(torch.rand(3, 40)).shape\n"
   ]
  },
  {
   "cell_type": "code",
   "execution_count": 44,
   "metadata": {},
   "outputs": [
    {
     "data": {
      "text/plain": [
       "torch.Size([3, 1, 78, 2])"
      ]
     },
     "execution_count": 44,
     "metadata": {},
     "output_type": "execute_result"
    }
   ],
   "source": [
    "class MyNet4(nn.Module):\n",
    "    def __init__(self):\n",
    "        super().__init__()\n",
    "        self.c1 = nn.Conv1d(1, 3, 21)\n",
    "        self.c2 = nn.Conv1d(3, 512, 1, padding = 0)\n",
    "        self.c3a = nn.Conv1d(512, 512, 1, padding = 0)\n",
    "        self.c3b = nn.Conv1d(512, 4, 1, padding = 0)\n",
    "        #self.c4 = nn.ConvTranspose2d(4, 2, [21, 21], stride = [10, 10])\n",
    "        self.c4 = nn.ConvTranspose1d(4, 2, 21, stride=3)\n",
    "        #self.c5 = nn.ConvTranspose1d(4, 2, 5, stride=2)\n",
    "        #self.c5 = nn.ConvTranspose1d(4, , 5, stride=2)\n",
    "        self.ac = nn.ReLU()\n",
    "        \n",
    "    def forward(self, x):\n",
    "        x = x.unsqueeze(1)\n",
    "        x = self.c1(x)\n",
    "        x = self.c2(x)\n",
    "        x = self.ac(x)\n",
    "        x = self.c3a(x)\n",
    "        x = self.ac(x)\n",
    "        x = self.c3b(x)\n",
    "        x = self.c4(x)\n",
    "        x = x.reshape(-1, 1, 2, x.size()[-1])\n",
    "        x = torch.swapaxes(x, 2, 3)\n",
    "        return x\n",
    "\n",
    "mn3 = MyNet4()\n",
    "mn3(torch.rand(3, 40)).shape\n"
   ]
  },
  {
   "cell_type": "code",
   "execution_count": 45,
   "metadata": {},
   "outputs": [],
   "source": [
    "NRES1 = 1\n",
    "NRES2 = 78\n",
    "\n",
    "class MyTail(Module):\n",
    "    def __init__(self, *args, **kwargs):\n",
    "        super().__init__()\n",
    "        self.net3 = MyNet4()\n",
    "\n",
    "    def forward(self, f: torch.Tensor, params) -> torch.Tensor:\n",
    "        t1 = torch.tensor(params[:,2]*NRES1, dtype = torch.long)\n",
    "        t2 = torch.tensor(params[:,3]*NRES2, dtype = torch.long)\n",
    "        t1 = nn.functional.one_hot(t1, num_classes = NRES1) # nbatch, nmarg1\n",
    "        t2 = nn.functional.one_hot(t2, num_classes = NRES2) # nbatch, nmarg2\n",
    "        t = torch.matmul(t1.unsqueeze(2).float(), t2.unsqueeze(1).float()).long() # nbatch, nmarg1, nmarg2\n",
    "        x = self.net3(f) # nbatch, nmarg1, nmarg2, 2\n",
    "        nbatch = x.size(0)\n",
    "        x = x.reshape(-1, 2)\n",
    "        t = t.reshape(-1)\n",
    "        x = x[torch.arange(len(t)), t].reshape(nbatch, NRES1, NRES2) # nbatch, nmarg1, nmarge2\n",
    "        return x.reshape(nbatch, -1)"
   ]
  },
  {
   "cell_type": "code",
   "execution_count": 46,
   "metadata": {},
   "outputs": [],
   "source": [
    "post = swyft.Posteriors(dataset)\n",
    "partition = range(1)\n",
    "post.add(partition, device='cuda', head = swyft.DefaultHead, tail = MyTail)"
   ]
  },
  {
   "cell_type": "code",
   "execution_count": 47,
   "metadata": {},
   "outputs": [
    {
     "name": "stderr",
     "output_type": "stream",
     "text": [
      "/home/weniger/miniconda3/lib/python3.7/site-packages/ipykernel_launcher.py:10: UserWarning: To copy construct from a tensor, it is recommended to use sourceTensor.clone().detach() or sourceTensor.clone().detach().requires_grad_(True), rather than torch.tensor(sourceTensor).\n",
      "  # Remove the CWD from sys.path while we load stuff.\n",
      "/home/weniger/miniconda3/lib/python3.7/site-packages/ipykernel_launcher.py:11: UserWarning: To copy construct from a tensor, it is recommended to use sourceTensor.clone().detach() or sourceTensor.clone().detach().requires_grad_(True), rather than torch.tensor(sourceTensor).\n",
      "  # This is added back by InteractiveShellApp.init_path()\n"
     ]
    },
    {
     "name": "stdout",
     "output_type": "stream",
     "text": [
      "Training: lr=0.01, Epoch=10, VL=108.1, TL=108.1\n"
     ]
    }
   ],
   "source": [
    "post.train(partition, max_epochs = 10, scheduler_args = dict(patience = 1, factor = 0.5), early_stopping_patience = 5, \n",
    "           batch_size = 128, optimizer_args = dict(lr = 0.01))"
   ]
  },
  {
   "cell_type": "code",
   "execution_count": 48,
   "metadata": {},
   "outputs": [
    {
     "data": {
      "text/plain": [
       "[<matplotlib.lines.Line2D at 0x153d22446358>]"
      ]
     },
     "execution_count": 48,
     "metadata": {},
     "output_type": "execute_result"
    },
    {
     "data": {
      "image/png": "[encoded data removed]",
      "text/plain": [
       "<Figure size 432x288 with 1 Axes>"
      ]
     },
     "metadata": {
      "needs_background": "light"
     },
     "output_type": "display_data"
    }
   ],
   "source": [
    "v0 = np.array([0.0, 0.1, 8.0, 4.3])\n",
    "obs0 = noise(model(v0), v0)\n",
    "plt.plot(obs0['x'])"
   ]
  },
  {
   "cell_type": "code",
   "execution_count": 49,
   "metadata": {},
   "outputs": [
    {
     "data": {
      "text/plain": [
       "<matplotlib.colorbar.Colorbar at 0x153d223ab7f0>"
      ]
     },
     "execution_count": 49,
     "metadata": {},
     "output_type": "execute_result"
    },
    {
     "data": {
      "image/png": "[encoded data removed]",
      "text/plain": [
       "<Figure size 432x288 with 2 Axes>"
      ]
     },
     "metadata": {
      "needs_background": "light"
     },
     "output_type": "display_data"
    }
   ],
   "source": [
    "tail = post._ratios[((0,),)].tail.net3\n",
    "head = post._ratios[((0,),)].head\n",
    "f = head(dict(x = torch.tensor(obs0['x']).unsqueeze(0).float().cuda()))\n",
    "t1 = tail(f)[0,:,:,1].cpu().detach().numpy()\n",
    "t2 = tail(f)[0,:,:,0].cpu().detach().numpy()\n",
    "plt.imshow(np.exp(1*t1), origin = 'lower')\n",
    "plt.colorbar()"
   ]
  },
  {
   "cell_type": "code",
   "execution_count": null,
   "metadata": {},
   "outputs": [],
   "source": []
  }
 ],
 "metadata": {
  "kernelspec": {
   "display_name": "Python 3",
   "language": "python",
   "name": "python3"
  },
  "language_info": {
   "codemirror_mode": {
    "name": "ipython",
    "version": 3
   },
   "file_extension": ".py",
   "mimetype": "text/x-python",
   "name": "python",
   "nbconvert_exporter": "python",
   "pygments_lexer": "ipython3",
   "version": "3.8.2"
  }
 },
 "nbformat": 4,
 "nbformat_minor": 4
}
