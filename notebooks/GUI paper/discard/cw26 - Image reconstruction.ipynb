{
 "cells": [
  {
   "cell_type": "markdown",
   "metadata": {},
   "source": [
    "Discard: Image reconstruction via marginal posteriors to wavelet basis"
   ]
  },
  {
   "cell_type": "code",
   "execution_count": null,
   "metadata": {},
   "outputs": [],
   "source": [
    "import torch\n",
    "import swyft\n",
    "import pylab as plt\n",
    "import numpy as np\n",
    "import scipy\n",
    "import swyft"
   ]
  },
  {
   "cell_type": "markdown",
   "metadata": {},
   "source": [
    "## Helper functions\n",
    "\n",
    "### Statistics"
   ]
  },
  {
   "cell_type": "code",
   "execution_count": null,
   "metadata": {},
   "outputs": [],
   "source": [
    "def logdiffcdf(dist, a, b):\n",
    "    if dist.cdf(b) < 0.5:\n",
    "        return np.log(dist.cdf(b) - dist.cdf(a))\n",
    "    else:\n",
    "        return np.log(dist.sf(a) - dist.sf(b))\n",
    "    \n",
    "def logdiffcdf(dist, a, b):\n",
    "    return np.where(dist.cdf(b) < 0.5,\n",
    "        np.log(dist.cdf(b) - dist.cdf(a)),\n",
    "        np.log(dist.sf(a) - dist.sf(b))\n",
    "            )\n",
    "\n",
    "def trunc_sample(dist, r, size = None, return_logdiffcdf = True):\n",
    "    r = np.array(r)\n",
    "    c = dist.cdf(r)\n",
    "    s = scipy.stats.uniform(loc = c[...,0], scale = c[...,1] - c[...,0]).rvs(size=size)\n",
    "    z = np.array(dist.ppf(s))\n",
    "    if not return_logdiffcdf:\n",
    "        return z\n",
    "    else:\n",
    "        l = logdiffcdf(dist, r[...,0], r[...,1])\n",
    "        return z, l\n",
    "    \n",
    "def get_trunc_draws(Ntrials, truncs):\n",
    "    draws = [trunc_prior(truncs) for _ in range(Ntrials)]\n",
    "    weights = np.array([v['weight'] for v in draws])\n",
    "    mask = weights/weights.max() > np.random.rand(len(weights))\n",
    "    return [draws[i] for i in np.arange(Ntrials)[mask]]"
   ]
  },
  {
   "cell_type": "markdown",
   "metadata": {},
   "source": [
    "### SWYFT Modeling"
   ]
  },
  {
   "cell_type": "code",
   "execution_count": 3,
   "metadata": {},
   "outputs": [],
   "source": [
    "from swyft.utils.array import array_to_tensor\n",
    "class SimpleDataset(torch.utils.data.Dataset):                                                                                                                                                 \n",
    "    \"\"\"Dataset which merely keeps track of observation and parameter data in one place\"\"\"                                                                                                      \n",
    "                                                                                                                                                                                               \n",
    "    def __init__(self, observations, us, vs) -> None:                                                                                                                   \n",
    "        \"\"\"                                                                                                                                                                                    \n",
    "        Args:                                                                                                                                                                                  \n",
    "            observations: dictionary of batched obserations                                                                                                                                    \n",
    "            us: array or tensor of unit cube parameters                                                                                                                                        \n",
    "            vs: array or tensor of natural parameters                                                                                                                                          \n",
    "        \"\"\"                                                                                                                                                                                    \n",
    "        super().__init__()                                                                                                                                                                     \n",
    "        b = us.shape[0]                                                                                                                                                                        \n",
    "        assert (                                                                                                                                                                               \n",
    "            vs.shape[0] == b                                                                                                                                                                   \n",
    "        ), \"the us and vs arrays do not have the same batch dimension\"                                                                                                                         \n",
    "        assert all(                                                                                                                                                                            \n",
    "            [b == x.shape[0] for x in observations.values()]                                                                                                                                   \n",
    "        ), \"the observation values do not have the same batch dimension as us and vs\"                                                                                                          \n",
    "        self.observations = observations                                                                                                                                                       \n",
    "        self.us = us                                                                                                                                                                           \n",
    "        self.vs = vs                                                                                                                                                                           \n",
    "        self._len = b           \n",
    "        \n",
    "    def pnames(self):\n",
    "        return None\n",
    "    \n",
    "    def prior(self):\n",
    "        return None\n",
    "    \n",
    "    def bound(self):\n",
    "        return None\n",
    "    \n",
    "    @property\n",
    "    def requires_sim(self):\n",
    "        return False\n",
    "                                                                                                                                                                                               \n",
    "    def __getitem__(self, idx):\n",
    "        return (                                                                                                                                                                               \n",
    "            {                                                                                                                                                                                  \n",
    "                key: array_to_tensor(val[idx, ...])                                                                                                                                            \n",
    "                for key, val in self.observations.items()                                                                                                                                      \n",
    "            },                                                                                                                                                                                 \n",
    "            array_to_tensor(self.us[idx, ...]),                                                                                                                                                \n",
    "            array_to_tensor(self.vs[idx, ...]),                                                                                                                                                \n",
    "        )                                                                                                                                                                                      \n",
    "                                                                                                                                                                                               \n",
    "    def __len__(self) -> int:                                                                                                                                                                  \n",
    "        return self._len"
   ]
  },
  {
   "cell_type": "code",
   "execution_count": 4,
   "metadata": {},
   "outputs": [],
   "source": [
    "class DistributionRatio(torch.nn.Module):\n",
    "    def __init__(self, dist, *shape):\n",
    "        super().__init__()\n",
    "        self.dist = dist\n",
    "        self.log_prefactor = torch.nn.Parameter(torch.zeros(*shape))\n",
    "        self.log_scale = torch.nn.Parameter(torch.zeros(*shape))\n",
    "        \n",
    "    def bounds(self, m, epsilon):\n",
    "        scale = torch.exp(self.log_scale)\n",
    "        r0 = torch.zeros_like(m) + epsilon\n",
    "        b0 = self.dist(m, scale).icdf(r0)\n",
    "        #b1 = self.dist(m, scale).icdf(r1)\n",
    "        return b0\n",
    "    \n",
    "    def forward(self, z, m, return_bounds = None):\n",
    "        if return_bounds:\n",
    "            return self.bounds(m, return_bounds)\n",
    "        scale = torch.exp(self.log_scale)\n",
    "        log_ratio = self.dist(m, scale).log_prob(z) + self.log_prefactor\n",
    "        return log_ratio"
   ]
  },
  {
   "cell_type": "code",
   "execution_count": 5,
   "metadata": {},
   "outputs": [],
   "source": [
    "class View:\n",
    "    def __init__(self, **shapes):\n",
    "        self._shapes = shapes\n",
    "        self._i0 = {}\n",
    "        self._i1 = {}\n",
    "        \n",
    "        N = 0\n",
    "        for key, value in shapes.items():\n",
    "            n = np.prod(value)\n",
    "            self._i0[key] = N\n",
    "            self._i1[key] = N + n\n",
    "            N += n\n",
    "        \n",
    "        self._N = N\n",
    "        \n",
    "    def __len__(self):\n",
    "        return self._N\n",
    "\n",
    "class Viewer:\n",
    "    def __init__(self, view, u):\n",
    "        self._view = view\n",
    "        self._u = u\n",
    "        \n",
    "    def __getattr__(self, key):\n",
    "        ucut = self._u[..., self._view._i0[key]:self._view._i1[key]]\n",
    "        if type(ucut) == np.ndarray:\n",
    "            return ucut.reshape(*self._u.shape[:-1], *self._view._shapes[key])  # TODO Redunadnt\n",
    "        else:\n",
    "            return ucut.reshape(*self._u.shape[:-1], *self._view._shapes[key])\n",
    "    \n",
    "    def __setattr__(self, key, value):\n",
    "        if key[:1] == '_':\n",
    "            object.__setattr__(self, key, value)\n",
    "        else:\n",
    "            if type(value) == np.ndarray:\n",
    "                value_shaped = value.reshape(*self._u.shape[:-1], np.prod(self._view._shapes[key]))  # TODO Redundant\n",
    "            else:\n",
    "                value_shaped = value.reshape(*self._u.shape[:-1], np.prod(self._view._shapes[key]))\n",
    "            self._u[..., self._view._i0[key]:self._view._i1[key]] = value_shaped\n",
    "    \n",
    "    def __len__(self):\n",
    "        return self._view._N\n",
    "    \n",
    "    def __call__(self):\n",
    "        return self._u"
   ]
  },
  {
   "cell_type": "markdown",
   "metadata": {},
   "source": [
    "## Model definition"
   ]
  },
  {
   "cell_type": "code",
   "execution_count": 6,
   "metadata": {},
   "outputs": [],
   "source": [
    "from astropy import convolution as ac\n",
    "import numpy as np\n",
    "import pylab as plt"
   ]
  },
  {
   "cell_type": "code",
   "execution_count": 7,
   "metadata": {},
   "outputs": [],
   "source": [
    "def convolve(coef, size):\n",
    "    img = np.zeros(size)\n",
    "    for c in coef:\n",
    "        k = len(c)\n",
    "        n = len(img)\n",
    "        base = np.zeros_like(img)\n",
    "        base[int(n/k/2)::int(n/k), int(n/k/2)::int(n/k)] = c*(n/k)**4\n",
    "        kernel = ac.RickerWavelet2DKernel(1.8*n/k)\n",
    "        base = ac.convolve_fft(base, kernel, normalize_kernel = False)\n",
    "        img += base\n",
    "    return img"
   ]
  },
  {
   "cell_type": "code",
   "execution_count": 8,
   "metadata": {},
   "outputs": [],
   "source": [
    "SIGMA = 0.01  # Measurement uncertainty"
   ]
  },
  {
   "cell_type": "code",
   "execution_count": 9,
   "metadata": {},
   "outputs": [],
   "source": [
    "def prior():\n",
    "    z1 = scipy.stats.norm(0, 1).rvs((4, 4))\n",
    "    z2 = scipy.stats.norm(0, 1).rvs((8, 8))\n",
    "    z3 = scipy.stats.norm(0, 1).rvs((16, 16))\n",
    "    return dict(z1 = z1, z2 = z2, z3 = z3)\n",
    "\n",
    "def trunc_prior(truncs):\n",
    "    z1 = trunc_sample(scipy.stats.norm(0, 1), truncs['z1'], return_logdiffcdf = False)\n",
    "    z2 = trunc_sample(scipy.stats.norm(0, 1), truncs['z2'], return_logdiffcdf = False)\n",
    "    z3 = trunc_sample(scipy.stats.norm(0, 1), truncs['z3'], return_logdiffcdf = False)\n",
    "    return dict(z1 = z1, z2 = z2, z3 = z3, weight = 1.)"
   ]
  },
  {
   "cell_type": "code",
   "execution_count": 10,
   "metadata": {},
   "outputs": [
    {
     "data": {
      "text/plain": [
       "array([[0.49025488, 0.18356256, 0.31775375, 0.6472127 ],\n",
       "       [0.44876576, 0.53787225, 0.18194321, 0.6397832 ],\n",
       "       [0.61823882, 0.20373125, 0.14808395, 0.12735842],\n",
       "       [0.18615512, 0.33219126, 0.3390159 , 0.72276705]])"
      ]
     },
     "execution_count": 10,
     "metadata": {},
     "output_type": "execute_result"
    }
   ],
   "source": [
    "truncs = np.zeros((4, 4, 2))+0.1\n",
    "truncs[:, :,1] = 0.9\n",
    "trunc_sample(scipy.stats.norm(0, 1), truncs, return_logdiffcdf = False)"
   ]
  },
  {
   "cell_type": "code",
   "execution_count": 11,
   "metadata": {},
   "outputs": [],
   "source": [
    "view = View(z1 = (4,4), z2 = (8, 8), z3 = (16, 16))\n",
    "NPAR = len(view)"
   ]
  },
  {
   "cell_type": "code",
   "execution_count": 12,
   "metadata": {},
   "outputs": [],
   "source": [
    "def model(v):\n",
    "    vv = Viewer(view, v)\n",
    "    coef = [vv.z1, vv.z2, vv.z3]\n",
    "    x = convolve(coef, (32, 32))\n",
    "    return dict(x=x)"
   ]
  },
  {
   "cell_type": "code",
   "execution_count": 13,
   "metadata": {},
   "outputs": [],
   "source": [
    "# Noise model\n",
    "def noise(sim, v):\n",
    "    x = sim['x']\n",
    "    noise = np.random.randn(*x.shape)*SIGMA\n",
    "    return dict(x = sim['x'] + noise)\n",
    "\n",
    "def transform(u):\n",
    "    return u"
   ]
  },
  {
   "cell_type": "markdown",
   "metadata": {},
   "source": [
    "## Network"
   ]
  },
  {
   "cell_type": "code",
   "execution_count": 30,
   "metadata": {},
   "outputs": [],
   "source": [
    "class RatioSampler(swyft.Module):\n",
    "    def __init__(self, *args, **kwargs):\n",
    "        super().__init__(*args, **kwargs)\n",
    "        self.rz1 = DistributionRatio(torch.distributions.Normal, (4,4))\n",
    "        self.rz2 = DistributionRatio(torch.distributions.Normal, (8,8))\n",
    "        self.rz3 = DistributionRatio(torch.distributions.Normal, (16,16))\n",
    "        \n",
    "        # 2n x 2n image --> n x n estimates\n",
    "        self.get_mz1 = torch.nn.Sequential(\n",
    "            torch.nn.AvgPool2d(4),\n",
    "            torch.nn.Conv2d(1, 32, 5, padding = 2),\n",
    "            torch.nn.ReLU(),\n",
    "            torch.nn.Conv2d(32, 64, 5, padding = 2),\n",
    "            torch.nn.ReLU(),\n",
    "            torch.nn.MaxPool2d(2),\n",
    "            torch.nn.Conv2d(64, 64, 1, padding = 0),\n",
    "            torch.nn.ReLU(),\n",
    "            torch.nn.Conv2d(64, 1, 1, padding = 0),\n",
    "        )\n",
    "        self.get_mz2 = torch.nn.Sequential(\n",
    "            torch.nn.AvgPool2d(2),\n",
    "            torch.nn.Conv2d(1, 32, 5, padding = 2),\n",
    "            torch.nn.ReLU(),\n",
    "            torch.nn.Conv2d(32, 64, 5, padding = 2),\n",
    "            torch.nn.ReLU(),\n",
    "            torch.nn.MaxPool2d(2),\n",
    "            torch.nn.Conv2d(64, 64, 1, padding = 0),\n",
    "            torch.nn.ReLU(),\n",
    "            torch.nn.Conv2d(64, 1, 1, padding = 0),\n",
    "        )\n",
    "        self.get_mz3 = torch.nn.Sequential(\n",
    "            torch.nn.Conv2d(1, 32, 5, padding = 2),\n",
    "            torch.nn.ReLU(),\n",
    "            torch.nn.Conv2d(32, 64, 5, padding = 2),\n",
    "            torch.nn.ReLU(),\n",
    "            torch.nn.MaxPool2d(2),\n",
    "            torch.nn.Conv2d(64, 64, 1, padding = 0),\n",
    "            torch.nn.ReLU(),\n",
    "            torch.nn.Conv2d(64, 1, 1, padding = 0),\n",
    "        )\n",
    "    \n",
    "    def embedding(self, x):\n",
    "        return x\n",
    "\n",
    "    def forward(self, x, u, return_bounds = None):\n",
    "        uv = Viewer(view, u)\n",
    "        nbatch = len(x)\n",
    "        \n",
    "        mz1 = self.get_mz1(x.unsqueeze(1)).squeeze(1)\n",
    "        mz2 = self.get_mz2(x.unsqueeze(1)).squeeze(1)\n",
    "        mz3 = self.get_mz3(x.unsqueeze(1)).squeeze(1)\n",
    "        \n",
    "        rz1 = self.rz1(uv.z1, mz1, return_bounds = return_bounds)\n",
    "        rz2 = self.rz2(uv.z2, mz2, return_bounds = return_bounds)\n",
    "        rz3 = self.rz3(uv.z3, mz3, return_bounds = return_bounds)\n",
    "        \n",
    "        rz1 = rz1.view(nbatch, -1)\n",
    "        rz2 = rz2.view(nbatch, -1)\n",
    "        rz3 = rz3.view(nbatch, -1)\n",
    "        \n",
    "        r = torch.hstack([rz1, rz2, rz3])\n",
    "        return r"
   ]
  },
  {
   "cell_type": "code",
   "execution_count": 22,
   "metadata": {},
   "outputs": [],
   "source": [
    "from tqdm import tqdm"
   ]
  },
  {
   "cell_type": "markdown",
   "metadata": {},
   "source": [
    "## Analysis"
   ]
  },
  {
   "cell_type": "code",
   "execution_count": 23,
   "metadata": {},
   "outputs": [
    {
     "name": "stderr",
     "output_type": "stream",
     "text": [
      "100%|██████████| 10000/10000 [00:20<00:00, 497.15it/s]\n"
     ]
    }
   ],
   "source": [
    "NTRAIN = 10000\n",
    "\n",
    "def get_prior_samples():\n",
    "    s = np.zeros((NTRAIN, NPAR))\n",
    "    vu = Viewer(view, s)\n",
    "    for i in tqdm(range(len(s))):\n",
    "        p = prior()\n",
    "        vu.z1[i] = p['z1']\n",
    "        vu.z2[i] = p['z2']\n",
    "        vu.z3[i] = p['z3']\n",
    "    return s\n",
    "\n",
    "s = get_prior_samples()"
   ]
  },
  {
   "cell_type": "code",
   "execution_count": 17,
   "metadata": {},
   "outputs": [
    {
     "name": "stderr",
     "output_type": "stream",
     "text": [
      "100%|██████████| 10000/10000 [03:22<00:00, 49.49it/s]\n"
     ]
    }
   ],
   "source": [
    "# Set dataset\n",
    "\n",
    "observations = {\"x\": np.array([noise(model(s[i]), s[i])['x'] for i in tqdm(range(len(s)))])}\n",
    "dataset = SimpleDataset(observations, s, s)"
   ]
  },
  {
   "cell_type": "code",
   "execution_count": 59,
   "metadata": {},
   "outputs": [],
   "source": [
    "class MyHead(swyft.Module):\n",
    "    def __init__(self, *args, **kwargs):\n",
    "        super().__init__()\n",
    "        self.n_features = 1\n",
    "        self.o = swyft.OnlineNormalizationLayer((32, 32))\n",
    "    \n",
    "    def forward(self, obs):\n",
    "        return self.o(obs['x'])"
   ]
  },
  {
   "cell_type": "code",
   "execution_count": 31,
   "metadata": {},
   "outputs": [],
   "source": [
    "# Generate posterior estimator\n",
    "\n",
    "post = swyft.Posteriors(dataset)\n",
    "partition = range(NPAR)\n",
    "post.add(partition, device='cuda', head_args = dict(online_norm = False), tail = RatioSampler, head = MyHead)"
   ]
  },
  {
   "cell_type": "code",
   "execution_count": 32,
   "metadata": {},
   "outputs": [
    {
     "name": "stdout",
     "output_type": "stream",
     "text": [
      "Training: lr=7.8e-05, Epoch=27, VL=446, TL=445.24\n"
     ]
    }
   ],
   "source": [
    "# train!\n",
    "\n",
    "post.train(partition, max_epochs = 100, scheduler_args = dict(patience = 1, factor = 0.5), early_stopping_patience = 5, \n",
    "           batch_size = 64, optimizer_args = dict(lr = 0.01))"
   ]
  },
  {
   "cell_type": "code",
   "execution_count": 33,
   "metadata": {},
   "outputs": [
    {
     "data": {
      "text/plain": [
       "<matplotlib.colorbar.Colorbar at 0x1466340c3d00>"
      ]
     },
     "execution_count": 33,
     "metadata": {},
     "output_type": "execute_result"
    },
    {
     "data": {
      "image/png": "[encoded data removed]",
      "text/plain": [
       "<Figure size 432x288 with 2 Axes>"
      ]
     },
     "metadata": {
      "needs_background": "light"
     },
     "output_type": "display_data"
    }
   ],
   "source": [
    "# Pick some reference example\n",
    "\n",
    "I = 20\n",
    "x0, u0, _ = dataset[I:I+1]\n",
    "x0 = x0['x'].cuda()\n",
    "X0 = x0.cpu()[0]\n",
    "u0 = u0.cuda()\n",
    "\n",
    "plt.imshow(x0.cpu()[0])\n",
    "plt.colorbar()"
   ]
  },
  {
   "cell_type": "code",
   "execution_count": 62,
   "metadata": {},
   "outputs": [],
   "source": [
    "# Extract bounds from the tail\n",
    "\n",
    "tail = list(post._ratios.items())[0][1].tail\n",
    "b0 = tail.forward(x0, u0, return_bounds = 0.1)\n",
    "b1 = tail.forward(x0, u0, return_bounds = 0.9)\n",
    "b = torch.vstack([b0, b1])\n",
    "z_trunc = b.T.cpu().detach().numpy()\n",
    "#z_trunc = b[:, :N].cpu().detach().numpy().T"
   ]
  },
  {
   "cell_type": "code",
   "execution_count": 67,
   "metadata": {},
   "outputs": [],
   "source": [
    "#z_trunc[:-33,:] *= 0.001\n",
    "trunc = dict(z1 = z_trunc[:4*4, :].reshape(4, 4, 2), z2 = z_trunc[4*4:4*4+8*8, :].reshape(8, 8, 2), z3 = z_trunc[4*4+8*8:, :].reshape(16, 16, 2))\n",
    "draws = get_trunc_draws(100, trunc)"
   ]
  },
  {
   "cell_type": "code",
   "execution_count": 68,
   "metadata": {},
   "outputs": [
    {
     "data": {
      "text/plain": [
       "<matplotlib.image.AxesImage at 0x146624af3610>"
      ]
     },
     "execution_count": 68,
     "metadata": {},
     "output_type": "execute_result"
    },
    {
     "data": {
      "image/png": "[encoded data removed]",
      "text/plain": [
       "<Figure size 432x288 with 1 Axes>"
      ]
     },
     "metadata": {
      "needs_background": "light"
     },
     "output_type": "display_data"
    }
   ],
   "source": [
    "x = np.zeros((32, 32))\n",
    "for i in range(100):\n",
    "    d = draws[i]\n",
    "    u = np.zeros(NPAR)\n",
    "    v = Viewer(view, u)\n",
    "    v.z1 = d['z1']\n",
    "    v.z2 = d['z2']\n",
    "    v.z3 = d['z3']\n",
    "    x += model(u)['x']\n",
    "x /= 100\n",
    "plt.imshow(x)"
   ]
  },
  {
   "cell_type": "markdown",
   "metadata": {},
   "source": [
    "## Round 2"
   ]
  },
  {
   "cell_type": "code",
   "execution_count": 69,
   "metadata": {
    "scrolled": true,
    "tags": []
   },
   "outputs": [
    {
     "name": "stderr",
     "output_type": "stream",
     "text": [
      "100%|██████████| 10000/10000 [00:48<00:00, 207.17it/s]\n"
     ]
    }
   ],
   "source": [
    "NTRAIN = 10000\n",
    "\n",
    "def get_prior_samples():\n",
    "    s = np.zeros((NTRAIN, NPAR))\n",
    "    vu = Viewer(view, s)\n",
    "    for i in tqdm(range(len(s))):\n",
    "        p = draws = get_trunc_draws(1, trunc)[0]\n",
    "        vu.z1[i] = p['z1']\n",
    "        vu.z2[i] = p['z2']\n",
    "        vu.z3[i] = p['z3']\n",
    "    return s\n",
    "\n",
    "s2 = get_prior_samples()"
   ]
  },
  {
   "cell_type": "code",
   "execution_count": 70,
   "metadata": {
    "scrolled": true,
    "tags": []
   },
   "outputs": [
    {
     "name": "stderr",
     "output_type": "stream",
     "text": [
      "100%|██████████| 10000/10000 [02:32<00:00, 65.52it/s]\n"
     ]
    },
    {
     "data": {
      "text/plain": [
       "10000"
      ]
     },
     "execution_count": 70,
     "metadata": {},
     "output_type": "execute_result"
    }
   ],
   "source": [
    "# Set dataset\n",
    "\n",
    "observations2 = {\"x\": np.array([noise(model(s2[i]), s2[i])['x'] for i in tqdm(range(len(s2)))])}\n",
    "dataset2 = SimpleDataset(observations2, s2, s2)\n",
    "len(dataset2)"
   ]
  },
  {
   "cell_type": "code",
   "execution_count": 71,
   "metadata": {},
   "outputs": [
    {
     "data": {
      "text/plain": [
       "<matplotlib.colorbar.Colorbar at 0x146620122820>"
      ]
     },
     "execution_count": 71,
     "metadata": {},
     "output_type": "execute_result"
    },
    {
     "data": {
      "image/png": "[encoded data removed]",
      "text/plain": [
       "<Figure size 432x288 with 2 Axes>"
      ]
     },
     "metadata": {
      "needs_background": "light"
     },
     "output_type": "display_data"
    }
   ],
   "source": [
    "plt.imshow(dataset2[4][0]['x'].cpu())\n",
    "plt.colorbar()"
   ]
  },
  {
   "cell_type": "code",
   "execution_count": 72,
   "metadata": {},
   "outputs": [],
   "source": [
    "# Generate posterior estimator\n",
    "\n",
    "post2 = swyft.Posteriors(dataset2)\n",
    "partition = range(NPAR)\n",
    "post2.add(partition, device='cuda', head_args = dict(online_norm = False), tail = RatioSampler, head = MyHead)"
   ]
  },
  {
   "cell_type": "code",
   "execution_count": 73,
   "metadata": {},
   "outputs": [
    {
     "name": "stdout",
     "output_type": "stream",
     "text": [
      "Training: lr=0.00063, Epoch=17, VL=450.7, TL=450.3\n"
     ]
    }
   ],
   "source": [
    "# train!\n",
    "\n",
    "post2.train(partition, max_epochs = 100, scheduler_args = dict(patience = 1, factor = 0.5), early_stopping_patience = 5, \n",
    "           batch_size = 64, optimizer_args = dict(lr = 0.01))"
   ]
  },
  {
   "cell_type": "code",
   "execution_count": 111,
   "metadata": {},
   "outputs": [],
   "source": [
    "# Extract bounds from the tail\n",
    "\n",
    "tail2 = list(post2._ratios.items())[0][1].tail\n",
    "b02 = tail2.forward(x0, u0, return_bounds = 0.1)\n",
    "b12 = tail2.forward(x0, u0, return_bounds = 0.9)\n",
    "b2 = torch.vstack([b02, b12])\n",
    "z_trunc2 = b2.T.cpu().detach().numpy()\n",
    "#z_trunc = b[:, :N].cpu().detach().numpy().T"
   ]
  },
  {
   "cell_type": "code",
   "execution_count": 112,
   "metadata": {},
   "outputs": [],
   "source": [
    "#z_trunc[:-33,:] *= 0.001\n",
    "trunc2 = dict(z1 = z_trunc2[:4*4, :].reshape(4, 4, 2), z2 = z_trunc2[4*4:4*4+8*8, :].reshape(8, 8, 2), z3 = z_trunc2[4*4+8*8:, :].reshape(16, 16, 2))\n",
    "draws2 = get_trunc_draws(100, trunc2)"
   ]
  },
  {
   "cell_type": "code",
   "execution_count": 113,
   "metadata": {},
   "outputs": [
    {
     "data": {
      "text/plain": [
       "<matplotlib.colorbar.Colorbar at 0x1465e2655460>"
      ]
     },
     "execution_count": 113,
     "metadata": {},
     "output_type": "execute_result"
    },
    {
     "data": {
      "image/png": "[encoded data removed]",
      "text/plain": [
       "<Figure size 432x288 with 2 Axes>"
      ]
     },
     "metadata": {
      "needs_background": "light"
     },
     "output_type": "display_data"
    }
   ],
   "source": [
    "x = np.zeros((32, 32))\n",
    "for i in range(100):\n",
    "    d = draws2[i]\n",
    "    u = np.zeros(NPAR)\n",
    "    v = Viewer(view, u)\n",
    "    v.z1 = d['z1']\n",
    "    v.z2 = d['z2']\n",
    "    v.z3 = d['z3']\n",
    "    x += model(u)['x']\n",
    "x /= 100\n",
    "plt.imshow(x)\n",
    "plt.colorbar()"
   ]
  },
  {
   "cell_type": "code",
   "execution_count": 114,
   "metadata": {},
   "outputs": [
    {
     "data": {
      "text/plain": [
       "<matplotlib.colorbar.Colorbar at 0x1465e256aa60>"
      ]
     },
     "execution_count": 114,
     "metadata": {},
     "output_type": "execute_result"
    },
    {
     "data": {
      "image/png": "[encoded data removed]",
      "text/plain": [
       "<Figure size 432x288 with 2 Axes>"
      ]
     },
     "metadata": {
      "needs_background": "light"
     },
     "output_type": "display_data"
    }
   ],
   "source": [
    "plt.imshow(X0)\n",
    "plt.colorbar()"
   ]
  },
  {
   "cell_type": "code",
   "execution_count": null,
   "metadata": {},
   "outputs": [],
   "source": []
  }
 ],
 "metadata": {
  "kernelspec": {
   "display_name": "Python 3",
   "language": "python",
   "name": "python3"
  },
  "language_info": {
   "codemirror_mode": {
    "name": "ipython",
    "version": 3
   },
   "file_extension": ".py",
   "mimetype": "text/x-python",
   "name": "python",
   "nbconvert_exporter": "python",
   "pygments_lexer": "ipython3",
   "version": "3.8.2"
  }
 },
 "nbformat": 4,
 "nbformat_minor": 4
}
