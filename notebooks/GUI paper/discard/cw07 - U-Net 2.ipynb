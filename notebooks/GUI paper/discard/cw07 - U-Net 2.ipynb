{
 "cells": [
  {
   "cell_type": "markdown",
   "metadata": {},
   "source": [
    "# CW07 - GUI paper exploration 6 - U-Net 2-dim\n",
    "\n",
    "Discard: Explorative work"
   ]
  },
  {
   "cell_type": "code",
   "execution_count": 3,
   "metadata": {},
   "outputs": [
    {
     "name": "stdout",
     "output_type": "stream",
     "text": [
      "The autoreload extension is already loaded. To reload it, use:\n",
      "  %reload_ext autoreload\n",
      "The line_profiler extension is already loaded. To reload it, use:\n",
      "  %reload_ext line_profiler\n"
     ]
    }
   ],
   "source": [
    "# Makes it easier to debug\n",
    "%load_ext autoreload\n",
    "%load_ext line_profiler\n",
    "%autoreload 2"
   ]
  },
  {
   "cell_type": "code",
   "execution_count": 4,
   "metadata": {},
   "outputs": [],
   "source": [
    "import numpy as np\n",
    "import pylab as plt\n",
    "from scipy.linalg import inv\n",
    "from scipy import stats\n",
    "import scipy\n",
    "import torch\n",
    "import swyft\n",
    "from swyft.networks.module import Module\n",
    "from typing import Sequence\n",
    "from swyft.networks.tail import _get_z_shape, _combine\n",
    "from swyft.networks.normalization import OnlineNormalizationLayer\n",
    "from swyft.networks.linear import LinearWithChannel\n",
    "from torch import nn\n",
    "from swyft.types import ObsType, SimShapeType"
   ]
  },
  {
   "cell_type": "markdown",
   "metadata": {},
   "source": [
    "## Model"
   ]
  },
  {
   "cell_type": "code",
   "execution_count": 344,
   "metadata": {},
   "outputs": [],
   "source": [
    "N = 40  # Number of data bins\n",
    "SIGMA = 0.1  # Measurement uncertainty\n",
    "NRES = 6"
   ]
  },
  {
   "cell_type": "code",
   "execution_count": 345,
   "metadata": {},
   "outputs": [],
   "source": [
    "# Noise-free model\n",
    "NPAR = 4\n",
    "\n",
    "# Model and reference parameters\n",
    "def spec(a, b, c, d, LW = 0.5):\n",
    "    x = np.linspace(0, 10, N)\n",
    "    y_bg = a+x*b\n",
    "    y_sig = c*stats.norm.pdf(x, d, LW)\n",
    "    return y_bg + y_sig\n",
    "\n",
    "def model(v):\n",
    "    x = spec(v[0], v[1], v[2], v[3])\n",
    "    return dict(x=x)\n",
    "\n",
    "# Noise model\n",
    "def noise(sim, v, sigma = SIGMA):\n",
    "    noise = np.random.randn(N)*sigma\n",
    "    return dict(x = sim['x'] + noise)\n",
    "\n",
    "# Prior\n",
    "def transform(u):\n",
    "    a = scipy.stats.uniform(-1., 1.).ppf(u[0])\n",
    "    b = scipy.stats.uniform(-1., 1.).ppf(u[1])\n",
    "    c = scipy.stats.uniform(0., 10.).ppf(u[2])\n",
    "    d = scipy.stats.uniform(0, 10.).ppf(u[3])\n",
    "    return np.array([a, b, c, d])"
   ]
  },
  {
   "cell_type": "markdown",
   "metadata": {},
   "source": [
    "### Zoom in"
   ]
  },
  {
   "cell_type": "code",
   "execution_count": 346,
   "metadata": {},
   "outputs": [],
   "source": [
    "sim = swyft.Simulator(model, NPAR, dict(x=(N,)))"
   ]
  },
  {
   "cell_type": "code",
   "execution_count": 347,
   "metadata": {},
   "outputs": [],
   "source": [
    "prior = swyft.Prior(transform, NPAR)"
   ]
  },
  {
   "cell_type": "code",
   "execution_count": 348,
   "metadata": {},
   "outputs": [],
   "source": [
    "NTRAIN = 10000"
   ]
  },
  {
   "cell_type": "code",
   "execution_count": 349,
   "metadata": {},
   "outputs": [
    {
     "name": "stdout",
     "output_type": "stream",
     "text": [
      "Creating new store.\n",
      "Store: Adding 10008 new samples to simulator store.\n"
     ]
    }
   ],
   "source": [
    "store = swyft.MemoryStore(sim)\n",
    "store.add(NTRAIN, prior)\n",
    "store.simulate()"
   ]
  },
  {
   "cell_type": "code",
   "execution_count": 350,
   "metadata": {},
   "outputs": [],
   "source": [
    "dataset = swyft.Dataset(NTRAIN, prior, store, simhook = noise)"
   ]
  },
  {
   "cell_type": "code",
   "execution_count": 351,
   "metadata": {},
   "outputs": [],
   "source": [
    "class MyNet2(nn.Module):\n",
    "    def __init__(self):\n",
    "        super().__init__()\n",
    "        self.net = nn.Sequential(\n",
    "            LinearWithChannel(NRES**2, N, 128),\n",
    "            nn.ReLU(),\n",
    "            LinearWithChannel(NRES**2, 128, 128),\n",
    "            nn.ReLU(),\n",
    "            LinearWithChannel(NRES**2, 128, 2)\n",
    "        )\n",
    "        \n",
    "    def forward(self, x):\n",
    "        x = x.unsqueeze(1)\n",
    "        x = x.repeat(1, NRES**2, 1)\n",
    "        x = self.net(x)\n",
    "        x = x.reshape(-1, NRES, NRES, 2)\n",
    "        return x"
   ]
  },
  {
   "cell_type": "code",
   "execution_count": 352,
   "metadata": {},
   "outputs": [],
   "source": [
    "class MyTail(Module):\n",
    "    def __init__(self, *args, **kwargs):\n",
    "        super().__init__()\n",
    "        self.net2 = MyNet2()\n",
    "\n",
    "    def forward(self, f: torch.Tensor, params) -> torch.Tensor:\n",
    "        t1 = torch.tensor(params[:,2]*NRES, dtype = torch.long)\n",
    "        t2 = torch.tensor(params[:,3]*NRES, dtype = torch.long)\n",
    "        t1 = nn.functional.one_hot(t1, num_classes = NRES) # nbatch, nmarg1\n",
    "        t2 = nn.functional.one_hot(t2, num_classes = NRES) # nbatch, nmarg2\n",
    "        t = torch.matmul(t1.unsqueeze(2).float(), t2.unsqueeze(1).float()).long() # nbatch, nmarg1, nmarg2\n",
    "        x = self.net2(f) # nbatch, nmarg1, nmarg2, 2\n",
    "        nbatch = x.size(0)\n",
    "        x = x.reshape(-1, 2)\n",
    "        t = t.reshape(-1)\n",
    "        x = x[torch.arange(len(t)), t].reshape(nbatch, NRES, NRES) # nbatch, nmarg1, nmarge2\n",
    "        return x.reshape(nbatch, -1)"
   ]
  },
  {
   "cell_type": "code",
   "execution_count": 353,
   "metadata": {},
   "outputs": [],
   "source": [
    "post = swyft.Posteriors(dataset)\n",
    "partition = range(1)\n",
    "post.add(partition, device='cuda', head = swyft.DefaultHead, tail = MyTail)"
   ]
  },
  {
   "cell_type": "code",
   "execution_count": 354,
   "metadata": {},
   "outputs": [
    {
     "name": "stderr",
     "output_type": "stream",
     "text": [
      "/home/weniger/miniconda3/lib/python3.7/site-packages/ipykernel_launcher.py:7: UserWarning: To copy construct from a tensor, it is recommended to use sourceTensor.clone().detach() or sourceTensor.clone().detach().requires_grad_(True), rather than torch.tensor(sourceTensor).\n",
      "  import sys\n",
      "/home/weniger/miniconda3/lib/python3.7/site-packages/ipykernel_launcher.py:8: UserWarning: To copy construct from a tensor, it is recommended to use sourceTensor.clone().detach() or sourceTensor.clone().detach().requires_grad_(True), rather than torch.tensor(sourceTensor).\n",
      "  \n"
     ]
    },
    {
     "name": "stdout",
     "output_type": "stream",
     "text": [
      "Training: lr=0.0025, Epoch=20, VL=48.61, TL=48.53\n"
     ]
    }
   ],
   "source": [
    "post.train(partition, max_epochs = 20, scheduler_args = dict(patience = 1, factor = 0.5), early_stopping_patience = 5, \n",
    "           batch_size = 128, optimizer_args = dict(lr = 0.01))"
   ]
  },
  {
   "cell_type": "code",
   "execution_count": 386,
   "metadata": {},
   "outputs": [
    {
     "data": {
      "text/plain": [
       "[<matplotlib.lines.Line2D at 0x1501a0992c18>]"
      ]
     },
     "execution_count": 386,
     "metadata": {},
     "output_type": "execute_result"
    },
    {
     "data": {
      "image/png": "[encoded data removed]",
      "text/plain": [
       "<Figure size 432x288 with 1 Axes>"
      ]
     },
     "metadata": {
      "needs_background": "light"
     },
     "output_type": "display_data"
    }
   ],
   "source": [
    "v0 = np.array([0.0, 1., 10.0, 5.0])\n",
    "obs0 = noise(model(v0), v0)\n",
    "plt.plot(obs0['x'])"
   ]
  },
  {
   "cell_type": "code",
   "execution_count": 389,
   "metadata": {},
   "outputs": [
    {
     "data": {
      "text/plain": [
       "<matplotlib.colorbar.Colorbar at 0x15019d055160>"
      ]
     },
     "execution_count": 389,
     "metadata": {},
     "output_type": "execute_result"
    },
    {
     "data": {
      "image/png": "[encoded data removed]",
      "text/plain": [
       "<Figure size 432x288 with 2 Axes>"
      ]
     },
     "metadata": {
      "needs_background": "light"
     },
     "output_type": "display_data"
    }
   ],
   "source": [
    "tail = post._ratios[((0,),)].tail.net2\n",
    "head = post._ratios[((0,),)].head\n",
    "f = head(dict(x = torch.tensor(obs0['x']).unsqueeze(0).float().cuda()))\n",
    "t1 = tail(f)[0,:,:,1].cpu().detach().numpy()\n",
    "t2 = tail(f)[0,:,:,0].cpu().detach().numpy()\n",
    "plt.imshow(np.exp(t1-t2), origin = 'lower')\n",
    "plt.colorbar()"
   ]
  },
  {
   "cell_type": "code",
   "execution_count": null,
   "metadata": {},
   "outputs": [],
   "source": []
  }
 ],
 "metadata": {
  "kernelspec": {
   "display_name": "Python 3",
   "language": "python",
   "name": "python3"
  },
  "language_info": {
   "codemirror_mode": {
    "name": "ipython",
    "version": 3
   },
   "file_extension": ".py",
   "mimetype": "text/x-python",
   "name": "python",
   "nbconvert_exporter": "python",
   "pygments_lexer": "ipython3",
   "version": "3.8.2"
  }
 },
 "nbformat": 4,
 "nbformat_minor": 4
}
