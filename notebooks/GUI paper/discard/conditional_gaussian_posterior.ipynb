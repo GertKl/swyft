{
 "cells": [
  {
   "cell_type": "markdown",
   "id": "43ed6b67-3454-4abb-9d8f-30a856da85bb",
   "metadata": {},
   "source": [
    "Discard: toy codes"
   ]
  },
  {
   "cell_type": "code",
   "execution_count": 1,
   "id": "antique-sampling",
   "metadata": {},
   "outputs": [],
   "source": [
    "import torch"
   ]
  },
  {
   "cell_type": "code",
   "execution_count": null,
   "id": "ca1bc78d-ea2e-4d9f-a550-c9c930187cdb",
   "metadata": {},
   "outputs": [],
   "source": [
    "import swyft\n",
    "import pylab as plt\n",
    "import numpy as np"
   ]
  },
  {
   "cell_type": "code",
   "execution_count": 10,
   "id": "colonial-count",
   "metadata": {},
   "outputs": [],
   "source": [
    "class NormalRatio(torch.nn.Module):\n",
    "    def __init__(self, *shape, th = 5):\n",
    "        super().__init__()\n",
    "        self.log_factor = torch.nn.Parameter(torch.zeros(*shape))\n",
    "        self.log_sigma = torch.nn.Parameter(torch.zeros(*shape))\n",
    "        self.th = th\n",
    "    \n",
    "    def forward(self, z, m):\n",
    "        if z.view(-1)[0] < 0:\n",
    "            N = len(z)\n",
    "            z[:] = self.sample(N, m)\n",
    "        log_r = self.log_factor - 0.5*(z-m)**2/torch.exp(self.log_sigma)**2\n",
    "        return log_r\n",
    "    \n",
    "    def sample(self, N, m):\n",
    "        \"\"\"Sample constrained priors\"\"\"\n",
    "        sigma = torch.exp(self.log_sigma)\n",
    "        width = torch.minimum(2*self.th*sigma, torch.ones_like(m))\n",
    "        lo = torch.maximum(m-0.5*width, torch.zeros_like(m))\n",
    "        lo = torch.minimum(lo, 1-width)\n",
    "        return torch.rand(N, *m.shape, device=m.device)*width+lo\n",
    "\n",
    "nr = NormalRatio(1)\n",
    "m = torch.rand(1, 4)"
   ]
  },
  {
   "cell_type": "code",
   "execution_count": 11,
   "id": "organizational-swimming",
   "metadata": {},
   "outputs": [],
   "source": [
    "class View:\n",
    "    def __init__(self, **shapes):\n",
    "        self._shapes = shapes\n",
    "        self._i0 = {}\n",
    "        self._i1 = {}\n",
    "        \n",
    "        N = 0\n",
    "        for key, value in shapes.items():\n",
    "            n = np.prod(value)\n",
    "            self._i0[key] = N\n",
    "            self._i1[key] = N + n\n",
    "            N += n\n",
    "        \n",
    "        self._N = N\n",
    "           \n",
    "    def __getattr__(self, key):\n",
    "        return self._u[..., self._i0[key]:self._i1[key]].view(*self._u.shape[:-1], *self._shapes[key])\n",
    "    \n",
    "    def __setattr__(self, key, value):\n",
    "        if key[:1] == '_':\n",
    "            object.__setattr__(self, key, value)\n",
    "        else:\n",
    "            self._u[self._i0[key]:self._i1[key]] = value.view(-1, np.prod(self._shapes[key]))\n",
    "    \n",
    "    def __call__(self, u):\n",
    "        self._u = u\n",
    "        return self\n",
    "    \n",
    "    def __len__(self):\n",
    "        return self._N"
   ]
  },
  {
   "cell_type": "code",
   "execution_count": 8,
   "id": "enabling-singing",
   "metadata": {},
   "outputs": [],
   "source": [
    "class RatioSampler:\n",
    "    def __init__(self):\n",
    "        self.r1 = NormalRatio()\n",
    "        self.x1_extractor = None\n",
    "        self.features = lambda x: x\n",
    "        self.get_m1 = nn.Linear(1, 10)\n",
    "        self.r1 = NormalRatio(1)\n",
    "        self.v = View(a = (100,), b = (1,))\n",
    "    \n",
    "    def embedding(self, x):\n",
    "        return x\n",
    "    \n",
    "    def sample(self, x, N):\n",
    "        z = x.new(N)*0-1\n",
    "        self.forward(x, z)\n",
    "        return z\n",
    "    \n",
    "    def forward(self, x, u):\n",
    "        u = self.v(u)\n",
    "        f = self.features(x)\n",
    "        u = self.v(u)\n",
    "        a = self.v(z).a\n",
    "        b = self.v(z).b\n",
    "        z1 = z[:, :N]\n",
    "        z2 = z[:, N:]\n",
    "        m1 = self.get_m1(f)\n",
    "        r1 = self.r1(z['z1'], m1)\n",
    "        m2 = self.get_m2(f)\n",
    "        r2 = self.r2(z['z2'], m2)\n",
    "        m3_bias = self.get_m3_bias(m2.detach())\n",
    "        m3 = self.get_m3(f)\n",
    "        self.r3(z.z3, m3 + z3_bias)\n",
    "        \n",
    "        r.freq = self.r1(z.freq, m3 + m3_bias)\n",
    "        return r.freq"
   ]
  },
  {
   "cell_type": "code",
   "execution_count": 6,
   "id": "phantom-calculator",
   "metadata": {},
   "outputs": [
    {
     "data": {
      "text/plain": [
       "torch.Size([100, 4, 5])"
      ]
     },
     "execution_count": 6,
     "metadata": {},
     "output_type": "execute_result"
    }
   ],
   "source": [
    "#u = torch.rand(100, 20)\n",
    "v = View(a = (4, 5), b = (100,))\n",
    "u = torch.rand(100, len(v))\n",
    "v(u).a.shape"
   ]
  }
 ],
 "metadata": {
  "kernelspec": {
   "display_name": "Python 3",
   "language": "python",
   "name": "python3"
  },
  "language_info": {
   "codemirror_mode": {
    "name": "ipython",
    "version": 3
   },
   "file_extension": ".py",
   "mimetype": "text/x-python",
   "name": "python",
   "nbconvert_exporter": "python",
   "pygments_lexer": "ipython3",
   "version": "3.8.2"
  }
 },
 "nbformat": 4,
 "nbformat_minor": 5
}
