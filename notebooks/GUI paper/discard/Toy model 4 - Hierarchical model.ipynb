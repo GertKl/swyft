{
 "cells": [
  {
   "cell_type": "markdown",
   "metadata": {},
   "source": [
    "Discard: Random test codes\n",
    "\n",
    "# Bayesian Hierachical models"
   ]
  },
  {
   "cell_type": "markdown",
   "metadata": {},
   "source": [
    "## Task\n",
    "\n",
    "- Regression of background and signal parameters and comparison with ground truth\n",
    "  - Ground truth from Multinest\n",
    "- Estimate of Bayesian evidence for a signal peak and comparison with ground truth\n",
    "  - Ground truth from Multinest\n",
    "  - TODO: implementation of model discrimination with swyft - requires essentially discrete variables\n",
    "- Ability to do injection tests\n",
    "  - Frequentist upper limits\n",
    "  - Proper Bayesian posteriors\n",
    "- Resilience against extra complications - randomly swapping cables"
   ]
  },
  {
   "cell_type": "markdown",
   "metadata": {},
   "source": [
    "## Imports"
   ]
  },
  {
   "cell_type": "code",
   "execution_count": 1,
   "metadata": {},
   "outputs": [],
   "source": [
    "%load_ext autoreload\n",
    "%autoreload 2"
   ]
  },
  {
   "cell_type": "code",
   "execution_count": 2,
   "metadata": {},
   "outputs": [],
   "source": [
    "import numpy as np\n",
    "import pylab as plt\n",
    "from scipy.linalg import inv\n",
    "from scipy import stats"
   ]
  },
  {
   "cell_type": "code",
   "execution_count": 3,
   "metadata": {},
   "outputs": [],
   "source": [
    "import dynesty\n",
    "import swyft"
   ]
  },
  {
   "cell_type": "markdown",
   "metadata": {},
   "source": [
    "## Preparation"
   ]
  },
  {
   "cell_type": "code",
   "execution_count": 4,
   "metadata": {},
   "outputs": [],
   "source": [
    "class ZoomTask:\n",
    "    def __init__(self, sim_or_store, prior, target_obs, partition = None, simhook = None, init_bound = None):\n",
    "        if not isinstance(sim_or_store, swyft.Simulator):\n",
    "            self.store = sim_or_store\n",
    "        else:\n",
    "            self.store = swyft.MemoryStore(sim)\n",
    "        \n",
    "        if partition is None:\n",
    "            self.partition = list(range(len(self.store.pnames)))\n",
    "        else:\n",
    "            self.partition = partition\n",
    "            \n",
    "        self.prior = prior\n",
    "        self.simhook = simhook\n",
    "        self.target_obs = target_obs\n",
    "        \n",
    "        self.init_bound = init_bound\n",
    "        self.last_bound = None\n",
    "        self.history = []\n",
    "        \n",
    "    def run(self, rounds = 10, N = 10000, train_args = {}):\n",
    "        for i in range(rounds):\n",
    "            self.round(N = N, train_args = train_args)\n",
    "        \n",
    "    def round(self, N, train_args = {}):\n",
    "        bound = self.init_bound if self.history == [] else self.history[-1][1]\n",
    "        \n",
    "        self.store.add(N, self.prior, bound = bound)\n",
    "        self.store.simulate()\n",
    "        dataset = swyft.Dataset(N, self.prior, self.store, simhook = self.simhook, bound = bound)\n",
    "        post = swyft.Posteriors(dataset)\n",
    "        post.add(self.partition, device='cuda')\n",
    "        post.train(self.partition, **train_args)\n",
    "        bound = post.truncate(self.partition, self.target_obs)\n",
    "        \n",
    "        self.history.append([post, bound])"
   ]
  },
  {
   "cell_type": "markdown",
   "metadata": {},
   "source": [
    "## Model definitions"
   ]
  },
  {
   "cell_type": "code",
   "execution_count": 5,
   "metadata": {},
   "outputs": [
    {
     "ename": "IndentationError",
     "evalue": "expected an indented block (<ipython-input-5-e806d935187a>, line 10)",
     "output_type": "error",
     "traceback": [
      "\u001b[0;36m  File \u001b[0;32m\"<ipython-input-5-e806d935187a>\"\u001b[0;36m, line \u001b[0;32m10\u001b[0m\n\u001b[0;31m    def model(v):\u001b[0m\n\u001b[0m      ^\u001b[0m\n\u001b[0;31mIndentationError\u001b[0m\u001b[0;31m:\u001b[0m expected an indented block\n"
     ]
    }
   ],
   "source": [
    "N = 64\n",
    "COUNTER = 0  # Likelihood evaluation counter\n",
    "\n",
    "# Noise-free model\n",
    "\n",
    "# Model and reference parameters\n",
    "def spec(a, b, c):\n",
    "    \n",
    "    \n",
    "def model(v):\n",
    "    y = spec(v[0], v[1], v[2], v[3])\n",
    "    return dict(y=y)"
   ]
  },
  {
   "cell_type": "code",
   "execution_count": 6,
   "metadata": {},
   "outputs": [
    {
     "data": {
      "text/plain": [
       "[<matplotlib.lines.Line2D at 0x152834b1b9b0>]"
      ]
     },
     "execution_count": 6,
     "metadata": {},
     "output_type": "execute_result"
    },
    {
     "data": {
      "image/png": "[encoded data removed]",
      "text/plain": [
       "<Figure size 432x288 with 1 Axes>"
      ]
     },
     "metadata": {
      "needs_background": "light"
     },
     "output_type": "display_data"
    }
   ],
   "source": [
    "# Noise model\n",
    "\n",
    "def noise(sim, v, sigma = 1.0):\n",
    "    noise = np.random.randn(N)*sigma\n",
    "    return dict(y = sim['y'] + noise)\n",
    "\n",
    "v0 = np.array([10, -4, 5, 3])\n",
    "\n",
    "obs0 = noise(model(v0), v0)\n",
    "plt.plot(obs0['y'])"
   ]
  },
  {
   "cell_type": "markdown",
   "metadata": {},
   "source": [
    "## Prior"
   ]
  },
  {
   "cell_type": "code",
   "execution_count": 7,
   "metadata": {},
   "outputs": [],
   "source": [
    "# Prior is defined in terms of a transform function\n",
    "\n",
    "def transform(u):\n",
    "    return u*np.array([20, 10, 100, 10]) + np.array([0, -5, 0, 0])"
   ]
  },
  {
   "cell_type": "markdown",
   "metadata": {},
   "source": [
    "## Dynesty analysis"
   ]
  },
  {
   "cell_type": "code",
   "execution_count": 8,
   "metadata": {},
   "outputs": [],
   "source": [
    "def loglike(v):    \n",
    "    mu = model(v)['y']\n",
    "    return -0.5*sum((obs0['y'] - mu)**2)"
   ]
  },
  {
   "cell_type": "code",
   "execution_count": 9,
   "metadata": {},
   "outputs": [
    {
     "name": "stderr",
     "output_type": "stream",
     "text": [
      "257it [00:00, 2564.87it/s, bound: 0 | nc: 1 | ncall: 835 | eff(%): 30.778 | loglstar:   -inf < -45194.316 <    inf | logz: -45201.737 +/-  0.172 | dlogz: 45133.434 >  0.509]"
     ]
    },
    {
     "name": "stdout",
     "output_type": "stream",
     "text": [
      "2 0.002\n"
     ]
    },
    {
     "name": "stderr",
     "output_type": "stream",
     "text": [
      "1866it [00:03, 418.94it/s, bound: 1 | nc: 3 | ncall: 17659 | eff(%): 10.567 | loglstar:   -inf < -1175.513 <    inf | logz: -1185.696 +/-  0.191 | dlogz: 1135.595 >  0.509]  "
     ]
    },
    {
     "name": "stdout",
     "output_type": "stream",
     "text": [
      "3 6.396549975968584e-05\n"
     ]
    },
    {
     "name": "stderr",
     "output_type": "stream",
     "text": [
      "2168it [00:03, 728.08it/s, bound: 2 | nc: 1 | ncall: 18546 | eff(%): 11.690 | loglstar:   -inf < -733.266 <    inf | logz: -744.351 +/-  0.205 | dlogz: 694.780 >  0.509]   "
     ]
    },
    {
     "name": "stdout",
     "output_type": "stream",
     "text": [
      "3 3.540790440902289e-05\n"
     ]
    },
    {
     "name": "stderr",
     "output_type": "stream",
     "text": [
      "2375it [00:03, 808.62it/s, bound: 3 | nc: 11 | ncall: 19230 | eff(%): 12.350 | loglstar:   -inf < -566.362 <    inf | logz: -577.388 +/-  0.205 | dlogz: 526.489 >  0.509]"
     ]
    },
    {
     "name": "stdout",
     "output_type": "stream",
     "text": [
      "3 2.2814002628429997e-05\n"
     ]
    },
    {
     "name": "stderr",
     "output_type": "stream",
     "text": [
      "2561it [00:04, 790.39it/s, bound: 4 | nc: 1 | ncall: 19858 | eff(%): 12.897 | loglstar:   -inf < -458.929 <    inf | logz: -469.227 +/-  0.197 | dlogz: 416.964 >  0.509] "
     ]
    },
    {
     "name": "stdout",
     "output_type": "stream",
     "text": [
      "3 1.4180245925826952e-05\n"
     ]
    },
    {
     "name": "stderr",
     "output_type": "stream",
     "text": [
      "2859it [00:04, 870.53it/s, bound: 5 | nc: 1 | ncall: 20863 | eff(%): 13.704 | loglstar:   -inf < -329.786 <    inf | logz: -340.307 +/-  0.198 | dlogz: 296.313 >  0.509] "
     ]
    },
    {
     "name": "stdout",
     "output_type": "stream",
     "text": [
      "3 9.173191691197543e-06\n"
     ]
    },
    {
     "name": "stderr",
     "output_type": "stream",
     "text": [
      "3033it [00:04, 786.41it/s, bound: 6 | nc: 10 | ncall: 21589 | eff(%): 14.049 | loglstar:   -inf < -279.311 <    inf | logz: -290.090 +/-  0.199 | dlogz: 245.718 >  0.509]"
     ]
    },
    {
     "name": "stdout",
     "output_type": "stream",
     "text": [
      "3 5.9104661189930095e-06\n"
     ]
    },
    {
     "name": "stderr",
     "output_type": "stream",
     "text": [
      "3115it [00:04, 653.23it/s, bound: 7 | nc: 1 | ncall: 21969 | eff(%): 14.179 | loglstar:   -inf < -255.970 <    inf | logz: -266.636 +/-  0.198 | dlogz: 222.034 >  0.509] "
     ]
    },
    {
     "name": "stdout",
     "output_type": "stream",
     "text": [
      "3 4.242090778514412e-06\n"
     ]
    },
    {
     "name": "stderr",
     "output_type": "stream",
     "text": [
      "3367it [00:05, 532.08it/s, bound: 8 | nc: 1 | ncall: 22938 | eff(%): 14.679 | loglstar:   -inf < -202.683 <    inf | logz: -213.882 +/-  0.204 | dlogz: 171.629 >  0.509]"
     ]
    },
    {
     "name": "stdout",
     "output_type": "stream",
     "text": [
      "3 2.8790020949268896e-06\n"
     ]
    },
    {
     "name": "stderr",
     "output_type": "stream",
     "text": [
      "3543it [00:05, 508.95it/s, bound: 9 | nc: 3 | ncall: 23595 | eff(%): 15.016 | loglstar:   -inf < -175.391 <    inf | logz: -186.432 +/-  0.201 | dlogz: 143.751 >  0.509]"
     ]
    },
    {
     "name": "stdout",
     "output_type": "stream",
     "text": [
      "3 1.957815332661766e-06\n"
     ]
    },
    {
     "name": "stderr",
     "output_type": "stream",
     "text": [
      "3761it [00:06, 489.63it/s, bound: 10 | nc: 6 | ncall: 24391 | eff(%): 15.420 | loglstar:   -inf < -148.745 <    inf | logz: -160.475 +/-  0.204 | dlogz: 117.393 >  0.509]"
     ]
    },
    {
     "name": "stdout",
     "output_type": "stream",
     "text": [
      "3 1.2817837479262534e-06\n"
     ]
    },
    {
     "name": "stderr",
     "output_type": "stream",
     "text": [
      "3930it [00:06, 460.36it/s, bound: 11 | nc: 4 | ncall: 25101 | eff(%): 15.657 | loglstar:   -inf < -133.252 <    inf | logz: -144.726 +/-  0.205 | dlogz: 101.240 >  0.509]"
     ]
    },
    {
     "name": "stdout",
     "output_type": "stream",
     "text": [
      "3 8.981736878658023e-07\n"
     ]
    },
    {
     "name": "stderr",
     "output_type": "stream",
     "text": [
      "4081it [00:06, 426.75it/s, bound: 12 | nc: 1 | ncall: 25790 | eff(%): 15.824 | loglstar:   -inf < -121.106 <    inf | logz: -132.765 +/-  0.206 | dlogz: 88.966 >  0.509] "
     ]
    },
    {
     "name": "stdout",
     "output_type": "stream",
     "text": [
      "3 6.218699429869292e-07\n"
     ]
    },
    {
     "name": "stderr",
     "output_type": "stream",
     "text": [
      "4229it [00:07, 395.18it/s, bound: 13 | nc: 3 | ncall: 26525 | eff(%): 15.943 | loglstar:   -inf < -111.925 <    inf | logz: -123.676 +/-  0.207 | dlogz: 81.686 >  0.509] "
     ]
    },
    {
     "name": "stdout",
     "output_type": "stream",
     "text": [
      "3 4.5624984413981554e-07\n"
     ]
    },
    {
     "name": "stderr",
     "output_type": "stream",
     "text": [
      "4403it [00:07, 401.95it/s, bound: 14 | nc: 7 | ncall: 27414 | eff(%): 16.061 | loglstar:   -inf < -103.844 <    inf | logz: -115.593 +/-  0.208 | dlogz: 76.518 >  0.509]"
     ]
    },
    {
     "name": "stdout",
     "output_type": "stream",
     "text": [
      "3 3.5541646063647195e-07\n"
     ]
    },
    {
     "name": "stderr",
     "output_type": "stream",
     "text": [
      "4619it [00:08, 489.36it/s, bound: 15 | nc: 8 | ncall: 28145 | eff(%): 16.411 | loglstar:   -inf < -95.523 <    inf | logz: -107.402 +/-  0.209 | dlogz: 68.948 >  0.509] "
     ]
    },
    {
     "name": "stdout",
     "output_type": "stream",
     "text": [
      "3 2.3362322574502715e-07\n"
     ]
    },
    {
     "name": "stderr",
     "output_type": "stream",
     "text": [
      "4845it [00:08, 519.60it/s, bound: 16 | nc: 6 | ncall: 28888 | eff(%): 16.772 | loglstar:   -inf < -88.666 <    inf | logz: -100.983 +/-  0.212 | dlogz: 62.076 >  0.509]"
     ]
    },
    {
     "name": "stdout",
     "output_type": "stream",
     "text": [
      "3 1.541806732165883e-07\n"
     ]
    },
    {
     "name": "stderr",
     "output_type": "stream",
     "text": [
      "4967it [00:08, 557.69it/s, bound: 16 | nc: 2 | ncall: 29268 | eff(%): 16.971 | loglstar:   -inf < -85.525 <    inf | logz: -97.930 +/-  0.213 | dlogz: 58.776 >  0.509] "
     ]
    },
    {
     "name": "stdout",
     "output_type": "stream",
     "text": [
      "3 9.04374459300626e-08\n"
     ]
    },
    {
     "name": "stderr",
     "output_type": "stream",
     "text": [
      "5024it [00:09, 371.55it/s, bound: 17 | nc: 40 | ncall: 29821 | eff(%): 16.847 | loglstar:   -inf < -83.743 <    inf | logz: -96.450 +/-  0.215 | dlogz: 57.187 >  0.509]"
     ]
    },
    {
     "name": "stdout",
     "output_type": "stream",
     "text": [
      "3 8.416088887527524e-08\n"
     ]
    },
    {
     "name": "stderr",
     "output_type": "stream",
     "text": [
      "5070it [00:09, 196.94it/s, bound: 19 | nc: 14 | ncall: 31004 | eff(%): 16.353 | loglstar:   -inf < -82.536 <    inf | logz: -95.250 +/-  0.215 | dlogz: 55.893 >  0.509]"
     ]
    },
    {
     "name": "stdout",
     "output_type": "stream",
     "text": [
      "3 7.990051045579223e-08\n"
     ]
    },
    {
     "name": "stderr",
     "output_type": "stream",
     "text": [
      "5164it [00:10, 193.54it/s, bound: 20 | nc: 5 | ncall: 31831 | eff(%): 16.223 | loglstar:   -inf < -79.688 <    inf | logz: -92.737 +/-  0.218 | dlogz: 53.196 >  0.509] "
     ]
    },
    {
     "name": "stdout",
     "output_type": "stream",
     "text": [
      "3 6.661727971886744e-08\n"
     ]
    },
    {
     "name": "stderr",
     "output_type": "stream",
     "text": [
      "5303it [00:10, 292.37it/s, bound: 21 | nc: 12 | ncall: 33065 | eff(%): 16.038 | loglstar:   -inf < -73.719 <    inf | logz: -87.457 +/-  0.225 | dlogz: 48.050 >  0.509]"
     ]
    },
    {
     "name": "stdout",
     "output_type": "stream",
     "text": [
      "3 5.980395855559841e-08\n"
     ]
    },
    {
     "name": "stderr",
     "output_type": "stream",
     "text": [
      "5533it [00:10, 666.31it/s, bound: 22 | nc: 12 | ncall: 33827 | eff(%): 16.357 | loglstar:   -inf < -64.431 <    inf | logz: -78.224 +/-  0.227 | dlogz: 38.342 >  0.509]"
     ]
    },
    {
     "name": "stdout",
     "output_type": "stream",
     "text": [
      "3 4.640120910491253e-08\n"
     ]
    },
    {
     "name": "stderr",
     "output_type": "stream",
     "text": [
      "5771it [00:11, 913.18it/s, bound: 23 | nc: 4 | ncall: 34557 | eff(%): 16.700 | loglstar:   -inf < -56.394 <    inf | logz: -70.481 +/-  0.229 | dlogz: 30.554 >  0.509] "
     ]
    },
    {
     "name": "stdout",
     "output_type": "stream",
     "text": [
      "3 2.810160940383682e-08\n"
     ]
    },
    {
     "name": "stderr",
     "output_type": "stream",
     "text": [
      "6059it [00:11, 1184.53it/s, bound: 24 | nc: 1 | ncall: 35228 | eff(%): 17.199 | loglstar:   -inf < -49.644 <    inf | logz: -63.999 +/-  0.231 | dlogz: 24.940 >  0.509]"
     ]
    },
    {
     "name": "stdout",
     "output_type": "stream",
     "text": [
      "3 1.6951090621391132e-08\n"
     ]
    },
    {
     "name": "stderr",
     "output_type": "stream",
     "text": [
      "6350it [00:11, 1334.98it/s, bound: 25 | nc: 4 | ncall: 35936 | eff(%): 17.670 | loglstar:   -inf < -43.907 <    inf | logz: -58.605 +/-  0.234 | dlogz: 18.961 >  0.509]"
     ]
    },
    {
     "name": "stdout",
     "output_type": "stream",
     "text": [
      "3 8.926044221981968e-09\n"
     ]
    },
    {
     "name": "stderr",
     "output_type": "stream",
     "text": [
      "6658it [00:11, 1415.60it/s, bound: 26 | nc: 4 | ncall: 36694 | eff(%): 18.145 | loglstar:   -inf < -39.480 <    inf | logz: -54.412 +/-  0.236 | dlogz: 14.147 >  0.509]"
     ]
    },
    {
     "name": "stdout",
     "output_type": "stream",
     "text": [
      "3 4.823927838109959e-09\n"
     ]
    },
    {
     "name": "stderr",
     "output_type": "stream",
     "text": [
      "6966it [00:11, 1456.45it/s, bound: 27 | nc: 2 | ncall: 37435 | eff(%): 18.608 | loglstar:   -inf < -35.779 <    inf | logz: -51.240 +/-  0.239 | dlogz: 10.375 >  0.509]"
     ]
    },
    {
     "name": "stdout",
     "output_type": "stream",
     "text": [
      "3 2.565670015100065e-09\n"
     ]
    },
    {
     "name": "stderr",
     "output_type": "stream",
     "text": [
      "7291it [00:12, 1514.67it/s, bound: 28 | nc: 1 | ncall: 38161 | eff(%): 19.106 | loglstar:   -inf < -33.225 <    inf | logz: -48.866 +/-  0.241 | dlogz:  7.353 >  0.509]"
     ]
    },
    {
     "name": "stdout",
     "output_type": "stream",
     "text": [
      "3 1.3510212720411304e-09\n"
     ]
    },
    {
     "name": "stderr",
     "output_type": "stream",
     "text": [
      "7769it [00:12, 1528.37it/s, bound: 29 | nc: 2 | ncall: 39262 | eff(%): 19.788 | loglstar:   -inf < -30.664 <    inf | logz: -46.737 +/-  0.244 | dlogz:  4.470 >  0.509]"
     ]
    },
    {
     "name": "stdout",
     "output_type": "stream",
     "text": [
      "3 6.890330141613534e-10\n"
     ]
    },
    {
     "name": "stderr",
     "output_type": "stream",
     "text": [
      "8099it [00:12, 1515.09it/s, bound: 30 | nc: 1 | ncall: 40021 | eff(%): 20.237 | loglstar:   -inf < -29.519 <    inf | logz: -45.809 +/-  0.245 | dlogz:  2.926 >  0.509]"
     ]
    },
    {
     "name": "stdout",
     "output_type": "stream",
     "text": [
      "3 3.507116184593089e-10\n"
     ]
    },
    {
     "name": "stderr",
     "output_type": "stream",
     "text": [
      "8254it [00:12, 1523.50it/s, bound: 31 | nc: 7 | ncall: 40357 | eff(%): 20.452 | loglstar:   -inf < -29.104 <    inf | logz: -45.498 +/-  0.246 | dlogz:  2.394 >  0.509]"
     ]
    },
    {
     "name": "stdout",
     "output_type": "stream",
     "text": [
      "3 1.8066191323704214e-10\n"
     ]
    },
    {
     "name": "stderr",
     "output_type": "stream",
     "text": [
      "8566it [00:12, 1430.16it/s, bound: 32 | nc: 5 | ncall: 41112 | eff(%): 20.836 | loglstar:   -inf < -28.383 <    inf | logz: -45.020 +/-  0.247 | dlogz:  1.461 >  0.509]"
     ]
    },
    {
     "name": "stdout",
     "output_type": "stream",
     "text": [
      "3 1.0060607281176862e-10\n"
     ]
    },
    {
     "name": "stderr",
     "output_type": "stream",
     "text": [
      "8888it [00:13, 1487.73it/s, bound: 33 | nc: 2 | ncall: 41844 | eff(%): 21.241 | loglstar:   -inf < -27.912 <    inf | logz: -44.708 +/-  0.248 | dlogz:  0.866 >  0.509]"
     ]
    },
    {
     "name": "stdout",
     "output_type": "stream",
     "text": [
      "3 5.276551021886222e-11\n"
     ]
    },
    {
     "name": "stderr",
     "output_type": "stream",
     "text": [
      "9166it [00:13, 685.93it/s, +500 | bound: 34 | nc: 1 | ncall: 42543 | eff(%): 22.721 | loglstar:   -inf < -26.632 <    inf | logz: -44.224 +/-  0.264 | dlogz:  0.001 >  0.509]"
     ]
    },
    {
     "name": "stdout",
     "output_type": "stream",
     "text": [
      "3 2.8120164672252463e-11\n",
      "42544\n"
     ]
    },
    {
     "name": "stderr",
     "output_type": "stream",
     "text": [
      "\n"
     ]
    }
   ],
   "source": [
    "ns = dynesty.NestedSampler(loglike, transform, 4)\n",
    "ns.run_nested()\n",
    "print(COUNTER)"
   ]
  },
  {
   "cell_type": "code",
   "execution_count": 10,
   "metadata": {},
   "outputs": [],
   "source": [
    "s = ns.results.samples\n",
    "w = ns.results.logwt\n",
    "w -= w.max()\n",
    "w = np.exp(w)\n",
    "samples_MN = dict(v = s[w>0], weights = {(0, 1, 2, 3): w[w>0]}, pnames = ['bg_offste', 'bg_slope', 'sig_norm', 'sig_pos'])"
   ]
  },
  {
   "cell_type": "markdown",
   "metadata": {},
   "source": [
    "## SWYFT!"
   ]
  },
  {
   "cell_type": "markdown",
   "metadata": {},
   "source": [
    "### Zoom in"
   ]
  },
  {
   "cell_type": "code",
   "execution_count": 11,
   "metadata": {},
   "outputs": [],
   "source": [
    "sim = swyft.Simulator(model, ['bg_offset', 'bg_slope', 'sig_norm', 'sig_pos'], dict(y=(N,)))\n",
    "prior = swyft.Prior(transform, 4)"
   ]
  },
  {
   "cell_type": "code",
   "execution_count": 12,
   "metadata": {},
   "outputs": [
    {
     "name": "stdout",
     "output_type": "stream",
     "text": [
      "Creating new store.\n",
      "Store: Adding 3011 new samples to simulator store.\n",
      "Training: lr=0.001, Epoch=27, VL=1.823\n",
      "Bounds: Truncating...\n",
      "Bounds: ...done. New volue is V=0.09308\n",
      "Store: Adding 2756 new samples to simulator store.\n",
      "Training: lr=0.001, Epoch=36, VL=1.718\n",
      "Bounds: Truncating...\n",
      "Bounds: ...done. New volue is V=0.006399\n",
      "Store: Adding 2745 new samples to simulator store.\n",
      "Training: lr=0.001, Epoch=33, VL=2.283\n",
      "Bounds: Truncating...\n",
      "Bounds: ...done. New volue is V=0.001097\n",
      "Store: Adding 9505 new samples to simulator store.\n",
      "Training: lr=0.001, Epoch=38, VL=2.498\n",
      "Bounds: Truncating...\n",
      "Bounds: ...done. New volue is V=0.0001367\n",
      "CPU times: user 1min 20s, sys: 25.1 s, total: 1min 45s\n",
      "Wall time: 3min 6s\n"
     ]
    }
   ],
   "source": [
    "%%time\n",
    "task = ZoomTask(sim, prior, obs0, simhook = noise, partition = [0, 1, 2, 3])\n",
    "task.run(rounds = 3, N = 3000, train_args = dict(batch_size = 128, max_epochs = 100))\n",
    "task.run(rounds = 1, N = 10000, train_args = dict(batch_size = 128, max_epochs = 100))"
   ]
  },
  {
   "cell_type": "code",
   "execution_count": 13,
   "metadata": {},
   "outputs": [
    {
     "name": "stdout",
     "output_type": "stream",
     "text": [
      "[0.09308464798365927, 0.006399025607722282, 0.0010969661943729557, 0.00013673622198978407]\n"
     ]
    }
   ],
   "source": [
    "print([h[1].volume for h in task.history])"
   ]
  },
  {
   "cell_type": "code",
   "execution_count": 14,
   "metadata": {},
   "outputs": [],
   "source": [
    "post = task.history[-1][0]\n",
    "samples = post.sample(100000, obs0)"
   ]
  },
  {
   "cell_type": "code",
   "execution_count": 15,
   "metadata": {},
   "outputs": [
    {
     "name": "stderr",
     "output_type": "stream",
     "text": [
      "/home/weniger/swyft/swyft/utils/plot.py:137: RuntimeWarning: divide by zero encountered in log\n",
      "  entropy = -simps(v * np.log(v), zm)\n",
      "/home/weniger/swyft/swyft/utils/plot.py:137: RuntimeWarning: invalid value encountered in multiply\n",
      "  entropy = -simps(v * np.log(v), zm)\n",
      "/home/weniger/swyft/swyft/utils/plot.py:137: RuntimeWarning: divide by zero encountered in log\n",
      "  entropy = -simps(v * np.log(v), zm)\n",
      "/home/weniger/swyft/swyft/utils/plot.py:137: RuntimeWarning: invalid value encountered in multiply\n",
      "  entropy = -simps(v * np.log(v), zm)\n",
      "/home/weniger/swyft/swyft/utils/plot.py:137: RuntimeWarning: divide by zero encountered in log\n",
      "  entropy = -simps(v * np.log(v), zm)\n",
      "/home/weniger/swyft/swyft/utils/plot.py:137: RuntimeWarning: invalid value encountered in multiply\n",
      "  entropy = -simps(v * np.log(v), zm)\n"
     ]
    },
    {
     "data": {
      "text/plain": [
       "(2.0, 4.0)"
      ]
     },
     "execution_count": 15,
     "metadata": {},
     "output_type": "execute_result"
    },
    {
     "data": {
      "image/png": "[encoded data removed]",
      "text/plain": [
       "<Figure size 1080x288 with 4 Axes>"
      ]
     },
     "metadata": {
      "needs_background": "light"
     },
     "output_type": "display_data"
    }
   ],
   "source": [
    "fig, diag = swyft.plot_1d(samples, [0, 1, 2, 3], bins = 100, figsize=(15,4), truth = v0, color='r', contours = False)\n",
    "swyft.plot_1d(samples_MN, [0, 1, 2, 3], bins = 100, figsize=(15,4), truth = v0, fig = fig, contours = False)\n",
    "fig.get_axes()[0].set_xlim([8, 12])\n",
    "fig.get_axes()[1].set_xlim([-4.5, -3.5])\n",
    "fig.get_axes()[2].set_xlim([2., 8])\n",
    "fig.get_axes()[3].set_xlim([2.0, 4.])"
   ]
  },
  {
   "cell_type": "markdown",
   "metadata": {},
   "source": [
    "### 2-dim posteriors"
   ]
  },
  {
   "cell_type": "code",
   "execution_count": 16,
   "metadata": {},
   "outputs": [
    {
     "name": "stdout",
     "output_type": "stream",
     "text": [
      "Store: Adding 8884 new samples to simulator store.\n",
      "WARNING: Some points require simulation.\n"
     ]
    }
   ],
   "source": [
    "bound = task.history[-1][1]\n",
    "store = task.store\n",
    "store.add(10000, prior, bound = bound)\n",
    "dataset = swyft.Dataset(10000, prior, store, simhook = noise, bound = bound)\n",
    "task.store.simulate()"
   ]
  },
  {
   "cell_type": "code",
   "execution_count": 17,
   "metadata": {},
   "outputs": [
    {
     "name": "stdout",
     "output_type": "stream",
     "text": [
      "Training: lr=0.001, Epoch=17, VL=0.7364\n"
     ]
    }
   ],
   "source": [
    "post = swyft.Posteriors(dataset)\n",
    "post.add([[0, 1], [1, 2]], device='cuda')\n",
    "post.train([[0, 1], [1, 2]])"
   ]
  },
  {
   "cell_type": "code",
   "execution_count": 18,
   "metadata": {},
   "outputs": [
    {
     "data": {
      "image/png": "[encoded data removed]",
      "text/plain": [
       "<Figure size 720x720 with 9 Axes>"
      ]
     },
     "metadata": {
      "needs_background": "light"
     },
     "output_type": "display_data"
    }
   ],
   "source": [
    "samples = post.sample(100000, obs0)\n",
    "swyft.plot_corner(samples, [0, 1, 2]);"
   ]
  },
  {
   "cell_type": "markdown",
   "metadata": {},
   "source": [
    "### Empirical vs nominal mass"
   ]
  },
  {
   "cell_type": "code",
   "execution_count": 19,
   "metadata": {},
   "outputs": [],
   "source": [
    "masses = post.empirical_mass(nobs = 1000)"
   ]
  },
  {
   "cell_type": "code",
   "execution_count": 20,
   "metadata": {},
   "outputs": [
    {
     "data": {
      "image/png": "[encoded data removed]",
      "text/plain": [
       "<Figure size 432x288 with 1 Axes>"
      ]
     },
     "metadata": {
      "needs_background": "light"
     },
     "output_type": "display_data"
    }
   ],
   "source": [
    "swyft.plot_empirical_mass(masses[(1, 2)])"
   ]
  },
  {
   "cell_type": "markdown",
   "metadata": {},
   "source": [
    "## Frequentist upper limits"
   ]
  },
  {
   "cell_type": "code",
   "execution_count": 21,
   "metadata": {},
   "outputs": [],
   "source": [
    "# Prior is defined in terms of a transform function\n",
    "\n",
    "def transform2(u):\n",
    "    return u*np.array([20, 10, 100, 0.0001]) + np.array([0, -5, 0, 5])\n",
    "prior = swyft.Prior(transform2, 4)"
   ]
  },
  {
   "cell_type": "code",
   "execution_count": 22,
   "metadata": {},
   "outputs": [
    {
     "name": "stdout",
     "output_type": "stream",
     "text": [
      "Creating new store.\n",
      "Store: Adding 2985 new samples to simulator store.\n",
      "Training: lr=0.001, Epoch=35, VL=0.7959\n",
      "Bounds: Truncating...\n",
      "Bounds: ...done. New volue is V=0.05873\n",
      "Store: Adding 2835 new samples to simulator store.\n",
      "Training: lr=0.001, Epoch=29, VL=0.9128\n",
      "Bounds: Truncating...\n",
      "Bounds: ...done. New volue is V=0.01278\n",
      "Store: Adding 2400 new samples to simulator store.\n",
      "Training: lr=0.001, Epoch=13, VL=1.376\n",
      "Bounds: Truncating...\n",
      "Bounds: ...done. New volue is V=0.01016\n",
      "CPU times: user 28.3 s, sys: 11.9 s, total: 40.2 s\n",
      "Wall time: 1min 12s\n"
     ]
    }
   ],
   "source": [
    "%%time\n",
    "task = ZoomTask(sim, prior, obs0, simhook = noise, partition = [0, 1])\n",
    "task.run(rounds = 3, N = 3000, train_args = dict(batch_size = 128, max_epochs = 100))"
   ]
  },
  {
   "cell_type": "code",
   "execution_count": 23,
   "metadata": {},
   "outputs": [],
   "source": [
    "post = task.history[-1][0]\n",
    "bound = task.history[-1][1]"
   ]
  },
  {
   "cell_type": "code",
   "execution_count": 24,
   "metadata": {},
   "outputs": [
    {
     "name": "stdout",
     "output_type": "stream",
     "text": [
      "Training: lr=0.001, Epoch=28, VL=0.1922\n"
     ]
    }
   ],
   "source": [
    "post2 = swyft.Posteriors(post.dataset)\n",
    "post2.add([2])\n",
    "post2.train([2])"
   ]
  },
  {
   "cell_type": "code",
   "execution_count": 93,
   "metadata": {},
   "outputs": [],
   "source": [
    "TS = []\n",
    "g = 3.\n",
    "grid = np.linspace(0, 30, 100)\n",
    "for _ in range(1000):\n",
    "    v = prior.v(bound.sample(1))\n",
    "    v[0, 2] = g\n",
    "    obs = noise(model(v[0]), v[0])\n",
    "    v = np.repeat(v, 101, axis = 0)\n",
    "    v[:len(grid),2] = grid\n",
    "    v[-1, 2] = g\n",
    "    t = post2.eval(v, obs)['weights'][(2,)]\n",
    "    tmax = t.max()\n",
    "    t /= tmax\n",
    "    t = -2*np.log(t)\n",
    "    TS.append(t[-1])\n",
    "TS = np.array(TS)"
   ]
  },
  {
   "cell_type": "code",
   "execution_count": 94,
   "metadata": {},
   "outputs": [
    {
     "data": {
      "image/png": "[encoded data removed]",
      "text/plain": [
       "<Figure size 432x288 with 1 Axes>"
      ]
     },
     "metadata": {
      "needs_background": "light"
     },
     "output_type": "display_data"
    }
   ],
   "source": [
    "plt.hist(TS, bins = 10);"
   ]
  },
  {
   "cell_type": "code",
   "execution_count": 95,
   "metadata": {},
   "outputs": [
    {
     "data": {
      "text/plain": [
       "array([-0.       ,  3.8696094])"
      ]
     },
     "execution_count": 95,
     "metadata": {},
     "output_type": "execute_result"
    }
   ],
   "source": [
    "np.quantile(TS, [0.05, 0.95])"
   ]
  },
  {
   "cell_type": "code",
   "execution_count": null,
   "metadata": {},
   "outputs": [],
   "source": []
  }
 ],
 "metadata": {
  "kernelspec": {
   "display_name": "Python 3",
   "language": "python",
   "name": "python3"
  },
  "language_info": {
   "codemirror_mode": {
    "name": "ipython",
    "version": 3
   },
   "file_extension": ".py",
   "mimetype": "text/x-python",
   "name": "python",
   "nbconvert_exporter": "python",
   "pygments_lexer": "ipython3",
   "version": "3.8.2"
  }
 },
 "nbformat": 4,
 "nbformat_minor": 4
}
