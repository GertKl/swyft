{
 "cells": [
  {
   "cell_type": "markdown",
   "metadata": {},
   "source": [
    "# CW03 - GUI paper exploration 3 - Converage plots\n",
    "\n",
    "Discard: This is explorative code for coverage plots, which ended up mostly in the CMB paper, and is part of standard swyft."
   ]
  },
  {
   "cell_type": "code",
   "execution_count": 1,
   "metadata": {},
   "outputs": [],
   "source": [
    "# Makes it easier to debug\n",
    "%load_ext autoreload\n",
    "%autoreload 2"
   ]
  },
  {
   "cell_type": "code",
   "execution_count": 2,
   "metadata": {},
   "outputs": [],
   "source": [
    "import numpy as np\n",
    "import pylab as plt\n",
    "from scipy.linalg import inv\n",
    "from scipy import stats\n",
    "import scipy\n",
    "import torch"
   ]
  },
  {
   "cell_type": "code",
   "execution_count": 3,
   "metadata": {},
   "outputs": [],
   "source": [
    "import dynesty\n",
    "import swyft"
   ]
  },
  {
   "cell_type": "markdown",
   "metadata": {},
   "source": [
    "## Workflow: ZoomTask"
   ]
  },
  {
   "cell_type": "code",
   "execution_count": 4,
   "metadata": {},
   "outputs": [],
   "source": [
    "class ZoomTask:\n",
    "    def __init__(self, sim_or_store, prior, target_obs, partition = None, simhook = None, init_bound = None):\n",
    "        if not isinstance(sim_or_store, swyft.Simulator):\n",
    "            self.store = sim_or_store\n",
    "        else:\n",
    "            self.store = swyft.MemoryStore(sim)\n",
    "        \n",
    "        if partition is None:\n",
    "            self.partition = list(range(len(self.store.pnames)))\n",
    "        else:\n",
    "            self.partition = partition\n",
    "            \n",
    "        self.prior = prior\n",
    "        self.simhook = simhook\n",
    "        self.target_obs = target_obs\n",
    "        \n",
    "        self.init_bound = init_bound\n",
    "        self.last_bound = None\n",
    "        self.history = []\n",
    "        \n",
    "    def run(self, rounds = 10, N = 10000, train_args = {}, head = None):\n",
    "        for i in range(rounds):\n",
    "            self.round(N = N, train_args = train_args, head = head)\n",
    "        \n",
    "    def round(self, N, train_args = {}, head = None):\n",
    "        bound = self.init_bound if self.history == [] else self.history[-1][1]\n",
    "        \n",
    "        self.store.add(N, self.prior, bound = bound)\n",
    "        self.store.simulate()\n",
    "        dataset = swyft.Dataset(N, self.prior, self.store, simhook = self.simhook, bound = bound)\n",
    "        post = swyft.Posteriors(dataset)\n",
    "        post.add(self.partition, device='cuda', head = head, tail_args = dict(p=0.2, hidden_layers = [512, 512]))\n",
    "        post.train(self.partition, **train_args)\n",
    "        bound = post.truncate(self.partition, self.target_obs)\n",
    "        \n",
    "        self.history.append([post, bound])"
   ]
  },
  {
   "cell_type": "markdown",
   "metadata": {},
   "source": [
    "## Model"
   ]
  },
  {
   "cell_type": "code",
   "execution_count": 6,
   "metadata": {},
   "outputs": [],
   "source": [
    "COUNTER = 0  # Counter for number of likelihood evaluations (relevant for Dynesty)"
   ]
  },
  {
   "cell_type": "code",
   "execution_count": 7,
   "metadata": {},
   "outputs": [],
   "source": [
    "N = 64  # Number of data bins\n",
    "SIGMA = 1.0  # Measurement uncertainty"
   ]
  },
  {
   "cell_type": "code",
   "execution_count": 8,
   "metadata": {},
   "outputs": [],
   "source": [
    "# Noise-free model\n",
    "\n",
    "# Model and reference parameters\n",
    "def spec(a, b, c, d, LW = 0.3):\n",
    "    global COUNTER\n",
    "    COUNTER += 1\n",
    "    x = np.linspace(0, 10, N)\n",
    "    y_bg = a+x*b\n",
    "    y_sig = c*stats.norm.pdf(x, d, LW)\n",
    "    return y_bg + y_sig\n",
    "\n",
    "def model(v):\n",
    "    y = spec(v[0], v[1], v[2], v[3])\n",
    "    noise = 0*np.random.randn(N)*SIGMA\n",
    "    return dict(y=y + noise)\n",
    "\n",
    "# Noise model\n",
    "def noise(sim, v, sigma = SIGMA):\n",
    "    #return sim\n",
    "    noise = np.random.randn(N)*sigma\n",
    "    return dict(y = sim['y'] + noise)"
   ]
  },
  {
   "cell_type": "markdown",
   "metadata": {},
   "source": [
    "## Analysis"
   ]
  },
  {
   "cell_type": "code",
   "execution_count": 9,
   "metadata": {},
   "outputs": [],
   "source": [
    "# Prior\n",
    "def transform(u):\n",
    "    a = scipy.stats.uniform(-2., 4.).ppf(u[0])\n",
    "    b = scipy.stats.uniform(-0.4, 0.8).ppf(u[1])\n",
    "    c = scipy.stats.uniform(2, 6.).ppf(u[2])\n",
    "    d = scipy.stats.uniform(3.5, 1.).ppf(u[3])\n",
    "    return np.array([a, b, c, d])"
   ]
  },
  {
   "cell_type": "code",
   "execution_count": 10,
   "metadata": {},
   "outputs": [],
   "source": [
    "v0 = np.array([0.0, 0, 5., 4.])\n",
    "obs0 = noise(model(v0), v0)"
   ]
  },
  {
   "cell_type": "code",
   "execution_count": 11,
   "metadata": {},
   "outputs": [],
   "source": [
    "sim = swyft.Simulator(model, ['bg_offset', 'bg_slope', 'sig_norm', 'sig_pos'], dict(y=(N,)))\n",
    "prior = swyft.Prior(transform, 4)"
   ]
  },
  {
   "cell_type": "code",
   "execution_count": 323,
   "metadata": {},
   "outputs": [
    {
     "name": "stdout",
     "output_type": "stream",
     "text": [
      "Creating new store.\n",
      "Store: Adding 986 new samples to simulator store.\n",
      "Training: lr=0.001, Epoch=1, VL=5.536, TL=5.543\n",
      "Bounds: Truncating...\n",
      "Bounds: ...done. New volue is V=0.936\n",
      "CPU times: user 4.14 s, sys: 353 ms, total: 4.5 s\n",
      "Wall time: 5.62 s\n"
     ]
    }
   ],
   "source": [
    "%%time\n",
    "task = ZoomTask(sim, prior, obs0, simhook = noise, partition = [[0], [1], [2], [3]])\n",
    "task.run(rounds = 1, N = 1000, \n",
    "         train_args = dict(batch_size = 128, max_epochs = 1, scheduler_args = dict(factor=0.5, patience = 1), early_stopping_patience = 10),\n",
    "         head = swyft.DefaultHead)"
   ]
  },
  {
   "cell_type": "code",
   "execution_count": 325,
   "metadata": {},
   "outputs": [],
   "source": [
    "post = task.history[-1][0]\n",
    "samples = post.sample(100000, obs0)"
   ]
  },
  {
   "cell_type": "code",
   "execution_count": 326,
   "metadata": {},
   "outputs": [
    {
     "data": {
      "text/plain": [
       "(3.5, 4.5)"
      ]
     },
     "execution_count": 326,
     "metadata": {},
     "output_type": "execute_result"
    },
    {
     "data": {
      "image/png": "[encoded data removed]",
      "text/plain": [
       "<Figure size 1080x288 with 4 Axes>"
      ]
     },
     "metadata": {
      "needs_background": "light"
     },
     "output_type": "display_data"
    }
   ],
   "source": [
    "fig, diag = swyft.plot_1d(samples, [0, 1, 2, 3], bins = 50, figsize=(15,4), truth = v0, color='r', contours = False)\n",
    "fig.get_axes()[3].set_xlim([3.5, 4.5])"
   ]
  },
  {
   "cell_type": "markdown",
   "metadata": {},
   "source": [
    "### Empirical vs nominal mass"
   ]
  },
  {
   "cell_type": "code",
   "execution_count": 327,
   "metadata": {},
   "outputs": [],
   "source": [
    "masses = post.empirical_mass(nobs = 1000)"
   ]
  },
  {
   "cell_type": "code",
   "execution_count": 328,
   "metadata": {},
   "outputs": [],
   "source": [
    "m = masses[(0,)]['nominal']"
   ]
  },
  {
   "cell_type": "code",
   "execution_count": 329,
   "metadata": {},
   "outputs": [
    {
     "data": {
      "text/plain": [
       "0.04550026389635842"
      ]
     },
     "execution_count": 329,
     "metadata": {},
     "output_type": "execute_result"
    }
   ],
   "source": [
    "probit = lambda x: scipy.stats.norm.ppf(x)\n",
    "z_from_alpha = lambda alpha: probit(1-alpha/2)\n",
    "alpha_from_z = lambda z: 2-scipy.stats.norm.cdf(z)*2\n",
    "alpha_from_z(2)"
   ]
  },
  {
   "cell_type": "code",
   "execution_count": 330,
   "metadata": {},
   "outputs": [],
   "source": [
    "def Jefferys_interval(k, n, z = 1):\n",
    "    alpha = alpha_from_z(z=z)\n",
    "    lower = scipy.stats.beta.ppf(alpha/2, k+0.5, n-k+0.5)\n",
    "    upper = scipy.stats.beta.ppf(1-alpha/2, k+0.5, n-k+0.5)\n",
    "    return np.array([np.where(k>0, lower, 0.), np.where(k < n, upper, 1.)]).T"
   ]
  },
  {
   "cell_type": "code",
   "execution_count": 331,
   "metadata": {},
   "outputs": [],
   "source": [
    "def estimate_hat_z(masses, nbins = 50, zmax = 4, z_band = 1):\n",
    "    n = len(masses)\n",
    "    zlist = np.linspace(0, zmax, nbins)\n",
    "    tlist = 1-alpha_from_z(zlist)\n",
    "    k = np.array([sum(masses < t) for t in tlist])\n",
    "    r_mean = k/n    \n",
    "    r_band = Jefferys_interval(k, n, z=z_band)\n",
    "    z_mean = z_from_alpha(1-r_mean)\n",
    "    z_band = z_from_alpha(1-r_band)\n",
    "    return dict(z = zlist, mean = z_mean, upper = z_band[:,1], lower = z_band[:,0])\n",
    "\n",
    "hat_z = estimate_hat_z(m)"
   ]
  },
  {
   "cell_type": "code",
   "execution_count": 332,
   "metadata": {},
   "outputs": [
    {
     "data": {
      "image/png": "[encoded data removed]",
      "text/plain": [
       "<Figure size 288x288 with 1 Axes>"
      ]
     },
     "metadata": {
      "needs_background": "light"
     },
     "output_type": "display_data"
    }
   ],
   "source": [
    "def plot_band(m, zmax = 3.5):\n",
    "    plt.figure(figsize = (4,4))\n",
    "    hat_z = estimate_hat_z(m, zmax = zmax)\n",
    "    z = hat_z['z']\n",
    "    plt.plot(z, hat_z['mean'], 'k')\n",
    "    upper = hat_z['upper']\n",
    "    upper = np.where(upper == np.inf, 100., upper)\n",
    "    plt.fill_between(z, hat_z['lower'], upper, color='0.8')\n",
    "    plt.plot([0, 4], [0, 4], '--', color='darkgreen')\n",
    "    for t in range(1, int(zmax)+1):\n",
    "        l = np.interp(t, z, hat_z['mean'])\n",
    "        if l != np.inf:\n",
    "            plt.plot([0, t], [l, l], ':', color='r')\n",
    "            c = 1-alpha_from_z(l)\n",
    "            plt.text(0.1, l+0.05, ('%.2f'%(c*100))+\"%\")\n",
    "            plt.plot([t, t], [0, l], ':', color='r')\n",
    "        else:\n",
    "            plt.plot([t, t], [0, 10.], ':', color='r')\n",
    "        c = 1-alpha_from_z(t)\n",
    "        plt.text(t, 0.3, ('%.2f'%(c*100))+\"%\", rotation = -90)\n",
    "    plt.xlim([0, zmax])\n",
    "    plt.ylim([0, zmax + 0.5])\n",
    "    plt.ylabel(\"Empirical coverage, $\\hat z$\")\n",
    "    plt.xlabel(\"Confidence level, $z$\")\n",
    "    phi = 40\n",
    "    plt.text(zmax/2, zmax/2 + 0.4, 'Conservative', ha = 'center', va = 'center', rotation = phi, color='darkgreen')\n",
    "    plt.text(zmax/2+0.4, zmax/2, 'Overconfident', ha = 'center', va = 'center', rotation = phi, color='darkgreen')\n",
    "    \n",
    "plot_band(m, zmax = 3.5)\n",
    "plt.savefig(\"coverage_not_converged2.svg\")"
   ]
  },
  {
   "cell_type": "code",
   "execution_count": 333,
   "metadata": {},
   "outputs": [
    {
     "name": "stdout",
     "output_type": "stream",
     "text": [
      "63 98\n"
     ]
    },
    {
     "data": {
      "image/png": "[encoded data removed]",
      "text/plain": [
       "<Figure size 576x288 with 1 Axes>"
      ]
     },
     "metadata": {
      "needs_background": "light"
     },
     "output_type": "display_data"
    }
   ],
   "source": [
    "plt.figure(figsize=(8, 4))\n",
    "c1 = 0\n",
    "c2 = 0\n",
    "for i in range(1, 101):\n",
    "    t = np.random.rand(1)[0]*20\n",
    "    o = np.random.randn(1)[0]\n",
    "    if i == 1:\n",
    "        l1, l2, l3 = \"95.45% interval\", \"68.27% interval\", \"Ground truth\"\n",
    "    else:\n",
    "        l1, l2, l3 = None, None, None\n",
    "    plt.plot([i, i], [t-2+o, t+2+o], 'r', label=l1)\n",
    "    plt.plot([i, i], [t-1+o, t+1+o], 'g', lw=4, label = l2)\n",
    "    plt.scatter(i, t, marker='_', color='k', zorder=3, label = l3)\n",
    "    if abs(o) < 1.:\n",
    "        c1+=1\n",
    "    if abs(o) < 2.:\n",
    "        c2+=1\n",
    "\n",
    "print(c1, c2)\n",
    "    \n",
    "plt.ylabel(\"Ground truth vs. credible intervals\")\n",
    "plt.xlabel(\"Range of test simulations\")\n",
    "plt.legend()\n",
    "#plt.title(\"Illustration of coverage test\")\n",
    "plt.savefig(\"coverage_illustration.svg\")"
   ]
  },
  {
   "cell_type": "code",
   "execution_count": null,
   "metadata": {},
   "outputs": [],
   "source": []
  }
 ],
 "metadata": {
  "kernelspec": {
   "display_name": "Python 3",
   "language": "python",
   "name": "python3"
  },
  "language_info": {
   "codemirror_mode": {
    "name": "ipython",
    "version": 3
   },
   "file_extension": ".py",
   "mimetype": "text/x-python",
   "name": "python",
   "nbconvert_exporter": "python",
   "pygments_lexer": "ipython3",
   "version": "3.8.2"
  }
 },
 "nbformat": 4,
 "nbformat_minor": 4
}
