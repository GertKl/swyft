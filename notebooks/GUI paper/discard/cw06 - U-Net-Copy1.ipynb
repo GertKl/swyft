{
 "cells": [
  {
   "cell_type": "markdown",
   "metadata": {},
   "source": [
    "# CW06 - GUI paper exploration 6 - U-Net densities\n",
    "\n",
    "Discard: Explorative work"
   ]
  },
  {
   "cell_type": "code",
   "execution_count": 1,
   "metadata": {},
   "outputs": [],
   "source": [
    "# Makes it easier to debug\n",
    "%load_ext autoreload\n",
    "%load_ext line_profiler\n",
    "%autoreload 2"
   ]
  },
  {
   "cell_type": "code",
   "execution_count": 2,
   "metadata": {},
   "outputs": [],
   "source": [
    "import numpy as np\n",
    "import pylab as plt\n",
    "from scipy.linalg import inv\n",
    "from scipy import stats\n",
    "import scipy\n",
    "import torch\n",
    "import swyft"
   ]
  },
  {
   "cell_type": "markdown",
   "metadata": {},
   "source": [
    "## Model"
   ]
  },
  {
   "cell_type": "code",
   "execution_count": 342,
   "metadata": {},
   "outputs": [],
   "source": [
    "N = 20  # Number of data bins\n",
    "SIGMA = 0.1  # Measurement uncertainty"
   ]
  },
  {
   "cell_type": "code",
   "execution_count": 343,
   "metadata": {},
   "outputs": [
    {
     "data": {
      "image/png": "[encoded data removed]",
      "text/plain": [
       "<Figure size 432x288 with 1 Axes>"
      ]
     },
     "metadata": {
      "needs_background": "light"
     },
     "output_type": "display_data"
    }
   ],
   "source": [
    "# Noise-free model\n",
    "NPAR = 4\n",
    "\n",
    "# Model and reference parameters\n",
    "def spec(a, b, c, d, LW = 3.3):\n",
    "    x = np.linspace(0, 10, N)\n",
    "    y_bg = a+x*b\n",
    "    y_sig = c*stats.norm.pdf(x, d, LW)\n",
    "    return y_bg + y_sig\n",
    "\n",
    "def model(v):\n",
    "    x = spec(v[0], v[1], v[2], v[3])\n",
    "    return dict(x=x)\n",
    "\n",
    "# Noise model\n",
    "def noise(sim, v, sigma = SIGMA):\n",
    "    noise = np.random.randn(N)*sigma\n",
    "    return dict(x = sim['x'] + noise)\n",
    "\n",
    "v0 = np.array([0.0, 0, 10., 10.])\n",
    "obs0 = noise(model(v0), v0)\n",
    "plt.plot(obs0['x'])\n",
    "\n",
    "# Prior\n",
    "def transform(u):\n",
    "    a = scipy.stats.uniform(-1., 1.).ppf(u[0])\n",
    "    b = scipy.stats.uniform(-1., 1.).ppf(u[1])\n",
    "    c = scipy.stats.uniform(9., 10.).ppf(u[2])\n",
    "    d = scipy.stats.uniform(0, 10.).ppf(u[3])\n",
    "    return np.array([a, b, c, d])"
   ]
  },
  {
   "cell_type": "code",
   "execution_count": 371,
   "metadata": {},
   "outputs": [
    {
     "data": {
      "image/png": "[encoded data removed]",
      "text/plain": [
       "<Figure size 432x288 with 1 Axes>"
      ]
     },
     "metadata": {
      "needs_background": "light"
     },
     "output_type": "display_data"
    }
   ],
   "source": [
    "NPAR = 1\n",
    "NRES = 10\n",
    "\n",
    "def model(v):\n",
    "    i = round(v[0]*(N-1))\n",
    "    x = np.zeros(N)\n",
    "    x[i] = 1\n",
    "    return dict(x=x)\n",
    "    \n",
    "def noise(sim, v):\n",
    "    noise = np.random.randn(N)*SIGMA\n",
    "    return dict(x = sim['x'] + noise)\n",
    "    \n",
    "v0 = np.array([0.5])\n",
    "obs0 = noise(model(v0), v0)\n",
    "plt.plot(obs0['x'])\n",
    "\n",
    "# Prior\n",
    "def transform(u):\n",
    "    return u"
   ]
  },
  {
   "cell_type": "markdown",
   "metadata": {},
   "source": [
    "### Zoom in"
   ]
  },
  {
   "cell_type": "code",
   "execution_count": 345,
   "metadata": {},
   "outputs": [],
   "source": [
    "sim = swyft.Simulator(model, NPAR, dict(x=(N,)))"
   ]
  },
  {
   "cell_type": "code",
   "execution_count": 346,
   "metadata": {},
   "outputs": [],
   "source": [
    "prior = swyft.Prior(transform, NPAR)"
   ]
  },
  {
   "cell_type": "code",
   "execution_count": 347,
   "metadata": {},
   "outputs": [],
   "source": [
    "NTRAIN = 1000"
   ]
  },
  {
   "cell_type": "code",
   "execution_count": 348,
   "metadata": {},
   "outputs": [
    {
     "name": "stdout",
     "output_type": "stream",
     "text": [
      "Creating new store.\n",
      "Store: Adding 978 new samples to simulator store.\n"
     ]
    }
   ],
   "source": [
    "store = swyft.MemoryStore(sim)\n",
    "store.add(NTRAIN, prior)\n",
    "store.simulate()"
   ]
  },
  {
   "cell_type": "code",
   "execution_count": 349,
   "metadata": {},
   "outputs": [],
   "source": [
    "dataset = swyft.Dataset(NTRAIN, prior, store, simhook = noise)"
   ]
  },
  {
   "cell_type": "code",
   "execution_count": 350,
   "metadata": {},
   "outputs": [],
   "source": [
    "from swyft.networks.module import Module\n",
    "from typing import Sequence\n",
    "from swyft.networks.tail import _get_z_shape, _combine\n",
    "from swyft.networks.normalization import OnlineNormalizationLayer\n",
    "from swyft.networks.linear import LinearWithChannel\n",
    "from torch import nn\n",
    "from swyft.types import ObsType, SimShapeType"
   ]
  },
  {
   "cell_type": "code",
   "execution_count": 351,
   "metadata": {},
   "outputs": [],
   "source": [
    "class DefaultHead(Module):\n",
    "    \"\"\"Default head network.\n",
    "\n",
    "    Args:\n",
    "        sim_shapes: Shape of the simulation data\n",
    "        online_norm: Perform online normalization of the inputs\n",
    "\n",
    "    .. note::\n",
    "        The default head network requires that all simulation components are\n",
    "        1-dim.  They will be simply concatenated into a single (potentially\n",
    "        very large) feature vector.  `DefaultHead` should only be used for very\n",
    "        low-dimensional data.  Almost always custom implementations will lead\n",
    "        to better results.\n",
    "    \"\"\"\n",
    "\n",
    "    def __init__(self, sim_shapes: SimShapeType, online_norm: bool = True) -> None:\n",
    "        super().__init__(sim_shapes=sim_shapes, online_norm=online_norm)\n",
    "        if not all(np.array([len(v) for v in sim_shapes.values()]) == 1):\n",
    "            raise ValueError(\n",
    "                \"DefaultHead only supports 1-dim data. Please supply custom head network.\"\n",
    "            )\n",
    "\n",
    "        self.n_features = sum([v[0] for k, v in sim_shapes.items()])\n",
    "\n",
    "        if online_norm:\n",
    "            self.onl_f = OnlineNormalizationLayer(torch.Size([self.n_features]))\n",
    "        else:\n",
    "            self.onl_f = identity\n",
    "\n",
    "    def forward(self, sim: ObsType) -> torch.Tensor:\n",
    "        \"\"\"Forward pass default head network. Concatenate.\n",
    "\n",
    "        Args:\n",
    "            sim: Dictionary of tensors with shape (n_batch, m_i)\n",
    "\n",
    "        Returns:\n",
    "            f: Feature vectors with shape (n_batch, M), with M = sum_i m_i\n",
    "        \"\"\"\n",
    "        f = torch.cat([value for _, value in sorted(sim.items())], dim=-1)\n",
    "        #f = self.onl_f(f)\n",
    "        return f\n"
   ]
  },
  {
   "cell_type": "code",
   "execution_count": 418,
   "metadata": {},
   "outputs": [],
   "source": [
    "class DefaultTail(Module):\n",
    "    def __init__(\n",
    "        self,\n",
    "        n_features: int,\n",
    "        marginals,\n",
    "        hidden_layers: Sequence[int] = [256, 256, 256],\n",
    "        p: float = 0.0,\n",
    "        online_norm: bool = True,\n",
    "        param_transform=None,\n",
    "        tail_features: bool = False,\n",
    "        n_tail_features: int = 2,\n",
    "    ):\n",
    "        \"\"\"Default tail network.\n",
    "\n",
    "        Args:\n",
    "            n_features: Length of feature vector.\n",
    "            marginals: List of marginals to learn.\n",
    "            hidden_layers: Hidden layer size\n",
    "            p: Dropout\n",
    "            online_norm: Online normalization of parameters.\n",
    "            param_transform: Perform optional parameter transform.\n",
    "            tail_features: Use tail features.\n",
    "            n_tail_features: Additional feature extractor network, number of features.\n",
    "\n",
    "        .. note::\n",
    "            We find that the default settings for the tail network typically\n",
    "            give reasonable results, and are almost always enough.  Tuning\n",
    "            makes only sense when the head network is already close-to optimal.\n",
    "        \"\"\"\n",
    "        super().__init__()\n",
    "        \n",
    "        self.unet = UNet3()\n",
    "\n",
    "    def forward(self, f: torch.Tensor, params) -> torch.Tensor:\n",
    "        \"\"\"Forward pass tail network.  Can handle one batch dimension.\n",
    "\n",
    "        Args:\n",
    "            f (tensor): feature vectors with shape (n_batch, n_features)\n",
    "            params (dict): parameter dictionary, with parameter shape (n_batch,)\n",
    "\n",
    "        Returns:\n",
    "            lnL (tensor): lnL ratio with shape (n_batch, len(marginals))\n",
    "        \"\"\"\n",
    "        #print(f)\n",
    "        #print(params)\n",
    "        nres = NRES\n",
    "        t = torch.tensor(params[:,0]*nres, dtype = torch.long)\n",
    "        t = nn.functional.one_hot(t, num_classes = nres) # nbatch, nmarg\n",
    "        #print(t)\n",
    "        x = self.unet(f) # nbatch, nmarg, 2\n",
    "        #print(x)\n",
    "        nbatch = x.size(0)\n",
    "        x = x.reshape(-1, 2)\n",
    "        t = t.reshape(-1)\n",
    "        x = x[torch.arange(len(t)), t].reshape(nbatch, -1) # nbatch, nmarg\n",
    "        #print(x)\n",
    "        #qwerty\n",
    "        return x"
   ]
  },
  {
   "cell_type": "code",
   "execution_count": 419,
   "metadata": {},
   "outputs": [],
   "source": [
    "class NestedDefaultTail(Module):\n",
    "    def __init__(\n",
    "        self,\n",
    "        n_features: int,\n",
    "        marginals,\n",
    "        hidden_layers: Sequence[int] = [256, 256, 256],\n",
    "        p: float = 0.0,\n",
    "        online_norm: bool = True,\n",
    "        param_transform=None,\n",
    "        tail_features: bool = False,\n",
    "        n_tail_features: int = 2,\n",
    "    ):\n",
    "        \"\"\"Default tail network.\n",
    "\n",
    "        Args:\n",
    "            n_features: Length of feature vector.\n",
    "            marginals: List of marginals to learn.\n",
    "            hidden_layers: Hidden layer size\n",
    "            p: Dropout\n",
    "            online_norm: Online normalization of parameters.\n",
    "            param_transform: Perform optional parameter transform.\n",
    "            tail_features: Use tail features.\n",
    "            n_tail_features: Additional feature extractor network, number of features.\n",
    "\n",
    "        .. note::\n",
    "            We find that the default settings for the tail network typically\n",
    "            give reasonable results, and are almost always enough.  Tuning\n",
    "            makes only sense when the head network is already close-to optimal.\n",
    "        \"\"\"\n",
    "        super().__init__()\n",
    "        \n",
    "        #print(N)\n",
    "        self.tailtail = swyft.DefaultTail(N, ((0,), (1,), (2,), (3,), (4,), (5,), (6,), (7,), (8,), (9,),))\n",
    "        #self.tailtail = swyft.DefaultTail(N, ((0,),))\n",
    "\n",
    "    def forward(self, f: torch.Tensor, params) -> torch.Tensor:\n",
    "        \"\"\"Forward pass tail network.  Can handle one batch dimension.\n",
    "\n",
    "        Args:\n",
    "            f (tensor): feature vectors with shape (n_batch, n_features)\n",
    "            params (dict): parameter dictionary, with parameter shape (n_batch,)\n",
    "\n",
    "        Returns:\n",
    "            lnL (tensor): lnL ratio with shape (n_batch, len(marginals))\n",
    "        \"\"\"\n",
    "        nres = NRES\n",
    "        t = torch.tensor(params[:,0]*nres, dtype = torch.long)\n",
    "        t = 1.*nn.functional.one_hot(t, num_classes = nres) # nbatch, nmarg\n",
    "        #print(t)\n",
    "        #print(t)\n",
    "        nbatch = params.size(0)\n",
    "        #t = torch.ones(nbatch, 3).cuda()*params\n",
    "        #print(t)\n",
    "        #print(f.shape)\n",
    "        #print(t.shape)\n",
    "        x = self.tailtail(f, t)\n",
    "        return x"
   ]
  },
  {
   "cell_type": "code",
   "execution_count": 420,
   "metadata": {},
   "outputs": [],
   "source": [
    "class UNet(nn.Module):\n",
    "    def __init__(self):\n",
    "        super().__init__()\n",
    "        self.conv1d_1 = nn.Conv1d(1, 8, 5, padding = 2, padding_mode = 'reflect')\n",
    "        self.conv1d_2 = nn.Conv1d(8, 16, 5, padding = 2, padding_mode = 'reflect')\n",
    "        self.conv1d_3 = nn.Conv1d(16, 32, 5, padding = 2, padding_mode = 'reflect')\n",
    "        self.conv1d_4 = nn.Conv1d(32, 2, 5, padding = 2, padding_mode = 'reflect')\n",
    "        #self.Bconv1d = nn.ConvTranspose1d(10, 1, 3)\n",
    "        self.relu = nn.ReLU()\n",
    "        #self.pool = nn.MaxPool1d(2)\n",
    "        #self.unpool = nn.MaxUnpool1d(2)\n",
    "\n",
    "    def forward(self, x):\n",
    "        x = x.unsqueeze(1)\n",
    "        x = self.conv1d_1(x)\n",
    "        x = self.relu(x)\n",
    "        x = self.conv1d_2(x)\n",
    "        x = self.relu(x)\n",
    "        x = self.conv1d_3(x)\n",
    "        x = self.relu(x)\n",
    "        x = self.conv1d_4(x)\n",
    "        return x"
   ]
  },
  {
   "cell_type": "code",
   "execution_count": 421,
   "metadata": {},
   "outputs": [],
   "source": [
    "class UNet3(nn.Module):\n",
    "    def __init__(self):\n",
    "        super().__init__()\n",
    "        self.net = nn.Sequential(\n",
    "            LinearWithChannel(NRES, N, 128),\n",
    "            nn.ReLU(),\n",
    "            LinearWithChannel(NRES, 128, 128),\n",
    "            nn.ReLU(),\n",
    "            LinearWithChannel(NRES, 128, 2)\n",
    "        )\n",
    "        \n",
    "    def forward(self, x):\n",
    "        x = x.unsqueeze(1)\n",
    "        x = x.repeat(1, NRES, 1)\n",
    "        x = self.net(x)\n",
    "        #x = x.reshape(-1, NRES, 2)\n",
    "        return x\n",
    "    \n",
    "u = UNet3()\n",
    "#x = torch.randn(4, N)\n",
    "#x = x.unsqueeze(1)\n",
    "#x = x.repeat(1, NRES, 1)\n",
    "#x.shape\n",
    "#u(x).shape"
   ]
  },
  {
   "cell_type": "code",
   "execution_count": 422,
   "metadata": {},
   "outputs": [],
   "source": [
    "class UNet2(nn.Module):\n",
    "    def __init__(self):\n",
    "        super().__init__()\n",
    "        self.net = nn.Sequential(\n",
    "            nn.Linear(N, 32),\n",
    "            nn.ReLU(),\n",
    "            nn.Linear(32, 32),\n",
    "            nn.ReLU(),\n",
    "            nn.Linear(32, NRES*2)\n",
    "        )\n",
    "        \n",
    "    def forward(self, x):\n",
    "        x = self.net(x)\n",
    "        x = x.reshape(-1, NRES, 2)\n",
    "        return x"
   ]
  },
  {
   "cell_type": "code",
   "execution_count": 423,
   "metadata": {},
   "outputs": [],
   "source": [
    "post = swyft.Posteriors(dataset)\n",
    "partition = range(1)\n",
    "post.add(partition, device='cuda', tail_args = dict(p=0.2, hidden_layers = [512, 512]), head = DefaultHead, tail = DefaultTail)"
   ]
  },
  {
   "cell_type": "code",
   "execution_count": 424,
   "metadata": {},
   "outputs": [
    {
     "name": "stderr",
     "output_type": "stream",
     "text": [
      "/home/weniger/miniconda3/lib/python3.7/site-packages/ipykernel_launcher.py:47: UserWarning: To copy construct from a tensor, it is recommended to use sourceTensor.clone().detach() or sourceTensor.clone().detach().requires_grad_(True), rather than torch.tensor(sourceTensor).\n"
     ]
    },
    {
     "name": "stdout",
     "output_type": "stream",
     "text": [
      "Training: lr=3.9e-06, Epoch=29, VL=12.39, TL=12.59\n"
     ]
    }
   ],
   "source": [
    "post.train(partition, max_epochs = 100, scheduler_args = dict(patience = 1, factor = 0.5), early_stopping_patience = 10, \n",
    "           batch_size = 64, optimizer_args = dict(lr = 0.001))"
   ]
  },
  {
   "cell_type": "code",
   "execution_count": 433,
   "metadata": {},
   "outputs": [
    {
     "data": {
      "text/plain": [
       "[<matplotlib.lines.Line2D at 0x148a22d8b940>]"
      ]
     },
     "execution_count": 433,
     "metadata": {},
     "output_type": "execute_result"
    },
    {
     "data": {
      "image/png": "[encoded data removed]",
      "text/plain": [
       "<Figure size 432x288 with 1 Axes>"
      ]
     },
     "metadata": {
      "needs_background": "light"
     },
     "output_type": "display_data"
    }
   ],
   "source": [
    "tail = post._ratios[((0,),)].tail.unet\n",
    "head = post._ratios[((0,),)].head\n",
    "f = head(dict(x = torch.tensor(obs0['x']).unsqueeze(0).float().cuda()))\n",
    "tt = tail(f)[0,:,1].cpu().detach().numpy()\n",
    "#params = torch.ones(1, NRES).cuda()\n",
    "#plt.plot((tail(f, params)).cpu().detach().numpy()[0])\n",
    "plt.plot(tt)"
   ]
  },
  {
   "cell_type": "code",
   "execution_count": 388,
   "metadata": {},
   "outputs": [
    {
     "data": {
      "text/plain": [
       "[<matplotlib.lines.Line2D at 0x148a22aa3e48>]"
      ]
     },
     "execution_count": 388,
     "metadata": {},
     "output_type": "execute_result"
    },
    {
     "data": {
      "image/png": "[encoded data removed]",
      "text/plain": [
       "<Figure size 432x288 with 1 Axes>"
      ]
     },
     "metadata": {
      "needs_background": "light"
     },
     "output_type": "display_data"
    }
   ],
   "source": [
    "tail = post._ratios[((0,),)].tail.tailtail\n",
    "head = post._ratios[((0,),)].head\n",
    "f = head(dict(x = torch.tensor(obs0['x']).unsqueeze(0).float().cuda()))\n",
    "params = torch.ones(1, NRES).cuda()\n",
    "plt.plot((tail(f, params)).cpu().detach().numpy()[0])"
   ]
  },
  {
   "cell_type": "code",
   "execution_count": 89,
   "metadata": {},
   "outputs": [],
   "source": []
  },
  {
   "cell_type": "code",
   "execution_count": 194,
   "metadata": {},
   "outputs": [
    {
     "name": "stderr",
     "output_type": "stream",
     "text": [
      "/home/weniger/miniconda3/lib/python3.7/site-packages/ipykernel_launcher.py:59: UserWarning: To copy construct from a tensor, it is recommended to use sourceTensor.clone().detach() or sourceTensor.clone().detach().requires_grad_(True), rather than torch.tensor(sourceTensor).\n"
     ]
    },
    {
     "ename": "ValueError",
     "evalue": "all the input array dimensions for the concatenation axis must match exactly, but along dimension 1, the array at index 0 has size 100 and the array at index 1000 has size 0",
     "output_type": "error",
     "traceback": [
      "\u001b[0;31m---------------------------------------------------------------------------\u001b[0m",
      "\u001b[0;31mValueError\u001b[0m                                Traceback (most recent call last)",
      "\u001b[0;32m<ipython-input-194-07a7a6ed793b>\u001b[0m in \u001b[0;36m<module>\u001b[0;34m\u001b[0m\n\u001b[1;32m      1\u001b[0m \u001b[0mv0\u001b[0m \u001b[0;34m=\u001b[0m \u001b[0mnp\u001b[0m\u001b[0;34m.\u001b[0m\u001b[0mzeros\u001b[0m\u001b[0;34m(\u001b[0m\u001b[0mN\u001b[0m\u001b[0;34m)\u001b[0m \u001b[0;34m+\u001b[0m \u001b[0;36m0.5\u001b[0m\u001b[0;34m\u001b[0m\u001b[0;34m\u001b[0m\u001b[0m\n\u001b[1;32m      2\u001b[0m \u001b[0mobs0\u001b[0m \u001b[0;34m=\u001b[0m \u001b[0mnoise\u001b[0m\u001b[0;34m(\u001b[0m\u001b[0mmodel\u001b[0m\u001b[0;34m(\u001b[0m\u001b[0mv0\u001b[0m\u001b[0;34m)\u001b[0m\u001b[0;34m,\u001b[0m \u001b[0mv0\u001b[0m\u001b[0;34m)\u001b[0m\u001b[0;34m\u001b[0m\u001b[0;34m\u001b[0m\u001b[0m\n\u001b[0;32m----> 3\u001b[0;31m \u001b[0msamples\u001b[0m \u001b[0;34m=\u001b[0m \u001b[0mpost\u001b[0m\u001b[0;34m.\u001b[0m\u001b[0msample\u001b[0m\u001b[0;34m(\u001b[0m\u001b[0;36m100000\u001b[0m\u001b[0;34m,\u001b[0m \u001b[0mobs0\u001b[0m\u001b[0;34m)\u001b[0m\u001b[0;34m\u001b[0m\u001b[0;34m\u001b[0m\u001b[0m\n\u001b[0m",
      "\u001b[0;32m~/swyft/swyft/inference/posteriors.py\u001b[0m in \u001b[0;36msample\u001b[0;34m(self, N, obs0, n_batch)\u001b[0m\n\u001b[1;32m    188\u001b[0m         \"\"\"\n\u001b[1;32m    189\u001b[0m         \u001b[0mv\u001b[0m \u001b[0;34m=\u001b[0m \u001b[0mself\u001b[0m\u001b[0;34m.\u001b[0m\u001b[0m_trunc_prior\u001b[0m\u001b[0;34m.\u001b[0m\u001b[0msample\u001b[0m\u001b[0;34m(\u001b[0m\u001b[0mN\u001b[0m\u001b[0;34m)\u001b[0m  \u001b[0;31m# prior samples\u001b[0m\u001b[0;34m\u001b[0m\u001b[0;34m\u001b[0m\u001b[0m\n\u001b[0;32m--> 190\u001b[0;31m         \u001b[0;32mreturn\u001b[0m \u001b[0mself\u001b[0m\u001b[0;34m.\u001b[0m\u001b[0meval\u001b[0m\u001b[0;34m(\u001b[0m\u001b[0mv\u001b[0m\u001b[0;34m,\u001b[0m \u001b[0mobs0\u001b[0m\u001b[0;34m,\u001b[0m \u001b[0mn_batch\u001b[0m\u001b[0;34m=\u001b[0m\u001b[0mn_batch\u001b[0m\u001b[0;34m)\u001b[0m\u001b[0;34m\u001b[0m\u001b[0;34m\u001b[0m\u001b[0m\n\u001b[0m\u001b[1;32m    191\u001b[0m \u001b[0;34m\u001b[0m\u001b[0m\n\u001b[1;32m    192\u001b[0m     \u001b[0;31m#    # TODO: Still needs to be fixed?\u001b[0m\u001b[0;34m\u001b[0m\u001b[0;34m\u001b[0m\u001b[0;34m\u001b[0m\u001b[0m\n",
      "\u001b[0;32m~/swyft/swyft/inference/posteriors.py\u001b[0m in \u001b[0;36meval\u001b[0;34m(self, v, obs0, n_batch)\u001b[0m\n\u001b[1;32m    170\u001b[0m \u001b[0;34m\u001b[0m\u001b[0m\n\u001b[1;32m    171\u001b[0m         ratios = self._eval_ratios(\n\u001b[0;32m--> 172\u001b[0;31m             \u001b[0mobs0\u001b[0m\u001b[0;34m,\u001b[0m \u001b[0mu\u001b[0m\u001b[0;34m,\u001b[0m \u001b[0mn_batch\u001b[0m\u001b[0;34m=\u001b[0m\u001b[0mn_batch\u001b[0m\u001b[0;34m\u001b[0m\u001b[0;34m\u001b[0m\u001b[0m\n\u001b[0m\u001b[1;32m    173\u001b[0m         )  # evaluate lnL for reference observation\n\u001b[1;32m    174\u001b[0m         \u001b[0mweights\u001b[0m \u001b[0;34m=\u001b[0m \u001b[0;34m{\u001b[0m\u001b[0;34m}\u001b[0m\u001b[0;34m\u001b[0m\u001b[0;34m\u001b[0m\u001b[0m\n",
      "\u001b[0;32m~/swyft/swyft/inference/posteriors.py\u001b[0m in \u001b[0;36m_eval_ratios\u001b[0;34m(self, obs, v, n_batch)\u001b[0m\n\u001b[1;32m    295\u001b[0m         \u001b[0mresult\u001b[0m \u001b[0;34m=\u001b[0m \u001b[0;34m{\u001b[0m\u001b[0;34m}\u001b[0m\u001b[0;34m\u001b[0m\u001b[0;34m\u001b[0m\u001b[0m\n\u001b[1;32m    296\u001b[0m         \u001b[0;32mfor\u001b[0m \u001b[0m_\u001b[0m\u001b[0;34m,\u001b[0m \u001b[0mrc\u001b[0m \u001b[0;32min\u001b[0m \u001b[0mself\u001b[0m\u001b[0;34m.\u001b[0m\u001b[0m_ratios\u001b[0m\u001b[0;34m.\u001b[0m\u001b[0mitems\u001b[0m\u001b[0;34m(\u001b[0m\u001b[0;34m)\u001b[0m\u001b[0;34m:\u001b[0m\u001b[0;34m\u001b[0m\u001b[0;34m\u001b[0m\u001b[0m\n\u001b[0;32m--> 297\u001b[0;31m             \u001b[0mratios\u001b[0m \u001b[0;34m=\u001b[0m \u001b[0mrc\u001b[0m\u001b[0;34m.\u001b[0m\u001b[0mratios\u001b[0m\u001b[0;34m(\u001b[0m\u001b[0mobs\u001b[0m\u001b[0;34m,\u001b[0m \u001b[0mv\u001b[0m\u001b[0;34m,\u001b[0m \u001b[0mn_batch\u001b[0m\u001b[0;34m=\u001b[0m\u001b[0mn_batch\u001b[0m\u001b[0;34m)\u001b[0m\u001b[0;34m\u001b[0m\u001b[0;34m\u001b[0m\u001b[0m\n\u001b[0m\u001b[1;32m    298\u001b[0m             \u001b[0mresult\u001b[0m\u001b[0;34m.\u001b[0m\u001b[0mupdate\u001b[0m\u001b[0;34m(\u001b[0m\u001b[0mratios\u001b[0m\u001b[0;34m)\u001b[0m\u001b[0;34m\u001b[0m\u001b[0;34m\u001b[0m\u001b[0m\n\u001b[1;32m    299\u001b[0m         \u001b[0;32mreturn\u001b[0m \u001b[0mresult\u001b[0m\u001b[0;34m\u001b[0m\u001b[0;34m\u001b[0m\u001b[0m\n",
      "\u001b[0;32m~/swyft/swyft/inference/ratios.py\u001b[0m in \u001b[0;36mratios\u001b[0;34m(self, obs, params, n_batch)\u001b[0m\n\u001b[1;32m    137\u001b[0m                     \u001b[0mtmp\u001b[0m \u001b[0;34m=\u001b[0m \u001b[0mtail\u001b[0m\u001b[0;34m(\u001b[0m\u001b[0mf_batch\u001b[0m\u001b[0;34m,\u001b[0m \u001b[0mparams_batch\u001b[0m\u001b[0;34m)\u001b[0m\u001b[0;34m.\u001b[0m\u001b[0mdetach\u001b[0m\u001b[0;34m(\u001b[0m\u001b[0;34m)\u001b[0m\u001b[0;34m.\u001b[0m\u001b[0mcpu\u001b[0m\u001b[0;34m(\u001b[0m\u001b[0;34m)\u001b[0m\u001b[0;34m.\u001b[0m\u001b[0mnumpy\u001b[0m\u001b[0;34m(\u001b[0m\u001b[0;34m)\u001b[0m\u001b[0;34m\u001b[0m\u001b[0;34m\u001b[0m\u001b[0m\n\u001b[1;32m    138\u001b[0m                     \u001b[0mratios\u001b[0m\u001b[0;34m.\u001b[0m\u001b[0mappend\u001b[0m\u001b[0;34m(\u001b[0m\u001b[0mtmp\u001b[0m\u001b[0;34m)\u001b[0m\u001b[0;34m\u001b[0m\u001b[0;34m\u001b[0m\u001b[0m\n\u001b[0;32m--> 139\u001b[0;31m                 \u001b[0mratios\u001b[0m \u001b[0;34m=\u001b[0m \u001b[0mnp\u001b[0m\u001b[0;34m.\u001b[0m\u001b[0mvstack\u001b[0m\u001b[0;34m(\u001b[0m\u001b[0mratios\u001b[0m\u001b[0;34m)\u001b[0m\u001b[0;34m\u001b[0m\u001b[0;34m\u001b[0m\u001b[0m\n\u001b[0m\u001b[1;32m    140\u001b[0m \u001b[0;34m\u001b[0m\u001b[0m\n\u001b[1;32m    141\u001b[0m             \u001b[0;32mreturn\u001b[0m \u001b[0;34m{\u001b[0m\u001b[0mk\u001b[0m\u001b[0;34m:\u001b[0m \u001b[0mratios\u001b[0m\u001b[0;34m[\u001b[0m\u001b[0;34m...\u001b[0m\u001b[0;34m,\u001b[0m \u001b[0mi\u001b[0m\u001b[0;34m]\u001b[0m \u001b[0;32mfor\u001b[0m \u001b[0mi\u001b[0m\u001b[0;34m,\u001b[0m \u001b[0mk\u001b[0m \u001b[0;32min\u001b[0m \u001b[0menumerate\u001b[0m\u001b[0;34m(\u001b[0m\u001b[0mself\u001b[0m\u001b[0;34m.\u001b[0m\u001b[0mmarginals\u001b[0m\u001b[0;34m)\u001b[0m\u001b[0;34m}\u001b[0m\u001b[0;34m\u001b[0m\u001b[0;34m\u001b[0m\u001b[0m\n",
      "\u001b[0;32m<__array_function__ internals>\u001b[0m in \u001b[0;36mvstack\u001b[0;34m(*args, **kwargs)\u001b[0m\n",
      "\u001b[0;32m~/miniconda3/lib/python3.7/site-packages/numpy/core/shape_base.py\u001b[0m in \u001b[0;36mvstack\u001b[0;34m(tup)\u001b[0m\n\u001b[1;32m    281\u001b[0m     \u001b[0;32mif\u001b[0m \u001b[0;32mnot\u001b[0m \u001b[0misinstance\u001b[0m\u001b[0;34m(\u001b[0m\u001b[0marrs\u001b[0m\u001b[0;34m,\u001b[0m \u001b[0mlist\u001b[0m\u001b[0;34m)\u001b[0m\u001b[0;34m:\u001b[0m\u001b[0;34m\u001b[0m\u001b[0;34m\u001b[0m\u001b[0m\n\u001b[1;32m    282\u001b[0m         \u001b[0marrs\u001b[0m \u001b[0;34m=\u001b[0m \u001b[0;34m[\u001b[0m\u001b[0marrs\u001b[0m\u001b[0;34m]\u001b[0m\u001b[0;34m\u001b[0m\u001b[0;34m\u001b[0m\u001b[0m\n\u001b[0;32m--> 283\u001b[0;31m     \u001b[0;32mreturn\u001b[0m \u001b[0m_nx\u001b[0m\u001b[0;34m.\u001b[0m\u001b[0mconcatenate\u001b[0m\u001b[0;34m(\u001b[0m\u001b[0marrs\u001b[0m\u001b[0;34m,\u001b[0m \u001b[0;36m0\u001b[0m\u001b[0;34m)\u001b[0m\u001b[0;34m\u001b[0m\u001b[0;34m\u001b[0m\u001b[0m\n\u001b[0m\u001b[1;32m    284\u001b[0m \u001b[0;34m\u001b[0m\u001b[0m\n\u001b[1;32m    285\u001b[0m \u001b[0;34m\u001b[0m\u001b[0m\n",
      "\u001b[0;32m<__array_function__ internals>\u001b[0m in \u001b[0;36mconcatenate\u001b[0;34m(*args, **kwargs)\u001b[0m\n",
      "\u001b[0;31mValueError\u001b[0m: all the input array dimensions for the concatenation axis must match exactly, but along dimension 1, the array at index 0 has size 100 and the array at index 1000 has size 0"
     ]
    }
   ],
   "source": [
    "v0 = np.zeros(N) + 0.5\n",
    "obs0 = noise(model(v0), v0)\n",
    "samples = post.sample(100000, obs0)"
   ]
  },
  {
   "cell_type": "code",
   "execution_count": 418,
   "metadata": {},
   "outputs": [
    {
     "data": {
      "image/png": "[encoded data removed]",
      "text/plain": [
       "<Figure size 1440x288 with 5 Axes>"
      ]
     },
     "metadata": {
      "needs_background": "light"
     },
     "output_type": "display_data"
    }
   ],
   "source": [
    "fig, diag = swyft.plot_1d(samples, range(45, 50), bins = 100, figsize=(20, 4), truth = v0, color='r', contours = True)"
   ]
  },
  {
   "cell_type": "code",
   "execution_count": null,
   "metadata": {},
   "outputs": [],
   "source": []
  }
 ],
 "metadata": {
  "kernelspec": {
   "display_name": "Python 3",
   "language": "python",
   "name": "python3"
  },
  "language_info": {
   "codemirror_mode": {
    "name": "ipython",
    "version": 3
   },
   "file_extension": ".py",
   "mimetype": "text/x-python",
   "name": "python",
   "nbconvert_exporter": "python",
   "pygments_lexer": "ipython3",
   "version": "3.8.2"
  }
 },
 "nbformat": 4,
 "nbformat_minor": 4
}
