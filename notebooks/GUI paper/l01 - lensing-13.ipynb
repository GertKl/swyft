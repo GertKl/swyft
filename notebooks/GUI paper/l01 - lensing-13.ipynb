{
 "cells": [
  {
   "cell_type": "code",
   "execution_count": 1,
   "id": "378a8baa",
   "metadata": {},
   "outputs": [],
   "source": [
    "import torch\n",
    "import numpy as np\n",
    "import matplotlib.pyplot as plt\n",
    "from pyro import distributions as dist\n",
    "from pyrofit.lensing.utils import get_meshgrid\n",
    "from pyrofit.lensing.lenses import SPLELens\n",
    "from pyrofit.lensing.sources import SersicSource\n",
    "\n",
    "torch.cuda.set_device(0)\n",
    "torch.set_default_tensor_type(torch.cuda.FloatTensor)\n",
    "\n",
    "import swyft\n",
    "\n",
    "DEVICE='cuda'"
   ]
  },
  {
   "cell_type": "code",
   "execution_count": 2,
   "id": "bc196966-901e-4ee2-8731-38ad5cf010aa",
   "metadata": {},
   "outputs": [],
   "source": [
    "SIGMA = 1.0"
   ]
  },
  {
   "cell_type": "code",
   "execution_count": 3,
   "id": "15e802f4",
   "metadata": {},
   "outputs": [],
   "source": [
    "def image_generator(x, y, phi, q, r_ein, slope, x_src, y_src, phi_src, q_src, index, r_e, I_e):\n",
    "\n",
    "    res = 0.0125*8                      # resolution in arcsec\n",
    "    nx, ny = 50, 50                   # number of pixels\n",
    "    X, Y = get_meshgrid(res, nx, ny)    # grid\n",
    "\n",
    "    # Lens\n",
    "    lens = SPLELens(device=DEVICE)\n",
    "    lens.XY = X,Y\n",
    "    # Displacement field\n",
    "    alphas = lens(x=x, y=y, phi=phi, q=q, r_ein=r_ein, slope=slope)\n",
    "\n",
    "    # Lensing equation\n",
    "    X_src = X - alphas[..., 0, :, :]\n",
    "    Y_src = Y - alphas[..., 1, :, :]\n",
    "\n",
    "    # Source\n",
    "    sersic = SersicSource(device=DEVICE)\n",
    "\n",
    "    # Lensed source\n",
    "    image = sersic(X=X_src, Y=Y_src, x=x_src, y=y_src, phi=phi_src, q=q_src, index=index, r_e=r_e, I_e=I_e)\n",
    "    \n",
    "    return image.cpu().numpy()"
   ]
  },
  {
   "cell_type": "code",
   "execution_count": 4,
   "id": "9c35a024",
   "metadata": {},
   "outputs": [],
   "source": [
    "def model(v):\n",
    "    # Lens parameters\n",
    "    #x = -0.05\n",
    "    #y = 0.1\n",
    "    #phi = 1.\n",
    "    #q = 0.5\n",
    "    #r_ein = 1.4\n",
    "    #slope = 2.1\n",
    "    x, y, phi, q, r_ein, slope, x_src, y_src, phi_src, q_src, index, r_e, I_e = v\n",
    "    \n",
    "    # Source param\n",
    "    #x_src = 0.\n",
    "    #y_src = 0.\n",
    "    #phi_src = 1.5\n",
    "    #q_src =0.7\n",
    "    #index = 2.\n",
    "    #r_e = 1.5\n",
    "    #I_e = 1.\n",
    "    \n",
    "    img = image_generator(x, y, phi, q, r_ein, slope, x_src, y_src, phi_src, q_src, index, r_e, I_e)\n",
    "    return dict(img = img)"
   ]
  },
  {
   "cell_type": "code",
   "execution_count": 5,
   "id": "f53d182c-266d-459b-9449-52e6f3ef1562",
   "metadata": {},
   "outputs": [],
   "source": [
    "def noise(sim, v, sigma = SIGMA):\n",
    "    return dict(img = sim['img'] + np.random.randn(50, 50)*sigma)"
   ]
  },
  {
   "cell_type": "code",
   "execution_count": 6,
   "id": "5a55eee4-67fd-46bd-b0f0-84d729083b54",
   "metadata": {},
   "outputs": [],
   "source": [
    "low =  np.array([-0.2, -0.2, 0, 0.2, 1.0, 1.5, -0.2, -0.2, 0, 0.2, 1.5, 1.0, 0.5])\n",
    "high = np.array([0.2, 0.2, 1.5, 0.9, 2.0, 2.5,  0.2,  0.2, 1.5, 0.8, 2.5, 2.0, 2.0])\n",
    "prior = swyft.get_uniform_prior(low, high)"
   ]
  },
  {
   "cell_type": "code",
   "execution_count": 7,
   "id": "38515c5b-b973-4280-b9ef-de41ccaf6faf",
   "metadata": {},
   "outputs": [],
   "source": [
    "sim = swyft.Simulator(model, 13, dict(img=(50,50)))"
   ]
  },
  {
   "cell_type": "code",
   "execution_count": 8,
   "id": "a0f2a0b2-34e7-49e0-a0ff-99183ada7a8d",
   "metadata": {},
   "outputs": [
    {
     "name": "stdout",
     "output_type": "stream",
     "text": [
      "Creating new store.\n",
      "Store: Adding 10065 new samples to simulator store.\n"
     ]
    }
   ],
   "source": [
    "Ntrain = 10000\n",
    "\n",
    "store = swyft.Store.memory_store(sim)\n",
    "store.add(Ntrain, prior)\n",
    "store.simulate()"
   ]
  },
  {
   "cell_type": "code",
   "execution_count": 9,
   "id": "23e5abff-ca31-49ba-9d97-66eab1bbd147",
   "metadata": {},
   "outputs": [],
   "source": [
    "torch.set_default_tensor_type(torch.FloatTensor)  # Needing this is kinda stupid"
   ]
  },
  {
   "cell_type": "code",
   "execution_count": 10,
   "id": "a7640bb4-2903-4aae-918f-f750daa6682a",
   "metadata": {},
   "outputs": [
    {
     "data": {
      "text/plain": [
       "<matplotlib.image.AxesImage at 0x1462969d61f0>"
      ]
     },
     "execution_count": 10,
     "metadata": {},
     "output_type": "execute_result"
    },
    {
     "data": {
      "image/png": "[encoded data removed]",
      "text/plain": [
       "<Figure size 432x288 with 1 Axes>"
      ]
     },
     "metadata": {
      "needs_background": "light"
     },
     "output_type": "display_data"
    }
   ],
   "source": [
    "plt.imshow(store[4][0]['img'])"
   ]
  },
  {
   "cell_type": "code",
   "execution_count": 11,
   "id": "8b8ccb5d-4a21-43ee-bc5d-5ba031e6dce4",
   "metadata": {},
   "outputs": [],
   "source": [
    "dataset = swyft.Dataset(Ntrain, prior, store, simhook = noise)"
   ]
  },
  {
   "cell_type": "code",
   "execution_count": 12,
   "id": "00d3ee41-b247-478a-a665-3818b36a7e85",
   "metadata": {},
   "outputs": [
    {
     "ename": "SyntaxError",
     "evalue": "invalid syntax (<ipython-input-12-bea671400399>, line 7)",
     "output_type": "error",
     "traceback": [
      "\u001b[0;36m  File \u001b[0;32m\"<ipython-input-12-bea671400399>\"\u001b[0;36m, line \u001b[0;32m7\u001b[0m\n\u001b[0;31m    return ratios\u001b[0m\n\u001b[0m    ^\u001b[0m\n\u001b[0;31mSyntaxError\u001b[0m\u001b[0;31m:\u001b[0m invalid syntax\n"
     ]
    }
   ],
   "source": [
    "class MyNetwork(torch.nn.Module):\n",
    "    def __init__(self):\n",
    "        pass\n",
    "    \n",
    "    def forward(slef, obs, par):\n",
    "        ratios = self.ratios(\n",
    "        return ratios"
   ]
  },
  {
   "cell_type": "code",
   "execution_count": null,
   "id": "4c39be50-faf8-4ec6-8720-199bddf996cb",
   "metadata": {},
   "outputs": [],
   "source": [
    "class CustomObservationTransform(torch.nn.Module):\n",
    "    def __init__(self, observation_key: str, observation_shapes: dict):\n",
    "        super().__init__()\n",
    "        self.observation_key = observation_key\n",
    "        self.n_features = 160  # This attribute must be defined!\n",
    "        \n",
    "        self.online_z_score = swyft.networks.OnlineDictStandardizingLayer(observation_shapes)\n",
    "        self.net = torch.nn.Sequential(\n",
    "            torch.nn.Conv2d(1, 10, 3),\n",
    "            torch.nn.MaxPool2d(2),\n",
    "            torch.nn.Conv2d(10, 20, 3),\n",
    "            torch.nn.MaxPool2d(2),\n",
    "            torch.nn.Conv2d(20, 40, 3),\n",
    "            torch.nn.MaxPool2d(2),\n",
    "            torch.nn.Flatten(),\n",
    "            torch.nn.Linear(640, 160),\n",
    "        )\n",
    "\n",
    "    def forward(self, obs: dict) -> torch.Tensor:\n",
    "        x = self.online_z_score(obs)\n",
    "        x = x[self.observation_key]\n",
    "        x = x.unsqueeze(1)\n",
    "        x = self.net(x).squeeze(1)\n",
    "        return x\n",
    "\n",
    "\n",
    "def get_custom_marginal_classifier(\n",
    "    observation_transform,\n",
    "    marginal_indices: tuple,\n",
    "    n_parameters: int,\n",
    "    hidden_features: int,\n",
    "    num_blocks: int,\n",
    "    marginal_classifier = None,\n",
    "    parameter_online_z_score: bool = True,\n",
    ") -> torch.nn.Module:\n",
    "    n_observation_features = observation_transform.n_features\n",
    "\n",
    "    parameter_transform = swyft.networks.ParameterTransform(\n",
    "        n_parameters, marginal_indices, online_z_score=parameter_online_z_score\n",
    "    )\n",
    "    n_marginals, n_block_parameters = parameter_transform.marginal_block_shape\n",
    "\n",
    "    if marginal_classifier is None:\n",
    "        marginal_classifier = swyft.networks.MarginalClassifier(\n",
    "            n_marginals,\n",
    "            n_observation_features + n_block_parameters,\n",
    "            hidden_features=hidden_features,\n",
    "            num_blocks=num_blocks,\n",
    "        )\n",
    "    else:\n",
    "        marginal_classifier = marginal_classifier(\n",
    "            n_marginals,\n",
    "            n_observation_features + n_block_parameters,\n",
    "            hidden_features=hidden_features,\n",
    "            num_blocks=num_blocks,\n",
    "        )\n",
    "\n",
    "    return swyft.networks.Network(\n",
    "        observation_transform,\n",
    "        parameter_transform,\n",
    "        marginal_classifier,\n",
    "    )"
   ]
  },
  {
   "cell_type": "code",
   "execution_count": null,
   "id": "e2aee320-ec69-4e69-b00b-97d8a7076502",
   "metadata": {},
   "outputs": [],
   "source": [
    "marg_indices = tuple([(i,) for i in range(13)])"
   ]
  },
  {
   "cell_type": "code",
   "execution_count": null,
   "id": "403e1847-e661-4ba1-a4b1-d5091bd1f934",
   "metadata": {},
   "outputs": [],
   "source": [
    "network_1d = get_custom_marginal_classifier(\n",
    "    observation_transform=CustomObservationTransform('img', {'img': (50, 50)}),\n",
    "    marginal_indices=marg_indices,\n",
    "    n_parameters=13,\n",
    "    hidden_features=32,\n",
    "    num_blocks=2,\n",
    ")\n",
    "\n",
    "mre_1d = swyft.MarginalRatioEstimator(\n",
    "    marginal_indices=marg_indices,\n",
    "    network=network_1d,\n",
    "    device=DEVICE,\n",
    ")"
   ]
  },
  {
   "cell_type": "code",
   "execution_count": null,
   "id": "574c0216-8a4f-484f-a05b-c0e3d54d172c",
   "metadata": {},
   "outputs": [],
   "source": [
    "vl = mre_1d.train(dataset, batch_size = 64, max_epochs = 100)"
   ]
  },
  {
   "cell_type": "code",
   "execution_count": null,
   "id": "30c650a0-334f-4973-ba5a-7b0ce0513469",
   "metadata": {},
   "outputs": [],
   "source": [
    "posterior_1d = swyft.MarginalPosterior(mre_1d, prior)"
   ]
  },
  {
   "cell_type": "code",
   "execution_count": null,
   "id": "bc6fe0cc-190b-425a-8b43-dc87e6523dcd",
   "metadata": {},
   "outputs": [],
   "source": [
    "obs0, _, v0 = dataset[0]\n",
    "samples_1d = posterior_1d.weighted_sample(10000, obs0)\n",
    "plt.imshow(obs0['img'])"
   ]
  },
  {
   "cell_type": "code",
   "execution_count": null,
   "id": "e0e52d7f-ab2f-473d-88fd-8e235f3bba2a",
   "metadata": {},
   "outputs": [],
   "source": [
    "swyft.hist1d(samples_1d, kde = True, figsize = (20, 5), truth = v0);"
   ]
  },
  {
   "cell_type": "code",
   "execution_count": null,
   "id": "0a701fd7-cc09-448b-987c-bd75254b7665",
   "metadata": {},
   "outputs": [],
   "source": [
    "import dynesty"
   ]
  },
  {
   "cell_type": "code",
   "execution_count": null,
   "id": "e9558e32-6414-4ac2-a061-2ef6b27d2f54",
   "metadata": {},
   "outputs": [],
   "source": [
    "transform = prior.icdf\n",
    "COUNTER = 0\n",
    "obs0_np = obs0['img'].numpy()"
   ]
  },
  {
   "cell_type": "code",
   "execution_count": null,
   "id": "98dec6a7-39d2-4615-a957-01d713633afc",
   "metadata": {},
   "outputs": [],
   "source": [
    "def loglike(v):    \n",
    "    global COUNTER\n",
    "    COUNTER += 1\n",
    "    #if COUNTER % 20 == 0:\n",
    "        #print(COUNTER)\n",
    "    mu = model(v)['img']\n",
    "    logl = -0.5*((obs0_np - mu)**2).sum()/SIGMA**2\n",
    "    if logl > -np.inf and logl < np.inf:\n",
    "        return logl"
   ]
  },
  {
   "cell_type": "code",
   "execution_count": null,
   "id": "483487b6-58c9-4848-aae0-30278aaf218d",
   "metadata": {},
   "outputs": [],
   "source": [
    "ns = dynesty.NestedSampler(loglike, transform, 13)\n",
    "ns.run_nested(maxcall = 100000)"
   ]
  },
  {
   "cell_type": "code",
   "execution_count": null,
   "id": "1a06b56a-a712-49b1-b161-8e0137cfc93d",
   "metadata": {},
   "outputs": [],
   "source": [
    "print(COUNTER)"
   ]
  },
  {
   "cell_type": "code",
   "execution_count": null,
   "id": "d9be7ec1-7a47-4b3e-9d92-2ec7182a33c9",
   "metadata": {},
   "outputs": [],
   "source": [
    "samples = ns.results.samples\n",
    "wts = ns.results.logwt\n",
    "wts -= wts.max()"
   ]
  },
  {
   "cell_type": "code",
   "execution_count": null,
   "id": "1a7be24f-9611-4b41-bff2-a685c5b6c303",
   "metadata": {},
   "outputs": [],
   "source": [
    "plt.hist(samples[:, 2], weights = np.exp(wts*0.00005), bins = 100);"
   ]
  }
 ],
 "metadata": {
  "kernelspec": {
   "display_name": "Python 3",
   "language": "python",
   "name": "python3"
  },
  "language_info": {
   "codemirror_mode": {
    "name": "ipython",
    "version": 3
   },
   "file_extension": ".py",
   "mimetype": "text/x-python",
   "name": "python",
   "nbconvert_exporter": "python",
   "pygments_lexer": "ipython3",
   "version": "3.8.2"
  }
 },
 "nbformat": 4,
 "nbformat_minor": 5
}
