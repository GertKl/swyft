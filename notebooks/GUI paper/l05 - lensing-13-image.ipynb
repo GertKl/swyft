{
 "cells": [
  {
   "cell_type": "code",
   "execution_count": 1,
   "id": "378a8baa",
   "metadata": {},
   "outputs": [],
   "source": [
    "import torch\n",
    "import numpy as np\n",
    "import typing as tp\n",
    "from pyrofit.utils import pad_dims\n",
    "from torch.nn.functional import grid_sample\n",
    "import matplotlib.pyplot as plt\n",
    "from pyro import distributions as dist\n",
    "from pyrofit.lensing.utils import get_meshgrid\n",
    "from pyrofit.lensing.lenses import SPLELens\n",
    "from pyrofit.lensing.sources import SersicSource, AnalyticSource\n",
    "from pyrofit.utils.torchutils import _mid_many, unravel_index\n",
    "from pyrofit.utils import kNN\n",
    "\n",
    "torch.cuda.set_device(0)\n",
    "torch.set_default_tensor_type(torch.cuda.FloatTensor)\n",
    "\n",
    "import swyft\n",
    "\n",
    "DEVICE='cuda'"
   ]
  },
  {
   "cell_type": "code",
   "execution_count": 2,
   "id": "bc196966-901e-4ee2-8731-38ad5cf010aa",
   "metadata": {},
   "outputs": [],
   "source": [
    "SIGMA = 1.0"
   ]
  },
  {
   "cell_type": "code",
   "execution_count": 3,
   "id": "5822b979-18df-459c-b3a8-0c441c0cb7f1",
   "metadata": {},
   "outputs": [],
   "source": [
    "class ArraySource(AnalyticSource):\n",
    "    def __init__(self, image_array, x: float = 0., y: float = 0., scale: float = 1., peak_intensity: float = 1.,\n",
    "                 origin: tp.Literal['lower', 'upper'] = 'lower', aspect=None, device=None):\n",
    "        super().__init__(device=device)\n",
    "\n",
    "        self.x, self.y = x, y\n",
    "        self.peak_intensity = peak_intensity\n",
    "\n",
    "        self.image = self._image(image_array, peak_intensity, device)\n",
    "\n",
    "        if aspect is None:\n",
    "            aspect = self.image.shape[-2] / self.image.shape[-1]\n",
    "        self.semi_scale = torch.tensor([scale, (-1 if origin == 'lower' else 1) * aspect * scale], device=device) / 2\n",
    "\n",
    "    def _image(self, image_array, peak_intensity=None, device=None) -> torch.Tensor:\n",
    "        image = torch.tensor(image_array)\n",
    "        if image.shape[-1] in (1, 3, 4):\n",
    "            image = torch.movedim(image, -1, -3)\n",
    "        if peak_intensity is not None:\n",
    "            image = image.to(torch.get_default_dtype())\n",
    "            image = image / torch.amax(image, (-2, -1), keepdim=True) * peak_intensity\n",
    "        self.rollback_dims = image.ndim\n",
    "        return pad_dims(image, ndim=4)[0].to(device=device, dtype=torch.get_default_dtype())\n",
    "\n",
    "    def flux(self, X, Y):\n",
    "        grid = torch.stack((X - self.x, Y - self.y), dim=-1).reshape(-1, *X.shape[-2:], 2) / self.semi_scale\n",
    "\n",
    "        return grid_sample(\n",
    "            self.image.expand(grid.shape[0], *self.image.shape[-3:]),\n",
    "            grid,\n",
    "            align_corners=True\n",
    "        ).reshape(*X.shape[:-2], *self.image.shape[-self.rollback_dims:-2], *X.shape[-2:])\n"
   ]
  },
  {
   "cell_type": "code",
   "execution_count": 4,
   "id": "ba2ddbc3-5207-4aab-aceb-452bd470659b",
   "metadata": {},
   "outputs": [],
   "source": [
    "def deproject(image, X, Y, Xsrc, Ysrc):\n",
    "        \"\"\"Return indices into `Xsrc` and `Ysrc` closest to each point in `psrc`.\"\"\"\n",
    "        P = torch.stack((X, Y), -1).flatten(-3, -2)\n",
    "        Psrc = torch.stack((Xsrc, Ysrc), -1).flatten(-3, -2)\n",
    "        N = 2\n",
    "        idx = unravel_index(kNN(P, Psrc, N).squeeze(-1), Xsrc.shape[-2:])\n",
    "        idx = torch.reshape(idx, (400, 400, N, 2))\n",
    "        src_image = [image[idx[..., i,0], idx[..., i,1]] for i in range(N)]\n",
    "        src_image = sum(src_image)/N\n",
    "        return src_image"
   ]
  },
  {
   "cell_type": "code",
   "execution_count": 5,
   "id": "15e802f4",
   "metadata": {},
   "outputs": [],
   "source": [
    "def image_generator(x, y, phi, q, r_ein, slope, src_image):\n",
    "\n",
    "    res = 0.0125*8                      # resolution in arcsec\n",
    "    nx, ny = 50, 50                   # number of pixels\n",
    "    X, Y = get_meshgrid(res, nx, ny)    # grid\n",
    "\n",
    "    # Lens\n",
    "    lens = SPLELens(device=DEVICE)\n",
    "    lens.XY = X,Y\n",
    "    # Displacement field\n",
    "    alphas = lens(x=x, y=y, phi=phi, q=q, r_ein=r_ein, slope=slope)\n",
    "\n",
    "    # Lensing equation\n",
    "    X_src = X - alphas[..., 0, :, :]\n",
    "    Y_src = Y - alphas[..., 1, :, :]\n",
    "\n",
    "    # Source\n",
    "    source = ArraySource(src_image, peak_intensity = None, scale = 5)\n",
    "\n",
    "    # Lensed source\n",
    "    image = source(X=X_src, Y=Y_src)\n",
    "    \n",
    "    return image, [X, Y, X_src, Y_src]"
   ]
  },
  {
   "cell_type": "code",
   "execution_count": 6,
   "id": "46385bad-e629-49a2-8b89-298a24f48c53",
   "metadata": {},
   "outputs": [
    {
     "data": {
      "text/plain": [
       "<matplotlib.image.AxesImage at 0x146e66338580>"
      ]
     },
     "execution_count": 6,
     "metadata": {},
     "output_type": "execute_result"
    },
    {
     "data": {
      "image/png": "[encoded data removed]",
      "text/plain": [
       "<Figure size 432x288 with 1 Axes>"
      ]
     },
     "metadata": {
      "needs_background": "light"
     },
     "output_type": "display_data"
    }
   ],
   "source": [
    "# Lens param\n",
    "x = -0.05\n",
    "y = 0.1\n",
    "phi = 1.\n",
    "q = 0.5\n",
    "r_ein = 1.4\n",
    "slope = 2.1\n",
    "\n",
    "# Source image\n",
    "src_image = torch.rand([400,400])*0\n",
    "src_image[100:300,100:300] += 1\n",
    "src_image[150:250,150:250] += 1\n",
    "src_image[175:225,175:225] += 1\n",
    "src_image[190:210,190:210] += 1\n",
    "src_image[195:205,195:205] += 1\n",
    "plt.imshow(src_image.cpu())"
   ]
  },
  {
   "cell_type": "code",
   "execution_count": 7,
   "id": "1461165d-13b2-46ae-8711-3669870c7c83",
   "metadata": {},
   "outputs": [
    {
     "name": "stderr",
     "output_type": "stream",
     "text": [
      "<ipython-input-3-6c7c12c26adf>:16: UserWarning: To copy construct from a tensor, it is recommended to use sourceTensor.clone().detach() or sourceTensor.clone().detach().requires_grad_(True), rather than torch.tensor(sourceTensor).\n",
      "  image = torch.tensor(image_array)\n"
     ]
    },
    {
     "data": {
      "text/plain": [
       "<matplotlib.colorbar.Colorbar at 0x146e65df15b0>"
      ]
     },
     "execution_count": 7,
     "metadata": {},
     "output_type": "execute_result"
    },
    {
     "data": {
      "image/png": "[encoded data removed]",
      "text/plain": [
       "<Figure size 432x288 with 2 Axes>"
      ]
     },
     "metadata": {
      "needs_background": "light"
     },
     "output_type": "display_data"
    }
   ],
   "source": [
    "image, coords = image_generator(x, y, phi, q, r_ein*1.05, slope, src_image)\n",
    "plt.imshow(image.cpu());\n",
    "plt.colorbar()"
   ]
  },
  {
   "cell_type": "code",
   "execution_count": 8,
   "id": "9c35a024",
   "metadata": {},
   "outputs": [],
   "source": [
    "def model(v):\n",
    "    # Lens parameters\n",
    "    #x = -0.05\n",
    "    #y = 0.1\n",
    "    #phi = 1.\n",
    "    #q = 0.5\n",
    "    #r_ein = 1.4\n",
    "    #slope = 2.1\n",
    "    x, y, phi, q, r_ein, slope = v[:6]\n",
    "    \n",
    "    img, _ = image_generator(x, y, phi, q, r_ein, slope, src_image)\n",
    "    return dict(img = img.cpu())"
   ]
  },
  {
   "cell_type": "code",
   "execution_count": 9,
   "id": "f53d182c-266d-459b-9449-52e6f3ef1562",
   "metadata": {},
   "outputs": [],
   "source": [
    "def noise(sim, v, sigma = SIGMA):\n",
    "    return dict(img = sim['img'] + np.random.randn(50, 50)*sigma)"
   ]
  },
  {
   "cell_type": "code",
   "execution_count": 10,
   "id": "5a55eee4-67fd-46bd-b0f0-84d729083b54",
   "metadata": {},
   "outputs": [],
   "source": [
    "low =  np.array([-0.2, -0.2, 0, 0.2, 1.0, 1.5])\n",
    "high = np.array([0.2, 0.2, 1.5, 0.9, 2.0, 2.5])\n",
    "prior = swyft.get_uniform_prior(low, high)"
   ]
  },
  {
   "cell_type": "code",
   "execution_count": 11,
   "id": "38515c5b-b973-4280-b9ef-de41ccaf6faf",
   "metadata": {},
   "outputs": [],
   "source": [
    "sim = swyft.Simulator(model, 6, dict(img=(50,50)))"
   ]
  },
  {
   "cell_type": "code",
   "execution_count": 12,
   "id": "a0f2a0b2-34e7-49e0-a0ff-99183ada7a8d",
   "metadata": {},
   "outputs": [
    {
     "name": "stdout",
     "output_type": "stream",
     "text": [
      "Creating new store.\n",
      "Store: Adding 2055 new samples to simulator store.\n"
     ]
    },
    {
     "name": "stderr",
     "output_type": "stream",
     "text": [
      "<ipython-input-3-6c7c12c26adf>:16: UserWarning: To copy construct from a tensor, it is recommended to use sourceTensor.clone().detach() or sourceTensor.clone().detach().requires_grad_(True), rather than torch.tensor(sourceTensor).\n",
      "  image = torch.tensor(image_array)\n"
     ]
    }
   ],
   "source": [
    "Ntrain = 2000\n",
    "\n",
    "store = swyft.Store.memory_store(sim)\n",
    "store.add(Ntrain, prior)\n",
    "store.simulate()"
   ]
  },
  {
   "cell_type": "code",
   "execution_count": 13,
   "id": "23e5abff-ca31-49ba-9d97-66eab1bbd147",
   "metadata": {},
   "outputs": [],
   "source": [
    "torch.set_default_tensor_type(torch.FloatTensor)  # Needing this is kinda stupid"
   ]
  },
  {
   "cell_type": "code",
   "execution_count": 14,
   "id": "a7640bb4-2903-4aae-918f-f750daa6682a",
   "metadata": {},
   "outputs": [
    {
     "data": {
      "text/plain": [
       "<matplotlib.image.AxesImage at 0x146e65bf8bb0>"
      ]
     },
     "execution_count": 14,
     "metadata": {},
     "output_type": "execute_result"
    },
    {
     "data": {
      "image/png": "[encoded data removed]",
      "text/plain": [
       "<Figure size 432x288 with 1 Axes>"
      ]
     },
     "metadata": {
      "needs_background": "light"
     },
     "output_type": "display_data"
    }
   ],
   "source": [
    "plt.imshow(store[4][0]['img'])"
   ]
  },
  {
   "cell_type": "code",
   "execution_count": 15,
   "id": "8b8ccb5d-4a21-43ee-bc5d-5ba031e6dce4",
   "metadata": {},
   "outputs": [],
   "source": [
    "dataset = swyft.Dataset(Ntrain, prior, store, simhook = noise)"
   ]
  },
  {
   "cell_type": "code",
   "execution_count": 16,
   "id": "4c39be50-faf8-4ec6-8720-199bddf996cb",
   "metadata": {},
   "outputs": [],
   "source": [
    "class CustomObservationTransform(torch.nn.Module):\n",
    "    def __init__(self, observation_key: str, observation_shapes: dict):\n",
    "        super().__init__()\n",
    "        self.observation_key = observation_key\n",
    "        self.n_features = 160  # This attribute must be defined!\n",
    "        \n",
    "        self.online_z_score = swyft.networks.OnlineDictStandardizingLayer(observation_shapes)\n",
    "        self.net = torch.nn.Sequential(\n",
    "            torch.nn.Conv2d(1, 10, 3),\n",
    "            torch.nn.MaxPool2d(2),\n",
    "            torch.nn.Conv2d(10, 20, 3),\n",
    "            torch.nn.MaxPool2d(2),\n",
    "            torch.nn.Conv2d(20, 40, 3),\n",
    "            torch.nn.MaxPool2d(2),\n",
    "            torch.nn.Flatten(),\n",
    "            torch.nn.Linear(640, 160),\n",
    "        )\n",
    "\n",
    "    def forward(self, obs: dict) -> torch.Tensor:\n",
    "        x = self.online_z_score(obs)\n",
    "        x = x[self.observation_key]\n",
    "        x = x.unsqueeze(1)\n",
    "        x = self.net(x).squeeze(1)\n",
    "        return x\n",
    "\n",
    "\n",
    "def get_custom_marginal_classifier(\n",
    "    observation_transform,\n",
    "    marginal_indices: tuple,\n",
    "    n_parameters: int,\n",
    "    hidden_features: int,\n",
    "    num_blocks: int,\n",
    "    marginal_classifier = None,\n",
    "    parameter_online_z_score: bool = True,\n",
    ") -> torch.nn.Module:\n",
    "    n_observation_features = observation_transform.n_features\n",
    "\n",
    "    parameter_transform = swyft.networks.ParameterTransform(\n",
    "        n_parameters, marginal_indices, online_z_score=parameter_online_z_score\n",
    "    )\n",
    "    n_marginals, n_block_parameters = parameter_transform.marginal_block_shape\n",
    "\n",
    "    if marginal_classifier is None:\n",
    "        marginal_classifier = swyft.networks.MarginalClassifier(\n",
    "            n_marginals,\n",
    "            n_observation_features + n_block_parameters,\n",
    "            hidden_features=hidden_features,\n",
    "            num_blocks=num_blocks,\n",
    "        )\n",
    "    else:\n",
    "        marginal_classifier = marginal_classifier(\n",
    "            n_marginals,\n",
    "            n_observation_features + n_block_parameters,\n",
    "            hidden_features=hidden_features,\n",
    "            num_blocks=num_blocks,\n",
    "        )\n",
    "\n",
    "    return swyft.networks.Network(\n",
    "        observation_transform,\n",
    "        parameter_transform,\n",
    "        marginal_classifier,\n",
    "    )"
   ]
  },
  {
   "cell_type": "code",
   "execution_count": 17,
   "id": "e2aee320-ec69-4e69-b00b-97d8a7076502",
   "metadata": {},
   "outputs": [],
   "source": [
    "marg_indices = tuple([(i,) for i in range(6)])"
   ]
  },
  {
   "cell_type": "code",
   "execution_count": 18,
   "id": "403e1847-e661-4ba1-a4b1-d5091bd1f934",
   "metadata": {},
   "outputs": [],
   "source": [
    "network_1d = get_custom_marginal_classifier(\n",
    "    observation_transform=CustomObservationTransform('img', {'img': (50, 50)}),\n",
    "    marginal_indices=marg_indices,\n",
    "    n_parameters=6,\n",
    "    hidden_features=32,\n",
    "    num_blocks=2,\n",
    ")\n",
    "\n",
    "mre_1d = swyft.MarginalRatioEstimator(\n",
    "    marginal_indices=marg_indices,\n",
    "    network=network_1d,\n",
    "    device=DEVICE,\n",
    ")"
   ]
  },
  {
   "cell_type": "code",
   "execution_count": 19,
   "id": "574c0216-8a4f-484f-a05b-c0e3d54d172c",
   "metadata": {},
   "outputs": [
    {
     "name": "stderr",
     "output_type": "stream",
     "text": [
      "/home/weniger/miniconda3/envs/p38/lib/python3.8/site-packages/torch-1.9.0-py3.8-linux-x86_64.egg/torch/nn/functional.py:718: UserWarning: Named tensors and all their associated APIs are an experimental feature and subject to change. Please do not use them for anything important until they are released as stable. (Triggered internally at  /pytorch/c10/core/TensorImpl.h:1156.)\n",
      "  return torch.max_pool2d(input, kernel_size, stride, padding, dilation, ceil_mode)\n"
     ]
    },
    {
     "name": "stdout",
     "output_type": "stream",
     "text": [
      "training: lr=5e-05, epoch=25, validation loss=3.8915\n"
     ]
    }
   ],
   "source": [
    "vl = mre_1d.train(dataset, batch_size = 64, max_epochs = 100)"
   ]
  },
  {
   "cell_type": "code",
   "execution_count": 20,
   "id": "30c650a0-334f-4973-ba5a-7b0ce0513469",
   "metadata": {},
   "outputs": [],
   "source": [
    "posterior_1d = swyft.MarginalPosterior(mre_1d, prior)"
   ]
  },
  {
   "cell_type": "code",
   "execution_count": 21,
   "id": "bc6fe0cc-190b-425a-8b43-dc87e6523dcd",
   "metadata": {},
   "outputs": [
    {
     "data": {
      "text/plain": [
       "<matplotlib.image.AxesImage at 0x146e65b9ae50>"
      ]
     },
     "execution_count": 21,
     "metadata": {},
     "output_type": "execute_result"
    },
    {
     "data": {
      "image/png": "[encoded data removed]",
      "text/plain": [
       "<Figure size 432x288 with 1 Axes>"
      ]
     },
     "metadata": {
      "needs_background": "light"
     },
     "output_type": "display_data"
    }
   ],
   "source": [
    "obs0, _, v0 = dataset[3]\n",
    "samples_1d = posterior_1d.weighted_sample(10000, obs0)\n",
    "plt.imshow(obs0['img'])"
   ]
  },
  {
   "cell_type": "code",
   "execution_count": 22,
   "id": "e0e52d7f-ab2f-473d-88fd-8e235f3bba2a",
   "metadata": {},
   "outputs": [
    {
     "data": {
      "image/png": "[encoded data removed]",
      "text/plain": [
       "<Figure size 1440x360 with 6 Axes>"
      ]
     },
     "metadata": {
      "needs_background": "light"
     },
     "output_type": "display_data"
    }
   ],
   "source": [
    "swyft.hist1d(samples_1d, kde = True, figsize = (20, 5), truth = v0);"
   ]
  },
  {
   "cell_type": "code",
   "execution_count": null,
   "id": "15fd58fb-2bb8-4e88-96b6-697bc210eda6",
   "metadata": {},
   "outputs": [],
   "source": []
  }
 ],
 "metadata": {
  "kernelspec": {
   "display_name": "p38",
   "language": "python",
   "name": "p38"
  },
  "language_info": {
   "codemirror_mode": {
    "name": "ipython",
    "version": 3
   },
   "file_extension": ".py",
   "mimetype": "text/x-python",
   "name": "python",
   "nbconvert_exporter": "python",
   "pygments_lexer": "ipython3",
   "version": "3.8.2"
  }
 },
 "nbformat": 4,
 "nbformat_minor": 5
}
