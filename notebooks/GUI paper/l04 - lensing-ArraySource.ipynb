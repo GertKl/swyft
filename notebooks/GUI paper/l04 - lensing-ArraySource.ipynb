{
 "cells": [
  {
   "cell_type": "code",
   "execution_count": 1,
   "id": "378a8baa",
   "metadata": {},
   "outputs": [],
   "source": [
    "import torch\n",
    "import typing as tp\n",
    "from pyrofit.utils import pad_dims\n",
    "from torch.nn.functional import grid_sample\n",
    "import matplotlib.pyplot as plt\n",
    "from pyro import distributions as dist\n",
    "from pyrofit.lensing.utils import get_meshgrid\n",
    "from pyrofit.lensing.lenses import SPLELens\n",
    "from pyrofit.lensing.sources import AnalyticSource\n",
    "\n",
    "torch.cuda.set_device(0)\n",
    "torch.set_default_tensor_type(torch.cuda.FloatTensor)\n",
    "\n",
    "DEVICE='cuda'"
   ]
  },
  {
   "cell_type": "code",
   "execution_count": 2,
   "id": "ef945d94-af13-40d8-ace1-86a515759627",
   "metadata": {},
   "outputs": [],
   "source": [
    "from pyrofit.utils.torchutils import _mid_many, unravel_index\n",
    "from pyrofit.utils import kNN"
   ]
  },
  {
   "cell_type": "markdown",
   "id": "81a04fdb",
   "metadata": {},
   "source": [
    "### Array Source"
   ]
  },
  {
   "cell_type": "code",
   "execution_count": 3,
   "id": "dade1f50",
   "metadata": {},
   "outputs": [],
   "source": [
    "class ArraySource(AnalyticSource):\n",
    "    def __init__(self, image_array, x: float = 0., y: float = 0., scale: float = 1., peak_intensity: float = 1.,\n",
    "                 origin: tp.Literal['lower', 'upper'] = 'lower', aspect=None, device=None):\n",
    "        super().__init__(device=device)\n",
    "\n",
    "        self.x, self.y = x, y\n",
    "        self.peak_intensity = peak_intensity\n",
    "\n",
    "        self.image = self._image(image_array, peak_intensity, device)\n",
    "\n",
    "        if aspect is None:\n",
    "            aspect = self.image.shape[-2] / self.image.shape[-1]\n",
    "        self.semi_scale = torch.tensor([scale, (-1 if origin == 'lower' else 1) * aspect * scale], device=device) / 2\n",
    "\n",
    "    def _image(self, image_array, peak_intensity=None, device=None) -> torch.Tensor:\n",
    "        image = torch.tensor(image_array)\n",
    "        if image.shape[-1] in (1, 3, 4):\n",
    "            image = torch.movedim(image, -1, -3)\n",
    "        if peak_intensity is not None:\n",
    "            image = image.to(torch.get_default_dtype())\n",
    "            image = image / torch.amax(image, (-2, -1), keepdim=True) * peak_intensity\n",
    "        self.rollback_dims = image.ndim\n",
    "        return pad_dims(image, ndim=4)[0].to(device=device, dtype=torch.get_default_dtype())\n",
    "\n",
    "    def flux(self, X, Y):\n",
    "        grid = torch.stack((X - self.x, Y - self.y), dim=-1).reshape(-1, *X.shape[-2:], 2) / self.semi_scale\n",
    "\n",
    "        return grid_sample(\n",
    "            self.image.expand(grid.shape[0], *self.image.shape[-3:]),\n",
    "            grid,\n",
    "            align_corners=True\n",
    "        ).reshape(*X.shape[:-2], *self.image.shape[-self.rollback_dims:-2], *X.shape[-2:])\n"
   ]
  },
  {
   "cell_type": "code",
   "execution_count": 4,
   "id": "04aa0508-dad7-448e-92e9-8af18b3bc6dc",
   "metadata": {},
   "outputs": [],
   "source": [
    "# Lens param\n",
    "x = -0.05\n",
    "y = 0.1\n",
    "phi = 1.\n",
    "q = 0.5\n",
    "r_ein = 1.4\n",
    "slope = 2.1"
   ]
  },
  {
   "cell_type": "code",
   "execution_count": 5,
   "id": "ab1a99aa-31a9-47d6-a7f6-b46c6f6d0c7a",
   "metadata": {},
   "outputs": [
    {
     "data": {
      "text/plain": [
       "<matplotlib.image.AxesImage at 0x15520e101100>"
      ]
     },
     "execution_count": 5,
     "metadata": {},
     "output_type": "execute_result"
    },
    {
     "data": {
      "image/png": "[encoded data removed]",
      "text/plain": [
       "<Figure size 432x288 with 1 Axes>"
      ]
     },
     "metadata": {
      "needs_background": "light"
     },
     "output_type": "display_data"
    }
   ],
   "source": [
    "# Source image\n",
    "src_image = torch.rand([400,400])*0\n",
    "src_image[100:300,100:300] += 1\n",
    "src_image[150:250,150:250] += 1\n",
    "src_image[175:225,175:225] += 1\n",
    "src_image[190:210,190:210] += 1\n",
    "src_image[195:205,195:205] += 1\n",
    "plt.imshow(src_image.cpu())"
   ]
  },
  {
   "cell_type": "code",
   "execution_count": 6,
   "id": "56d5aa99-a551-4217-bd38-2ce00901aa64",
   "metadata": {},
   "outputs": [],
   "source": [
    "def deproject(image, X, Y, Xsrc, Ysrc):\n",
    "        \"\"\"Return indices into `Xsrc` and `Ysrc` closest to each point in `psrc`.\"\"\"\n",
    "        P = torch.stack((X, Y), -1).flatten(-3, -2)\n",
    "        Psrc = torch.stack((Xsrc, Ysrc), -1).flatten(-3, -2)\n",
    "        N = 2\n",
    "        idx = unravel_index(kNN(P, Psrc, N).squeeze(-1), Xsrc.shape[-2:])\n",
    "        idx = torch.reshape(idx, (400, 400, N, 2))\n",
    "        src_image = [image[idx[..., i,0], idx[..., i,1]] for i in range(N)]\n",
    "        src_image = sum(src_image)/N\n",
    "        return src_image"
   ]
  },
  {
   "cell_type": "code",
   "execution_count": 7,
   "id": "8aaa0450-7e2f-4ba9-8f53-c213788ad143",
   "metadata": {},
   "outputs": [],
   "source": [
    "def model(x, y, phi, q, r_ein, slope, src_image):\n",
    "\n",
    "    res = 0.0125                        # resolution in arcsec\n",
    "    nx, ny = 400, 400                   # number of pixels\n",
    "    X, Y = get_meshgrid(res, nx, ny)    # grid\n",
    "\n",
    "    # Lens\n",
    "    lens = SPLELens(device=DEVICE)\n",
    "    lens.XY = X,Y\n",
    "    # Displacement field\n",
    "    alphas = lens(x=x, y=y, phi=phi, q=q, r_ein=r_ein, slope=slope)\n",
    "\n",
    "    # Lensing equation\n",
    "    X_src = X - alphas[..., 0, :, :]\n",
    "    Y_src = Y - alphas[..., 1, :, :]\n",
    "\n",
    "    # Source\n",
    "    source = ArraySource(src_image, peak_intensity = None, scale = 5)\n",
    "\n",
    "    # Lensed source\n",
    "    image = source(X=X_src, Y=Y_src)\n",
    "    \n",
    "    return image, [X, Y, X_src, Y_src]"
   ]
  },
  {
   "cell_type": "code",
   "execution_count": 10,
   "id": "6179e7ab",
   "metadata": {},
   "outputs": [
    {
     "name": "stderr",
     "output_type": "stream",
     "text": [
      "<ipython-input-3-6c7c12c26adf>:16: UserWarning: To copy construct from a tensor, it is recommended to use sourceTensor.clone().detach() or sourceTensor.clone().detach().requires_grad_(True), rather than torch.tensor(sourceTensor).\n",
      "  image = torch.tensor(image_array)\n"
     ]
    },
    {
     "data": {
      "text/plain": [
       "<matplotlib.colorbar.Colorbar at 0x15520da92a60>"
      ]
     },
     "execution_count": 10,
     "metadata": {},
     "output_type": "execute_result"
    },
    {
     "data": {
      "image/png": "[encoded data removed]",
      "text/plain": [
       "<Figure size 432x288 with 2 Axes>"
      ]
     },
     "metadata": {
      "needs_background": "light"
     },
     "output_type": "display_data"
    }
   ],
   "source": [
    "image, coords = model(x, y, phi, q, r_ein*1.05, slope, src_image)\n",
    "plt.imshow(image.cpu());\n",
    "plt.colorbar()"
   ]
  },
  {
   "cell_type": "code",
   "execution_count": 11,
   "id": "83183a41-7c10-4754-b0d1-3fcee7d1a6d7",
   "metadata": {},
   "outputs": [
    {
     "name": "stderr",
     "output_type": "stream",
     "text": [
      "/home/weniger/miniconda3/envs/p38/lib/python3.8/site-packages/torch-1.9.0-py3.8-linux-x86_64.egg/torch/_tensor.py:575: UserWarning: floor_divide is deprecated, and will be removed in a future version of pytorch. It currently rounds toward 0 (like the 'trunc' function NOT 'floor'). This results in incorrect rounding for negative values.\n",
      "To keep the current behavior, use torch.div(a, b, rounding_mode='trunc'), or for actual floor division, use torch.div(a, b, rounding_mode='floor'). (Triggered internally at  /pytorch/aten/src/ATen/native/BinaryOps.cpp:467.)\n",
      "  return torch.floor_divide(self, other)\n"
     ]
    }
   ],
   "source": [
    "image2 = deproject(image, coords[0], coords[1], coords[2], coords[3])"
   ]
  },
  {
   "cell_type": "code",
   "execution_count": 12,
   "id": "00668efe-6abe-4067-97ec-c7f25b54940c",
   "metadata": {},
   "outputs": [
    {
     "data": {
      "text/plain": [
       "<matplotlib.colorbar.Colorbar at 0x15520d95e340>"
      ]
     },
     "execution_count": 12,
     "metadata": {},
     "output_type": "execute_result"
    },
    {
     "data": {
      "image/png": "[encoded data removed]",
      "text/plain": [
       "<Figure size 432x288 with 2 Axes>"
      ]
     },
     "metadata": {
      "needs_background": "light"
     },
     "output_type": "display_data"
    }
   ],
   "source": [
    "plt.imshow(image2.cpu() - src_image.cpu())\n",
    "plt.colorbar()"
   ]
  },
  {
   "cell_type": "code",
   "execution_count": null,
   "id": "0325d1d3-2f73-4c5f-856f-44b5968b4c4b",
   "metadata": {},
   "outputs": [],
   "source": []
  }
 ],
 "metadata": {
  "kernelspec": {
   "display_name": "Python 3",
   "language": "python",
   "name": "python3"
  },
  "language_info": {
   "codemirror_mode": {
    "name": "ipython",
    "version": 3
   },
   "file_extension": ".py",
   "mimetype": "text/x-python",
   "name": "python",
   "nbconvert_exporter": "python",
   "pygments_lexer": "ipython3",
   "version": "3.8.2"
  }
 },
 "nbformat": 4,
 "nbformat_minor": 5
}
