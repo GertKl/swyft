{
 "cells": [
  {
   "cell_type": "code",
   "execution_count": 1,
   "id": "3822aac4-d5eb-4979-b237-70c80d2489e8",
   "metadata": {},
   "outputs": [],
   "source": [
    "# Makes it easier to debug\n",
    "%load_ext autoreload\n",
    "#%load_ext line_profiler\n",
    "%autoreload 2"
   ]
  },
  {
   "cell_type": "code",
   "execution_count": 2,
   "id": "0297c907",
   "metadata": {},
   "outputs": [],
   "source": [
    "import pylab as plt\n",
    "import numpy as np\n",
    "import torch\n",
    "import torch.nn as nn\n",
    "import typing as tp\n",
    "from torch.nn import functional as F\n",
    "\n",
    "import swyft\n",
    "from swyft.lightning.components import (\n",
    "    RatioEstimatorGaussian1d, MeanStd, SimpleDataset, subsample_posterior,\n",
    "    get_1d_rect_bounds, append_randomized, valmap, SwyftModel, persist_to_file, \n",
    "    equalize_tensors, SwyftTrainer, SampleStore, dictstoremap, DictDataset, SwyftModule, SwyftDataModule, RatioSamples,\n",
    "    RatioSampleStore\n",
    ")"
   ]
  },
  {
   "cell_type": "markdown",
   "id": "0310f82a-2064-4d63-8e41-8f38c5f9277c",
   "metadata": {},
   "source": [
    "- p(x, z) log(sigmoid(logr(x, z))) + p(x)p(z) log(sigmoid(-logr(x, z)))\n",
    "- p(x)p(z|x) log p(z|x)/p(z)"
   ]
  },
  {
   "cell_type": "markdown",
   "id": "93d83b8b-4b96-4f92-b71b-84ecba33cc68",
   "metadata": {},
   "source": [
    "## Problem-specific analysis components"
   ]
  },
  {
   "cell_type": "code",
   "execution_count": null,
   "id": "27daa2f7-d569-4886-a5fb-28c8f2426950",
   "metadata": {},
   "outputs": [
    {
     "name": "stderr",
     "output_type": "stream",
     "text": [
      "\n",
      "\n",
      "100%|██████████| 1/1 [00:00<00:00, 404.62it/s]\n",
      "\n",
      "\n",
      "100%|██████████| 1/1 [00:00<00:00, 2535.85it/s]\n"
     ]
    },
    {
     "data": {
      "text/plain": [
       "[<matplotlib.lines.Line2D at 0x14c1a2a08130>]"
      ]
     },
     "execution_count": 121,
     "metadata": {},
     "output_type": "execute_result"
    },
    {
     "data": {
      "image/png": "[encoded data removed]",
      "text/plain": [
       "<Figure size 432x288 with 1 Axes>"
      ]
     },
     "metadata": {
      "needs_background": "light"
     },
     "output_type": "display_data"
    }
   ],
   "source": [
    "class Model(SwyftModel):\n",
    "    def fast(self, S):\n",
    "        d = S['mu'] + torch.randn_like(S['mu'])*1\n",
    "        return SampleStore(data = d)\n",
    "        \n",
    "    def slow(self, S):\n",
    "        a, b, c = S['z']\n",
    "        x = np.linspace(-1, 1, 10000)\n",
    "        mu = a+b*x + c*x**2\n",
    "        return SampleStore(mu=mu.float())\n",
    "\n",
    "    def prior(self, N, bounds = None):\n",
    "        low = -np.ones(3)\n",
    "        high = np.ones(3)\n",
    "        if bounds is not None:\n",
    "            low, high = bounds['z'].low, bounds['z'].high\n",
    "        draw = np.array([np.random.uniform(low=low, high=high) for _ in range(N)])\n",
    "        return SampleStore(z = torch.tensor(draw).float())\n",
    "    \n",
    "m = Model()\n",
    "plt.plot(m.sample(1)[0]['data'])"
   ]
  },
  {
   "cell_type": "markdown",
   "id": "d2be2f92-d80e-4aa5-9844-302ce3ea11f6",
   "metadata": {},
   "source": [
    "## Definition of target image"
   ]
  },
  {
   "cell_type": "code",
   "execution_count": 4,
   "id": "e0afb416-08aa-4499-8914-2b321d905f90",
   "metadata": {},
   "outputs": [],
   "source": [
    "class InferenceNet(SwyftModule):\n",
    "    def __init__(self):\n",
    "        super().__init__()\n",
    "        #self.online_z_score = swyft.networks.OnlineDictStandardizingLayer(dict(img = (50, 50)))\n",
    "        self.CNN = torch.nn.Sequential(\n",
    "            torch.nn.Conv1d(1, 10, 3),\n",
    "            torch.nn.MaxPool1d(2),\n",
    "            torch.nn.Conv1d(10, 20, 3),\n",
    "            torch.nn.MaxPool1d(2),\n",
    "            torch.nn.Flatten(),\n",
    "            torch.nn.LazyLinear(128),\n",
    "            torch.nn.ReLU(),\n",
    "            torch.nn.Linear(128, 16),\n",
    "        )\n",
    "        self.ptrans = swyft.networks.ParameterTransform(\n",
    "            3, [(0,), (1,), (2,)], online_z_score=False\n",
    "        )\n",
    "        n_marginals, n_block_parameters = self.ptrans.marginal_block_shape\n",
    "        n_observation_features = 16\n",
    "        self.classifier = swyft.networks.MarginalClassifier(\n",
    "            n_marginals,\n",
    "            n_observation_features + n_block_parameters,\n",
    "            hidden_features=256,\n",
    "            dropout_probability = 0.1,\n",
    "            num_blocks=3,\n",
    "        )\n",
    "        \n",
    "    def forward(self, x, z):\n",
    "        # Digesting x\n",
    "        data = x['data']\n",
    "        #x = self.online_z_score(x)['img']\n",
    "        x = self.CNN(data.unsqueeze(1)).squeeze(1)\n",
    "        \n",
    "        # Digesting z\n",
    "        z = self.ptrans(z['z'])\n",
    "        \n",
    "        # Combine!\n",
    "        x, z = equalize_tensors(x, z)\n",
    "        ratios = self.classifier(x, z)\n",
    "        w = RatioSamples(z.squeeze(-1), ratios)\n",
    "        return dict(z=w)"
   ]
  },
  {
   "cell_type": "code",
   "execution_count": 347,
   "id": "a6e3132e-f3a9-442f-a80b-9f8fc85a52a8",
   "metadata": {},
   "outputs": [],
   "source": [
    "class InferenceNet2(SwyftModule):\n",
    "    def __init__(self):\n",
    "        super().__init__()\n",
    "        #self.online_z_score = swyft.networks.OnlineDictStandardizingLayer(dict(img = (50, 50)))\n",
    "        self.l = nn.LazyLinear(20)\n",
    "        self.ptrans = swyft.networks.ParameterTransform(\n",
    "            3, [(0,), (1,), (2,)], online_z_score=False\n",
    "        )\n",
    "        n_marginals, n_block_parameters = self.ptrans.marginal_block_shape\n",
    "        n_observation_features = 20\n",
    "        self.classifier = swyft.networks.MarginalClassifier(\n",
    "            n_marginals,\n",
    "            n_observation_features + n_block_parameters,\n",
    "            hidden_features=256,\n",
    "            dropout_probability = 0.5,\n",
    "            num_blocks=2,\n",
    "        )\n",
    "        \n",
    "    def forward(self, x, z):\n",
    "        # Digesting x\n",
    "        data = x['data']\n",
    "        #x = self.online_z_score(x)['img']\n",
    "        #data = torch.cat([torch.fft.rfft(data).real, torch.fft.rfft(data).imag], dim =-1)\n",
    "        data = trans(data)\n",
    "        x = self.l(data)\n",
    "        \n",
    "        # Digesting z\n",
    "        z = self.ptrans(z['z'])\n",
    "        \n",
    "        # Combine!\n",
    "        x, z = equalize_tensors(x, z)\n",
    "        ratios = self.classifier(x, z)\n",
    "        #self.log(\"metric123\", ratios.sum(), prog_bar = True)\n",
    "        w = RatioSamples(z.squeeze(-1), ratios)\n",
    "        return dict(z=w)"
   ]
  },
  {
   "cell_type": "markdown",
   "id": "39dac473-98a3-481e-b9af-b8d30157fda2",
   "metadata": {},
   "source": [
    "## Workflow"
   ]
  },
  {
   "cell_type": "code",
   "execution_count": 348,
   "id": "e99a417e-d5e6-42a6-af6f-2cf957069b46",
   "metadata": {},
   "outputs": [],
   "source": [
    "def trans(d):\n",
    "    C = 5\n",
    "    return torch.cat([torch.fft.rfft(d).real[..., :C], torch.fft.rfft(d).imag[..., :C]], dim =-1)/1000"
   ]
  },
  {
   "cell_type": "code",
   "execution_count": 349,
   "id": "9081dfa2-5597-4273-a1e9-100ff6d71fea",
   "metadata": {},
   "outputs": [
    {
     "name": "stderr",
     "output_type": "stream",
     "text": [
      "\n",
      "\n",
      "100%|██████████| 1/1 [00:00<00:00, 410.24it/s]\n",
      "\n",
      "\n",
      "100%|██████████| 1/1 [00:00<00:00, 2634.61it/s]\n"
     ]
    },
    {
     "data": {
      "text/plain": [
       "[<matplotlib.lines.Line2D at 0x14c16b3358b0>]"
      ]
     },
     "execution_count": 349,
     "metadata": {},
     "output_type": "execute_result"
    },
    {
     "data": {
      "image/png": "[encoded data removed]",
      "text/plain": [
       "<Figure size 432x288 with 1 Axes>"
      ]
     },
     "metadata": {
      "needs_background": "light"
     },
     "output_type": "display_data"
    }
   ],
   "source": [
    "m = Model()\n",
    "s0 = m.sample(1)[0]\n",
    "plt.plot(s0['data'])\n",
    "plt.plot(s0['mu'])\n",
    "#plt.plot(s0['data'])\n",
    "#d = trans(d)\n",
    "#plt.plot(d)"
   ]
  },
  {
   "cell_type": "code",
   "execution_count": 350,
   "id": "55c467bb-aef7-43b8-91bb-52c1cbb8c54f",
   "metadata": {},
   "outputs": [
    {
     "data": {
      "text/plain": [
       "[<matplotlib.lines.Line2D at 0x14c16b214be0>]"
      ]
     },
     "execution_count": 350,
     "metadata": {},
     "output_type": "execute_result"
    },
    {
     "data": {
      "image/png": "[encoded data removed]",
      "text/plain": [
       "<Figure size 432x288 with 1 Axes>"
      ]
     },
     "metadata": {
      "needs_background": "light"
     },
     "output_type": "display_data"
    }
   ],
   "source": [
    "plt.plot(trans(s0['data']))"
   ]
  },
  {
   "cell_type": "code",
   "execution_count": 378,
   "id": "79f6c83d-0eb2-4b58-b0e8-a12449ebb2ca",
   "metadata": {},
   "outputs": [
    {
     "name": "stderr",
     "output_type": "stream",
     "text": [
      "GPU available: True, used: True\n",
      "TPU available: False, using: 0 TPU cores\n",
      "IPU available: False, using: 0 IPUs\n",
      "LOCAL_RANK: 0 - CUDA_VISIBLE_DEVICES: [0]\n",
      "\n",
      "  | Name       | Type               | Params\n",
      "--------------------------------------------------\n",
      "0 | l          | LazyLinear         | 0     \n",
      "1 | ptrans     | ParameterTransform | 0     \n",
      "2 | classifier | MarginalClassifier | 813 K \n",
      "--------------------------------------------------\n",
      "813 K     Trainable params\n",
      "0         Non-trainable params\n",
      "813 K     Total params\n",
      "3.253     Total estimated model params size (MB)\n"
     ]
    },
    {
     "data": {
      "application/vnd.jupyter.widget-view+json": {
       "model_id": "",
       "version_major": 2,
       "version_minor": 0
      },
      "text/plain": [
       "Validation sanity check: 0it [00:00, ?it/s]"
      ]
     },
     "metadata": {},
     "output_type": "display_data"
    },
    {
     "data": {
      "application/vnd.jupyter.widget-view+json": {
       "model_id": "ec663471d4da43e284a39721ebde5918",
       "version_major": 2,
       "version_minor": 0
      },
      "text/plain": [
       "Training: 0it [00:00, ?it/s]"
      ]
     },
     "metadata": {},
     "output_type": "display_data"
    },
    {
     "data": {
      "application/vnd.jupyter.widget-view+json": {
       "model_id": "",
       "version_major": 2,
       "version_minor": 0
      },
      "text/plain": [
       "Validating: 0it [00:00, ?it/s]"
      ]
     },
     "metadata": {},
     "output_type": "display_data"
    },
    {
     "data": {
      "application/vnd.jupyter.widget-view+json": {
       "model_id": "",
       "version_major": 2,
       "version_minor": 0
      },
      "text/plain": [
       "Validating: 0it [00:00, ?it/s]"
      ]
     },
     "metadata": {},
     "output_type": "display_data"
    },
    {
     "data": {
      "application/vnd.jupyter.widget-view+json": {
       "model_id": "",
       "version_major": 2,
       "version_minor": 0
      },
      "text/plain": [
       "Validating: 0it [00:00, ?it/s]"
      ]
     },
     "metadata": {},
     "output_type": "display_data"
    },
    {
     "data": {
      "application/vnd.jupyter.widget-view+json": {
       "model_id": "",
       "version_major": 2,
       "version_minor": 0
      },
      "text/plain": [
       "Validating: 0it [00:00, ?it/s]"
      ]
     },
     "metadata": {},
     "output_type": "display_data"
    },
    {
     "data": {
      "application/vnd.jupyter.widget-view+json": {
       "model_id": "",
       "version_major": 2,
       "version_minor": 0
      },
      "text/plain": [
       "Validating: 0it [00:00, ?it/s]"
      ]
     },
     "metadata": {},
     "output_type": "display_data"
    },
    {
     "data": {
      "application/vnd.jupyter.widget-view+json": {
       "model_id": "",
       "version_major": 2,
       "version_minor": 0
      },
      "text/plain": [
       "Validating: 0it [00:00, ?it/s]"
      ]
     },
     "metadata": {},
     "output_type": "display_data"
    },
    {
     "data": {
      "application/vnd.jupyter.widget-view+json": {
       "model_id": "",
       "version_major": 2,
       "version_minor": 0
      },
      "text/plain": [
       "Validating: 0it [00:00, ?it/s]"
      ]
     },
     "metadata": {},
     "output_type": "display_data"
    },
    {
     "data": {
      "application/vnd.jupyter.widget-view+json": {
       "model_id": "",
       "version_major": 2,
       "version_minor": 0
      },
      "text/plain": [
       "Validating: 0it [00:00, ?it/s]"
      ]
     },
     "metadata": {},
     "output_type": "display_data"
    },
    {
     "data": {
      "application/vnd.jupyter.widget-view+json": {
       "model_id": "",
       "version_major": 2,
       "version_minor": 0
      },
      "text/plain": [
       "Validating: 0it [00:00, ?it/s]"
      ]
     },
     "metadata": {},
     "output_type": "display_data"
    },
    {
     "data": {
      "application/vnd.jupyter.widget-view+json": {
       "model_id": "",
       "version_major": 2,
       "version_minor": 0
      },
      "text/plain": [
       "Validating: 0it [00:00, ?it/s]"
      ]
     },
     "metadata": {},
     "output_type": "display_data"
    },
    {
     "data": {
      "application/vnd.jupyter.widget-view+json": {
       "model_id": "",
       "version_major": 2,
       "version_minor": 0
      },
      "text/plain": [
       "Validating: 0it [00:00, ?it/s]"
      ]
     },
     "metadata": {},
     "output_type": "display_data"
    },
    {
     "data": {
      "application/vnd.jupyter.widget-view+json": {
       "model_id": "",
       "version_major": 2,
       "version_minor": 0
      },
      "text/plain": [
       "Validating: 0it [00:00, ?it/s]"
      ]
     },
     "metadata": {},
     "output_type": "display_data"
    },
    {
     "data": {
      "application/vnd.jupyter.widget-view+json": {
       "model_id": "",
       "version_major": 2,
       "version_minor": 0
      },
      "text/plain": [
       "Validating: 0it [00:00, ?it/s]"
      ]
     },
     "metadata": {},
     "output_type": "display_data"
    },
    {
     "data": {
      "application/vnd.jupyter.widget-view+json": {
       "model_id": "",
       "version_major": 2,
       "version_minor": 0
      },
      "text/plain": [
       "Validating: 0it [00:00, ?it/s]"
      ]
     },
     "metadata": {},
     "output_type": "display_data"
    },
    {
     "data": {
      "application/vnd.jupyter.widget-view+json": {
       "model_id": "",
       "version_major": 2,
       "version_minor": 0
      },
      "text/plain": [
       "Validating: 0it [00:00, ?it/s]"
      ]
     },
     "metadata": {},
     "output_type": "display_data"
    },
    {
     "data": {
      "application/vnd.jupyter.widget-view+json": {
       "model_id": "",
       "version_major": 2,
       "version_minor": 0
      },
      "text/plain": [
       "Validating: 0it [00:00, ?it/s]"
      ]
     },
     "metadata": {},
     "output_type": "display_data"
    },
    {
     "data": {
      "application/vnd.jupyter.widget-view+json": {
       "model_id": "",
       "version_major": 2,
       "version_minor": 0
      },
      "text/plain": [
       "Validating: 0it [00:00, ?it/s]"
      ]
     },
     "metadata": {},
     "output_type": "display_data"
    },
    {
     "data": {
      "application/vnd.jupyter.widget-view+json": {
       "model_id": "",
       "version_major": 2,
       "version_minor": 0
      },
      "text/plain": [
       "Validating: 0it [00:00, ?it/s]"
      ]
     },
     "metadata": {},
     "output_type": "display_data"
    },
    {
     "data": {
      "application/vnd.jupyter.widget-view+json": {
       "model_id": "",
       "version_major": 2,
       "version_minor": 0
      },
      "text/plain": [
       "Validating: 0it [00:00, ?it/s]"
      ]
     },
     "metadata": {},
     "output_type": "display_data"
    },
    {
     "data": {
      "application/vnd.jupyter.widget-view+json": {
       "model_id": "",
       "version_major": 2,
       "version_minor": 0
      },
      "text/plain": [
       "Validating: 0it [00:00, ?it/s]"
      ]
     },
     "metadata": {},
     "output_type": "display_data"
    },
    {
     "data": {
      "application/vnd.jupyter.widget-view+json": {
       "model_id": "",
       "version_major": 2,
       "version_minor": 0
      },
      "text/plain": [
       "Validating: 0it [00:00, ?it/s]"
      ]
     },
     "metadata": {},
     "output_type": "display_data"
    },
    {
     "data": {
      "application/vnd.jupyter.widget-view+json": {
       "model_id": "",
       "version_major": 2,
       "version_minor": 0
      },
      "text/plain": [
       "Validating: 0it [00:00, ?it/s]"
      ]
     },
     "metadata": {},
     "output_type": "display_data"
    },
    {
     "data": {
      "application/vnd.jupyter.widget-view+json": {
       "model_id": "",
       "version_major": 2,
       "version_minor": 0
      },
      "text/plain": [
       "Validating: 0it [00:00, ?it/s]"
      ]
     },
     "metadata": {},
     "output_type": "display_data"
    },
    {
     "data": {
      "application/vnd.jupyter.widget-view+json": {
       "model_id": "",
       "version_major": 2,
       "version_minor": 0
      },
      "text/plain": [
       "Validating: 0it [00:00, ?it/s]"
      ]
     },
     "metadata": {},
     "output_type": "display_data"
    },
    {
     "data": {
      "application/vnd.jupyter.widget-view+json": {
       "model_id": "",
       "version_major": 2,
       "version_minor": 0
      },
      "text/plain": [
       "Validating: 0it [00:00, ?it/s]"
      ]
     },
     "metadata": {},
     "output_type": "display_data"
    },
    {
     "data": {
      "application/vnd.jupyter.widget-view+json": {
       "model_id": "",
       "version_major": 2,
       "version_minor": 0
      },
      "text/plain": [
       "Validating: 0it [00:00, ?it/s]"
      ]
     },
     "metadata": {},
     "output_type": "display_data"
    },
    {
     "data": {
      "application/vnd.jupyter.widget-view+json": {
       "model_id": "",
       "version_major": 2,
       "version_minor": 0
      },
      "text/plain": [
       "Validating: 0it [00:00, ?it/s]"
      ]
     },
     "metadata": {},
     "output_type": "display_data"
    },
    {
     "data": {
      "application/vnd.jupyter.widget-view+json": {
       "model_id": "",
       "version_major": 2,
       "version_minor": 0
      },
      "text/plain": [
       "Validating: 0it [00:00, ?it/s]"
      ]
     },
     "metadata": {},
     "output_type": "display_data"
    },
    {
     "data": {
      "application/vnd.jupyter.widget-view+json": {
       "model_id": "",
       "version_major": 2,
       "version_minor": 0
      },
      "text/plain": [
       "Validating: 0it [00:00, ?it/s]"
      ]
     },
     "metadata": {},
     "output_type": "display_data"
    },
    {
     "data": {
      "application/vnd.jupyter.widget-view+json": {
       "model_id": "",
       "version_major": 2,
       "version_minor": 0
      },
      "text/plain": [
       "Validating: 0it [00:00, ?it/s]"
      ]
     },
     "metadata": {},
     "output_type": "display_data"
    },
    {
     "data": {
      "application/vnd.jupyter.widget-view+json": {
       "model_id": "",
       "version_major": 2,
       "version_minor": 0
      },
      "text/plain": [
       "Validating: 0it [00:00, ?it/s]"
      ]
     },
     "metadata": {},
     "output_type": "display_data"
    },
    {
     "data": {
      "application/vnd.jupyter.widget-view+json": {
       "model_id": "",
       "version_major": 2,
       "version_minor": 0
      },
      "text/plain": [
       "Validating: 0it [00:00, ?it/s]"
      ]
     },
     "metadata": {},
     "output_type": "display_data"
    },
    {
     "data": {
      "application/vnd.jupyter.widget-view+json": {
       "model_id": "",
       "version_major": 2,
       "version_minor": 0
      },
      "text/plain": [
       "Validating: 0it [00:00, ?it/s]"
      ]
     },
     "metadata": {},
     "output_type": "display_data"
    },
    {
     "data": {
      "application/vnd.jupyter.widget-view+json": {
       "model_id": "",
       "version_major": 2,
       "version_minor": 0
      },
      "text/plain": [
       "Validating: 0it [00:00, ?it/s]"
      ]
     },
     "metadata": {},
     "output_type": "display_data"
    },
    {
     "data": {
      "application/vnd.jupyter.widget-view+json": {
       "model_id": "",
       "version_major": 2,
       "version_minor": 0
      },
      "text/plain": [
       "Validating: 0it [00:00, ?it/s]"
      ]
     },
     "metadata": {},
     "output_type": "display_data"
    },
    {
     "data": {
      "application/vnd.jupyter.widget-view+json": {
       "model_id": "",
       "version_major": 2,
       "version_minor": 0
      },
      "text/plain": [
       "Validating: 0it [00:00, ?it/s]"
      ]
     },
     "metadata": {},
     "output_type": "display_data"
    },
    {
     "data": {
      "application/vnd.jupyter.widget-view+json": {
       "model_id": "",
       "version_major": 2,
       "version_minor": 0
      },
      "text/plain": [
       "Validating: 0it [00:00, ?it/s]"
      ]
     },
     "metadata": {},
     "output_type": "display_data"
    },
    {
     "data": {
      "application/vnd.jupyter.widget-view+json": {
       "model_id": "",
       "version_major": 2,
       "version_minor": 0
      },
      "text/plain": [
       "Validating: 0it [00:00, ?it/s]"
      ]
     },
     "metadata": {},
     "output_type": "display_data"
    },
    {
     "data": {
      "application/vnd.jupyter.widget-view+json": {
       "model_id": "",
       "version_major": 2,
       "version_minor": 0
      },
      "text/plain": [
       "Validating: 0it [00:00, ?it/s]"
      ]
     },
     "metadata": {},
     "output_type": "display_data"
    },
    {
     "data": {
      "application/vnd.jupyter.widget-view+json": {
       "model_id": "",
       "version_major": 2,
       "version_minor": 0
      },
      "text/plain": [
       "Validating: 0it [00:00, ?it/s]"
      ]
     },
     "metadata": {},
     "output_type": "display_data"
    },
    {
     "name": "stderr",
     "output_type": "stream",
     "text": [
      "LOCAL_RANK: 0 - CUDA_VISIBLE_DEVICES: [0]\n"
     ]
    },
    {
     "data": {
      "application/vnd.jupyter.widget-view+json": {
       "model_id": "12fe86eb6011482f9ef7b59fd8ba78c9",
       "version_major": 2,
       "version_minor": 0
      },
      "text/plain": [
       "Predicting: 63it [00:00, ?it/s]"
      ]
     },
     "metadata": {},
     "output_type": "display_data"
    }
   ],
   "source": [
    "b = None\n",
    "m = Model()\n",
    "for i in range(1):\n",
    "    r = InferenceNet2()\n",
    "    #s = m.sample(10000, bounds = b)\n",
    "    d = SwyftDataModule(s, model = None, batch_size = 128, train_multiply = 3)\n",
    "    t = SwyftTrainer(accelerator = 'gpu', gpus=1, max_epochs = 40)\n",
    "    t.fit(r, d)\n",
    "    p = t.infer(r, d, condition_x = s0)   # Weighted posterior samples\n",
    "    b = get_1d_rect_bounds(p, th = 1e-7)"
   ]
  },
  {
   "cell_type": "code",
   "execution_count": 379,
   "id": "dd92f72a-6b68-4d73-a449-7d6b830d05e3",
   "metadata": {},
   "outputs": [
    {
     "name": "stderr",
     "output_type": "stream",
     "text": [
      "LOCAL_RANK: 0 - CUDA_VISIBLE_DEVICES: [0]\n"
     ]
    },
    {
     "data": {
      "application/vnd.jupyter.widget-view+json": {
       "model_id": "75c07ef5957f48648d77d71356dd11ca",
       "version_major": 2,
       "version_minor": 0
      },
      "text/plain": [
       "Testing: 0it [00:00, ?it/s]"
      ]
     },
     "metadata": {},
     "output_type": "display_data"
    },
    {
     "name": "stdout",
     "output_type": "stream",
     "text": [
      "--------------------------------------------------------------------------------\n",
      "DATALOADER:0 TEST RESULTS\n",
      "{'test_loss': 1.1665207147598267}\n",
      "--------------------------------------------------------------------------------\n"
     ]
    },
    {
     "data": {
      "text/plain": [
       "[{'test_loss': 1.1665207147598267}]"
      ]
     },
     "execution_count": 379,
     "metadata": {},
     "output_type": "execute_result"
    }
   ],
   "source": [
    "t.test(r, d)"
   ]
  },
  {
   "cell_type": "code",
   "execution_count": 377,
   "id": "b2264fae-271a-41ac-b40b-75d1a45f6100",
   "metadata": {},
   "outputs": [
    {
     "name": "stderr",
     "output_type": "stream",
     "text": [
      "LOCAL_RANK: 0 - CUDA_VISIBLE_DEVICES: [0]\n"
     ]
    },
    {
     "data": {
      "application/vnd.jupyter.widget-view+json": {
       "model_id": "693da8ac6056401283c51b0677f88147",
       "version_major": 2,
       "version_minor": 0
      },
      "text/plain": [
       "Testing: 0it [00:00, ?it/s]"
      ]
     },
     "metadata": {},
     "output_type": "display_data"
    },
    {
     "name": "stdout",
     "output_type": "stream",
     "text": [
      "--------------------------------------------------------------------------------\n",
      "DATALOADER:0 TEST RESULTS\n",
      "{'test_loss': 1.269152045249939}\n",
      "--------------------------------------------------------------------------------\n"
     ]
    },
    {
     "data": {
      "text/plain": [
       "[{'test_loss': 1.269152045249939}]"
      ]
     },
     "execution_count": 377,
     "metadata": {},
     "output_type": "execute_result"
    }
   ],
   "source": [
    "t.test(r, d)"
   ]
  },
  {
   "cell_type": "code",
   "execution_count": 375,
   "id": "0b46888a-f502-4650-8471-0b3fe1905ac7",
   "metadata": {},
   "outputs": [
    {
     "name": "stderr",
     "output_type": "stream",
     "text": [
      "LOCAL_RANK: 0 - CUDA_VISIBLE_DEVICES: [0]\n"
     ]
    },
    {
     "data": {
      "application/vnd.jupyter.widget-view+json": {
       "model_id": "c0e66f9a27c24e73b6c1675039af7d08",
       "version_major": 2,
       "version_minor": 0
      },
      "text/plain": [
       "Testing: 0it [00:00, ?it/s]"
      ]
     },
     "metadata": {},
     "output_type": "display_data"
    },
    {
     "name": "stdout",
     "output_type": "stream",
     "text": [
      "--------------------------------------------------------------------------------\n",
      "DATALOADER:0 TEST RESULTS\n",
      "{'test_loss': 1.1194003820419312}\n",
      "--------------------------------------------------------------------------------\n"
     ]
    },
    {
     "data": {
      "text/plain": [
       "[{'test_loss': 1.1194003820419312}]"
      ]
     },
     "execution_count": 375,
     "metadata": {},
     "output_type": "execute_result"
    }
   ],
   "source": [
    "t.test(r, d)"
   ]
  },
  {
   "cell_type": "code",
   "execution_count": 366,
   "id": "33548470-72ec-46f4-9866-6c5bb1c583c6",
   "metadata": {},
   "outputs": [
    {
     "data": {
      "text/plain": [
       "10000"
      ]
     },
     "execution_count": 366,
     "metadata": {},
     "output_type": "execute_result"
    }
   ],
   "source": [
    "z = p['z'].sample(10000, replacement = True)\n",
    "len(z)"
   ]
  },
  {
   "cell_type": "code",
   "execution_count": 263,
   "id": "2238fedd-25b7-43f8-baa4-6cdfeb85baed",
   "metadata": {},
   "outputs": [
    {
     "data": {
      "text/plain": [
       "({'data': tensor([-0.1917,  1.8959,  0.7405,  ..., -0.2712, -1.6125,  0.2031]),\n",
       "  'z': tensor([-0.3681, -0.7495,  0.9068]),\n",
       "  'mu': tensor([ 1.2883,  1.2877,  1.2872,  ..., -0.2112, -0.2110, -0.2108])},\n",
       " {'data': tensor([-0.1917,  1.8959,  0.7405,  ..., -0.2712, -1.6125,  0.2031]),\n",
       "  'z': tensor([-0.3681, -0.7495,  0.9068]),\n",
       "  'mu': tensor([ 1.2883,  1.2877,  1.2872,  ..., -0.2112, -0.2110, -0.2108])})"
      ]
     },
     "execution_count": 263,
     "metadata": {},
     "output_type": "execute_result"
    }
   ],
   "source": [
    "d.dataset_train[0]"
   ]
  },
  {
   "cell_type": "code",
   "execution_count": 83,
   "id": "a61cd796-368f-4901-ac6a-1f5eeac857f2",
   "metadata": {},
   "outputs": [
    {
     "data": {
      "text/plain": [
       "(-1.0, 1.0)"
      ]
     },
     "execution_count": 83,
     "metadata": {},
     "output_type": "execute_result"
    },
    {
     "data": {
      "image/png": "[encoded data removed]",
      "text/plain": [
       "<Figure size 432x288 with 1 Axes>"
      ]
     },
     "metadata": {
      "needs_background": "light"
     },
     "output_type": "display_data"
    }
   ],
   "source": [
    "plt.hist(z[:,0].numpy(), bins = 20, density=True);\n",
    "plt.hist(z[:,1].numpy(), bins = 20, density = True);\n",
    "plt.hist(z[:,2].numpy(), bins = 20, density = True);\n",
    "plt.xlim(-1, 1)"
   ]
  },
  {
   "cell_type": "code",
   "execution_count": null,
   "id": "95e88e40-4b6d-4dce-a499-a69a560e245a",
   "metadata": {},
   "outputs": [],
   "source": []
  }
 ],
 "metadata": {
  "kernelspec": {
   "display_name": "p38",
   "language": "python",
   "name": "p38"
  },
  "language_info": {
   "codemirror_mode": {
    "name": "ipython",
    "version": 3
   },
   "file_extension": ".py",
   "mimetype": "text/x-python",
   "name": "python",
   "nbconvert_exporter": "python",
   "pygments_lexer": "ipython3",
   "version": "3.8.2"
  }
 },
 "nbformat": 4,
 "nbformat_minor": 5
}
