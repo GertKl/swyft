{
 "cells": [
  {
   "cell_type": "code",
   "execution_count": 1,
   "id": "3822aac4-d5eb-4979-b237-70c80d2489e8",
   "metadata": {},
   "outputs": [],
   "source": [
    "# Makes it easier to debug\n",
    "%load_ext autoreload\n",
    "#%load_ext line_profiler\n",
    "%autoreload 2"
   ]
  },
  {
   "cell_type": "code",
   "execution_count": 108,
   "id": "0297c907",
   "metadata": {},
   "outputs": [],
   "source": [
    "import pylab as plt\n",
    "import numpy as np\n",
    "import torch\n",
    "import torch.nn as nn\n",
    "import typing as tp\n",
    "from torch.nn import functional as F\n",
    "\n",
    "import swyft\n",
    "from swyft.lightning.components import (\n",
    "    RatioEstimatorGaussian1d, MeanStd, SimpleDataset, subsample_posterior,\n",
    "    get_1d_rect_bounds, append_randomized, valmap, SwyftModel, persist_to_file, \n",
    "    equalize_tensors, SwyftTrainer, SampleStore, dictstoremap, DictDataset, SwyftModule, SwyftDataModule, RatioSamples,\n",
    "    RatioSampleStore, RatioEstimatorMLP1d\n",
    ")"
   ]
  },
  {
   "cell_type": "code",
   "execution_count": 208,
   "id": "27daa2f7-d569-4886-a5fb-28c8f2426950",
   "metadata": {},
   "outputs": [
    {
     "name": "stderr",
     "output_type": "stream",
     "text": [
      "\n",
      "100%|██████████| 1/1 [00:00<00:00, 666.61it/s]\n",
      "\n",
      "100%|██████████| 1/1 [00:00<00:00, 1048.31it/s]"
     ]
    },
    {
     "name": "stdout",
     "output_type": "stream",
     "text": [
      "tensor([-0.9820,  0.8036,  0.4418])\n"
     ]
    },
    {
     "name": "stderr",
     "output_type": "stream",
     "text": [
      "\n"
     ]
    },
    {
     "data": {
      "image/png": "[encoded data removed]",
      "text/plain": [
       "<Figure size 432x288 with 1 Axes>"
      ]
     },
     "metadata": {
      "needs_background": "light"
     },
     "output_type": "display_data"
    }
   ],
   "source": [
    "class Model(SwyftModel):\n",
    "    def fast(self, S):\n",
    "        d = S['mu'] + torch.randn_like(S['mu'])*0.1\n",
    "        return SampleStore(data = d)\n",
    "        \n",
    "    def slow(self, S):\n",
    "        a, b, c = S['z']\n",
    "        x = np.linspace(-1, 1, 10000)\n",
    "        mu = a+b*x + c*x**2\n",
    "        return SampleStore(mu=mu.float())\n",
    "\n",
    "    def prior(self, N, bounds = None):\n",
    "        low = -np.ones(3)\n",
    "        high = np.ones(3)\n",
    "        if bounds is not None:\n",
    "            low, high = bounds['z'].low, bounds['z'].high\n",
    "        draw = np.array([np.random.uniform(low=low, high=high) for _ in range(N)])\n",
    "        return SampleStore(z = torch.tensor(draw).float())\n",
    "    \n",
    "m = Model()\n",
    "s0 = m.sample(1)[0]\n",
    "plt.plot(s0['data'])\n",
    "plt.plot(s0['mu'])\n",
    "print(s0['z'])\n",
    "b = None"
   ]
  },
  {
   "cell_type": "code",
   "execution_count": 244,
   "id": "e0afb416-08aa-4499-8914-2b321d905f90",
   "metadata": {},
   "outputs": [],
   "source": [
    "class InferenceNet(SwyftModule):\n",
    "    def __init__(self):\n",
    "        super().__init__()\n",
    "        #self.online_z_score = swyft.networks.OnlineDictStandardizingLayer(dict(img = (50, 50)))\n",
    "        self.CNN = torch.nn.Sequential(\n",
    "            torch.nn.Conv1d(1, 5, 10),\n",
    "            torch.nn.MaxPool1d(4),\n",
    "            torch.nn.Conv1d(5, 15, 10),\n",
    "            torch.nn.MaxPool1d(4),\n",
    "            torch.nn.Flatten(),\n",
    "            torch.nn.LazyLinear(128),\n",
    "            torch.nn.ReLU(),\n",
    "            torch.nn.Linear(128, 16),\n",
    "        )\n",
    "        self.classifier = RatioEstimatorMLP1d(16, 3, hidden_features = 256)\n",
    "\n",
    "    def forward(self, x, z):\n",
    "        # Digesting x\n",
    "        data = x['data']\n",
    "        #x = self.online_z_score(x)['img']\n",
    "        x = self.CNN(data.unsqueeze(1)).squeeze(1)\n",
    "        \n",
    "        out = self.classifier(x, z['z'])\n",
    "        return dict(z = out)"
   ]
  },
  {
   "cell_type": "markdown",
   "id": "39dac473-98a3-481e-b9af-b8d30157fda2",
   "metadata": {},
   "source": [
    "## Workflow"
   ]
  },
  {
   "cell_type": "code",
   "execution_count": 245,
   "id": "ae869371-5e0c-4433-a183-776ae7d8fb1b",
   "metadata": {},
   "outputs": [
    {
     "name": "stderr",
     "output_type": "stream",
     "text": [
      "\n",
      "  0%|          | 0/1000 [00:00<?, ?it/s]\u001b[A\n",
      " 36%|███▌      | 358/1000 [00:00<00:00, 3576.21it/s]\u001b[A\n",
      "100%|██████████| 1000/1000 [00:00<00:00, 3607.10it/s][A\n",
      "\n",
      "100%|██████████| 1000/1000 [00:00<00:00, 11124.24it/s]\n"
     ]
    }
   ],
   "source": [
    "m = Model()\n",
    "s = m.sample(1000, bounds = b)"
   ]
  },
  {
   "cell_type": "code",
   "execution_count": 246,
   "id": "44a2b692-309f-4f11-ad02-ecf32b68b019",
   "metadata": {},
   "outputs": [
    {
     "data": {
      "text/plain": [
       "{'data': tensor([-1.4379, -1.6781, -1.5185,  ...,  0.0115,  0.1354,  0.2451]),\n",
       " 'z': tensor([-0.7551,  0.8551, -0.0078]),\n",
       " 'mu': tensor([-1.6180, -1.6178, -1.6176,  ...,  0.0919,  0.0921,  0.0923])}"
      ]
     },
     "execution_count": 246,
     "metadata": {},
     "output_type": "execute_result"
    }
   ],
   "source": [
    "# Access of individual samples\n",
    "s[0]"
   ]
  },
  {
   "cell_type": "code",
   "execution_count": 247,
   "id": "d3086984-1ea4-4b3f-a0e2-32c81bd4c418",
   "metadata": {},
   "outputs": [
    {
     "data": {
      "text/plain": [
       "tensor([[-0.7551,  0.8551, -0.0078],\n",
       "        [-0.8595,  0.4026, -0.1552],\n",
       "        [-0.6177,  0.8835, -0.0712],\n",
       "        ...,\n",
       "        [-0.9150,  0.5337,  0.1761],\n",
       "        [-0.9008,  0.8445,  0.0487],\n",
       "        [-0.6385,  0.5998,  0.1733]])"
      ]
     },
     "execution_count": 247,
     "metadata": {},
     "output_type": "execute_result"
    }
   ],
   "source": [
    "# Access of all samples with specific key\n",
    "s['z']"
   ]
  },
  {
   "cell_type": "code",
   "execution_count": 248,
   "id": "84ece37c-7715-4079-bc73-31164104fcdb",
   "metadata": {},
   "outputs": [],
   "source": [
    "r = InferenceNet()\n",
    "d = SwyftDataModule(s, model = m, batch_size = 64)"
   ]
  },
  {
   "cell_type": "code",
   "execution_count": 249,
   "id": "4f1b9d9d-ef04-42c7-86d7-439dc6f6fb28",
   "metadata": {},
   "outputs": [
    {
     "name": "stderr",
     "output_type": "stream",
     "text": [
      "GPU available: True, used: True\n",
      "TPU available: False, using: 0 TPU cores\n",
      "IPU available: False, using: 0 IPUs\n",
      "LOCAL_RANK: 0 - CUDA_VISIBLE_DEVICES: [0]\n",
      "\n",
      "  | Name       | Type                | Params\n",
      "---------------------------------------------------\n",
      "0 | CNN        | Sequential          | 2.9 K \n",
      "1 | classifier | RatioEstimatorMLP1d | 810 K \n",
      "---------------------------------------------------\n",
      "813 K     Trainable params\n",
      "0         Non-trainable params\n",
      "813 K     Total params\n",
      "3.253     Total estimated model params size (MB)\n"
     ]
    },
    {
     "data": {
      "application/vnd.jupyter.widget-view+json": {
       "model_id": "",
       "version_major": 2,
       "version_minor": 0
      },
      "text/plain": [
       "Validation sanity check: 0it [00:00, ?it/s]"
      ]
     },
     "metadata": {},
     "output_type": "display_data"
    },
    {
     "data": {
      "application/vnd.jupyter.widget-view+json": {
       "model_id": "273785dcec754160acb4125e24381e13",
       "version_major": 2,
       "version_minor": 0
      },
      "text/plain": [
       "Training: 0it [00:00, ?it/s]"
      ]
     },
     "metadata": {},
     "output_type": "display_data"
    },
    {
     "data": {
      "application/vnd.jupyter.widget-view+json": {
       "model_id": "",
       "version_major": 2,
       "version_minor": 0
      },
      "text/plain": [
       "Validating: 0it [00:00, ?it/s]"
      ]
     },
     "metadata": {},
     "output_type": "display_data"
    },
    {
     "data": {
      "application/vnd.jupyter.widget-view+json": {
       "model_id": "",
       "version_major": 2,
       "version_minor": 0
      },
      "text/plain": [
       "Validating: 0it [00:00, ?it/s]"
      ]
     },
     "metadata": {},
     "output_type": "display_data"
    },
    {
     "data": {
      "application/vnd.jupyter.widget-view+json": {
       "model_id": "",
       "version_major": 2,
       "version_minor": 0
      },
      "text/plain": [
       "Validating: 0it [00:00, ?it/s]"
      ]
     },
     "metadata": {},
     "output_type": "display_data"
    },
    {
     "data": {
      "application/vnd.jupyter.widget-view+json": {
       "model_id": "",
       "version_major": 2,
       "version_minor": 0
      },
      "text/plain": [
       "Validating: 0it [00:00, ?it/s]"
      ]
     },
     "metadata": {},
     "output_type": "display_data"
    },
    {
     "data": {
      "application/vnd.jupyter.widget-view+json": {
       "model_id": "",
       "version_major": 2,
       "version_minor": 0
      },
      "text/plain": [
       "Validating: 0it [00:00, ?it/s]"
      ]
     },
     "metadata": {},
     "output_type": "display_data"
    },
    {
     "data": {
      "application/vnd.jupyter.widget-view+json": {
       "model_id": "",
       "version_major": 2,
       "version_minor": 0
      },
      "text/plain": [
       "Validating: 0it [00:00, ?it/s]"
      ]
     },
     "metadata": {},
     "output_type": "display_data"
    },
    {
     "data": {
      "application/vnd.jupyter.widget-view+json": {
       "model_id": "",
       "version_major": 2,
       "version_minor": 0
      },
      "text/plain": [
       "Validating: 0it [00:00, ?it/s]"
      ]
     },
     "metadata": {},
     "output_type": "display_data"
    },
    {
     "data": {
      "application/vnd.jupyter.widget-view+json": {
       "model_id": "",
       "version_major": 2,
       "version_minor": 0
      },
      "text/plain": [
       "Validating: 0it [00:00, ?it/s]"
      ]
     },
     "metadata": {},
     "output_type": "display_data"
    },
    {
     "data": {
      "application/vnd.jupyter.widget-view+json": {
       "model_id": "",
       "version_major": 2,
       "version_minor": 0
      },
      "text/plain": [
       "Validating: 0it [00:00, ?it/s]"
      ]
     },
     "metadata": {},
     "output_type": "display_data"
    },
    {
     "data": {
      "application/vnd.jupyter.widget-view+json": {
       "model_id": "",
       "version_major": 2,
       "version_minor": 0
      },
      "text/plain": [
       "Validating: 0it [00:00, ?it/s]"
      ]
     },
     "metadata": {},
     "output_type": "display_data"
    },
    {
     "data": {
      "application/vnd.jupyter.widget-view+json": {
       "model_id": "",
       "version_major": 2,
       "version_minor": 0
      },
      "text/plain": [
       "Validating: 0it [00:00, ?it/s]"
      ]
     },
     "metadata": {},
     "output_type": "display_data"
    },
    {
     "data": {
      "application/vnd.jupyter.widget-view+json": {
       "model_id": "",
       "version_major": 2,
       "version_minor": 0
      },
      "text/plain": [
       "Validating: 0it [00:00, ?it/s]"
      ]
     },
     "metadata": {},
     "output_type": "display_data"
    },
    {
     "data": {
      "application/vnd.jupyter.widget-view+json": {
       "model_id": "",
       "version_major": 2,
       "version_minor": 0
      },
      "text/plain": [
       "Validating: 0it [00:00, ?it/s]"
      ]
     },
     "metadata": {},
     "output_type": "display_data"
    },
    {
     "data": {
      "application/vnd.jupyter.widget-view+json": {
       "model_id": "",
       "version_major": 2,
       "version_minor": 0
      },
      "text/plain": [
       "Validating: 0it [00:00, ?it/s]"
      ]
     },
     "metadata": {},
     "output_type": "display_data"
    },
    {
     "data": {
      "application/vnd.jupyter.widget-view+json": {
       "model_id": "",
       "version_major": 2,
       "version_minor": 0
      },
      "text/plain": [
       "Validating: 0it [00:00, ?it/s]"
      ]
     },
     "metadata": {},
     "output_type": "display_data"
    },
    {
     "data": {
      "application/vnd.jupyter.widget-view+json": {
       "model_id": "",
       "version_major": 2,
       "version_minor": 0
      },
      "text/plain": [
       "Validating: 0it [00:00, ?it/s]"
      ]
     },
     "metadata": {},
     "output_type": "display_data"
    },
    {
     "data": {
      "application/vnd.jupyter.widget-view+json": {
       "model_id": "",
       "version_major": 2,
       "version_minor": 0
      },
      "text/plain": [
       "Validating: 0it [00:00, ?it/s]"
      ]
     },
     "metadata": {},
     "output_type": "display_data"
    },
    {
     "data": {
      "application/vnd.jupyter.widget-view+json": {
       "model_id": "",
       "version_major": 2,
       "version_minor": 0
      },
      "text/plain": [
       "Validating: 0it [00:00, ?it/s]"
      ]
     },
     "metadata": {},
     "output_type": "display_data"
    },
    {
     "data": {
      "application/vnd.jupyter.widget-view+json": {
       "model_id": "",
       "version_major": 2,
       "version_minor": 0
      },
      "text/plain": [
       "Validating: 0it [00:00, ?it/s]"
      ]
     },
     "metadata": {},
     "output_type": "display_data"
    },
    {
     "data": {
      "application/vnd.jupyter.widget-view+json": {
       "model_id": "",
       "version_major": 2,
       "version_minor": 0
      },
      "text/plain": [
       "Validating: 0it [00:00, ?it/s]"
      ]
     },
     "metadata": {},
     "output_type": "display_data"
    }
   ],
   "source": [
    "t = SwyftTrainer(accelerator = 'gpu', gpus=1, max_epochs = 20)\n",
    "t.fit(r, d)"
   ]
  },
  {
   "cell_type": "code",
   "execution_count": 250,
   "id": "78bd318d-4e38-4cf3-84a5-29009ddd5fad",
   "metadata": {},
   "outputs": [
    {
     "name": "stderr",
     "output_type": "stream",
     "text": [
      "LOCAL_RANK: 0 - CUDA_VISIBLE_DEVICES: [0]\n"
     ]
    },
    {
     "data": {
      "application/vnd.jupyter.widget-view+json": {
       "model_id": "99482b2d0eb2447994068355f46ba879",
       "version_major": 2,
       "version_minor": 0
      },
      "text/plain": [
       "Testing: 0it [00:00, ?it/s]"
      ]
     },
     "metadata": {},
     "output_type": "display_data"
    },
    {
     "name": "stdout",
     "output_type": "stream",
     "text": [
      "--------------------------------------------------------------------------------\n",
      "DATALOADER:0 TEST RESULTS\n",
      "{'hp/JS-div': 0.8884434700012207, 'hp/KL-div': -6.920271873474121}\n",
      "--------------------------------------------------------------------------------\n"
     ]
    },
    {
     "data": {
      "text/plain": [
       "[{'hp/JS-div': 0.8884434700012207, 'hp/KL-div': -6.920271873474121}]"
      ]
     },
     "execution_count": 250,
     "metadata": {},
     "output_type": "execute_result"
    }
   ],
   "source": [
    "t.test(r, d)"
   ]
  },
  {
   "cell_type": "code",
   "execution_count": 251,
   "id": "5caa6c98-0fb8-4e6b-a923-837d7dc499d0",
   "metadata": {},
   "outputs": [
    {
     "name": "stderr",
     "output_type": "stream",
     "text": [
      "LOCAL_RANK: 0 - CUDA_VISIBLE_DEVICES: [0]\n"
     ]
    },
    {
     "data": {
      "application/vnd.jupyter.widget-view+json": {
       "model_id": "2dd134265e8c402a8cc6192e4ea34dd0",
       "version_major": 2,
       "version_minor": 0
      },
      "text/plain": [
       "Predicting: 13it [00:00, ?it/s]"
      ]
     },
     "metadata": {},
     "output_type": "display_data"
    },
    {
     "data": {
      "text/plain": [
       "{'z': RatioSamples(values=tensor([[-0.7551,  0.8551, -0.0078],\n",
       "         [-0.8595,  0.4026, -0.1552],\n",
       "         [-0.6177,  0.8835, -0.0712],\n",
       "         ...,\n",
       "         [-0.9150,  0.5337,  0.1761],\n",
       "         [-0.9008,  0.8445,  0.0487],\n",
       "         [-0.6385,  0.5998,  0.1733]]), ratios=tensor([[-18.2002, -10.0811, -17.4092],\n",
       "         [-14.0341, -14.8321, -22.6304],\n",
       "         [-23.9311, -12.4020, -19.5780],\n",
       "         ...,\n",
       "         [-12.3773, -12.4555, -13.8478],\n",
       "         [-12.9048,  -8.2066, -15.9622],\n",
       "         [-23.1455, -12.2145, -13.8850]]), metadata={})}"
      ]
     },
     "execution_count": 251,
     "metadata": {},
     "output_type": "execute_result"
    }
   ],
   "source": [
    "p = t.infer(r, d, condition_x = s0)   # Weighted posterior samples\n",
    "p"
   ]
  },
  {
   "cell_type": "code",
   "execution_count": 252,
   "id": "dd92f72a-6b68-4d73-a449-7d6b830d05e3",
   "metadata": {},
   "outputs": [
    {
     "data": {
      "text/plain": [
       "{'z': tensor([[-0.9885,  0.7938,  0.4578],\n",
       "         [-0.9947,  0.7980,  0.4392],\n",
       "         [-0.9873,  0.7980,  0.4607],\n",
       "         ...,\n",
       "         [-0.9897,  0.7980,  0.4573],\n",
       "         [-0.9935,  0.7961,  0.4446],\n",
       "         [-0.9932,  0.7839,  0.4679]])}"
      ]
     },
     "execution_count": 252,
     "metadata": {},
     "output_type": "execute_result"
    }
   ],
   "source": [
    "ps = p.sample(10000)\n",
    "ps"
   ]
  },
  {
   "cell_type": "code",
   "execution_count": 253,
   "id": "b2264fae-271a-41ac-b40b-75d1a45f6100",
   "metadata": {},
   "outputs": [
    {
     "data": {
      "text/plain": [
       "{'z': RectangleBound(low=tensor([-0.9987,  0.4470,  0.2714]), high=tensor([-0.9078,  0.9179,  0.6050]))}"
      ]
     },
     "execution_count": 253,
     "metadata": {},
     "output_type": "execute_result"
    }
   ],
   "source": [
    "b = get_1d_rect_bounds(p, th = 1e-7)\n",
    "b"
   ]
  },
  {
   "cell_type": "code",
   "execution_count": 254,
   "id": "a61cd796-368f-4901-ac6a-1f5eeac857f2",
   "metadata": {},
   "outputs": [
    {
     "data": {
      "text/plain": [
       "<matplotlib.lines.Line2D at 0x15160c23b160>"
      ]
     },
     "execution_count": 254,
     "metadata": {},
     "output_type": "execute_result"
    },
    {
     "data": {
      "image/png": "[encoded data removed]",
      "text/plain": [
       "<Figure size 432x288 with 1 Axes>"
      ]
     },
     "metadata": {
      "needs_background": "light"
     },
     "output_type": "display_data"
    }
   ],
   "source": [
    "z = ps['z']\n",
    "z0 = s0['z']\n",
    "plt.hist(z[:,0].numpy(), bins = 20, density=True);\n",
    "plt.hist(z[:,1].numpy(), bins = 20, density = True);\n",
    "plt.hist(z[:,2].numpy(), bins = 20, density = True);\n",
    "plt.axvline(z0[0], color='k')\n",
    "plt.axvline(z0[1], color='k')\n",
    "plt.axvline(z0[2], color='k')\n",
    "#plt.xlim(-1, 1)"
   ]
  },
  {
   "cell_type": "code",
   "execution_count": null,
   "id": "563249e1-d37e-431b-a984-42703e781338",
   "metadata": {},
   "outputs": [],
   "source": []
  },
  {
   "cell_type": "code",
   "execution_count": null,
   "id": "860b48e3-8933-4dc6-a6c9-9640927c0cf1",
   "metadata": {},
   "outputs": [],
   "source": []
  }
 ],
 "metadata": {
  "kernelspec": {
   "display_name": "p38",
   "language": "python",
   "name": "p38"
  },
  "language_info": {
   "codemirror_mode": {
    "name": "ipython",
    "version": 3
   },
   "file_extension": ".py",
   "mimetype": "text/x-python",
   "name": "python",
   "nbconvert_exporter": "python",
   "pygments_lexer": "ipython3",
   "version": "3.8.2"
  }
 },
 "nbformat": 4,
 "nbformat_minor": 5
}
