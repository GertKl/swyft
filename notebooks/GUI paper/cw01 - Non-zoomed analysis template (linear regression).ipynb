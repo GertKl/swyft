{
 "cells": [
  {
   "cell_type": "markdown",
   "metadata": {
    "tags": []
   },
   "source": [
    "# CW01 - Non-zoomed analysis template (linear regression)\n"
   ]
  },
  {
   "cell_type": "markdown",
   "metadata": {
    "tags": []
   },
   "source": [
    "## Imports"
   ]
  },
  {
   "cell_type": "code",
   "execution_count": 77,
   "metadata": {},
   "outputs": [
    {
     "name": "stdout",
     "output_type": "stream",
     "text": [
      "The autoreload extension is already loaded. To reload it, use:\n",
      "  %reload_ext autoreload\n"
     ]
    }
   ],
   "source": [
    "# Makes it easier to debug\n",
    "%load_ext autoreload\n",
    "%autoreload 2"
   ]
  },
  {
   "cell_type": "code",
   "execution_count": 80,
   "metadata": {},
   "outputs": [],
   "source": [
    "import numpy as np\n",
    "import pylab as plt\n",
    "import torch\n",
    "import swyft"
   ]
  },
  {
   "cell_type": "code",
   "execution_count": 81,
   "metadata": {},
   "outputs": [],
   "source": [
    "device = 'cuda'"
   ]
  },
  {
   "cell_type": "markdown",
   "metadata": {},
   "source": [
    "## Model and prior"
   ]
  },
  {
   "cell_type": "code",
   "execution_count": 138,
   "metadata": {},
   "outputs": [],
   "source": [
    "N = 64  # Number of data bins\n",
    "SIGMA = 1.0  # Measurement uncertainty\n",
    "\n",
    "def spec(a, b):\n",
    "    return a+np.linspace(0, 10, N)*b\n",
    "\n",
    "def model(v):\n",
    "    return dict(y = spec(v[0], v[1]))\n",
    "\n",
    "def noise(sim, v, sigma = SIGMA):\n",
    "    return dict(y = sim['y'] + np.random.randn(N)*sigma)"
   ]
  },
  {
   "cell_type": "code",
   "execution_count": 139,
   "metadata": {},
   "outputs": [],
   "source": [
    "sim = swyft.Simulator(model, 2, dict(y=(N,)))"
   ]
  },
  {
   "cell_type": "code",
   "execution_count": 140,
   "metadata": {},
   "outputs": [],
   "source": [
    "low = -10 * np.ones(2)\n",
    "high = 20 * np.ones(2)\n",
    "prior = swyft.get_uniform_prior(low, high)"
   ]
  },
  {
   "cell_type": "markdown",
   "metadata": {},
   "source": [
    "## Training and validation dataset"
   ]
  },
  {
   "cell_type": "code",
   "execution_count": 141,
   "metadata": {},
   "outputs": [
    {
     "name": "stdout",
     "output_type": "stream",
     "text": [
      "Creating new store.\n",
      "Store: Adding 9836 new samples to simulator store.\n"
     ]
    }
   ],
   "source": [
    "Ntrain = 10000\n",
    "\n",
    "store = swyft.Store.memory_store(sim)\n",
    "store.add(Ntrain, prior)\n",
    "store.simulate()"
   ]
  },
  {
   "cell_type": "code",
   "execution_count": 142,
   "metadata": {},
   "outputs": [],
   "source": [
    "dataset = swyft.Dataset(Ntrain, prior, store, simhook = noise)"
   ]
  },
  {
   "cell_type": "markdown",
   "metadata": {},
   "source": [
    "## Inference network and training"
   ]
  },
  {
   "cell_type": "code",
   "execution_count": 143,
   "metadata": {},
   "outputs": [],
   "source": [
    "class Head(torch.nn.Module):\n",
    "    def __init__(self, sim_shapes):\n",
    "        super().__init__()\n",
    "        self.n_features = 2\n",
    "        \n",
    "        self.onl_f = swyft.OnlineNormalizationLayer(torch.Size([N,]))\n",
    "        self.l = torch.nn.Linear(N, 2)\n",
    "\n",
    "    def forward(self, obs):\n",
    "        x=obs['y']\n",
    "        #x = self.onl_f(x)\n",
    "        f = self.l(x)\n",
    "\n",
    "        return f"
   ]
  },
  {
   "cell_type": "code",
   "execution_count": 144,
   "metadata": {},
   "outputs": [],
   "source": [
    "network_1d = swyft.get_marginal_classifier(\n",
    "    observation_key=\"y\",\n",
    "    marginal_indices=((0,), (1,)),\n",
    "    observation_shapes={'y': (64,)},\n",
    "    n_parameters=2,\n",
    "    hidden_features=256,\n",
    "    num_blocks=2,\n",
    ")\n",
    "\n",
    "mre_1d = swyft.MarginalRatioEstimator(\n",
    "    marginal_indices=((0,), (1,)),\n",
    "    network=network_1d,\n",
    "    device=device,\n",
    ")"
   ]
  },
  {
   "cell_type": "code",
   "execution_count": 117,
   "metadata": {},
   "outputs": [
    {
     "name": "stdout",
     "output_type": "stream",
     "text": [
      "training: lr=0.0005, epoch=3, validation loss=0.7118\n"
     ]
    }
   ],
   "source": [
    "mre_1d.train(dataset, batch_size = 64, max_epochs = 3);"
   ]
  },
  {
   "cell_type": "markdown",
   "metadata": {},
   "source": [
    "## Results"
   ]
  },
  {
   "cell_type": "code",
   "execution_count": 111,
   "metadata": {},
   "outputs": [],
   "source": [
    "post = swyft.MarginalPosterior(mre_1d, prior)"
   ]
  },
  {
   "cell_type": "code",
   "execution_count": 112,
   "metadata": {},
   "outputs": [],
   "source": [
    "v0 = np.array([0.0, 0])\n",
    "obs0 = noise(model(v0), v0)"
   ]
  },
  {
   "cell_type": "code",
   "execution_count": 113,
   "metadata": {},
   "outputs": [],
   "source": [
    "samples = post.weighted_sample(10000, obs0, batch_size = 128)"
   ]
  },
  {
   "cell_type": "code",
   "execution_count": 114,
   "metadata": {},
   "outputs": [],
   "source": [
    "# Estimate poster mean\n",
    "v = samples.v[:,0]\n",
    "w = samples.weights[(0,)]\n",
    "m = sum(w*v)/sum(w)\n",
    "#m = -0.5"
   ]
  },
  {
   "cell_type": "code",
   "execution_count": 115,
   "metadata": {},
   "outputs": [
    {
     "data": {
      "image/png": "[encoded data removed]",
      "text/plain": [
       "<Figure size 1080x360 with 2 Axes>"
      ]
     },
     "metadata": {
      "needs_background": "light"
     },
     "output_type": "display_data"
    }
   ],
   "source": [
    "swyft.hist1d(samples, kde = True, figsize = (15, 5));"
   ]
  },
  {
   "cell_type": "code",
   "execution_count": null,
   "metadata": {},
   "outputs": [],
   "source": []
  }
 ],
 "metadata": {
  "kernelspec": {
   "display_name": "Python 3",
   "language": "python",
   "name": "python3"
  },
  "language_info": {
   "codemirror_mode": {
    "name": "ipython",
    "version": 3
   },
   "file_extension": ".py",
   "mimetype": "text/x-python",
   "name": "python",
   "nbconvert_exporter": "python",
   "pygments_lexer": "ipython3",
   "version": "3.8.2"
  }
 },
 "nbformat": 4,
 "nbformat_minor": 4
}
