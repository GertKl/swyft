{
 "cells": [
  {
   "cell_type": "code",
   "execution_count": 133,
   "id": "3822aac4-d5eb-4979-b237-70c80d2489e8",
   "metadata": {},
   "outputs": [
    {
     "name": "stdout",
     "output_type": "stream",
     "text": [
      "The autoreload extension is already loaded. To reload it, use:\n",
      "  %reload_ext autoreload\n"
     ]
    }
   ],
   "source": [
    "# Makes it easier to debug\n",
    "%load_ext autoreload\n",
    "#%load_ext line_profiler\n",
    "%autoreload 2"
   ]
  },
  {
   "cell_type": "code",
   "execution_count": 134,
   "id": "0297c907",
   "metadata": {},
   "outputs": [],
   "source": [
    "import pylab as plt\n",
    "import numpy as np\n",
    "import skimage.transform\n",
    "import skimage.restoration\n",
    "from tqdm import tqdm\n",
    "import skimage.filters\n",
    "import torch\n",
    "import torch.nn as nn\n",
    "import typing as tp\n",
    "from pyrofit.utils import pad_dims\n",
    "from torch.nn.functional import grid_sample\n",
    "from pyro import distributions as dist\n",
    "from pyrofit.lensing.utils import get_meshgrid\n",
    "from pyrofit.lensing.lenses import SPLELens\n",
    "from pyrofit.lensing.sources import SersicSource, AnalyticSource\n",
    "from pyrofit.utils.torchutils import _mid_many, unravel_index\n",
    "from pyrofit.utils import kNN\n",
    "from fft_conv_pytorch import fft_conv, FFTConv2d\n",
    "import swyft\n",
    "from dataclasses import dataclass\n",
    "from swyft.alpha.components import (\n",
    "    RatioEstimatorGaussian1d, MeanStd, SimpleDataset, subsample_posterior,\n",
    "    get_1d_rect_bounds, append_randomized, valmap, SwyftModel, persist_to_file, \n",
    "    equalize_tensors, SwyftTrainer, SampleStore, dictstoremap, DictDataset, SwyftModule, SwyftDataModule, RatioSamples,\n",
    "    RatioSampleStore\n",
    ")\n",
    "import pytorch_lightning as pl\n",
    "from torch.nn import functional as F"
   ]
  },
  {
   "cell_type": "markdown",
   "id": "93d83b8b-4b96-4f92-b71b-84ecba33cc68",
   "metadata": {},
   "source": [
    "## Problem-specific analysis components"
   ]
  },
  {
   "cell_type": "code",
   "execution_count": 135,
   "id": "27daa2f7-d569-4886-a5fb-28c8f2426950",
   "metadata": {},
   "outputs": [],
   "source": [
    "class Model(SwyftModel):\n",
    "    def fast(self, S):\n",
    "        d = S['mu'] + torch.randn_like(S['mu'])*0.2\n",
    "        return dict(data = d)\n",
    "        \n",
    "    def slow(self, S):\n",
    "        a, b, c = S['z']\n",
    "        x = np.linspace(-1, 1, 100)\n",
    "        mu = a+b*x + c*x**2\n",
    "        return dict(mu=mu.float())\n",
    "\n",
    "    def prior(self, N, bounds = None):\n",
    "        low = -np.ones(3)\n",
    "        high = np.ones(3)\n",
    "        if bounds is not None:\n",
    "            low, high = bounds['z'].low, bounds['z'].high\n",
    "        draw = np.array([np.random.uniform(low=low, high=high) for _ in range(N)])\n",
    "        return SampleStore(z = torch.tensor(draw).float())"
   ]
  },
  {
   "cell_type": "markdown",
   "id": "d2be2f92-d80e-4aa5-9844-302ce3ea11f6",
   "metadata": {},
   "source": [
    "## Definition of target image"
   ]
  },
  {
   "cell_type": "code",
   "execution_count": 136,
   "id": "e0afb416-08aa-4499-8914-2b321d905f90",
   "metadata": {},
   "outputs": [],
   "source": [
    "class InferenceNet(SwyftModule):\n",
    "    def __init__(self):\n",
    "        super().__init__()\n",
    "        #self.online_z_score = swyft.networks.OnlineDictStandardizingLayer(dict(img = (50, 50)))\n",
    "        self.CNN = torch.nn.Sequential(\n",
    "            torch.nn.Conv1d(1, 10, 3),\n",
    "            torch.nn.MaxPool1d(2),\n",
    "            torch.nn.Conv1d(10, 20, 3),\n",
    "            torch.nn.MaxPool1d(2),\n",
    "            torch.nn.Flatten(),\n",
    "            torch.nn.LazyLinear(128),\n",
    "            torch.nn.ReLU(),\n",
    "            torch.nn.Linear(128, 16),\n",
    "        )\n",
    "        self.ptrans = swyft.networks.ParameterTransform(\n",
    "            6, [(0,), (1,), (2,)], online_z_score=False\n",
    "        )\n",
    "        n_marginals, n_block_parameters = self.ptrans.marginal_block_shape\n",
    "        n_observation_features = 16\n",
    "        self.classifier = swyft.networks.MarginalClassifier(\n",
    "            n_marginals,\n",
    "            n_observation_features + n_block_parameters,\n",
    "            hidden_features=256,\n",
    "            dropout_probability = 0.1,\n",
    "            num_blocks=3,\n",
    "        )\n",
    "        \n",
    "    def forward(self, x, z):\n",
    "        # Digesting x\n",
    "        data = x['data']\n",
    "        #x = self.online_z_score(x)['img']\n",
    "        x = self.CNN(data.unsqueeze(1)).squeeze(1)\n",
    "        \n",
    "        # Digesting z\n",
    "        z = self.ptrans(z['z'])\n",
    "        \n",
    "        # Combine!\n",
    "        x, z = equalize_tensors(x, z)\n",
    "        ratios = self.classifier(x, z)\n",
    "        w = RatioSamples(z.squeeze(-1), ratios)\n",
    "        return dict(z=w)"
   ]
  },
  {
   "cell_type": "markdown",
   "id": "39dac473-98a3-481e-b9af-b8d30157fda2",
   "metadata": {},
   "source": [
    "## Workflow"
   ]
  },
  {
   "cell_type": "code",
   "execution_count": 138,
   "id": "9081dfa2-5597-4273-a1e9-100ff6d71fea",
   "metadata": {},
   "outputs": [
    {
     "name": "stderr",
     "output_type": "stream",
     "text": [
      "\n",
      "\n",
      "100%|██████████| 1/1 [00:00<00:00, 1708.47it/s]\n",
      "\n",
      "\n",
      "100%|██████████| 1/1 [00:00<00:00, 4253.86it/s]\n"
     ]
    },
    {
     "data": {
      "text/plain": [
       "[<matplotlib.lines.Line2D at 0x14c7384c8f40>]"
      ]
     },
     "execution_count": 138,
     "metadata": {},
     "output_type": "execute_result"
    },
    {
     "data": {
      "image/png": "[encoded data removed]",
      "text/plain": [
       "<Figure size 432x288 with 1 Axes>"
      ]
     },
     "metadata": {
      "needs_background": "light"
     },
     "output_type": "display_data"
    }
   ],
   "source": [
    "m = Model()\n",
    "s0 = m.sample(1)[0]\n",
    "plt.plot(s0['data'])"
   ]
  },
  {
   "cell_type": "code",
   "execution_count": null,
   "id": "79f6c83d-0eb2-4b58-b0e8-a12449ebb2ca",
   "metadata": {},
   "outputs": [
    {
     "name": "stderr",
     "output_type": "stream",
     "text": [
      "/home/weniger/miniconda3/envs/p38/lib/python3.8/site-packages/torch-1.9.0-py3.8-linux-x86_64.egg/torch/nn/modules/lazy.py:178: UserWarning: Lazy modules are a new feature under heavy development so changes to the API or functionality can happen at any moment.\n",
      "  warnings.warn('Lazy modules are a new feature under heavy development '\n",
      "\n",
      "\n",
      "  0%|          | 0/5000 [00:00<?, ?it/s]\u001b[A\u001b[A\n",
      "\n",
      " 14%|█▍        | 712/5000 [00:00<00:00, 7118.87it/s]\u001b[A\u001b[A\n",
      "\n",
      " 28%|██▊       | 1424/5000 [00:00<00:00, 6687.83it/s]\u001b[A\u001b[A\n",
      "\n",
      " 42%|████▏     | 2121/5000 [00:00<00:00, 6810.52it/s]\u001b[A\u001b[A\n",
      "\n",
      " 56%|█████▋    | 2814/5000 [00:00<00:00, 6853.08it/s]\u001b[A\u001b[A\n",
      "\n",
      " 70%|███████   | 3501/5000 [00:00<00:00, 6675.76it/s]\u001b[A\u001b[A\n",
      "\n",
      " 84%|████████▍ | 4203/5000 [00:00<00:00, 6786.52it/s]\u001b[A\u001b[A\n",
      "\n",
      "100%|██████████| 5000/5000 [00:00<00:00, 6795.34it/s]\u001b[A\u001b[A\n",
      "GPU available: True, used: True\n",
      "TPU available: False, using: 0 TPU cores\n",
      "IPU available: False, using: 0 IPUs\n",
      "LOCAL_RANK: 0 - CUDA_VISIBLE_DEVICES: [0]\n",
      "\n",
      "  | Name       | Type               | Params\n",
      "--------------------------------------------------\n",
      "0 | CNN        | Sequential         | 2.7 K \n",
      "1 | ptrans     | ParameterTransform | 0     \n",
      "2 | classifier | MarginalClassifier | 1.2 M \n",
      "--------------------------------------------------\n",
      "1.2 M     Trainable params\n",
      "0         Non-trainable params\n",
      "1.2 M     Total params\n",
      "4.843     Total estimated model params size (MB)\n",
      "/home/weniger/miniconda3/envs/p38/lib/python3.8/site-packages/pytorch_lightning/callbacks/model_checkpoint.py:631: UserWarning: Checkpoint directory /home/weniger/codes/swyft_papergui/notebooks/GUI paper/lightning_logs/version_8759197/checkpoints exists and is not empty.\n",
      "  rank_zero_warn(f\"Checkpoint directory {dirpath} exists and is not empty.\")\n"
     ]
    },
    {
     "data": {
      "application/vnd.jupyter.widget-view+json": {
       "model_id": "",
       "version_major": 2,
       "version_minor": 0
      },
      "text/plain": [
       "Validation sanity check: 0it [00:00, ?it/s]"
      ]
     },
     "metadata": {},
     "output_type": "display_data"
    },
    {
     "name": "stderr",
     "output_type": "stream",
     "text": [
      "/home/weniger/miniconda3/envs/p38/lib/python3.8/site-packages/pytorch_lightning/trainer/data_loading.py:132: UserWarning: The dataloader, val_dataloader 0, does not have many workers which may be a bottleneck. Consider increasing the value of the `num_workers` argument` (try 24 which is the number of cpus on this machine) in the `DataLoader` init to improve performance.\n",
      "  rank_zero_warn(\n",
      "/home/weniger/miniconda3/envs/p38/lib/python3.8/site-packages/torch-1.9.0-py3.8-linux-x86_64.egg/torch/nn/_reduction.py:42: UserWarning: size_average and reduce args will be deprecated, please use reduction='none' instead.\n",
      "  warnings.warn(warning.format(ret))\n",
      "/home/weniger/miniconda3/envs/p38/lib/python3.8/site-packages/pytorch_lightning/trainer/data_loading.py:132: UserWarning: The dataloader, train_dataloader, does not have many workers which may be a bottleneck. Consider increasing the value of the `num_workers` argument` (try 24 which is the number of cpus on this machine) in the `DataLoader` init to improve performance.\n",
      "  rank_zero_warn(\n",
      "/home/weniger/miniconda3/envs/p38/lib/python3.8/site-packages/pytorch_lightning/trainer/data_loading.py:432: UserWarning: The number of training samples (20) is smaller than the logging interval Trainer(log_every_n_steps=50). Set a lower value for log_every_n_steps if you want to see logs for the training epoch.\n",
      "  rank_zero_warn(\n"
     ]
    },
    {
     "data": {
      "application/vnd.jupyter.widget-view+json": {
       "model_id": "744bb7ac97aa4365b7db64f60e9e2f38",
       "version_major": 2,
       "version_minor": 0
      },
      "text/plain": [
       "Training: 0it [00:00, ?it/s]"
      ]
     },
     "metadata": {},
     "output_type": "display_data"
    },
    {
     "data": {
      "application/vnd.jupyter.widget-view+json": {
       "model_id": "",
       "version_major": 2,
       "version_minor": 0
      },
      "text/plain": [
       "Validating: 0it [00:00, ?it/s]"
      ]
     },
     "metadata": {},
     "output_type": "display_data"
    },
    {
     "data": {
      "application/vnd.jupyter.widget-view+json": {
       "model_id": "",
       "version_major": 2,
       "version_minor": 0
      },
      "text/plain": [
       "Validating: 0it [00:00, ?it/s]"
      ]
     },
     "metadata": {},
     "output_type": "display_data"
    },
    {
     "data": {
      "application/vnd.jupyter.widget-view+json": {
       "model_id": "",
       "version_major": 2,
       "version_minor": 0
      },
      "text/plain": [
       "Validating: 0it [00:00, ?it/s]"
      ]
     },
     "metadata": {},
     "output_type": "display_data"
    },
    {
     "data": {
      "application/vnd.jupyter.widget-view+json": {
       "model_id": "",
       "version_major": 2,
       "version_minor": 0
      },
      "text/plain": [
       "Validating: 0it [00:00, ?it/s]"
      ]
     },
     "metadata": {},
     "output_type": "display_data"
    },
    {
     "data": {
      "application/vnd.jupyter.widget-view+json": {
       "model_id": "",
       "version_major": 2,
       "version_minor": 0
      },
      "text/plain": [
       "Validating: 0it [00:00, ?it/s]"
      ]
     },
     "metadata": {},
     "output_type": "display_data"
    },
    {
     "name": "stderr",
     "output_type": "stream",
     "text": [
      "LOCAL_RANK: 0 - CUDA_VISIBLE_DEVICES: [0]\n",
      "/home/weniger/miniconda3/envs/p38/lib/python3.8/site-packages/pytorch_lightning/trainer/data_loading.py:132: UserWarning: The dataloader, predict_dataloader 0, does not have many workers which may be a bottleneck. Consider increasing the value of the `num_workers` argument` (try 24 which is the number of cpus on this machine) in the `DataLoader` init to improve performance.\n",
      "  rank_zero_warn(\n"
     ]
    },
    {
     "data": {
      "application/vnd.jupyter.widget-view+json": {
       "model_id": "e8fbb7081de249af83fc57d3e035b9e3",
       "version_major": 2,
       "version_minor": 0
      },
      "text/plain": [
       "Predicting: 20it [00:00, ?it/s]"
      ]
     },
     "metadata": {},
     "output_type": "display_data"
    },
    {
     "name": "stderr",
     "output_type": "stream",
     "text": [
      "\n",
      "\n",
      "  0%|          | 0/5000 [00:00<?, ?it/s]\u001b[A\u001b[A\n",
      "\n",
      " 13%|█▎        | 666/5000 [00:00<00:00, 6655.50it/s]\u001b[A\u001b[A\n",
      "\n",
      " 28%|██▊       | 1383/5000 [00:00<00:00, 6953.15it/s]\u001b[A\u001b[A\n",
      "\n",
      " 42%|████▏     | 2090/5000 [00:00<00:00, 7005.97it/s]\u001b[A\u001b[A\n",
      "\n",
      " 56%|█████▌    | 2791/5000 [00:00<00:00, 6999.25it/s]\u001b[A\u001b[A\n",
      "\n",
      " 70%|██████▉   | 3491/5000 [00:00<00:00, 6998.46it/s]\u001b[A\u001b[A\n",
      "\n",
      " 84%|████████▍ | 4191/5000 [00:00<00:00, 6954.79it/s]\u001b[A\u001b[A\n",
      "\n",
      "100%|██████████| 5000/5000 [00:00<00:00, 6920.22it/s]\u001b[A\u001b[A\n",
      "GPU available: True, used: True\n",
      "TPU available: False, using: 0 TPU cores\n",
      "IPU available: False, using: 0 IPUs\n",
      "LOCAL_RANK: 0 - CUDA_VISIBLE_DEVICES: [0]\n",
      "\n",
      "  | Name       | Type               | Params\n",
      "--------------------------------------------------\n",
      "0 | CNN        | Sequential         | 2.7 K \n",
      "1 | ptrans     | ParameterTransform | 0     \n",
      "2 | classifier | MarginalClassifier | 1.2 M \n",
      "--------------------------------------------------\n",
      "1.2 M     Trainable params\n",
      "0         Non-trainable params\n",
      "1.2 M     Total params\n",
      "4.843     Total estimated model params size (MB)\n"
     ]
    },
    {
     "data": {
      "application/vnd.jupyter.widget-view+json": {
       "model_id": "",
       "version_major": 2,
       "version_minor": 0
      },
      "text/plain": [
       "Validation sanity check: 0it [00:00, ?it/s]"
      ]
     },
     "metadata": {},
     "output_type": "display_data"
    },
    {
     "data": {
      "application/vnd.jupyter.widget-view+json": {
       "model_id": "048b16e41c0b476da6b9faf81c9b12e4",
       "version_major": 2,
       "version_minor": 0
      },
      "text/plain": [
       "Training: 0it [00:00, ?it/s]"
      ]
     },
     "metadata": {},
     "output_type": "display_data"
    },
    {
     "data": {
      "application/vnd.jupyter.widget-view+json": {
       "model_id": "",
       "version_major": 2,
       "version_minor": 0
      },
      "text/plain": [
       "Validating: 0it [00:00, ?it/s]"
      ]
     },
     "metadata": {},
     "output_type": "display_data"
    },
    {
     "data": {
      "application/vnd.jupyter.widget-view+json": {
       "model_id": "",
       "version_major": 2,
       "version_minor": 0
      },
      "text/plain": [
       "Validating: 0it [00:00, ?it/s]"
      ]
     },
     "metadata": {},
     "output_type": "display_data"
    },
    {
     "data": {
      "application/vnd.jupyter.widget-view+json": {
       "model_id": "",
       "version_major": 2,
       "version_minor": 0
      },
      "text/plain": [
       "Validating: 0it [00:00, ?it/s]"
      ]
     },
     "metadata": {},
     "output_type": "display_data"
    },
    {
     "name": "stderr",
     "output_type": "stream",
     "text": [
      "/home/weniger/miniconda3/envs/p38/lib/python3.8/site-packages/pytorch_lightning/trainer/trainer.py:688: UserWarning: Detected KeyboardInterrupt, attempting graceful shutdown...\n",
      "  rank_zero_warn(\"Detected KeyboardInterrupt, attempting graceful shutdown...\")\n",
      "LOCAL_RANK: 0 - CUDA_VISIBLE_DEVICES: [0]\n"
     ]
    },
    {
     "data": {
      "application/vnd.jupyter.widget-view+json": {
       "model_id": "35316635814e4f369d4f06c1a0687d6f",
       "version_major": 2,
       "version_minor": 0
      },
      "text/plain": [
       "Predicting: 5it [00:00, ?it/s]"
      ]
     },
     "metadata": {},
     "output_type": "display_data"
    },
    {
     "name": "stderr",
     "output_type": "stream",
     "text": [
      "\n",
      "\n",
      "  0%|          | 0/5000 [00:00<?, ?it/s]\u001b[A\u001b[A\n",
      "\n",
      " 13%|█▎        | 663/5000 [00:00<00:00, 6629.06it/s]\u001b[A\u001b[A\n",
      "\n",
      " 28%|██▊       | 1375/5000 [00:00<00:00, 6912.83it/s]\u001b[A\u001b[A\n",
      "\n",
      " 41%|████▏     | 2070/5000 [00:00<00:00, 6925.61it/s]\u001b[A\u001b[A\n",
      "\n",
      " 55%|█████▌    | 2768/5000 [00:00<00:00, 6945.22it/s]\u001b[A\u001b[A\n",
      "\n",
      " 69%|██████▉   | 3463/5000 [00:00<00:00, 6921.43it/s]\u001b[A\u001b[A\n",
      "\n",
      " 83%|████████▎ | 4157/5000 [00:00<00:00, 6926.05it/s]\u001b[A\u001b[A\n",
      "\n",
      "100%|██████████| 5000/5000 [00:00<00:00, 6879.99it/s]\u001b[A\u001b[A\n",
      "GPU available: True, used: True\n",
      "TPU available: False, using: 0 TPU cores\n",
      "IPU available: False, using: 0 IPUs\n",
      "LOCAL_RANK: 0 - CUDA_VISIBLE_DEVICES: [0]\n",
      "\n",
      "  | Name       | Type               | Params\n",
      "--------------------------------------------------\n",
      "0 | CNN        | Sequential         | 2.7 K \n",
      "1 | ptrans     | ParameterTransform | 0     \n",
      "2 | classifier | MarginalClassifier | 1.2 M \n",
      "--------------------------------------------------\n",
      "1.2 M     Trainable params\n",
      "0         Non-trainable params\n",
      "1.2 M     Total params\n",
      "4.843     Total estimated model params size (MB)\n"
     ]
    },
    {
     "data": {
      "application/vnd.jupyter.widget-view+json": {
       "model_id": "",
       "version_major": 2,
       "version_minor": 0
      },
      "text/plain": [
       "Validation sanity check: 0it [00:00, ?it/s]"
      ]
     },
     "metadata": {},
     "output_type": "display_data"
    },
    {
     "data": {
      "application/vnd.jupyter.widget-view+json": {
       "model_id": "6d1411bae8fa44df90cc50e88f4d34ba",
       "version_major": 2,
       "version_minor": 0
      },
      "text/plain": [
       "Training: 0it [00:00, ?it/s]"
      ]
     },
     "metadata": {},
     "output_type": "display_data"
    },
    {
     "data": {
      "application/vnd.jupyter.widget-view+json": {
       "model_id": "",
       "version_major": 2,
       "version_minor": 0
      },
      "text/plain": [
       "Validating: 0it [00:00, ?it/s]"
      ]
     },
     "metadata": {},
     "output_type": "display_data"
    }
   ],
   "source": [
    "b = None\n",
    "m = Model()\n",
    "for i in range(3):\n",
    "    r = InferenceNet()\n",
    "    s = m.simulate(5000, bounds = b)\n",
    "    d = SwyftDataModule(s, model = m, batch_size = 256)\n",
    "    t = SwyftTrainer(accelerator = 'gpu', gpus=1, max_epochs = 5)\n",
    "    t.fit(r, d)\n",
    "    p = t.infer(r, d, condition_x = s0)   # Weighted posterior samples\n",
    "    b = get_1d_rect_bounds(p)"
   ]
  },
  {
   "cell_type": "code",
   "execution_count": 111,
   "id": "33548470-72ec-46f4-9866-6c5bb1c583c6",
   "metadata": {},
   "outputs": [
    {
     "data": {
      "text/plain": [
       "10000"
      ]
     },
     "execution_count": 111,
     "metadata": {},
     "output_type": "execute_result"
    }
   ],
   "source": [
    "z = p['z'].sample(10000, replacement = True)\n",
    "len(z)"
   ]
  },
  {
   "cell_type": "code",
   "execution_count": 112,
   "id": "a61cd796-368f-4901-ac6a-1f5eeac857f2",
   "metadata": {},
   "outputs": [
    {
     "data": {
      "text/plain": [
       "(-1.0, 1.0)"
      ]
     },
     "execution_count": 112,
     "metadata": {},
     "output_type": "execute_result"
    },
    {
     "data": {
      "image/png": "[encoded data removed]",
      "text/plain": [
       "<Figure size 432x288 with 1 Axes>"
      ]
     },
     "metadata": {
      "needs_background": "light"
     },
     "output_type": "display_data"
    }
   ],
   "source": [
    "plt.hist(z[:,0].numpy(), bins = 20);\n",
    "plt.hist(z[:,1].numpy(), bins = 20);\n",
    "plt.hist(z[:,2].numpy(), bins = 20);\n",
    "plt.xlim(-1, 1)"
   ]
  },
  {
   "cell_type": "code",
   "execution_count": null,
   "id": "9aba55e1-6fd9-4a2b-b830-133abe56bc99",
   "metadata": {},
   "outputs": [],
   "source": []
  }
 ],
 "metadata": {
  "kernelspec": {
   "display_name": "p38",
   "language": "python",
   "name": "p38"
  },
  "language_info": {
   "codemirror_mode": {
    "name": "ipython",
    "version": 3
   },
   "file_extension": ".py",
   "mimetype": "text/x-python",
   "name": "python",
   "nbconvert_exporter": "python",
   "pygments_lexer": "ipython3",
   "version": "3.8.2"
  }
 },
 "nbformat": 4,
 "nbformat_minor": 5
}
