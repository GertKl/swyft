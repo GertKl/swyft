{
 "cells": [
  {
   "cell_type": "markdown",
   "metadata": {},
   "source": [
    "# CW05 - GUI paper exploration 5 - 50 parallel posteriors and momentum networks\n",
    "\n",
    "Optional: We show here momentum networks for just 50 parallel posteriors. There could be instead examples for, e.g. image analysis, that are more interesting."
   ]
  },
  {
   "cell_type": "code",
   "execution_count": 41,
   "metadata": {},
   "outputs": [
    {
     "name": "stdout",
     "output_type": "stream",
     "text": [
      "The autoreload extension is already loaded. To reload it, use:\n",
      "  %reload_ext autoreload\n",
      "The line_profiler extension is already loaded. To reload it, use:\n",
      "  %reload_ext line_profiler\n"
     ]
    }
   ],
   "source": [
    "# Makes it easier to debug\n",
    "%load_ext autoreload\n",
    "%load_ext line_profiler\n",
    "%autoreload 2"
   ]
  },
  {
   "cell_type": "code",
   "execution_count": 42,
   "metadata": {},
   "outputs": [],
   "source": [
    "import numpy as np\n",
    "import pylab as plt\n",
    "from scipy.linalg import inv\n",
    "from scipy import stats\n",
    "import scipy\n",
    "import torch"
   ]
  },
  {
   "cell_type": "code",
   "execution_count": 110,
   "metadata": {},
   "outputs": [],
   "source": [
    "import dynesty\n",
    "import swyft"
   ]
  },
  {
   "cell_type": "markdown",
   "metadata": {},
   "source": [
    "## Workflow: ZoomTask"
   ]
  },
  {
   "cell_type": "code",
   "execution_count": 111,
   "metadata": {},
   "outputs": [],
   "source": [
    "class ZoomTask:\n",
    "    def __init__(self, sim_or_store, prior, target_obs, partition = None, simhook = None, init_bound = None):\n",
    "        if not isinstance(sim_or_store, swyft.Simulator):\n",
    "            self.store = sim_or_store\n",
    "        else:\n",
    "            self.store = swyft.MemoryStore(sim)\n",
    "        \n",
    "        if partition is None:\n",
    "            self.partition = list(range(len(self.store.pnames)))\n",
    "        else:\n",
    "            self.partition = partition\n",
    "            \n",
    "        self.prior = prior\n",
    "        self.simhook = simhook\n",
    "        self.target_obs = target_obs\n",
    "        \n",
    "        self.init_bound = init_bound\n",
    "        self.last_bound = None\n",
    "        self.history = []\n",
    "        \n",
    "    def run(self, rounds = 10, N = 10000, train_args = {}, head = None):\n",
    "        for i in range(rounds):\n",
    "            self.round(N = N, train_args = train_args, head = head)\n",
    "        \n",
    "    def round(self, N, train_args = {}, head = None):\n",
    "        bound = self.init_bound if self.history == [] else self.history[-1][1]\n",
    "        \n",
    "        self.store.add(N, self.prior, bound = bound)\n",
    "        self.store.simulate()\n",
    "        dataset = swyft.Dataset(N, self.prior, self.store, simhook = self.simhook, bound = bound)\n",
    "        post = swyft.Posteriors(dataset)\n",
    "        post.add(self.partition, device='cuda', head = head, tail_args = dict(p=0.2, hidden_layers = [512, 512]))\n",
    "        post.train(self.partition, **train_args)\n",
    "        bound = post.truncate(self.partition, self.target_obs)\n",
    "        \n",
    "        self.history.append([post, bound])"
   ]
  },
  {
   "cell_type": "markdown",
   "metadata": {},
   "source": [
    "## Model"
   ]
  },
  {
   "cell_type": "code",
   "execution_count": 388,
   "metadata": {},
   "outputs": [],
   "source": [
    "N = 50  # Number of data bins\n",
    "SIGMA = 0.01  # Measurement uncertainty"
   ]
  },
  {
   "cell_type": "code",
   "execution_count": 389,
   "metadata": {},
   "outputs": [],
   "source": [
    "# Noise-free model\n",
    "\n",
    "def model(v):\n",
    "    return dict(x = v)\n",
    "\n",
    "# Noise model\n",
    "def noise(sim, v):\n",
    "    #print(sim)\n",
    "    noise = np.random.randn(N)*SIGMA\n",
    "    return dict(x = sim['x'] + noise)"
   ]
  },
  {
   "cell_type": "code",
   "execution_count": 390,
   "metadata": {},
   "outputs": [],
   "source": [
    "v0 = np.zeros(N)\n",
    "obs0 = noise(model(v0), v0)"
   ]
  },
  {
   "cell_type": "markdown",
   "metadata": {},
   "source": [
    "### Zoom in"
   ]
  },
  {
   "cell_type": "code",
   "execution_count": 391,
   "metadata": {},
   "outputs": [],
   "source": [
    "sim = swyft.Simulator(model, N, dict(x=(N,)))\n",
    "prior = swyft.Prior(lambda u: u, N)"
   ]
  },
  {
   "cell_type": "code",
   "execution_count": 392,
   "metadata": {},
   "outputs": [],
   "source": [
    "NTRAIN = 1000"
   ]
  },
  {
   "cell_type": "code",
   "execution_count": 393,
   "metadata": {},
   "outputs": [
    {
     "name": "stdout",
     "output_type": "stream",
     "text": [
      "Creating new store.\n",
      "Store: Adding 986 new samples to simulator store.\n"
     ]
    }
   ],
   "source": [
    "store = swyft.MemoryStore(sim)\n",
    "store.add(NTRAIN, prior)\n",
    "store.simulate()"
   ]
  },
  {
   "cell_type": "code",
   "execution_count": 394,
   "metadata": {},
   "outputs": [],
   "source": [
    "dataset = swyft.Dataset(NTRAIN, prior, store, simhook = noise)"
   ]
  },
  {
   "cell_type": "code",
   "execution_count": 395,
   "metadata": {},
   "outputs": [],
   "source": [
    "from swyft.networks.module import Module\n",
    "from typing import Sequence\n",
    "from swyft.networks.tail import _get_z_shape, _combine\n",
    "from swyft.networks.normalization import OnlineNormalizationLayer\n",
    "from swyft.networks.linear import LinearWithChannel\n",
    "from torch import nn\n",
    "from swyft.types import ObsType, SimShapeType"
   ]
  },
  {
   "cell_type": "code",
   "execution_count": 396,
   "metadata": {},
   "outputs": [],
   "source": [
    "class DefaultHead(Module):\n",
    "    \"\"\"Default head network.\n",
    "\n",
    "    Args:\n",
    "        sim_shapes: Shape of the simulation data\n",
    "        online_norm: Perform online normalization of the inputs\n",
    "\n",
    "    .. note::\n",
    "        The default head network requires that all simulation components are\n",
    "        1-dim.  They will be simply concatenated into a single (potentially\n",
    "        very large) feature vector.  `DefaultHead` should only be used for very\n",
    "        low-dimensional data.  Almost always custom implementations will lead\n",
    "        to better results.\n",
    "    \"\"\"\n",
    "\n",
    "    def __init__(self, sim_shapes: SimShapeType, online_norm: bool = True) -> None:\n",
    "        super().__init__(sim_shapes=sim_shapes, online_norm=online_norm)\n",
    "        if not all(np.array([len(v) for v in sim_shapes.values()]) == 1):\n",
    "            raise ValueError(\n",
    "                \"DefaultHead only supports 1-dim data. Please supply custom head network.\"\n",
    "            )\n",
    "\n",
    "        self.n_features = sum([v[0] for k, v in sim_shapes.items()])\n",
    "\n",
    "        if online_norm:\n",
    "            self.onl_f = OnlineNormalizationLayer(torch.Size([self.n_features]))\n",
    "        else:\n",
    "            self.onl_f = identity\n",
    "\n",
    "    def forward(self, sim: ObsType) -> torch.Tensor:\n",
    "        \"\"\"Forward pass default head network. Concatenate.\n",
    "\n",
    "        Args:\n",
    "            sim: Dictionary of tensors with shape (n_batch, m_i)\n",
    "\n",
    "        Returns:\n",
    "            f: Feature vectors with shape (n_batch, M), with M = sum_i m_i\n",
    "        \"\"\"\n",
    "        f = torch.cat([value for _, value in sorted(sim.items())], dim=-1)\n",
    "        #f = self.onl_f(f)\n",
    "        return f\n"
   ]
  },
  {
   "cell_type": "code",
   "execution_count": 412,
   "metadata": {},
   "outputs": [],
   "source": [
    "class DefaultTail(Module):\n",
    "    def __init__(\n",
    "        self,\n",
    "        n_features: int,\n",
    "        marginals,\n",
    "        hidden_layers: Sequence[int] = [256, 256, 256],\n",
    "        p: float = 0.0,\n",
    "        online_norm: bool = True,\n",
    "        param_transform=None,\n",
    "        tail_features: bool = False,\n",
    "        n_tail_features: int = 2,\n",
    "    ):\n",
    "        \"\"\"Default tail network.\n",
    "\n",
    "        Args:\n",
    "            n_features: Length of feature vector.\n",
    "            marginals: List of marginals to learn.\n",
    "            hidden_layers: Hidden layer size\n",
    "            p: Dropout\n",
    "            online_norm: Online normalization of parameters.\n",
    "            param_transform: Perform optional parameter transform.\n",
    "            tail_features: Use tail features.\n",
    "            n_tail_features: Additional feature extractor network, number of features.\n",
    "\n",
    "        .. note::\n",
    "            We find that the default settings for the tail network typically\n",
    "            give reasonable results, and are almost always enough.  Tuning\n",
    "            makes only sense when the head network is already close-to optimal.\n",
    "        \"\"\"\n",
    "        super().__init__(\n",
    "            n_features,\n",
    "            marginals,\n",
    "            n_tail_features=n_tail_features,\n",
    "            p=p,\n",
    "            hidden_layers=hidden_layers,\n",
    "            online_norm=online_norm,\n",
    "            param_transform=param_transform,\n",
    "            tail_features=tail_features,\n",
    "        )\n",
    "       \n",
    "        self.logA = nn.Parameter(torch.zeros(N))\n",
    "        self.S = nn.Parameter(torch.zeros(N))\n",
    "        self.a = nn.Parameter(torch.ones(N))\n",
    "        self.b = nn.Parameter(torch.zeros(N))\n",
    "\n",
    "    def forward(self, f: torch.Tensor, params) -> torch.Tensor:  # TODO Christoph typing\n",
    "        \"\"\"Forward pass tail network.  Can handle one batch dimension.\n",
    "\n",
    "        Args:\n",
    "            f (tensor): feature vectors with shape (n_batch, n_features)\n",
    "            params (dict): parameter dictionary, with parameter shape (n_batch,)\n",
    "\n",
    "        Returns:\n",
    "            lnL (tensor): lnL ratio with shape (n_batch, len(marginals))\n",
    "        \"\"\"\n",
    "        #print(f)\n",
    "        #print(params)\n",
    "        #qwerty\n",
    "        A = torch.exp(self.logA)\n",
    "        r = -A*((f*self.a + self.b) - params)**2 - self.S\n",
    "        #r = -A*(f - params)**2 - self.S\n",
    "        return r\n",
    "        print(f)\n",
    "        print(params)\n",
    "        # Feature compressors independent per channel\n",
    "        #print(f.shape)\n",
    "        f = f.unsqueeze(1).repeat(\n",
    "            1, self.n_channels, 1\n",
    "        )  # (n_batch, n_channels, n_features)\n",
    "        #print(f.shape)\n",
    "        \n",
    "        # Channeled density estimator\n",
    "        #print(params.shape)\n",
    "        z = _combine(params, self.marginals)\n",
    "        #print(z.shape)\n",
    "        z = self.onl_z(z)\n",
    "\n",
    "        x = torch.cat([f, z], -1)\n",
    "        x = self.ratio_estimator(x)\n",
    "        x = x.squeeze(-1)\n",
    "        print(x)\n",
    "        \n",
    "        return x"
   ]
  },
  {
   "cell_type": "code",
   "execution_count": 413,
   "metadata": {},
   "outputs": [],
   "source": [
    "class D(swyft.Dataset):\n",
    "    def __init__(self, *args, **kwargs):\n",
    "        super(D, self).__init__(*args, **kwargs)\n",
    "        self.x = torch.rand(NTRAIN, N)\n",
    "        self.p = torch.rand(NTRAIN, N)\n",
    "    \n",
    "    def __getitem__(self, i):\n",
    "        return dict(x = self.x[i]), self.p[i], self.p[i]\n",
    "    \n",
    "dataset2 = D(NTRAIN, prior, store, simhook = noise)"
   ]
  },
  {
   "cell_type": "code",
   "execution_count": 414,
   "metadata": {},
   "outputs": [],
   "source": [
    "post = swyft.Posteriors(dataset)\n",
    "partition = range(N)\n",
    "post.add(partition, device='cuda', tail_args = dict(p=0.2, hidden_layers = [512, 512]), head = DefaultHead, tail = DefaultTail)"
   ]
  },
  {
   "cell_type": "code",
   "execution_count": 415,
   "metadata": {},
   "outputs": [
    {
     "name": "stdout",
     "output_type": "stream",
     "text": [
      "Training: lr=0.025, Epoch=30, VL=13.25\n"
     ]
    }
   ],
   "source": [
    "def func():\n",
    "    post.train(partition, max_epochs = 30, scheduler_args = dict(patience = 1, factor = 0.5), early_stopping_patience = 10, \n",
    "           batch_size = 128, optimizer_args = dict(lr = 0.1))\n",
    "#%prun func()\n",
    "func()"
   ]
  },
  {
   "cell_type": "code",
   "execution_count": 416,
   "metadata": {},
   "outputs": [],
   "source": [
    "#post._ratios[((0,),(1,),(2,),(3,))].tail.logA"
   ]
  },
  {
   "cell_type": "code",
   "execution_count": 417,
   "metadata": {},
   "outputs": [],
   "source": [
    "v0 = np.zeros(N) + 0.5\n",
    "obs0 = noise(model(v0), v0)\n",
    "samples = post.sample(100000, obs0)"
   ]
  },
  {
   "cell_type": "code",
   "execution_count": 418,
   "metadata": {},
   "outputs": [
    {
     "data": {
      "image/png": "[encoded data removed]",
      "text/plain": [
       "<Figure size 1440x288 with 5 Axes>"
      ]
     },
     "metadata": {
      "needs_background": "light"
     },
     "output_type": "display_data"
    }
   ],
   "source": [
    "fig, diag = swyft.plot_1d(samples, range(45, 50), bins = 100, figsize=(20, 4), truth = v0, color='r', contours = True)"
   ]
  },
  {
   "cell_type": "code",
   "execution_count": null,
   "metadata": {},
   "outputs": [],
   "source": []
  }
 ],
 "metadata": {
  "kernelspec": {
   "display_name": "Python 3",
   "language": "python",
   "name": "python3"
  },
  "language_info": {
   "codemirror_mode": {
    "name": "ipython",
    "version": 3
   },
   "file_extension": ".py",
   "mimetype": "text/x-python",
   "name": "python",
   "nbconvert_exporter": "python",
   "pygments_lexer": "ipython3",
   "version": "3.8.2"
  }
 },
 "nbformat": 4,
 "nbformat_minor": 4
}
