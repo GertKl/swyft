{
 "cells": [
  {
   "cell_type": "markdown",
   "id": "09add36d-22c4-489d-b139-2e511eba4e4e",
   "metadata": {},
   "source": [
    "Motivation: Example for CTMNRE"
   ]
  },
  {
   "cell_type": "code",
   "execution_count": 95,
   "id": "626df83a",
   "metadata": {},
   "outputs": [
    {
     "name": "stdout",
     "output_type": "stream",
     "text": [
      "The autoreload extension is already loaded. To reload it, use:\n",
      "  %reload_ext autoreload\n",
      "The line_profiler extension is already loaded. To reload it, use:\n",
      "  %reload_ext line_profiler\n"
     ]
    }
   ],
   "source": [
    "# Makes it easier to debug\n",
    "%load_ext autoreload\n",
    "%load_ext line_profiler\n",
    "%autoreload 2"
   ]
  },
  {
   "cell_type": "code",
   "execution_count": 96,
   "id": "1d100b48",
   "metadata": {},
   "outputs": [],
   "source": [
    "import torch\n",
    "import swyft\n",
    "import pylab as plt\n",
    "import numpy as np\n",
    "import scipy\n",
    "import swyft"
   ]
  },
  {
   "cell_type": "markdown",
   "id": "811f0081",
   "metadata": {},
   "source": [
    "## Helper functions\n",
    "\n",
    "### Statistics"
   ]
  },
  {
   "cell_type": "code",
   "execution_count": 97,
   "id": "e8714715",
   "metadata": {},
   "outputs": [],
   "source": [
    "def logdiffcdf(dist, a, b):\n",
    "    if dist.cdf(b) < 0.5:\n",
    "        return np.log(dist.cdf(b) - dist.cdf(a))\n",
    "    else:\n",
    "        return np.log(dist.sf(a) - dist.sf(b))\n",
    "    \n",
    "def logdiffcdf(dist, a, b):\n",
    "    return np.where(dist.cdf(b) < 0.5,\n",
    "        np.log(dist.cdf(b) - dist.cdf(a)),\n",
    "        np.log(dist.sf(a) - dist.sf(b))\n",
    "            )\n",
    "\n",
    "def trunc_sample(dist, r, size = None, return_logdiffcdf = True):\n",
    "    r = np.array(r)\n",
    "    c = dist.cdf(r)\n",
    "    s = scipy.stats.uniform(loc = c[...,0], scale = c[...,1] - c[...,0]).rvs(size=size)\n",
    "    z = np.array(dist.ppf(s))\n",
    "    if not return_logdiffcdf:\n",
    "        return z\n",
    "    else:\n",
    "        l = logdiffcdf(dist, r[...,0], r[...,1])\n",
    "        return z, l\n",
    "    \n",
    "def get_trunc_draws(Ntrials, truncs):\n",
    "    draws = [trunc_prior(truncs) for _ in range(Ntrials)]\n",
    "    weights = np.array([v['weight'] for v in draws])\n",
    "    mask = weights/weights.max() > np.random.rand(len(weights))\n",
    "    return [draws[i] for i in np.arange(Ntrials)[mask]]"
   ]
  },
  {
   "cell_type": "markdown",
   "id": "b2345310",
   "metadata": {},
   "source": [
    "### SWYFT Modeling"
   ]
  },
  {
   "cell_type": "code",
   "execution_count": 98,
   "id": "6600e808",
   "metadata": {},
   "outputs": [],
   "source": [
    "from swyft.utils.array import array_to_tensor\n",
    "class SimpleDataset(torch.utils.data.Dataset):                                                                                                                                                 \n",
    "    \"\"\"Dataset which merely keeps track of observation and parameter data in one place\"\"\"                                                                                                      \n",
    "                                                                                                                                                                                               \n",
    "    def __init__(self, observations, us, vs) -> None:                                                                                                                   \n",
    "        \"\"\"                                                                                                                                                                                    \n",
    "        Args:                                                                                                                                                                                  \n",
    "            observations: dictionary of batched obserations                                                                                                                                    \n",
    "            us: array or tensor of unit cube parameters                                                                                                                                        \n",
    "            vs: array or tensor of natural parameters                                                                                                                                          \n",
    "        \"\"\"                                                                                                                                                                                    \n",
    "        super().__init__()                                                                                                                                                                     \n",
    "        b = us.shape[0]                                                                                                                                                                        \n",
    "        assert (                                                                                                                                                                               \n",
    "            vs.shape[0] == b                                                                                                                                                                   \n",
    "        ), \"the us and vs arrays do not have the same batch dimension\"                                                                                                                         \n",
    "        assert all(                                                                                                                                                                            \n",
    "            [b == x.shape[0] for x in observations.values()]                                                                                                                                   \n",
    "        ), \"the observation values do not have the same batch dimension as us and vs\"                                                                                                          \n",
    "        self.observations = observations                                                                                                                                                       \n",
    "        self.us = us                                                                                                                                                                           \n",
    "        self.vs = vs                                                                                                                                                                           \n",
    "        self._len = b           \n",
    "        \n",
    "    def pnames(self):\n",
    "        return None\n",
    "    \n",
    "    def prior(self):\n",
    "        return None\n",
    "    \n",
    "    def bound(self):\n",
    "        return None\n",
    "    \n",
    "    @property\n",
    "    def requires_sim(self):\n",
    "        return False\n",
    "                                                                                                                                                                                               \n",
    "    def __getitem__(self, idx):\n",
    "        return (                                                                                                                                                                               \n",
    "            {                                                                                                                                                                                  \n",
    "                key: array_to_tensor(val[idx, ...])                                                                                                                                            \n",
    "                for key, val in self.observations.items()                                                                                                                                      \n",
    "            },                                                                                                                                                                                 \n",
    "            array_to_tensor(self.us[idx, ...]),                                                                                                                                                \n",
    "            array_to_tensor(self.vs[idx, ...]),                                                                                                                                                \n",
    "        )                                                                                                                                                                                      \n",
    "                                                                                                                                                                                               \n",
    "    def __len__(self) -> int:                                                                                                                                                                  \n",
    "        return self._len"
   ]
  },
  {
   "cell_type": "code",
   "execution_count": 99,
   "id": "4a60a202",
   "metadata": {},
   "outputs": [],
   "source": [
    "class DistributionRatio(torch.nn.Module):\n",
    "    def __init__(self, dist, *shape):\n",
    "        super().__init__()\n",
    "        self.dist = dist\n",
    "        self.log_prefactor = torch.nn.Parameter(torch.zeros(*shape))\n",
    "        self.log_scale = torch.nn.Parameter(torch.zeros(*shape))\n",
    "        \n",
    "    def bounds(self, m, epsilon):\n",
    "        scale = torch.exp(self.log_scale)\n",
    "        r0 = torch.zeros_like(m) + epsilon\n",
    "        r1 = torch.ones_like(m) - epsilon\n",
    "        b0 = self.dist(m, scale).icdf(r0)\n",
    "        b1 = self.dist(m, scale).icdf(r1)\n",
    "        return torch.vstack([b0, b1])\n",
    "    \n",
    "    def forward(self, z, m, return_bounds = None):\n",
    "        if return_bounds:\n",
    "            return self.bounds(m, return_bounds)\n",
    "        scale = torch.exp(self.log_scale)\n",
    "        log_ratio = self.dist(m, scale).log_prob(z) + self.log_prefactor\n",
    "        return log_ratio"
   ]
  },
  {
   "cell_type": "code",
   "execution_count": 100,
   "id": "361ff137",
   "metadata": {},
   "outputs": [],
   "source": [
    "class View:\n",
    "    def __init__(self, **shapes):\n",
    "        self._shapes = shapes\n",
    "        self._i0 = {}\n",
    "        self._i1 = {}\n",
    "        \n",
    "        N = 0\n",
    "        for key, value in shapes.items():\n",
    "            n = np.prod(value)\n",
    "            self._i0[key] = N\n",
    "            self._i1[key] = N + n\n",
    "            N += n\n",
    "        \n",
    "        self._N = N\n",
    "        \n",
    "    def __len__(self):\n",
    "        return self._N\n",
    "\n",
    "class Viewer:\n",
    "    def __init__(self, view, u):\n",
    "        self._view = view\n",
    "        self._u = u\n",
    "        \n",
    "    def __getattr__(self, key):\n",
    "        ucut = self._u[..., self._view._i0[key]:self._view._i1[key]]\n",
    "        if type(ucut) == np.ndarray:\n",
    "            return ucut.reshape(*self._u.shape[:-1], *self._view._shapes[key])  # TODO Redunadnt\n",
    "        else:\n",
    "            return ucut.reshape(*self._u.shape[:-1], *self._view._shapes[key])\n",
    "    \n",
    "    def __setattr__(self, key, value):\n",
    "        if key[:1] == '_':\n",
    "            object.__setattr__(self, key, value)\n",
    "        else:\n",
    "            if type(value) == np.ndarray:\n",
    "                value_shaped = value.reshape(*self._u.shape[:-1], np.prod(self._view._shapes[key]))  # TODO Redundant\n",
    "            else:\n",
    "                value_shaped = value.reshape(*self._u.shape[:-1], np.prod(self._view._shapes[key]))\n",
    "            self._u[..., self._view._i0[key]:self._view._i1[key]] = value_shaped\n",
    "    \n",
    "    def __len__(self):\n",
    "        return self._view._N\n",
    "    \n",
    "    def __call__(self):\n",
    "        return self._u"
   ]
  },
  {
   "cell_type": "markdown",
   "id": "1156bb2b",
   "metadata": {},
   "source": [
    "## Model definitions"
   ]
  },
  {
   "cell_type": "code",
   "execution_count": 101,
   "id": "044d8d17",
   "metadata": {},
   "outputs": [],
   "source": [
    "N = 50 # Number of data bins\n",
    "SIGMA = 0.01  # Measurement uncertainty"
   ]
  },
  {
   "cell_type": "code",
   "execution_count": 121,
   "id": "42ce8167",
   "metadata": {},
   "outputs": [],
   "source": [
    "def prior():\n",
    "    beta = scipy.stats.lognorm(1, 0.01).rvs()\n",
    "    z = scipy.stats.norm(0, beta).rvs((N,))\n",
    "    return dict(beta = beta, z = z)\n",
    "\n",
    "def trunc_prior(truncs):\n",
    "    beta, log_prob_beta = trunc_sample(scipy.stats.lognorm(1, 0, 1), truncs['beta'])\n",
    "    z, log_prob_z = trunc_sample(scipy.stats.norm(0, beta), truncs['z'])\n",
    "    weight = np.exp(log_prob_z.sum())\n",
    "    return dict(beta = beta, z = z, weight = weight)"
   ]
  },
  {
   "cell_type": "code",
   "execution_count": 133,
   "id": "b454648c",
   "metadata": {},
   "outputs": [],
   "source": [
    "view = View(z = (N,), b = (1,))\n",
    "\n",
    "def model(v):\n",
    "    vv = Viewer(view, v)\n",
    "    x = np.exp(vv.z/10)\n",
    "    return dict(x=x)\n",
    "    \n",
    "# Noise model\n",
    "def noise(sim, v):\n",
    "    noise = np.random.randn(N)*SIGMA\n",
    "    return dict(x = sim['x'] + noise)\n",
    "\n",
    "def transform(u):\n",
    "    return u\n",
    "    \n",
    "NPAR = N +1"
   ]
  },
  {
   "cell_type": "markdown",
   "id": "3191a026",
   "metadata": {},
   "source": [
    "## Network"
   ]
  },
  {
   "cell_type": "code",
   "execution_count": 134,
   "id": "89e0a82c",
   "metadata": {},
   "outputs": [],
   "source": [
    "class RatioSampler(swyft.Module):\n",
    "    def __init__(self, *args, **kwargs):\n",
    "        super().__init__(*args, **kwargs)\n",
    "        self.rb = DistributionRatio(torch.distributions.LogNormal, (1,))\n",
    "        self.rz = DistributionRatio(torch.distributions.Normal, (N,))\n",
    "        self.get_mb = torch.nn.Sequential(\n",
    "            torch.nn.Linear(N, 32),\n",
    "            torch.nn.ReLU(),\n",
    "            torch.nn.Linear(32, 256),\n",
    "            torch.nn.ReLU(),\n",
    "            torch.nn.Linear(256, 128),\n",
    "            torch.nn.ReLU(),\n",
    "            torch.nn.Linear(128, 1),\n",
    "            torch.nn.Sigmoid()\n",
    "        )\n",
    "        self.get_mz = torch.nn.Sequential(\n",
    "            torch.nn.Linear(1, 128),\n",
    "            torch.nn.ReLU(),\n",
    "            torch.nn.Linear(128, 1),\n",
    "        )\n",
    "        self.bn = torch.nn.BatchNorm1d(N, momentum = 0.01, affine = False, eps = 1.)\n",
    "    \n",
    "    def embedding(self, x):\n",
    "        return x\n",
    "\n",
    "    def forward(self, x, u, return_bounds = None):\n",
    "        uv = Viewer(view, u)\n",
    "        \n",
    "        f = self.embedding(x)\n",
    "        f_sorted = torch.sort(f, dim=-1)[0]\n",
    "        f_sorted = self.bn(f_sorted)\n",
    "        \n",
    "        mb = self.get_mb(f_sorted)\n",
    "        rb = self.rb(uv.b, mb, return_bounds = return_bounds)\n",
    "        \n",
    "        mz = self.get_mz(f.unsqueeze(-1)).squeeze(-1)\n",
    "        rz = self.rz(uv.z, mz, return_bounds = return_bounds)\n",
    "        \n",
    "        r = torch.hstack([rz, rb])\n",
    "        return r"
   ]
  },
  {
   "cell_type": "markdown",
   "id": "cf0bf6cb",
   "metadata": {},
   "source": [
    "## Analysis"
   ]
  },
  {
   "cell_type": "code",
   "execution_count": 135,
   "id": "411cbc15",
   "metadata": {},
   "outputs": [],
   "source": [
    "def get_prior_samples():\n",
    "    s = np.zeros((1000, NPAR))\n",
    "    vu = Viewer(view, s)\n",
    "    for i in range(len(s)):\n",
    "        p = prior()\n",
    "        vu.b[i] = p['beta']\n",
    "        vu.z[i] = p['z']\n",
    "    return s\n",
    "\n",
    "s = get_prior_samples()"
   ]
  },
  {
   "cell_type": "code",
   "execution_count": 136,
   "id": "4b67acf5",
   "metadata": {},
   "outputs": [],
   "source": [
    "# Set dataset\n",
    "\n",
    "observations = {\"x\": np.array([noise(model(s[i]), s[i])['x'] for i in range(len(s))])}\n",
    "dataset = SimpleDataset(observations, s, s)"
   ]
  },
  {
   "cell_type": "code",
   "execution_count": 147,
   "id": "3195f2b0",
   "metadata": {},
   "outputs": [
    {
     "name": "stdout",
     "output_type": "stream",
     "text": [
      "beta =  5.058680057525635\n"
     ]
    },
    {
     "data": {
      "image/png": "[encoded data removed]",
      "text/plain": [
       "<Figure size 432x288 with 1 Axes>"
      ]
     },
     "metadata": {
      "needs_background": "light"
     },
     "output_type": "display_data"
    }
   ],
   "source": [
    "# Pick some reference example\n",
    "\n",
    "I = 1\n",
    "x0, u0, _ = dataset[I:I+1]\n",
    "x0 = x0['x'].cuda()\n",
    "u0 = u0.cuda()\n",
    "\n",
    "plt.plot(x0.cpu().T)\n",
    "print(\"beta = \", u0[-1][-1].item())"
   ]
  },
  {
   "cell_type": "code",
   "execution_count": 148,
   "id": "c3ff0bff",
   "metadata": {},
   "outputs": [],
   "source": [
    "# Generate posterior estimator\n",
    "\n",
    "post = swyft.Posteriors(dataset)\n",
    "partition = range(NPAR)\n",
    "post.add(partition, device='cuda', head_args = dict(online_norm = False), tail = RatioSampler)"
   ]
  },
  {
   "cell_type": "code",
   "execution_count": 149,
   "id": "f31e07e3",
   "metadata": {},
   "outputs": [
    {
     "name": "stdout",
     "output_type": "stream",
     "text": [
      "Training: lr=0.0025, Epoch=100, VL=47.83, TL=49.31\n"
     ]
    }
   ],
   "source": [
    "# train!\n",
    "\n",
    "post.train(partition, max_epochs = 100, scheduler_args = dict(patience = 1, factor = 0.5), early_stopping_patience = 5, \n",
    "           batch_size = 64, optimizer_args = dict(lr = 0.01))"
   ]
  },
  {
   "cell_type": "code",
   "execution_count": 150,
   "id": "9b8a42ef",
   "metadata": {},
   "outputs": [],
   "source": [
    "# Extract bounds from the tail\n",
    "\n",
    "tail = list(post._ratios.items())[0][1].tail\n",
    "b = tail.forward(x0, u0, return_bounds = 0.001)\n",
    "z_trunc = b[:, :N].cpu().detach().numpy().T"
   ]
  },
  {
   "cell_type": "code",
   "execution_count": 151,
   "id": "7315cf75",
   "metadata": {},
   "outputs": [
    {
     "data": {
      "text/plain": [
       "[<matplotlib.lines.Line2D at 0x15234cd445c0>]"
      ]
     },
     "execution_count": 151,
     "metadata": {},
     "output_type": "execute_result"
    },
    {
     "data": {
      "image/png": "[encoded data removed]",
      "text/plain": [
       "<Figure size 432x288 with 1 Axes>"
      ]
     },
     "metadata": {
      "needs_background": "light"
     },
     "output_type": "display_data"
    }
   ],
   "source": [
    "# And plot!\n",
    "\n",
    "plt.plot(z_trunc[:,0], \"k:\")\n",
    "plt.plot(z_trunc[:,1], \"k:\")\n",
    "plt.plot(x0.cpu().T)"
   ]
  },
  {
   "cell_type": "code",
   "execution_count": 154,
   "id": "decfac99",
   "metadata": {},
   "outputs": [
    {
     "name": "stderr",
     "output_type": "stream",
     "text": [
      "/home/weniger/miniconda3/lib/python3.7/site-packages/ipykernel_launcher.py:9: RuntimeWarning: divide by zero encountered in log\n",
      "  if __name__ == '__main__':\n",
      "/home/weniger/miniconda3/lib/python3.7/site-packages/ipykernel_launcher.py:10: RuntimeWarning: divide by zero encountered in log\n",
      "  # Remove the CWD from sys.path while we load stuff.\n"
     ]
    }
   ],
   "source": [
    "# Get samples from truncated prior\n",
    "\n",
    "trunc = dict(beta = [0.01, 10.55], z = z_trunc)\n",
    "draws = get_trunc_draws(10000, trunc)\n",
    "betas = np.array([v['beta'] for v in draws])"
   ]
  },
  {
   "cell_type": "code",
   "execution_count": 155,
   "id": "bf9c0685",
   "metadata": {},
   "outputs": [
    {
     "data": {
      "text/plain": [
       "<matplotlib.lines.Line2D at 0x15234c804ac8>"
      ]
     },
     "execution_count": 155,
     "metadata": {},
     "output_type": "execute_result"
    },
    {
     "data": {
      "image/png": "[encoded data removed]",
      "text/plain": [
       "<Figure size 432x288 with 1 Axes>"
      ]
     },
     "metadata": {
      "needs_background": "light"
     },
     "output_type": "display_data"
    }
   ],
   "source": [
    "plt.hist(betas, bins = 10);\n",
    "plt.axvline(u0[-1][-1], color='r')"
   ]
  },
  {
   "cell_type": "code",
   "execution_count": null,
   "id": "48d46c38",
   "metadata": {},
   "outputs": [],
   "source": []
  }
 ],
 "metadata": {
  "kernelspec": {
   "display_name": "Python 3",
   "language": "python",
   "name": "python3"
  },
  "language_info": {
   "codemirror_mode": {
    "name": "ipython",
    "version": 3
   },
   "file_extension": ".py",
   "mimetype": "text/x-python",
   "name": "python",
   "nbconvert_exporter": "python",
   "pygments_lexer": "ipython3",
   "version": "3.8.2"
  }
 },
 "nbformat": 4,
 "nbformat_minor": 5
}
