{
 "cells": [
  {
   "cell_type": "code",
   "execution_count": 1,
   "id": "3822aac4-d5eb-4979-b237-70c80d2489e8",
   "metadata": {},
   "outputs": [],
   "source": [
    "# Makes it easier to debug\n",
    "%load_ext autoreload\n",
    "#%load_ext line_profiler\n",
    "%autoreload 2"
   ]
  },
  {
   "cell_type": "code",
   "execution_count": 7,
   "id": "0297c907",
   "metadata": {},
   "outputs": [],
   "source": [
    "import pylab as plt\n",
    "import numpy as np\n",
    "import torch\n",
    "import torch.nn as nn\n",
    "import typing as tp\n",
    "from torch.nn import functional as F\n",
    "from fft_conv_pytorch import FFTConv2d\n",
    "\n",
    "from pyrofit.utils import pad_dims\n",
    "from pyrofit.lensing.utils import get_meshgrid\n",
    "from pyrofit.lensing.lenses import SPLELens\n",
    "from pyrofit.lensing.sources import AnalyticSource\n",
    "from pyrofit.utils.torchutils import unravel_index\n",
    "from pyrofit.utils import kNN\n",
    "\n",
    "import swyft\n",
    "from swyft.lightning.components import (\n",
    "    RatioEstimatorGaussian1d, MeanStd, SimpleDataset, subsample_posterior,\n",
    "    get_1d_rect_bounds, append_randomized, valmap, SwyftModel, persist_to_file, \n",
    "    equalize_tensors, SwyftTrainer, SampleStore, dictstoremap, DictDataset, SwyftModule, SwyftDataModule, RatioSamples,\n",
    "    RatioSampleStore\n",
    ")"
   ]
  },
  {
   "cell_type": "markdown",
   "id": "e08760c6-3057-415c-8775-4f4c8cdeb8e5",
   "metadata": {
    "tags": []
   },
   "source": [
    "## Physics model"
   ]
  },
  {
   "cell_type": "code",
   "execution_count": 8,
   "id": "7ca2b302",
   "metadata": {},
   "outputs": [],
   "source": [
    "NPIX = 50\n",
    "CHANNELS = [0.5, 1, 2, 4, 8, 16, 32]\n",
    "SIGMA = 0.02\n",
    "KNN = 3"
   ]
  },
  {
   "cell_type": "code",
   "execution_count": 9,
   "id": "dd1acf0b",
   "metadata": {},
   "outputs": [],
   "source": [
    "class RandomSource:\n",
    "    def __init__(self, npix =  NPIX, channels = CHANNELS, K = 129):\n",
    "        self._K = K\n",
    "        self._channels = channels\n",
    "        self._npix = npix\n",
    "        \n",
    "        self._kernels = self._get_kernels(self._K, self._channels)\n",
    "        self._conv = self._get_kernel_conv(self._kernels)\n",
    "        \n",
    "    @staticmethod\n",
    "    def _get_kernels(K, channels):\n",
    "        C = len(channels)\n",
    "        kernel = np.zeros((C, C, K, K))\n",
    "        x = np.linspace(-64, 64, K)\n",
    "        X, Y = np.meshgrid(x, x)\n",
    "        R = (X**2 + Y**2)**0.5\n",
    "\n",
    "        for i, s in enumerate(channels):\n",
    "            kern = np.exp(-0.5*R**2/s**2)\n",
    "            kern /= (kern**2).sum()**0.5\n",
    "            kernel[i, i] = kern\n",
    "\n",
    "        return kernel\n",
    "\n",
    "    @staticmethod\n",
    "    def _get_kernel_conv(kernel):\n",
    "        C = len(kernel)\n",
    "        K = len(kernel[0][0])\n",
    "        gaussian_weights = nn.Parameter(torch.tensor(kernel).float().cuda())\n",
    "        conv = FFTConv2d(in_channels = C, out_channels = C, kernel_size=K, bias=False, padding = int(K/2))\n",
    "        with torch.no_grad():\n",
    "            conv.weight = gaussian_weights\n",
    "        return conv\n",
    "\n",
    "    def _get_source_image(self, seeds, A=0.5, B = 0.3, C = 0.55, D = 4.):\n",
    "        scales = A*(np.array(self._channels)/max(self._channels))**B\n",
    "        seeds = seeds * torch.tensor(scales).cuda().float().unsqueeze(1).unsqueeze(2)\n",
    "        x = torch.linspace(-1, 1, self._npix).to(seeds.device)\n",
    "        X, Y = torch.meshgrid([x, x])\n",
    "        R = (X**2 + Y**2)**0.5\n",
    "        imgc = self._conv(seeds.unsqueeze(0)).squeeze(0).squeeze(0)\n",
    "        img = imgc.sum(axis=-3)\n",
    "        img = torch.exp(img)*(1/(1+(R/C)**D))\n",
    "        return img\n",
    "\n",
    "    def __call__(self):\n",
    "        C = len(self._channels)\n",
    "        return self._get_source_image(torch.randn(C, self._npix, self._npix).cuda()).detach()"
   ]
  },
  {
   "cell_type": "code",
   "execution_count": 10,
   "id": "f9cc9449",
   "metadata": {},
   "outputs": [],
   "source": [
    "class ArraySource(AnalyticSource):\n",
    "    def __init__(self, image_array, x: float = 0., y: float = 0., scale: float = 1., peak_intensity: float = 1.,\n",
    "                 origin: tp.Literal['lower', 'upper'] = 'lower', aspect=None, device=None):\n",
    "        super().__init__(device=device)\n",
    "\n",
    "        self.x, self.y = x, y\n",
    "        self.peak_intensity = peak_intensity\n",
    "\n",
    "        self.image = self._image(image_array, peak_intensity, device)\n",
    "\n",
    "        if aspect is None:\n",
    "            aspect = self.image.shape[-2] / self.image.shape[-1]\n",
    "        self.semi_scale = torch.tensor([scale, (-1 if origin == 'lower' else 1) * aspect * scale], device=device) / 2\n",
    "\n",
    "    def _image(self, image_array, peak_intensity=None, device=None) -> torch.Tensor:\n",
    "        image = torch.tensor(image_array)\n",
    "        if image.shape[-1] in (1, 3, 4):\n",
    "            image = torch.movedim(image, -1, -3)\n",
    "        if peak_intensity is not None:\n",
    "            image = image.to(torch.get_default_dtype())\n",
    "            image = image / torch.amax(image, (-2, -1), keepdim=True) * peak_intensity\n",
    "        self.rollback_dims = image.ndim\n",
    "        return pad_dims(image, ndim=4)[0].to(device=device, dtype=torch.get_default_dtype())\n",
    "\n",
    "    def flux(self, X, Y):\n",
    "        grid = torch.stack((X - self.x, Y - self.y), dim=-1).reshape(-1, *X.shape[-2:], 2) / self.semi_scale\n",
    "\n",
    "        return F.grid_sample(\n",
    "            self.image.expand(grid.shape[0], *self.image.shape[-3:]),\n",
    "            grid,\n",
    "            align_corners=True\n",
    "        ).reshape(*X.shape[:-2], *self.image.shape[-self.rollback_dims:-2], *X.shape[-2:])"
   ]
  },
  {
   "cell_type": "code",
   "execution_count": 11,
   "id": "de7407bb",
   "metadata": {},
   "outputs": [],
   "source": [
    "def get_kNN_idx(X, Y, Xsrc, Ysrc, k = 1):\n",
    "        \"\"\"Return indices into `Xsrc` and `Ysrc` closest to each point in `psrc`.\"\"\"\n",
    "        P = torch.stack((X, Y), -1).flatten(-3, -2)\n",
    "        Psrc = torch.stack((Xsrc, Ysrc), -1).flatten(-3, -2)\n",
    "        idx = unravel_index(kNN(P, Psrc, k).squeeze(-1), Xsrc.shape[-2:])\n",
    "        idx = torch.reshape(idx, (NPIX, NPIX, k, 2))\n",
    "        return idx"
   ]
  },
  {
   "cell_type": "code",
   "execution_count": 12,
   "id": "5ff75df2-d1e7-4791-91de-9f4711c40ece",
   "metadata": {},
   "outputs": [],
   "source": [
    "def deproject_idx(image, kNN_idx):\n",
    "        \"\"\"Return indices into `Xsrc` and `Ysrc` closest to each point in `psrc`.\"\"\"\n",
    "        k = kNN_idx.shape[-2]\n",
    "        B = image.shape[0]\n",
    "        #print(k, B)\n",
    "        #print(image.shape)\n",
    "        #print(kNN_idx.shape)\n",
    "        # TODO: Need to speed up nested python loops\n",
    "        src_image = torch.stack([torch.stack([image[b, kNN_idx[b, ..., i,0], kNN_idx[b, ..., i,1]] for i in range(k)]) for b in range(B)])\n",
    "        return src_image"
   ]
  },
  {
   "cell_type": "code",
   "execution_count": 23,
   "id": "06bcfcf1",
   "metadata": {},
   "outputs": [],
   "source": [
    "def image_generator(x, y, phi, q, r_ein, slope, src_image):\n",
    "    res = 0.0125*8                      # resolution in arcsec\n",
    "    nx, ny = 50, 50                   # number of pixels\n",
    "    X, Y = get_meshgrid(res, nx, ny)    # grid\n",
    "\n",
    "    # Lens\n",
    "    lens = SPLELens(device='cuda')\n",
    "    lens.XY = X,Y\n",
    "    # Displacement field\n",
    "    alphas = lens(x=x, y=y, phi=phi, q=q, r_ein=r_ein, slope=slope)\n",
    "\n",
    "    # Lensing equation\n",
    "    X_src = X - alphas[..., 0, :, :]\n",
    "    Y_src = Y - alphas[..., 1, :, :]\n",
    "\n",
    "    # Source\n",
    "    source = ArraySource(src_image, peak_intensity = None, scale = 1)\n",
    "\n",
    "    # Lensed source\n",
    "    image = source(X=X_src, Y=Y_src)\n",
    "    \n",
    "    return image, [X, Y, X_src, Y_src]"
   ]
  },
  {
   "cell_type": "markdown",
   "id": "93d83b8b-4b96-4f92-b71b-84ecba33cc68",
   "metadata": {},
   "source": [
    "## Problem-specific analysis components"
   ]
  },
  {
   "cell_type": "code",
   "execution_count": 24,
   "id": "db2c3024-004e-4ad1-8e9a-93999f462752",
   "metadata": {},
   "outputs": [],
   "source": [
    "class Model(SwyftModel):\n",
    "    def slow(self, pars):\n",
    "        torch.cuda.set_device(0)\n",
    "        torch.set_default_tensor_type(torch.cuda.FloatTensor)    \n",
    "        x, y, phi, q, r_ein, slope = pars['z_lens']\n",
    "        slope = 2.0\n",
    "        src_image = pars['src'].cuda()\n",
    "        img, coords = image_generator(x, y, phi, q, r_ein, slope, src_image)\n",
    "        X, Y, Xsrc, Ysrc = coords\n",
    "        kNN_idx = get_kNN_idx(X/5, -Y/5, Xsrc, Ysrc, k = KNN)  # TODO: Need to sort out strange 1/5 and -1/5 factors\n",
    "        torch.set_default_tensor_type(torch.FloatTensor)\n",
    "        return SampleStore(mu = img.cpu(), kNN_idx = kNN_idx.cpu(), X = X.cpu(), Y = Y.cpu(), Xsrc = Xsrc.cpu(), Ysrc = Ysrc.cpu())\n",
    "    \n",
    "    def fast(self, d):\n",
    "        img = d['mu'] + torch.randn_like(d['mu'])*SIGMA\n",
    "        return SampleStore(img=img)\n",
    "    \n",
    "    def prior(self, N, bounds = None):\n",
    "        src_samples = self.prior_src(N, bounds = bounds)\n",
    "        lens_samples = self.prior_lens(N, bounds = bounds)\n",
    "        return SampleStore(**src_samples, **lens_samples)\n",
    "    \n",
    "    # Draw from source prior\n",
    "    def prior_src(self, N, bounds = None):\n",
    "        rnd_src = RandomSource()\n",
    "        src = torch.stack([rnd_src().cpu() for _ in range(N)])\n",
    "        return SampleStore(src=src)\n",
    "\n",
    "    def prior_lens(self, N, bounds = None):\n",
    "        if bounds is not None:\n",
    "            low = bounds['z_lens'].low\n",
    "            high = bounds['z_lens'].high\n",
    "        else:\n",
    "            low =  np.array([-0.2, -0.2, 0, 0.2, 1.0, 1.5])\n",
    "            high = np.array([0.2, 0.2, 1.5, 0.9, 2.0, 2.5])\n",
    "        draw = np.array([np.random.uniform(low=low, high=high) for _ in range(N)])\n",
    "        return SampleStore(z_lens = torch.tensor(draw).float())"
   ]
  },
  {
   "cell_type": "code",
   "execution_count": 25,
   "id": "fb6e5ea0-e5a9-433e-bd10-1f6fa9155e70",
   "metadata": {},
   "outputs": [],
   "source": [
    "m = Model()"
   ]
  },
  {
   "cell_type": "markdown",
   "id": "d2be2f92-d80e-4aa5-9844-302ce3ea11f6",
   "metadata": {},
   "source": [
    "## Definition of target image"
   ]
  },
  {
   "cell_type": "code",
   "execution_count": 26,
   "id": "e978c49f-68a3-4b20-8b37-aa9d03efb351",
   "metadata": {},
   "outputs": [
    {
     "name": "stderr",
     "output_type": "stream",
     "text": [
      "  0%|          | 0/1 [00:00<?, ?it/s]<ipython-input-10-b1f3c8208d15>:16: UserWarning: To copy construct from a tensor, it is recommended to use sourceTensor.clone().detach() or sourceTensor.clone().detach().requires_grad_(True), rather than torch.tensor(sourceTensor).\n",
      "  image = torch.tensor(image_array)\n",
      "/home/weniger/miniconda3/envs/p38/lib/python3.8/site-packages/torch-1.9.0-py3.8-linux-x86_64.egg/torch/_tensor.py:575: UserWarning: floor_divide is deprecated, and will be removed in a future version of pytorch. It currently rounds toward 0 (like the 'trunc' function NOT 'floor'). This results in incorrect rounding for negative values.\n",
      "To keep the current behavior, use torch.div(a, b, rounding_mode='trunc'), or for actual floor division, use torch.div(a, b, rounding_mode='floor'). (Triggered internally at  /pytorch/aten/src/ATen/native/BinaryOps.cpp:467.)\n",
      "  return torch.floor_divide(self, other)\n",
      "100%|██████████| 1/1 [00:00<00:00, 19.52it/s]\n",
      "100%|██████████| 1/1 [00:00<00:00, 4760.84it/s]"
     ]
    },
    {
     "name": "stdout",
     "output_type": "stream",
     "text": [
      "tensor([0.0635, 0.1425, 0.1874, 0.4622, 1.0166, 2.0884], device='cuda:0')\n"
     ]
    },
    {
     "name": "stderr",
     "output_type": "stream",
     "text": [
      "\n"
     ]
    },
    {
     "data": {
      "text/plain": [
       "<matplotlib.colorbar.Colorbar at 0x14cb6fb9a220>"
      ]
     },
     "execution_count": 26,
     "metadata": {},
     "output_type": "execute_result"
    },
    {
     "data": {
      "image/png": "[encoded data removed]",
      "text/plain": [
       "<Figure size 1080x360 with 4 Axes>"
      ]
     },
     "metadata": {
      "needs_background": "light"
     },
     "output_type": "display_data"
    }
   ],
   "source": [
    "s0 = m.sample(1)[0]\n",
    "print(s0['z_lens'])\n",
    "plt.figure(figsize=(15, 5))\n",
    "plt.subplot(1, 2, 1)\n",
    "plt.imshow(s0['img'])\n",
    "plt.colorbar()\n",
    "plt.subplot(1, 2, 2)\n",
    "plt.imshow(s0['src'])\n",
    "plt.colorbar()"
   ]
  },
  {
   "cell_type": "code",
   "execution_count": 31,
   "id": "e0afb416-08aa-4499-8914-2b321d905f90",
   "metadata": {},
   "outputs": [],
   "source": [
    "class LensNetwork(SwyftModule):\n",
    "    def __init__(self):\n",
    "        super().__init__()\n",
    "        self.online_z_score = swyft.networks.OnlineDictStandardizingLayer(dict(img = (50, 50)))\n",
    "        self.CNN = torch.nn.Sequential(\n",
    "            torch.nn.Conv2d(1, 10, 3),\n",
    "            torch.nn.MaxPool2d(2),\n",
    "            torch.nn.Conv2d(10, 20, 3),\n",
    "            torch.nn.MaxPool2d(2),\n",
    "            torch.nn.Conv2d(20, 40, 3),\n",
    "            torch.nn.MaxPool2d(2),\n",
    "            torch.nn.Flatten(),\n",
    "            torch.nn.Linear(640, 128),\n",
    "            torch.nn.ReLU(),\n",
    "            torch.nn.Linear(128, 16),\n",
    "        )\n",
    "        self.ptrans = swyft.networks.ParameterTransform(\n",
    "            6, [(0,), (1,), (2,), (3,), (4,), (5,)], online_z_score=False\n",
    "        )\n",
    "        n_marginals, n_block_parameters = self.ptrans.marginal_block_shape\n",
    "        n_observation_features = 16\n",
    "        self.classifier = swyft.networks.MarginalClassifier(\n",
    "            n_marginals,\n",
    "            n_observation_features + n_block_parameters,\n",
    "            hidden_features=256,\n",
    "            dropout_probability = 0.1,\n",
    "            num_blocks=3,\n",
    "        )\n",
    "        \n",
    "    def forward(self, x, z):\n",
    "        # Digesting x\n",
    "        x = dict(img = x['img'])\n",
    "        x = self.online_z_score(x)['img']\n",
    "        x = self.CNN(x.unsqueeze(1)).squeeze(1)\n",
    "        \n",
    "        # Digesting z\n",
    "        z = self.ptrans(z['z_lens'])\n",
    "        \n",
    "        # Combine!\n",
    "        x, z = equalize_tensors(x, z)\n",
    "        ratios = self.classifier(x, z)\n",
    "        #ratios = ratios.unsqueeze(-1)\n",
    "        #ratios = torch.cat([ratios, z], dim=-1)\n",
    "        w = RatioSamples(z.squeeze(-1), ratios)\n",
    "        return dict(z_lens=w)"
   ]
  },
  {
   "cell_type": "code",
   "execution_count": 32,
   "id": "af8e0902-5093-43e7-8041-3d86084cf4ec",
   "metadata": {},
   "outputs": [],
   "source": [
    "class SourceNetwork(SwyftModule):\n",
    "    def __init__(self):\n",
    "        super().__init__()\n",
    "        self.l = torch.nn.Linear(10, 10)\n",
    "        self.reg1d = RatioEstimatorGaussian1d(momentum = 0.1)\n",
    "        self.L = torch.nn.Linear(2500, 2500)\n",
    "        \n",
    "    def get_img_rec(self, x):\n",
    "        x_img = x['img']\n",
    "        x_kNN_idx = x['kNN_idx']\n",
    "        x_img_rec = deproject_idx(x_img, x_kNN_idx)[:,:,:,:].mean(dim=1)\n",
    "        x_img_rec = self.L(x_img_rec.view(-1, NPIX*NPIX)).view(-1, NPIX, NPIX)*0 + x_img_rec\n",
    "        return x_img_rec\n",
    "    \n",
    "    def forward(self, x, z):\n",
    "        x_img_rec = self.get_img_rec(x)\n",
    "        z_src = z['src']\n",
    "        x_img_rec, z_src = equalize_tensors(x_img_rec, z_src)\n",
    "        ratios = self.reg1d(x_img_rec, z_src)\n",
    "        w = RatioSamples(ratios[...,0], ratios[...,1])\n",
    "        return dict(z_src = w)"
   ]
  },
  {
   "cell_type": "markdown",
   "id": "39dac473-98a3-481e-b9af-b8d30157fda2",
   "metadata": {},
   "source": [
    "# Workflow"
   ]
  },
  {
   "cell_type": "code",
   "execution_count": 33,
   "id": "eb94e0a7-d80e-46d0-82fd-eeb6143b5b81",
   "metadata": {},
   "outputs": [],
   "source": [
    "Ntrain1, R1, ME = 3000, 2, 1\n",
    "tag = 'v4'"
   ]
  },
  {
   "cell_type": "code",
   "execution_count": 34,
   "id": "4979837a-be5f-43ef-8a84-e4752a1c9228",
   "metadata": {
    "tags": []
   },
   "outputs": [
    {
     "name": "stderr",
     "output_type": "stream",
     "text": [
      "  0%|          | 0/50 [00:00<?, ?it/s]<ipython-input-10-b1f3c8208d15>:16: UserWarning: To copy construct from a tensor, it is recommended to use sourceTensor.clone().detach() or sourceTensor.clone().detach().requires_grad_(True), rather than torch.tensor(sourceTensor).\n",
      "  image = torch.tensor(image_array)\n",
      "100%|██████████| 50/50 [00:01<00:00, 38.21it/s]\n",
      "GPU available: True, used: True\n",
      "TPU available: False, using: 0 TPU cores\n",
      "IPU available: False, using: 0 IPUs\n",
      "LOCAL_RANK: 0 - CUDA_VISIBLE_DEVICES: [0]\n",
      "\n",
      "  | Name           | Type                         | Params\n",
      "----------------------------------------------------------------\n",
      "0 | online_z_score | OnlineDictStandardizingLayer | 0     \n",
      "1 | CNN            | Sequential                   | 93.3 K\n",
      "2 | ptrans         | ParameterTransform           | 0     \n",
      "3 | classifier     | MarginalClassifier           | 2.4 M \n",
      "----------------------------------------------------------------\n",
      "2.5 M     Trainable params\n",
      "0         Non-trainable params\n",
      "2.5 M     Total params\n",
      "10.038    Total estimated model params size (MB)\n"
     ]
    },
    {
     "data": {
      "application/vnd.jupyter.widget-view+json": {
       "model_id": "",
       "version_major": 2,
       "version_minor": 0
      },
      "text/plain": [
       "Validation sanity check: 0it [00:00, ?it/s]"
      ]
     },
     "metadata": {},
     "output_type": "display_data"
    },
    {
     "data": {
      "application/vnd.jupyter.widget-view+json": {
       "model_id": "ad5f8d1bad824c7186c2859dcffeaf59",
       "version_major": 2,
       "version_minor": 0
      },
      "text/plain": [
       "Training: 0it [00:00, ?it/s]"
      ]
     },
     "metadata": {},
     "output_type": "display_data"
    },
    {
     "data": {
      "application/vnd.jupyter.widget-view+json": {
       "model_id": "",
       "version_major": 2,
       "version_minor": 0
      },
      "text/plain": [
       "Validating: 0it [00:00, ?it/s]"
      ]
     },
     "metadata": {},
     "output_type": "display_data"
    },
    {
     "name": "stderr",
     "output_type": "stream",
     "text": [
      "GPU available: True, used: True\n",
      "TPU available: False, using: 0 TPU cores\n",
      "IPU available: False, using: 0 IPUs\n",
      "LOCAL_RANK: 0 - CUDA_VISIBLE_DEVICES: [0]\n",
      "\n",
      "  | Name  | Type                     | Params\n",
      "---------------------------------------------------\n",
      "0 | l     | Linear                   | 110   \n",
      "1 | reg1d | RatioEstimatorGaussian1d | 0     \n",
      "2 | L     | Linear                   | 6.3 M \n",
      "---------------------------------------------------\n",
      "6.3 M     Trainable params\n",
      "0         Non-trainable params\n",
      "6.3 M     Total params\n",
      "25.010    Total estimated model params size (MB)\n"
     ]
    },
    {
     "data": {
      "application/vnd.jupyter.widget-view+json": {
       "model_id": "",
       "version_major": 2,
       "version_minor": 0
      },
      "text/plain": [
       "Validation sanity check: 0it [00:00, ?it/s]"
      ]
     },
     "metadata": {},
     "output_type": "display_data"
    },
    {
     "data": {
      "application/vnd.jupyter.widget-view+json": {
       "model_id": "855fb0799a3e4adaa76cf56b704bcf4f",
       "version_major": 2,
       "version_minor": 0
      },
      "text/plain": [
       "Training: 0it [00:00, ?it/s]"
      ]
     },
     "metadata": {},
     "output_type": "display_data"
    },
    {
     "data": {
      "application/vnd.jupyter.widget-view+json": {
       "model_id": "",
       "version_major": 2,
       "version_minor": 0
      },
      "text/plain": [
       "Validating: 0it [00:00, ?it/s]"
      ]
     },
     "metadata": {},
     "output_type": "display_data"
    },
    {
     "data": {
      "application/vnd.jupyter.widget-view+json": {
       "model_id": "",
       "version_major": 2,
       "version_minor": 0
      },
      "text/plain": [
       "Validating: 0it [00:00, ?it/s]"
      ]
     },
     "metadata": {},
     "output_type": "display_data"
    },
    {
     "data": {
      "application/vnd.jupyter.widget-view+json": {
       "model_id": "",
       "version_major": 2,
       "version_minor": 0
      },
      "text/plain": [
       "Validating: 0it [00:00, ?it/s]"
      ]
     },
     "metadata": {},
     "output_type": "display_data"
    },
    {
     "name": "stderr",
     "output_type": "stream",
     "text": [
      "LOCAL_RANK: 0 - CUDA_VISIBLE_DEVICES: [0]\n"
     ]
    },
    {
     "data": {
      "application/vnd.jupyter.widget-view+json": {
       "model_id": "2fc8f26a97c44d33a54dd22100e69a72",
       "version_major": 2,
       "version_minor": 0
      },
      "text/plain": [
       "Predicting: 4it [00:00, ?it/s]"
      ]
     },
     "metadata": {},
     "output_type": "display_data"
    },
    {
     "name": "stderr",
     "output_type": "stream",
     "text": [
      "100%|██████████| 100/100 [00:02<00:00, 37.51it/s]\n",
      "LOCAL_RANK: 0 - CUDA_VISIBLE_DEVICES: [0]\n"
     ]
    },
    {
     "data": {
      "application/vnd.jupyter.widget-view+json": {
       "model_id": "7ef41bf7d5b445d68f3b8d1d4ce42238",
       "version_major": 2,
       "version_minor": 0
      },
      "text/plain": [
       "Predicting: 4it [00:00, ?it/s]"
      ]
     },
     "metadata": {},
     "output_type": "display_data"
    },
    {
     "name": "stderr",
     "output_type": "stream",
     "text": [
      "100%|██████████| 50/50 [00:01<00:00, 37.52it/s]\n",
      "GPU available: True, used: True\n",
      "TPU available: False, using: 0 TPU cores\n",
      "IPU available: False, using: 0 IPUs\n",
      "LOCAL_RANK: 0 - CUDA_VISIBLE_DEVICES: [0]\n",
      "\n",
      "  | Name           | Type                         | Params\n",
      "----------------------------------------------------------------\n",
      "0 | online_z_score | OnlineDictStandardizingLayer | 0     \n",
      "1 | CNN            | Sequential                   | 93.3 K\n",
      "2 | ptrans         | ParameterTransform           | 0     \n",
      "3 | classifier     | MarginalClassifier           | 2.4 M \n",
      "----------------------------------------------------------------\n",
      "2.5 M     Trainable params\n",
      "0         Non-trainable params\n",
      "2.5 M     Total params\n",
      "10.038    Total estimated model params size (MB)\n"
     ]
    },
    {
     "data": {
      "application/vnd.jupyter.widget-view+json": {
       "model_id": "",
       "version_major": 2,
       "version_minor": 0
      },
      "text/plain": [
       "Validation sanity check: 0it [00:00, ?it/s]"
      ]
     },
     "metadata": {},
     "output_type": "display_data"
    },
    {
     "data": {
      "application/vnd.jupyter.widget-view+json": {
       "model_id": "d22fd96ec98c4219828fc540efd3f5e2",
       "version_major": 2,
       "version_minor": 0
      },
      "text/plain": [
       "Training: 0it [00:00, ?it/s]"
      ]
     },
     "metadata": {},
     "output_type": "display_data"
    },
    {
     "data": {
      "application/vnd.jupyter.widget-view+json": {
       "model_id": "",
       "version_major": 2,
       "version_minor": 0
      },
      "text/plain": [
       "Validating: 0it [00:00, ?it/s]"
      ]
     },
     "metadata": {},
     "output_type": "display_data"
    },
    {
     "name": "stderr",
     "output_type": "stream",
     "text": [
      "GPU available: True, used: True\n",
      "TPU available: False, using: 0 TPU cores\n",
      "IPU available: False, using: 0 IPUs\n",
      "LOCAL_RANK: 0 - CUDA_VISIBLE_DEVICES: [0]\n",
      "\n",
      "  | Name  | Type                     | Params\n",
      "---------------------------------------------------\n",
      "0 | l     | Linear                   | 110   \n",
      "1 | reg1d | RatioEstimatorGaussian1d | 0     \n",
      "2 | L     | Linear                   | 6.3 M \n",
      "---------------------------------------------------\n",
      "6.3 M     Trainable params\n",
      "0         Non-trainable params\n",
      "6.3 M     Total params\n",
      "25.010    Total estimated model params size (MB)\n"
     ]
    },
    {
     "data": {
      "application/vnd.jupyter.widget-view+json": {
       "model_id": "",
       "version_major": 2,
       "version_minor": 0
      },
      "text/plain": [
       "Validation sanity check: 0it [00:00, ?it/s]"
      ]
     },
     "metadata": {},
     "output_type": "display_data"
    },
    {
     "data": {
      "application/vnd.jupyter.widget-view+json": {
       "model_id": "e52a2e1a9e584585b2af1b1346625ff2",
       "version_major": 2,
       "version_minor": 0
      },
      "text/plain": [
       "Training: 0it [00:00, ?it/s]"
      ]
     },
     "metadata": {},
     "output_type": "display_data"
    },
    {
     "data": {
      "application/vnd.jupyter.widget-view+json": {
       "model_id": "",
       "version_major": 2,
       "version_minor": 0
      },
      "text/plain": [
       "Validating: 0it [00:00, ?it/s]"
      ]
     },
     "metadata": {},
     "output_type": "display_data"
    },
    {
     "data": {
      "application/vnd.jupyter.widget-view+json": {
       "model_id": "",
       "version_major": 2,
       "version_minor": 0
      },
      "text/plain": [
       "Validating: 0it [00:00, ?it/s]"
      ]
     },
     "metadata": {},
     "output_type": "display_data"
    },
    {
     "data": {
      "application/vnd.jupyter.widget-view+json": {
       "model_id": "",
       "version_major": 2,
       "version_minor": 0
      },
      "text/plain": [
       "Validating: 0it [00:00, ?it/s]"
      ]
     },
     "metadata": {},
     "output_type": "display_data"
    },
    {
     "name": "stderr",
     "output_type": "stream",
     "text": [
      "LOCAL_RANK: 0 - CUDA_VISIBLE_DEVICES: [0]\n"
     ]
    },
    {
     "data": {
      "application/vnd.jupyter.widget-view+json": {
       "model_id": "dccad2e94317450d8657a6711791dcd9",
       "version_major": 2,
       "version_minor": 0
      },
      "text/plain": [
       "Predicting: 4it [00:00, ?it/s]"
      ]
     },
     "metadata": {},
     "output_type": "display_data"
    },
    {
     "name": "stderr",
     "output_type": "stream",
     "text": [
      " 71%|███████   | 71/100 [00:01<00:00, 37.64it/s]\n"
     ]
    },
    {
     "ename": "KeyboardInterrupt",
     "evalue": "",
     "output_type": "error",
     "traceback": [
      "\u001b[0;31m---------------------------------------------------------------------------\u001b[0m",
      "\u001b[0;31mKeyboardInterrupt\u001b[0m                         Traceback (most recent call last)",
      "\u001b[0;32m<ipython-input-34-7af3df876a12>\u001b[0m in \u001b[0;36m<module>\u001b[0;34m\u001b[0m\n\u001b[1;32m     31\u001b[0m \u001b[0;34m\u001b[0m\u001b[0m\n\u001b[1;32m     32\u001b[0m     \u001b[0;31m# d3: img, lens, src ~ p(img|lens, src)p(lens|img_obs)\u001b[0m\u001b[0;34m\u001b[0m\u001b[0;34m\u001b[0m\u001b[0;34m\u001b[0m\u001b[0m\n\u001b[0;32m---> 33\u001b[0;31m     \u001b[0ms3\u001b[0m \u001b[0;34m=\u001b[0m \u001b[0mm\u001b[0m\u001b[0;34m.\u001b[0m\u001b[0msimulate\u001b[0m\u001b[0;34m(\u001b[0m\u001b[0;36m100\u001b[0m\u001b[0;34m,\u001b[0m \u001b[0mbounds\u001b[0m \u001b[0;34m=\u001b[0m \u001b[0mbounds\u001b[0m\u001b[0;34m,\u001b[0m \u001b[0meffective_prior\u001b[0m \u001b[0;34m=\u001b[0m \u001b[0;34m{\u001b[0m\u001b[0;34m'z_lens'\u001b[0m\u001b[0;34m:\u001b[0m \u001b[0mp1\u001b[0m\u001b[0;34m}\u001b[0m\u001b[0;34m)\u001b[0m\u001b[0;34m\u001b[0m\u001b[0;34m\u001b[0m\u001b[0m\n\u001b[0m\u001b[1;32m     34\u001b[0m \u001b[0;34m\u001b[0m\u001b[0m\n\u001b[1;32m     35\u001b[0m     \u001b[0;31m# d3: split (img, kNN) vs (z_lens, src)\u001b[0m\u001b[0;34m\u001b[0m\u001b[0;34m\u001b[0m\u001b[0;34m\u001b[0m\u001b[0m\n",
      "\u001b[0;32m~/codes/swyft/swyft/lightning/components.py\u001b[0m in \u001b[0;36msimulate\u001b[0;34m(self, N, bounds, effective_prior)\u001b[0m\n\u001b[1;32m    404\u001b[0m                 \u001b[0msamples\u001b[0m \u001b[0;34m=\u001b[0m \u001b[0meffective_prior\u001b[0m\u001b[0;34m[\u001b[0m\u001b[0mk\u001b[0m\u001b[0;34m]\u001b[0m\u001b[0;34m.\u001b[0m\u001b[0msample\u001b[0m\u001b[0;34m(\u001b[0m\u001b[0mN\u001b[0m\u001b[0;34m)\u001b[0m\u001b[0;34m\u001b[0m\u001b[0;34m\u001b[0m\u001b[0m\n\u001b[1;32m    405\u001b[0m                 \u001b[0mprior_samples\u001b[0m\u001b[0;34m.\u001b[0m\u001b[0mupdate\u001b[0m\u001b[0;34m(\u001b[0m\u001b[0mk\u001b[0m \u001b[0;34m=\u001b[0m \u001b[0msamples\u001b[0m\u001b[0;34m[\u001b[0m\u001b[0mk\u001b[0m\u001b[0;34m]\u001b[0m\u001b[0;34m)\u001b[0m\u001b[0;34m\u001b[0m\u001b[0;34m\u001b[0m\u001b[0m\n\u001b[0;32m--> 406\u001b[0;31m         \u001b[0msimulated_samples\u001b[0m \u001b[0;34m=\u001b[0m \u001b[0mdictstoremap\u001b[0m\u001b[0;34m(\u001b[0m\u001b[0mself\u001b[0m\u001b[0;34m.\u001b[0m\u001b[0mslow\u001b[0m\u001b[0;34m,\u001b[0m \u001b[0mprior_samples\u001b[0m\u001b[0;34m)\u001b[0m\u001b[0;34m\u001b[0m\u001b[0;34m\u001b[0m\u001b[0m\n\u001b[0m\u001b[1;32m    407\u001b[0m         \u001b[0msamples\u001b[0m \u001b[0;34m=\u001b[0m \u001b[0mdict\u001b[0m\u001b[0;34m(\u001b[0m\u001b[0;34m**\u001b[0m\u001b[0mprior_samples\u001b[0m\u001b[0;34m,\u001b[0m \u001b[0;34m**\u001b[0m\u001b[0msimulated_samples\u001b[0m\u001b[0;34m)\u001b[0m\u001b[0;34m\u001b[0m\u001b[0;34m\u001b[0m\u001b[0m\n\u001b[1;32m    408\u001b[0m         \u001b[0;32mreturn\u001b[0m \u001b[0mSampleStore\u001b[0m\u001b[0;34m(\u001b[0m\u001b[0msamples\u001b[0m\u001b[0;34m)\u001b[0m\u001b[0;34m\u001b[0m\u001b[0;34m\u001b[0m\u001b[0m\n",
      "\u001b[0;32m~/codes/swyft/swyft/lightning/components.py\u001b[0m in \u001b[0;36mdictstoremap\u001b[0;34m(model, dictstore)\u001b[0m\n\u001b[1;32m    346\u001b[0m     \u001b[0mout\u001b[0m \u001b[0;34m=\u001b[0m \u001b[0;34m[\u001b[0m\u001b[0;34m]\u001b[0m\u001b[0;34m\u001b[0m\u001b[0;34m\u001b[0m\u001b[0m\n\u001b[1;32m    347\u001b[0m     \u001b[0;32mfor\u001b[0m \u001b[0mi\u001b[0m \u001b[0;32min\u001b[0m \u001b[0mtqdm\u001b[0m\u001b[0;34m(\u001b[0m\u001b[0mrange\u001b[0m\u001b[0;34m(\u001b[0m\u001b[0mN\u001b[0m\u001b[0;34m)\u001b[0m\u001b[0;34m)\u001b[0m\u001b[0;34m:\u001b[0m\u001b[0;34m\u001b[0m\u001b[0;34m\u001b[0m\u001b[0m\n\u001b[0;32m--> 348\u001b[0;31m         \u001b[0mx\u001b[0m \u001b[0;34m=\u001b[0m \u001b[0mmodel\u001b[0m\u001b[0;34m(\u001b[0m\u001b[0mdictstore\u001b[0m\u001b[0;34m[\u001b[0m\u001b[0mi\u001b[0m\u001b[0;34m]\u001b[0m\u001b[0;34m)\u001b[0m\u001b[0;34m\u001b[0m\u001b[0;34m\u001b[0m\u001b[0m\n\u001b[0m\u001b[1;32m    349\u001b[0m         \u001b[0mout\u001b[0m\u001b[0;34m.\u001b[0m\u001b[0mappend\u001b[0m\u001b[0;34m(\u001b[0m\u001b[0mx\u001b[0m\u001b[0;34m)\u001b[0m\u001b[0;34m\u001b[0m\u001b[0;34m\u001b[0m\u001b[0m\n\u001b[1;32m    350\u001b[0m     \u001b[0mout\u001b[0m \u001b[0;34m=\u001b[0m \u001b[0mtorch\u001b[0m\u001b[0;34m.\u001b[0m\u001b[0mutils\u001b[0m\u001b[0;34m.\u001b[0m\u001b[0mdata\u001b[0m\u001b[0;34m.\u001b[0m\u001b[0mdataloader\u001b[0m\u001b[0;34m.\u001b[0m\u001b[0mdefault_collate\u001b[0m\u001b[0;34m(\u001b[0m\u001b[0mout\u001b[0m\u001b[0;34m)\u001b[0m \u001b[0;31m# using torch internal functionality for this, yay!\u001b[0m\u001b[0;34m\u001b[0m\u001b[0;34m\u001b[0m\u001b[0m\n",
      "\u001b[0;32m<ipython-input-24-c0fb678cd02d>\u001b[0m in \u001b[0;36mslow\u001b[0;34m(self, pars)\u001b[0m\n\u001b[1;32m      6\u001b[0m         \u001b[0mslope\u001b[0m \u001b[0;34m=\u001b[0m \u001b[0;36m2.0\u001b[0m\u001b[0;34m\u001b[0m\u001b[0;34m\u001b[0m\u001b[0m\n\u001b[1;32m      7\u001b[0m         \u001b[0msrc_image\u001b[0m \u001b[0;34m=\u001b[0m \u001b[0mpars\u001b[0m\u001b[0;34m[\u001b[0m\u001b[0;34m'src'\u001b[0m\u001b[0;34m]\u001b[0m\u001b[0;34m.\u001b[0m\u001b[0mcuda\u001b[0m\u001b[0;34m(\u001b[0m\u001b[0;34m)\u001b[0m\u001b[0;34m\u001b[0m\u001b[0;34m\u001b[0m\u001b[0m\n\u001b[0;32m----> 8\u001b[0;31m         \u001b[0mimg\u001b[0m\u001b[0;34m,\u001b[0m \u001b[0mcoords\u001b[0m \u001b[0;34m=\u001b[0m \u001b[0mimage_generator\u001b[0m\u001b[0;34m(\u001b[0m\u001b[0mx\u001b[0m\u001b[0;34m,\u001b[0m \u001b[0my\u001b[0m\u001b[0;34m,\u001b[0m \u001b[0mphi\u001b[0m\u001b[0;34m,\u001b[0m \u001b[0mq\u001b[0m\u001b[0;34m,\u001b[0m \u001b[0mr_ein\u001b[0m\u001b[0;34m,\u001b[0m \u001b[0mslope\u001b[0m\u001b[0;34m,\u001b[0m \u001b[0msrc_image\u001b[0m\u001b[0;34m)\u001b[0m\u001b[0;34m\u001b[0m\u001b[0;34m\u001b[0m\u001b[0m\n\u001b[0m\u001b[1;32m      9\u001b[0m         \u001b[0mX\u001b[0m\u001b[0;34m,\u001b[0m \u001b[0mY\u001b[0m\u001b[0;34m,\u001b[0m \u001b[0mXsrc\u001b[0m\u001b[0;34m,\u001b[0m \u001b[0mYsrc\u001b[0m \u001b[0;34m=\u001b[0m \u001b[0mcoords\u001b[0m\u001b[0;34m\u001b[0m\u001b[0;34m\u001b[0m\u001b[0m\n\u001b[1;32m     10\u001b[0m         \u001b[0mkNN_idx\u001b[0m \u001b[0;34m=\u001b[0m \u001b[0mget_kNN_idx\u001b[0m\u001b[0;34m(\u001b[0m\u001b[0mX\u001b[0m\u001b[0;34m/\u001b[0m\u001b[0;36m5\u001b[0m\u001b[0;34m,\u001b[0m \u001b[0;34m-\u001b[0m\u001b[0mY\u001b[0m\u001b[0;34m/\u001b[0m\u001b[0;36m5\u001b[0m\u001b[0;34m,\u001b[0m \u001b[0mXsrc\u001b[0m\u001b[0;34m,\u001b[0m \u001b[0mYsrc\u001b[0m\u001b[0;34m,\u001b[0m \u001b[0mk\u001b[0m \u001b[0;34m=\u001b[0m \u001b[0mKNN\u001b[0m\u001b[0;34m)\u001b[0m  \u001b[0;31m# TODO: Need to sort out strange 1/5 and -1/5 factors\u001b[0m\u001b[0;34m\u001b[0m\u001b[0;34m\u001b[0m\u001b[0m\n",
      "\u001b[0;32m<ipython-input-23-3d5ab23b041e>\u001b[0m in \u001b[0;36mimage_generator\u001b[0;34m(x, y, phi, q, r_ein, slope, src_image)\u001b[0m\n\u001b[1;32m      5\u001b[0m \u001b[0;34m\u001b[0m\u001b[0m\n\u001b[1;32m      6\u001b[0m     \u001b[0;31m# Lens\u001b[0m\u001b[0;34m\u001b[0m\u001b[0;34m\u001b[0m\u001b[0;34m\u001b[0m\u001b[0m\n\u001b[0;32m----> 7\u001b[0;31m     \u001b[0mlens\u001b[0m \u001b[0;34m=\u001b[0m \u001b[0mSPLELens\u001b[0m\u001b[0;34m(\u001b[0m\u001b[0mdevice\u001b[0m\u001b[0;34m=\u001b[0m\u001b[0;34m'cuda'\u001b[0m\u001b[0;34m)\u001b[0m\u001b[0;34m\u001b[0m\u001b[0;34m\u001b[0m\u001b[0m\n\u001b[0m\u001b[1;32m      8\u001b[0m     \u001b[0mlens\u001b[0m\u001b[0;34m.\u001b[0m\u001b[0mXY\u001b[0m \u001b[0;34m=\u001b[0m \u001b[0mX\u001b[0m\u001b[0;34m,\u001b[0m\u001b[0mY\u001b[0m\u001b[0;34m\u001b[0m\u001b[0;34m\u001b[0m\u001b[0m\n\u001b[1;32m      9\u001b[0m     \u001b[0;31m# Displacement field\u001b[0m\u001b[0;34m\u001b[0m\u001b[0;34m\u001b[0m\u001b[0;34m\u001b[0m\u001b[0m\n",
      "\u001b[0;32m~/codes/pyrofit/pyrofit_lensing/pyrofit/lensing/lenses/analytical.py\u001b[0m in \u001b[0;36m__init__\u001b[0;34m(self, device)\u001b[0m\n\u001b[1;32m    165\u001b[0m         \u001b[0;31m# manually change this to use the larger interpolation tables!\u001b[0m\u001b[0;34m\u001b[0m\u001b[0;34m\u001b[0m\u001b[0;34m\u001b[0m\u001b[0m\n\u001b[1;32m    166\u001b[0m         \u001b[0mpath_data\u001b[0m \u001b[0;34m=\u001b[0m \u001b[0mpkg_resources\u001b[0m\u001b[0;34m.\u001b[0m\u001b[0mresource_filename\u001b[0m\u001b[0;34m(\u001b[0m\u001b[0m__name__\u001b[0m\u001b[0;34m,\u001b[0m \u001b[0;34m\"../data/SPLE_table.npy\"\u001b[0m\u001b[0;34m)\u001b[0m\u001b[0;34m\u001b[0m\u001b[0;34m\u001b[0m\u001b[0m\n\u001b[0;32m--> 167\u001b[0;31m         \u001b[0mself\u001b[0m\u001b[0;34m.\u001b[0m\u001b[0mdata\u001b[0m \u001b[0;34m=\u001b[0m \u001b[0mtorch\u001b[0m\u001b[0;34m.\u001b[0m\u001b[0mtensor\u001b[0m\u001b[0;34m(\u001b[0m\u001b[0mnp\u001b[0m\u001b[0;34m.\u001b[0m\u001b[0mload\u001b[0m\u001b[0;34m(\u001b[0m\u001b[0mpath_data\u001b[0m\u001b[0;34m)\u001b[0m\u001b[0;34m,\u001b[0m \u001b[0mdtype\u001b[0m\u001b[0;34m=\u001b[0m\u001b[0mtorch\u001b[0m\u001b[0;34m.\u001b[0m\u001b[0mget_default_dtype\u001b[0m\u001b[0;34m(\u001b[0m\u001b[0;34m)\u001b[0m\u001b[0;34m,\u001b[0m \u001b[0mdevice\u001b[0m\u001b[0;34m=\u001b[0m\u001b[0mself\u001b[0m\u001b[0;34m.\u001b[0m\u001b[0mdevice\u001b[0m\u001b[0;34m)\u001b[0m\u001b[0;34m\u001b[0m\u001b[0;34m\u001b[0m\u001b[0m\n\u001b[0m\u001b[1;32m    168\u001b[0m \u001b[0;34m\u001b[0m\u001b[0m\n\u001b[1;32m    169\u001b[0m         self.interpolation = TorchInterpNd(\n",
      "\u001b[0;31mKeyboardInterrupt\u001b[0m: "
     ]
    }
   ],
   "source": [
    "bounds = None\n",
    "results = []\n",
    "for i in range(R1):\n",
    "    # s1: img, lens, src ~ p(img|lens, src)p(lens)p(src)\n",
    "    s1 = m.simulate(Ntrain1, bounds = bounds)\n",
    "    \n",
    "    # r1: p(z_lens|img)/p(z_lens)\n",
    "    r1 = LensNetwork()\n",
    "    \n",
    "    # d1: split img vs z_lens\n",
    "    # TODO: Specify x_keys = ['img'], z_keys=['z_lens']\n",
    "    d1 = SwyftDataModule(s1, model = m, batch_size = 16)\n",
    "    \n",
    "    # Train r1 with d1\n",
    "    t1 = SwyftTrainer(accelerator = 'gpu', gpus=1, max_epochs = ME)\n",
    "    t1.fit(r1, d1)\n",
    "\n",
    "    # r2: p(src|z_lens, img)/p(src)\n",
    "    r2 = SourceNetwork()\n",
    "    \n",
    "    # d2: split (img, kNN_idx) vs src\n",
    "    # TODO: Specify x_keys = ['img', 'kNN_idx'], z_keys=['src']\n",
    "    d2 = SwyftDataModule(s1, model = m, batch_size = 16)\n",
    "    \n",
    "    # Train r2 with d2\n",
    "    t2 = SwyftTrainer(accelerator = 'gpu', gpus=1, max_epochs = 3)\n",
    "    t2.fit(r2, d2)\n",
    "    \n",
    "    # p1: z_lens ~ p(z_lens|img_obs)  --  these are weighted samples\n",
    "    p1 = t1.infer(r1, d1, condition_x = s0)\n",
    "    \n",
    "    # d3: img, lens, src ~ p(img|lens, src)p(lens|img_obs)\n",
    "    s3 = m.simulate(100, bounds = bounds, effective_prior = {'z_lens': p1})\n",
    "    \n",
    "    # d3: split (img, kNN) vs (z_lens, src)\n",
    "    # TODO: Specify x_keys = ['img', 'kNN_idx'], z_keys=['z_lens', 'src']\n",
    "    d3 = SwyftDataModule(s3, model = m, batch_size = 16)\n",
    "    \n",
    "    # ws2: src ~ p(src|img_obs) = \\int dlens p(src|lens, img_obs)*p(lens|img_obs)  --  weighted samples\n",
    "    p2 = t2.infer(r2, d3, condition_x = s0)\n",
    "    \n",
    "    # Rectangle Bounds\n",
    "    all_inference = dict(**p1, **p2)\n",
    "    bounds = get_1d_rect_bounds(all_inference, th = 1e-6)  # for p(z_lens)\n",
    "    #results.append(dict(bounds = bounds, t1=t1, t2=t2, d1=d1, ws1=ws1, ws2=ws2))"
   ]
  },
  {
   "cell_type": "code",
   "execution_count": null,
   "id": "87c9a50f-45e6-4082-acda-a430614022d0",
   "metadata": {},
   "outputs": [],
   "source": []
  }
 ],
 "metadata": {
  "kernelspec": {
   "display_name": "p38",
   "language": "python",
   "name": "p38"
  },
  "language_info": {
   "codemirror_mode": {
    "name": "ipython",
    "version": 3
   },
   "file_extension": ".py",
   "mimetype": "text/x-python",
   "name": "python",
   "nbconvert_exporter": "python",
   "pygments_lexer": "ipython3",
   "version": "3.8.2"
  }
 },
 "nbformat": 4,
 "nbformat_minor": 5
}
