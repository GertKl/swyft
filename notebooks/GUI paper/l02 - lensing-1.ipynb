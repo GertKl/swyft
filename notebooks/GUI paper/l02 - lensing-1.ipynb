{
 "cells": [
  {
   "cell_type": "code",
   "execution_count": 1,
   "id": "378a8baa",
   "metadata": {},
   "outputs": [],
   "source": [
    "import torch\n",
    "import numpy as np\n",
    "import matplotlib.pyplot as plt\n",
    "from pyro import distributions as dist\n",
    "from pyrofit.lensing.utils import get_meshgrid\n",
    "from pyrofit.lensing.lenses import SPLELens\n",
    "from pyrofit.lensing.sources import SersicSource\n",
    "\n",
    "torch.cuda.set_device(0)\n",
    "torch.set_default_tensor_type(torch.cuda.FloatTensor)\n",
    "\n",
    "import swyft\n",
    "\n",
    "DEVICE='cuda'"
   ]
  },
  {
   "cell_type": "code",
   "execution_count": 2,
   "id": "bc196966-901e-4ee2-8731-38ad5cf010aa",
   "metadata": {},
   "outputs": [],
   "source": [
    "SIGMA = 1.0"
   ]
  },
  {
   "cell_type": "code",
   "execution_count": 3,
   "id": "15e802f4",
   "metadata": {},
   "outputs": [],
   "source": [
    "def image_generator(x, y, phi, q, r_ein, slope, x_src, y_src, phi_src, q_src, index, r_e, I_e):\n",
    "\n",
    "    res = 0.0125*8                      # resolution in arcsec\n",
    "    nx, ny = 50, 50                   # number of pixels\n",
    "    X, Y = get_meshgrid(res, nx, ny)    # grid\n",
    "\n",
    "    # Lens\n",
    "    lens = SPLELens(device=DEVICE)\n",
    "    lens.XY = X,Y\n",
    "    # Displacement field\n",
    "    alphas = lens(x=x, y=y, phi=phi, q=q, r_ein=r_ein, slope=slope)\n",
    "\n",
    "    # Lensing equation\n",
    "    X_src = X - alphas[..., 0, :, :]\n",
    "    Y_src = Y - alphas[..., 1, :, :]\n",
    "\n",
    "    # Source\n",
    "    sersic = SersicSource(device=DEVICE)\n",
    "\n",
    "    # Lensed source\n",
    "    image = sersic(X=X_src, Y=Y_src, x=x_src, y=y_src, phi=phi_src, q=q_src, index=index, r_e=r_e, I_e=I_e)\n",
    "    \n",
    "    return image.cpu().numpy()"
   ]
  },
  {
   "cell_type": "code",
   "execution_count": 4,
   "id": "9c35a024",
   "metadata": {},
   "outputs": [],
   "source": [
    "def model(v):\n",
    "    # Lens parameters\n",
    "    x = -0.05\n",
    "    y = 0.1\n",
    "    phi = 1.\n",
    "    q = 0.5\n",
    "    #r_ein = 1.4\n",
    "    slope = 2.1\n",
    "    #x, y, phi, q, r_ein, slope, x_src, y_src, phi_src, q_src, index, r_e, I_e = v\n",
    "    r_ein = v[0]\n",
    "    \n",
    "    # Source param\n",
    "    x_src = 0.\n",
    "    y_src = 0.\n",
    "    phi_src = 1.5\n",
    "    q_src =0.7\n",
    "    index = 2.\n",
    "    r_e = 1.5\n",
    "    I_e = 1.\n",
    "    \n",
    "    img = image_generator(x, y, phi, q, r_ein, slope, x_src, y_src, phi_src, q_src, index, r_e, I_e)\n",
    "    return dict(img = img)"
   ]
  },
  {
   "cell_type": "code",
   "execution_count": 5,
   "id": "f53d182c-266d-459b-9449-52e6f3ef1562",
   "metadata": {},
   "outputs": [],
   "source": [
    "def noise(sim, v, sigma = SIGMA):\n",
    "    return dict(img = sim['img'] + np.random.randn(50, 50)*sigma)"
   ]
  },
  {
   "cell_type": "code",
   "execution_count": 6,
   "id": "5a55eee4-67fd-46bd-b0f0-84d729083b54",
   "metadata": {},
   "outputs": [],
   "source": [
    "low =  np.array([1.38])\n",
    "high = np.array([1.42])\n",
    "prior = swyft.get_uniform_prior(low, high)"
   ]
  },
  {
   "cell_type": "code",
   "execution_count": 7,
   "id": "38515c5b-b973-4280-b9ef-de41ccaf6faf",
   "metadata": {},
   "outputs": [],
   "source": [
    "sim = swyft.Simulator(model, 1, dict(img=(50,50)))"
   ]
  },
  {
   "cell_type": "code",
   "execution_count": 8,
   "id": "a0f2a0b2-34e7-49e0-a0ff-99183ada7a8d",
   "metadata": {},
   "outputs": [
    {
     "name": "stdout",
     "output_type": "stream",
     "text": [
      "Creating new store.\n",
      "Store: Adding 3049 new samples to simulator store.\n"
     ]
    }
   ],
   "source": [
    "Ntrain = 3000\n",
    "\n",
    "store = swyft.Store.memory_store(sim)\n",
    "store.add(Ntrain, prior)\n",
    "store.simulate()"
   ]
  },
  {
   "cell_type": "code",
   "execution_count": 9,
   "id": "23e5abff-ca31-49ba-9d97-66eab1bbd147",
   "metadata": {},
   "outputs": [],
   "source": [
    "torch.set_default_tensor_type(torch.FloatTensor)  # Needing this is kinda stupid"
   ]
  },
  {
   "cell_type": "code",
   "execution_count": 10,
   "id": "a7640bb4-2903-4aae-918f-f750daa6682a",
   "metadata": {},
   "outputs": [
    {
     "data": {
      "text/plain": [
       "<matplotlib.image.AxesImage at 0x1523b07a8bb0>"
      ]
     },
     "execution_count": 10,
     "metadata": {},
     "output_type": "execute_result"
    },
    {
     "data": {
      "image/png": "[encoded data removed]",
      "text/plain": [
       "<Figure size 432x288 with 1 Axes>"
      ]
     },
     "metadata": {
      "needs_background": "light"
     },
     "output_type": "display_data"
    }
   ],
   "source": [
    "plt.imshow(store[4][0]['img'])"
   ]
  },
  {
   "cell_type": "code",
   "execution_count": 11,
   "id": "8b8ccb5d-4a21-43ee-bc5d-5ba031e6dce4",
   "metadata": {},
   "outputs": [],
   "source": [
    "dataset = swyft.Dataset(Ntrain, prior, store, simhook = noise)"
   ]
  },
  {
   "cell_type": "code",
   "execution_count": 12,
   "id": "4c39be50-faf8-4ec6-8720-199bddf996cb",
   "metadata": {},
   "outputs": [],
   "source": [
    "class CustomObservationTransform(torch.nn.Module):\n",
    "    def __init__(self, observation_key: str, observation_shapes: dict):\n",
    "        super().__init__()\n",
    "        self.observation_key = observation_key\n",
    "        self.n_features = 160  # This attribute must be defined!\n",
    "        \n",
    "        self.online_z_score = swyft.networks.OnlineDictStandardizingLayer(observation_shapes)\n",
    "        self.net = torch.nn.Sequential(\n",
    "            torch.nn.Conv2d(1, 10, 3),\n",
    "            torch.nn.MaxPool2d(2),\n",
    "            torch.nn.Conv2d(10, 20, 3),\n",
    "            torch.nn.MaxPool2d(2),\n",
    "            torch.nn.Conv2d(20, 40, 3),\n",
    "            torch.nn.MaxPool2d(2),\n",
    "            torch.nn.Flatten(),\n",
    "            torch.nn.Linear(640, 160),\n",
    "        )\n",
    "\n",
    "    def forward(self, obs: dict) -> torch.Tensor:\n",
    "        x = self.online_z_score(obs)\n",
    "        x = x[self.observation_key]\n",
    "        x = x.unsqueeze(1)\n",
    "        x = self.net(x).squeeze(1)\n",
    "        return x\n",
    "\n",
    "def get_custom_marginal_classifier(\n",
    "    observation_transform,\n",
    "    marginal_indices: tuple,\n",
    "    n_parameters: int,\n",
    "    hidden_features: int,\n",
    "    num_blocks: int,\n",
    "    marginal_classifier = None,\n",
    "    parameter_online_z_score: bool = True,\n",
    ") -> torch.nn.Module:\n",
    "    n_observation_features = observation_transform.n_features\n",
    "\n",
    "    parameter_transform = swyft.networks.ParameterTransform(\n",
    "        n_parameters, marginal_indices, online_z_score=parameter_online_z_score\n",
    "    )\n",
    "    n_marginals, n_block_parameters = parameter_transform.marginal_block_shape\n",
    "\n",
    "    if marginal_classifier is None:\n",
    "        marginal_classifier = swyft.networks.MarginalClassifier(\n",
    "            n_marginals,\n",
    "            n_observation_features + n_block_parameters,\n",
    "            hidden_features=hidden_features,\n",
    "            num_blocks=num_blocks,\n",
    "        )\n",
    "    else:\n",
    "        marginal_classifier = marginal_classifier(\n",
    "            n_marginals,\n",
    "            n_observation_features + n_block_parameters,\n",
    "            hidden_features=hidden_features,\n",
    "            num_blocks=num_blocks,\n",
    "        )\n",
    "\n",
    "    return swyft.networks.Network(\n",
    "        observation_transform,\n",
    "        parameter_transform,\n",
    "        marginal_classifier,\n",
    "    )"
   ]
  },
  {
   "cell_type": "code",
   "execution_count": 13,
   "id": "e2aee320-ec69-4e69-b00b-97d8a7076502",
   "metadata": {},
   "outputs": [],
   "source": [
    "marg_indices = tuple([(i,) for i in range(1)])"
   ]
  },
  {
   "cell_type": "code",
   "execution_count": 14,
   "id": "403e1847-e661-4ba1-a4b1-d5091bd1f934",
   "metadata": {},
   "outputs": [],
   "source": [
    "network_1d = get_custom_marginal_classifier(\n",
    "    observation_transform=CustomObservationTransform('img', {'img': (50, 50)}),\n",
    "    marginal_indices=marg_indices,\n",
    "    n_parameters=1,\n",
    "    hidden_features=32,\n",
    "    num_blocks=2,\n",
    ")\n",
    "\n",
    "mre_1d = swyft.MarginalRatioEstimator(\n",
    "    marginal_indices=marg_indices,\n",
    "    network=network_1d,\n",
    "    device=DEVICE,\n",
    ")"
   ]
  },
  {
   "cell_type": "code",
   "execution_count": 15,
   "id": "574c0216-8a4f-484f-a05b-c0e3d54d172c",
   "metadata": {},
   "outputs": [
    {
     "name": "stderr",
     "output_type": "stream",
     "text": [
      "/home/weniger/miniconda3/envs/p38/lib/python3.8/site-packages/torch-1.9.0-py3.8-linux-x86_64.egg/torch/nn/functional.py:718: UserWarning: Named tensors and all their associated APIs are an experimental feature and subject to change. Please do not use them for anything important until they are released as stable. (Triggered internally at  /pytorch/c10/core/TensorImpl.h:1156.)\n",
      "  return torch.max_pool2d(input, kernel_size, stride, padding, dilation, ceil_mode)\n"
     ]
    },
    {
     "name": "stdout",
     "output_type": "stream",
     "text": [
      "training: lr=5e-05, epoch=25, validation loss=0.68547\n"
     ]
    }
   ],
   "source": [
    "vl = mre_1d.train(dataset, batch_size = 64, max_epochs = 100)"
   ]
  },
  {
   "cell_type": "code",
   "execution_count": 16,
   "id": "30c650a0-334f-4973-ba5a-7b0ce0513469",
   "metadata": {},
   "outputs": [],
   "source": [
    "posterior_1d = swyft.MarginalPosterior(mre_1d, prior)"
   ]
  },
  {
   "cell_type": "code",
   "execution_count": 17,
   "id": "bc6fe0cc-190b-425a-8b43-dc87e6523dcd",
   "metadata": {},
   "outputs": [
    {
     "data": {
      "text/plain": [
       "<matplotlib.image.AxesImage at 0x1523a97eae50>"
      ]
     },
     "execution_count": 17,
     "metadata": {},
     "output_type": "execute_result"
    },
    {
     "data": {
      "image/png": "[encoded data removed]",
      "text/plain": [
       "<Figure size 432x288 with 1 Axes>"
      ]
     },
     "metadata": {
      "needs_background": "light"
     },
     "output_type": "display_data"
    }
   ],
   "source": [
    "obs0, _, v0 = dataset[0]\n",
    "samples_1d = posterior_1d.weighted_sample(100000, obs0)\n",
    "plt.imshow(obs0['img'])"
   ]
  },
  {
   "cell_type": "code",
   "execution_count": 18,
   "id": "e0e52d7f-ab2f-473d-88fd-8e235f3bba2a",
   "metadata": {},
   "outputs": [
    {
     "data": {
      "text/plain": [
       "<matplotlib.lines.Line2D at 0x1523b00256d0>"
      ]
     },
     "execution_count": 18,
     "metadata": {},
     "output_type": "execute_result"
    },
    {
     "data": {
      "image/png": "[encoded data removed]",
      "text/plain": [
       "<Figure size 432x288 with 1 Axes>"
      ]
     },
     "metadata": {
      "needs_background": "light"
     },
     "output_type": "display_data"
    }
   ],
   "source": [
    "w = np.exp(samples_1d.weights[(0,)])\n",
    "x = samples_1d.v[:,0]\n",
    "plt.hist(x, weights=w, bins = 100);\n",
    "plt.axvline(v0.item(), color='r')"
   ]
  },
  {
   "cell_type": "code",
   "execution_count": 19,
   "id": "09430ba1-e5cf-4b5c-84c5-b4f0866ba23e",
   "metadata": {},
   "outputs": [],
   "source": [
    "torch.set_default_tensor_type(torch.cuda.FloatTensor)\n",
    "\n",
    "mu0 = obs0['img'].cpu().numpy()\n",
    "\n",
    "def loglike(v):\n",
    "    img = model(np.array([v]))['img']\n",
    "    diff = img - mu0\n",
    "    return 0.5*(diff**2).sum()/SIGMA**2\n",
    "\n",
    "lls = np.array([loglike(v) for v in np.linspace(1.38, 1.42, 100)])"
   ]
  },
  {
   "cell_type": "code",
   "execution_count": 20,
   "id": "75125092-fb3e-4c56-8d93-f06efc7bc20f",
   "metadata": {},
   "outputs": [
    {
     "data": {
      "text/plain": [
       "<matplotlib.lines.Line2D at 0x1523a97fc9a0>"
      ]
     },
     "execution_count": 20,
     "metadata": {},
     "output_type": "execute_result"
    },
    {
     "data": {
      "image/png": "[encoded data removed]",
      "text/plain": [
       "<Figure size 432x288 with 1 Axes>"
      ]
     },
     "metadata": {
      "needs_background": "light"
     },
     "output_type": "display_data"
    }
   ],
   "source": [
    "lls -= lls.min()\n",
    "plt.plot(np.linspace(1.38, 1.42, 100), np.exp(-lls))\n",
    "plt.axvline(v0.item(), color='r')"
   ]
  },
  {
   "cell_type": "code",
   "execution_count": null,
   "id": "9f10d194-a259-4523-a1d7-9ea8badfe131",
   "metadata": {},
   "outputs": [],
   "source": []
  }
 ],
 "metadata": {
  "kernelspec": {
   "display_name": "Python 3",
   "language": "python",
   "name": "python3"
  },
  "language_info": {
   "codemirror_mode": {
    "name": "ipython",
    "version": 3
   },
   "file_extension": ".py",
   "mimetype": "text/x-python",
   "name": "python",
   "nbconvert_exporter": "python",
   "pygments_lexer": "ipython3",
   "version": "3.8.2"
  }
 },
 "nbformat": 4,
 "nbformat_minor": 5
}
