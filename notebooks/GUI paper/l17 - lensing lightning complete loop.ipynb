{
 "cells": [
  {
   "cell_type": "code",
   "execution_count": 1,
   "id": "3822aac4-d5eb-4979-b237-70c80d2489e8",
   "metadata": {},
   "outputs": [],
   "source": [
    "# Makes it easier to debug\n",
    "%load_ext autoreload\n",
    "#%load_ext line_profiler\n",
    "%autoreload 2"
   ]
  },
  {
   "cell_type": "code",
   "execution_count": 3,
   "id": "0297c907",
   "metadata": {},
   "outputs": [],
   "source": [
    "import pylab as plt\n",
    "import numpy as np\n",
    "import skimage.transform\n",
    "import skimage.restoration\n",
    "from tqdm import tqdm\n",
    "import skimage.filters\n",
    "import torch\n",
    "import torch.nn as nn\n",
    "import typing as tp\n",
    "from pyrofit.utils import pad_dims\n",
    "from torch.nn.functional import grid_sample\n",
    "from pyro import distributions as dist\n",
    "from pyrofit.lensing.utils import get_meshgrid\n",
    "from pyrofit.lensing.lenses import SPLELens\n",
    "from pyrofit.lensing.sources import SersicSource, AnalyticSource\n",
    "from pyrofit.utils.torchutils import _mid_many, unravel_index\n",
    "from pyrofit.utils import kNN\n",
    "from fft_conv_pytorch import fft_conv, FFTConv2d\n",
    "import swyft\n",
    "from dataclasses import dataclass\n",
    "from swyft.alpha.components import (\n",
    "    RatioEstimatorGaussian1d, MeanStd, SimpleDataset, subsample_posterior,\n",
    "    get_1d_rect_bounds, append_randomized, valmap, SwyftModel, persist_to_file, \n",
    "    equalize_tensors, SwyftTrainer, DictStore, dictstoremap, DictDataset, SwyftModule, SwyftDataModule, RatioSamples\n",
    ")\n",
    "import pytorch_lightning as pl\n",
    "from torch.nn import functional as F"
   ]
  },
  {
   "cell_type": "markdown",
   "id": "cbd9eea8-0bdc-4628-9d64-76a0222d8279",
   "metadata": {},
   "source": [
    "## Todo list\n",
    "\n",
    "- [ ] Dictionary-valued parameters\n",
    "- [ ] No enforced network structure"
   ]
  },
  {
   "cell_type": "markdown",
   "id": "54ca6745",
   "metadata": {
    "tags": []
   },
   "source": [
    "## Basic idea\n",
    "\n",
    "1) We learn $p(L|I)$ based on joined samples $L, I \\sim p(L, I)$ vs marginal samples $L, I \\sim p(L) p(I)$.  Here, we identify $z = L$ and $x = I$.\n",
    "2) We learn $p(S|I, L)$, based on the identification of $x = (I, L)$ and $z=S$."
   ]
  },
  {
   "cell_type": "code",
   "execution_count": 4,
   "id": "e7c8a19d",
   "metadata": {},
   "outputs": [],
   "source": [
    "torch.cuda.set_device(0)\n",
    "torch.set_default_tensor_type(torch.cuda.FloatTensor)\n",
    "DEVICE='cuda'"
   ]
  },
  {
   "cell_type": "code",
   "execution_count": 5,
   "id": "7ca2b302",
   "metadata": {},
   "outputs": [],
   "source": [
    "NPIX = 50\n",
    "CHANNELS = [0.5, 1, 2, 4, 8, 16, 32]\n",
    "SIGMA = 0.02\n",
    "KNN = 3"
   ]
  },
  {
   "cell_type": "markdown",
   "id": "e08760c6-3057-415c-8775-4f4c8cdeb8e5",
   "metadata": {
    "tags": []
   },
   "source": [
    "## Physics model"
   ]
  },
  {
   "cell_type": "code",
   "execution_count": 6,
   "id": "dd1acf0b",
   "metadata": {},
   "outputs": [],
   "source": [
    "class RandomSource:\n",
    "    def __init__(self, npix =  NPIX, channels = CHANNELS, K = 129):\n",
    "        self._K = K\n",
    "        self._channels = channels\n",
    "        self._npix = npix\n",
    "        \n",
    "        self._kernels = self._get_kernels(self._K, self._channels)\n",
    "        self._conv = self._get_kernel_conv(self._kernels)\n",
    "        \n",
    "    @staticmethod\n",
    "    def _get_kernels(K, channels):\n",
    "        C = len(channels)\n",
    "        kernel = np.zeros((C, C, K, K))\n",
    "        x = np.linspace(-64, 64, K)\n",
    "        X, Y = np.meshgrid(x, x)\n",
    "        R = (X**2 + Y**2)**0.5\n",
    "\n",
    "        for i, s in enumerate(channels):\n",
    "            kern = np.exp(-0.5*R**2/s**2)\n",
    "            kern /= (kern**2).sum()**0.5\n",
    "            kernel[i, i] = kern\n",
    "\n",
    "        return kernel\n",
    "\n",
    "    @staticmethod\n",
    "    def _get_kernel_conv(kernel):\n",
    "        C = len(kernel)\n",
    "        K = len(kernel[0][0])\n",
    "        gaussian_weights = nn.Parameter(torch.tensor(kernel).float().cuda())\n",
    "        conv = FFTConv2d(in_channels = C, out_channels = C, kernel_size=K, bias=False, padding = int(K/2))\n",
    "        with torch.no_grad():\n",
    "            conv.weight = gaussian_weights\n",
    "        return conv\n",
    "\n",
    "    def _get_source_image(self, seeds, A=0.5, B = 0.3, C = 0.55, D = 4.):\n",
    "        scales = A*(np.array(self._channels)/max(self._channels))**B\n",
    "        seeds = seeds * torch.tensor(scales).cuda().float().unsqueeze(1).unsqueeze(2)\n",
    "        x = torch.linspace(-1, 1, self._npix).to(seeds.device)\n",
    "        X, Y = torch.meshgrid([x, x])\n",
    "        R = (X**2 + Y**2)**0.5\n",
    "        imgc = self._conv(seeds.unsqueeze(0)).squeeze(0).squeeze(0)\n",
    "        img = imgc.sum(axis=-3)\n",
    "        img = torch.exp(img)*(1/(1+(R/C)**D))\n",
    "        return img\n",
    "\n",
    "    def __call__(self):\n",
    "        C = len(self._channels)\n",
    "        return self._get_source_image(torch.randn(C, self._npix, self._npix).cuda()).detach()"
   ]
  },
  {
   "cell_type": "code",
   "execution_count": 7,
   "id": "f9cc9449",
   "metadata": {},
   "outputs": [],
   "source": [
    "class ArraySource(AnalyticSource):\n",
    "    def __init__(self, image_array, x: float = 0., y: float = 0., scale: float = 1., peak_intensity: float = 1.,\n",
    "                 origin: tp.Literal['lower', 'upper'] = 'lower', aspect=None, device=None):\n",
    "        super().__init__(device=device)\n",
    "\n",
    "        self.x, self.y = x, y\n",
    "        self.peak_intensity = peak_intensity\n",
    "\n",
    "        self.image = self._image(image_array, peak_intensity, device)\n",
    "\n",
    "        if aspect is None:\n",
    "            aspect = self.image.shape[-2] / self.image.shape[-1]\n",
    "        self.semi_scale = torch.tensor([scale, (-1 if origin == 'lower' else 1) * aspect * scale], device=device) / 2\n",
    "\n",
    "    def _image(self, image_array, peak_intensity=None, device=None) -> torch.Tensor:\n",
    "        image = torch.tensor(image_array)\n",
    "        if image.shape[-1] in (1, 3, 4):\n",
    "            image = torch.movedim(image, -1, -3)\n",
    "        if peak_intensity is not None:\n",
    "            image = image.to(torch.get_default_dtype())\n",
    "            image = image / torch.amax(image, (-2, -1), keepdim=True) * peak_intensity\n",
    "        self.rollback_dims = image.ndim\n",
    "        return pad_dims(image, ndim=4)[0].to(device=device, dtype=torch.get_default_dtype())\n",
    "\n",
    "    def flux(self, X, Y):\n",
    "        grid = torch.stack((X - self.x, Y - self.y), dim=-1).reshape(-1, *X.shape[-2:], 2) / self.semi_scale\n",
    "\n",
    "        return grid_sample(\n",
    "            self.image.expand(grid.shape[0], *self.image.shape[-3:]),\n",
    "            grid,\n",
    "            align_corners=True\n",
    "        ).reshape(*X.shape[:-2], *self.image.shape[-self.rollback_dims:-2], *X.shape[-2:])"
   ]
  },
  {
   "cell_type": "code",
   "execution_count": 8,
   "id": "de7407bb",
   "metadata": {},
   "outputs": [],
   "source": [
    "def get_kNN_idx(X, Y, Xsrc, Ysrc, k = 1):\n",
    "        \"\"\"Return indices into `Xsrc` and `Ysrc` closest to each point in `psrc`.\"\"\"\n",
    "        P = torch.stack((X, Y), -1).flatten(-3, -2)\n",
    "        Psrc = torch.stack((Xsrc, Ysrc), -1).flatten(-3, -2)\n",
    "        idx = unravel_index(kNN(P, Psrc, k).squeeze(-1), Xsrc.shape[-2:])\n",
    "        idx = torch.reshape(idx, (NPIX, NPIX, k, 2))\n",
    "        return idx"
   ]
  },
  {
   "cell_type": "code",
   "execution_count": 9,
   "id": "5ff75df2-d1e7-4791-91de-9f4711c40ece",
   "metadata": {},
   "outputs": [],
   "source": [
    "def deproject_idx(image, kNN_idx):\n",
    "        \"\"\"Return indices into `Xsrc` and `Ysrc` closest to each point in `psrc`.\"\"\"\n",
    "        k = kNN_idx.shape[-2]\n",
    "        B = image.shape[0]\n",
    "        #print(k, B)\n",
    "        #print(image.shape)\n",
    "        #print(kNN_idx.shape)\n",
    "        # TODO: Need to speed up nested python loops\n",
    "        src_image = torch.stack([torch.stack([image[b, kNN_idx[b, ..., i,0], kNN_idx[b, ..., i,1]] for i in range(k)]) for b in range(B)])\n",
    "        return src_image"
   ]
  },
  {
   "cell_type": "code",
   "execution_count": 10,
   "id": "06bcfcf1",
   "metadata": {},
   "outputs": [],
   "source": [
    "def image_generator(x, y, phi, q, r_ein, slope, src_image):\n",
    "    res = 0.0125*8                      # resolution in arcsec\n",
    "    nx, ny = 50, 50                   # number of pixels\n",
    "    X, Y = get_meshgrid(res, nx, ny)    # grid\n",
    "\n",
    "    # Lens\n",
    "    lens = SPLELens(device=DEVICE)\n",
    "    lens.XY = X,Y\n",
    "    # Displacement field\n",
    "    alphas = lens(x=x, y=y, phi=phi, q=q, r_ein=r_ein, slope=slope)\n",
    "\n",
    "    # Lensing equation\n",
    "    X_src = X - alphas[..., 0, :, :]\n",
    "    Y_src = Y - alphas[..., 1, :, :]\n",
    "\n",
    "    # Source\n",
    "    source = ArraySource(src_image, peak_intensity = None, scale = 1)\n",
    "\n",
    "    # Lensed source\n",
    "    image = source(X=X_src, Y=Y_src)\n",
    "    \n",
    "    return image, [X, Y, X_src, Y_src]"
   ]
  },
  {
   "cell_type": "markdown",
   "id": "93d83b8b-4b96-4f92-b71b-84ecba33cc68",
   "metadata": {},
   "source": [
    "## Problem-specific analysis components"
   ]
  },
  {
   "cell_type": "code",
   "execution_count": 10,
   "id": "db2c3024-004e-4ad1-8e9a-93999f462752",
   "metadata": {},
   "outputs": [],
   "source": [
    "def model(pars):\n",
    "    torch.cuda.set_device(0)\n",
    "    torch.set_default_tensor_type(torch.cuda.FloatTensor)    \n",
    "    x, y, phi, q, r_ein, slope = pars['z_lens']\n",
    "    slope = 2.0\n",
    "    src_image = pars['src'].cuda()\n",
    "    img, coords = image_generator(x, y, phi, q, r_ein, slope, src_image)\n",
    "    X, Y, Xsrc, Ysrc = coords\n",
    "    kNN_idx = get_kNN_idx(X/5, -Y/5, Xsrc, Ysrc, k = KNN)  # TODO: Need to sort out strange 1/5 and -1/5 factors\n",
    "    torch.set_default_tensor_type(torch.FloatTensor)\n",
    "    return dict(img = img.cpu(), kNN_idx = kNN_idx.cpu(), X = X.cpu(), Y = Y.cpu(), Xsrc = Xsrc.cpu(), Ysrc = Ysrc.cpu())"
   ]
  },
  {
   "cell_type": "code",
   "execution_count": 11,
   "id": "fb6e5ea0-e5a9-433e-bd10-1f6fa9155e70",
   "metadata": {},
   "outputs": [],
   "source": [
    "def noise(d):\n",
    "    d['img'] = d['img'] + torch.randn_like(d['img'])*SIGMA\n",
    "    return d"
   ]
  },
  {
   "cell_type": "code",
   "execution_count": 12,
   "id": "8d94528e",
   "metadata": {},
   "outputs": [],
   "source": [
    "# Draw from source prior\n",
    "def prior_src(N, bounds = None):\n",
    "    rnd_src = RandomSource()\n",
    "    src = torch.stack([rnd_src().cpu() for _ in range(N)])\n",
    "    return DictStore(src=src)\n",
    "\n",
    "def prior_lens(N, bounds = None):\n",
    "    if bounds is not None:\n",
    "        low = bounds['z_lens'][..., 0]\n",
    "        high = bounds['z_lens'][..., 1]\n",
    "    else:\n",
    "        low =  np.array([-0.2, -0.2, 0, 0.2, 1.0, 1.5])\n",
    "        high = np.array([0.2, 0.2, 1.5, 0.9, 2.0, 2.5])\n",
    "    draw = np.array([np.random.uniform(low=low, high=high) for _ in range(N)])\n",
    "    return DictStore(z_lens = torch.tensor(draw).float())"
   ]
  },
  {
   "cell_type": "code",
   "execution_count": 13,
   "id": "3693d77f-a548-48db-971a-588842f173b0",
   "metadata": {},
   "outputs": [],
   "source": [
    "@persist_to_file\n",
    "def get_datadict(N, lens_samples = None, bounds = None):\n",
    "    if lens_samples is None:\n",
    "        lens_samples = prior_lens(N, bounds = bounds)\n",
    "    prior_dict = DictStore(**prior_src(N), **lens_samples)\n",
    "    sim_dict = dictstoremap(model, prior_dict)\n",
    "    dict_store = DictStore(**prior_dict, **sim_dict)\n",
    "    return dict_store"
   ]
  },
  {
   "cell_type": "code",
   "execution_count": 14,
   "id": "2a6f57ea-00e0-415f-be10-2de6e555878f",
   "metadata": {},
   "outputs": [],
   "source": [
    "@persist_to_file\n",
    "def get_fake_data():\n",
    "    dict_store = get_datadict(10)\n",
    "    dataset = DictDataset(dict_store, hook = noise, x_keys = ['img'], z_keys=['z_lens', 'src'])\n",
    "    x0, z0 = dataset[0]\n",
    "    return x0, z0"
   ]
  },
  {
   "cell_type": "markdown",
   "id": "d2be2f92-d80e-4aa5-9844-302ce3ea11f6",
   "metadata": {},
   "source": [
    "## Definition of target image"
   ]
  },
  {
   "cell_type": "code",
   "execution_count": 15,
   "id": "ac7277de-5e36-4367-bd04-018187229985",
   "metadata": {},
   "outputs": [
    {
     "name": "stdout",
     "output_type": "stream",
     "text": [
      "tensor([-0.1346, -0.0670,  0.9889,  0.3908,  1.3470,  2.4581], device='cpu')\n"
     ]
    },
    {
     "data": {
      "text/plain": [
       "<matplotlib.colorbar.Colorbar at 0x149ae1c87f70>"
      ]
     },
     "execution_count": 15,
     "metadata": {},
     "output_type": "execute_result"
    },
    {
     "data": {
      "image/png": "[encoded data removed]",
      "text/plain": [
       "<Figure size 1080x360 with 4 Axes>"
      ]
     },
     "metadata": {
      "needs_background": "light"
     },
     "output_type": "display_data"
    }
   ],
   "source": [
    "x0, z0 = get_fake_data(file_path = 'fake_data3.pt')\n",
    "\n",
    "print(z0['z_lens'])\n",
    "plt.figure(figsize=(15, 5))\n",
    "plt.subplot(1, 2, 1)\n",
    "plt.imshow(x0['img'])\n",
    "plt.colorbar()\n",
    "plt.subplot(1, 2, 2)\n",
    "plt.imshow(z0['src'])\n",
    "plt.colorbar()"
   ]
  },
  {
   "cell_type": "code",
   "execution_count": 16,
   "id": "e0afb416-08aa-4499-8914-2b321d905f90",
   "metadata": {},
   "outputs": [],
   "source": [
    "class LensNetwork(SwyftModel):\n",
    "    def __init__(self):\n",
    "        super().__init__()\n",
    "        self.online_z_score = swyft.networks.OnlineDictStandardizingLayer(dict(img = (50, 50)))\n",
    "        self.CNN = torch.nn.Sequential(\n",
    "            torch.nn.Conv2d(1, 10, 3),\n",
    "            torch.nn.MaxPool2d(2),\n",
    "            torch.nn.Conv2d(10, 20, 3),\n",
    "            torch.nn.MaxPool2d(2),\n",
    "            torch.nn.Conv2d(20, 40, 3),\n",
    "            torch.nn.MaxPool2d(2),\n",
    "            torch.nn.Flatten(),\n",
    "            torch.nn.Linear(640, 128),\n",
    "            torch.nn.ReLU(),\n",
    "            torch.nn.Linear(128, 16),\n",
    "        )\n",
    "        self.ptrans = swyft.networks.ParameterTransform(\n",
    "            6, [(0,), (1,), (2,), (3,), (4,), (5,)], online_z_score=False\n",
    "        )\n",
    "        n_marginals, n_block_parameters = self.ptrans.marginal_block_shape\n",
    "        n_observation_features = 16\n",
    "        self.classifier = swyft.networks.MarginalClassifier(\n",
    "            n_marginals,\n",
    "            n_observation_features + n_block_parameters,\n",
    "            hidden_features=256,\n",
    "            dropout_probability = 0.1,\n",
    "            num_blocks=3,\n",
    "        )\n",
    "        \n",
    "    def forward(self, x, z):\n",
    "        # Digesting x\n",
    "        x = dict(img = x['img'])\n",
    "        x = self.online_z_score(x)['img']\n",
    "        x = self.CNN(x.unsqueeze(1)).squeeze(1)\n",
    "        \n",
    "        # Digesting z\n",
    "        z = self.ptrans(z['z_lens'])\n",
    "        \n",
    "        # Combine!\n",
    "        x, z = equalize_tensors(x, z)\n",
    "        ratios = self.classifier(x, z)\n",
    "        ratios = ratios.unsqueeze(-1)\n",
    "        ratios = torch.cat([ratios, z], dim=-1)\n",
    "        return dict(z_lens=ratios)"
   ]
  },
  {
   "cell_type": "code",
   "execution_count": 17,
   "id": "af8e0902-5093-43e7-8041-3d86084cf4ec",
   "metadata": {},
   "outputs": [],
   "source": [
    "class SourceNetwork(SwyftModel):\n",
    "    def __init__(self):\n",
    "        super().__init__()\n",
    "        self.l = torch.nn.Linear(10, 10)\n",
    "        self.reg1d = RatioEstimatorGaussian1d(momentum = 0.1)\n",
    "        self.L = torch.nn.Linear(2500, 2500)\n",
    "        \n",
    "    def get_img_rec(self, x):\n",
    "        x_img = x['img']\n",
    "        x_kNN_idx = x['kNN_idx']\n",
    "        x_img_rec = deproject_idx(x_img, x_kNN_idx)[:,:,:,:].mean(dim=1)\n",
    "        x_img_rec = self.L(x_img_rec.view(-1, NPIX*NPIX)).view(-1, NPIX, NPIX)*0 + x_img_rec\n",
    "        return x_img_rec\n",
    "    \n",
    "    def forward(self, x, z):\n",
    "        x_img_rec = self.get_img_rec(x)\n",
    "        z_src = z['src']\n",
    "        x_img_rec, z_src = equalize_tensors(x_img_rec, z_src)\n",
    "        ratios = self.reg1d(x_img_rec, z_src)\n",
    "        return dict(z_src = ratios)"
   ]
  },
  {
   "cell_type": "markdown",
   "id": "39dac473-98a3-481e-b9af-b8d30157fda2",
   "metadata": {},
   "source": [
    "# Workflow"
   ]
  },
  {
   "cell_type": "code",
   "execution_count": 18,
   "id": "8919a0b9-e26e-42f3-b2c2-e5bb6d11747c",
   "metadata": {},
   "outputs": [],
   "source": [
    "SMOKE_TEST = True"
   ]
  },
  {
   "cell_type": "code",
   "execution_count": 19,
   "id": "eb94e0a7-d80e-46d0-82fd-eeb6143b5b81",
   "metadata": {},
   "outputs": [],
   "source": [
    "Ntrain1, R1, ME = 2000, 3, 10\n",
    "tag = 'v4'"
   ]
  },
  {
   "cell_type": "code",
   "execution_count": null,
   "id": "4979837a-be5f-43ef-8a84-e4752a1c9228",
   "metadata": {
    "tags": []
   },
   "outputs": [
    {
     "name": "stderr",
     "output_type": "stream",
     "text": [
      "GPU available: True, used: True\n",
      "TPU available: False, using: 0 TPU cores\n",
      "IPU available: False, using: 0 IPUs\n",
      "LOCAL_RANK: 0 - CUDA_VISIBLE_DEVICES: [0]\n",
      "\n",
      "  | Name           | Type                         | Params\n",
      "----------------------------------------------------------------\n",
      "0 | online_z_score | OnlineDictStandardizingLayer | 0     \n",
      "1 | CNN            | Sequential                   | 93.3 K\n",
      "2 | ptrans         | ParameterTransform           | 0     \n",
      "3 | classifier     | MarginalClassifier           | 2.4 M \n",
      "----------------------------------------------------------------\n",
      "2.5 M     Trainable params\n",
      "0         Non-trainable params\n",
      "2.5 M     Total params\n",
      "10.038    Total estimated model params size (MB)\n",
      "/home/weniger/miniconda3/envs/p38/lib/python3.8/site-packages/pytorch_lightning/callbacks/model_checkpoint.py:631: UserWarning: Checkpoint directory /home/weniger/codes/swyft_papergui/notebooks/GUI paper/lightning_logs/version_8757722/checkpoints exists and is not empty.\n",
      "  rank_zero_warn(f\"Checkpoint directory {dirpath} exists and is not empty.\")\n"
     ]
    },
    {
     "data": {
      "application/vnd.jupyter.widget-view+json": {
       "model_id": "",
       "version_major": 2,
       "version_minor": 0
      },
      "text/plain": [
       "Validation sanity check: 0it [00:00, ?it/s]"
      ]
     },
     "metadata": {},
     "output_type": "display_data"
    },
    {
     "name": "stderr",
     "output_type": "stream",
     "text": [
      "/home/weniger/miniconda3/envs/p38/lib/python3.8/site-packages/pytorch_lightning/trainer/data_loading.py:132: UserWarning: The dataloader, val_dataloader 0, does not have many workers which may be a bottleneck. Consider increasing the value of the `num_workers` argument` (try 24 which is the number of cpus on this machine) in the `DataLoader` init to improve performance.\n",
      "  rank_zero_warn(\n",
      "/home/weniger/miniconda3/envs/p38/lib/python3.8/site-packages/torch-1.9.0-py3.8-linux-x86_64.egg/torch/nn/functional.py:718: UserWarning: Named tensors and all their associated APIs are an experimental feature and subject to change. Please do not use them for anything important until they are released as stable. (Triggered internally at  /pytorch/c10/core/TensorImpl.h:1156.)\n",
      "  return torch.max_pool2d(input, kernel_size, stride, padding, dilation, ceil_mode)\n",
      "/home/weniger/miniconda3/envs/p38/lib/python3.8/site-packages/torch-1.9.0-py3.8-linux-x86_64.egg/torch/nn/_reduction.py:42: UserWarning: size_average and reduce args will be deprecated, please use reduction='none' instead.\n",
      "  warnings.warn(warning.format(ret))\n",
      "/home/weniger/miniconda3/envs/p38/lib/python3.8/site-packages/pytorch_lightning/trainer/data_loading.py:132: UserWarning: The dataloader, train_dataloader, does not have many workers which may be a bottleneck. Consider increasing the value of the `num_workers` argument` (try 24 which is the number of cpus on this machine) in the `DataLoader` init to improve performance.\n",
      "  rank_zero_warn(\n",
      "/home/weniger/miniconda3/envs/p38/lib/python3.8/site-packages/pytorch_lightning/trainer/data_loading.py:432: UserWarning: The number of training samples (32) is smaller than the logging interval Trainer(log_every_n_steps=50). Set a lower value for log_every_n_steps if you want to see logs for the training epoch.\n",
      "  rank_zero_warn(\n"
     ]
    },
    {
     "data": {
      "application/vnd.jupyter.widget-view+json": {
       "model_id": "e4a7b42b504249d681350350aa5d4fa3",
       "version_major": 2,
       "version_minor": 0
      },
      "text/plain": [
       "Training: 0it [00:00, ?it/s]"
      ]
     },
     "metadata": {},
     "output_type": "display_data"
    },
    {
     "data": {
      "application/vnd.jupyter.widget-view+json": {
       "model_id": "",
       "version_major": 2,
       "version_minor": 0
      },
      "text/plain": [
       "Validating: 0it [00:00, ?it/s]"
      ]
     },
     "metadata": {},
     "output_type": "display_data"
    },
    {
     "data": {
      "application/vnd.jupyter.widget-view+json": {
       "model_id": "",
       "version_major": 2,
       "version_minor": 0
      },
      "text/plain": [
       "Validating: 0it [00:00, ?it/s]"
      ]
     },
     "metadata": {},
     "output_type": "display_data"
    },
    {
     "data": {
      "application/vnd.jupyter.widget-view+json": {
       "model_id": "",
       "version_major": 2,
       "version_minor": 0
      },
      "text/plain": [
       "Validating: 0it [00:00, ?it/s]"
      ]
     },
     "metadata": {},
     "output_type": "display_data"
    },
    {
     "data": {
      "application/vnd.jupyter.widget-view+json": {
       "model_id": "097e7def81504be0a69acaf84ee7277c",
       "version_major": 2,
       "version_minor": 0
      },
      "text/plain": [
       "Validating: 0it [00:00, ?it/s]"
      ]
     },
     "metadata": {},
     "output_type": "display_data"
    },
    {
     "name": "stderr",
     "output_type": "stream",
     "text": [
      "/home/weniger/miniconda3/envs/p38/lib/python3.8/site-packages/pytorch_lightning/trainer/trainer.py:688: UserWarning: Detected KeyboardInterrupt, attempting graceful shutdown...\n",
      "  rank_zero_warn(\"Detected KeyboardInterrupt, attempting graceful shutdown...\")\n",
      "GPU available: True, used: True\n",
      "TPU available: False, using: 0 TPU cores\n",
      "IPU available: False, using: 0 IPUs\n",
      "LOCAL_RANK: 0 - CUDA_VISIBLE_DEVICES: [0]\n",
      "\n",
      "  | Name  | Type                     | Params\n",
      "---------------------------------------------------\n",
      "0 | l     | Linear                   | 110   \n",
      "1 | reg1d | RatioEstimatorGaussian1d | 0     \n",
      "2 | L     | Linear                   | 6.3 M \n",
      "---------------------------------------------------\n",
      "6.3 M     Trainable params\n",
      "0         Non-trainable params\n",
      "6.3 M     Total params\n",
      "25.010    Total estimated model params size (MB)\n"
     ]
    },
    {
     "data": {
      "application/vnd.jupyter.widget-view+json": {
       "model_id": "",
       "version_major": 2,
       "version_minor": 0
      },
      "text/plain": [
       "Validation sanity check: 0it [00:00, ?it/s]"
      ]
     },
     "metadata": {},
     "output_type": "display_data"
    },
    {
     "data": {
      "application/vnd.jupyter.widget-view+json": {
       "model_id": "02c0ccf26bf34a2e8b866946d025bd3a",
       "version_major": 2,
       "version_minor": 0
      },
      "text/plain": [
       "Training: 0it [00:00, ?it/s]"
      ]
     },
     "metadata": {},
     "output_type": "display_data"
    },
    {
     "data": {
      "application/vnd.jupyter.widget-view+json": {
       "model_id": "",
       "version_major": 2,
       "version_minor": 0
      },
      "text/plain": [
       "Validating: 0it [00:00, ?it/s]"
      ]
     },
     "metadata": {},
     "output_type": "display_data"
    },
    {
     "data": {
      "application/vnd.jupyter.widget-view+json": {
       "model_id": "",
       "version_major": 2,
       "version_minor": 0
      },
      "text/plain": [
       "Validating: 0it [00:00, ?it/s]"
      ]
     },
     "metadata": {},
     "output_type": "display_data"
    },
    {
     "data": {
      "application/vnd.jupyter.widget-view+json": {
       "model_id": "",
       "version_major": 2,
       "version_minor": 0
      },
      "text/plain": [
       "Validating: 0it [00:00, ?it/s]"
      ]
     },
     "metadata": {},
     "output_type": "display_data"
    },
    {
     "name": "stderr",
     "output_type": "stream",
     "text": [
      "/home/weniger/miniconda3/envs/p38/lib/python3.8/site-packages/pytorch_lightning/trainer/trainer.py:1398: UserWarning: `.predict(ckpt_path=None)` was called without a model. The best model of the previous `fit` call will be used. You can pass `predict(ckpt_path='best')` to use and best model checkpoint and avoid this warning or `ckpt_path=trainer.checkpoint_callback.last_model_path` to use the last model.\n",
      "  rank_zero_warn(\n",
      "Restoring states from the checkpoint path at /home/weniger/codes/swyft_papergui/notebooks/GUI paper/lightning_logs/version_8757722/checkpoints/epoch=2-step=95-v6.ckpt\n",
      "LOCAL_RANK: 0 - CUDA_VISIBLE_DEVICES: [0]\n",
      "Loaded model weights from checkpoint at /home/weniger/codes/swyft_papergui/notebooks/GUI paper/lightning_logs/version_8757722/checkpoints/epoch=2-step=95-v6.ckpt\n",
      "/home/weniger/miniconda3/envs/p38/lib/python3.8/site-packages/pytorch_lightning/trainer/data_loading.py:132: UserWarning: The dataloader, predict_dataloader 0, does not have many workers which may be a bottleneck. Consider increasing the value of the `num_workers` argument` (try 24 which is the number of cpus on this machine) in the `DataLoader` init to improve performance.\n",
      "  rank_zero_warn(\n"
     ]
    },
    {
     "data": {
      "application/vnd.jupyter.widget-view+json": {
       "model_id": "ad4de6e3ca80450e97fe396a96767a35",
       "version_major": 2,
       "version_minor": 0
      },
      "text/plain": [
       "Predicting: 32it [00:00, ?it/s]"
      ]
     },
     "metadata": {},
     "output_type": "display_data"
    },
    {
     "name": "stderr",
     "output_type": "stream",
     "text": [
      "\n",
      "\n",
      "  0%|          | 0/100 [00:00<?, ?it/s]\u001b[A\u001b[A<ipython-input-6-6c7c12c26adf>:16: UserWarning: To copy construct from a tensor, it is recommended to use sourceTensor.clone().detach() or sourceTensor.clone().detach().requires_grad_(True), rather than torch.tensor(sourceTensor).\n",
      "  image = torch.tensor(image_array)\n",
      "/home/weniger/miniconda3/envs/p38/lib/python3.8/site-packages/torch-1.9.0-py3.8-linux-x86_64.egg/torch/_tensor.py:575: UserWarning: floor_divide is deprecated, and will be removed in a future version of pytorch. It currently rounds toward 0 (like the 'trunc' function NOT 'floor'). This results in incorrect rounding for negative values.\n",
      "To keep the current behavior, use torch.div(a, b, rounding_mode='trunc'), or for actual floor division, use torch.div(a, b, rounding_mode='floor'). (Triggered internally at  /pytorch/aten/src/ATen/native/BinaryOps.cpp:467.)\n",
      "  return torch.floor_divide(self, other)\n",
      "\n",
      "\n",
      "  4%|▍         | 4/100 [00:00<00:02, 35.16it/s]\u001b[A\u001b[A\n",
      "\n",
      "  8%|▊         | 8/100 [00:00<00:02, 36.99it/s]\u001b[A\u001b[A\n",
      "\n",
      " 12%|█▏        | 12/100 [00:00<00:02, 37.17it/s]\u001b[A\u001b[A\n",
      "\n",
      " 16%|█▌        | 16/100 [00:00<00:02, 37.56it/s]\u001b[A\u001b[A\n",
      "\n",
      " 20%|██        | 20/100 [00:00<00:02, 37.82it/s]\u001b[A\u001b[A\n",
      "\n",
      " 24%|██▍       | 24/100 [00:00<00:01, 38.00it/s]\u001b[A\u001b[A\n",
      "\n",
      " 28%|██▊       | 28/100 [00:00<00:01, 38.14it/s]\u001b[A\u001b[A\n",
      "\n",
      " 32%|███▏      | 32/100 [00:00<00:01, 38.14it/s]\u001b[A\u001b[A\n",
      "\n",
      " 36%|███▌      | 36/100 [00:00<00:01, 38.05it/s]\u001b[A\u001b[A\n",
      "\n",
      " 40%|████      | 40/100 [00:01<00:01, 38.12it/s]\u001b[A\u001b[A\n",
      "\n",
      " 44%|████▍     | 44/100 [00:01<00:01, 38.14it/s]\u001b[A\u001b[A\n",
      "\n",
      " 48%|████▊     | 48/100 [00:01<00:01, 38.14it/s]\u001b[A\u001b[A\n",
      "\n",
      " 52%|█████▏    | 52/100 [00:01<00:01, 37.98it/s]\u001b[A\u001b[A\n",
      "\n",
      " 56%|█████▌    | 56/100 [00:01<00:01, 37.90it/s]\u001b[A\u001b[A\n",
      "\n",
      " 60%|██████    | 60/100 [00:01<00:01, 36.63it/s]\u001b[A\u001b[A\n",
      "\n",
      " 64%|██████▍   | 64/100 [00:01<00:00, 37.13it/s]\u001b[A\u001b[A\n",
      "\n",
      " 68%|██████▊   | 68/100 [00:01<00:00, 36.98it/s]\u001b[A\u001b[A\n",
      "\n",
      " 72%|███████▏  | 72/100 [00:01<00:00, 36.97it/s]\u001b[A\u001b[A\n",
      "\n",
      " 76%|███████▌  | 76/100 [00:02<00:00, 36.86it/s]\u001b[A\u001b[A\n",
      "\n",
      " 80%|████████  | 80/100 [00:02<00:00, 32.68it/s]\u001b[A\u001b[A\n",
      "\n",
      " 84%|████████▍ | 84/100 [00:02<00:00, 33.61it/s]\u001b[A\u001b[A\n",
      "\n",
      " 88%|████████▊ | 88/100 [00:02<00:00, 34.27it/s]\u001b[A\u001b[A\n",
      "\n",
      " 92%|█████████▏| 92/100 [00:02<00:00, 34.81it/s]\u001b[A\u001b[A\n",
      "\n",
      " 96%|█████████▌| 96/100 [00:02<00:00, 35.23it/s]\u001b[A\u001b[A\n",
      "\n",
      "100%|██████████| 100/100 [00:02<00:00, 36.47it/s]\u001b[A\u001b[A\n",
      "Restoring states from the checkpoint path at /home/weniger/codes/swyft_papergui/notebooks/GUI paper/lightning_logs/version_8757722/checkpoints/epoch=2-step=95-v7.ckpt\n",
      "LOCAL_RANK: 0 - CUDA_VISIBLE_DEVICES: [0]\n",
      "Loaded model weights from checkpoint at /home/weniger/codes/swyft_papergui/notebooks/GUI paper/lightning_logs/version_8757722/checkpoints/epoch=2-step=95-v7.ckpt\n"
     ]
    },
    {
     "data": {
      "application/vnd.jupyter.widget-view+json": {
       "model_id": "b5d054ace28e40d08b4ab3d32f154acd",
       "version_major": 2,
       "version_minor": 0
      },
      "text/plain": [
       "Predicting: 32it [00:00, ?it/s]"
      ]
     },
     "metadata": {},
     "output_type": "display_data"
    },
    {
     "name": "stderr",
     "output_type": "stream",
     "text": [
      "GPU available: True, used: True\n",
      "TPU available: False, using: 0 TPU cores\n",
      "IPU available: False, using: 0 IPUs\n",
      "LOCAL_RANK: 0 - CUDA_VISIBLE_DEVICES: [0]\n",
      "\n",
      "  | Name           | Type                         | Params\n",
      "----------------------------------------------------------------\n",
      "0 | online_z_score | OnlineDictStandardizingLayer | 0     \n",
      "1 | CNN            | Sequential                   | 93.3 K\n",
      "2 | ptrans         | ParameterTransform           | 0     \n",
      "3 | classifier     | MarginalClassifier           | 2.4 M \n",
      "----------------------------------------------------------------\n",
      "2.5 M     Trainable params\n",
      "0         Non-trainable params\n",
      "2.5 M     Total params\n",
      "10.038    Total estimated model params size (MB)\n"
     ]
    },
    {
     "data": {
      "application/vnd.jupyter.widget-view+json": {
       "model_id": "",
       "version_major": 2,
       "version_minor": 0
      },
      "text/plain": [
       "Validation sanity check: 0it [00:00, ?it/s]"
      ]
     },
     "metadata": {},
     "output_type": "display_data"
    },
    {
     "data": {
      "application/vnd.jupyter.widget-view+json": {
       "model_id": "2c82edb4914e46bd9cb1803099842882",
       "version_major": 2,
       "version_minor": 0
      },
      "text/plain": [
       "Training: 0it [00:00, ?it/s]"
      ]
     },
     "metadata": {},
     "output_type": "display_data"
    },
    {
     "data": {
      "application/vnd.jupyter.widget-view+json": {
       "model_id": "",
       "version_major": 2,
       "version_minor": 0
      },
      "text/plain": [
       "Validating: 0it [00:00, ?it/s]"
      ]
     },
     "metadata": {},
     "output_type": "display_data"
    },
    {
     "data": {
      "application/vnd.jupyter.widget-view+json": {
       "model_id": "",
       "version_major": 2,
       "version_minor": 0
      },
      "text/plain": [
       "Validating: 0it [00:00, ?it/s]"
      ]
     },
     "metadata": {},
     "output_type": "display_data"
    },
    {
     "data": {
      "application/vnd.jupyter.widget-view+json": {
       "model_id": "",
       "version_major": 2,
       "version_minor": 0
      },
      "text/plain": [
       "Validating: 0it [00:00, ?it/s]"
      ]
     },
     "metadata": {},
     "output_type": "display_data"
    },
    {
     "data": {
      "application/vnd.jupyter.widget-view+json": {
       "model_id": "",
       "version_major": 2,
       "version_minor": 0
      },
      "text/plain": [
       "Validating: 0it [00:00, ?it/s]"
      ]
     },
     "metadata": {},
     "output_type": "display_data"
    },
    {
     "data": {
      "application/vnd.jupyter.widget-view+json": {
       "model_id": "",
       "version_major": 2,
       "version_minor": 0
      },
      "text/plain": [
       "Validating: 0it [00:00, ?it/s]"
      ]
     },
     "metadata": {},
     "output_type": "display_data"
    },
    {
     "data": {
      "application/vnd.jupyter.widget-view+json": {
       "model_id": "",
       "version_major": 2,
       "version_minor": 0
      },
      "text/plain": [
       "Validating: 0it [00:00, ?it/s]"
      ]
     },
     "metadata": {},
     "output_type": "display_data"
    },
    {
     "data": {
      "application/vnd.jupyter.widget-view+json": {
       "model_id": "",
       "version_major": 2,
       "version_minor": 0
      },
      "text/plain": [
       "Validating: 0it [00:00, ?it/s]"
      ]
     },
     "metadata": {},
     "output_type": "display_data"
    },
    {
     "data": {
      "application/vnd.jupyter.widget-view+json": {
       "model_id": "",
       "version_major": 2,
       "version_minor": 0
      },
      "text/plain": [
       "Validating: 0it [00:00, ?it/s]"
      ]
     },
     "metadata": {},
     "output_type": "display_data"
    },
    {
     "data": {
      "application/vnd.jupyter.widget-view+json": {
       "model_id": "",
       "version_major": 2,
       "version_minor": 0
      },
      "text/plain": [
       "Validating: 0it [00:00, ?it/s]"
      ]
     },
     "metadata": {},
     "output_type": "display_data"
    },
    {
     "data": {
      "application/vnd.jupyter.widget-view+json": {
       "model_id": "",
       "version_major": 2,
       "version_minor": 0
      },
      "text/plain": [
       "Validating: 0it [00:00, ?it/s]"
      ]
     },
     "metadata": {},
     "output_type": "display_data"
    },
    {
     "name": "stderr",
     "output_type": "stream",
     "text": [
      "GPU available: True, used: True\n",
      "TPU available: False, using: 0 TPU cores\n",
      "IPU available: False, using: 0 IPUs\n",
      "LOCAL_RANK: 0 - CUDA_VISIBLE_DEVICES: [0]\n",
      "\n",
      "  | Name  | Type                     | Params\n",
      "---------------------------------------------------\n",
      "0 | l     | Linear                   | 110   \n",
      "1 | reg1d | RatioEstimatorGaussian1d | 0     \n",
      "2 | L     | Linear                   | 6.3 M \n",
      "---------------------------------------------------\n",
      "6.3 M     Trainable params\n",
      "0         Non-trainable params\n",
      "6.3 M     Total params\n",
      "25.010    Total estimated model params size (MB)\n"
     ]
    },
    {
     "data": {
      "application/vnd.jupyter.widget-view+json": {
       "model_id": "",
       "version_major": 2,
       "version_minor": 0
      },
      "text/plain": [
       "Validation sanity check: 0it [00:00, ?it/s]"
      ]
     },
     "metadata": {},
     "output_type": "display_data"
    },
    {
     "data": {
      "application/vnd.jupyter.widget-view+json": {
       "model_id": "a36173dae5884b5394b3d0b7779ebfec",
       "version_major": 2,
       "version_minor": 0
      },
      "text/plain": [
       "Training: 0it [00:00, ?it/s]"
      ]
     },
     "metadata": {},
     "output_type": "display_data"
    },
    {
     "data": {
      "application/vnd.jupyter.widget-view+json": {
       "model_id": "",
       "version_major": 2,
       "version_minor": 0
      },
      "text/plain": [
       "Validating: 0it [00:00, ?it/s]"
      ]
     },
     "metadata": {},
     "output_type": "display_data"
    },
    {
     "data": {
      "application/vnd.jupyter.widget-view+json": {
       "model_id": "",
       "version_major": 2,
       "version_minor": 0
      },
      "text/plain": [
       "Validating: 0it [00:00, ?it/s]"
      ]
     },
     "metadata": {},
     "output_type": "display_data"
    },
    {
     "data": {
      "application/vnd.jupyter.widget-view+json": {
       "model_id": "",
       "version_major": 2,
       "version_minor": 0
      },
      "text/plain": [
       "Validating: 0it [00:00, ?it/s]"
      ]
     },
     "metadata": {},
     "output_type": "display_data"
    },
    {
     "name": "stderr",
     "output_type": "stream",
     "text": [
      "Restoring states from the checkpoint path at /home/weniger/codes/swyft_papergui/notebooks/GUI paper/lightning_logs/version_8757722/checkpoints/epoch=9-step=319-v6.ckpt\n",
      "LOCAL_RANK: 0 - CUDA_VISIBLE_DEVICES: [0]\n",
      "Loaded model weights from checkpoint at /home/weniger/codes/swyft_papergui/notebooks/GUI paper/lightning_logs/version_8757722/checkpoints/epoch=9-step=319-v6.ckpt\n"
     ]
    },
    {
     "data": {
      "application/vnd.jupyter.widget-view+json": {
       "model_id": "0cbe4951140c4611aa9ba7c90b49c411",
       "version_major": 2,
       "version_minor": 0
      },
      "text/plain": [
       "Predicting: 32it [00:00, ?it/s]"
      ]
     },
     "metadata": {},
     "output_type": "display_data"
    },
    {
     "name": "stderr",
     "output_type": "stream",
     "text": [
      "\n",
      "\n",
      "  0%|          | 0/100 [00:00<?, ?it/s]\u001b[A\u001b[A\n",
      "\n",
      "  4%|▍         | 4/100 [00:00<00:02, 37.51it/s]\u001b[A\u001b[A\n",
      "\n",
      "  8%|▊         | 8/100 [00:00<00:02, 37.84it/s]\u001b[A\u001b[A\n",
      "\n",
      " 12%|█▏        | 12/100 [00:00<00:02, 37.99it/s]\u001b[A\u001b[A\n",
      "\n",
      " 16%|█▌        | 16/100 [00:00<00:02, 38.04it/s]\u001b[A\u001b[A\n",
      "\n",
      " 20%|██        | 20/100 [00:00<00:02, 37.51it/s]\u001b[A\u001b[A\n",
      "\n",
      " 24%|██▍       | 24/100 [00:00<00:02, 37.46it/s]\u001b[A\u001b[A\n",
      "\n",
      " 28%|██▊       | 28/100 [00:00<00:01, 37.68it/s]\u001b[A\u001b[A\n",
      "\n",
      " 32%|███▏      | 32/100 [00:00<00:01, 37.81it/s]\u001b[A\u001b[A\n",
      "\n",
      " 36%|███▌      | 36/100 [00:00<00:01, 37.67it/s]\u001b[A\u001b[A\n",
      "\n",
      " 40%|████      | 40/100 [00:01<00:01, 37.34it/s]\u001b[A\u001b[A\n",
      "\n",
      " 44%|████▍     | 44/100 [00:01<00:01, 37.08it/s]\u001b[A\u001b[A\n",
      "\n",
      " 48%|████▊     | 48/100 [00:01<00:01, 37.03it/s]\u001b[A\u001b[A\n",
      "\n",
      " 52%|█████▏    | 52/100 [00:01<00:01, 37.25it/s]\u001b[A\u001b[A\n",
      "\n",
      " 56%|█████▌    | 56/100 [00:01<00:01, 37.38it/s]\u001b[A\u001b[A\n",
      "\n",
      " 60%|██████    | 60/100 [00:01<00:01, 37.43it/s]\u001b[A\u001b[A\n",
      "\n",
      " 64%|██████▍   | 64/100 [00:01<00:00, 37.31it/s]\u001b[A\u001b[A\n",
      "\n",
      " 68%|██████▊   | 68/100 [00:01<00:00, 37.21it/s]\u001b[A\u001b[A\n",
      "\n",
      " 72%|███████▏  | 72/100 [00:01<00:00, 37.20it/s]\u001b[A\u001b[A\n",
      "\n",
      " 76%|███████▌  | 76/100 [00:02<00:00, 36.90it/s]\u001b[A\u001b[A\n",
      "\n",
      " 80%|████████  | 80/100 [00:02<00:00, 37.01it/s]\u001b[A\u001b[A\n",
      "\n",
      " 84%|████████▍ | 84/100 [00:02<00:00, 36.98it/s]\u001b[A\u001b[A\n",
      "\n",
      " 88%|████████▊ | 88/100 [00:02<00:00, 36.81it/s]\u001b[A\u001b[A\n",
      "\n",
      " 92%|█████████▏| 92/100 [00:02<00:00, 36.91it/s]\u001b[A\u001b[A\n",
      "\n",
      " 96%|█████████▌| 96/100 [00:02<00:00, 37.00it/s]\u001b[A\u001b[A\n",
      "\n",
      "100%|██████████| 100/100 [00:02<00:00, 37.20it/s]\u001b[A\u001b[A\n",
      "Restoring states from the checkpoint path at /home/weniger/codes/swyft_papergui/notebooks/GUI paper/lightning_logs/version_8757722/checkpoints/epoch=2-step=95-v8.ckpt\n",
      "LOCAL_RANK: 0 - CUDA_VISIBLE_DEVICES: [0]\n",
      "Loaded model weights from checkpoint at /home/weniger/codes/swyft_papergui/notebooks/GUI paper/lightning_logs/version_8757722/checkpoints/epoch=2-step=95-v8.ckpt\n"
     ]
    },
    {
     "data": {
      "application/vnd.jupyter.widget-view+json": {
       "model_id": "25ec7f9e0682402fb2636a02e2d07b13",
       "version_major": 2,
       "version_minor": 0
      },
      "text/plain": [
       "Predicting: 32it [00:00, ?it/s]"
      ]
     },
     "metadata": {},
     "output_type": "display_data"
    },
    {
     "name": "stderr",
     "output_type": "stream",
     "text": [
      "GPU available: True, used: True\n",
      "TPU available: False, using: 0 TPU cores\n",
      "IPU available: False, using: 0 IPUs\n",
      "LOCAL_RANK: 0 - CUDA_VISIBLE_DEVICES: [0]\n",
      "\n",
      "  | Name           | Type                         | Params\n",
      "----------------------------------------------------------------\n",
      "0 | online_z_score | OnlineDictStandardizingLayer | 0     \n",
      "1 | CNN            | Sequential                   | 93.3 K\n",
      "2 | ptrans         | ParameterTransform           | 0     \n",
      "3 | classifier     | MarginalClassifier           | 2.4 M \n",
      "----------------------------------------------------------------\n",
      "2.5 M     Trainable params\n",
      "0         Non-trainable params\n",
      "2.5 M     Total params\n",
      "10.038    Total estimated model params size (MB)\n"
     ]
    },
    {
     "data": {
      "application/vnd.jupyter.widget-view+json": {
       "model_id": "",
       "version_major": 2,
       "version_minor": 0
      },
      "text/plain": [
       "Validation sanity check: 0it [00:00, ?it/s]"
      ]
     },
     "metadata": {},
     "output_type": "display_data"
    },
    {
     "data": {
      "application/vnd.jupyter.widget-view+json": {
       "model_id": "111bc22abdbb4d549ed6009b602698cb",
       "version_major": 2,
       "version_minor": 0
      },
      "text/plain": [
       "Training: 0it [00:00, ?it/s]"
      ]
     },
     "metadata": {},
     "output_type": "display_data"
    },
    {
     "data": {
      "application/vnd.jupyter.widget-view+json": {
       "model_id": "",
       "version_major": 2,
       "version_minor": 0
      },
      "text/plain": [
       "Validating: 0it [00:00, ?it/s]"
      ]
     },
     "metadata": {},
     "output_type": "display_data"
    },
    {
     "data": {
      "application/vnd.jupyter.widget-view+json": {
       "model_id": "",
       "version_major": 2,
       "version_minor": 0
      },
      "text/plain": [
       "Validating: 0it [00:00, ?it/s]"
      ]
     },
     "metadata": {},
     "output_type": "display_data"
    },
    {
     "data": {
      "application/vnd.jupyter.widget-view+json": {
       "model_id": "",
       "version_major": 2,
       "version_minor": 0
      },
      "text/plain": [
       "Validating: 0it [00:00, ?it/s]"
      ]
     },
     "metadata": {},
     "output_type": "display_data"
    },
    {
     "data": {
      "application/vnd.jupyter.widget-view+json": {
       "model_id": "",
       "version_major": 2,
       "version_minor": 0
      },
      "text/plain": [
       "Validating: 0it [00:00, ?it/s]"
      ]
     },
     "metadata": {},
     "output_type": "display_data"
    },
    {
     "data": {
      "application/vnd.jupyter.widget-view+json": {
       "model_id": "",
       "version_major": 2,
       "version_minor": 0
      },
      "text/plain": [
       "Validating: 0it [00:00, ?it/s]"
      ]
     },
     "metadata": {},
     "output_type": "display_data"
    },
    {
     "data": {
      "application/vnd.jupyter.widget-view+json": {
       "model_id": "",
       "version_major": 2,
       "version_minor": 0
      },
      "text/plain": [
       "Validating: 0it [00:00, ?it/s]"
      ]
     },
     "metadata": {},
     "output_type": "display_data"
    },
    {
     "data": {
      "application/vnd.jupyter.widget-view+json": {
       "model_id": "",
       "version_major": 2,
       "version_minor": 0
      },
      "text/plain": [
       "Validating: 0it [00:00, ?it/s]"
      ]
     },
     "metadata": {},
     "output_type": "display_data"
    },
    {
     "data": {
      "application/vnd.jupyter.widget-view+json": {
       "model_id": "",
       "version_major": 2,
       "version_minor": 0
      },
      "text/plain": [
       "Validating: 0it [00:00, ?it/s]"
      ]
     },
     "metadata": {},
     "output_type": "display_data"
    },
    {
     "data": {
      "application/vnd.jupyter.widget-view+json": {
       "model_id": "",
       "version_major": 2,
       "version_minor": 0
      },
      "text/plain": [
       "Validating: 0it [00:00, ?it/s]"
      ]
     },
     "metadata": {},
     "output_type": "display_data"
    },
    {
     "data": {
      "application/vnd.jupyter.widget-view+json": {
       "model_id": "",
       "version_major": 2,
       "version_minor": 0
      },
      "text/plain": [
       "Validating: 0it [00:00, ?it/s]"
      ]
     },
     "metadata": {},
     "output_type": "display_data"
    },
    {
     "name": "stderr",
     "output_type": "stream",
     "text": [
      "GPU available: True, used: True\n",
      "TPU available: False, using: 0 TPU cores\n",
      "IPU available: False, using: 0 IPUs\n",
      "LOCAL_RANK: 0 - CUDA_VISIBLE_DEVICES: [0]\n",
      "\n",
      "  | Name  | Type                     | Params\n",
      "---------------------------------------------------\n",
      "0 | l     | Linear                   | 110   \n",
      "1 | reg1d | RatioEstimatorGaussian1d | 0     \n",
      "2 | L     | Linear                   | 6.3 M \n",
      "---------------------------------------------------\n",
      "6.3 M     Trainable params\n",
      "0         Non-trainable params\n",
      "6.3 M     Total params\n",
      "25.010    Total estimated model params size (MB)\n"
     ]
    },
    {
     "data": {
      "application/vnd.jupyter.widget-view+json": {
       "model_id": "",
       "version_major": 2,
       "version_minor": 0
      },
      "text/plain": [
       "Validation sanity check: 0it [00:00, ?it/s]"
      ]
     },
     "metadata": {},
     "output_type": "display_data"
    },
    {
     "data": {
      "application/vnd.jupyter.widget-view+json": {
       "model_id": "03622c83ad4a4ef7b7acbea522c4c5f0",
       "version_major": 2,
       "version_minor": 0
      },
      "text/plain": [
       "Training: 0it [00:00, ?it/s]"
      ]
     },
     "metadata": {},
     "output_type": "display_data"
    },
    {
     "data": {
      "application/vnd.jupyter.widget-view+json": {
       "model_id": "",
       "version_major": 2,
       "version_minor": 0
      },
      "text/plain": [
       "Validating: 0it [00:00, ?it/s]"
      ]
     },
     "metadata": {},
     "output_type": "display_data"
    },
    {
     "data": {
      "application/vnd.jupyter.widget-view+json": {
       "model_id": "",
       "version_major": 2,
       "version_minor": 0
      },
      "text/plain": [
       "Validating: 0it [00:00, ?it/s]"
      ]
     },
     "metadata": {},
     "output_type": "display_data"
    },
    {
     "data": {
      "application/vnd.jupyter.widget-view+json": {
       "model_id": "",
       "version_major": 2,
       "version_minor": 0
      },
      "text/plain": [
       "Validating: 0it [00:00, ?it/s]"
      ]
     },
     "metadata": {},
     "output_type": "display_data"
    },
    {
     "name": "stderr",
     "output_type": "stream",
     "text": [
      "Restoring states from the checkpoint path at /home/weniger/codes/swyft_papergui/notebooks/GUI paper/lightning_logs/version_8757722/checkpoints/epoch=9-step=319-v7.ckpt\n",
      "LOCAL_RANK: 0 - CUDA_VISIBLE_DEVICES: [0]\n",
      "Loaded model weights from checkpoint at /home/weniger/codes/swyft_papergui/notebooks/GUI paper/lightning_logs/version_8757722/checkpoints/epoch=9-step=319-v7.ckpt\n"
     ]
    },
    {
     "data": {
      "application/vnd.jupyter.widget-view+json": {
       "model_id": "19ebdc5af134461d900e12d0707aede2",
       "version_major": 2,
       "version_minor": 0
      },
      "text/plain": [
       "Predicting: 32it [00:00, ?it/s]"
      ]
     },
     "metadata": {},
     "output_type": "display_data"
    },
    {
     "name": "stderr",
     "output_type": "stream",
     "text": [
      "\n",
      "\n",
      "  0%|          | 0/100 [00:00<?, ?it/s]\u001b[A\u001b[A\n",
      "\n",
      "  4%|▍         | 4/100 [00:00<00:02, 38.19it/s]\u001b[A\u001b[A\n",
      "\n",
      "  8%|▊         | 8/100 [00:00<00:02, 38.25it/s]\u001b[A\u001b[A\n",
      "\n",
      " 12%|█▏        | 12/100 [00:00<00:02, 38.24it/s]\u001b[A\u001b[A\n",
      "\n",
      " 16%|█▌        | 16/100 [00:00<00:02, 38.23it/s]\u001b[A\u001b[A\n",
      "\n",
      " 20%|██        | 20/100 [00:00<00:02, 38.22it/s]\u001b[A\u001b[A\n",
      "\n",
      " 24%|██▍       | 24/100 [00:00<00:01, 38.11it/s]\u001b[A\u001b[A\n",
      "\n",
      " 28%|██▊       | 28/100 [00:00<00:01, 38.15it/s]\u001b[A\u001b[A\n",
      "\n",
      " 32%|███▏      | 32/100 [00:00<00:01, 38.19it/s]\u001b[A\u001b[A\n",
      "\n",
      " 36%|███▌      | 36/100 [00:00<00:01, 38.24it/s]\u001b[A\u001b[A\n",
      "\n",
      " 40%|████      | 40/100 [00:01<00:01, 38.25it/s]\u001b[A\u001b[A\n",
      "\n",
      " 44%|████▍     | 44/100 [00:01<00:01, 36.53it/s]\u001b[A\u001b[A\n",
      "\n",
      " 48%|████▊     | 48/100 [00:01<00:01, 36.98it/s]\u001b[A\u001b[A\n",
      "\n",
      " 52%|█████▏    | 52/100 [00:01<00:01, 35.89it/s]\u001b[A\u001b[A\n",
      "\n",
      " 56%|█████▌    | 56/100 [00:01<00:01, 36.22it/s]\u001b[A\u001b[A\n",
      "\n",
      " 60%|██████    | 60/100 [00:01<00:01, 36.51it/s]\u001b[A\u001b[A\n",
      "\n",
      " 64%|██████▍   | 64/100 [00:01<00:00, 36.72it/s]\u001b[A\u001b[A\n",
      "\n",
      " 68%|██████▊   | 68/100 [00:01<00:00, 36.84it/s]\u001b[A\u001b[A\n",
      "\n",
      " 72%|███████▏  | 72/100 [00:01<00:00, 36.95it/s]\u001b[A\u001b[A\n",
      "\n",
      " 76%|███████▌  | 76/100 [00:02<00:00, 37.01it/s]\u001b[A\u001b[A\n",
      "\n",
      " 80%|████████  | 80/100 [00:02<00:00, 37.05it/s]\u001b[A\u001b[A\n",
      "\n",
      " 84%|████████▍ | 84/100 [00:02<00:00, 37.00it/s]\u001b[A\u001b[A\n",
      "\n",
      " 88%|████████▊ | 88/100 [00:02<00:00, 37.04it/s]\u001b[A\u001b[A\n",
      "\n",
      " 92%|█████████▏| 92/100 [00:02<00:00, 37.09it/s]\u001b[A\u001b[A\n",
      "\n",
      " 96%|█████████▌| 96/100 [00:02<00:00, 37.12it/s]\u001b[A\u001b[A\n",
      "\n",
      "100%|██████████| 100/100 [00:02<00:00, 37.19it/s]\u001b[A\u001b[A\n",
      "Restoring states from the checkpoint path at /home/weniger/codes/swyft_papergui/notebooks/GUI paper/lightning_logs/version_8757722/checkpoints/epoch=2-step=95-v9.ckpt\n",
      "LOCAL_RANK: 0 - CUDA_VISIBLE_DEVICES: [0]\n",
      "Loaded model weights from checkpoint at /home/weniger/codes/swyft_papergui/notebooks/GUI paper/lightning_logs/version_8757722/checkpoints/epoch=2-step=95-v9.ckpt\n"
     ]
    },
    {
     "data": {
      "application/vnd.jupyter.widget-view+json": {
       "model_id": "8635edabe8c942d793576a6c447652ee",
       "version_major": 2,
       "version_minor": 0
      },
      "text/plain": [
       "Predicting: 32it [00:00, ?it/s]"
      ]
     },
     "metadata": {},
     "output_type": "display_data"
    }
   ],
   "source": [
    "bounds = None\n",
    "results = []\n",
    "for i in range(R1):\n",
    "    # s1: img, lens, src ~ p(img|lens, src)p(lens)p(src)\n",
    "    s1 = get_datadict(Ntrain1, bounds = bounds, file_path = 'data_%s_%i_i%i.pt'%(tag, Ntrain1, i))\n",
    "    \n",
    "    # r1: p(z_lens|img)/p(z_lens)\n",
    "    r1 = LensNetwork()\n",
    "    \n",
    "    # d1: split img vs z_lens\n",
    "    d1 = DictDataset(s1, hook = noise, x_keys = ['img'], z_keys=['z_lens'])\n",
    "    l1 = torch.utils.data.DataLoader(d1, batch_size=64)  # TODO: Absorb fitter\n",
    "    \n",
    "    # Train r1 with d1, based on s1\n",
    "    t1 = SwyftTrainer(accelerator = 'gpu', gpus=1, max_epochs = ME)\n",
    "    t1.fit(r1, l1, l1)\n",
    "\n",
    "    # r2: p(src|z_lens, img)/p(src)\n",
    "    r2 = SourceNetwork()\n",
    "    \n",
    "    # d2: split (img, kNN_idx) vs src\n",
    "    d2 = DictDataset(s1, hook = noise, x_keys = ['img', 'kNN_idx'], z_keys=['src'])\n",
    "    l2 = torch.utils.data.DataLoader(d2, batch_size=64)  # TODO: Absorb in fitter\n",
    "    \n",
    "    # Train r2 with d1, based on s1\n",
    "    t2 = SwyftTrainer(accelerator = 'gpu', gpus=1, max_epochs = 3)\n",
    "    t2.fit(r2, l2, l2)\n",
    "    \n",
    "    # ws1: z_lens ~ p(z_lens|img_obs)  --  these are weighted samples\n",
    "    ws1 = t1.infer(l1, condition_x = x0)   # TODO: Return some weighted sample class\n",
    "    \n",
    "    # d2: lens ~ p(z_lens|img_obs)  --  unweighted samples\n",
    "    s2 = dict(z_lens = subsample_posterior(100, ws1['z_lens']))  # TODO: Should be just sample statement\n",
    "    \n",
    "    # d3: img, lens, src ~ p(img|lens, src)p(lens|img_obs)\n",
    "    s3 = get_datadict(100, lens_samples = s2)\n",
    "    \n",
    "    # d3: split (img, kNN) vs (z_lens, src)\n",
    "    d3 = DictDataset(s3, hook = noise, x_keys = ['img', 'kNN_idx'], z_keys=['z_lens', 'src'])\n",
    "    l3  = torch.utils.data.DataLoader(d3, batch_size=16)  # TODO: Absorb\n",
    "    \n",
    "    # ws2: src ~ p(src|img_obs) = \\int dlens p(src|lens, img_obs)*p(lens|img_obs)  --  weighted samples\n",
    "    ws2 = t2.infer(l3, condition_x = x0)  # TODO: Return weighted sample class\n",
    "    \n",
    "    # Rectangle Bounds\n",
    "    all_inference = dict(**ws1, **ws2)\n",
    "    bounds = get_1d_rect_bounds(all_inference, th = 1e-5)  # for p(z_lens)\n",
    "    results.append(dict(bounds = bounds, t1=t1, t2=t2, d1=d1, ws1=ws1, ws2=ws2))"
   ]
  },
  {
   "cell_type": "code",
   "execution_count": 53,
   "id": "37962dc4-f058-4123-a898-1f22026dd349",
   "metadata": {},
   "outputs": [
    {
     "data": {
      "image/png": "[encoded data removed]",
      "text/plain": [
       "<Figure size 432x288 with 1 Axes>"
      ]
     },
     "metadata": {
      "needs_background": "light"
     },
     "output_type": "display_data"
    }
   ],
   "source": [
    "i = 4\n",
    "#print(1)\n",
    "#inference = trainer.infer(train_loader, condition_x = x0)\n",
    "inference = results[-1]['ws1']\n",
    "z = inference['z_lens']\n",
    "w = z[:,i,0].detach().cpu().numpy()\n",
    "p = z[:,i,1].detach().cpu().numpy()\n",
    "plt.axvline(z0['z_lens'][i].cpu(), color='r')\n",
    "wn = np.exp(w-w.max())\n",
    "plt.hist(p, weights = wn, bins = 50);"
   ]
  },
  {
   "cell_type": "code",
   "execution_count": 60,
   "id": "6517da4a-e752-47ff-92c9-e11226606db6",
   "metadata": {},
   "outputs": [
    {
     "data": {
      "text/plain": [
       "torch.Size([50, 50, 2])"
      ]
     },
     "execution_count": 60,
     "metadata": {},
     "output_type": "execute_result"
    }
   ],
   "source": [
    "ws2['z_src'].mean(axis=0).shape"
   ]
  },
  {
   "cell_type": "code",
   "execution_count": 78,
   "id": "5673af62-f2e2-44b4-9049-cc3491780296",
   "metadata": {},
   "outputs": [],
   "source": [
    "b = bounds['z_src']"
   ]
  },
  {
   "cell_type": "code",
   "execution_count": 92,
   "id": "9de018b0-cc5e-4d79-a8ef-c206ff6a5530",
   "metadata": {},
   "outputs": [],
   "source": [
    "m = b.mean(axis=-1)"
   ]
  },
  {
   "cell_type": "code",
   "execution_count": 87,
   "id": "3faa31f4-1898-4dde-8a96-be4fb4bec68f",
   "metadata": {},
   "outputs": [
    {
     "data": {
      "text/plain": [
       "<matplotlib.colorbar.Colorbar at 0x151b30b3ecd0>"
      ]
     },
     "execution_count": 87,
     "metadata": {},
     "output_type": "execute_result"
    },
    {
     "data": {
      "image/png": "[encoded data removed]",
      "text/plain": [
       "<Figure size 432x288 with 2 Axes>"
      ]
     },
     "metadata": {
      "needs_background": "light"
     },
     "output_type": "display_data"
    }
   ],
   "source": [
    "s = b.std(axis=-1)\n",
    "plt.imshow(s)\n",
    "plt.colorbar()"
   ]
  },
  {
   "cell_type": "code",
   "execution_count": 88,
   "id": "09c0e823-fd02-4fda-8270-abbc3873647e",
   "metadata": {},
   "outputs": [],
   "source": [
    "src = rnd_src().cpu()"
   ]
  },
  {
   "cell_type": "code",
   "execution_count": 148,
   "id": "677a27ee-2f6b-489d-9f74-6f70627495cb",
   "metadata": {},
   "outputs": [
    {
     "data": {
      "text/plain": [
       "<matplotlib.colorbar.Colorbar at 0x151b14259ca0>"
      ]
     },
     "execution_count": 148,
     "metadata": {},
     "output_type": "execute_result"
    },
    {
     "data": {
      "image/png": "[encoded data removed]",
      "text/plain": [
       "<Figure size 432x288 with 2 Axes>"
      ]
     },
     "metadata": {
      "needs_background": "light"
     },
     "output_type": "display_data"
    }
   ],
   "source": [
    "rnd_src = RandomSource()\n",
    "dist = rnd_src().cpu() - rnd_src().cpu()\n",
    "dist /= dist.std()\n",
    "src = dist*s*0.2 + m\n",
    "plt.imshow(src)\n",
    "plt.colorbar()"
   ]
  },
  {
   "cell_type": "code",
   "execution_count": null,
   "id": "87c9a50f-45e6-4082-acda-a430614022d0",
   "metadata": {},
   "outputs": [],
   "source": []
  }
 ],
 "metadata": {
  "kernelspec": {
   "display_name": "p38",
   "language": "python",
   "name": "p38"
  },
  "language_info": {
   "codemirror_mode": {
    "name": "ipython",
    "version": 3
   },
   "file_extension": ".py",
   "mimetype": "text/x-python",
   "name": "python",
   "nbconvert_exporter": "python",
   "pygments_lexer": "ipython3",
   "version": "3.8.2"
  }
 },
 "nbformat": 4,
 "nbformat_minor": 5
}
