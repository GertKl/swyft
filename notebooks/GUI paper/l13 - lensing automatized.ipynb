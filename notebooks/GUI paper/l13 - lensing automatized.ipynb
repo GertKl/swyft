{
 "cells": [
  {
   "cell_type": "code",
   "execution_count": 145,
   "id": "3822aac4-d5eb-4979-b237-70c80d2489e8",
   "metadata": {},
   "outputs": [
    {
     "name": "stdout",
     "output_type": "stream",
     "text": [
      "The autoreload extension is already loaded. To reload it, use:\n",
      "  %reload_ext autoreload\n"
     ]
    }
   ],
   "source": [
    "# Makes it easier to debug\n",
    "%load_ext autoreload\n",
    "#%load_ext line_profiler\n",
    "%autoreload 2"
   ]
  },
  {
   "cell_type": "code",
   "execution_count": 2,
   "id": "0297c907",
   "metadata": {},
   "outputs": [],
   "source": [
    "import pylab as plt\n",
    "import numpy as np\n",
    "import skimage.transform\n",
    "import skimage.restoration\n",
    "from tqdm import tqdm\n",
    "import skimage.filters\n",
    "import torch\n",
    "import torch.nn as nn\n",
    "import typing as tp\n",
    "from pyrofit.utils import pad_dims\n",
    "from torch.nn.functional import grid_sample\n",
    "from pyro import distributions as dist\n",
    "from pyrofit.lensing.utils import get_meshgrid\n",
    "from pyrofit.lensing.lenses import SPLELens\n",
    "from pyrofit.lensing.sources import SersicSource, AnalyticSource\n",
    "from pyrofit.utils.torchutils import _mid_many, unravel_index\n",
    "from pyrofit.utils import kNN\n",
    "from fft_conv_pytorch import fft_conv, FFTConv2d\n",
    "import swyft"
   ]
  },
  {
   "cell_type": "markdown",
   "id": "54ca6745",
   "metadata": {},
   "source": [
    "## Basic idea\n",
    "\n",
    "1) We learn $p(L|I)$ based on joined samples $L, I \\sim p(L, I)$ vs marginal samples $L, I \\sim p(L) p(I)$.  Here, we identify $z = L$ and $x = I$.\n",
    "2) We learn $p(S|I, L)$, based on the identification of $x = (I, L)$ and $z=S$."
   ]
  },
  {
   "cell_type": "code",
   "execution_count": 3,
   "id": "e7c8a19d",
   "metadata": {},
   "outputs": [],
   "source": [
    "torch.cuda.set_device(0)\n",
    "torch.set_default_tensor_type(torch.cuda.FloatTensor)\n",
    "DEVICE='cuda'"
   ]
  },
  {
   "cell_type": "code",
   "execution_count": 4,
   "id": "7ca2b302",
   "metadata": {},
   "outputs": [],
   "source": [
    "NPIX = 50\n",
    "CHANNELS = [0.5, 1, 2, 4, 8, 16, 32]\n",
    "SIGMA = 0.02\n",
    "KNN = 3"
   ]
  },
  {
   "cell_type": "markdown",
   "id": "bc4ebb62",
   "metadata": {
    "tags": []
   },
   "source": [
    "## General helper functions - should be part of swyft"
   ]
  },
  {
   "cell_type": "code",
   "execution_count": 5,
   "id": "33dfb7de-9be8-4a7d-84cc-6cca19918248",
   "metadata": {},
   "outputs": [],
   "source": [
    "def std_mean_weighted(x, w):\n",
    "    m = (x*w).sum(axis=0)/w.sum(axis=0)\n",
    "    r = x - m\n",
    "    v = (r*r*w).sum(axis=0)/w.sum(axis=0)\n",
    "    return m, v"
   ]
  },
  {
   "cell_type": "code",
   "execution_count": 6,
   "id": "b37bf403-8a52-4557-87ca-25b7af0d33f0",
   "metadata": {},
   "outputs": [],
   "source": [
    "# Estimate mean and variance of p(S|I)\n",
    "def mean_std(s):\n",
    "    #z_src_weighted = (s[..., 0] * s[..., 1]).sum(axis=0)/(s[..., 0]).sum(axis=0)\n",
    "    m_src, v_src = std_mean_weighted(s[..., 1], s[..., 0])\n",
    "    std_src = v_src**0.5\n",
    "    return m_src, std_src"
   ]
  },
  {
   "cell_type": "code",
   "execution_count": 7,
   "id": "c0eb4bd0",
   "metadata": {},
   "outputs": [],
   "source": [
    "class RatioEstimatorGaussian1d(torch.nn.Module):\n",
    "    def __init__(self, momentum = 0.1):\n",
    "        super().__init__()\n",
    "        self.momentum = momentum        \n",
    "        self.x_mean = None\n",
    "        self.z_mean = None\n",
    "        self.x_var = None\n",
    "        self.z_var = None\n",
    "        self.xz_cov = None\n",
    "        \n",
    "    def forward(self, x: torch.Tensor, z: torch.Tensor) -> torch.Tensor:\n",
    "        \"\"\"2-dim Gaussian approximation to marginals and joint, assuming (B, N).\"\"\"\n",
    "        if self.training:\n",
    "            # Covariance estimates must be based on joined samples only\n",
    "            # NOTE: This makes assumptions about the structure of mini batches during training (J, M, M, J, J, M, M, J, ...)\n",
    "            # TODO: Change to (J, M, J, M, J, M, ...) in the future\n",
    "            batch_size = len(x)\n",
    "            idx = np.array([[i, i+3] for i in np.arange(0, batch_size, 4)]).flatten() \n",
    "            \n",
    "            # Estimation w/o Bessel's correction, using simple MLE estimate (https://en.wikipedia.org/wiki/Estimation_of_covariance_matrices)\n",
    "            x_mean_batch = x[idx].mean(dim=0).detach()\n",
    "            z_mean_batch = z[idx].mean(dim=0).detach()\n",
    "            x_var_batch = ((x[idx]-x_mean_batch)**2).mean(dim=0).detach()\n",
    "            z_var_batch = ((z[idx]-z_mean_batch)**2).mean(dim=0).detach()\n",
    "            xz_cov_batch = ((x[idx]-x_mean_batch)*(z[idx]-z_mean_batch)).mean(dim=0).detach()\n",
    "            \n",
    "            # Momentum-based update rule\n",
    "            momentum = self.momentum\n",
    "            self.x_mean = x_mean_batch if self.x_mean is None else (1-momentum)*self.x_mean + momentum*x_mean_batch\n",
    "            self.x_var = x_var_batch if self.x_var is None else (1-momentum)*self.x_var + momentum*x_var_batch\n",
    "            self.z_mean = z_mean_batch if self.z_mean is None else (1-momentum)*self.z_mean + momentum*z_mean_batch\n",
    "            self.z_var = z_var_batch if self.z_var is None else (1-momentum)*self.z_var + momentum*z_var_batch\n",
    "            self.xz_cov = xz_cov_batch if self.xz_cov is None else (1-momentum)*self.xz_cov + momentum*xz_cov_batch\n",
    "            \n",
    "        # log r(x, z) = log p(x, z)/p(x)/p(z), with covariance given by [[x_var, xz_cov], [xz_cov, z_var]]\n",
    "        xb = (x-self.x_mean)/self.x_var**0.5\n",
    "        zb = (z-self.z_mean)/self.z_var**0.5\n",
    "        rho = self.xz_cov/self.x_var**0.5/self.z_var**0.5\n",
    "        r = -0.5*torch.log(1-rho**2) + rho/(1-rho**2)*xb*zb - 0.5*rho**2/(1-rho**2)*(xb**2 + zb**2)\n",
    "        out = torch.cat([r.unsqueeze(-1), z.unsqueeze(-1).detach()], dim=-1)\n",
    "        return out"
   ]
  },
  {
   "cell_type": "code",
   "execution_count": 8,
   "id": "9c619225-9daa-480f-831d-33315315190d",
   "metadata": {},
   "outputs": [],
   "source": [
    "class SimpleDataset(torch.utils.data.Dataset):\n",
    "    def __init__(self, **kwargs):\n",
    "        self._data = kwargs\n",
    "    \n",
    "    def __len__(self):\n",
    "        k = list(self._data.keys())[0]\n",
    "        return len(self._data[k])\n",
    "    \n",
    "    def __getitem__(self, i):\n",
    "        obs = {k: v[i] for k, v in self._data.items()}\n",
    "        v = u = self._data['v'][i]\n",
    "        return (obs, v, u)"
   ]
  },
  {
   "cell_type": "code",
   "execution_count": 9,
   "id": "f44ab4c6-f17a-4a5b-b6ef-cf9deb910124",
   "metadata": {},
   "outputs": [],
   "source": [
    "#def simulate(model, dataset):\n",
    "#    sim = []\n",
    "#    for i in range(len(dataset)):\n",
    "#        v = dataset[i]['v']\n",
    "#        sim.append(model(v))"
   ]
  },
  {
   "cell_type": "markdown",
   "id": "282d702b-3b7a-4256-8c05-d9e683616c69",
   "metadata": {},
   "source": [
    "## Things that should be more general but are not right now"
   ]
  },
  {
   "cell_type": "code",
   "execution_count": 10,
   "id": "702115d3-5f3f-4723-8d1f-462788808b37",
   "metadata": {},
   "outputs": [],
   "source": [
    "def simulate(d, src_samples):\n",
    "    out = []\n",
    "    Ntrain = len(d['z_lens'])\n",
    "    for i in tqdm(range(Ntrain)):\n",
    "        v = d['z_lens'][i]\n",
    "        x = model(v, src_samples)\n",
    "        out.append(x)\n",
    "    out = torch.utils.data.dataloader.default_collate(out) # using torch internal functionality for this, yay!\n",
    "    d.update(**out)\n",
    "    for k, v in d.items():\n",
    "        d[k] = v.cpu()\n",
    "    return d"
   ]
  },
  {
   "cell_type": "code",
   "execution_count": 73,
   "id": "66fbc200-0e4c-4fff-b5b1-264a56741854",
   "metadata": {},
   "outputs": [],
   "source": [
    "# Generate weighted p(S|I) samples, by evaluating p(S|I,L)/p(S) for samples from p(S)p(L|I)\n",
    "def sample_source_weights(store, ratio, T = 1):\n",
    "    dataset_constr = DictDataset(store)\n",
    "    dataset_constr_src_as_param = DatasetAddSrcToParms(dataset_constr)\n",
    "\n",
    "    dl = torch.utils.data.DataLoader(dataset_constr_src_as_param, batch_size = 128)\n",
    "    out = []\n",
    "    for d in dl:\n",
    "        v = d[1]\n",
    "        obs = d[0].copy()\n",
    "        obs['img'] = obs0['img'].unsqueeze(0).expand(*obs['img'].shape)\n",
    "        x = ratio.network.observation_transform(obs).cuda()\n",
    "        z = ratio.network.parameter_transform(v).cuda()\n",
    "        z_src = z[:,6:].view(-1, NPIX, NPIX).cpu()\n",
    "        w = ratio.network.marginal_classifier(x, z).view(-1, NPIX, NPIX).detach().cpu()\n",
    "        s = torch.stack([w, z_src], dim = -1)\n",
    "        out.append(s)\n",
    "    out = torch.cat(out)\n",
    "    w = out[..., 0]\n",
    "    w -= torch.max(w, dim=0).values\n",
    "    w = torch.exp(w*T)\n",
    "    out[..., 0] = w\n",
    "    return out"
   ]
  },
  {
   "cell_type": "code",
   "execution_count": 12,
   "id": "dc6e63ee-8c6b-48e2-a678-805ca725a6ba",
   "metadata": {},
   "outputs": [],
   "source": [
    "def get_bounds(samples, th = 1e-6):\n",
    "    lo = []\n",
    "    hi = []\n",
    "    for i in range(6):\n",
    "        w = samples.weights[(i,)]\n",
    "        s = samples.v[:,i][w > np.log(th)]\n",
    "        lo.append(s.min())\n",
    "        hi.append(s.max())\n",
    "    low = np.array(lo)\n",
    "    high = np.array(hi)\n",
    "    return low, high"
   ]
  },
  {
   "cell_type": "code",
   "execution_count": 13,
   "id": "81dcfeaf-5932-4b7a-a1be-706b97091fd8",
   "metadata": {},
   "outputs": [],
   "source": [
    "# Since we want to learn the src parameters, which are generated inside the generative model, \n",
    "# we simply attach the flattened src array to the parameter vectors and hope for the best\n",
    "\n",
    "class DictDataset(torch.utils.data.Dataset):\n",
    "    def __init__(self, dataset):\n",
    "        self._dataset = dataset\n",
    "\n",
    "    def __len__(self):\n",
    "        return len(self._dataset[list(self._dataset.keys())[0]])\n",
    "    \n",
    "    def __getitem__(self, i):\n",
    "        #src  = self._dataset['src'][i].cpu().flatten()\n",
    "        v  = self._dataset['z_lens'][i]\n",
    "        #v = torch.cat([v, src])\n",
    "        x = {k: v[i] for k, v in self._dataset.items()}\n",
    "        #x = noise(x, v)\n",
    "        x['img'] = x['img'] + torch.randn_like(x['img'])*SIGMA\n",
    "        return (x, v, v)"
   ]
  },
  {
   "cell_type": "code",
   "execution_count": 14,
   "id": "390c2edb-ed83-4692-ae3e-f5f49e8ccb09",
   "metadata": {},
   "outputs": [],
   "source": [
    "def get_z_lens_post_samples(posterior, N = 1000):\n",
    "    samples_post = posterior.sample(N, obs0, batch_size = 1000)\n",
    "    z_lens_post = np.array([samples_post[(i,)][:,0] for i in range(6)]).T\n",
    "    return z_lens_post"
   ]
  },
  {
   "cell_type": "code",
   "execution_count": 15,
   "id": "8244812d-7e9e-45f3-94ac-47cf24e96565",
   "metadata": {},
   "outputs": [],
   "source": [
    "def get_custom_marginal_classifier(\n",
    "    observation_transform,\n",
    "    marginal_indices: tuple,\n",
    "    n_parameters: int,\n",
    "    hidden_features: int,\n",
    "    num_blocks: int,\n",
    "    dropout = 0.,\n",
    "    marginal_classifier = None,\n",
    "    parameter_online_z_score: bool = True,\n",
    ") -> torch.nn.Module:\n",
    "    n_observation_features = observation_transform.n_features\n",
    "\n",
    "    parameter_transform = swyft.networks.ParameterTransform(\n",
    "        n_parameters, marginal_indices, online_z_score=parameter_online_z_score\n",
    "    )\n",
    "    n_marginals, n_block_parameters = parameter_transform.marginal_block_shape\n",
    "\n",
    "    if marginal_classifier is None:\n",
    "        marginal_classifier = swyft.networks.MarginalClassifier(\n",
    "            n_marginals,\n",
    "            n_observation_features + n_block_parameters,\n",
    "            hidden_features=hidden_features,\n",
    "            dropout_probability = dropout,\n",
    "            num_blocks=num_blocks,\n",
    "        )\n",
    "    else:\n",
    "        marginal_classifier = marginal_classifier(\n",
    "            n_marginals,\n",
    "            n_observation_features + n_block_parameters,\n",
    "            hidden_features=hidden_features,\n",
    "            dropout_probability = dropout,\n",
    "            num_blocks=num_blocks,\n",
    "        )\n",
    "\n",
    "    return swyft.networks.Network(\n",
    "        observation_transform,\n",
    "        parameter_transform,\n",
    "        marginal_classifier,\n",
    "    )"
   ]
  },
  {
   "cell_type": "markdown",
   "id": "59842059-ce4a-441b-bdaf-6ce8ee29fdaa",
   "metadata": {},
   "source": [
    "## Things that should not be necessary"
   ]
  },
  {
   "cell_type": "code",
   "execution_count": 16,
   "id": "5f6bed15-62a8-484b-927b-d16ddd7f6722",
   "metadata": {},
   "outputs": [],
   "source": [
    "# Since we want to learn the src parameters, which are generated inside the generative model, \n",
    "# we simply attach the flattened src array to the parameter vectors and hope for the best\n",
    "\n",
    "class DatasetAddSrcToParms(torch.utils.data.Dataset):\n",
    "    def __init__(self, dataset):\n",
    "        self._dataset = dataset\n",
    "\n",
    "    def __len__(self):\n",
    "        return len(self._dataset)\n",
    "    \n",
    "    def __getitem__(self, i):\n",
    "        src  = self._dataset[i][0]['src'].cpu().flatten()\n",
    "        u  = self._dataset[i][1]\n",
    "        v  = self._dataset[i][2]\n",
    "        u = torch.cat([u, src])\n",
    "        v = torch.cat([v, src])\n",
    "        return (self._dataset[i][0], u, v)"
   ]
  },
  {
   "cell_type": "code",
   "execution_count": 17,
   "id": "b9dc08ea-dcd1-4d47-bda2-b9f705c4d332",
   "metadata": {},
   "outputs": [],
   "source": [
    "class CustomParameterTransform(torch.nn.Module):\n",
    "    def __init__(self) -> None:\n",
    "        super().__init__()\n",
    "        \n",
    "    def forward(self, v):\n",
    "        # Don't do anything with the parameters!\n",
    "        return v"
   ]
  },
  {
   "cell_type": "markdown",
   "id": "e08760c6-3057-415c-8775-4f4c8cdeb8e5",
   "metadata": {},
   "source": [
    "## Physics model"
   ]
  },
  {
   "cell_type": "markdown",
   "id": "8bf0b759-54c9-4629-b29e-8c5fee22d9a1",
   "metadata": {},
   "source": [
    "### Generic physics model components"
   ]
  },
  {
   "cell_type": "code",
   "execution_count": 18,
   "id": "dd1acf0b",
   "metadata": {},
   "outputs": [],
   "source": [
    "class RandomSource:\n",
    "    def __init__(self, npix =  NPIX, channels = CHANNELS, K = 129):\n",
    "        self._K = K\n",
    "        self._channels = channels\n",
    "        self._npix = npix\n",
    "        \n",
    "        self._kernels = self._get_kernels(self._K, self._channels)\n",
    "        self._conv = self._get_kernel_conv(self._kernels)\n",
    "        \n",
    "    @staticmethod\n",
    "    def _get_kernels(K, channels):\n",
    "        C = len(channels)\n",
    "        kernel = np.zeros((C, C, K, K))\n",
    "        x = np.linspace(-64, 64, K)\n",
    "        X, Y = np.meshgrid(x, x)\n",
    "        R = (X**2 + Y**2)**0.5\n",
    "\n",
    "        for i, s in enumerate(channels):\n",
    "            kern = np.exp(-0.5*R**2/s**2)\n",
    "            kern /= (kern**2).sum()**0.5\n",
    "            kernel[i, i] = kern\n",
    "\n",
    "        return kernel\n",
    "\n",
    "    @staticmethod\n",
    "    def _get_kernel_conv(kernel):\n",
    "        C = len(kernel)\n",
    "        K = len(kernel[0][0])\n",
    "        gaussian_weights = nn.Parameter(torch.tensor(kernel).float().cuda())\n",
    "        conv = FFTConv2d(in_channels = C, out_channels = C, kernel_size=K, bias=False, padding = int(K/2))\n",
    "        with torch.no_grad():\n",
    "            conv.weight = gaussian_weights\n",
    "        return conv\n",
    "\n",
    "    def _get_source_image(self, seeds, A=0.5, B = 0.3, C = 0.55, D = 4.):\n",
    "        scales = A*(np.array(self._channels)/max(self._channels))**B\n",
    "        seeds = seeds * torch.tensor(scales).cuda().float().unsqueeze(1).unsqueeze(2)\n",
    "        x = torch.linspace(-1, 1, self._npix).to(seeds.device)\n",
    "        X, Y = torch.meshgrid([x, x])\n",
    "        R = (X**2 + Y**2)**0.5\n",
    "        imgc = self._conv(seeds.unsqueeze(0)).squeeze(0).squeeze(0)\n",
    "        img = imgc.sum(axis=-3)\n",
    "        img = torch.exp(img)*(1/(1+(R/C)**D))\n",
    "        return img\n",
    "\n",
    "    def __call__(self):\n",
    "        C = len(self._channels)\n",
    "        return self._get_source_image(torch.randn(C, self._npix, self._npix).cuda()).detach()"
   ]
  },
  {
   "cell_type": "code",
   "execution_count": 19,
   "id": "f9cc9449",
   "metadata": {},
   "outputs": [],
   "source": [
    "class ArraySource(AnalyticSource):\n",
    "    def __init__(self, image_array, x: float = 0., y: float = 0., scale: float = 1., peak_intensity: float = 1.,\n",
    "                 origin: tp.Literal['lower', 'upper'] = 'lower', aspect=None, device=None):\n",
    "        super().__init__(device=device)\n",
    "\n",
    "        self.x, self.y = x, y\n",
    "        self.peak_intensity = peak_intensity\n",
    "\n",
    "        self.image = self._image(image_array, peak_intensity, device)\n",
    "\n",
    "        if aspect is None:\n",
    "            aspect = self.image.shape[-2] / self.image.shape[-1]\n",
    "        self.semi_scale = torch.tensor([scale, (-1 if origin == 'lower' else 1) * aspect * scale], device=device) / 2\n",
    "\n",
    "    def _image(self, image_array, peak_intensity=None, device=None) -> torch.Tensor:\n",
    "        image = torch.tensor(image_array)\n",
    "        if image.shape[-1] in (1, 3, 4):\n",
    "            image = torch.movedim(image, -1, -3)\n",
    "        if peak_intensity is not None:\n",
    "            image = image.to(torch.get_default_dtype())\n",
    "            image = image / torch.amax(image, (-2, -1), keepdim=True) * peak_intensity\n",
    "        self.rollback_dims = image.ndim\n",
    "        return pad_dims(image, ndim=4)[0].to(device=device, dtype=torch.get_default_dtype())\n",
    "\n",
    "    def flux(self, X, Y):\n",
    "        grid = torch.stack((X - self.x, Y - self.y), dim=-1).reshape(-1, *X.shape[-2:], 2) / self.semi_scale\n",
    "\n",
    "        return grid_sample(\n",
    "            self.image.expand(grid.shape[0], *self.image.shape[-3:]),\n",
    "            grid,\n",
    "            align_corners=True\n",
    "        ).reshape(*X.shape[:-2], *self.image.shape[-self.rollback_dims:-2], *X.shape[-2:])"
   ]
  },
  {
   "cell_type": "code",
   "execution_count": 20,
   "id": "de7407bb",
   "metadata": {},
   "outputs": [],
   "source": [
    "def get_kNN_idx(X, Y, Xsrc, Ysrc, k = 1):\n",
    "        \"\"\"Return indices into `Xsrc` and `Ysrc` closest to each point in `psrc`.\"\"\"\n",
    "        P = torch.stack((X, Y), -1).flatten(-3, -2)\n",
    "        Psrc = torch.stack((Xsrc, Ysrc), -1).flatten(-3, -2)\n",
    "        idx = unravel_index(kNN(P, Psrc, k).squeeze(-1), Xsrc.shape[-2:])\n",
    "        idx = torch.reshape(idx, (NPIX, NPIX, k, 2))\n",
    "        return idx"
   ]
  },
  {
   "cell_type": "code",
   "execution_count": 21,
   "id": "5ff75df2-d1e7-4791-91de-9f4711c40ece",
   "metadata": {},
   "outputs": [],
   "source": [
    "def deproject_idx(image, kNN_idx):\n",
    "        \"\"\"Return indices into `Xsrc` and `Ysrc` closest to each point in `psrc`.\"\"\"\n",
    "        k = kNN_idx.shape[-2]\n",
    "        B = image.shape[0]\n",
    "        #print(k, B)\n",
    "        #print(image.shape)\n",
    "        #print(kNN_idx.shape)\n",
    "        # TODO: Need to speed up nested python loops\n",
    "        src_image = torch.stack([torch.stack([image[b, kNN_idx[b, ..., i,0], kNN_idx[b, ..., i,1]] for i in range(k)]) for b in range(B)])\n",
    "        return src_image"
   ]
  },
  {
   "cell_type": "markdown",
   "id": "a8031187-f822-4419-982e-5d10208a1d5a",
   "metadata": {},
   "source": [
    "### SWYFT-specific wrappers"
   ]
  },
  {
   "cell_type": "code",
   "execution_count": 22,
   "id": "06bcfcf1",
   "metadata": {},
   "outputs": [],
   "source": [
    "def image_generator(x, y, phi, q, r_ein, slope, src_image):\n",
    "    res = 0.0125*8                      # resolution in arcsec\n",
    "    nx, ny = 50, 50                   # number of pixels\n",
    "    X, Y = get_meshgrid(res, nx, ny)    # grid\n",
    "\n",
    "    # Lens\n",
    "    lens = SPLELens(device=DEVICE)\n",
    "    lens.XY = X,Y\n",
    "    # Displacement field\n",
    "    alphas = lens(x=x, y=y, phi=phi, q=q, r_ein=r_ein, slope=slope)\n",
    "\n",
    "    # Lensing equation\n",
    "    X_src = X - alphas[..., 0, :, :]\n",
    "    Y_src = Y - alphas[..., 1, :, :]\n",
    "\n",
    "    # Source\n",
    "    source = ArraySource(src_image, peak_intensity = None, scale = 1)\n",
    "\n",
    "    # Lensed source\n",
    "    image = source(X=X_src, Y=Y_src)\n",
    "    \n",
    "    return image, [X, Y, X_src, Y_src]"
   ]
  },
  {
   "cell_type": "code",
   "execution_count": 23,
   "id": "db2c3024-004e-4ad1-8e9a-93999f462752",
   "metadata": {},
   "outputs": [],
   "source": [
    "def model(v, src_samples):\n",
    "    x, y, phi, q, r_ein, slope = v[:6]\n",
    "    slope = 2.0\n",
    "    src_image = src_samples[np.random.randint(len(src_samples))].cuda()\n",
    "    img, coords = image_generator(x, y, phi, q, r_ein, slope, src_image)\n",
    "    X, Y, Xsrc, Ysrc = coords\n",
    "    kNN_idx = get_kNN_idx(X/5, -Y/5, Xsrc, Ysrc, k = KNN)  # TODO: Need to sort out strange 1/5 and -1/5 factors\n",
    "    return dict(img = img.cpu(), src = src_image.cpu(), kNN_idx = kNN_idx.cpu(), X = X.cpu(), Y = Y.cpu(), Xsrc = Xsrc.cpu(), Ysrc = Ysrc.cpu())"
   ]
  },
  {
   "cell_type": "code",
   "execution_count": 24,
   "id": "49a0211d",
   "metadata": {},
   "outputs": [],
   "source": [
    "def noise(sim, v, sigma = SIGMA):\n",
    "    sim['img'] = (sim['img'] + np.random.randn(50, 50)*sigma).float()\n",
    "    return sim"
   ]
  },
  {
   "cell_type": "markdown",
   "id": "93d83b8b-4b96-4f92-b71b-84ecba33cc68",
   "metadata": {},
   "source": [
    "## Problem-specific analysis components"
   ]
  },
  {
   "cell_type": "markdown",
   "id": "fe85e421-0a1e-4892-aa69-4747a8fbabdc",
   "metadata": {},
   "source": [
    "### Inference networks"
   ]
  },
  {
   "cell_type": "code",
   "execution_count": 25,
   "id": "2b91a053-be16-4f9c-9d52-e81a07953e3a",
   "metadata": {},
   "outputs": [],
   "source": [
    "class CustomObservationTransformL(torch.nn.Module):\n",
    "    def __init__(self, observation_key: str, observation_shapes: dict):\n",
    "        super().__init__()\n",
    "        self.observation_key = observation_key\n",
    "        self.n_features = 16  # This attribute must be defined!\n",
    "        \n",
    "        self.online_z_score = swyft.networks.OnlineDictStandardizingLayer(observation_shapes)\n",
    "        self.net = torch.nn.Sequential(\n",
    "            torch.nn.Conv2d(1, 10, 3),\n",
    "            torch.nn.MaxPool2d(2),\n",
    "            torch.nn.Conv2d(10, 20, 3),\n",
    "            torch.nn.MaxPool2d(2),\n",
    "            torch.nn.Conv2d(20, 40, 3),\n",
    "            torch.nn.MaxPool2d(2),\n",
    "            torch.nn.Flatten(),\n",
    "            torch.nn.Linear(640, 128),\n",
    "            torch.nn.ReLU(),\n",
    "            torch.nn.Linear(128, 16),\n",
    "        )\n",
    "\n",
    "    def forward(self, obs: dict) -> torch.Tensor:\n",
    "        obs = dict(img = obs['img'])\n",
    "        x = self.online_z_score(obs)\n",
    "        x = x[self.observation_key]\n",
    "        x = x.unsqueeze(1)\n",
    "        x = self.net(x).squeeze(1)\n",
    "        return x"
   ]
  },
  {
   "cell_type": "code",
   "execution_count": 26,
   "id": "6a252bdf-0fd2-4314-9be0-717757bbc82d",
   "metadata": {},
   "outputs": [],
   "source": [
    "class CustomObservationTransform(torch.nn.Module):\n",
    "    def __init__(self):\n",
    "        super().__init__()\n",
    "        self.n_features = None\n",
    "\n",
    "    def forward(self, obs: dict) -> torch.Tensor:      \n",
    "        img = obs['img'].view(-1, NPIX*NPIX)\n",
    "        kNN_idx = obs['kNN_idx'].view(-1, NPIX*NPIX*2*KNN)\n",
    "        #print(img.shape, kNN_idx.shape)\n",
    "        #  Just pick image, forget the rest\n",
    "        x = torch.cat([img, kNN_idx], dim=-1)\n",
    "        return x\n",
    "        \n",
    "class CustomMarginalClassifier(torch.nn.Module):\n",
    "    def __init__(self):\n",
    "        super().__init__()\n",
    "        self.n_features = None\n",
    "        self.l = torch.nn.Linear(10, 10)\n",
    "        self.reg1d = RatioEstimatorGaussian1d(momentum = 0.1)\n",
    "        self.L = torch.nn.Linear(2500, 2500)\n",
    "        \n",
    "    def get_img_rec(self, x):\n",
    "        x_img = x[:,:NPIX*NPIX].view(-1, NPIX, NPIX)\n",
    "        x_kNN_idx = x[:,NPIX*NPIX:].view(-1, NPIX, NPIX, KNN, 2).long()\n",
    "        x_img_rec = deproject_idx(x_img, x_kNN_idx)[:,:,:,:].mean(dim=1)\n",
    "        x_img_rec = self.L(x_img_rec.view(-1, NPIX*NPIX)).view(-1, NPIX, NPIX)*0 + x_img_rec\n",
    "        return x_img_rec\n",
    "    \n",
    "    def forward(self, x: torch.Tensor, z: torch.Tensor) -> torch.Tensor:\n",
    "        # Don't cross the streams\n",
    "        x_img_rec = self.get_img_rec(x)\n",
    "        \n",
    "        z_lens = z[:,:6]\n",
    "        z_src = z[:,6:6+NPIX*NPIX].view(-1, NPIX, NPIX)\n",
    "        \n",
    "        # Until the end\n",
    "        r = self.reg1d(x_img_rec, z_src)[..., 0].view(-1, NPIX*NPIX)\n",
    "        return r"
   ]
  },
  {
   "cell_type": "markdown",
   "id": "ca61abb3-e3e1-48ef-823c-7f9b33c757e1",
   "metadata": {},
   "source": [
    "### Fitting routines"
   ]
  },
  {
   "cell_type": "code",
   "execution_count": 27,
   "id": "8b7d2c1e-f99f-447d-a7b7-ccabc74b18bc",
   "metadata": {},
   "outputs": [],
   "source": [
    "def fit_lens(Ntrain, obs0, lens_prior, src_samples, max_epochs = 100):\n",
    "    torch.cuda.set_device(0)\n",
    "    torch.set_default_tensor_type(torch.cuda.FloatTensor)\n",
    "    DEVICE='cuda'\n",
    "    z_lens = swyft.PriorTruncator(lens_prior, None).sample(Ntrain)\n",
    "    z_lens = torch.tensor(z_lens).cpu()\n",
    "    dict_store = dict(z_lens = z_lens)\n",
    "    simulate(dict_store, src_samples)\n",
    "    dataset = DictDataset(dict_store)\n",
    "    torch.set_default_tensor_type(torch.FloatTensor)  # Needing this is kinda stupid\n",
    "    marg_indices_l = tuple([(i,) for i in range(6)])\n",
    "    network_1d_l = get_custom_marginal_classifier(\n",
    "        observation_transform=CustomObservationTransformL('img', {'img': (50, 50)}),\n",
    "        marginal_indices=marg_indices_l,\n",
    "        n_parameters=6,\n",
    "        dropout = 0.2,\n",
    "        hidden_features=256,\n",
    "        num_blocks=2)\n",
    "    mre_1d_l = swyft.MarginalRatioEstimator(marginal_indices=marg_indices_l, network=network_1d_l, device=DEVICE)\n",
    "    vl = mre_1d_l.train(dataset, batch_size = 64, max_epochs = max_epochs, early_stopping_patience = 25)\n",
    "    posterior_1d_l = swyft.MarginalPosterior(mre_1d_l, lens_prior)\n",
    "    samples_1d = posterior_1d_l.weighted_sample(100000, obs0, batch_size = 1000)\n",
    "    return dict(vl = vl, samples = samples_1d, prior = lens_prior, posterior = posterior_1d_l, store = dict_store)"
   ]
  },
  {
   "cell_type": "code",
   "execution_count": 74,
   "id": "cfc47cb6-5017-4813-8700-ef5737f8f2a0",
   "metadata": {},
   "outputs": [],
   "source": [
    "def estimate_source(posterior, N = 100):\n",
    "    # Generate samples from p(L|I)\n",
    "    z_lens_post = get_z_lens_post_samples(posterior, N = N)\n",
    "    store_LI = dict(z_lens = torch.tensor(z_lens_post).float().cpu())\n",
    "    \n",
    "    # Simulate draws from the p(S)p(L|I) and associated displacement fields\n",
    "    torch.cuda.set_device(0)\n",
    "    torch.set_default_tensor_type(torch.cuda.FloatTensor)  \n",
    "    dict_store_src2 = simulate(store_LI, src_samples)\n",
    "    \n",
    "    # Training p(S|I,L)/p(S) ratios, based on examples from p(I|S,L)p(S)p_c(L)\n",
    "    torch.set_default_tensor_type(torch.FloatTensor)  # Needing this is kinda stupid\n",
    "    dataset = DictDataset(dict_store_src2)\n",
    "    dataset_src_as_param = DatasetAddSrcToParms(dataset)\n",
    "    observation_transform = CustomObservationTransform()\n",
    "    parameter_transform = CustomParameterTransform()\n",
    "    marginal_classifier = CustomMarginalClassifier()\n",
    "    network_1d = swyft.networks.Network(observation_transform, parameter_transform, marginal_classifier).cuda()\n",
    "    DEVICE = 'cuda'\n",
    "    ratio_S_IL = swyft.MarginalRatioEstimator(marginal_indices=[(1,)], network=network_1d, device=DEVICE)\n",
    "    ratio_S_IL.train(dataset_src_as_param, batch_size = 32, max_epochs = 5, learning_rate = 1e-2, optimizer = torch.optim.Adam)\n",
    "    \n",
    "    weighted_samples_S = sample_source_weights(dict_store_src2, ratio_S_IL)\n",
    "    m_src, std_src = mean_std(weighted_samples_S)\n",
    "    return dict(m=m_src, s=std_src, w=weighted_samples_S)"
   ]
  },
  {
   "cell_type": "markdown",
   "id": "fb98f9a9",
   "metadata": {
    "tags": []
   },
   "source": [
    "### Initial and constrained priors"
   ]
  },
  {
   "cell_type": "code",
   "execution_count": 28,
   "id": "c441ad86",
   "metadata": {},
   "outputs": [],
   "source": [
    "def get_prior(low = None, high = None):\n",
    "    if low is None:\n",
    "        low =  np.array([-0.2, -0.2, 0, 0.2, 1.0, 1.5])\n",
    "    if high is None:\n",
    "        high = np.array([0.2, 0.2, 1.5, 0.9, 2.0, 2.5])\n",
    "    prior = swyft.get_uniform_prior(low, high)\n",
    "    return prior"
   ]
  },
  {
   "cell_type": "code",
   "execution_count": 29,
   "id": "8d94528e",
   "metadata": {},
   "outputs": [],
   "source": [
    "# Initial prior\n",
    "def get_source_samples(N = 1000):\n",
    "    rnd_src = RandomSource()\n",
    "    return [rnd_src().cuda() for i in range(N)]"
   ]
  },
  {
   "cell_type": "code",
   "execution_count": 30,
   "id": "260c680f-497d-4e00-9ee5-5238c8890910",
   "metadata": {},
   "outputs": [],
   "source": [
    "# Samples from p_c(S|I)\n",
    "def sample_constr_src(m_src, std_src):\n",
    "    rnd_src = RandomSource()\n",
    "    rnd = rnd_src().cpu() - rnd_src().cpu()\n",
    "    rnd /= rnd.std()\n",
    "    sample = m_src*np.exp(std_src*rnd*0.3)\n",
    "    return sample"
   ]
  },
  {
   "cell_type": "markdown",
   "id": "d2be2f92-d80e-4aa5-9844-302ce3ea11f6",
   "metadata": {},
   "source": [
    "## Target image"
   ]
  },
  {
   "cell_type": "code",
   "execution_count": 134,
   "id": "6855936b-3e75-4ea9-bc4b-8c54344ba7d4",
   "metadata": {},
   "outputs": [
    {
     "name": "stderr",
     "output_type": "stream",
     "text": [
      "<ipython-input-19-6c7c12c26adf>:16: UserWarning: To copy construct from a tensor, it is recommended to use sourceTensor.clone().detach() or sourceTensor.clone().detach().requires_grad_(True), rather than torch.tensor(sourceTensor).\n",
      "  image = torch.tensor(image_array)\n"
     ]
    },
    {
     "data": {
      "text/plain": [
       "<matplotlib.colorbar.Colorbar at 0x153bb8e2cac0>"
      ]
     },
     "execution_count": 134,
     "metadata": {},
     "output_type": "execute_result"
    },
    {
     "data": {
      "image/png": "[encoded data removed]",
      "text/plain": [
       "<Figure size 1080x360 with 4 Axes>"
      ]
     },
     "metadata": {
      "needs_background": "light"
     },
     "output_type": "display_data"
    }
   ],
   "source": [
    "torch.cuda.set_device(0)\n",
    "torch.set_default_tensor_type(torch.cuda.FloatTensor)    \n",
    "v0 = np.array([0., 0.1, 0.5, 0.6, 1.5, 2.0])\n",
    "src_samples = get_source_samples(N = 1)\n",
    "#src_samples[0][23:27] = 0\n",
    "#src_samples[0][30:34] = 0\n",
    "#src_samples[0][15:19] = 0\n",
    "obs0 = model(v0, src_samples)\n",
    "obs0 = noise(obs0, v0)\n",
    "plt.figure(figsize=(15, 5))\n",
    "plt.subplot(1, 2, 1)\n",
    "plt.imshow(obs0['img'])\n",
    "plt.colorbar()\n",
    "plt.subplot(1, 2, 2)\n",
    "plt.imshow(obs0['src'])\n",
    "plt.colorbar()"
   ]
  },
  {
   "cell_type": "markdown",
   "id": "39dac473-98a3-481e-b9af-b8d30157fda2",
   "metadata": {},
   "source": [
    "# Workflow"
   ]
  },
  {
   "cell_type": "code",
   "execution_count": 135,
   "id": "8919a0b9-e26e-42f3-b2c2-e5bb6d11747c",
   "metadata": {},
   "outputs": [],
   "source": [
    "SMOKE_TEST = False"
   ]
  },
  {
   "cell_type": "code",
   "execution_count": 136,
   "id": "eb94e0a7-d80e-46d0-82fd-eeb6143b5b81",
   "metadata": {},
   "outputs": [],
   "source": [
    "if SMOKE_TEST:\n",
    "    Ntrain1, ME1, R1, Nsrc = 1000, 10, 1, 100\n",
    "else:\n",
    "    Ntrain1, ME1, R1, Nsrc = 10000, 100, 3, 1000"
   ]
  },
  {
   "cell_type": "code",
   "execution_count": 137,
   "id": "d517dfd6-2131-4e5e-bfd7-81f8929c7334",
   "metadata": {},
   "outputs": [],
   "source": [
    "lens_prior_init = get_prior()\n",
    "src_samples = get_source_samples(N = Ntrain1)\n",
    "lens_fit_results = []\n",
    "lens_prior_trunc = None"
   ]
  },
  {
   "cell_type": "markdown",
   "id": "f0bff10c-7d30-4ed4-b282-fe0a2def2dfe",
   "metadata": {},
   "source": [
    "### Lens parameter fits 1"
   ]
  },
  {
   "cell_type": "code",
   "execution_count": null,
   "id": "a62c8d1b-b4de-4ca8-ad40-c802c35618ca",
   "metadata": {},
   "outputs": [
    {
     "name": "stderr",
     "output_type": "stream",
     "text": [
      "  0%|          | 0/10000 [00:00<?, ?it/s]<ipython-input-19-6c7c12c26adf>:16: UserWarning: To copy construct from a tensor, it is recommended to use sourceTensor.clone().detach() or sourceTensor.clone().detach().requires_grad_(True), rather than torch.tensor(sourceTensor).\n",
      "  image = torch.tensor(image_array)\n",
      "  0%|          | 15/10000 [00:00<05:55, 28.12it/s]"
     ]
    }
   ],
   "source": [
    "for _ in range(R1):\n",
    "    lens_prior_trunc = lens_prior_trunc if lens_prior_trunc else lens_prior_init\n",
    "    fit_result = fit_lens(Ntrain1, obs0, lens_prior_trunc, src_samples, max_epochs = ME1)\n",
    "    low, high = get_bounds(fit_result['samples'])\n",
    "    lens_prior_trunc = get_prior(low = low, high = high)\n",
    "    print(\"Constrained prior volume:\", (high-low).prod())\n",
    "    lens_fit_results.append(fit_result)"
   ]
  },
  {
   "cell_type": "code",
   "execution_count": null,
   "id": "be4dcc82-f1f5-4941-b90c-ef165063d98f",
   "metadata": {},
   "outputs": [],
   "source": [
    "plt.plot([v.item() for v in lens_fit_results[-1]['vl']])"
   ]
  },
  {
   "cell_type": "code",
   "execution_count": null,
   "id": "b262d4ef-50c2-4e25-b16b-ebb918cbd1e5",
   "metadata": {},
   "outputs": [],
   "source": [
    "f = lens_fit_results[-1]\n",
    "#dataset = DictDataset(f['store'])\n",
    "#obs, v, v, = dataset[-6]\n",
    "obs, v = obs0, v0\n",
    "s = f['posterior'].weighted_sample(10000, obs, batch_size = 1000)\n",
    "fig = swyft.hist1d(s, kde = False, figsize = (20, 5), truth = v);"
   ]
  },
  {
   "cell_type": "markdown",
   "id": "8232472f-1600-4e33-8922-46f8d715bcbb",
   "metadata": {},
   "source": [
    "### Source parameter fits 1"
   ]
  },
  {
   "cell_type": "code",
   "execution_count": null,
   "id": "0acaa910-7910-4491-bc9f-70ad63c6b8b5",
   "metadata": {},
   "outputs": [],
   "source": [
    "out = estimate_source(lens_fit_results[-1]['posterior'], N = Nsrc)"
   ]
  },
  {
   "cell_type": "code",
   "execution_count": null,
   "id": "d12574ca-3f14-44b0-82a3-2fc88cb6fa79",
   "metadata": {},
   "outputs": [],
   "source": [
    "z_src = obs0['src']\n",
    "m_src = out['m']\n",
    "std_src = out['s']\n",
    "img = m_src\n",
    "vmax = torch.max(torch.abs(img))\n",
    "plt.imshow(img)#, cmap = 'coolwarm', vmin = -vmax, vmax = vmax)\n",
    "plt.colorbar()"
   ]
  },
  {
   "cell_type": "code",
   "execution_count": null,
   "id": "79cc758c-1f62-4bb0-ae1b-4615e322c2ef",
   "metadata": {},
   "outputs": [],
   "source": [
    "src_samples = torch.stack([sample_constr_src(m_src, std_src) for _ in range(1000)])\n",
    "\n",
    "plt.figure(figsize = (15, 15))\n",
    "for i in range(16):\n",
    "    plt.subplot(4, 4, i+1)\n",
    "    plt.imshow(src_samples[i])"
   ]
  },
  {
   "cell_type": "markdown",
   "id": "107d3743-2df4-447a-abf8-34f847f075fd",
   "metadata": {},
   "source": [
    "### Lens parameter fits 2"
   ]
  },
  {
   "cell_type": "code",
   "execution_count": null,
   "id": "1a97353b-3106-4371-8364-d774986cb307",
   "metadata": {},
   "outputs": [],
   "source": [
    "for _ in range(R1):\n",
    "    fit_result = fit_lens(Ntrain1, obs0, lens_prior_trunc, src_samples, max_epochs = ME1)\n",
    "    low, high = get_bounds(fit_result['samples'])\n",
    "    lens_prior_trunc = get_prior(low = low, high = high)\n",
    "    print(\"Constrained prior volume:\", (high-low).prod())\n",
    "    lens_fit_results.append(fit_result)"
   ]
  },
  {
   "cell_type": "code",
   "execution_count": 148,
   "id": "86684875-736b-4b24-9ada-51caa1299369",
   "metadata": {},
   "outputs": [
    {
     "data": {
      "image/png": "[encoded data removed]",
      "text/plain": [
       "<Figure size 1440x360 with 6 Axes>"
      ]
     },
     "metadata": {
      "needs_background": "light"
     },
     "output_type": "display_data"
    }
   ],
   "source": [
    "fig = swyft.hist1d(lens_fit_results[-1]['samples'], kde = False, figsize = (20, 5), truth = v0);\n",
    "# x, y, phi, q, r_ein, slope"
   ]
  },
  {
   "cell_type": "markdown",
   "id": "483ef7df-915c-4166-9893-43e77cf29a26",
   "metadata": {},
   "source": [
    "### Source parameter fits 2"
   ]
  },
  {
   "cell_type": "code",
   "execution_count": null,
   "id": "9bbd55dc-b281-4ff1-b910-2e2bcf75eb36",
   "metadata": {},
   "outputs": [],
   "source": [
    "out = estimate_source(lens_fit_results[-1]['posterior'], N = Nsrc)"
   ]
  },
  {
   "cell_type": "code",
   "execution_count": 147,
   "id": "12d02bda-be1b-48e5-aec9-a2329b920d71",
   "metadata": {},
   "outputs": [
    {
     "data": {
      "text/plain": [
       "<matplotlib.colorbar.Colorbar at 0x153bb8ca8eb0>"
      ]
     },
     "execution_count": 147,
     "metadata": {},
     "output_type": "execute_result"
    },
    {
     "data": {
      "image/png": "[encoded data removed]",
      "text/plain": [
       "<Figure size 432x288 with 2 Axes>"
      ]
     },
     "metadata": {
      "needs_background": "light"
     },
     "output_type": "display_data"
    }
   ],
   "source": [
    "z_src = obs0['src']\n",
    "m_src = out['m']\n",
    "std_src = out['s']\n",
    "img = m_src\n",
    "vmax = torch.max(torch.abs(img))\n",
    "plt.imshow(img)#, cmap = 'coolwarm', vmin = -vmax, vmax = vmax)\n",
    "plt.colorbar()"
   ]
  },
  {
   "cell_type": "code",
   "execution_count": null,
   "id": "b7263eb4-246f-4c9b-ba04-6128230db9fa",
   "metadata": {},
   "outputs": [],
   "source": [
    "src_samples = torch.stack([sample_constr_src(m_src, std_src) for _ in range(1000)])"
   ]
  },
  {
   "cell_type": "code",
   "execution_count": 146,
   "id": "151835b8-555d-4d95-99af-c6fddcae4782",
   "metadata": {},
   "outputs": [
    {
     "data": {
      "image/png": "[encoded data removed]",
      "text/plain": [
       "<Figure size 1080x1080 with 16 Axes>"
      ]
     },
     "metadata": {
      "needs_background": "light"
     },
     "output_type": "display_data"
    }
   ],
   "source": [
    "plt.figure(figsize = (15, 15))\n",
    "for i in range(16):\n",
    "    plt.subplot(4, 4, i+1)\n",
    "    plt.imshow(src_samples[i])"
   ]
  },
  {
   "cell_type": "code",
   "execution_count": null,
   "id": "d601acca-39aa-4edf-a04c-41abee7a9159",
   "metadata": {},
   "outputs": [],
   "source": []
  }
 ],
 "metadata": {
  "kernelspec": {
   "display_name": "p38",
   "language": "python",
   "name": "p38"
  },
  "language_info": {
   "codemirror_mode": {
    "name": "ipython",
    "version": 3
   },
   "file_extension": ".py",
   "mimetype": "text/x-python",
   "name": "python",
   "nbconvert_exporter": "python",
   "pygments_lexer": "ipython3",
   "version": "3.8.2"
  }
 },
 "nbformat": 4,
 "nbformat_minor": 5
}
