{
 "cells": [
  {
   "cell_type": "markdown",
   "id": "b4c7a3f1-ab43-432e-a64f-b7f1358a24da",
   "metadata": {},
   "source": [
    "# Resampling observational noise\n",
    "\n",
    "First we need some imports."
   ]
  },
  {
   "cell_type": "code",
   "execution_count": 25,
   "id": "8e9d04e5-d08e-46ab-a520-4547dedf0487",
   "metadata": {},
   "outputs": [
    {
     "name": "stdout",
     "output_type": "stream",
     "text": [
      "The autoreload extension is already loaded. To reload it, use:\n",
      "  %reload_ext autoreload\n"
     ]
    }
   ],
   "source": [
    "%load_ext autoreload\n",
    "%autoreload 2"
   ]
  },
  {
   "cell_type": "code",
   "execution_count": 26,
   "id": "0297c907",
   "metadata": {},
   "outputs": [],
   "source": [
    "import numpy as np\n",
    "from scipy import stats\n",
    "import pylab as plt\n",
    "import torch\n",
    "import torchist\n",
    "import swyft"
   ]
  },
  {
   "cell_type": "markdown",
   "id": "ab99366b-0783-46f5-be2d-80cbbb85e163",
   "metadata": {
    "tags": []
   },
   "source": [
    "## Training data\n",
    "\n",
    "Now we generate training data.  As simple example, we consider the model\n",
    "\n",
    "$$\n",
    "x = z + \\epsilon\n",
    "$$\n",
    "\n",
    "where the parameter $z \\sim \\mathcal{N}(\\mu = 0, \\sigma = 1)$ is standard normal distributed, and $\\epsilon \\sim \\mathcal{N}(\\mu = 0, \\sigma = 0.1)$ is a small noise contribution.  We are interested in the posterior of $z$ given a measurement of parameter $x$."
   ]
  },
  {
   "cell_type": "code",
   "execution_count": 27,
   "id": "c0439f14-d49f-4e52-8916-49a785daede5",
   "metadata": {},
   "outputs": [],
   "source": [
    "class Simulator(swyft.Simulator):\n",
    "    def __init__(self):\n",
    "        super().__init__()\n",
    "        self.on_after_forward = swyft.to_numpy32\n",
    "\n",
    "    def forward(self, trace):\n",
    "        z = trace.sample('z', lambda: np.random.rand(1))\n",
    "        x = trace.sample('x', lambda z: z + np.random.randn(1)*0.1, z)\n",
    "        \n",
    "sim = Simulator()"
   ]
  },
  {
   "cell_type": "code",
   "execution_count": 28,
   "id": "4a1ed06f-9bbe-460d-bda3-400a3eaee6f5",
   "metadata": {},
   "outputs": [
    {
     "name": "stderr",
     "output_type": "stream",
     "text": [
      "100%|██████████| 500/500 [00:00<00:00, 22133.76it/s]\n"
     ]
    }
   ],
   "source": [
    "samples = sim.sample(500)"
   ]
  },
  {
   "cell_type": "code",
   "execution_count": 29,
   "id": "97cf962b-dfc3-4d90-b60b-3ce3332f5404",
   "metadata": {},
   "outputs": [],
   "source": [
    "resampler = sim.get_resampler(targets = [\"x\"])"
   ]
  },
  {
   "cell_type": "code",
   "execution_count": 30,
   "id": "3e6dc7e9-ff0a-479d-a4e8-fd8025717327",
   "metadata": {},
   "outputs": [],
   "source": [
    "class Network(swyft.SwyftModule):\n",
    "    def __init__(self):\n",
    "        super().__init__(lr = 1e-4, lrs_factor = 0.1, early_stopping = False, lrs_patience = 3, early_stopping_patience = 2)\n",
    "        self.logratios = swyft.LogRatioEstimator_1dim(num_features = 1, num_params = 1, varnames = 'z')\n",
    "\n",
    "    def forward(self, A, B):\n",
    "        logratios = self.logratios(A['x'], B['z'])\n",
    "        return logratios"
   ]
  },
  {
   "cell_type": "markdown",
   "id": "2554dbed-fc91-45d2-bfa7-418cdaad67b6",
   "metadata": {},
   "source": [
    "## Trainer\n",
    "\n",
    "Training is now done using the `SwyftTrainer` class, which extends `pytorch_lightning.Trainer` by methods like `infer` (see below)."
   ]
  },
  {
   "cell_type": "code",
   "execution_count": 31,
   "id": "5683ce37-a8d0-4ed7-94a6-512ccc7babcb",
   "metadata": {},
   "outputs": [
    {
     "name": "stderr",
     "output_type": "stream",
     "text": [
      "GPU available: True, used: True\n",
      "TPU available: False, using: 0 TPU cores\n",
      "IPU available: False, using: 0 IPUs\n"
     ]
    }
   ],
   "source": [
    "trainer = swyft.SwyftTrainer(accelerator = 'gpu', gpus=1, max_epochs = 20, precision = 32)"
   ]
  },
  {
   "cell_type": "markdown",
   "id": "053eff99-5d2b-4419-bce7-d938831b623e",
   "metadata": {},
   "source": [
    "The `swyft.Samples` class provides convenience functions to generate data loaders for training and validation data."
   ]
  },
  {
   "cell_type": "code",
   "execution_count": 32,
   "id": "b1b09c64-a0e4-4d69-a639-a5843efac80c",
   "metadata": {},
   "outputs": [],
   "source": [
    "dl_train = samples[:-100].get_dataloader(batch_size = 16, shuffle = True, on_after_load_sample = resampler)\n",
    "dl_valid = samples[-100:].get_dataloader(batch_size = 16)"
   ]
  },
  {
   "cell_type": "code",
   "execution_count": 33,
   "id": "c5811d37-d10b-49e8-a8ed-1e6d43caefa4",
   "metadata": {},
   "outputs": [],
   "source": [
    "network = Network()"
   ]
  },
  {
   "cell_type": "code",
   "execution_count": 34,
   "id": "41f7765b-45b8-4684-b820-4f75c9719857",
   "metadata": {},
   "outputs": [
    {
     "name": "stderr",
     "output_type": "stream",
     "text": [
      "LOCAL_RANK: 0 - CUDA_VISIBLE_DEVICES: [0]\n",
      "\n",
      "  | Name      | Type                   | Params\n",
      "-----------------------------------------------------\n",
      "0 | logratios | LogRatioEstimator_1dim | 17.4 K\n",
      "-----------------------------------------------------\n",
      "17.4 K    Trainable params\n",
      "0         Non-trainable params\n",
      "17.4 K    Total params\n",
      "0.070     Total estimated model params size (MB)\n"
     ]
    },
    {
     "name": "stdout",
     "output_type": "stream",
     "text": [
      "Epoch 0:  78%|███████▊  | 25/32 [00:00<00:00, 102.69it/s, loss=-0.0697, v_num=9953689]\n",
      "Validating: 0it [00:00, ?it/s]\u001b[A\n",
      "Epoch 0: 100%|██████████| 32/32 [00:00<00:00, 119.56it/s, loss=-0.0697, v_num=9953689, val_loss=-.00182]\n",
      "Epoch 1:  78%|███████▊  | 25/32 [00:00<00:00, 105.81it/s, loss=-0.277, v_num=9953689, val_loss=-.00182] \n",
      "Validating: 0it [00:00, ?it/s]\u001b[A\n",
      "Epoch 1: 100%|██████████| 32/32 [00:00<00:00, 122.50it/s, loss=-0.277, v_num=9953689, val_loss=-.124]  \n",
      "Epoch 2:  78%|███████▊  | 25/32 [00:00<00:00, 102.17it/s, loss=-0.43, v_num=9953689, val_loss=-.124] \n",
      "Validating: 0it [00:00, ?it/s]\u001b[A\n",
      "Epoch 2: 100%|██████████| 32/32 [00:00<00:00, 119.31it/s, loss=-0.43, v_num=9953689, val_loss=-.399]\n",
      "Epoch 3:  78%|███████▊  | 25/32 [00:00<00:00, 106.38it/s, loss=-0.54, v_num=9953689, val_loss=-.399] \n",
      "Validating: 0it [00:00, ?it/s]\u001b[A\n",
      "Epoch 3: 100%|██████████| 32/32 [00:00<00:00, 119.60it/s, loss=-0.54, v_num=9953689, val_loss=-.481]\n",
      "Epoch 4:  78%|███████▊  | 25/32 [00:00<00:00, 116.98it/s, loss=-0.578, v_num=9953689, val_loss=-.481]\n",
      "Validating: 0it [00:00, ?it/s]\u001b[A\n",
      "Epoch 4: 100%|██████████| 32/32 [00:00<00:00, 133.95it/s, loss=-0.578, v_num=9953689, val_loss=-.493]\n",
      "Epoch 5:  81%|████████▏ | 26/32 [00:00<00:00, 109.90it/s, loss=-0.553, v_num=9953689, val_loss=-.493]\n",
      "Validating: 0it [00:00, ?it/s]\u001b[A\n",
      "Epoch 5: 100%|██████████| 32/32 [00:00<00:00, 123.58it/s, loss=-0.553, v_num=9953689, val_loss=-.480]\n",
      "Epoch 6:  81%|████████▏ | 26/32 [00:00<00:00, 104.07it/s, loss=-0.605, v_num=9953689, val_loss=-.480]\n",
      "Validating: 0it [00:00, ?it/s]\u001b[A\n",
      "Epoch 6: 100%|██████████| 32/32 [00:00<00:00, 118.26it/s, loss=-0.605, v_num=9953689, val_loss=-.503]\n",
      "Epoch 7:  81%|████████▏ | 26/32 [00:00<00:00, 107.02it/s, loss=-0.562, v_num=9953689, val_loss=-.503]\n",
      "Validating: 0it [00:00, ?it/s]\u001b[A\n",
      "Epoch 7: 100%|██████████| 32/32 [00:00<00:00, 119.46it/s, loss=-0.562, v_num=9953689, val_loss=-.549]\n",
      "Epoch 8:  81%|████████▏ | 26/32 [00:00<00:00, 114.17it/s, loss=-0.578, v_num=9953689, val_loss=-.549]\n",
      "Validating: 0it [00:00, ?it/s]\u001b[A\n",
      "Epoch 8: 100%|██████████| 32/32 [00:00<00:00, 128.83it/s, loss=-0.578, v_num=9953689, val_loss=-.529]\n",
      "Epoch 9:  81%|████████▏ | 26/32 [00:00<00:00, 112.98it/s, loss=-0.574, v_num=9953689, val_loss=-.529]\n",
      "Validating: 0it [00:00, ?it/s]\u001b[A\n",
      "Epoch 9: 100%|██████████| 32/32 [00:00<00:00, 123.72it/s, loss=-0.574, v_num=9953689, val_loss=-.544]\n",
      "Epoch 10:  81%|████████▏ | 26/32 [00:00<00:00, 106.64it/s, loss=-0.585, v_num=9953689, val_loss=-.544]\n",
      "Validating: 0it [00:00, ?it/s]\u001b[A\n",
      "Epoch 10: 100%|██████████| 32/32 [00:00<00:00, 117.33it/s, loss=-0.585, v_num=9953689, val_loss=-.527]\n",
      "Epoch 11:  81%|████████▏ | 26/32 [00:00<00:00, 104.77it/s, loss=-0.475, v_num=9953689, val_loss=-.527]\n",
      "Validating: 0it [00:00, ?it/s]\u001b[A\n",
      "Epoch 11: 100%|██████████| 32/32 [00:00<00:00, 117.65it/s, loss=-0.475, v_num=9953689, val_loss=-.545]\n",
      "Epoch 12:  81%|████████▏ | 26/32 [00:00<00:00, 114.09it/s, loss=-0.559, v_num=9953689, val_loss=-.545]\n",
      "Validating: 0it [00:00, ?it/s]\u001b[A\n",
      "Epoch 12: 100%|██████████| 32/32 [00:00<00:00, 128.74it/s, loss=-0.559, v_num=9953689, val_loss=-.543]\n",
      "Epoch 13:  81%|████████▏ | 26/32 [00:00<00:00, 101.65it/s, loss=-0.578, v_num=9953689, val_loss=-.543]\n",
      "Validating: 0it [00:00, ?it/s]\u001b[A\n",
      "Epoch 13: 100%|██████████| 32/32 [00:00<00:00, 114.61it/s, loss=-0.578, v_num=9953689, val_loss=-.534]\n",
      "Epoch 14:  81%|████████▏ | 26/32 [00:00<00:00, 111.28it/s, loss=-0.513, v_num=9953689, val_loss=-.534]\n",
      "Validating: 0it [00:00, ?it/s]\u001b[A\n",
      "Epoch 14: 100%|██████████| 32/32 [00:00<00:00, 125.49it/s, loss=-0.513, v_num=9953689, val_loss=-.542]\n",
      "Epoch 15:  81%|████████▏ | 26/32 [00:00<00:00, 103.66it/s, loss=-0.632, v_num=9953689, val_loss=-.542]\n",
      "Validating: 0it [00:00, ?it/s]\u001b[A\n",
      "Epoch 15: 100%|██████████| 32/32 [00:00<00:00, 114.67it/s, loss=-0.632, v_num=9953689, val_loss=-.528]\n",
      "Epoch 16:  81%|████████▏ | 26/32 [00:00<00:00, 112.39it/s, loss=-0.518, v_num=9953689, val_loss=-.528]\n",
      "Validating: 0it [00:00, ?it/s]\u001b[A\n",
      "Epoch 16: 100%|██████████| 32/32 [00:00<00:00, 126.05it/s, loss=-0.518, v_num=9953689, val_loss=-.539]\n",
      "Epoch 17:  81%|████████▏ | 26/32 [00:00<00:00, 111.41it/s, loss=-0.584, v_num=9953689, val_loss=-.539]\n",
      "Validating: 0it [00:00, ?it/s]\u001b[A\n",
      "Epoch 17: 100%|██████████| 32/32 [00:00<00:00, 122.82it/s, loss=-0.584, v_num=9953689, val_loss=-.537]\n",
      "Epoch 18:  81%|████████▏ | 26/32 [00:00<00:00, 111.47it/s, loss=-0.568, v_num=9953689, val_loss=-.537]\n",
      "Validating: 0it [00:00, ?it/s]\u001b[A\n",
      "Epoch 18: 100%|██████████| 32/32 [00:00<00:00, 125.34it/s, loss=-0.568, v_num=9953689, val_loss=-.540]\n",
      "Epoch 19:  81%|████████▏ | 26/32 [00:00<00:00, 110.46it/s, loss=-0.591, v_num=9953689, val_loss=-.540]\n",
      "Validating: 0it [00:00, ?it/s]\u001b[A\n",
      "Epoch 19: 100%|██████████| 32/32 [00:00<00:00, 122.44it/s, loss=-0.591, v_num=9953689, val_loss=-.542]\n",
      "Epoch 19: 100%|██████████| 32/32 [00:00<00:00, 114.36it/s, loss=-0.591, v_num=9953689, val_loss=-.542]\n"
     ]
    }
   ],
   "source": [
    "trainer.fit(network, dl_train, dl_valid)"
   ]
  },
  {
   "cell_type": "code",
   "execution_count": null,
   "id": "56d59736-7df2-4058-9859-6cd9b2ca44bd",
   "metadata": {},
   "outputs": [],
   "source": []
  },
  {
   "cell_type": "code",
   "execution_count": null,
   "id": "3ad2574e-04b5-4529-b3d4-047774c54ea5",
   "metadata": {},
   "outputs": [],
   "source": []
  }
 ],
 "metadata": {
  "kernelspec": {
   "display_name": "Python 3",
   "language": "python",
   "name": "python3"
  },
  "language_info": {
   "codemirror_mode": {
    "name": "ipython",
    "version": 3
   },
   "file_extension": ".py",
   "mimetype": "text/x-python",
   "name": "python",
   "nbconvert_exporter": "python",
   "pygments_lexer": "ipython3",
   "version": "3.9.7"
  }
 },
 "nbformat": 4,
 "nbformat_minor": 5
}
