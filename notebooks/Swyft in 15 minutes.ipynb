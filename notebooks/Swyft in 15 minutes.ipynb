{
 "cells": [
  {
   "cell_type": "markdown",
   "id": "6ec77850-b62c-4d3d-94d8-4c6ca4c70b77",
   "metadata": {},
   "source": [
    "# Swyft in 15 Minutes\n",
    "\n",
    "We discuss seven key steps of a typical Swyft workflow."
   ]
  },
  {
   "cell_type": "markdown",
   "id": "bd3002ce-7495-433b-9c95-693c60e917a1",
   "metadata": {},
   "source": [
    "## 1. Installing Swyft"
   ]
  },
  {
   "cell_type": "markdown",
   "id": "0cfdfa13-ee61-4f32-9310-ad8b807b1f07",
   "metadata": {},
   "source": [
    "We can use `pip` to install the lightning branch (latest development branch) of Swyft."
   ]
  },
  {
   "cell_type": "code",
   "execution_count": 33,
   "id": "7b2f598a-93c6-4c73-a093-d76f0b126813",
   "metadata": {},
   "outputs": [],
   "source": [
    "#!pip install https://github.com/undark-lab/swyft.git@lightning"
   ]
  },
  {
   "cell_type": "code",
   "execution_count": 34,
   "id": "db1bfed8-219c-4420-bf4d-673d98a51ef2",
   "metadata": {},
   "outputs": [],
   "source": [
    "import numpy as np\n",
    "from scipy import stats\n",
    "import pylab as plt\n",
    "import torch\n",
    "import swyft"
   ]
  },
  {
   "cell_type": "markdown",
   "id": "15649024-2f24-4257-8d0e-0f326bf67884",
   "metadata": {},
   "source": [
    "## 2. Define the Simulator"
   ]
  },
  {
   "cell_type": "markdown",
   "id": "e3f6b1a8-d721-4d4f-b441-b03d1f9bf8a2",
   "metadata": {},
   "source": [
    "Next we define a simulator class, which specifies the computational graph of our simulator."
   ]
  },
  {
   "cell_type": "code",
   "execution_count": 35,
   "id": "94119669-c228-4ed1-8d8a-c1090c532a21",
   "metadata": {},
   "outputs": [
    {
     "name": "stderr",
     "output_type": "stream",
     "text": [
      "100%|██████████| 10000/10000 [00:00<00:00, 25406.81it/s]\n"
     ]
    }
   ],
   "source": [
    "class Simulator(swyft.Simulator):\n",
    "    def __init__(self):\n",
    "        super().__init__()\n",
    "        self.on_after_forward = swyft.to_numpy32\n",
    "        self.x = np.linspace(-1, 1, 10)\n",
    "         \n",
    "    def forward(self, trace):\n",
    "        z = trace.sample('z', lambda: np.random.rand(2)*2-1)\n",
    "        f = trace.sample('f', lambda z: z[0] + z[1]*self.x, z)\n",
    "        x = trace.sample('x', lambda f: f + np.random.randn(10)*0.1, f)\n",
    "        \n",
    "sim = Simulator()\n",
    "samples = sim.sample(N = 10000)"
   ]
  },
  {
   "cell_type": "markdown",
   "id": "115822b0-1872-4bdd-a0ed-7310b25da80d",
   "metadata": {},
   "source": [
    "## 3. Define the SwyftModule"
   ]
  },
  {
   "cell_type": "code",
   "execution_count": 36,
   "id": "a636462e-aa89-4996-89e1-04037cd8f43f",
   "metadata": {},
   "outputs": [],
   "source": [
    "class Network(swyft.SwyftModule):\n",
    "    def __init__(self):\n",
    "        super().__init__()\n",
    "        self.embedding = torch.nn.Linear(10, 2)\n",
    "        self.classifier = swyft.RatioEstimatorMLP1d(x_dim = 2, z_dim = 2)\n",
    "\n",
    "    def forward(self, A, B):\n",
    "        embedding = self.embedding(A['x'])\n",
    "        ratios = self.classifier(embedding, B['z'])\n",
    "        return dict(z = ratios)"
   ]
  },
  {
   "cell_type": "markdown",
   "id": "9348cf96-3347-4698-8d89-fa6c50cd2314",
   "metadata": {},
   "source": [
    "## 4. Train the model"
   ]
  },
  {
   "cell_type": "code",
   "execution_count": 37,
   "id": "db43aac6-7bdd-4016-9f24-fbb374c5738d",
   "metadata": {},
   "outputs": [
    {
     "name": "stderr",
     "output_type": "stream",
     "text": [
      "GPU available: True, used: True\n",
      "TPU available: False, using: 0 TPU cores\n",
      "IPU available: False, using: 0 IPUs\n"
     ]
    }
   ],
   "source": [
    "trainer = swyft.SwyftTrainer(accelerator = 'gpu', gpus=1, max_epochs = 10)"
   ]
  },
  {
   "cell_type": "code",
   "execution_count": 38,
   "id": "800f08ac-2f14-4cb7-a28f-0f7fbd10a7c0",
   "metadata": {},
   "outputs": [],
   "source": [
    "dl_train = samples[:-500].get_dataloader(batch_size = 64, shuffle = True)\n",
    "dl_valid = samples[-500:].get_dataloader(batch_size = 64)"
   ]
  },
  {
   "cell_type": "code",
   "execution_count": 39,
   "id": "b3ca1594-2913-4c9b-a1fc-bdd0fffa0935",
   "metadata": {},
   "outputs": [
    {
     "name": "stderr",
     "output_type": "stream",
     "text": [
      "LOCAL_RANK: 0 - CUDA_VISIBLE_DEVICES: [0]\n",
      "\n",
      "  | Name       | Type                | Params\n",
      "---------------------------------------------------\n",
      "0 | embedding  | Linear              | 22    \n",
      "1 | classifier | RatioEstimatorMLP1d | 34.9 K\n",
      "---------------------------------------------------\n",
      "35.0 K    Trainable params\n",
      "0         Non-trainable params\n",
      "35.0 K    Total params\n",
      "0.140     Total estimated model params size (MB)\n",
      "/home/weniger/miniconda3b/envs/zero/lib/python3.9/site-packages/pytorch_lightning/callbacks/model_checkpoint.py:631: UserWarning: Checkpoint directory /home/weniger/codes/swyft/notebooks/lightning_logs/version_9820992/checkpoints exists and is not empty.\n",
      "  rank_zero_warn(f\"Checkpoint directory {dirpath} exists and is not empty.\")\n"
     ]
    },
    {
     "name": "stdout",
     "output_type": "stream",
     "text": [
      "                                                              "
     ]
    },
    {
     "name": "stderr",
     "output_type": "stream",
     "text": [
      "/home/weniger/miniconda3b/envs/zero/lib/python3.9/site-packages/pytorch_lightning/trainer/data_loading.py:132: UserWarning: The dataloader, val_dataloader 0, does not have many workers which may be a bottleneck. Consider increasing the value of the `num_workers` argument` (try 24 which is the number of cpus on this machine) in the `DataLoader` init to improve performance.\n",
      "  rank_zero_warn(\n",
      "/home/weniger/miniconda3b/envs/zero/lib/python3.9/site-packages/pytorch_lightning/trainer/data_loading.py:132: UserWarning: The dataloader, train_dataloader, does not have many workers which may be a bottleneck. Consider increasing the value of the `num_workers` argument` (try 24 which is the number of cpus on this machine) in the `DataLoader` init to improve performance.\n",
      "  rank_zero_warn(\n"
     ]
    },
    {
     "name": "stdout",
     "output_type": "stream",
     "text": [
      "Epoch 0:  95%|█████████▍| 149/157 [00:01<00:00, 85.01it/s, loss=-1.7, v_num=9820992] \n",
      "Validating: 0it [00:00, ?it/s]\u001b[A\n",
      "Epoch 0: 100%|██████████| 157/157 [00:01<00:00, 87.82it/s, loss=-1.7, v_num=9820992, val_loss=-1.79]\n",
      "Epoch 1:  96%|█████████▌| 150/157 [00:01<00:00, 79.05it/s, loss=-1.82, v_num=9820992, val_loss=-1.79]\n",
      "Validating: 0it [00:00, ?it/s]\u001b[A\n",
      "Epoch 1: 100%|██████████| 157/157 [00:01<00:00, 80.94it/s, loss=-1.82, v_num=9820992, val_loss=-1.95]\n",
      "Epoch 2:  95%|█████████▍| 149/157 [00:01<00:00, 87.06it/s, loss=-1.99, v_num=9820992, val_loss=-1.95]\n",
      "Validating: 0it [00:00, ?it/s]\u001b[A\n",
      "Epoch 2: 100%|██████████| 157/157 [00:01<00:00, 89.78it/s, loss=-1.99, v_num=9820992, val_loss=-2.01]\n",
      "Epoch 3:  95%|█████████▍| 149/157 [00:01<00:00, 91.35it/s, loss=-1.95, v_num=9820992, val_loss=-2.01]\n",
      "Validating: 0it [00:00, ?it/s]\u001b[A\n",
      "Epoch 3: 100%|██████████| 157/157 [00:01<00:00, 94.18it/s, loss=-1.95, v_num=9820992, val_loss=-2.04]\n",
      "Epoch 4:  95%|█████████▍| 149/157 [00:01<00:00, 85.02it/s, loss=-2.03, v_num=9820992, val_loss=-2.04]\n",
      "Validating: 0it [00:00, ?it/s]\u001b[A\n",
      "Epoch 4: 100%|██████████| 157/157 [00:01<00:00, 87.47it/s, loss=-2.03, v_num=9820992, val_loss=-2.08]\n",
      "Epoch 5:  95%|█████████▍| 149/157 [00:01<00:00, 83.43it/s, loss=-2.06, v_num=9820992, val_loss=-2.08]\n",
      "Validating: 0it [00:00, ?it/s]\u001b[A\n",
      "Epoch 5: 100%|██████████| 157/157 [00:01<00:00, 86.16it/s, loss=-2.06, v_num=9820992, val_loss=-2.11]\n",
      "Epoch 6:  95%|█████████▍| 149/157 [00:01<00:00, 89.94it/s, loss=-2.05, v_num=9820992, val_loss=-2.11]\n",
      "Validating: 0it [00:00, ?it/s]\u001b[A\n",
      "Epoch 6: 100%|██████████| 157/157 [00:01<00:00, 92.79it/s, loss=-2.05, v_num=9820992, val_loss=-2.07]\n",
      "Epoch 7:  95%|█████████▍| 149/157 [00:01<00:00, 89.17it/s, loss=-2.08, v_num=9820992, val_loss=-2.07]\n",
      "Validating: 0it [00:00, ?it/s]\u001b[A\n",
      "Epoch 7: 100%|██████████| 157/157 [00:01<00:00, 91.81it/s, loss=-2.08, v_num=9820992, val_loss=-2.13]\n",
      "Epoch 8:  95%|█████████▍| 149/157 [00:01<00:00, 82.79it/s, loss=-2.11, v_num=9820992, val_loss=-2.13]\n",
      "Validating: 0it [00:00, ?it/s]\u001b[A\n",
      "Epoch 8: 100%|██████████| 157/157 [00:01<00:00, 84.82it/s, loss=-2.11, v_num=9820992, val_loss=-2.11]\n",
      "Epoch 9:  95%|█████████▍| 149/157 [00:01<00:00, 96.34it/s, loss=-2.06, v_num=9820992, val_loss=-2.11]\n",
      "Validating: 0it [00:00, ?it/s]\u001b[A\n",
      "Epoch 9: 100%|██████████| 157/157 [00:01<00:00, 99.36it/s, loss=-2.06, v_num=9820992, val_loss=-2.08]\n",
      "Epoch 9: 100%|██████████| 157/157 [00:01<00:00, 98.17it/s, loss=-2.06, v_num=9820992, val_loss=-2.08]\n"
     ]
    }
   ],
   "source": [
    "network = Network()\n",
    "trainer.fit(network, dl_train, dl_valid)"
   ]
  },
  {
   "cell_type": "markdown",
   "id": "ac47fc0b-926d-48ce-9af6-d8ac6e50003f",
   "metadata": {},
   "source": [
    "## 5. Visualize training"
   ]
  },
  {
   "cell_type": "code",
   "execution_count": null,
   "id": "e7f44ea1-8d00-42de-985f-ad5e65162f5f",
   "metadata": {},
   "outputs": [],
   "source": []
  },
  {
   "cell_type": "markdown",
   "id": "3bc33732-9b4d-434e-8684-bad8e50f56c5",
   "metadata": {},
   "source": [
    "## 6. Perform validation tests"
   ]
  },
  {
   "cell_type": "code",
   "execution_count": 40,
   "id": "6a87cd11-46fe-4234-90dc-1475925f0f80",
   "metadata": {},
   "outputs": [
    {
     "name": "stderr",
     "output_type": "stream",
     "text": [
      "LOCAL_RANK: 0 - CUDA_VISIBLE_DEVICES: [0]\n",
      "/home/weniger/miniconda3b/envs/zero/lib/python3.9/site-packages/pytorch_lightning/trainer/data_loading.py:132: UserWarning: The dataloader, test_dataloader 0, does not have many workers which may be a bottleneck. Consider increasing the value of the `num_workers` argument` (try 24 which is the number of cpus on this machine) in the `DataLoader` init to improve performance.\n",
      "  rank_zero_warn(\n"
     ]
    },
    {
     "name": "stdout",
     "output_type": "stream",
     "text": [
      "Testing: 0it [00:00, ?it/s]--------------------------------------------------------------------------------\n",
      "DATALOADER:0 TEST RESULTS\n",
      "{'hp/JS-div': -2.078296661376953, 'hp/KL-div': -4.338498115539551}\n",
      "--------------------------------------------------------------------------------\n",
      "Testing: 100%|██████████| 8/8 [00:00<00:00, 162.90it/s]\n"
     ]
    },
    {
     "data": {
      "text/plain": [
       "[{'hp/JS-div': -2.078296661376953, 'hp/KL-div': -4.338498115539551}]"
      ]
     },
     "execution_count": 40,
     "metadata": {},
     "output_type": "execute_result"
    }
   ],
   "source": [
    "trainer.test(network, dl_valid)"
   ]
  },
  {
   "cell_type": "code",
   "execution_count": 42,
   "id": "482a232c-9a3b-4e02-9859-44d0f7cfe56f",
   "metadata": {},
   "outputs": [
    {
     "name": "stderr",
     "output_type": "stream",
     "text": [
      "LOCAL_RANK: 0 - CUDA_VISIBLE_DEVICES: [0]\n"
     ]
    },
    {
     "name": "stdout",
     "output_type": "stream",
     "text": [
      "Predicting: 149it [00:00, ?it/s]"
     ]
    },
    {
     "name": "stderr",
     "output_type": "stream",
     "text": [
      "LOCAL_RANK: 0 - CUDA_VISIBLE_DEVICES: [0]\n"
     ]
    },
    {
     "name": "stdout",
     "output_type": "stream",
     "text": [
      "\n",
      "Predicting: 100%|██████████| 1000/1000 [00:14<00:00, 58.00it/s]\n"
     ]
    }
   ],
   "source": [
    "B = samples[:1000]\n",
    "A = samples[:1000]\n",
    "mass = trainer.estimate_mass(network, A, B)"
   ]
  },
  {
   "cell_type": "markdown",
   "id": "94b5923b-7aaf-40bf-be45-2dfac15ce460",
   "metadata": {},
   "source": [
    "## 7. Generate posteriors"
   ]
  },
  {
   "cell_type": "code",
   "execution_count": 99,
   "id": "efce6bf3-ccaf-4291-8976-a7efec80fdd1",
   "metadata": {},
   "outputs": [],
   "source": [
    "x0 = sim.sample(conditions = {\"z\": np.array([-0.5, 0.5])})['x']"
   ]
  },
  {
   "cell_type": "code",
   "execution_count": 100,
   "id": "b5b6afc0-c7d1-4dd4-be07-0560410da44d",
   "metadata": {},
   "outputs": [
    {
     "name": "stderr",
     "output_type": "stream",
     "text": [
      "LOCAL_RANK: 0 - CUDA_VISIBLE_DEVICES: [0]\n"
     ]
    },
    {
     "name": "stdout",
     "output_type": "stream",
     "text": [
      "Predicting: 100%|██████████| 149/149 [00:00<?, ?it/s]\n"
     ]
    }
   ],
   "source": [
    "predictions = trainer.infer(network, swyft.Sample(x = x0), dl_train)"
   ]
  },
  {
   "cell_type": "code",
   "execution_count": 101,
   "id": "38662dd3-6a21-4a50-8c4e-29ef82e7afce",
   "metadata": {},
   "outputs": [],
   "source": [
    "posterior_samples = predictions.sample(100000)"
   ]
  },
  {
   "cell_type": "code",
   "execution_count": 102,
   "id": "a90092c1-271b-4c5a-8204-15b4567de2ac",
   "metadata": {},
   "outputs": [
    {
     "data": {
      "image/png": "[encoded data removed]",
      "text/plain": [
       "<Figure size 432x288 with 1 Axes>"
      ]
     },
     "metadata": {
      "needs_background": "light"
     },
     "output_type": "display_data"
    }
   ],
   "source": [
    "plt.hist(posterior_samples['z'][:,0].numpy(), bins = 50, density = True);\n",
    "plt.hist(posterior_samples['z'][:,1].numpy(), bins = 50, density = True);"
   ]
  },
  {
   "cell_type": "code",
   "execution_count": null,
   "id": "fb5508ab-8b44-48e1-b770-a0ee3dfd74ec",
   "metadata": {},
   "outputs": [],
   "source": []
  }
 ],
 "metadata": {
  "kernelspec": {
   "display_name": "Python 3",
   "language": "python",
   "name": "python3"
  },
  "language_info": {
   "codemirror_mode": {
    "name": "ipython",
    "version": 3
   },
   "file_extension": ".py",
   "mimetype": "text/x-python",
   "name": "python",
   "nbconvert_exporter": "python",
   "pygments_lexer": "ipython3",
   "version": "3.9.7"
  }
 },
 "nbformat": 4,
 "nbformat_minor": 5
}
