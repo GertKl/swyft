{
 "cells": [
  {
   "cell_type": "code",
   "execution_count": 1,
   "id": "43b54d61-2a21-4360-8f08-d9ab03239760",
   "metadata": {},
   "outputs": [],
   "source": [
    "%load_ext autoreload\n",
    "%autoreload 2"
   ]
  },
  {
   "cell_type": "markdown",
   "id": "6ec77850-b62c-4d3d-94d8-4c6ca4c70b77",
   "metadata": {},
   "source": [
    "# Swyft in 15 Minutes\n",
    "\n",
    "We discuss seven key steps of a typical Swyft workflow."
   ]
  },
  {
   "cell_type": "markdown",
   "id": "bd3002ce-7495-433b-9c95-693c60e917a1",
   "metadata": {},
   "source": [
    "## 1. Installing Swyft"
   ]
  },
  {
   "cell_type": "markdown",
   "id": "0cfdfa13-ee61-4f32-9310-ad8b807b1f07",
   "metadata": {},
   "source": [
    "We can use `pip` to install the lightning branch (latest development branch) of Swyft."
   ]
  },
  {
   "cell_type": "code",
   "execution_count": 2,
   "id": "7b2f598a-93c6-4c73-a093-d76f0b126813",
   "metadata": {},
   "outputs": [],
   "source": [
    "#!pip install https://github.com/undark-lab/swyft.git@lightning"
   ]
  },
  {
   "cell_type": "code",
   "execution_count": 3,
   "id": "db1bfed8-219c-4420-bf4d-673d98a51ef2",
   "metadata": {},
   "outputs": [],
   "source": [
    "import numpy as np\n",
    "from scipy import stats\n",
    "import pylab as plt\n",
    "import torch\n",
    "import swyft"
   ]
  },
  {
   "cell_type": "markdown",
   "id": "15649024-2f24-4257-8d0e-0f326bf67884",
   "metadata": {},
   "source": [
    "## 2. Define the Simulator"
   ]
  },
  {
   "cell_type": "markdown",
   "id": "e3f6b1a8-d721-4d4f-b441-b03d1f9bf8a2",
   "metadata": {},
   "source": [
    "Next we define a simulator class, which specifies the computational graph of our simulator."
   ]
  },
  {
   "cell_type": "code",
   "execution_count": 4,
   "id": "94119669-c228-4ed1-8d8a-c1090c532a21",
   "metadata": {},
   "outputs": [
    {
     "name": "stderr",
     "output_type": "stream",
     "text": [
      "100%|██████████| 10000/10000 [00:00<00:00, 23818.21it/s]\n"
     ]
    }
   ],
   "source": [
    "class Simulator(swyft.Simulator):\n",
    "    def __init__(self):\n",
    "        super().__init__()\n",
    "        self.on_after_forward = swyft.to_numpy32\n",
    "        self.x = np.linspace(-1, 1, 10)\n",
    "         \n",
    "    def forward(self, trace):\n",
    "        z = trace.sample('z', lambda: np.random.rand(2)*2-1)\n",
    "        f = trace.sample('f', lambda z: z[0] + z[1]*self.x, z)\n",
    "        x = trace.sample('x', lambda f: f + np.random.randn(10)*0.1, f)\n",
    "        \n",
    "sim = Simulator()\n",
    "samples = sim.sample(N = 10000)"
   ]
  },
  {
   "cell_type": "markdown",
   "id": "115822b0-1872-4bdd-a0ed-7310b25da80d",
   "metadata": {},
   "source": [
    "## 3. Define the SwyftModule"
   ]
  },
  {
   "cell_type": "code",
   "execution_count": 5,
   "id": "a636462e-aa89-4996-89e1-04037cd8f43f",
   "metadata": {},
   "outputs": [],
   "source": [
    "class Network(swyft.SwyftModule):\n",
    "    def __init__(self):\n",
    "        super().__init__()\n",
    "        self.embedding = torch.nn.Linear(10, 2)\n",
    "        self.logratios1 = swyft.LogRatioEstimator_1dim(num_features = 2, num_params = 2, varnames = 'z')\n",
    "        self.logratios2 = swyft.LogRatioEstimator_Ndim(num_features = 2, marginals = ((0, 1),), varnames = 'z')\n",
    "\n",
    "    def forward(self, A, B):\n",
    "        embedding = self.embedding(A['x'])\n",
    "        logratios1 = self.logratios1(embedding, B['z'])\n",
    "        logratios2 = self.logratios2(embedding, B['z'])\n",
    "        return logratios1, logratios2"
   ]
  },
  {
   "cell_type": "markdown",
   "id": "9348cf96-3347-4698-8d89-fa6c50cd2314",
   "metadata": {},
   "source": [
    "## 4. Train the model"
   ]
  },
  {
   "cell_type": "code",
   "execution_count": 6,
   "id": "db43aac6-7bdd-4016-9f24-fbb374c5738d",
   "metadata": {},
   "outputs": [
    {
     "name": "stderr",
     "output_type": "stream",
     "text": [
      "GPU available: True, used: True\n",
      "TPU available: False, using: 0 TPU cores\n",
      "IPU available: False, using: 0 IPUs\n"
     ]
    }
   ],
   "source": [
    "trainer = swyft.SwyftTrainer(accelerator = 'gpu', gpus=1, max_epochs = 2)"
   ]
  },
  {
   "cell_type": "code",
   "execution_count": 7,
   "id": "800f08ac-2f14-4cb7-a28f-0f7fbd10a7c0",
   "metadata": {},
   "outputs": [],
   "source": [
    "dl_train = samples[:-500].get_dataloader(batch_size = 64, shuffle = True)\n",
    "dl_valid = samples[-500:].get_dataloader(batch_size = 64)"
   ]
  },
  {
   "cell_type": "code",
   "execution_count": 8,
   "id": "b3ca1594-2913-4c9b-a1fc-bdd0fffa0935",
   "metadata": {},
   "outputs": [
    {
     "name": "stderr",
     "output_type": "stream",
     "text": [
      "LOCAL_RANK: 0 - CUDA_VISIBLE_DEVICES: [0]\n",
      "\n",
      "  | Name       | Type                   | Params\n",
      "------------------------------------------------------\n",
      "0 | embedding  | Linear                 | 22    \n",
      "1 | logratios1 | LogRatioEstimator_1dim | 34.9 K\n",
      "2 | logratios2 | LogRatioEstimator_Ndim | 17.5 K\n",
      "------------------------------------------------------\n",
      "52.5 K    Trainable params\n",
      "0         Non-trainable params\n",
      "52.5 K    Total params\n",
      "0.210     Total estimated model params size (MB)\n",
      "/home/weniger/miniconda3b/envs/zero/lib/python3.9/site-packages/pytorch_lightning/callbacks/model_checkpoint.py:631: UserWarning: Checkpoint directory /home/weniger/codes/swyft/notebooks/lightning_logs/version_9927147/checkpoints exists and is not empty.\n",
      "  rank_zero_warn(f\"Checkpoint directory {dirpath} exists and is not empty.\")\n"
     ]
    },
    {
     "name": "stdout",
     "output_type": "stream",
     "text": [
      "Validation sanity check:   0%|          | 0/2 [00:00<?, ?it/s]"
     ]
    },
    {
     "name": "stderr",
     "output_type": "stream",
     "text": [
      "/home/weniger/miniconda3b/envs/zero/lib/python3.9/site-packages/pytorch_lightning/trainer/data_loading.py:132: UserWarning: The dataloader, val_dataloader 0, does not have many workers which may be a bottleneck. Consider increasing the value of the `num_workers` argument` (try 24 which is the number of cpus on this machine) in the `DataLoader` init to improve performance.\n",
      "  rank_zero_warn(\n"
     ]
    },
    {
     "name": "stdout",
     "output_type": "stream",
     "text": [
      "                                                                      "
     ]
    },
    {
     "name": "stderr",
     "output_type": "stream",
     "text": [
      "/home/weniger/miniconda3b/envs/zero/lib/python3.9/site-packages/pytorch_lightning/trainer/data_loading.py:132: UserWarning: The dataloader, train_dataloader, does not have many workers which may be a bottleneck. Consider increasing the value of the `num_workers` argument` (try 24 which is the number of cpus on this machine) in the `DataLoader` init to improve performance.\n",
      "  rank_zero_warn(\n"
     ]
    },
    {
     "name": "stdout",
     "output_type": "stream",
     "text": [
      "Epoch 0:  95%|█████████▍| 149/157 [00:03<00:00, 47.84it/s, loss=-3, v_num=9927147]   \n",
      "Validating: 0it [00:00, ?it/s]\u001b[A\n",
      "Epoch 0: 100%|██████████| 157/157 [00:03<00:00, 49.02it/s, loss=-3, v_num=9927147, val_loss=-3.15]\n",
      "Epoch 1:  95%|█████████▍| 149/157 [00:02<00:00, 54.84it/s, loss=-3.13, v_num=9927147, val_loss=-3.15]\n",
      "Validating: 0it [00:00, ?it/s]\u001b[A\n",
      "Epoch 1: 100%|██████████| 157/157 [00:02<00:00, 56.37it/s, loss=-3.13, v_num=9927147, val_loss=-3.25]\n",
      "Epoch 1: 100%|██████████| 157/157 [00:02<00:00, 55.28it/s, loss=-3.13, v_num=9927147, val_loss=-3.25]\n"
     ]
    }
   ],
   "source": [
    "network = Network()\n",
    "trainer.fit(network, dl_train, dl_valid)"
   ]
  },
  {
   "cell_type": "markdown",
   "id": "ac47fc0b-926d-48ce-9af6-d8ac6e50003f",
   "metadata": {},
   "source": [
    "## 5. Visualize training"
   ]
  },
  {
   "cell_type": "markdown",
   "id": "6b3861d8-2655-496b-b274-f1d346e0ec73",
   "metadata": {},
   "source": [
    "N/A"
   ]
  },
  {
   "cell_type": "markdown",
   "id": "3bc33732-9b4d-434e-8684-bad8e50f56c5",
   "metadata": {},
   "source": [
    "## 6. Perform validation tests"
   ]
  },
  {
   "cell_type": "code",
   "execution_count": 9,
   "id": "6a87cd11-46fe-4234-90dc-1475925f0f80",
   "metadata": {},
   "outputs": [
    {
     "name": "stderr",
     "output_type": "stream",
     "text": [
      "LOCAL_RANK: 0 - CUDA_VISIBLE_DEVICES: [0]\n",
      "/home/weniger/miniconda3b/envs/zero/lib/python3.9/site-packages/pytorch_lightning/trainer/data_loading.py:132: UserWarning: The dataloader, test_dataloader 0, does not have many workers which may be a bottleneck. Consider increasing the value of the `num_workers` argument` (try 24 which is the number of cpus on this machine) in the `DataLoader` init to improve performance.\n",
      "  rank_zero_warn(\n"
     ]
    },
    {
     "name": "stdout",
     "output_type": "stream",
     "text": [
      "Testing: 0it [00:00, ?it/s]--------------------------------------------------------------------------------\n",
      "DATALOADER:0 TEST RESULTS\n",
      "{'hp/JS-div': -3.2495720386505127, 'hp/KL-div': -7.909391403198242}\n",
      "--------------------------------------------------------------------------------\n",
      "Testing: 100%|██████████| 8/8 [00:00<00:00, 113.25it/s]\n"
     ]
    },
    {
     "data": {
      "text/plain": [
       "[{'hp/JS-div': -3.2495720386505127, 'hp/KL-div': -7.909391403198242}]"
      ]
     },
     "execution_count": 9,
     "metadata": {},
     "output_type": "execute_result"
    }
   ],
   "source": [
    "trainer.test(network, dl_valid)"
   ]
  },
  {
   "cell_type": "code",
   "execution_count": 10,
   "id": "482a232c-9a3b-4e02-9859-44d0f7cfe56f",
   "metadata": {},
   "outputs": [
    {
     "name": "stderr",
     "output_type": "stream",
     "text": [
      "LOCAL_RANK: 0 - CUDA_VISIBLE_DEVICES: [0]\n"
     ]
    },
    {
     "name": "stdout",
     "output_type": "stream",
     "text": [
      "Predicting: 149it [00:00, ?it/s]"
     ]
    },
    {
     "name": "stderr",
     "output_type": "stream",
     "text": [
      "/home/weniger/miniconda3b/envs/zero/lib/python3.9/site-packages/pytorch_lightning/loops/epoch/prediction_epoch_loop.py:174: UserWarning: Lightning couldn't infer the indices fetched for your dataloader.\n",
      "  warning_cache.warn(\"Lightning couldn't infer the indices fetched for your dataloader.\")\n"
     ]
    },
    {
     "name": "stdout",
     "output_type": "stream",
     "text": [
      "Predicting: 149it [00:00, ?it/s]"
     ]
    },
    {
     "name": "stderr",
     "output_type": "stream",
     "text": [
      "LOCAL_RANK: 0 - CUDA_VISIBLE_DEVICES: [0]\n"
     ]
    },
    {
     "name": "stdout",
     "output_type": "stream",
     "text": [
      "\n",
      "Predicting: 100%|██████████| 1000/1000 [00:13<00:00, 62.11it/s]\n"
     ]
    },
    {
     "ename": "AttributeError",
     "evalue": "'list' object has no attribute 'items'",
     "output_type": "error",
     "traceback": [
      "\u001b[0;31m---------------------------------------------------------------------------\u001b[0m",
      "\u001b[0;31mAttributeError\u001b[0m                            Traceback (most recent call last)",
      "Input \u001b[0;32mIn [10]\u001b[0m, in \u001b[0;36m<module>\u001b[0;34m\u001b[0m\n\u001b[1;32m      1\u001b[0m B \u001b[38;5;241m=\u001b[39m samples[:\u001b[38;5;241m1000\u001b[39m]\n\u001b[1;32m      2\u001b[0m A \u001b[38;5;241m=\u001b[39m samples[:\u001b[38;5;241m1000\u001b[39m]\n\u001b[0;32m----> 3\u001b[0m mass \u001b[38;5;241m=\u001b[39m \u001b[43mtrainer\u001b[49m\u001b[38;5;241;43m.\u001b[39;49m\u001b[43mestimate_mass\u001b[49m\u001b[43m(\u001b[49m\u001b[43mnetwork\u001b[49m\u001b[43m,\u001b[49m\u001b[43m \u001b[49m\u001b[43mA\u001b[49m\u001b[43m,\u001b[49m\u001b[43m \u001b[49m\u001b[43mB\u001b[49m\u001b[43m)\u001b[49m\n",
      "File \u001b[0;32m~/codes/swyft/swyft/lightning/core.py:213\u001b[0m, in \u001b[0;36mSwyftTrainer.estimate_mass\u001b[0;34m(self, model, A, B, batch_size)\u001b[0m\n\u001b[1;32m    211\u001b[0m n0 \u001b[38;5;241m=\u001b[39m \u001b[38;5;28mlen\u001b[39m(pred0)\n\u001b[1;32m    212\u001b[0m out \u001b[38;5;241m=\u001b[39m {}\n\u001b[0;32m--> 213\u001b[0m \u001b[38;5;28;01mfor\u001b[39;00m k, v \u001b[38;5;129;01min\u001b[39;00m \u001b[43mpred1\u001b[49m\u001b[38;5;241;43m.\u001b[39;49m\u001b[43mitems\u001b[49m():\n\u001b[1;32m    214\u001b[0m     ratios \u001b[38;5;241m=\u001b[39m v\u001b[38;5;241m.\u001b[39mratios\u001b[38;5;241m.\u001b[39mreshape(n0, \u001b[38;5;241m-\u001b[39m\u001b[38;5;241m1\u001b[39m, \u001b[38;5;241m*\u001b[39mv\u001b[38;5;241m.\u001b[39mratios\u001b[38;5;241m.\u001b[39mshape[\u001b[38;5;241m1\u001b[39m:])\n\u001b[1;32m    215\u001b[0m     vs \u001b[38;5;241m=\u001b[39m []\n",
      "\u001b[0;31mAttributeError\u001b[0m: 'list' object has no attribute 'items'"
     ]
    }
   ],
   "source": [
    "B = samples[:1000]\n",
    "A = samples[:1000]\n",
    "mass = trainer.estimate_mass(network, A, B)"
   ]
  },
  {
   "cell_type": "markdown",
   "id": "94b5923b-7aaf-40bf-be45-2dfac15ce460",
   "metadata": {},
   "source": [
    "## 7. Generate posteriors"
   ]
  },
  {
   "cell_type": "code",
   "execution_count": null,
   "id": "efce6bf3-ccaf-4291-8976-a7efec80fdd1",
   "metadata": {},
   "outputs": [],
   "source": [
    "z0 = np.array([1.0, 1.0])\n",
    "x0 = sim.sample(conditions = {\"z\": z0})['x']\n",
    "plt.plot(x0)"
   ]
  },
  {
   "cell_type": "code",
   "execution_count": null,
   "id": "345d094f-c144-4324-9e83-297d5b07d266",
   "metadata": {},
   "outputs": [],
   "source": [
    "prior_samples = sim.sample(targets = ['z'], N = 100000)"
   ]
  },
  {
   "cell_type": "code",
   "execution_count": null,
   "id": "72add50d-4448-4461-84a6-89efb73e9bc7",
   "metadata": {},
   "outputs": [],
   "source": [
    "predictions = trainer.infer(network, swyft.Sample(x = x0), prior_samples)"
   ]
  },
  {
   "cell_type": "code",
   "execution_count": null,
   "id": "4fde6973-e7dd-4464-ae3c-ca34d657b3cf",
   "metadata": {},
   "outputs": [],
   "source": [
    "predictions[0].parnames"
   ]
  },
  {
   "cell_type": "code",
   "execution_count": null,
   "id": "e8cd68fb-dcf5-4ead-9b68-ab3421026a06",
   "metadata": {},
   "outputs": [],
   "source": [
    "import seaborn\n",
    "\n",
    "for i in [0, 1]:\n",
    "    v, w = predictions['z1'][i]\n",
    "    clip = [v.min(), v.max()]\n",
    "    seaborn.kdeplot(v, weights = w, clip = clip, shade = True)\n",
    "    plt.axvline(z0[i], color='r', ls=':')\n",
    "    plt.xlim([0.5, 1.2])"
   ]
  },
  {
   "cell_type": "code",
   "execution_count": null,
   "id": "7442a2ae-8101-4cac-908b-115e98e7a0d9",
   "metadata": {},
   "outputs": [],
   "source": [
    "v, w = predictions['z2'][0]"
   ]
  },
  {
   "cell_type": "code",
   "execution_count": null,
   "id": "7cb3161f-4d8b-4de0-8ef3-360034e1327c",
   "metadata": {},
   "outputs": [],
   "source": [
    "predictions.sample(100)"
   ]
  },
  {
   "cell_type": "code",
   "execution_count": null,
   "id": "c914c557-79ed-487c-b49f-a700c383c07c",
   "metadata": {},
   "outputs": [],
   "source": [
    "seaborn.kdeplot(x = v[:1000,0], y = v[:1000,1], weights = w[:1000])"
   ]
  },
  {
   "cell_type": "code",
   "execution_count": null,
   "id": "90422f58-a03c-4ce6-a466-974fda1ca7af",
   "metadata": {},
   "outputs": [],
   "source": []
  }
 ],
 "metadata": {
  "kernelspec": {
   "display_name": "Python 3",
   "language": "python",
   "name": "python3"
  },
  "language_info": {
   "codemirror_mode": {
    "name": "ipython",
    "version": 3
   },
   "file_extension": ".py",
   "mimetype": "text/x-python",
   "name": "python",
   "nbconvert_exporter": "python",
   "pygments_lexer": "ipython3",
   "version": "3.9.7"
  }
 },
 "nbformat": 4,
 "nbformat_minor": 5
}
