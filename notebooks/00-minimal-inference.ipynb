{
 "cells": [
  {
   "cell_type": "markdown",
   "id": "d74664b7-7747-4243-abfe-e3273bc1ab96",
   "metadata": {},
   "source": [
    "# Introduction to swyft-lightning\n",
    "\n",
    "In this notebook, we will go through the basic steps of performing parameter inference with swyft."
   ]
  },
  {
   "cell_type": "markdown",
   "id": "b4c7a3f1-ab43-432e-a64f-b7f1358a24da",
   "metadata": {},
   "source": [
    "## Setup\n",
    "\n",
    "First we need some imports."
   ]
  },
  {
   "cell_type": "code",
   "execution_count": 52,
   "id": "0297c907",
   "metadata": {},
   "outputs": [],
   "source": [
    "import pylab as plt\n",
    "import numpy as np\n",
    "from scipy import stats\n",
    "import torch\n",
    "import swyft"
   ]
  },
  {
   "cell_type": "markdown",
   "id": "ab99366b-0783-46f5-be2d-80cbbb85e163",
   "metadata": {},
   "source": [
    "## Training data\n",
    "\n",
    "Now we generate training data.  As simple example, we consider the model\n",
    "\n",
    "$$\n",
    "x = z + \\epsilon\n",
    "$$\n",
    "\n",
    "with $z \\sim \\mathcal{N}(\\mu = 0, \\sigma^2 = 1)$ standard normal distributed, and $\\epsilon \\sim \\mathcal{N}(\\mu = 0, \\sigma^2 = 0.01)$ is some noise term.  We will infer the posterior for $z$ given a measurement of parameter $x$."
   ]
  },
  {
   "cell_type": "code",
   "execution_count": 53,
   "id": "c0439f14-d49f-4e52-8916-49a785daede5",
   "metadata": {},
   "outputs": [],
   "source": [
    "N = 3500  # Number of samples\n",
    "z = np.random.randn(N, 1)\n",
    "x = z + np.random.randn(N, 1)*0.1\n",
    "z, x = swyft.to_numpy32((z, x))  # Convenience function to convert to single precision"
   ]
  },
  {
   "cell_type": "markdown",
   "id": "0fc90b4f-dd7e-43fb-af9a-7664f43787ab",
   "metadata": {},
   "source": [
    "Training data in memory is stored in a `swyft.Samples` object."
   ]
  },
  {
   "cell_type": "code",
   "execution_count": 54,
   "id": "315a3a80-c59b-4daf-b846-afb452b7575c",
   "metadata": {},
   "outputs": [],
   "source": [
    "samples = swyft.Samples(x = x, z = z)"
   ]
  },
  {
   "cell_type": "markdown",
   "id": "6ee28971-0f31-4f51-b8c6-513754f75041",
   "metadata": {},
   "source": [
    "The `swyft.Samples` class provides convenience functions to generate data loaders for training and validation data."
   ]
  },
  {
   "cell_type": "code",
   "execution_count": 55,
   "id": "60085c53-3c65-4851-ab71-ea369e365eda",
   "metadata": {},
   "outputs": [],
   "source": [
    "dl_train = samples[:3000].get_dataloader(batch_size = 32, shuffle = True)\n",
    "dl_valid = samples[3000:3500].get_dataloader(batch_size = 32)"
   ]
  },
  {
   "cell_type": "markdown",
   "id": "c3380509-cb9d-415d-b5f8-787ab75b10f7",
   "metadata": {},
   "source": [
    "## Inference network\n",
    "\n",
    "The inference network is an instance of `swyft.SwyftModule`.  It estimates ratios of the form\n",
    "$$\n",
    "r(A; B) = \\frac{p(A, B)}{p(A)p(B)}\\;,\n",
    "$$\n",
    "where $A$ and $B$ refer to any subset of variables in the training data.  In the below example, we set $A \\to x$ and $B \\to z$.\n",
    "\n",
    "We use here a standard dense network, `swyft.RatioEstimatorMLP1d`, for mapping $x$ and $z$ onto a ratio estimator object."
   ]
  },
  {
   "cell_type": "code",
   "execution_count": 58,
   "id": "3e6dc7e9-ff0a-479d-a4e8-fd8025717327",
   "metadata": {},
   "outputs": [],
   "source": [
    "class Network(swyft.SwyftModule):\n",
    "    def __init__(self):\n",
    "        super().__init__()\n",
    "        self.classifier = swyft.RatioEstimatorMLP1d(x_dim = 1, z_dim = 1)\n",
    "\n",
    "    def forward(self, A, B):\n",
    "        ratios = self.classifier(A['x'], B['z'])\n",
    "        return dict(z = ratios)"
   ]
  },
  {
   "cell_type": "code",
   "execution_count": 59,
   "id": "c5811d37-d10b-49e8-a8ed-1e6d43caefa4",
   "metadata": {},
   "outputs": [],
   "source": [
    "network = Network()"
   ]
  },
  {
   "cell_type": "markdown",
   "id": "2554dbed-fc91-45d2-bfa7-418cdaad67b6",
   "metadata": {},
   "source": [
    "## Trainer\n",
    "\n",
    "Training is now done using the `SwyftTrainer` class, which essentially corresponds to `pl.Trainer`, extended with a few convenience methods."
   ]
  },
  {
   "cell_type": "code",
   "execution_count": 60,
   "id": "5683ce37-a8d0-4ed7-94a6-512ccc7babcb",
   "metadata": {},
   "outputs": [
    {
     "name": "stderr",
     "output_type": "stream",
     "text": [
      "GPU available: True, used: True\n",
      "TPU available: False, using: 0 TPU cores\n",
      "IPU available: False, using: 0 IPUs\n"
     ]
    }
   ],
   "source": [
    "trainer = swyft.SwyftTrainer(accelerator = 'gpu', gpus=1, max_epochs = 10)"
   ]
  },
  {
   "cell_type": "code",
   "execution_count": 61,
   "id": "41f7765b-45b8-4684-b820-4f75c9719857",
   "metadata": {},
   "outputs": [
    {
     "name": "stderr",
     "output_type": "stream",
     "text": [
      "LOCAL_RANK: 0 - CUDA_VISIBLE_DEVICES: [0]\n",
      "\n",
      "  | Name       | Type                | Params\n",
      "---------------------------------------------------\n",
      "0 | classifier | RatioEstimatorMLP1d | 17.4 K\n",
      "---------------------------------------------------\n",
      "17.4 K    Trainable params\n",
      "0         Non-trainable params\n",
      "17.4 K    Total params\n",
      "0.070     Total estimated model params size (MB)\n",
      "/home/weniger/miniconda3b/envs/zero/lib/python3.9/site-packages/pytorch_lightning/callbacks/model_checkpoint.py:631: UserWarning: Checkpoint directory /home/weniger/codes/swyft/notebooks/lightning_logs/version_9819912/checkpoints exists and is not empty.\n",
      "  rank_zero_warn(f\"Checkpoint directory {dirpath} exists and is not empty.\")\n"
     ]
    },
    {
     "name": "stdout",
     "output_type": "stream",
     "text": [
      "                                                              "
     ]
    },
    {
     "name": "stderr",
     "output_type": "stream",
     "text": [
      "/home/weniger/miniconda3b/envs/zero/lib/python3.9/site-packages/pytorch_lightning/trainer/data_loading.py:132: UserWarning: The dataloader, val_dataloader 0, does not have many workers which may be a bottleneck. Consider increasing the value of the `num_workers` argument` (try 24 which is the number of cpus on this machine) in the `DataLoader` init to improve performance.\n",
      "  rank_zero_warn(\n",
      "/home/weniger/miniconda3b/envs/zero/lib/python3.9/site-packages/pytorch_lightning/trainer/data_loading.py:132: UserWarning: The dataloader, train_dataloader, does not have many workers which may be a bottleneck. Consider increasing the value of the `num_workers` argument` (try 24 which is the number of cpus on this machine) in the `DataLoader` init to improve performance.\n",
      "  rank_zero_warn(\n"
     ]
    },
    {
     "name": "stdout",
     "output_type": "stream",
     "text": [
      "Epoch 0:  85%|████████▌ | 94/110 [00:00<00:00, 100.36it/s, loss=-0.968, v_num=9819912]\n",
      "Validating: 0it [00:00, ?it/s]\u001b[A\n",
      "Epoch 0: 100%|██████████| 110/110 [00:00<00:00, 111.30it/s, loss=-0.968, v_num=9819912, val_loss=-.952]\n",
      "Epoch 1:  85%|████████▌ | 94/110 [00:00<00:00, 99.31it/s, loss=-0.965, v_num=9819912, val_loss=-.952]  \n",
      "Validating: 0it [00:00, ?it/s]\u001b[A\n",
      "Epoch 1: 100%|██████████| 110/110 [00:00<00:00, 110.88it/s, loss=-0.965, v_num=9819912, val_loss=-.935]\n",
      "Epoch 2:  85%|████████▌ | 94/110 [00:00<00:00, 102.01it/s, loss=-0.96, v_num=9819912, val_loss=-.935]  \n",
      "Validating: 0it [00:00, ?it/s]\u001b[A\n",
      "Epoch 2: 100%|██████████| 110/110 [00:00<00:00, 113.83it/s, loss=-0.96, v_num=9819912, val_loss=-.930]\n",
      "Epoch 3:  85%|████████▌ | 94/110 [00:00<00:00, 102.15it/s, loss=-1.02, v_num=9819912, val_loss=-.930] \n",
      "Validating: 0it [00:00, ?it/s]\u001b[A\n",
      "Epoch 3: 100%|██████████| 110/110 [00:00<00:00, 113.92it/s, loss=-1.02, v_num=9819912, val_loss=-.976]\n",
      "Epoch 4:  85%|████████▌ | 94/110 [00:00<00:00, 100.69it/s, loss=-0.956, v_num=9819912, val_loss=-.976]\n",
      "Validating: 0it [00:00, ?it/s]\u001b[A\n",
      "Epoch 4: 100%|██████████| 110/110 [00:00<00:00, 112.12it/s, loss=-0.956, v_num=9819912, val_loss=-.964]\n",
      "Epoch 5:  85%|████████▌ | 94/110 [00:00<00:00, 99.25it/s, loss=-0.963, v_num=9819912, val_loss=-.964]  \n",
      "Validating: 0it [00:00, ?it/s]\u001b[A\n",
      "Epoch 5: 100%|██████████| 110/110 [00:00<00:00, 110.30it/s, loss=-0.963, v_num=9819912, val_loss=-.965]\n",
      "Epoch 6:  85%|████████▌ | 94/110 [00:00<00:00, 97.15it/s, loss=-0.901, v_num=9819912, val_loss=-.965]  \n",
      "Validating: 0it [00:00, ?it/s]\u001b[A\n",
      "Epoch 6: 100%|██████████| 110/110 [00:01<00:00, 108.54it/s, loss=-0.901, v_num=9819912, val_loss=-.962]\n",
      "Epoch 7:  85%|████████▌ | 94/110 [00:00<00:00, 97.00it/s, loss=-1, v_num=9819912, val_loss=-.962]      \n",
      "Validating: 0it [00:00, ?it/s]\u001b[A\n",
      "Epoch 7: 100%|██████████| 110/110 [00:01<00:00, 108.30it/s, loss=-1, v_num=9819912, val_loss=-.991]\n",
      "Epoch 8:  85%|████████▌ | 94/110 [00:00<00:00, 98.83it/s, loss=-0.941, v_num=9819912, val_loss=-.991] \n",
      "Validating: 0it [00:00, ?it/s]\u001b[A\n",
      "Epoch 8: 100%|██████████| 110/110 [00:00<00:00, 110.09it/s, loss=-0.941, v_num=9819912, val_loss=-.936]\n",
      "Epoch 9:  85%|████████▌ | 94/110 [00:00<00:00, 99.07it/s, loss=-0.937, v_num=9819912, val_loss=-.936]  \n",
      "Validating: 0it [00:00, ?it/s]\u001b[A\n",
      "Epoch 9: 100%|██████████| 110/110 [00:00<00:00, 110.56it/s, loss=-0.937, v_num=9819912, val_loss=-.980]\n",
      "Epoch 9: 100%|██████████| 110/110 [00:01<00:00, 108.54it/s, loss=-0.937, v_num=9819912, val_loss=-.980]\n"
     ]
    }
   ],
   "source": [
    "trainer.fit(network, dl_train, dl_valid)"
   ]
  },
  {
   "cell_type": "markdown",
   "id": "a7bd5cdf-d1d1-4bbc-b70a-387d8b0a22a3",
   "metadata": {},
   "source": [
    "## Inference"
   ]
  },
  {
   "cell_type": "markdown",
   "id": "0a2a76de-45c5-445b-b45d-80da8448f4d2",
   "metadata": {},
   "source": [
    "We assume that we measure the values $x=0.5$."
   ]
  },
  {
   "cell_type": "code",
   "execution_count": 76,
   "id": "841a27bb-f8fd-48ab-9504-d8881a4f6777",
   "metadata": {},
   "outputs": [],
   "source": [
    "x0 = 0.2"
   ]
  },
  {
   "cell_type": "markdown",
   "id": "ee9bdb3a-243f-4457-b826-d7ec967f0a98",
   "metadata": {},
   "source": [
    "We first generate a large number of prior samples."
   ]
  },
  {
   "cell_type": "code",
   "execution_count": 77,
   "id": "6ec1f09c-de11-4688-89bd-564f75a64bb8",
   "metadata": {},
   "outputs": [],
   "source": [
    "prior_samples = swyft.Samples(dict(z = swyft.to_numpy32(np.random.randn(100000, 1))))"
   ]
  },
  {
   "cell_type": "markdown",
   "id": "1fc2a59b-a7b6-404a-ac72-d86d6b8a6185",
   "metadata": {},
   "source": [
    "Swyft provides the method `infer` in order to efficiently evaluate the inference network. That method takes either dataloaders or individual samples (i.e. dictionaries of tensors) as input.  This efficiently evaluates| the ratio $r(x; z)$ for a large number of prior samples $z$ for a fixed values of $x$."
   ]
  },
  {
   "cell_type": "code",
   "execution_count": 78,
   "id": "6e1cbc13-ab64-43a8-acf0-4ab9f9c650f6",
   "metadata": {},
   "outputs": [
    {
     "name": "stderr",
     "output_type": "stream",
     "text": [
      "LOCAL_RANK: 0 - CUDA_VISIBLE_DEVICES: [0]\n"
     ]
    },
    {
     "name": "stdout",
     "output_type": "stream",
     "text": [
      "Predicting: 100%|██████████| 98/98 [00:00<00:00,  8.10it/s]\n"
     ]
    }
   ],
   "source": [
    "predictions = trainer.infer(network, swyft.Sample(x = torch.zeros(1)+x0), prior_samples.get_dataloader(batch_size = 1024))"
   ]
  },
  {
   "cell_type": "markdown",
   "id": "edebf21b-b0b6-4525-8bd2-7b9f25f76204",
   "metadata": {},
   "source": [
    "## Plot results\n",
    "\n",
    "First we obtain samples from the posterior, using subsampling with a weight that happens to be given by $e^r$."
   ]
  },
  {
   "cell_type": "code",
   "execution_count": 79,
   "id": "53b5580e-757c-45a7-b928-2fe269c96c20",
   "metadata": {},
   "outputs": [],
   "source": [
    "post_samples = predictions.sample(100000)"
   ]
  },
  {
   "cell_type": "code",
   "execution_count": 80,
   "id": "dbab5ad8-52d4-4932-a93c-989b59663e63",
   "metadata": {},
   "outputs": [
    {
     "data": {
      "text/plain": [
       "<matplotlib.legend.Legend at 0x14c891095760>"
      ]
     },
     "execution_count": 80,
     "metadata": {},
     "output_type": "execute_result"
    },
    {
     "data": {
      "image/png": "[encoded data removed]",
      "text/plain": [
       "<Figure size 432x288 with 1 Axes>"
      ]
     },
     "metadata": {
      "needs_background": "light"
     },
     "output_type": "display_data"
    }
   ],
   "source": [
    "# Plot swyft results\n",
    "plt.hist(post_samples['z'][:,0].numpy(), bins = 30, density = True, color = '0.5', label = \"Swyft\");\n",
    "\n",
    "# Compare with analytical result\n",
    "xn = np.linspace(x0-0.5, x0+0.5, 1000)\n",
    "sigma_eff = (1/0.1**2 + 1/1**2)**-0.5\n",
    "mu_eff = x0/(1**2 + 0.1**2)\n",
    "yn = stats.norm.pdf(xn, mu_eff, sigma_eff)\n",
    "plt.plot(xn, yn, 'g', label = \"Analytical posterior ('ground truth')\")\n",
    "plt.legend(loc=1)"
   ]
  },
  {
   "cell_type": "code",
   "execution_count": null,
   "id": "373c4551-eebb-4749-b6e6-228dffe65c6d",
   "metadata": {},
   "outputs": [],
   "source": []
  }
 ],
 "metadata": {
  "kernelspec": {
   "display_name": "Python 3",
   "language": "python",
   "name": "python3"
  },
  "language_info": {
   "codemirror_mode": {
    "name": "ipython",
    "version": 3
   },
   "file_extension": ".py",
   "mimetype": "text/x-python",
   "name": "python",
   "nbconvert_exporter": "python",
   "pygments_lexer": "ipython3",
   "version": "3.9.7"
  }
 },
 "nbformat": 4,
 "nbformat_minor": 5
}
