{
 "cells": [
  {
   "cell_type": "code",
   "execution_count": 604,
   "id": "08e300a1-9f0f-4031-9faf-6e6d92b3fa0c",
   "metadata": {},
   "outputs": [],
   "source": [
    "import numpy as np\n",
    "import pylab as plt"
   ]
  },
  {
   "cell_type": "code",
   "execution_count": 633,
   "id": "ee1b0110-e909-4260-80dd-2669ba562ce2",
   "metadata": {},
   "outputs": [],
   "source": [
    "def rrfft(a):\n",
    "    n = len(a)\n",
    "    c = np.empty(n)\n",
    "    b = np.fft.rfft(a, norm = 'ortho')\n",
    "    if n%2 == 0:\n",
    "        b_real, b_imag = np.real(b), np.imag(b)[1:-1]\n",
    "        b_real[1:-1] *= 2**0.5\n",
    "        b_imag *= 2**0.5\n",
    "    else:\n",
    "        b_real, b_imag = np.real(b), np.imag(b)[1:]\n",
    "        b_real[1:] *= 2**0.5\n",
    "        b_imag *= 2**0.5\n",
    "    c[0], c[1::2], c[2::2] = b_real[0], b_real[1:], b_imag\n",
    "    return c\n",
    "\n",
    "def rirfft(a):\n",
    "    n = len(a)\n",
    "    if n%2 == 0:\n",
    "        b = np.zeros(int(n/2)+1, dtype = np.complex128)\n",
    "        b[0] += a[0]\n",
    "        b[1:] += a[1::2]/2**0.5\n",
    "        b[1:-1] += a[2::2]*1j/2**0.5\n",
    "    else:\n",
    "        b = np.zeros(int(n/2)+1, dtype = np.complex128)\n",
    "        b[0] += a[0]\n",
    "        b[1:] += a[1::2]/2**0.5\n",
    "        b[1:] += a[2::2]*1j/2**0.5\n",
    "    c = np.fft.irfft(b, n, norm = 'ortho')\n",
    "    return c"
   ]
  },
  {
   "cell_type": "code",
   "execution_count": 638,
   "id": "c4e33435-1165-4e77-b3c6-b519c1ff77d2",
   "metadata": {},
   "outputs": [
    {
     "name": "stdout",
     "output_type": "stream",
     "text": [
      "1049.4009405176316 1049.4009405176319 1049.4009405176319\n"
     ]
    }
   ],
   "source": [
    "x = np.random.randn(1001)\n",
    "y = rrfft(x)\n",
    "z = rirfft(y)\n",
    "print(sum(x**2), sum(y**2), sum(z**2))\n",
    "#print(sum(x**2)**0.5/sum(y**2)**0.5)"
   ]
  },
  {
   "cell_type": "code",
   "execution_count": null,
   "id": "695665e0-58f8-4103-8e21-4e06ee3f1554",
   "metadata": {},
   "outputs": [],
   "source": []
  }
 ],
 "metadata": {
  "kernelspec": {
   "display_name": "Python 3 (ipykernel)",
   "language": "python",
   "name": "python3"
  },
  "language_info": {
   "codemirror_mode": {
    "name": "ipython",
    "version": 3
   },
   "file_extension": ".py",
   "mimetype": "text/x-python",
   "name": "python",
   "nbconvert_exporter": "python",
   "pygments_lexer": "ipython3",
   "version": "3.9.13"
  }
 },
 "nbformat": 4,
 "nbformat_minor": 5
}
