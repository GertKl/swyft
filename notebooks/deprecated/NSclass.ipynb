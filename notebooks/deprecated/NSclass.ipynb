{
 "cells": [
  {
   "cell_type": "code",
   "execution_count": 6,
   "id": "8e9d04e5-d08e-46ab-a520-4547dedf0487",
   "metadata": {},
   "outputs": [
    {
     "name": "stdout",
     "output_type": "stream",
     "text": [
      "The autoreload extension is already loaded. To reload it, use:\n",
      "  %reload_ext autoreload\n"
     ]
    }
   ],
   "source": [
    "%load_ext autoreload\n",
    "%autoreload 2\n",
    "import pylab as plt\n",
    "import torch\n",
    "import numpy as np\n",
    "from tqdm.auto import tqdm"
   ]
  },
  {
   "cell_type": "markdown",
   "id": "63d30ab7-b76f-48c4-b85d-53ae759d5294",
   "metadata": {},
   "source": [
    "## Nested sampling Class"
   ]
  },
  {
   "cell_type": "code",
   "execution_count": 7,
   "id": "d0151661-0807-47bd-9ac8-d4cb58ff9076",
   "metadata": {},
   "outputs": [],
   "source": [
    "class SwyftSimpleSliceSampler:\n",
    "    def __init__(self, X_init):\n",
    "        self.X_init = X_init\n",
    "        self.X_live = X_init*1.\n",
    "        self.L_live = None\n",
    "\n",
    "    @staticmethod\n",
    "    def _get_directions(B, D):\n",
    "        \"\"\"This function generates a minibatch of D-dimensional random directions.\"\"\"\n",
    "        t = torch.randn(B, D)\n",
    "        l = (t**2).sum(axis=-1)**0.5\n",
    "        n = t/l.unsqueeze(-1)\n",
    "        return n\n",
    "\n",
    "    @staticmethod\n",
    "    def _get_slice_sample_points(B, S):\n",
    "        \"\"\"This function generates a minibatch of S slice sample positions.\"\"\"\n",
    "        hard_bounds = torch.tensor([-1., 1.]).unsqueeze(0).repeat((B,1))\n",
    "        current_bounds = hard_bounds.clone()\n",
    "        L = torch.empty((B, S))\n",
    "        for i in range(S):\n",
    "            x = torch.rand(B)*(current_bounds[:,1]-current_bounds[:,0])+current_bounds[:,0]\n",
    "            L[:,i] = x\n",
    "            current_bounds[x<0,0] = x[x<0]\n",
    "            current_bounds[x>0,1] = x[x>0]\n",
    "        return L\n",
    "    \n",
    "    def _gen_new_samples(self, X_seeds, logl_fn, logl_th, num_steps = 10, max_step_size = 1., samples_per_slice = 20):\n",
    "        \"\"\"This function generates new samples within the likelihodo constraint logl_fn > log_th.\"\"\"\n",
    "        B, D = X_seeds.shape\n",
    "        C = torch.zeros(B)  # counter for accepted points\n",
    "        X = X_seeds.clone()\n",
    "        logl = torch.ones(B)*(-np.inf)\n",
    "        for i in range(num_steps):\n",
    "            N = self._get_directions(B, D)\n",
    "            L = self._get_slice_sample_points(B, S = samples_per_slice)*max_step_size\n",
    "            dX = N.unsqueeze(-2)*L.unsqueeze(-1)\n",
    "            pX = X.unsqueeze(-2) + dX # proposals\n",
    "            logl_prop = logl_fn(pX)\n",
    "            accept_matrix = logl_prop > logl_th\n",
    "            idx = torch.argmax(accept_matrix.int(), dim=1)\n",
    "            nX = torch.stack([pX[i][idx[i]] for i in range(B)], dim=0)\n",
    "            logl_selected = torch.stack([logl_prop[i][idx[i]] for i in range(B)], dim=0)\n",
    "            accept_any = (accept_matrix.sum(dim=-1)>0)\n",
    "            X[accept_any] = nX[accept_any]\n",
    "            logl[accept_any] = logl_selected[accept_any]\n",
    "            C[accept_any] += 1\n",
    "        return X[C==num_steps], logl[C==num_steps]\n",
    "    \n",
    "    def nested_sampling(self, logl_fn, logl_th_max = np.inf, max_steps = 100000, num_batch_samples = 100, epsilon = 1e-6):\n",
    "        \"\"\"Run nested sampling, staring with X_init live points.\"\"\"\n",
    "        X_init = self.X_live\n",
    "        NLP, D = X_init.shape\n",
    "        X_live = X_init.clone()\n",
    "        if self.L_live is None:\n",
    "            L_live = logl_fn(X_live)\n",
    "        else:\n",
    "            L_live = self.L_live\n",
    "        B = min(num_batch_samples, NLP)  # Number of samples generated simultanously\n",
    "        V = 1.  # initial volume is set to 1.\n",
    "        samples_X = []\n",
    "        samples_logl = []  # logl values\n",
    "        samples_logv = []  # estimate of constrained volume\n",
    "        samples_Z = []\n",
    "        samples_logwt = []\n",
    "        logl_th = -np.inf\n",
    "        Z = 0\n",
    "        Z_rest = np.inf\n",
    "\n",
    "        pbar = tqdm(range(max_steps))\n",
    "        for i in pbar:\n",
    "    #        pbar.set_description(\"logl_min=%.2f, Z=%.2e\"%(logl_th, Z))\n",
    "            pbar.set_description(\"Z_sum=%.2e, Z_rest=%.2e, logl_min=%.2f\"%(Z, Z_rest, logl_th))\n",
    "            idx_batch = np.random.choice(range(NLP), B, replace = True)\n",
    "            X_batch = X_live[idx_batch]\n",
    "            logl_th = L_live.min()\n",
    "            if logl_th > logl_th_max:  # Stop sampling once maxmimum threshold is reached\n",
    "                break\n",
    "            X_new, L_new = self._gen_new_samples(X_batch, logl_fn, logl_th, num_steps = 10)\n",
    "            for i in range(len(X_new)):\n",
    "                if L_new[i] > L_live.min():\n",
    "                    idx_min = np.argmin(L_live)\n",
    "                    Lmin = L_live[idx_min].item()*1.\n",
    "                    samples_X.append(1.*X_live[idx_min].numpy())\n",
    "                    samples_logl.append(Lmin)\n",
    "                    samples_logv.append(np.log(V))\n",
    "                    L_live[idx_min] = L_new[i]*1.0\n",
    "                    X_live[idx_min] = X_new[i]*1.0\n",
    "                    V *= (1-1/NLP)  # Volume estimate per sample\n",
    "                    dZ = V/NLP*np.exp(Lmin)\n",
    "                    samples_Z.append(dZ)\n",
    "                    samples_logwt.append(Lmin + np.log(V/NLP))\n",
    "                    Z = Z + dZ\n",
    "                    Z_rest = V*torch.exp(L_live.max()*1.)\n",
    "                    #print(L_live.max()*1.)\n",
    "                else:\n",
    "                    break\n",
    "            if Z_rest < Z*epsilon:\n",
    "    #            print(Z_rest, Z)\n",
    "                break\n",
    "        samples_logv = torch.tensor(np.array(samples_logv)).float()\n",
    "        samples_logl = torch.tensor(np.array(samples_logl)).float()\n",
    "        samples_X = torch.tensor(np.array(samples_X)).float()\n",
    "        samples_logwt = torch.tensor(np.array(samples_logwt)).float()\n",
    "        self.X_live = X_live\n",
    "        self.L_live = L_live\n",
    "        self.samples_X = samples_X\n",
    "        self.samples_logv = samples_logv\n",
    "        self.samples_logl = samples_logl\n",
    "        self.samples_logwt = samples_logwt\n",
    "        return samples_X, samples_logv, samples_logl, samples_logwt, X_live, L_live\n",
    "\n",
    "    def grow_live_points(self, logl_fn, logl_th_max = -1.0, num_batch_samples = 100, num_samples = 10000):\n",
    "        X_init = self.X_live\n",
    "        NLP, D = X_init.shape\n",
    "        X_live = X_init.clone()\n",
    "        L_live = logl_fn(X_live)\n",
    "        B = min(num_batch_samples, NLP)  # Number of samples generated simultanously\n",
    "        while len(X_live) < num_samples:\n",
    "            NLP = len(X_live)\n",
    "            idx_batch = np.random.choice(range(NLP), B, replace = True)\n",
    "            X_batch = X_live[idx_batch]\n",
    "            X_new, L_new = self._gen_new_samples(X_batch, logl, logl_th_max, num_steps = 10)\n",
    "            X_live = torch.cat([X_live, X_new])\n",
    "            L_live = torch.cat([L_live, L_new])\n",
    "        return X_live, L_live\n",
    "    \n",
    "    def get_threshold(self, p):\n",
    "    #    logwt = samples_logl[1:]+np.log(samples_logv[:-1]-samples_logv[1:])\n",
    "        wt = np.exp(self.samples_logwt)\n",
    "        wt /= wt.sum()\n",
    "        cwt = np.cumsum(wt)\n",
    "        return np.interp(p, cwt, self.samples_logl)\n",
    "\n",
    "    def get_posterior_samples(self, N = None):\n",
    "        if N is None:\n",
    "            N = int(self.get_posterior_neff())\n",
    "        logwt = self.samples_logwt\n",
    "        wt = torch.exp(logwt - logwt.max())\n",
    "        wt = torch.tensor(wt)\n",
    "        wt /= wt.sum()\n",
    "        idx = torch.multinomial(wt, N, replacement = True)\n",
    "        return self.samples_X[idx], self.samples_logl[idx]\n",
    "\n",
    "    def get_posterior_neff(self):\n",
    "        logwt = self.samples_logwt\n",
    "        wt = torch.exp(logwt - logwt.max())\n",
    "        wt = torch.tensor(wt)\n",
    "        wt /= wt.sum()\n",
    "        n_eff = sum(wt)**2/sum(wt**2)\n",
    "        return n_eff.item()\n",
    "    \n",
    "    def get_constrained_prior_samples(self, N = None, min_logl = -np.inf):\n",
    "        if N is None:\n",
    "            N = int(self.get_constrained_prior_neff(min_logl))\n",
    "        logv = self.samples_logv\n",
    "        logl = self.samples_logl\n",
    "        mask = logl >= min_logl\n",
    "        wt = torch.exp(logv[mask]-logv[mask].max())\n",
    "        idx = torch.multinomial(wt, N, replacement = True)\n",
    "        return self.samples_X[mask][idx], self.samples_logl[mask][idx]\n",
    "    \n",
    "    def get_constrained_prior_neff(self, min_logl):\n",
    "        logv = self.samples_logv\n",
    "        logl = self.samples_logl\n",
    "        mask = logl >= min_logl\n",
    "        wt = torch.exp(logv[mask]-logv[mask].max())\n",
    "        n_eff = sum(wt)**2/sum(wt**2)\n",
    "        return n_eff.item()"
   ]
  },
  {
   "cell_type": "markdown",
   "id": "3847952f-8cdb-4f47-94ed-35336bdfff92",
   "metadata": {},
   "source": [
    "### Plotting live points"
   ]
  },
  {
   "cell_type": "code",
   "execution_count": 8,
   "id": "bef04971-0bd8-4644-ada1-6726c4de8303",
   "metadata": {},
   "outputs": [],
   "source": [
    "def logl_model(u):\n",
    "    ret = -(0.5*(u[..., :]**2)/0.1**2).sum(axis=-1)**1.0\n",
    "    return ret"
   ]
  },
  {
   "cell_type": "code",
   "execution_count": 17,
   "id": "2df76d02-2009-439c-a2e6-6d699080848c",
   "metadata": {},
   "outputs": [
    {
     "data": {
      "application/vnd.jupyter.widget-view+json": {
       "model_id": "cec8241dacf048a48b7e28b682230c53",
       "version_major": 2,
       "version_minor": 0
      },
      "text/plain": [
       "  0%|          | 0/100000 [00:00<?, ?it/s]"
      ]
     },
     "metadata": {},
     "output_type": "display_data"
    },
    {
     "name": "stdout",
     "output_type": "stream",
     "text": [
      "Threshold: min_log = -33.41403767095502\n"
     ]
    },
    {
     "data": {
      "application/vnd.jupyter.widget-view+json": {
       "model_id": "372faff0effc4a4ebbdd024c1b14debe",
       "version_major": 2,
       "version_minor": 0
      },
      "text/plain": [
       "  0%|          | 0/100000 [00:00<?, ?it/s]"
      ]
     },
     "metadata": {},
     "output_type": "display_data"
    },
    {
     "name": "stdout",
     "output_type": "stream",
     "text": [
      "Number of actual and effective posterior samples: 26263 11242\n"
     ]
    },
    {
     "name": "stderr",
     "output_type": "stream",
     "text": [
      "/var/folders/xy/7m07k3417w76kc7zq5jpq3500000gn/T/ipykernel_21465/4253490133.py:148: UserWarning: To copy construct from a tensor, it is recommended to use sourceTensor.clone().detach() or sourceTensor.clone().detach().requires_grad_(True), rather than torch.tensor(sourceTensor).\n",
      "  wt = torch.tensor(wt)\n"
     ]
    }
   ],
   "source": [
    "# Initial run to explore likelihood and determine threshold of typical set\n",
    "X_init = torch.randn(100, 20)\n",
    "s4 = SwyftSimpleSliceSampler(X_init)\n",
    "s4.nested_sampling(logl_model, logl_th_max = -.0, num_batch_samples = 50, epsilon = 1e-3);\n",
    "min_logl = s4.get_threshold(1e-6)\n",
    "print(\"Threshold: min_log =\", min_logl)\n",
    "\n",
    "# Second run above threshold to sample posterior\n",
    "X_init2, _ = s4.get_constrained_prior_samples(1000, min_logl);\n",
    "s5 = SwyftSimpleSliceSampler(X_init2)\n",
    "s5.nested_sampling(logl_model, epsilon = 1e-3)\n",
    "print(\"Number of actual and effective posterior samples:\", len(s5.samples_X), int(s5.get_posterior_neff()))"
   ]
  },
  {
   "cell_type": "code",
   "execution_count": 18,
   "id": "a16b9d1a-1feb-4d89-ae38-e1e7d666a3d1",
   "metadata": {},
   "outputs": [
    {
     "name": "stderr",
     "output_type": "stream",
     "text": [
      "/var/folders/xy/7m07k3417w76kc7zq5jpq3500000gn/T/ipykernel_21465/4253490133.py:148: UserWarning: To copy construct from a tensor, it is recommended to use sourceTensor.clone().detach() or sourceTensor.clone().detach().requires_grad_(True), rather than torch.tensor(sourceTensor).\n",
      "  wt = torch.tensor(wt)\n",
      "/var/folders/xy/7m07k3417w76kc7zq5jpq3500000gn/T/ipykernel_21465/4253490133.py:140: UserWarning: To copy construct from a tensor, it is recommended to use sourceTensor.clone().detach() or sourceTensor.clone().detach().requires_grad_(True), rather than torch.tensor(sourceTensor).\n",
      "  wt = torch.tensor(wt)\n"
     ]
    },
    {
     "data": {
      "image/png": "[encoded data removed]",
      "text/plain": [
       "<Figure size 640x480 with 1 Axes>"
      ]
     },
     "metadata": {},
     "output_type": "display_data"
    }
   ],
   "source": [
    "X1, _ = s5.get_posterior_samples()\n",
    "#plt.scatter(X1[:,0], X1[:,1], marker='.')\n",
    "plt.hist(X1[:,0], bins = 50);"
   ]
  },
  {
   "cell_type": "code",
   "execution_count": 19,
   "id": "4d1bd684-7a57-4035-b2ce-2dae01350224",
   "metadata": {},
   "outputs": [
    {
     "data": {
      "image/png": "[encoded data removed]",
      "text/plain": [
       "<Figure size 640x480 with 1 Axes>"
      ]
     },
     "metadata": {},
     "output_type": "display_data"
    }
   ],
   "source": [
    "X2, _ = s5.get_constrained_prior_samples(min_logl = -18)\n",
    "#plt.scatter(X2[:,0], X2[:,1], marker = '.')\n",
    "plt.hist(X2[:,0], bins = 50);"
   ]
  },
  {
   "cell_type": "code",
   "execution_count": 21,
   "id": "f27dee60-47c9-40ee-aaf4-ee44fef5a034",
   "metadata": {},
   "outputs": [
    {
     "data": {
      "image/png": "[encoded data removed]",
      "text/plain": [
       "<Figure size 640x480 with 1 Axes>"
      ]
     },
     "metadata": {},
     "output_type": "display_data"
    }
   ],
   "source": [
    "plt.hist(X2[:,0], bins = 20, density = True);\n",
    "plt.hist(X1[:,0], bins = 20, density = True, histtype = 'step');"
   ]
  },
  {
   "cell_type": "code",
   "execution_count": null,
   "id": "6b75719d-d827-4a52-89a0-9bb0930f6792",
   "metadata": {},
   "outputs": [],
   "source": []
  }
 ],
 "metadata": {
  "kernelspec": {
   "display_name": "Python 3 (ipykernel)",
   "language": "python",
   "name": "python3"
  },
  "language_info": {
   "codemirror_mode": {
    "name": "ipython",
    "version": 3
   },
   "file_extension": ".py",
   "mimetype": "text/x-python",
   "name": "python",
   "nbconvert_exporter": "python",
   "pygments_lexer": "ipython3",
   "version": "3.9.13"
  }
 },
 "nbformat": 4,
 "nbformat_minor": 5
}
