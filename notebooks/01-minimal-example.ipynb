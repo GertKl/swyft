{
 "cells": [
  {
   "cell_type": "code",
   "execution_count": 20,
   "id": "3822aac4-d5eb-4979-b237-70c80d2489e8",
   "metadata": {},
   "outputs": [
    {
     "name": "stdout",
     "output_type": "stream",
     "text": [
      "The autoreload extension is already loaded. To reload it, use:\n",
      "  %reload_ext autoreload\n"
     ]
    }
   ],
   "source": [
    "%load_ext autoreload\n",
    "%autoreload 2"
   ]
  },
  {
   "cell_type": "code",
   "execution_count": 21,
   "id": "0297c907",
   "metadata": {},
   "outputs": [],
   "source": [
    "import pylab as plt\n",
    "import numpy as np\n",
    "import torch\n",
    "import swyft as swyft"
   ]
  },
  {
   "cell_type": "code",
   "execution_count": 22,
   "id": "370c159f-de20-4a20-8c9d-72902c3e05fe",
   "metadata": {},
   "outputs": [],
   "source": [
    "class Simulator(swyft.Simulator):\n",
    "    def __init__(self, bounds = None):\n",
    "        super().__init__()\n",
    "        self.on_after_forward = swyft.to_numpy32\n",
    "        \n",
    "    def forward(self, trace):\n",
    "        z = trace.sample('z', np.random.rand, 3)\n",
    "        x = trace.sample('x', lambda z: z + np.random.randn(3)*0.02, z)"
   ]
  },
  {
   "cell_type": "code",
   "execution_count": 23,
   "id": "3e6dc7e9-ff0a-479d-a4e8-fd8025717327",
   "metadata": {},
   "outputs": [],
   "source": [
    "class Network(swyft.SwyftModule):\n",
    "    def __init__(self):\n",
    "        super().__init__()\n",
    "        self.classifier = swyft.RatioEstimatorMLP1d(3, 3)\n",
    "        \n",
    "    def forward(self, A, B):\n",
    "        x = A['x']\n",
    "        z = B['z']\n",
    "        ratios_z = self.classifier(x, z)\n",
    "        return dict(z = ratios_z)"
   ]
  },
  {
   "cell_type": "code",
   "execution_count": 24,
   "id": "ae869371-5e0c-4433-a183-776ae7d8fb1b",
   "metadata": {},
   "outputs": [
    {
     "name": "stderr",
     "output_type": "stream",
     "text": [
      "100%|██████████| 10000/10000 [00:00<00:00, 58981.99it/s]\n"
     ]
    }
   ],
   "source": [
    "simulator = Simulator()\n",
    "samples = simulator(10000)"
   ]
  },
  {
   "cell_type": "code",
   "execution_count": 25,
   "id": "60085c53-3c65-4851-ab71-ea369e365eda",
   "metadata": {},
   "outputs": [],
   "source": [
    "dl_train = samples[:8000].get_dataloader(batch_size = 128, shuffle = True)\n",
    "dl_valid = samples[8000:9000].get_dataloader(batch_size = 128)\n",
    "dl_test = samples[9000:].get_dataloader(batch_size = 128)"
   ]
  },
  {
   "cell_type": "code",
   "execution_count": 26,
   "id": "5683ce37-a8d0-4ed7-94a6-512ccc7babcb",
   "metadata": {},
   "outputs": [
    {
     "name": "stderr",
     "output_type": "stream",
     "text": [
      "GPU available: True, used: True\n",
      "TPU available: False, using: 0 TPU cores\n",
      "IPU available: False, using: 0 IPUs\n"
     ]
    }
   ],
   "source": [
    "trainer = swyft.SwyftTrainer(accelerator = 'gpu', gpus=1, max_epochs = 100)"
   ]
  },
  {
   "cell_type": "code",
   "execution_count": 27,
   "id": "c5811d37-d10b-49e8-a8ed-1e6d43caefa4",
   "metadata": {},
   "outputs": [],
   "source": [
    "network = Network()"
   ]
  },
  {
   "cell_type": "code",
   "execution_count": 28,
   "id": "41f7765b-45b8-4684-b820-4f75c9719857",
   "metadata": {},
   "outputs": [
    {
     "name": "stderr",
     "output_type": "stream",
     "text": [
      "LOCAL_RANK: 0 - CUDA_VISIBLE_DEVICES: [0]\n",
      "\n",
      "  | Name       | Type                | Params\n",
      "---------------------------------------------------\n",
      "0 | classifier | RatioEstimatorMLP1d | 52.6 K\n",
      "---------------------------------------------------\n",
      "52.6 K    Trainable params\n",
      "0         Non-trainable params\n",
      "52.6 K    Total params\n",
      "0.210     Total estimated model params size (MB)\n"
     ]
    },
    {
     "name": "stdout",
     "output_type": "stream",
     "text": [
      "Epoch 0:  90%|█████████ | 64/71 [00:00<00:00, 96.08it/s, loss=-2.93, v_num=9746371] \n",
      "Validating: 0it [00:00, ?it/s]\u001b[A\n",
      "Epoch 0: 100%|██████████| 71/71 [00:00<00:00, 100.91it/s, loss=-2.93, v_num=9746371, val_loss=-2.84]\n",
      "Epoch 1:  89%|████████▊ | 63/71 [00:00<00:00, 97.76it/s, loss=-3.06, v_num=9746371, val_loss=-2.84] \n",
      "Validating: 0it [00:00, ?it/s]\u001b[A\n",
      "Epoch 1: 100%|██████████| 71/71 [00:00<00:00, 104.99it/s, loss=-3.06, v_num=9746371, val_loss=-2.89]\n",
      "Epoch 2:  89%|████████▊ | 63/71 [00:00<00:00, 88.40it/s, loss=-3.09, v_num=9746371, val_loss=-2.89] \n",
      "Validating: 0it [00:00, ?it/s]\u001b[A\n",
      "Epoch 2: 100%|██████████| 71/71 [00:00<00:00, 95.01it/s, loss=-3.09, v_num=9746371, val_loss=-3.10]\n",
      "Epoch 3:  89%|████████▊ | 63/71 [00:00<00:00, 83.03it/s, loss=-3.08, v_num=9746371, val_loss=-3.10]\n",
      "Validating: 0it [00:00, ?it/s]\u001b[A\n",
      "Epoch 3: 100%|██████████| 71/71 [00:00<00:00, 89.43it/s, loss=-3.08, v_num=9746371, val_loss=-3.07]\n",
      "Epoch 4:  89%|████████▊ | 63/71 [00:00<00:00, 98.70it/s, loss=-3.13, v_num=9746371, val_loss=-3.07]\n",
      "Validating: 0it [00:00, ?it/s]\u001b[A\n",
      "Epoch 4: 100%|██████████| 71/71 [00:00<00:00, 105.78it/s, loss=-3.13, v_num=9746371, val_loss=-3.14]\n",
      "Epoch 5:  89%|████████▊ | 63/71 [00:00<00:00, 97.18it/s, loss=-3.14, v_num=9746371, val_loss=-3.14] \n",
      "Validating: 0it [00:00, ?it/s]\u001b[A\n",
      "Epoch 5: 100%|██████████| 71/71 [00:00<00:00, 103.21it/s, loss=-3.14, v_num=9746371, val_loss=-3.07]\n",
      "Epoch 6:  89%|████████▊ | 63/71 [00:00<00:00, 84.94it/s, loss=-3.14, v_num=9746371, val_loss=-3.07] \n",
      "Validating: 0it [00:00, ?it/s]\u001b[A\n",
      "Epoch 6: 100%|██████████| 71/71 [00:00<00:00, 91.91it/s, loss=-3.14, v_num=9746371, val_loss=-3.04]\n",
      "Epoch 7:  89%|████████▊ | 63/71 [00:00<00:00, 94.30it/s, loss=-3.14, v_num=9746371, val_loss=-3.04]\n",
      "Validating: 0it [00:00, ?it/s]\u001b[A\n",
      "Epoch 7: 100%|██████████| 71/71 [00:00<00:00, 101.14it/s, loss=-3.14, v_num=9746371, val_loss=-3.14]\n",
      "Epoch 8:  89%|████████▊ | 63/71 [00:00<00:00, 87.61it/s, loss=-3.08, v_num=9746371, val_loss=-3.14] \n",
      "Validating: 0it [00:00, ?it/s]\u001b[A\n",
      "Epoch 8: 100%|██████████| 71/71 [00:00<00:00, 94.46it/s, loss=-3.08, v_num=9746371, val_loss=-3.07]\n",
      "Epoch 9:  89%|████████▊ | 63/71 [00:00<00:00, 93.46it/s, loss=-3.12, v_num=9746371, val_loss=-3.07]\n",
      "Validating: 0it [00:00, ?it/s]\u001b[A\n",
      "Epoch 9: 100%|██████████| 71/71 [00:00<00:00, 99.17it/s, loss=-3.12, v_num=9746371, val_loss=-3.12]\n",
      "Epoch 10:  89%|████████▊ | 63/71 [00:00<00:00, 95.28it/s, loss=-3.1, v_num=9746371, val_loss=-3.12] \n",
      "Validating: 0it [00:00, ?it/s]\u001b[A\n",
      "Epoch 10: 100%|██████████| 71/71 [00:00<00:00, 102.36it/s, loss=-3.1, v_num=9746371, val_loss=-3.17]\n",
      "Epoch 11:  89%|████████▊ | 63/71 [00:00<00:00, 92.84it/s, loss=-3.18, v_num=9746371, val_loss=-3.17]\n",
      "Validating: 0it [00:00, ?it/s]\u001b[A\n",
      "Epoch 11: 100%|██████████| 71/71 [00:00<00:00, 98.10it/s, loss=-3.18, v_num=9746371, val_loss=-3.10]\n",
      "Epoch 12:  89%|████████▊ | 63/71 [00:00<00:00, 100.10it/s, loss=-3.11, v_num=9746371, val_loss=-3.10]\n",
      "Validating: 0it [00:00, ?it/s]\u001b[A\n",
      "Epoch 12: 100%|██████████| 71/71 [00:00<00:00, 107.07it/s, loss=-3.11, v_num=9746371, val_loss=-3.15]\n",
      "Epoch 13:  89%|████████▊ | 63/71 [00:00<00:00, 84.56it/s, loss=-3.19, v_num=9746371, val_loss=-3.15] \n",
      "Validating: 0it [00:00, ?it/s]\u001b[A\n",
      "Epoch 13: 100%|██████████| 71/71 [00:00<00:00, 90.08it/s, loss=-3.19, v_num=9746371, val_loss=-3.13]\n",
      "Epoch 14:  89%|████████▊ | 63/71 [00:00<00:00, 91.52it/s, loss=-3.17, v_num=9746371, val_loss=-3.13]\n",
      "Validating: 0it [00:00, ?it/s]\u001b[A\n",
      "Epoch 14: 100%|██████████| 71/71 [00:00<00:00, 96.85it/s, loss=-3.17, v_num=9746371, val_loss=-3.14]\n",
      "Epoch 15:  89%|████████▊ | 63/71 [00:00<00:00, 89.92it/s, loss=-3.15, v_num=9746371, val_loss=-3.14]\n",
      "Validating: 0it [00:00, ?it/s]\u001b[A\n",
      "Epoch 15: 100%|██████████| 71/71 [00:00<00:00, 95.86it/s, loss=-3.15, v_num=9746371, val_loss=-3.14]\n",
      "Epoch 16:  89%|████████▊ | 63/71 [00:00<00:00, 87.63it/s, loss=-3.17, v_num=9746371, val_loss=-3.14]\n",
      "Validating: 0it [00:00, ?it/s]\u001b[A\n",
      "Epoch 16: 100%|██████████| 71/71 [00:00<00:00, 93.10it/s, loss=-3.17, v_num=9746371, val_loss=-3.09]\n",
      "Epoch 17:  89%|████████▊ | 63/71 [00:00<00:00, 85.33it/s, loss=-3.11, v_num=9746371, val_loss=-3.09]\n",
      "Validating: 0it [00:00, ?it/s]\u001b[A\n",
      "Epoch 17: 100%|██████████| 71/71 [00:00<00:00, 90.93it/s, loss=-3.11, v_num=9746371, val_loss=-3.18]\n",
      "Epoch 18:  89%|████████▊ | 63/71 [00:00<00:00, 92.08it/s, loss=-3.2, v_num=9746371, val_loss=-3.18] \n",
      "Validating: 0it [00:00, ?it/s]\u001b[A\n",
      "Epoch 18: 100%|██████████| 71/71 [00:00<00:00, 98.98it/s, loss=-3.2, v_num=9746371, val_loss=-3.18]\n",
      "Epoch 19:  89%|████████▊ | 63/71 [00:00<00:00, 81.41it/s, loss=-3.21, v_num=9746371, val_loss=-3.18]\n",
      "Validating: 0it [00:00, ?it/s]\u001b[A\n",
      "Epoch 19: 100%|██████████| 71/71 [00:00<00:00, 87.29it/s, loss=-3.21, v_num=9746371, val_loss=-3.19]\n",
      "Epoch 20:  89%|████████▊ | 63/71 [00:00<00:00, 89.55it/s, loss=-3.2, v_num=9746371, val_loss=-3.19] \n",
      "Validating: 0it [00:00, ?it/s]\u001b[A\n",
      "Epoch 20: 100%|██████████| 71/71 [00:00<00:00, 94.89it/s, loss=-3.2, v_num=9746371, val_loss=-3.19]\n",
      "Epoch 21:  89%|████████▊ | 63/71 [00:00<00:00, 100.74it/s, loss=-3.14, v_num=9746371, val_loss=-3.19]\n",
      "Validating: 0it [00:00, ?it/s]\u001b[A\n",
      "Epoch 21: 100%|██████████| 71/71 [00:00<00:00, 108.32it/s, loss=-3.14, v_num=9746371, val_loss=-3.18]\n",
      "Epoch 22:  89%|████████▊ | 63/71 [00:00<00:00, 96.80it/s, loss=-3.18, v_num=9746371, val_loss=-3.18] \n",
      "Validating: 0it [00:00, ?it/s]\u001b[A\n",
      "Epoch 22: 100%|██████████| 71/71 [00:00<00:00, 104.06it/s, loss=-3.18, v_num=9746371, val_loss=-3.19]\n",
      "Epoch 23:  89%|████████▊ | 63/71 [00:00<00:00, 86.63it/s, loss=-3.21, v_num=9746371, val_loss=-3.19] \n",
      "Validating: 0it [00:00, ?it/s]\u001b[A\n",
      "Epoch 23: 100%|██████████| 71/71 [00:00<00:00, 92.58it/s, loss=-3.21, v_num=9746371, val_loss=-3.18]\n",
      "Epoch 24:  89%|████████▊ | 63/71 [00:00<00:00, 88.09it/s, loss=-3.17, v_num=9746371, val_loss=-3.18]\n",
      "Validating: 0it [00:00, ?it/s]\u001b[A\n",
      "Epoch 24: 100%|██████████| 71/71 [00:00<00:00, 94.74it/s, loss=-3.17, v_num=9746371, val_loss=-3.18]\n",
      "Epoch 25:  89%|████████▊ | 63/71 [00:00<00:00, 89.53it/s, loss=-3.18, v_num=9746371, val_loss=-3.18]\n",
      "Validating: 0it [00:00, ?it/s]\u001b[A\n",
      "Epoch 25: 100%|██████████| 71/71 [00:00<00:00, 96.27it/s, loss=-3.18, v_num=9746371, val_loss=-3.18]\n",
      "Epoch 26:  89%|████████▊ | 63/71 [00:00<00:00, 86.30it/s, loss=-3.17, v_num=9746371, val_loss=-3.18]\n",
      "Validating: 0it [00:00, ?it/s]\u001b[A\n",
      "Epoch 26: 100%|██████████| 71/71 [00:00<00:00, 93.23it/s, loss=-3.17, v_num=9746371, val_loss=-3.19]\n",
      "Epoch 27:  89%|████████▊ | 63/71 [00:00<00:00, 94.83it/s, loss=-3.19, v_num=9746371, val_loss=-3.19] \n",
      "Validating: 0it [00:00, ?it/s]\u001b[A\n",
      "Epoch 27: 100%|██████████| 71/71 [00:00<00:00, 101.73it/s, loss=-3.19, v_num=9746371, val_loss=-3.19]\n",
      "Epoch 28:  89%|████████▊ | 63/71 [00:00<00:00, 91.31it/s, loss=-3.23, v_num=9746371, val_loss=-3.19] \n",
      "Validating: 0it [00:00, ?it/s]\u001b[A\n",
      "Epoch 28: 100%|██████████| 71/71 [00:00<00:00, 98.19it/s, loss=-3.23, v_num=9746371, val_loss=-3.19]\n",
      "Epoch 29:  89%|████████▊ | 63/71 [00:00<00:00, 87.27it/s, loss=-3.21, v_num=9746371, val_loss=-3.19]\n",
      "Validating: 0it [00:00, ?it/s]\u001b[A\n",
      "Epoch 29: 100%|██████████| 71/71 [00:00<00:00, 93.92it/s, loss=-3.21, v_num=9746371, val_loss=-3.19]\n",
      "Epoch 30:  89%|████████▊ | 63/71 [00:00<00:00, 88.17it/s, loss=-3.18, v_num=9746371, val_loss=-3.19]\n",
      "Validating: 0it [00:00, ?it/s]\u001b[A\n",
      "Epoch 30: 100%|██████████| 71/71 [00:00<00:00, 94.25it/s, loss=-3.18, v_num=9746371, val_loss=-3.19]\n",
      "Epoch 31:  89%|████████▊ | 63/71 [00:00<00:00, 102.80it/s, loss=-3.17, v_num=9746371, val_loss=-3.19]\n",
      "Validating: 0it [00:00, ?it/s]\u001b[A\n",
      "Epoch 31: 100%|██████████| 71/71 [00:00<00:00, 109.93it/s, loss=-3.17, v_num=9746371, val_loss=-3.19]\n",
      "Epoch 32:  89%|████████▊ | 63/71 [00:00<00:00, 96.33it/s, loss=-3.21, v_num=9746371, val_loss=-3.19] \n",
      "Validating: 0it [00:00, ?it/s]\u001b[A\n",
      "Epoch 32: 100%|██████████| 71/71 [00:00<00:00, 103.67it/s, loss=-3.21, v_num=9746371, val_loss=-3.19]\n",
      "Epoch 33:  89%|████████▊ | 63/71 [00:00<00:00, 98.93it/s, loss=-3.21, v_num=9746371, val_loss=-3.19] \n",
      "Validating: 0it [00:00, ?it/s]\u001b[A\n",
      "Epoch 33: 100%|██████████| 71/71 [00:00<00:00, 106.31it/s, loss=-3.21, v_num=9746371, val_loss=-3.19]\n",
      "Epoch 34:  89%|████████▊ | 63/71 [00:00<00:00, 90.45it/s, loss=-3.17, v_num=9746371, val_loss=-3.19] \n",
      "Validating: 0it [00:00, ?it/s]\u001b[A\n",
      "Epoch 34: 100%|██████████| 71/71 [00:00<00:00, 97.38it/s, loss=-3.17, v_num=9746371, val_loss=-3.19]\n",
      "Epoch 35:  89%|████████▊ | 63/71 [00:00<00:00, 95.39it/s, loss=-3.18, v_num=9746371, val_loss=-3.19] \n",
      "Validating: 0it [00:00, ?it/s]\u001b[A\n",
      "Epoch 35: 100%|██████████| 71/71 [00:00<00:00, 102.16it/s, loss=-3.18, v_num=9746371, val_loss=-3.19]\n",
      "Epoch 36:  89%|████████▊ | 63/71 [00:00<00:00, 90.13it/s, loss=-3.22, v_num=9746371, val_loss=-3.19] \n",
      "Validating: 0it [00:00, ?it/s]\u001b[A\n",
      "Epoch 36: 100%|██████████| 71/71 [00:00<00:00, 96.18it/s, loss=-3.22, v_num=9746371, val_loss=-3.19]\n",
      "Epoch 37:  89%|████████▊ | 63/71 [00:00<00:00, 100.09it/s, loss=-3.22, v_num=9746371, val_loss=-3.19]\n",
      "Validating: 0it [00:00, ?it/s]\u001b[A\n",
      "Epoch 37: 100%|██████████| 71/71 [00:00<00:00, 107.24it/s, loss=-3.22, v_num=9746371, val_loss=-3.19]\n",
      "Epoch 38:  89%|████████▊ | 63/71 [00:00<00:00, 96.91it/s, loss=-3.18, v_num=9746371, val_loss=-3.19] \n",
      "Validating: 0it [00:00, ?it/s]\u001b[A\n",
      "Epoch 38: 100%|██████████| 71/71 [00:00<00:00, 104.02it/s, loss=-3.18, v_num=9746371, val_loss=-3.19]\n",
      "Epoch 39:  89%|████████▊ | 63/71 [00:00<00:00, 83.80it/s, loss=-3.15, v_num=9746371, val_loss=-3.19] \n",
      "Validating: 0it [00:00, ?it/s]\u001b[A\n",
      "Epoch 39: 100%|██████████| 71/71 [00:00<00:00, 90.77it/s, loss=-3.15, v_num=9746371, val_loss=-3.18]\n",
      "Epoch 40:  89%|████████▊ | 63/71 [00:00<00:00, 87.23it/s, loss=-3.21, v_num=9746371, val_loss=-3.18]\n",
      "Validating: 0it [00:00, ?it/s]\u001b[A\n",
      "Epoch 40: 100%|██████████| 71/71 [00:00<00:00, 94.43it/s, loss=-3.21, v_num=9746371, val_loss=-3.19]\n",
      "Epoch 41:  89%|████████▊ | 63/71 [00:00<00:00, 85.17it/s, loss=-3.12, v_num=9746371, val_loss=-3.19]\n",
      "Validating: 0it [00:00, ?it/s]\u001b[A\n",
      "Epoch 41: 100%|██████████| 71/71 [00:00<00:00, 91.85it/s, loss=-3.12, v_num=9746371, val_loss=-3.19]\n",
      "Epoch 42:  89%|████████▊ | 63/71 [00:00<00:00, 90.20it/s, loss=-3.18, v_num=9746371, val_loss=-3.19]\n",
      "Validating: 0it [00:00, ?it/s]\u001b[A\n",
      "Epoch 42: 100%|██████████| 71/71 [00:00<00:00, 97.02it/s, loss=-3.18, v_num=9746371, val_loss=-3.19]\n",
      "Epoch 43:  89%|████████▊ | 63/71 [00:00<00:00, 86.98it/s, loss=-3.2, v_num=9746371, val_loss=-3.19] \n",
      "Validating: 0it [00:00, ?it/s]\u001b[A\n",
      "Epoch 43: 100%|██████████| 71/71 [00:00<00:00, 92.98it/s, loss=-3.2, v_num=9746371, val_loss=-3.19]\n",
      "Epoch 44:  89%|████████▊ | 63/71 [00:00<00:00, 100.80it/s, loss=-3.2, v_num=9746371, val_loss=-3.19] \n",
      "Validating: 0it [00:00, ?it/s]\u001b[A\n",
      "Epoch 44: 100%|██████████| 71/71 [00:00<00:00, 107.93it/s, loss=-3.2, v_num=9746371, val_loss=-3.19]\n",
      "Epoch 45:  89%|████████▊ | 63/71 [00:00<00:00, 98.97it/s, loss=-3.2, v_num=9746371, val_loss=-3.19] \n",
      "Validating: 0it [00:00, ?it/s]\u001b[A\n",
      "Epoch 45: 100%|██████████| 71/71 [00:00<00:00, 106.10it/s, loss=-3.2, v_num=9746371, val_loss=-3.19]\n",
      "Epoch 46:  89%|████████▊ | 63/71 [00:00<00:00, 90.52it/s, loss=-3.17, v_num=9746371, val_loss=-3.19]\n",
      "Validating: 0it [00:00, ?it/s]\u001b[A\n",
      "Epoch 46: 100%|██████████| 71/71 [00:00<00:00, 97.37it/s, loss=-3.17, v_num=9746371, val_loss=-3.19]\n",
      "Epoch 47:  89%|████████▊ | 63/71 [00:00<00:00, 92.89it/s, loss=-3.18, v_num=9746371, val_loss=-3.19]\n",
      "Validating: 0it [00:00, ?it/s]\u001b[A\n",
      "Epoch 47: 100%|██████████| 71/71 [00:00<00:00, 99.67it/s, loss=-3.18, v_num=9746371, val_loss=-3.19] \n",
      "Epoch 48:  89%|████████▊ | 63/71 [00:00<00:00, 88.03it/s, loss=-3.18, v_num=9746371, val_loss=-3.19]\n",
      "Validating: 0it [00:00, ?it/s]\u001b[A\n",
      "Epoch 48: 100%|██████████| 71/71 [00:00<00:00, 94.71it/s, loss=-3.18, v_num=9746371, val_loss=-3.19]\n",
      "Epoch 49:  89%|████████▊ | 63/71 [00:00<00:00, 93.72it/s, loss=-3.17, v_num=9746371, val_loss=-3.19]\n",
      "Validating: 0it [00:00, ?it/s]\u001b[A\n",
      "Epoch 49: 100%|██████████| 71/71 [00:00<00:00, 99.64it/s, loss=-3.17, v_num=9746371, val_loss=-3.19]\n",
      "Epoch 50:  89%|████████▊ | 63/71 [00:00<00:00, 83.85it/s, loss=-3.16, v_num=9746371, val_loss=-3.19]\n",
      "Validating: 0it [00:00, ?it/s]\u001b[A\n",
      "Epoch 50: 100%|██████████| 71/71 [00:00<00:00, 90.40it/s, loss=-3.16, v_num=9746371, val_loss=-3.19]\n",
      "Epoch 51:  89%|████████▊ | 63/71 [00:00<00:00, 82.40it/s, loss=-3.19, v_num=9746371, val_loss=-3.19]\n",
      "Validating: 0it [00:00, ?it/s]\u001b[A\n",
      "Epoch 51: 100%|██████████| 71/71 [00:00<00:00, 88.51it/s, loss=-3.19, v_num=9746371, val_loss=-3.19]\n",
      "Epoch 52:  89%|████████▊ | 63/71 [00:00<00:00, 85.95it/s, loss=-3.18, v_num=9746371, val_loss=-3.19]\n",
      "Validating: 0it [00:00, ?it/s]\u001b[A\n",
      "Epoch 52: 100%|██████████| 71/71 [00:00<00:00, 92.87it/s, loss=-3.18, v_num=9746371, val_loss=-3.19]\n",
      "Epoch 53:  89%|████████▊ | 63/71 [00:00<00:00, 86.28it/s, loss=-3.19, v_num=9746371, val_loss=-3.19]\n",
      "Validating: 0it [00:00, ?it/s]\u001b[A\n",
      "Epoch 53: 100%|██████████| 71/71 [00:00<00:00, 91.32it/s, loss=-3.19, v_num=9746371, val_loss=-3.19]\n",
      "Epoch 54:  89%|████████▊ | 63/71 [00:00<00:00, 85.99it/s, loss=-3.23, v_num=9746371, val_loss=-3.19]\n",
      "Validating: 0it [00:00, ?it/s]\u001b[A\n",
      "Epoch 54: 100%|██████████| 71/71 [00:00<00:00, 92.74it/s, loss=-3.23, v_num=9746371, val_loss=-3.19]\n",
      "Epoch 55:  89%|████████▊ | 63/71 [00:00<00:00, 85.30it/s, loss=-3.19, v_num=9746371, val_loss=-3.19]\n",
      "Validating: 0it [00:00, ?it/s]\u001b[A\n",
      "Epoch 55: 100%|██████████| 71/71 [00:00<00:00, 90.92it/s, loss=-3.19, v_num=9746371, val_loss=-3.19]\n",
      "Epoch 56:  89%|████████▊ | 63/71 [00:00<00:00, 84.65it/s, loss=-3.25, v_num=9746371, val_loss=-3.19]\n",
      "Validating: 0it [00:00, ?it/s]\u001b[A\n",
      "Epoch 56: 100%|██████████| 71/71 [00:00<00:00, 90.64it/s, loss=-3.25, v_num=9746371, val_loss=-3.19]\n",
      "Epoch 57:  89%|████████▊ | 63/71 [00:00<00:00, 98.47it/s, loss=-3.2, v_num=9746371, val_loss=-3.19] \n",
      "Validating: 0it [00:00, ?it/s]\u001b[A\n",
      "Epoch 57: 100%|██████████| 71/71 [00:00<00:00, 105.41it/s, loss=-3.2, v_num=9746371, val_loss=-3.19]\n",
      "Epoch 58:  90%|█████████ | 64/71 [00:00<00:00, 88.56it/s, loss=-3.19, v_num=9746371, val_loss=-3.19]\n",
      "Validating: 0it [00:00, ?it/s]\u001b[A\n",
      "Epoch 58: 100%|██████████| 71/71 [00:00<00:00, 94.34it/s, loss=-3.19, v_num=9746371, val_loss=-3.19]\n",
      "Epoch 59:  89%|████████▊ | 63/71 [00:00<00:00, 93.93it/s, loss=-3.24, v_num=9746371, val_loss=-3.19]\n",
      "Validating: 0it [00:00, ?it/s]\u001b[A\n",
      "Epoch 59: 100%|██████████| 71/71 [00:00<00:00, 100.77it/s, loss=-3.24, v_num=9746371, val_loss=-3.19]\n",
      "Epoch 60:  89%|████████▊ | 63/71 [00:00<00:00, 94.69it/s, loss=-3.18, v_num=9746371, val_loss=-3.19] \n",
      "Validating: 0it [00:00, ?it/s]\u001b[A\n",
      "Epoch 60: 100%|██████████| 71/71 [00:00<00:00, 101.67it/s, loss=-3.18, v_num=9746371, val_loss=-3.19]\n",
      "Epoch 61:  89%|████████▊ | 63/71 [00:00<00:00, 81.42it/s, loss=-3.16, v_num=9746371, val_loss=-3.19] \n",
      "Validating: 0it [00:00, ?it/s]\u001b[A\n",
      "Epoch 61: 100%|██████████| 71/71 [00:00<00:00, 87.39it/s, loss=-3.16, v_num=9746371, val_loss=-3.19]\n",
      "Epoch 62:  89%|████████▊ | 63/71 [00:00<00:00, 83.37it/s, loss=-3.21, v_num=9746371, val_loss=-3.19]\n",
      "Validating: 0it [00:00, ?it/s]\u001b[A\n",
      "Epoch 62: 100%|██████████| 71/71 [00:00<00:00, 89.09it/s, loss=-3.21, v_num=9746371, val_loss=-3.19]\n",
      "Epoch 63:  89%|████████▊ | 63/71 [00:00<00:00, 90.78it/s, loss=-3.19, v_num=9746371, val_loss=-3.19]\n",
      "Validating: 0it [00:00, ?it/s]\u001b[A\n",
      "Epoch 63: 100%|██████████| 71/71 [00:00<00:00, 97.59it/s, loss=-3.19, v_num=9746371, val_loss=-3.19]\n",
      "Epoch 64:  89%|████████▊ | 63/71 [00:00<00:00, 90.94it/s, loss=-3.24, v_num=9746371, val_loss=-3.19] \n",
      "Validating: 0it [00:00, ?it/s]\u001b[A\n",
      "Epoch 64: 100%|██████████| 71/71 [00:00<00:00, 97.95it/s, loss=-3.24, v_num=9746371, val_loss=-3.19]\n",
      "Epoch 65:  89%|████████▊ | 63/71 [00:00<00:00, 88.34it/s, loss=-3.16, v_num=9746371, val_loss=-3.19]\n",
      "Validating: 0it [00:00, ?it/s]\u001b[A\n",
      "Epoch 65: 100%|██████████| 71/71 [00:00<00:00, 94.45it/s, loss=-3.16, v_num=9746371, val_loss=-3.18]\n",
      "Epoch 66:  89%|████████▊ | 63/71 [00:00<00:00, 94.33it/s, loss=-3.21, v_num=9746371, val_loss=-3.18] \n",
      "Validating: 0it [00:00, ?it/s]\u001b[A\n",
      "Epoch 66: 100%|██████████| 71/71 [00:00<00:00, 101.25it/s, loss=-3.21, v_num=9746371, val_loss=-3.19]\n",
      "Epoch 67:  89%|████████▊ | 63/71 [00:00<00:00, 88.91it/s, loss=-3.18, v_num=9746371, val_loss=-3.19] \n",
      "Validating: 0it [00:00, ?it/s]\u001b[A\n",
      "Epoch 67: 100%|██████████| 71/71 [00:00<00:00, 95.83it/s, loss=-3.18, v_num=9746371, val_loss=-3.19]\n",
      "Epoch 68:  89%|████████▊ | 63/71 [00:00<00:00, 89.43it/s, loss=-3.15, v_num=9746371, val_loss=-3.19]\n",
      "Validating: 0it [00:00, ?it/s]\u001b[A\n",
      "Epoch 68: 100%|██████████| 71/71 [00:00<00:00, 95.91it/s, loss=-3.15, v_num=9746371, val_loss=-3.18]\n",
      "Epoch 69:  89%|████████▊ | 63/71 [00:00<00:00, 88.65it/s, loss=-3.19, v_num=9746371, val_loss=-3.18]\n",
      "Validating: 0it [00:00, ?it/s]\u001b[A\n",
      "Epoch 69: 100%|██████████| 71/71 [00:00<00:00, 95.45it/s, loss=-3.19, v_num=9746371, val_loss=-3.19]\n",
      "Epoch 70:  89%|████████▊ | 63/71 [00:00<00:00, 97.30it/s, loss=-3.16, v_num=9746371, val_loss=-3.19] \n",
      "Validating: 0it [00:00, ?it/s]\u001b[A\n",
      "Epoch 70: 100%|██████████| 71/71 [00:00<00:00, 104.59it/s, loss=-3.16, v_num=9746371, val_loss=-3.19]\n",
      "Epoch 71:  89%|████████▊ | 63/71 [00:00<00:00, 91.21it/s, loss=-3.22, v_num=9746371, val_loss=-3.19] \n",
      "Validating: 0it [00:00, ?it/s]\u001b[A\n",
      "Epoch 71: 100%|██████████| 71/71 [00:00<00:00, 97.41it/s, loss=-3.22, v_num=9746371, val_loss=-3.19]\n",
      "Epoch 72:  89%|████████▊ | 63/71 [00:00<00:00, 98.62it/s, loss=-3.2, v_num=9746371, val_loss=-3.19] \n",
      "Validating: 0it [00:00, ?it/s]\u001b[A\n",
      "Epoch 72: 100%|██████████| 71/71 [00:00<00:00, 105.67it/s, loss=-3.2, v_num=9746371, val_loss=-3.19]\n",
      "Epoch 73:  89%|████████▊ | 63/71 [00:00<00:00, 88.47it/s, loss=-3.13, v_num=9746371, val_loss=-3.19]\n",
      "Validating: 0it [00:00, ?it/s]\u001b[A\n",
      "Epoch 73: 100%|██████████| 71/71 [00:00<00:00, 95.52it/s, loss=-3.13, v_num=9746371, val_loss=-3.19]\n",
      "Epoch 74:  89%|████████▊ | 63/71 [00:00<00:00, 81.94it/s, loss=-3.2, v_num=9746371, val_loss=-3.19] \n",
      "Validating: 0it [00:00, ?it/s]\u001b[A\n",
      "Epoch 74: 100%|██████████| 71/71 [00:00<00:00, 88.61it/s, loss=-3.2, v_num=9746371, val_loss=-3.19]\n",
      "Epoch 75:  89%|████████▊ | 63/71 [00:00<00:00, 90.43it/s, loss=-3.11, v_num=9746371, val_loss=-3.19]\n",
      "Validating: 0it [00:00, ?it/s]\u001b[A\n",
      "Epoch 75: 100%|██████████| 71/71 [00:00<00:00, 97.41it/s, loss=-3.11, v_num=9746371, val_loss=-3.19]\n",
      "Epoch 76:  89%|████████▊ | 63/71 [00:00<00:00, 95.07it/s, loss=-3.14, v_num=9746371, val_loss=-3.19] \n",
      "Validating: 0it [00:00, ?it/s]\u001b[A\n",
      "Epoch 76: 100%|██████████| 71/71 [00:00<00:00, 102.11it/s, loss=-3.14, v_num=9746371, val_loss=-3.18]\n",
      "Epoch 77:  89%|████████▊ | 63/71 [00:00<00:00, 82.60it/s, loss=-3.17, v_num=9746371, val_loss=-3.18] \n",
      "Validating: 0it [00:00, ?it/s]\u001b[A\n",
      "Epoch 77: 100%|██████████| 71/71 [00:00<00:00, 88.53it/s, loss=-3.17, v_num=9746371, val_loss=-3.19]\n",
      "Epoch 78:  89%|████████▊ | 63/71 [00:00<00:00, 90.89it/s, loss=-3.23, v_num=9746371, val_loss=-3.19]\n",
      "Validating: 0it [00:00, ?it/s]\u001b[A\n",
      "Epoch 78: 100%|██████████| 71/71 [00:00<00:00, 97.76it/s, loss=-3.23, v_num=9746371, val_loss=-3.19]\n",
      "Epoch 79:  89%|████████▊ | 63/71 [00:00<00:00, 91.72it/s, loss=-3.19, v_num=9746371, val_loss=-3.19]\n",
      "Validating: 0it [00:00, ?it/s]\u001b[A\n",
      "Epoch 79: 100%|██████████| 71/71 [00:00<00:00, 98.58it/s, loss=-3.19, v_num=9746371, val_loss=-3.19]\n",
      "Epoch 80:  89%|████████▊ | 63/71 [00:00<00:00, 93.27it/s, loss=-3.17, v_num=9746371, val_loss=-3.19]\n",
      "Validating: 0it [00:00, ?it/s]\u001b[A\n",
      "Epoch 80: 100%|██████████| 71/71 [00:00<00:00, 100.18it/s, loss=-3.17, v_num=9746371, val_loss=-3.19]\n",
      "Epoch 81:  89%|████████▊ | 63/71 [00:00<00:00, 93.03it/s, loss=-3.17, v_num=9746371, val_loss=-3.19] \n",
      "Validating: 0it [00:00, ?it/s]\u001b[A\n",
      "Epoch 81: 100%|██████████| 71/71 [00:00<00:00, 99.19it/s, loss=-3.17, v_num=9746371, val_loss=-3.19]\n",
      "Epoch 82:  89%|████████▊ | 63/71 [00:00<00:00, 83.09it/s, loss=-3.16, v_num=9746371, val_loss=-3.19]\n",
      "Validating: 0it [00:00, ?it/s]\u001b[A\n",
      "Epoch 82: 100%|██████████| 71/71 [00:00<00:00, 89.93it/s, loss=-3.16, v_num=9746371, val_loss=-3.19]\n",
      "Epoch 83:  89%|████████▊ | 63/71 [00:00<00:00, 92.34it/s, loss=-3.18, v_num=9746371, val_loss=-3.19]\n",
      "Validating: 0it [00:00, ?it/s]\u001b[A\n",
      "Epoch 83: 100%|██████████| 71/71 [00:00<00:00, 99.46it/s, loss=-3.18, v_num=9746371, val_loss=-3.19]\n",
      "Epoch 84:  89%|████████▊ | 63/71 [00:00<00:00, 87.61it/s, loss=-3.17, v_num=9746371, val_loss=-3.19]\n",
      "Validating: 0it [00:00, ?it/s]\u001b[A\n",
      "Epoch 84: 100%|██████████| 71/71 [00:00<00:00, 94.35it/s, loss=-3.17, v_num=9746371, val_loss=-3.19]\n",
      "Epoch 85:  89%|████████▊ | 63/71 [00:00<00:00, 88.11it/s, loss=-3.19, v_num=9746371, val_loss=-3.19]\n",
      "Validating: 0it [00:00, ?it/s]\u001b[A\n",
      "Epoch 85: 100%|██████████| 71/71 [00:00<00:00, 95.16it/s, loss=-3.19, v_num=9746371, val_loss=-3.19]\n",
      "Epoch 86:  89%|████████▊ | 63/71 [00:00<00:00, 94.71it/s, loss=-3.17, v_num=9746371, val_loss=-3.19]\n",
      "Validating: 0it [00:00, ?it/s]\u001b[A\n",
      "Epoch 86: 100%|██████████| 71/71 [00:00<00:00, 100.87it/s, loss=-3.17, v_num=9746371, val_loss=-3.19]\n",
      "Epoch 87:  89%|████████▊ | 63/71 [00:00<00:00, 83.34it/s, loss=-3.2, v_num=9746371, val_loss=-3.19]  \n",
      "Validating: 0it [00:00, ?it/s]\u001b[A\n",
      "Epoch 87: 100%|██████████| 71/71 [00:00<00:00, 89.38it/s, loss=-3.2, v_num=9746371, val_loss=-3.19]\n",
      "Epoch 88:  89%|████████▊ | 63/71 [00:00<00:00, 86.37it/s, loss=-3.16, v_num=9746371, val_loss=-3.19]\n",
      "Validating: 0it [00:00, ?it/s]\u001b[A\n",
      "Epoch 88: 100%|██████████| 71/71 [00:00<00:00, 93.11it/s, loss=-3.16, v_num=9746371, val_loss=-3.19]\n",
      "Epoch 89:  89%|████████▊ | 63/71 [00:00<00:00, 91.99it/s, loss=-3.17, v_num=9746371, val_loss=-3.19]\n",
      "Validating: 0it [00:00, ?it/s]\u001b[A\n",
      "Epoch 89: 100%|██████████| 71/71 [00:00<00:00, 98.18it/s, loss=-3.17, v_num=9746371, val_loss=-3.19]\n",
      "Epoch 90:  89%|████████▊ | 63/71 [00:00<00:00, 85.51it/s, loss=-3.18, v_num=9746371, val_loss=-3.19]\n",
      "Validating: 0it [00:00, ?it/s]\u001b[A\n",
      "Epoch 90: 100%|██████████| 71/71 [00:00<00:00, 91.31it/s, loss=-3.18, v_num=9746371, val_loss=-3.19]\n",
      "Epoch 91:  89%|████████▊ | 63/71 [00:00<00:00, 95.12it/s, loss=-3.17, v_num=9746371, val_loss=-3.19]\n",
      "Validating: 0it [00:00, ?it/s]\u001b[A\n",
      "Epoch 91: 100%|██████████| 71/71 [00:00<00:00, 102.08it/s, loss=-3.17, v_num=9746371, val_loss=-3.19]\n",
      "Epoch 92:  89%|████████▊ | 63/71 [00:00<00:00, 82.70it/s, loss=-3.19, v_num=9746371, val_loss=-3.19] \n",
      "Validating: 0it [00:00, ?it/s]\u001b[A\n",
      "Epoch 92: 100%|██████████| 71/71 [00:00<00:00, 88.85it/s, loss=-3.19, v_num=9746371, val_loss=-3.19]\n",
      "Epoch 93:  89%|████████▊ | 63/71 [00:00<00:00, 99.09it/s, loss=-3.19, v_num=9746371, val_loss=-3.19]\n",
      "Validating: 0it [00:00, ?it/s]\u001b[A\n",
      "Epoch 93: 100%|██████████| 71/71 [00:00<00:00, 106.12it/s, loss=-3.19, v_num=9746371, val_loss=-3.19]\n",
      "Epoch 94:  89%|████████▊ | 63/71 [00:00<00:00, 98.95it/s, loss=-3.19, v_num=9746371, val_loss=-3.19] \n",
      "Validating: 0it [00:00, ?it/s]\u001b[A\n",
      "Epoch 94: 100%|██████████| 71/71 [00:00<00:00, 106.10it/s, loss=-3.19, v_num=9746371, val_loss=-3.19]\n",
      "Epoch 95:  89%|████████▊ | 63/71 [00:00<00:00, 91.26it/s, loss=-3.17, v_num=9746371, val_loss=-3.19] \n",
      "Validating: 0it [00:00, ?it/s]\u001b[A\n",
      "Epoch 95: 100%|██████████| 71/71 [00:00<00:00, 98.10it/s, loss=-3.17, v_num=9746371, val_loss=-3.19]\n",
      "Epoch 96:  89%|████████▊ | 63/71 [00:00<00:00, 83.55it/s, loss=-3.19, v_num=9746371, val_loss=-3.19]\n",
      "Validating: 0it [00:00, ?it/s]\u001b[A\n",
      "Epoch 96: 100%|██████████| 71/71 [00:00<00:00, 89.67it/s, loss=-3.19, v_num=9746371, val_loss=-3.19]\n",
      "Epoch 97:  89%|████████▊ | 63/71 [00:00<00:00, 92.00it/s, loss=-3.19, v_num=9746371, val_loss=-3.19]\n",
      "Validating: 0it [00:00, ?it/s]\u001b[A\n",
      "Epoch 97: 100%|██████████| 71/71 [00:00<00:00, 98.22it/s, loss=-3.19, v_num=9746371, val_loss=-3.19]\n",
      "Epoch 98:  89%|████████▊ | 63/71 [00:00<00:00, 97.08it/s, loss=-3.13, v_num=9746371, val_loss=-3.19]\n",
      "Validating: 0it [00:00, ?it/s]\u001b[A\n",
      "Epoch 98: 100%|██████████| 71/71 [00:00<00:00, 104.21it/s, loss=-3.13, v_num=9746371, val_loss=-3.19]\n",
      "Epoch 99:  89%|████████▊ | 63/71 [00:00<00:00, 96.05it/s, loss=-3.2, v_num=9746371, val_loss=-3.19]  \n",
      "Validating: 0it [00:00, ?it/s]\u001b[A\n",
      "Epoch 99: 100%|██████████| 71/71 [00:00<00:00, 101.05it/s, loss=-3.2, v_num=9746371, val_loss=-3.19]\n",
      "Epoch 99: 100%|██████████| 71/71 [00:00<00:00, 98.15it/s, loss=-3.2, v_num=9746371, val_loss=-3.19] \n"
     ]
    }
   ],
   "source": [
    "trainer.fit(network, dl_train, dl_valid)"
   ]
  },
  {
   "cell_type": "code",
   "execution_count": 10,
   "id": "4f676eec-c465-4940-9d7b-6dc584f837f1",
   "metadata": {},
   "outputs": [
    {
     "name": "stderr",
     "output_type": "stream",
     "text": [
      "Restoring states from the checkpoint path at ./lightning_logs/01-minimal-example/version_4/checkpoints/epoch=6-step=440.ckpt\n",
      "LOCAL_RANK: 0 - CUDA_VISIBLE_DEVICES: [0]\n",
      "Loaded model weights from checkpoint at ./lightning_logs/01-minimal-example/version_4/checkpoints/epoch=6-step=440.ckpt\n",
      "/home/weniger/miniconda3b/envs/zero/lib/python3.9/site-packages/pytorch_lightning/trainer/data_loading.py:132: UserWarning: The dataloader, test_dataloader 0, does not have many workers which may be a bottleneck. Consider increasing the value of the `num_workers` argument` (try 24 which is the number of cpus on this machine) in the `DataLoader` init to improve performance.\n",
      "  rank_zero_warn(\n"
     ]
    },
    {
     "name": "stdout",
     "output_type": "stream",
     "text": [
      "Testing: 0it [00:00, ?it/s]--------------------------------------------------------------------------------\n",
      "DATALOADER:0 TEST RESULTS\n",
      "{'hp/JS-div': -3.1546218395233154, 'hp/KL-div': -7.827962398529053}\n",
      "--------------------------------------------------------------------------------\n",
      "Testing: 100%|██████████| 8/8 [00:00<00:00, 122.41it/s]\n"
     ]
    },
    {
     "data": {
      "text/plain": [
       "[{'hp/JS-div': -3.1546218395233154, 'hp/KL-div': -7.827962398529053}]"
      ]
     },
     "execution_count": 10,
     "metadata": {},
     "output_type": "execute_result"
    }
   ],
   "source": [
    "trainer.test(network, dl_test, ckpt_path = 'best')"
   ]
  },
  {
   "cell_type": "code",
   "execution_count": 11,
   "id": "633154d4-bcd3-4852-aa18-323693e4b588",
   "metadata": {},
   "outputs": [
    {
     "name": "stderr",
     "output_type": "stream",
     "text": [
      "100%|██████████| 10000/10000 [00:00<00:00, 65259.77it/s]\n"
     ]
    }
   ],
   "source": [
    "x0 = [0.3, 0.5, 0.7]\n",
    "prior_samples = simulator(10000, targets = ['z'])"
   ]
  },
  {
   "cell_type": "code",
   "execution_count": 12,
   "id": "6e1cbc13-ab64-43a8-acf0-4ab9f9c650f6",
   "metadata": {},
   "outputs": [
    {
     "name": "stderr",
     "output_type": "stream",
     "text": [
      "LOCAL_RANK: 0 - CUDA_VISIBLE_DEVICES: [0]\n"
     ]
    },
    {
     "name": "stdout",
     "output_type": "stream",
     "text": [
      "Predicting: 63it [00:00, ?it/s]"
     ]
    },
    {
     "name": "stderr",
     "output_type": "stream",
     "text": [
      "/home/weniger/miniconda3b/envs/zero/lib/python3.9/site-packages/pytorch_lightning/loops/epoch/prediction_epoch_loop.py:174: UserWarning: Lightning couldn't infer the indices fetched for your dataloader.\n",
      "  warning_cache.warn(\"Lightning couldn't infer the indices fetched for your dataloader.\")\n"
     ]
    },
    {
     "name": "stdout",
     "output_type": "stream",
     "text": [
      "Predicting: 63it [00:00, ?it/s]\n"
     ]
    }
   ],
   "source": [
    "predictions = trainer.infer(network, {'x': torch.tensor(x0)}, prior_samples.get_dataloader(batch_size = 1024))"
   ]
  },
  {
   "cell_type": "code",
   "execution_count": 13,
   "id": "6336f6ed-72c2-4c60-a7f1-af53efa243e2",
   "metadata": {},
   "outputs": [],
   "source": [
    "post_samples = predictions.sample(100000)"
   ]
  },
  {
   "cell_type": "code",
   "execution_count": 14,
   "id": "dbab5ad8-52d4-4932-a93c-989b59663e63",
   "metadata": {},
   "outputs": [
    {
     "name": "stdout",
     "output_type": "stream",
     "text": [
      "0.020028636\n",
      "0.019460473\n",
      "0.019212648\n"
     ]
    },
    {
     "data": {
      "image/png": "[encoded data removed]",
      "text/plain": [
       "<Figure size 432x288 with 1 Axes>"
      ]
     },
     "metadata": {
      "needs_background": "light"
     },
     "output_type": "display_data"
    }
   ],
   "source": [
    "import pylab as plt\n",
    "for i in range(3):\n",
    "    s = post_samples['z'][:,i].numpy()\n",
    "    print(s.std())\n",
    "    plt.hist(s, bins = 50, density=True);\n",
    "    plt.axvline(x0[i], color='r')"
   ]
  },
  {
   "cell_type": "code",
   "execution_count": null,
   "id": "b52ca066-8958-4bbb-ae27-e046740f4763",
   "metadata": {},
   "outputs": [],
   "source": []
  }
 ],
 "metadata": {
  "kernelspec": {
   "display_name": "Python 3",
   "language": "python",
   "name": "python3"
  },
  "language_info": {
   "codemirror_mode": {
    "name": "ipython",
    "version": 3
   },
   "file_extension": ".py",
   "mimetype": "text/x-python",
   "name": "python",
   "nbconvert_exporter": "python",
   "pygments_lexer": "ipython3",
   "version": "3.9.7"
  }
 },
 "nbformat": 4,
 "nbformat_minor": 5
}
