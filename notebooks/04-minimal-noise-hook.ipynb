{
 "cells": [
  {
   "cell_type": "code",
   "execution_count": 1,
   "id": "3822aac4-d5eb-4979-b237-70c80d2489e8",
   "metadata": {},
   "outputs": [],
   "source": [
    "%load_ext autoreload\n",
    "%autoreload 2"
   ]
  },
  {
   "cell_type": "code",
   "execution_count": 2,
   "id": "0297c907",
   "metadata": {},
   "outputs": [],
   "source": [
    "import pylab as plt\n",
    "import numpy as np\n",
    "import torch\n",
    "import swyft.lightning as sl"
   ]
  },
  {
   "cell_type": "code",
   "execution_count": 3,
   "id": "370c159f-de20-4a20-8c9d-72902c3e05fe",
   "metadata": {},
   "outputs": [],
   "source": [
    "class Simulator(sl.Simulator):\n",
    "    def __init__(self, bounds = None):\n",
    "        super().__init__()\n",
    "        self.on_after_forward = sl.to_numpy32\n",
    "        \n",
    "    def forward(self, trace):\n",
    "        z = trace.sample('z', np.random.rand, 3)\n",
    "        x = trace.sample('x', lambda z: z + np.random.randn(3)*0.02, z)"
   ]
  },
  {
   "cell_type": "code",
   "execution_count": 4,
   "id": "3e6dc7e9-ff0a-479d-a4e8-fd8025717327",
   "metadata": {},
   "outputs": [],
   "source": [
    "class Network(sl.SwyftModule):\n",
    "    def __init__(self):\n",
    "        super().__init__(lr=1e-3)\n",
    "        self.classifier = sl.RatioEstimatorMLP1d(3, 3, hidden_features = 256, dropout = 0.1)\n",
    "        \n",
    "    def forward(self, A, B):\n",
    "        x = A['x']\n",
    "        z = B['z']\n",
    "        ratios_z = self.classifier(x, z)\n",
    "        return dict(z = ratios_z)"
   ]
  },
  {
   "cell_type": "code",
   "execution_count": 5,
   "id": "ddd4f7b1-cda0-4885-8c5d-cc969b5c2aea",
   "metadata": {},
   "outputs": [],
   "source": [
    "simulator = Simulator()"
   ]
  },
  {
   "cell_type": "code",
   "execution_count": 6,
   "id": "282e38cf-85aa-487e-8b1a-a3e338111957",
   "metadata": {},
   "outputs": [
    {
     "name": "stderr",
     "output_type": "stream",
     "text": [
      "100%|██████████| 100/100 [00:00<00:00, 12946.18it/s]\n"
     ]
    }
   ],
   "source": [
    "samples = simulator.sample(100)\n",
    "noise_hook = simulator.get_resampler(['x'])"
   ]
  },
  {
   "cell_type": "code",
   "execution_count": 7,
   "id": "f77353b8-042b-4408-bab3-84f7e59def92",
   "metadata": {},
   "outputs": [
    {
     "name": "stdout",
     "output_type": "stream",
     "text": [
      "Deprecation warning: Use dataloaders directly rathe than this data module for transparency.\n"
     ]
    }
   ],
   "source": [
    "datamodule = sl.SwyftDataModule(store = samples, batch_size = 8, on_after_load_sample = noise_hook)"
   ]
  },
  {
   "cell_type": "code",
   "execution_count": 8,
   "id": "5683ce37-a8d0-4ed7-94a6-512ccc7babcb",
   "metadata": {},
   "outputs": [
    {
     "name": "stderr",
     "output_type": "stream",
     "text": [
      "GPU available: True, used: True\n",
      "TPU available: False, using: 0 TPU cores\n",
      "IPU available: False, using: 0 IPUs\n"
     ]
    }
   ],
   "source": [
    "trainer = sl.SwyftTrainer(accelerator = 'gpu', gpus=1, max_epochs = 100, **sl.tensorboard_config(name = '04-minimal-example', version=None))"
   ]
  },
  {
   "cell_type": "code",
   "execution_count": 9,
   "id": "c5811d37-d10b-49e8-a8ed-1e6d43caefa4",
   "metadata": {},
   "outputs": [],
   "source": [
    "network = Network()"
   ]
  },
  {
   "cell_type": "code",
   "execution_count": 10,
   "id": "41f7765b-45b8-4684-b820-4f75c9719857",
   "metadata": {},
   "outputs": [
    {
     "name": "stderr",
     "output_type": "stream",
     "text": [
      "LOCAL_RANK: 0 - CUDA_VISIBLE_DEVICES: [0]\n",
      "\n",
      "  | Name       | Type                | Params\n",
      "---------------------------------------------------\n",
      "0 | classifier | RatioEstimatorMLP1d | 800 K \n",
      "---------------------------------------------------\n",
      "800 K     Trainable params\n",
      "0         Non-trainable params\n",
      "800 K     Total params\n",
      "3.201     Total estimated model params size (MB)\n"
     ]
    },
    {
     "name": "stdout",
     "output_type": "stream",
     "text": [
      "Validation sanity check:   0%|          | 0/2 [00:00<?, ?it/s]"
     ]
    },
    {
     "name": "stderr",
     "output_type": "stream",
     "text": [
      "/home/weniger/miniconda3b/envs/zero/lib/python3.9/site-packages/pytorch_lightning/trainer/data_loading.py:132: UserWarning: The dataloader, val_dataloader 0, does not have many workers which may be a bottleneck. Consider increasing the value of the `num_workers` argument` (try 24 which is the number of cpus on this machine) in the `DataLoader` init to improve performance.\n",
      "  rank_zero_warn(\n"
     ]
    },
    {
     "name": "stdout",
     "output_type": "stream",
     "text": [
      "                                                                      "
     ]
    },
    {
     "name": "stderr",
     "output_type": "stream",
     "text": [
      "/home/weniger/miniconda3b/envs/zero/lib/python3.9/site-packages/pytorch_lightning/trainer/data_loading.py:132: UserWarning: The dataloader, train_dataloader, does not have many workers which may be a bottleneck. Consider increasing the value of the `num_workers` argument` (try 24 which is the number of cpus on this machine) in the `DataLoader` init to improve performance.\n",
      "  rank_zero_warn(\n",
      "/home/weniger/miniconda3b/envs/zero/lib/python3.9/site-packages/pytorch_lightning/trainer/data_loading.py:432: UserWarning: The number of training samples (10) is smaller than the logging interval Trainer(log_every_n_steps=50). Set a lower value for log_every_n_steps if you want to see logs for the training epoch.\n",
      "  rank_zero_warn(\n"
     ]
    },
    {
     "name": "stdout",
     "output_type": "stream",
     "text": [
      "Epoch 0:  77%|███████▋  | 10/13 [00:00<00:00, 80.45it/s, loss=3.26, v_num=2]\n",
      "Validating: 0it [00:00, ?it/s]\u001b[A\n",
      "Epoch 0: 100%|██████████| 13/13 [00:00<00:00, 86.72it/s, loss=3.26, v_num=2, val_loss=4.150]\n",
      "Epoch 1:  77%|███████▋  | 10/13 [00:00<00:00, 90.69it/s, loss=2.8, v_num=2, val_loss=4.150] \n",
      "Validating: 0it [00:00, ?it/s]\u001b[A\n",
      "Epoch 1: 100%|██████████| 13/13 [00:00<00:00, 100.13it/s, loss=2.8, v_num=2, val_loss=4.240]\n",
      "Epoch 2:  85%|████████▍ | 11/13 [00:00<00:00, 106.85it/s, loss=2.13, v_num=2, val_loss=4.240]\n",
      "Validating: 0it [00:00, ?it/s]\u001b[A\n",
      "Epoch 2: 100%|██████████| 13/13 [00:00<00:00, 102.03it/s, loss=2.13, v_num=2, val_loss=4.150]\n",
      "Epoch 3:  85%|████████▍ | 11/13 [00:00<00:00, 97.64it/s, loss=1.82, v_num=2, val_loss=4.150] \n",
      "Validating: 0it [00:00, ?it/s]\u001b[A\n",
      "Epoch 3: 100%|██████████| 13/13 [00:00<00:00, 101.05it/s, loss=1.82, v_num=2, val_loss=3.450]\n",
      "Epoch 4:  85%|████████▍ | 11/13 [00:00<00:00, 98.68it/s, loss=1.57, v_num=2, val_loss=3.450] \n",
      "Validating: 0it [00:00, ?it/s]\u001b[A\n",
      "Epoch 4: 100%|██████████| 13/13 [00:00<00:00, 102.84it/s, loss=1.57, v_num=2, val_loss=3.080]\n",
      "Epoch 5:  85%|████████▍ | 11/13 [00:00<00:00, 106.05it/s, loss=1.47, v_num=2, val_loss=3.080]\n",
      "Validating: 0it [00:00, ?it/s]\u001b[A\n",
      "Epoch 5: 100%|██████████| 13/13 [00:00<00:00, 109.78it/s, loss=1.47, v_num=2, val_loss=2.640]\n",
      "Epoch 6:  85%|████████▍ | 11/13 [00:00<00:00, 108.34it/s, loss=1.45, v_num=2, val_loss=2.640]\n",
      "Validating: 0it [00:00, ?it/s]\u001b[A\n",
      "Epoch 6: 100%|██████████| 13/13 [00:00<00:00, 110.47it/s, loss=1.45, v_num=2, val_loss=3.740]\n",
      "Epoch 7:  85%|████████▍ | 11/13 [00:00<00:00, 99.79it/s, loss=1.46, v_num=2, val_loss=3.740] \n",
      "Validating: 0it [00:00, ?it/s]\u001b[A\n",
      "Epoch 7: 100%|██████████| 13/13 [00:00<00:00, 103.98it/s, loss=1.46, v_num=2, val_loss=1.900]\n",
      "Epoch 8:  85%|████████▍ | 11/13 [00:00<00:00, 105.49it/s, loss=1.4, v_num=2, val_loss=1.900] \n",
      "Validating: 0it [00:00, ?it/s]\u001b[A\n",
      "Epoch 8: 100%|██████████| 13/13 [00:00<00:00, 107.71it/s, loss=1.4, v_num=2, val_loss=1.900]\n",
      "Epoch 9:  77%|███████▋  | 10/13 [00:00<00:00, 103.87it/s, loss=1.25, v_num=2, val_loss=1.900]\n",
      "Validating: 0it [00:00, ?it/s]\u001b[A\n",
      "Epoch 9: 100%|██████████| 13/13 [00:00<00:00, 113.19it/s, loss=1.25, v_num=2, val_loss=1.850]\n",
      "Epoch 10:  77%|███████▋  | 10/13 [00:00<00:00, 92.80it/s, loss=1.22, v_num=2, val_loss=1.850]\n",
      "Validating: 0it [00:00, ?it/s]\u001b[A\n",
      "Epoch 10: 100%|██████████| 13/13 [00:00<00:00, 102.39it/s, loss=1.22, v_num=2, val_loss=2.210]\n",
      "Epoch 11:  77%|███████▋  | 10/13 [00:00<00:00, 90.68it/s, loss=1.18, v_num=2, val_loss=2.210] \n",
      "Validating: 0it [00:00, ?it/s]\u001b[A\n",
      "Epoch 11: 100%|██████████| 13/13 [00:00<00:00, 100.71it/s, loss=1.18, v_num=2, val_loss=2.050]\n",
      "Epoch 12:  77%|███████▋  | 10/13 [00:00<00:00, 109.97it/s, loss=1.18, v_num=2, val_loss=2.050]\n",
      "Validating: 0it [00:00, ?it/s]\u001b[A\n",
      "Epoch 12: 100%|██████████| 13/13 [00:00<00:00, 118.17it/s, loss=1.18, v_num=2, val_loss=2.700]\n",
      "Epoch 12: 100%|██████████| 13/13 [00:00<00:00, 111.57it/s, loss=1.18, v_num=2, val_loss=2.700]\n"
     ]
    }
   ],
   "source": [
    "trainer.fit(network, datamodule)"
   ]
  },
  {
   "cell_type": "code",
   "execution_count": 11,
   "id": "4f676eec-c465-4940-9d7b-6dc584f837f1",
   "metadata": {},
   "outputs": [
    {
     "name": "stderr",
     "output_type": "stream",
     "text": [
      "Restoring states from the checkpoint path at ./lightning_logs/04-minimal-example/version_2/checkpoints/epoch=9-step=99.ckpt\n",
      "LOCAL_RANK: 0 - CUDA_VISIBLE_DEVICES: [0]\n",
      "Loaded model weights from checkpoint at ./lightning_logs/04-minimal-example/version_2/checkpoints/epoch=9-step=99.ckpt\n",
      "/home/weniger/miniconda3b/envs/zero/lib/python3.9/site-packages/pytorch_lightning/trainer/data_loading.py:132: UserWarning: The dataloader, test_dataloader 0, does not have many workers which may be a bottleneck. Consider increasing the value of the `num_workers` argument` (try 24 which is the number of cpus on this machine) in the `DataLoader` init to improve performance.\n",
      "  rank_zero_warn(\n"
     ]
    },
    {
     "name": "stdout",
     "output_type": "stream",
     "text": [
      "Testing: 0it [00:00, ?it/s]--------------------------------------------------------------------------------\n",
      "DATALOADER:0 TEST RESULTS\n",
      "{'hp/JS-div': 2.5056772232055664, 'hp/KL-div': -8.356781959533691}\n",
      "--------------------------------------------------------------------------------\n",
      "Testing: 100%|██████████| 13/13 [00:00<00:00, 222.28it/s]\n"
     ]
    },
    {
     "data": {
      "text/plain": [
       "[{'hp/JS-div': 2.5056772232055664, 'hp/KL-div': -8.356781959533691}]"
      ]
     },
     "execution_count": 11,
     "metadata": {},
     "output_type": "execute_result"
    }
   ],
   "source": [
    "trainer.test(network, datamodule, ckpt_path = 'best')"
   ]
  },
  {
   "cell_type": "code",
   "execution_count": 12,
   "id": "3253f97d-a978-45c5-8376-32ae92bbc442",
   "metadata": {},
   "outputs": [],
   "source": [
    "x0 = [0.3, 0.5, 0.7]\n",
    "prior_samples = simulator.sample(100000, targets = ['z'])"
   ]
  },
  {
   "cell_type": "code",
   "execution_count": 13,
   "id": "018a0167-90be-40ac-a0c9-d1d201e393ee",
   "metadata": {},
   "outputs": [
    {
     "name": "stderr",
     "output_type": "stream",
     "text": [
      "LOCAL_RANK: 0 - CUDA_VISIBLE_DEVICES: [0]\n"
     ]
    },
    {
     "name": "stdout",
     "output_type": "stream",
     "text": [
      "Predicting:  17%|█▋        | 17/98 [00:00<00:01, 69.09it/s]"
     ]
    },
    {
     "name": "stderr",
     "output_type": "stream",
     "text": [
      "/home/weniger/miniconda3b/envs/zero/lib/python3.9/site-packages/pytorch_lightning/loops/epoch/prediction_epoch_loop.py:174: UserWarning: Lightning couldn't infer the indices fetched for your dataloader.\n",
      "  warning_cache.warn(\"Lightning couldn't infer the indices fetched for your dataloader.\")\n"
     ]
    },
    {
     "name": "stdout",
     "output_type": "stream",
     "text": [
      "Predicting: 100%|██████████| 98/98 [00:01<00:00, 57.88it/s]\n"
     ]
    }
   ],
   "source": [
    "predictions = trainer.infer(network, {'x': torch.tensor(x0)}, prior_samples.get_dataloader(batch_size = 1024))"
   ]
  },
  {
   "cell_type": "code",
   "execution_count": 14,
   "id": "6336f6ed-72c2-4c60-a7f1-af53efa243e2",
   "metadata": {},
   "outputs": [],
   "source": [
    "post_samples = predictions.sample(100000)"
   ]
  },
  {
   "cell_type": "code",
   "execution_count": 15,
   "id": "dbab5ad8-52d4-4932-a93c-989b59663e63",
   "metadata": {},
   "outputs": [
    {
     "name": "stdout",
     "output_type": "stream",
     "text": [
      "0.027750414\n",
      "0.047041167\n",
      "0.08740071\n"
     ]
    },
    {
     "data": {
      "image/png": "[encoded data removed]",
      "text/plain": [
       "<Figure size 432x288 with 1 Axes>"
      ]
     },
     "metadata": {
      "needs_background": "light"
     },
     "output_type": "display_data"
    }
   ],
   "source": [
    "import pylab as plt\n",
    "for i in range(3):\n",
    "    s = post_samples['z'][:,i].numpy()\n",
    "    print(s.std())\n",
    "    plt.hist(s, bins = 30, density=True);\n",
    "    plt.axvline(x0[i], color='r')"
   ]
  },
  {
   "cell_type": "code",
   "execution_count": null,
   "id": "8f9e0227-c0d4-465f-abc8-216c3f387745",
   "metadata": {},
   "outputs": [],
   "source": []
  }
 ],
 "metadata": {
  "kernelspec": {
   "display_name": "Python 3",
   "language": "python",
   "name": "python3"
  },
  "language_info": {
   "codemirror_mode": {
    "name": "ipython",
    "version": 3
   },
   "file_extension": ".py",
   "mimetype": "text/x-python",
   "name": "python",
   "nbconvert_exporter": "python",
   "pygments_lexer": "ipython3",
   "version": "3.9.7"
  }
 },
 "nbformat": 4,
 "nbformat_minor": 5
}
