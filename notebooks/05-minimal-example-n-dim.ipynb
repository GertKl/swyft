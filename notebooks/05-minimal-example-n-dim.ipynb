{
 "cells": [
  {
   "cell_type": "code",
   "execution_count": 1,
   "id": "3822aac4-d5eb-4979-b237-70c80d2489e8",
   "metadata": {},
   "outputs": [],
   "source": [
    "%load_ext autoreload\n",
    "%autoreload 2"
   ]
  },
  {
   "cell_type": "code",
   "execution_count": 2,
   "id": "0297c907",
   "metadata": {},
   "outputs": [],
   "source": [
    "import pylab as plt\n",
    "import numpy as np\n",
    "import torch\n",
    "import swyft.lightning as sl"
   ]
  },
  {
   "cell_type": "code",
   "execution_count": 3,
   "id": "370c159f-de20-4a20-8c9d-72902c3e05fe",
   "metadata": {},
   "outputs": [],
   "source": [
    "class Simulator(sl.Simulator):\n",
    "    def __init__(self, bounds = None):\n",
    "        super().__init__()\n",
    "        self.on_after_forward = sl.to_numpy32\n",
    "        \n",
    "    def forward(self, trace):\n",
    "        z = trace.sample('z', np.random.rand, 3)\n",
    "        mu = trace.sample(\"mu\", lambda z: np.array([z[0], z[0]+z[1], z[0]+z[1]+z[2]]), z)\n",
    "        x = trace.sample('x', lambda mu: mu + np.random.randn(3)*0.02, mu)"
   ]
  },
  {
   "cell_type": "code",
   "execution_count": 4,
   "id": "3e6dc7e9-ff0a-479d-a4e8-fd8025717327",
   "metadata": {},
   "outputs": [],
   "source": [
    "class Network(sl.SwyftModule):\n",
    "    def __init__(self):\n",
    "        super().__init__(lr=1e-3)\n",
    "        marginals = ((0, 1, 2),)\n",
    "        self.classifier = sl.RatioEstimatorMLPnd(3, marginals, hidden_features = 256, dropout = 0.1)\n",
    "\n",
    "    def forward(self, A, B):\n",
    "        x = A['x']\n",
    "        z = B['z']\n",
    "        ratios_z = self.classifier(x, z)\n",
    "        return dict(z = ratios_z)"
   ]
  },
  {
   "cell_type": "code",
   "execution_count": 5,
   "id": "ae869371-5e0c-4433-a183-776ae7d8fb1b",
   "metadata": {},
   "outputs": [
    {
     "name": "stderr",
     "output_type": "stream",
     "text": [
      "100%|██████████| 10000/10000 [00:00<00:00, 26483.59it/s]\n"
     ]
    }
   ],
   "source": [
    "simulator = Simulator()\n",
    "samples = simulator.sample(10000)"
   ]
  },
  {
   "cell_type": "code",
   "execution_count": 6,
   "id": "f77353b8-042b-4408-bab3-84f7e59def92",
   "metadata": {},
   "outputs": [
    {
     "name": "stdout",
     "output_type": "stream",
     "text": [
      "Deprecation warning: Use dataloaders directly rathe than this data module for transparency.\n"
     ]
    }
   ],
   "source": [
    "datamodule = sl.SwyftDataModule(store = samples, batch_size = 128)"
   ]
  },
  {
   "cell_type": "code",
   "execution_count": 7,
   "id": "5683ce37-a8d0-4ed7-94a6-512ccc7babcb",
   "metadata": {},
   "outputs": [
    {
     "name": "stderr",
     "output_type": "stream",
     "text": [
      "GPU available: True, used: True\n",
      "TPU available: False, using: 0 TPU cores\n",
      "IPU available: False, using: 0 IPUs\n"
     ]
    }
   ],
   "source": [
    "trainer = sl.SwyftTrainer(accelerator = 'gpu', gpus=1, max_epochs = 100, **sl.tensorboard_config(name = '05-minimal-example-m-dim', version=None))"
   ]
  },
  {
   "cell_type": "code",
   "execution_count": 8,
   "id": "c5811d37-d10b-49e8-a8ed-1e6d43caefa4",
   "metadata": {},
   "outputs": [],
   "source": [
    "network = Network()"
   ]
  },
  {
   "cell_type": "code",
   "execution_count": 9,
   "id": "41f7765b-45b8-4684-b820-4f75c9719857",
   "metadata": {},
   "outputs": [
    {
     "name": "stderr",
     "output_type": "stream",
     "text": [
      "LOCAL_RANK: 0 - CUDA_VISIBLE_DEVICES: [0]\n",
      "\n",
      "  | Name       | Type                | Params\n",
      "---------------------------------------------------\n",
      "0 | classifier | RatioEstimatorMLPnd | 267 K \n",
      "---------------------------------------------------\n",
      "267 K     Trainable params\n",
      "0         Non-trainable params\n",
      "267 K     Total params\n",
      "1.069     Total estimated model params size (MB)\n"
     ]
    },
    {
     "name": "stdout",
     "output_type": "stream",
     "text": [
      "Validation sanity check:   0%|          | 0/2 [00:00<?, ?it/s]"
     ]
    },
    {
     "name": "stderr",
     "output_type": "stream",
     "text": [
      "/home/weniger/miniconda3b/envs/zero/lib/python3.9/site-packages/pytorch_lightning/trainer/data_loading.py:132: UserWarning: The dataloader, val_dataloader 0, does not have many workers which may be a bottleneck. Consider increasing the value of the `num_workers` argument` (try 24 which is the number of cpus on this machine) in the `DataLoader` init to improve performance.\n",
      "  rank_zero_warn(\n"
     ]
    },
    {
     "name": "stdout",
     "output_type": "stream",
     "text": [
      "                                                                      "
     ]
    },
    {
     "name": "stderr",
     "output_type": "stream",
     "text": [
      "/home/weniger/miniconda3b/envs/zero/lib/python3.9/site-packages/pytorch_lightning/trainer/data_loading.py:132: UserWarning: The dataloader, train_dataloader, does not have many workers which may be a bottleneck. Consider increasing the value of the `num_workers` argument` (try 24 which is the number of cpus on this machine) in the `DataLoader` init to improve performance.\n",
      "  rank_zero_warn(\n"
     ]
    },
    {
     "name": "stdout",
     "output_type": "stream",
     "text": [
      "Epoch 0:  80%|███████▉  | 63/79 [00:00<00:00, 87.52it/s, loss=0.0874, v_num=3]\n",
      "Validating: 0it [00:00, ?it/s]\u001b[A\n",
      "Epoch 0: 100%|██████████| 79/79 [00:00<00:00, 100.40it/s, loss=0.0874, v_num=3, val_loss=0.265]\n",
      "Epoch 1:  80%|███████▉  | 63/79 [00:00<00:00, 88.25it/s, loss=0.0593, v_num=3, val_loss=0.265] \n",
      "Validating: 0it [00:00, ?it/s]\u001b[A\n",
      "Epoch 1: 100%|██████████| 79/79 [00:00<00:00, 102.19it/s, loss=0.0593, v_num=3, val_loss=0.498]\n",
      "Epoch 2:  80%|███████▉  | 63/79 [00:00<00:00, 92.62it/s, loss=0.0426, v_num=3, val_loss=0.498] \n",
      "Validating: 0it [00:00, ?it/s]\u001b[A\n",
      "Epoch 2: 100%|██████████| 79/79 [00:00<00:00, 107.51it/s, loss=0.0426, v_num=3, val_loss=0.0796]\n",
      "Epoch 3:  80%|███████▉  | 63/79 [00:00<00:00, 95.07it/s, loss=0.0493, v_num=3, val_loss=0.0796] \n",
      "Validating: 0it [00:00, ?it/s]\u001b[A\n",
      "Epoch 3: 100%|██████████| 79/79 [00:00<00:00, 109.79it/s, loss=0.0493, v_num=3, val_loss=0.0692]\n",
      "Epoch 4:  80%|███████▉  | 63/79 [00:00<00:00, 93.54it/s, loss=0.0443, v_num=3, val_loss=0.0692] \n",
      "Validating: 0it [00:00, ?it/s]\u001b[A\n",
      "Epoch 4: 100%|██████████| 79/79 [00:00<00:00, 108.15it/s, loss=0.0443, v_num=3, val_loss=0.224]\n",
      "Epoch 5:  80%|███████▉  | 63/79 [00:00<00:00, 89.71it/s, loss=0.029, v_num=3, val_loss=0.224]  \n",
      "Validating: 0it [00:00, ?it/s]\u001b[A\n",
      "Epoch 5: 100%|██████████| 79/79 [00:00<00:00, 104.47it/s, loss=0.029, v_num=3, val_loss=0.072]\n",
      "Epoch 6:  80%|███████▉  | 63/79 [00:00<00:00, 94.00it/s, loss=0.0398, v_num=3, val_loss=0.072]\n",
      "Validating: 0it [00:00, ?it/s]\u001b[A\n",
      "Epoch 6: 100%|██████████| 79/79 [00:00<00:00, 108.11it/s, loss=0.0398, v_num=3, val_loss=3.100]\n",
      "Epoch 6: 100%|██████████| 79/79 [00:00<00:00, 107.12it/s, loss=0.0398, v_num=3, val_loss=3.100]\n"
     ]
    }
   ],
   "source": [
    "trainer.fit(network, datamodule)"
   ]
  },
  {
   "cell_type": "code",
   "execution_count": 10,
   "id": "4f676eec-c465-4940-9d7b-6dc584f837f1",
   "metadata": {},
   "outputs": [
    {
     "name": "stderr",
     "output_type": "stream",
     "text": [
      "LOCAL_RANK: 0 - CUDA_VISIBLE_DEVICES: [0]\n",
      "/home/weniger/miniconda3b/envs/zero/lib/python3.9/site-packages/pytorch_lightning/trainer/data_loading.py:132: UserWarning: The dataloader, test_dataloader 0, does not have many workers which may be a bottleneck. Consider increasing the value of the `num_workers` argument` (try 24 which is the number of cpus on this machine) in the `DataLoader` init to improve performance.\n",
      "  rank_zero_warn(\n"
     ]
    },
    {
     "name": "stdout",
     "output_type": "stream",
     "text": [
      "Testing:  84%|████████▎ | 66/79 [00:00<00:00, 211.87it/s]--------------------------------------------------------------------------------\n",
      "DATALOADER:0 TEST RESULTS\n",
      "{'hp/JS-div': 3.205418825149536, 'hp/KL-div': 1.6179780960083008}\n",
      "--------------------------------------------------------------------------------\n",
      "Testing: 100%|██████████| 79/79 [00:00<00:00, 212.56it/s]\n"
     ]
    },
    {
     "data": {
      "text/plain": [
       "[{'hp/JS-div': 3.205418825149536, 'hp/KL-div': 1.6179780960083008}]"
      ]
     },
     "execution_count": 10,
     "metadata": {},
     "output_type": "execute_result"
    }
   ],
   "source": [
    "trainer.test(network, datamodule)"
   ]
  },
  {
   "cell_type": "code",
   "execution_count": 11,
   "id": "78f4faa3-cc21-42de-ac99-e87bc6c09887",
   "metadata": {},
   "outputs": [],
   "source": [
    "x0 = [0.3, 0.5, 0.7]\n",
    "prior_samples = simulator.sample(1000000, targets = ['z'])"
   ]
  },
  {
   "cell_type": "code",
   "execution_count": 12,
   "id": "4ae531b0-3a9d-4640-b250-af4fe6f7153e",
   "metadata": {},
   "outputs": [
    {
     "name": "stderr",
     "output_type": "stream",
     "text": [
      "LOCAL_RANK: 0 - CUDA_VISIBLE_DEVICES: [0]\n"
     ]
    },
    {
     "name": "stdout",
     "output_type": "stream",
     "text": [
      "Predicting:   8%|▊         | 82/977 [00:00<00:04, 183.38it/s]"
     ]
    },
    {
     "name": "stderr",
     "output_type": "stream",
     "text": [
      "/home/weniger/miniconda3b/envs/zero/lib/python3.9/site-packages/pytorch_lightning/loops/epoch/prediction_epoch_loop.py:174: UserWarning: Lightning couldn't infer the indices fetched for your dataloader.\n",
      "  warning_cache.warn(\"Lightning couldn't infer the indices fetched for your dataloader.\")\n"
     ]
    },
    {
     "name": "stdout",
     "output_type": "stream",
     "text": [
      "Predicting: 100%|██████████| 977/977 [00:05<00:00, 168.11it/s]\n"
     ]
    }
   ],
   "source": [
    "predictions = trainer.infer(network, {'x': torch.tensor(x0)}, prior_samples.get_dataloader(batch_size = 1024))"
   ]
  },
  {
   "cell_type": "code",
   "execution_count": 13,
   "id": "6336f6ed-72c2-4c60-a7f1-af53efa243e2",
   "metadata": {},
   "outputs": [],
   "source": [
    "post_samples = predictions.sample(100000)\n",
    "z = post_samples['z'][:,0,:].numpy()"
   ]
  },
  {
   "cell_type": "code",
   "execution_count": 14,
   "id": "8f9e0227-c0d4-465f-abc8-216c3f387745",
   "metadata": {},
   "outputs": [
    {
     "data": {
      "image/png": "[encoded data removed]",
      "text/plain": [
       "<Figure size 432x288 with 1 Axes>"
      ]
     },
     "metadata": {
      "needs_background": "light"
     },
     "output_type": "display_data"
    }
   ],
   "source": [
    "plt.hist2d(z[:,0], z[:,1], density = True, bins = 30);"
   ]
  },
  {
   "cell_type": "code",
   "execution_count": 15,
   "id": "afb02e35-c02b-4dfb-881c-4bd1171fe80a",
   "metadata": {},
   "outputs": [
    {
     "data": {
      "image/png": "[encoded data removed]",
      "text/plain": [
       "<Figure size 432x288 with 1 Axes>"
      ]
     },
     "metadata": {
      "needs_background": "light"
     },
     "output_type": "display_data"
    }
   ],
   "source": [
    "plt.hist2d(z[:,0], z[:,2], density = True, bins = 30);"
   ]
  },
  {
   "cell_type": "code",
   "execution_count": 16,
   "id": "bf0d1ad0-8852-4c3a-9453-30761a470d5d",
   "metadata": {},
   "outputs": [
    {
     "data": {
      "image/png": "[encoded data removed]",
      "text/plain": [
       "<Figure size 432x288 with 1 Axes>"
      ]
     },
     "metadata": {
      "needs_background": "light"
     },
     "output_type": "display_data"
    }
   ],
   "source": [
    "plt.hist2d(z[:,1], z[:,2], density = True, bins = 30);"
   ]
  },
  {
   "cell_type": "code",
   "execution_count": null,
   "id": "19581811-8670-44fa-8dd4-35f95ff00674",
   "metadata": {},
   "outputs": [],
   "source": []
  }
 ],
 "metadata": {
  "kernelspec": {
   "display_name": "Python 3",
   "language": "python",
   "name": "python3"
  },
  "language_info": {
   "codemirror_mode": {
    "name": "ipython",
    "version": 3
   },
   "file_extension": ".py",
   "mimetype": "text/x-python",
   "name": "python",
   "nbconvert_exporter": "python",
   "pygments_lexer": "ipython3",
   "version": "3.9.7"
  }
 },
 "nbformat": 4,
 "nbformat_minor": 5
}
