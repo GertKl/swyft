{
 "cells": [
  {
   "cell_type": "markdown",
   "id": "b4c7a3f1-ab43-432e-a64f-b7f1358a24da",
   "metadata": {},
   "source": [
    "# Logging\n",
    "\n",
    "First we need some imports."
   ]
  },
  {
   "cell_type": "code",
   "execution_count": 111,
   "id": "8e9d04e5-d08e-46ab-a520-4547dedf0487",
   "metadata": {},
   "outputs": [
    {
     "name": "stdout",
     "output_type": "stream",
     "text": [
      "The autoreload extension is already loaded. To reload it, use:\n",
      "  %reload_ext autoreload\n"
     ]
    }
   ],
   "source": [
    "%load_ext autoreload\n",
    "%autoreload 2"
   ]
  },
  {
   "cell_type": "code",
   "execution_count": 112,
   "id": "0297c907",
   "metadata": {},
   "outputs": [],
   "source": [
    "import numpy as np\n",
    "from scipy import stats\n",
    "import pylab as plt\n",
    "import torch\n",
    "import torchist\n",
    "import swyft\n",
    "\n",
    "from pytorch_lightning.callbacks import ModelCheckpoint\n",
    "from pytorch_lightning.loggers import TensorBoardLogger"
   ]
  },
  {
   "cell_type": "markdown",
   "id": "ab99366b-0783-46f5-be2d-80cbbb85e163",
   "metadata": {
    "tags": []
   },
   "source": [
    "## Training data\n",
    "\n",
    "Now we generate training data.  As simple example, we consider the model\n",
    "\n",
    "$$\n",
    "x = z + \\epsilon\n",
    "$$\n",
    "\n",
    "where the parameter $z \\sim \\mathcal{N}(\\mu = 0, \\sigma = 1)$ is standard normal distributed, and $\\epsilon \\sim \\mathcal{N}(\\mu = 0, \\sigma = 0.1)$ is a small noise contribution.  We are interested in the posterior of $z$ given a measurement of parameter $x$."
   ]
  },
  {
   "cell_type": "code",
   "execution_count": 113,
   "id": "c0439f14-d49f-4e52-8916-49a785daede5",
   "metadata": {},
   "outputs": [],
   "source": [
    "class Simulator(swyft.Simulator):\n",
    "    def __init__(self):\n",
    "        super().__init__()\n",
    "        self.on_after_forward = swyft.to_numpy32\n",
    "\n",
    "    def forward(self, trace):\n",
    "        z = trace.sample('z', lambda: np.random.rand(1))\n",
    "        x = trace.sample('x', lambda z: z + np.random.randn(1)*0.1, z)\n",
    "        \n",
    "sim = Simulator()"
   ]
  },
  {
   "cell_type": "code",
   "execution_count": 114,
   "id": "4a1ed06f-9bbe-460d-bda3-400a3eaee6f5",
   "metadata": {},
   "outputs": [
    {
     "name": "stderr",
     "output_type": "stream",
     "text": [
      "100%|██████████| 10000/10000 [00:00<00:00, 46111.42it/s]\n"
     ]
    }
   ],
   "source": [
    "samples = sim.sample(10000)"
   ]
  },
  {
   "cell_type": "code",
   "execution_count": 115,
   "id": "3e6dc7e9-ff0a-479d-a4e8-fd8025717327",
   "metadata": {},
   "outputs": [],
   "source": [
    "class Network(swyft.SwyftModule):\n",
    "    def __init__(self):\n",
    "        super().__init__(lr = 1e-4, lrs_factor = 0.1, lrs_patience = 3, early_stopping_patience = 2)\n",
    "        self.logratios = swyft.LogRatioEstimator_1dim(num_features = 1, num_params = 1, varnames = 'z')\n",
    "\n",
    "    def forward(self, A, B):\n",
    "        logratios = self.logratios(A['x'], B['z'])\n",
    "        return logratios"
   ]
  },
  {
   "cell_type": "markdown",
   "id": "2554dbed-fc91-45d2-bfa7-418cdaad67b6",
   "metadata": {},
   "source": [
    "## Trainer\n",
    "\n",
    "Training is now done using the `SwyftTrainer` class, which extends `pytorch_lightning.Trainer` by methods like `infer` (see below)."
   ]
  },
  {
   "cell_type": "code",
   "execution_count": 116,
   "id": "7101f655-cecd-4957-910e-16e1f52baa71",
   "metadata": {},
   "outputs": [],
   "source": [
    "\n",
    "model_checkpoint = ModelCheckpoint(monitor = 'val_loss', save_top_k = 1)\n",
    "logger = TensorBoardLogger(\"./lightning_logs\", name = \"Test1\")"
   ]
  },
  {
   "cell_type": "code",
   "execution_count": 117,
   "id": "5683ce37-a8d0-4ed7-94a6-512ccc7babcb",
   "metadata": {},
   "outputs": [
    {
     "name": "stderr",
     "output_type": "stream",
     "text": [
      "GPU available: True, used: True\n",
      "TPU available: False, using: 0 TPU cores\n",
      "IPU available: False, using: 0 IPUs\n"
     ]
    }
   ],
   "source": [
    "trainer = swyft.SwyftTrainer(accelerator = 'gpu', gpus=1, max_epochs = 100, precision = 64, logger = logger, callbacks = [model_checkpoint])"
   ]
  },
  {
   "cell_type": "markdown",
   "id": "053eff99-5d2b-4419-bce7-d938831b623e",
   "metadata": {},
   "source": [
    "The `swyft.Samples` class provides convenience functions to generate data loaders for training and validation data."
   ]
  },
  {
   "cell_type": "code",
   "execution_count": 118,
   "id": "b1b09c64-a0e4-4d69-a639-a5843efac80c",
   "metadata": {},
   "outputs": [],
   "source": [
    "dl_train = samples[:2000].get_dataloader(batch_size = 64, shuffle = True)\n",
    "dl_valid = samples[2000:5000].get_dataloader(batch_size = 64)"
   ]
  },
  {
   "cell_type": "code",
   "execution_count": 119,
   "id": "c5811d37-d10b-49e8-a8ed-1e6d43caefa4",
   "metadata": {},
   "outputs": [],
   "source": [
    "network = Network()"
   ]
  },
  {
   "cell_type": "code",
   "execution_count": 120,
   "id": "41f7765b-45b8-4684-b820-4f75c9719857",
   "metadata": {},
   "outputs": [
    {
     "name": "stderr",
     "output_type": "stream",
     "text": [
      "LOCAL_RANK: 0 - CUDA_VISIBLE_DEVICES: [0]\n",
      "\n",
      "  | Name      | Type                   | Params\n",
      "-----------------------------------------------------\n",
      "0 | logratios | LogRatioEstimator_1dim | 17.4 K\n",
      "-----------------------------------------------------\n",
      "17.4 K    Trainable params\n",
      "0         Non-trainable params\n",
      "17.4 K    Total params\n",
      "0.139     Total estimated model params size (MB)\n"
     ]
    },
    {
     "name": "stdout",
     "output_type": "stream",
     "text": [
      "Epoch 0:  41%|████      | 32/79 [00:00<00:00, 100.46it/s, loss=-0.151, v_num=21]\n",
      "Validating: 0it [00:00, ?it/s]\u001b[A\n",
      "Epoch 0:  84%|████████▎ | 66/79 [00:00<00:00, 158.10it/s, loss=-0.151, v_num=21]\n",
      "Epoch 0: 100%|██████████| 79/79 [00:00<00:00, 170.37it/s, loss=-0.151, v_num=21, val_loss=-.0107]\n",
      "Epoch 1:  41%|████      | 32/79 [00:00<00:00, 101.85it/s, loss=-0.401, v_num=21, val_loss=-.0107]\n",
      "Validating: 0it [00:00, ?it/s]\u001b[A\n",
      "Epoch 1:  43%|████▎     | 34/79 [00:00<00:00, 104.14it/s, loss=-0.401, v_num=21, val_loss=-.0107]\n",
      "Epoch 1: 100%|██████████| 79/79 [00:00<00:00, 172.62it/s, loss=-0.401, v_num=21, val_loss=-.366] \n",
      "Epoch 2:  41%|████      | 32/79 [00:00<00:00, 99.54it/s, loss=-0.522, v_num=21, val_loss=-.366] \n",
      "Validating: 0it [00:00, ?it/s]\u001b[A\n",
      "Epoch 2:  46%|████▌     | 36/79 [00:00<00:00, 105.72it/s, loss=-0.522, v_num=21, val_loss=-.366]\n",
      "Epoch 2: 100%|██████████| 79/79 [00:00<00:00, 169.00it/s, loss=-0.522, v_num=21, val_loss=-.516]\n",
      "Epoch 3:  41%|████      | 32/79 [00:00<00:00, 99.25it/s, loss=-0.557, v_num=21, val_loss=-.516] \n",
      "Validating: 0it [00:00, ?it/s]\u001b[A\n",
      "Epoch 3:  46%|████▌     | 36/79 [00:00<00:00, 103.50it/s, loss=-0.557, v_num=21, val_loss=-.516]\n",
      "Epoch 3: 100%|██████████| 79/79 [00:00<00:00, 164.62it/s, loss=-0.557, v_num=21, val_loss=-.527]\n",
      "Epoch 4:  41%|████      | 32/79 [00:00<00:00, 88.67it/s, loss=-0.533, v_num=21, val_loss=-.527] \n",
      "Validating: 0it [00:00, ?it/s]\u001b[A\n",
      "Epoch 4:  46%|████▌     | 36/79 [00:00<00:00, 95.32it/s, loss=-0.533, v_num=21, val_loss=-.527]\n",
      "Epoch 4: 100%|██████████| 79/79 [00:00<00:00, 158.18it/s, loss=-0.533, v_num=21, val_loss=-.535]\n",
      "Epoch 5:  41%|████      | 32/79 [00:00<00:00, 92.03it/s, loss=-0.597, v_num=21, val_loss=-.535] \n",
      "Validating: 0it [00:00, ?it/s]\u001b[A\n",
      "Epoch 5:  47%|████▋     | 37/79 [00:00<00:00, 100.79it/s, loss=-0.597, v_num=21, val_loss=-.535]\n",
      "Epoch 5: 100%|██████████| 79/79 [00:00<00:00, 161.65it/s, loss=-0.597, v_num=21, val_loss=-.535]\n",
      "Epoch 6:  41%|████      | 32/79 [00:00<00:00, 94.39it/s, loss=-0.507, v_num=21, val_loss=-.535] \n",
      "Validating: 0it [00:00, ?it/s]\u001b[A\n",
      "Epoch 6:  47%|████▋     | 37/79 [00:00<00:00, 102.86it/s, loss=-0.507, v_num=21, val_loss=-.535]\n",
      "Epoch 6: 100%|██████████| 79/79 [00:00<00:00, 161.09it/s, loss=-0.507, v_num=21, val_loss=-.547]\n",
      "Epoch 7:  41%|████      | 32/79 [00:00<00:00, 96.21it/s, loss=-0.578, v_num=21, val_loss=-.547] \n",
      "Validating: 0it [00:00, ?it/s]\u001b[A\n",
      "Epoch 7:  47%|████▋     | 37/79 [00:00<00:00, 104.89it/s, loss=-0.578, v_num=21, val_loss=-.547]\n",
      "Epoch 7: 100%|██████████| 79/79 [00:00<00:00, 163.39it/s, loss=-0.578, v_num=21, val_loss=-.550]\n",
      "Epoch 8:  41%|████      | 32/79 [00:00<00:00, 102.34it/s, loss=-0.584, v_num=21, val_loss=-.550]\n",
      "Validating: 0it [00:00, ?it/s]\u001b[A\n",
      "Epoch 8:  47%|████▋     | 37/79 [00:00<00:00, 111.75it/s, loss=-0.584, v_num=21, val_loss=-.550]\n",
      "Epoch 8: 100%|██████████| 79/79 [00:00<00:00, 174.34it/s, loss=-0.584, v_num=21, val_loss=-.547]\n",
      "Epoch 9:  41%|████      | 32/79 [00:00<00:00, 96.87it/s, loss=-0.552, v_num=21, val_loss=-.547] \n",
      "Validating: 0it [00:00, ?it/s]\u001b[A\n",
      "Epoch 9:  47%|████▋     | 37/79 [00:00<00:00, 105.97it/s, loss=-0.552, v_num=21, val_loss=-.547]\n",
      "Epoch 9: 100%|██████████| 79/79 [00:00<00:00, 167.01it/s, loss=-0.552, v_num=21, val_loss=-.550]\n",
      "Epoch 9: 100%|██████████| 79/79 [00:00<00:00, 164.38it/s, loss=-0.552, v_num=21, val_loss=-.550]\n"
     ]
    }
   ],
   "source": [
    "trainer.fit(network, dl_train, dl_valid)"
   ]
  },
  {
   "cell_type": "code",
   "execution_count": 121,
   "id": "8686a194-ee93-4f48-937d-9b9f92dbc397",
   "metadata": {},
   "outputs": [],
   "source": [
    "model_checkpoint.to_yaml(\"./test4.yaml\")"
   ]
  },
  {
   "cell_type": "code",
   "execution_count": 122,
   "id": "2d7406c7-15d8-4138-a2d1-8bbf6e1cca7e",
   "metadata": {},
   "outputs": [],
   "source": [
    "ckpt_path = swyft.best_from_yaml(\"./test4.yaml\")"
   ]
  },
  {
   "cell_type": "code",
   "execution_count": 123,
   "id": "2863fb41-2d1a-49db-a8f6-29ce8325356f",
   "metadata": {},
   "outputs": [
    {
     "name": "stderr",
     "output_type": "stream",
     "text": [
      "The following callbacks returned in `LightningModule.configure_callbacks` will override existing callbacks passed to Trainer: EarlyStopping, LearningRateMonitor\n",
      "Restoring states from the checkpoint path at ./lightning_logs/Test1/version_21/checkpoints/epoch=7-step=255.ckpt\n",
      "LOCAL_RANK: 0 - CUDA_VISIBLE_DEVICES: [0]\n",
      "Loaded model weights from checkpoint at ./lightning_logs/Test1/version_21/checkpoints/epoch=7-step=255.ckpt\n"
     ]
    },
    {
     "name": "stdout",
     "output_type": "stream",
     "text": [
      "Testing:  79%|███████▊  | 37/47 [00:00<00:00, 364.61it/s]--------------------------------------------------------------------------------\n",
      "DATALOADER:0 TEST RESULTS\n",
      "{'test_loss': -0.5501115308490315}\n",
      "--------------------------------------------------------------------------------\n",
      "Testing: 100%|██████████| 47/47 [00:00<00:00, 354.16it/s]\n"
     ]
    },
    {
     "data": {
      "text/plain": [
       "[{'test_loss': -0.5501115308490315}]"
      ]
     },
     "execution_count": 123,
     "metadata": {},
     "output_type": "execute_result"
    }
   ],
   "source": [
    "trainer.test(network, dl_valid, ckpt_path = ckpt_path)"
   ]
  },
  {
   "cell_type": "code",
   "execution_count": null,
   "id": "61267e4a-c5cd-4a2b-b5fe-2c98561ce33f",
   "metadata": {},
   "outputs": [],
   "source": []
  }
 ],
 "metadata": {
  "kernelspec": {
   "display_name": "Python 3",
   "language": "python",
   "name": "python3"
  },
  "language_info": {
   "codemirror_mode": {
    "name": "ipython",
    "version": 3
   },
   "file_extension": ".py",
   "mimetype": "text/x-python",
   "name": "python",
   "nbconvert_exporter": "python",
   "pygments_lexer": "ipython3",
   "version": "3.9.7"
  }
 },
 "nbformat": 4,
 "nbformat_minor": 5
}
