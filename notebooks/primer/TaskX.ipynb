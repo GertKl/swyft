{
 "cells": [
  {
   "cell_type": "code",
   "execution_count": 2,
   "id": "8fb3380a-736d-4137-bbd8-c66641362e86",
   "metadata": {},
   "outputs": [],
   "source": [
    "%load_ext autoreload\n",
    "%autoreload 2"
   ]
  },
  {
   "cell_type": "code",
   "execution_count": 3,
   "id": "9da8367b-ba41-460c-8945-17e066fb043f",
   "metadata": {},
   "outputs": [],
   "source": [
    "import numpy as np\n",
    "from scipy import stats\n",
    "import pylab as plt\n",
    "import torch\n",
    "import swyft\n",
    "from torch import nn\n",
    "from simulators import SimulatorBlob, SimulatorLinePattern, SimulatorLetter, SimulatorSnake, SimulatorUnraveling"
   ]
  },
  {
   "cell_type": "code",
   "execution_count": 5,
   "id": "016ad568-5c48-46b7-9cfc-ba934ea6bd28",
   "metadata": {},
   "outputs": [
    {
     "ename": "KeyError",
     "evalue": "'line/'",
     "output_type": "error",
     "traceback": [
      "\u001b[0;31m---------------------------------------------------------------------------\u001b[0m",
      "\u001b[0;31mKeyError\u001b[0m                                  Traceback (most recent call last)",
      "Cell \u001b[0;32mIn[5], line 39\u001b[0m\n\u001b[1;32m     35\u001b[0m         mu2 \u001b[38;5;241m=\u001b[39m graph\u001b[38;5;241m.\u001b[39mnode(\u001b[38;5;124m\"\u001b[39m\u001b[38;5;124mblob/mu_embedded\u001b[39m\u001b[38;5;124m\"\u001b[39m, \u001b[38;5;28mself\u001b[39m\u001b[38;5;241m.\u001b[39membed, mu2_original)\n\u001b[1;32m     36\u001b[0m         mu \u001b[38;5;241m=\u001b[39m graph\u001b[38;5;241m.\u001b[39mnode(\u001b[38;5;124m\"\u001b[39m\u001b[38;5;124mmu\u001b[39m\u001b[38;5;124m\"\u001b[39m, \u001b[38;5;28;01mlambda\u001b[39;00m \u001b[38;5;241m*\u001b[39margs: \u001b[38;5;28msum\u001b[39m([\u001b[38;5;241m*\u001b[39margs])\u001b[38;5;241m+\u001b[39mnp\u001b[38;5;241m.\u001b[39mrandom\u001b[38;5;241m.\u001b[39mrandn(\u001b[38;5;241m256\u001b[39m, \u001b[38;5;241m256\u001b[39m)\u001b[38;5;241m*\u001b[39m\u001b[38;5;241m0.1\u001b[39m, mu1, mu2, mu3, mu4, mu5)\n\u001b[0;32m---> 39\u001b[0m sim \u001b[38;5;241m=\u001b[39m \u001b[43mSimCom\u001b[49m\u001b[43m(\u001b[49m\u001b[43m)\u001b[49m\n\u001b[1;32m     40\u001b[0m mu \u001b[38;5;241m=\u001b[39m sim\u001b[38;5;241m.\u001b[39msample(\u001b[38;5;241m1\u001b[39m)[\u001b[38;5;241m0\u001b[39m][\u001b[38;5;124m'\u001b[39m\u001b[38;5;124mmu\u001b[39m\u001b[38;5;124m'\u001b[39m]\n\u001b[1;32m     41\u001b[0m plt\u001b[38;5;241m.\u001b[39mimshow(mu, cmap \u001b[38;5;241m=\u001b[39m \u001b[38;5;124m'\u001b[39m\u001b[38;5;124minferno\u001b[39m\u001b[38;5;124m'\u001b[39m)\n",
      "Cell \u001b[0;32mIn[5], line 7\u001b[0m, in \u001b[0;36mSimCom.__init__\u001b[0;34m(self, bounds)\u001b[0m\n\u001b[1;32m      5\u001b[0m \u001b[38;5;28msuper\u001b[39m()\u001b[38;5;241m.\u001b[39m\u001b[38;5;21m__init__\u001b[39m()\n\u001b[1;32m      6\u001b[0m bounds \u001b[38;5;241m=\u001b[39m defaultdict(\u001b[38;5;241m*\u001b[39m\u001b[38;5;241m*\u001b[39mbounds)\n\u001b[0;32m----> 7\u001b[0m \u001b[38;5;28mself\u001b[39m\u001b[38;5;241m.\u001b[39msim1 \u001b[38;5;241m=\u001b[39m SimulatorLinePattern(bounds \u001b[38;5;241m=\u001b[39m \u001b[43mbounds\u001b[49m\u001b[43m[\u001b[49m\u001b[38;5;124;43m'\u001b[39;49m\u001b[38;5;124;43mline/\u001b[39;49m\u001b[38;5;124;43m'\u001b[39;49m\u001b[43m]\u001b[49m)\n\u001b[1;32m      8\u001b[0m \u001b[38;5;28mself\u001b[39m\u001b[38;5;241m.\u001b[39msim2 \u001b[38;5;241m=\u001b[39m SimulatorBlob()\n\u001b[1;32m      9\u001b[0m \u001b[38;5;28mself\u001b[39m\u001b[38;5;241m.\u001b[39msim3 \u001b[38;5;241m=\u001b[39m SimulatorLetter()\n",
      "\u001b[0;31mKeyError\u001b[0m: 'line/'"
     ]
    }
   ],
   "source": [
    "from collections import defaultdict\n",
    "\n",
    "class SimCom(swyft.Simulator):\n",
    "    def __init__(self, bounds = {}):\n",
    "        super().__init__()\n",
    "        bounds = defaultdict()\n",
    "        self.sim1 = SimulatorLinePattern(bounds = bounds['line/'])\n",
    "        self.sim2 = SimulatorBlob()\n",
    "        self.sim3 = SimulatorLetter()\n",
    "        self.sim4 = SimulatorSnake()\n",
    "        self.sim5 = SimulatorUnraveling()\n",
    "        \n",
    "    def embed(self, mu_in):\n",
    "        mu = np.zeros((256, 256))\n",
    "        i, j = 128, 128\n",
    "        mu[i:i+64, j:j+64] += mu_in.numpy()*0.1\n",
    "        return mu\n",
    "        \n",
    "    def build(self, graph):\n",
    "        with graph.prefix(\"line/\"):\n",
    "            self.sim1.build(graph)\n",
    "        with graph.prefix(\"blob/\"):\n",
    "            self.sim2.build(graph)\n",
    "        with graph.prefix(\"letters/\"):\n",
    "            self.sim3.build(graph)\n",
    "        with graph.prefix(\"snake/\"):\n",
    "            self.sim4.build(graph)\n",
    "        with graph.prefix(\"unraveling/\"):\n",
    "            self.sim5.build(graph)\n",
    "        mu1 = graph['line/mu']\n",
    "        mu2_original = graph['blob/mu']\n",
    "        mu3 = graph['letters/mu']\n",
    "        mu4 = graph['snake/mu']\n",
    "        mu5 = graph['unraveling/mu']\n",
    "        mu2 = graph.node(\"blob/mu_embedded\", self.embed, mu2_original)\n",
    "        mu = graph.node(\"mu\", lambda *args: sum([*args])+np.random.randn(256, 256)*0.1, mu1, mu2, mu3, mu4, mu5)\n",
    "\n",
    "        \n",
    "sim = SimCom()\n",
    "mu = sim.sample(1)[0]['mu']\n",
    "plt.imshow(mu, cmap = 'inferno')"
   ]
  },
  {
   "cell_type": "code",
   "execution_count": 15,
   "id": "055c8399-c706-4dff-903b-9f916240ffc8",
   "metadata": {},
   "outputs": [
    {
     "data": {
      "text/plain": [
       "3"
      ]
     },
     "execution_count": 15,
     "metadata": {},
     "output_type": "execute_result"
    }
   ],
   "source": [
    "d  = defaultdict(dict)\n",
    "d.update(dict(a=3))\n",
    "d['a']"
   ]
  },
  {
   "cell_type": "code",
   "execution_count": 129,
   "id": "58b06def-a54e-4a2e-8e6c-92778f063b6c",
   "metadata": {},
   "outputs": [
    {
     "data": {
      "application/vnd.jupyter.widget-view+json": {
       "model_id": "efb1f8ee8c6a46c0ab6acd39e5320a3e",
       "version_major": 2,
       "version_minor": 0
      },
      "text/plain": [
       "  0%|          | 0/1000 [00:00<?, ?it/s]"
      ]
     },
     "metadata": {},
     "output_type": "display_data"
    },
    {
     "ename": "KeyboardInterrupt",
     "evalue": "",
     "output_type": "error",
     "traceback": [
      "\u001b[0;31m---------------------------------------------------------------------------\u001b[0m",
      "\u001b[0;31mKeyboardInterrupt\u001b[0m                         Traceback (most recent call last)",
      "Cell \u001b[0;32mIn[129], line 1\u001b[0m\n\u001b[0;32m----> 1\u001b[0m samples \u001b[38;5;241m=\u001b[39m \u001b[43msim\u001b[49m\u001b[38;5;241;43m.\u001b[39;49m\u001b[43msample\u001b[49m\u001b[43m(\u001b[49m\u001b[38;5;241;43m1000\u001b[39;49m\u001b[43m)\u001b[49m\n",
      "File \u001b[0;32m/gpfs/home2/weniger/swyft/swyft/lightning/simulator.py:342\u001b[0m, in \u001b[0;36mSimulator.sample\u001b[0;34m(self, N, targets, conditions, exclude)\u001b[0m\n\u001b[1;32m    340\u001b[0m out \u001b[38;5;241m=\u001b[39m []\n\u001b[1;32m    341\u001b[0m \u001b[38;5;28;01mfor\u001b[39;00m _ \u001b[38;5;129;01min\u001b[39;00m tqdm(\u001b[38;5;28mrange\u001b[39m(N)):\n\u001b[0;32m--> 342\u001b[0m     result \u001b[38;5;241m=\u001b[39m \u001b[38;5;28;43mself\u001b[39;49m\u001b[38;5;241;43m.\u001b[39;49m\u001b[43m_run\u001b[49m\u001b[43m(\u001b[49m\u001b[43mtargets\u001b[49m\u001b[43m,\u001b[49m\u001b[43m \u001b[49m\u001b[43mconditions\u001b[49m\u001b[43m)\u001b[49m\n\u001b[1;32m    343\u001b[0m     \u001b[38;5;28;01mfor\u001b[39;00m key \u001b[38;5;129;01min\u001b[39;00m exclude:\n\u001b[1;32m    344\u001b[0m         result\u001b[38;5;241m.\u001b[39mpop(key, \u001b[38;5;28;01mNone\u001b[39;00m)\n",
      "File \u001b[0;32m/gpfs/home2/weniger/swyft/swyft/lightning/simulator.py:300\u001b[0m, in \u001b[0;36mSimulator._run\u001b[0;34m(self, targets, conditions)\u001b[0m\n\u001b[1;32m    298\u001b[0m     targets \u001b[38;5;241m=\u001b[39m \u001b[38;5;28mself\u001b[39m\u001b[38;5;241m.\u001b[39mgraph\u001b[38;5;241m.\u001b[39mkeys()\n\u001b[1;32m    299\u001b[0m \u001b[38;5;28;01mfor\u001b[39;00m target \u001b[38;5;129;01min\u001b[39;00m targets:\n\u001b[0;32m--> 300\u001b[0m     \u001b[38;5;28;43mself\u001b[39;49m\u001b[38;5;241;43m.\u001b[39;49m\u001b[43mgraph\u001b[49m\u001b[43m[\u001b[49m\u001b[43mtarget\u001b[49m\u001b[43m]\u001b[49m\u001b[38;5;241;43m.\u001b[39;49m\u001b[43mevaluate\u001b[49m\u001b[43m(\u001b[49m\u001b[43mtrace\u001b[49m\u001b[43m)\u001b[49m\n\u001b[1;32m    301\u001b[0m result \u001b[38;5;241m=\u001b[39m \u001b[38;5;28mself\u001b[39m\u001b[38;5;241m.\u001b[39mtransform_samples(trace)\n\u001b[1;32m    302\u001b[0m \u001b[38;5;28;01mreturn\u001b[39;00m result\n",
      "File \u001b[0;32m/gpfs/home2/weniger/swyft/swyft/lightning/simulator.py:131\u001b[0m, in \u001b[0;36mNode.evaluate\u001b[0;34m(self, trace)\u001b[0m\n\u001b[1;32m    124\u001b[0m \u001b[38;5;28;01melse\u001b[39;00m:\n\u001b[1;32m    125\u001b[0m     args \u001b[38;5;241m=\u001b[39m (\n\u001b[1;32m    126\u001b[0m         arg\u001b[38;5;241m.\u001b[39mevaluate(trace)\n\u001b[1;32m    127\u001b[0m         \u001b[38;5;28;01mif\u001b[39;00m (\u001b[38;5;28misinstance\u001b[39m(arg, Node) \u001b[38;5;129;01mor\u001b[39;00m \u001b[38;5;28misinstance\u001b[39m(arg, Switch))\n\u001b[1;32m    128\u001b[0m         \u001b[38;5;28;01melse\u001b[39;00m arg\n\u001b[1;32m    129\u001b[0m         \u001b[38;5;28;01mfor\u001b[39;00m arg \u001b[38;5;129;01min\u001b[39;00m \u001b[38;5;28mself\u001b[39m\u001b[38;5;241m.\u001b[39m_inputs\n\u001b[1;32m    130\u001b[0m     )\n\u001b[0;32m--> 131\u001b[0m     result \u001b[38;5;241m=\u001b[39m \u001b[38;5;28;43mself\u001b[39;49m\u001b[38;5;241;43m.\u001b[39;49m\u001b[43m_fn\u001b[49m\u001b[43m(\u001b[49m\u001b[38;5;241;43m*\u001b[39;49m\u001b[43margs\u001b[49m\u001b[43m)\u001b[49m\n\u001b[1;32m    132\u001b[0m     \u001b[38;5;28;01mif\u001b[39;00m \u001b[38;5;28mself\u001b[39m\u001b[38;5;241m.\u001b[39m_mult_parnames \u001b[38;5;129;01mis\u001b[39;00m \u001b[38;5;28;01mNone\u001b[39;00m:\n\u001b[1;32m    133\u001b[0m         trace[\u001b[38;5;28mself\u001b[39m\u001b[38;5;241m.\u001b[39m_parname] \u001b[38;5;241m=\u001b[39m result\n",
      "File \u001b[0;32m/gpfs/home2/weniger/swyft/notebooks/primer/simulators.py:27\u001b[0m, in \u001b[0;36mSimulatorLinePattern.templates\u001b[0;34m(self, z)\u001b[0m\n\u001b[1;32m     25\u001b[0m \u001b[38;5;28;01mdef\u001b[39;00m \u001b[38;5;21mtemplates\u001b[39m(\u001b[38;5;28mself\u001b[39m, z):\n\u001b[1;32m     26\u001b[0m     w \u001b[38;5;241m=\u001b[39m z[\u001b[38;5;241m4\u001b[39m]\n\u001b[0;32m---> 27\u001b[0m     t1 \u001b[38;5;241m=\u001b[39m np\u001b[38;5;241m.\u001b[39mexp(\u001b[38;5;241m-\u001b[39m\u001b[43mnp\u001b[49m\u001b[38;5;241;43m.\u001b[39;49m\u001b[43msin\u001b[49m\u001b[43m(\u001b[49m\u001b[43m(\u001b[49m\u001b[38;5;28;43mself\u001b[39;49m\u001b[38;5;241;43m.\u001b[39;49m\u001b[43mgrid\u001b[49m\u001b[43m[\u001b[49m\u001b[38;5;241;43m0\u001b[39;49m\u001b[43m]\u001b[49m\u001b[38;5;241;43m-\u001b[39;49m\u001b[43mz\u001b[49m\u001b[43m[\u001b[49m\u001b[38;5;241;43m0\u001b[39;49m\u001b[43m]\u001b[49m\u001b[38;5;241;43m+\u001b[39;49m\u001b[38;5;28;43mself\u001b[39;49m\u001b[38;5;241;43m.\u001b[39;49m\u001b[43mgrid\u001b[49m\u001b[43m[\u001b[49m\u001b[38;5;241;43m1\u001b[39;49m\u001b[43m]\u001b[49m\u001b[38;5;241;43m-\u001b[39;49m\u001b[43mz\u001b[49m\u001b[43m[\u001b[49m\u001b[38;5;241;43m1\u001b[39;49m\u001b[43m]\u001b[49m\u001b[43m)\u001b[49m\u001b[38;5;241;43m/\u001b[39;49m\u001b[38;5;241;43m0.02\u001b[39;49m\u001b[43m)\u001b[49m\u001b[38;5;241m*\u001b[39m\u001b[38;5;241m*\u001b[39m\u001b[38;5;241m2\u001b[39m\u001b[38;5;241m/\u001b[39m\u001b[38;5;241m0.2\u001b[39m)\n\u001b[1;32m     28\u001b[0m     m1 \u001b[38;5;241m=\u001b[39m (\u001b[38;5;28mself\u001b[39m\u001b[38;5;241m.\u001b[39mgrid[\u001b[38;5;241m0\u001b[39m]\u001b[38;5;241m>\u001b[39mz[\u001b[38;5;241m0\u001b[39m]\u001b[38;5;241m-\u001b[39mw)\u001b[38;5;241m*\u001b[39m(\u001b[38;5;28mself\u001b[39m\u001b[38;5;241m.\u001b[39mgrid[\u001b[38;5;241m0\u001b[39m]\u001b[38;5;241m<\u001b[39mz[\u001b[38;5;241m0\u001b[39m]\u001b[38;5;241m+\u001b[39mw)\u001b[38;5;241m*\u001b[39m(\u001b[38;5;28mself\u001b[39m\u001b[38;5;241m.\u001b[39mgrid[\u001b[38;5;241m1\u001b[39m]\u001b[38;5;241m>\u001b[39mz[\u001b[38;5;241m1\u001b[39m]\u001b[38;5;241m-\u001b[39mw)\u001b[38;5;241m*\u001b[39m(\u001b[38;5;28mself\u001b[39m\u001b[38;5;241m.\u001b[39mgrid[\u001b[38;5;241m1\u001b[39m]\u001b[38;5;241m<\u001b[39mz[\u001b[38;5;241m1\u001b[39m]\u001b[38;5;241m+\u001b[39mw)\n\u001b[1;32m     29\u001b[0m     t2 \u001b[38;5;241m=\u001b[39m np\u001b[38;5;241m.\u001b[39mexp(\u001b[38;5;241m-\u001b[39mnp\u001b[38;5;241m.\u001b[39msin((\u001b[38;5;28mself\u001b[39m\u001b[38;5;241m.\u001b[39mgrid[\u001b[38;5;241m1\u001b[39m]\u001b[38;5;241m-\u001b[39mz[\u001b[38;5;241m3\u001b[39m])\u001b[38;5;241m/\u001b[39m\u001b[38;5;241m0.016\u001b[39m)\u001b[38;5;241m*\u001b[39m\u001b[38;5;241m*\u001b[39m\u001b[38;5;241m2\u001b[39m\u001b[38;5;241m/\u001b[39m\u001b[38;5;241m0.4\u001b[39m)\n",
      "\u001b[0;31mKeyboardInterrupt\u001b[0m: "
     ]
    }
   ],
   "source": [
    "samples = sim.sample(1000)"
   ]
  },
  {
   "cell_type": "code",
   "execution_count": null,
   "id": "22cbebb9-0d15-4026-a1e9-ccff79262aaf",
   "metadata": {},
   "outputs": [],
   "source": []
  }
 ],
 "metadata": {
  "kernelspec": {
   "display_name": "Python 3 (ipykernel)",
   "language": "python",
   "name": "python3"
  },
  "language_info": {
   "codemirror_mode": {
    "name": "ipython",
    "version": 3
   },
   "file_extension": ".py",
   "mimetype": "text/x-python",
   "name": "python",
   "nbconvert_exporter": "python",
   "pygments_lexer": "ipython3",
   "version": "3.9.16"
  }
 },
 "nbformat": 4,
 "nbformat_minor": 5
}
