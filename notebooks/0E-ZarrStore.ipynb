{
 "cells": [
  {
   "cell_type": "markdown",
   "id": "b4c7a3f1-ab43-432e-a64f-b7f1358a24da",
   "metadata": {},
   "source": [
    "# Storing training data on disk via Zarr\n",
    "\n",
    "First we need some imports."
   ]
  },
  {
   "cell_type": "code",
   "execution_count": 1,
   "id": "8e9d04e5-d08e-46ab-a520-4547dedf0487",
   "metadata": {},
   "outputs": [],
   "source": [
    "%load_ext autoreload\n",
    "%autoreload 2"
   ]
  },
  {
   "cell_type": "code",
   "execution_count": 2,
   "id": "0297c907",
   "metadata": {},
   "outputs": [],
   "source": [
    "import numpy as np\n",
    "from scipy import stats\n",
    "import pylab as plt\n",
    "import torch\n",
    "import torchist\n",
    "import swyft"
   ]
  },
  {
   "cell_type": "markdown",
   "id": "ab99366b-0783-46f5-be2d-80cbbb85e163",
   "metadata": {
    "tags": []
   },
   "source": [
    "## Training data\n",
    "\n",
    "Now we generate training data.  As simple example, we consider the model\n",
    "\n",
    "$$\n",
    "x = z + \\epsilon\n",
    "$$\n",
    "\n",
    "where the parameter $z \\sim \\mathcal{N}(\\mu = 0, \\sigma = 1)$ is standard normal distributed, and $\\epsilon \\sim \\mathcal{N}(\\mu = 0, \\sigma = 0.1)$ is a small noise contribution.  We are interested in the posterior of $z$ given a measurement of parameter $x$."
   ]
  },
  {
   "cell_type": "code",
   "execution_count": 3,
   "id": "c0439f14-d49f-4e52-8916-49a785daede5",
   "metadata": {},
   "outputs": [],
   "source": [
    "class Simulator(swyft.Simulator):\n",
    "    def __init__(self):\n",
    "        super().__init__()\n",
    "        self.transform_samples = swyft.to_numpy32\n",
    "\n",
    "    def build(self, graph):\n",
    "        z = graph.node('z', lambda: np.random.rand(1))\n",
    "        x = graph.node('x', lambda z: z + np.random.randn(1)*0.1, z)\n",
    "        \n",
    "sim = Simulator()\n",
    "shapes, dtypes = sim.get_shapes_and_dtypes()"
   ]
  },
  {
   "cell_type": "code",
   "execution_count": 4,
   "id": "315a3a80-c59b-4daf-b846-afb452b7575c",
   "metadata": {},
   "outputs": [
    {
     "name": "stdout",
     "output_type": "stream",
     "text": [
      "WARNING: Already initialized.\n"
     ]
    },
    {
     "data": {
      "text/plain": [
       "<swyft.lightning.stores.ZarrStore at 0x14c599c59a60>"
      ]
     },
     "execution_count": 4,
     "metadata": {},
     "output_type": "execute_result"
    }
   ],
   "source": [
    "store = swyft.ZarrStore(\"./zarr_store\")\n",
    "store.init(10000, 64, shapes, dtypes)"
   ]
  },
  {
   "cell_type": "code",
   "execution_count": 5,
   "id": "4a1ed06f-9bbe-460d-bda3-400a3eaee6f5",
   "metadata": {},
   "outputs": [],
   "source": [
    "store.simulate(sim, batch_size = 1000)  # This function can be run in parallel in many threads"
   ]
  },
  {
   "cell_type": "code",
   "execution_count": 6,
   "id": "3e6dc7e9-ff0a-479d-a4e8-fd8025717327",
   "metadata": {},
   "outputs": [],
   "source": [
    "class Network(swyft.SwyftModule):\n",
    "    def __init__(self):\n",
    "        super().__init__()\n",
    "        self.logratios = swyft.LogRatioEstimator_1dim(num_features = 1, num_params = 1, varnames = 'z')\n",
    "\n",
    "    def forward(self, A, B):\n",
    "        logratios = self.logratios(A['x'], B['z'])\n",
    "        return logratios"
   ]
  },
  {
   "cell_type": "markdown",
   "id": "2554dbed-fc91-45d2-bfa7-418cdaad67b6",
   "metadata": {},
   "source": [
    "## Trainer\n",
    "\n",
    "Training is now done using the `SwyftTrainer` class, which extends `pytorch_lightning.Trainer` by methods like `infer` (see below)."
   ]
  },
  {
   "cell_type": "code",
   "execution_count": 7,
   "id": "5683ce37-a8d0-4ed7-94a6-512ccc7babcb",
   "metadata": {},
   "outputs": [
    {
     "name": "stderr",
     "output_type": "stream",
     "text": [
      "GPU available: True (cuda), used: True\n",
      "TPU available: False, using: 0 TPU cores\n",
      "IPU available: False, using: 0 IPUs\n",
      "HPU available: False, using: 0 HPUs\n"
     ]
    }
   ],
   "source": [
    "trainer = swyft.SwyftTrainer(accelerator = 'gpu', devices=1, max_epochs = 2, precision = 64)"
   ]
  },
  {
   "cell_type": "markdown",
   "id": "053eff99-5d2b-4419-bce7-d938831b623e",
   "metadata": {},
   "source": [
    "The `swyft.Samples` class provides convenience functions to generate data loaders for training and validation data."
   ]
  },
  {
   "cell_type": "code",
   "execution_count": 8,
   "id": "b1b09c64-a0e4-4d69-a639-a5843efac80c",
   "metadata": {},
   "outputs": [],
   "source": [
    "dl_train = store.get_dataloader(batch_size = 64, idx_range = [0, 9500])\n",
    "dl_valid = store.get_dataloader(batch_size = 64, idx_range = [9500, 10000])"
   ]
  },
  {
   "cell_type": "code",
   "execution_count": 9,
   "id": "c5811d37-d10b-49e8-a8ed-1e6d43caefa4",
   "metadata": {},
   "outputs": [],
   "source": [
    "network = Network()"
   ]
  },
  {
   "cell_type": "code",
   "execution_count": 10,
   "id": "41f7765b-45b8-4684-b820-4f75c9719857",
   "metadata": {},
   "outputs": [
    {
     "name": "stderr",
     "output_type": "stream",
     "text": [
      "/home/weniger/miniconda3b/envs/zero/lib/python3.9/site-packages/pytorch_lightning/callbacks/model_checkpoint.py:616: UserWarning: Checkpoint directory /home/weniger/codes/swyft/notebooks/lightning_logs/version_10034687/checkpoints exists and is not empty.\n",
      "  rank_zero_warn(f\"Checkpoint directory {dirpath} exists and is not empty.\")\n",
      "LOCAL_RANK: 0 - CUDA_VISIBLE_DEVICES: [0]\n",
      "\n",
      "  | Name      | Type                   | Params\n",
      "-----------------------------------------------------\n",
      "0 | logratios | LogRatioEstimator_1dim | 17.4 K\n",
      "-----------------------------------------------------\n",
      "17.4 K    Trainable params\n",
      "0         Non-trainable params\n",
      "17.4 K    Total params\n",
      "0.139     Total estimated model params size (MB)\n"
     ]
    },
    {
     "name": "stdout",
     "output_type": "stream",
     "text": [
      "Sanity Checking DataLoader 0:   0%|          | 0/2 [00:00<?, ?it/s]"
     ]
    },
    {
     "name": "stderr",
     "output_type": "stream",
     "text": [
      "/home/weniger/miniconda3b/envs/zero/lib/python3.9/site-packages/pytorch_lightning/trainer/connectors/data_connector.py:219: PossibleUserWarning: The dataloader, val_dataloader 0, does not have many workers which may be a bottleneck. Consider increasing the value of the `num_workers` argument` (try 24 which is the number of cpus on this machine) in the `DataLoader` init to improve performance.\n",
      "  rank_zero_warn(\n"
     ]
    },
    {
     "name": "stdout",
     "output_type": "stream",
     "text": [
      "                                                                           "
     ]
    },
    {
     "name": "stderr",
     "output_type": "stream",
     "text": [
      "/home/weniger/miniconda3b/envs/zero/lib/python3.9/site-packages/pytorch_lightning/trainer/connectors/data_connector.py:219: PossibleUserWarning: The dataloader, train_dataloader, does not have many workers which may be a bottleneck. Consider increasing the value of the `num_workers` argument` (try 24 which is the number of cpus on this machine) in the `DataLoader` init to improve performance.\n",
      "  rank_zero_warn(\n"
     ]
    },
    {
     "name": "stdout",
     "output_type": "stream",
     "text": [
      "Epoch 0: : 149it [00:01, 76.01it/s, loss=-0.595, v_num=1e+7]\n",
      "Validation: 0it [00:00, ?it/s]\u001b[A\n",
      "Validation: 0it [00:00, ?it/s]\u001b[A\n",
      "Validation DataLoader 0: : 0it [00:00, ?it/s]\u001b[A\n",
      "Epoch 0: : 150it [00:01, 75.80it/s, loss=-0.595, v_num=1e+7]\n",
      "Epoch 0: : 151it [00:01, 75.94it/s, loss=-0.595, v_num=1e+7]\n",
      "Epoch 0: : 152it [00:01, 76.01it/s, loss=-0.595, v_num=1e+7]\n",
      "Epoch 0: : 153it [00:02, 76.18it/s, loss=-0.595, v_num=1e+7]\n",
      "Epoch 0: : 154it [00:02, 76.34it/s, loss=-0.595, v_num=1e+7]\n",
      "Epoch 0: : 155it [00:02, 76.46it/s, loss=-0.595, v_num=1e+7]\n",
      "Epoch 0: : 156it [00:02, 76.66it/s, loss=-0.595, v_num=1e+7, val_loss=-.564]\n",
      "Epoch 1: : 149it [00:01, 81.81it/s, loss=-0.547, v_num=1e+7, val_loss=-.564]\n",
      "Validation: 0it [00:00, ?it/s]\u001b[A\n",
      "Validation: 0it [00:00, ?it/s]\u001b[A\n",
      "Validation DataLoader 0: : 0it [00:00, ?it/s]\u001b[A\n",
      "Epoch 1: : 150it [00:01, 81.60it/s, loss=-0.547, v_num=1e+7, val_loss=-.564]\n",
      "Epoch 1: : 151it [00:01, 81.61it/s, loss=-0.547, v_num=1e+7, val_loss=-.564]\n",
      "Epoch 1: : 152it [00:01, 81.76it/s, loss=-0.547, v_num=1e+7, val_loss=-.564]\n",
      "Epoch 1: : 153it [00:01, 81.85it/s, loss=-0.547, v_num=1e+7, val_loss=-.564]\n",
      "Epoch 1: : 154it [00:01, 82.02it/s, loss=-0.547, v_num=1e+7, val_loss=-.564]\n",
      "Epoch 1: : 155it [00:01, 82.12it/s, loss=-0.547, v_num=1e+7, val_loss=-.564]\n",
      "Epoch 1: : 156it [00:01, 82.31it/s, loss=-0.547, v_num=1e+7, val_loss=-.525]\n",
      "Epoch 1: : 156it [00:01, 82.18it/s, loss=-0.547, v_num=1e+7, val_loss=-.525]"
     ]
    },
    {
     "name": "stderr",
     "output_type": "stream",
     "text": [
      "`Trainer.fit` stopped: `max_epochs=2` reached.\n"
     ]
    },
    {
     "name": "stdout",
     "output_type": "stream",
     "text": [
      "Epoch 1: : 156it [00:01, 81.40it/s, loss=-0.547, v_num=1e+7, val_loss=-.525]\n"
     ]
    }
   ],
   "source": [
    "trainer.fit(network, dl_train, dl_valid)"
   ]
  },
  {
   "cell_type": "code",
   "execution_count": null,
   "id": "2863fb41-2d1a-49db-a8f6-29ce8325356f",
   "metadata": {},
   "outputs": [],
   "source": []
  }
 ],
 "metadata": {
  "kernelspec": {
   "display_name": "Python 3",
   "language": "python",
   "name": "python3"
  },
  "language_info": {
   "codemirror_mode": {
    "name": "ipython",
    "version": 3
   },
   "file_extension": ".py",
   "mimetype": "text/x-python",
   "name": "python",
   "nbconvert_exporter": "python",
   "pygments_lexer": "ipython3",
   "version": "3.9.7"
  }
 },
 "nbformat": 4,
 "nbformat_minor": 5
}
