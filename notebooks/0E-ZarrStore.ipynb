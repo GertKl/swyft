{
 "cells": [
  {
   "cell_type": "markdown",
   "id": "b4c7a3f1-ab43-432e-a64f-b7f1358a24da",
   "metadata": {},
   "source": [
    "# Storing training data on disk via Zarr\n",
    "\n",
    "First we need some imports."
   ]
  },
  {
   "cell_type": "code",
   "execution_count": 1,
   "id": "8e9d04e5-d08e-46ab-a520-4547dedf0487",
   "metadata": {},
   "outputs": [],
   "source": [
    "%load_ext autoreload\n",
    "%autoreload 2"
   ]
  },
  {
   "cell_type": "code",
   "execution_count": 2,
   "id": "0297c907",
   "metadata": {},
   "outputs": [],
   "source": [
    "import numpy as np\n",
    "from scipy import stats\n",
    "import pylab as plt\n",
    "import torch\n",
    "import torchist\n",
    "import swyft"
   ]
  },
  {
   "cell_type": "markdown",
   "id": "ab99366b-0783-46f5-be2d-80cbbb85e163",
   "metadata": {
    "tags": []
   },
   "source": [
    "## Training data\n",
    "\n",
    "Now we generate training data.  As simple example, we consider the model\n",
    "\n",
    "$$\n",
    "x = z + \\epsilon\n",
    "$$\n",
    "\n",
    "where the parameter $z \\sim \\mathcal{N}(\\mu = 0, \\sigma = 1)$ is standard normal distributed, and $\\epsilon \\sim \\mathcal{N}(\\mu = 0, \\sigma = 0.1)$ is a small noise contribution.  We are interested in the posterior of $z$ given a measurement of parameter $x$."
   ]
  },
  {
   "cell_type": "code",
   "execution_count": 4,
   "id": "c0439f14-d49f-4e52-8916-49a785daede5",
   "metadata": {},
   "outputs": [],
   "source": [
    "class Simulator(swyft.Simulator):\n",
    "    def __init__(self):\n",
    "        super().__init__()\n",
    "        self.transform_samples = swyft.to_numpy32\n",
    "\n",
    "    def forward(self, trace):\n",
    "        z = trace.sample('z', lambda: np.random.rand(1))\n",
    "        x = trace.sample('x', lambda z: z + np.random.randn(1)*0.1, z)\n",
    "        \n",
    "sim = Simulator()\n",
    "shapes, dtypes = sim.get_shapes_and_dtypes()"
   ]
  },
  {
   "cell_type": "code",
   "execution_count": 8,
   "id": "315a3a80-c59b-4daf-b846-afb452b7575c",
   "metadata": {},
   "outputs": [
    {
     "data": {
      "text/plain": [
       "<swyft.lightning.stores.ZarrStore at 0x14ea66fb6c40>"
      ]
     },
     "execution_count": 8,
     "metadata": {},
     "output_type": "execute_result"
    }
   ],
   "source": [
    "store = swyft.ZarrStore(\"./zarr_store\")\n",
    "store.init(10000, 64, shapes, dtypes)"
   ]
  },
  {
   "cell_type": "code",
   "execution_count": 9,
   "id": "4a1ed06f-9bbe-460d-bda3-400a3eaee6f5",
   "metadata": {},
   "outputs": [
    {
     "name": "stderr",
     "output_type": "stream",
     "text": [
      "100%|██████████| 1000/1000 [00:00<00:00, 49457.63it/s]\n",
      "100%|██████████| 1000/1000 [00:00<00:00, 47723.83it/s]\n",
      "100%|██████████| 1000/1000 [00:00<00:00, 43627.95it/s]\n",
      "100%|██████████| 1000/1000 [00:00<00:00, 32552.85it/s]\n",
      "100%|██████████| 1000/1000 [00:00<00:00, 44971.90it/s]\n",
      "100%|██████████| 1000/1000 [00:00<00:00, 50843.75it/s]\n",
      "100%|██████████| 1000/1000 [00:00<00:00, 33880.50it/s]\n",
      "100%|██████████| 1000/1000 [00:00<00:00, 48008.97it/s]\n",
      "100%|██████████| 1000/1000 [00:00<00:00, 46181.08it/s]\n",
      "100%|██████████| 1000/1000 [00:00<00:00, 40057.15it/s]\n"
     ]
    }
   ],
   "source": [
    "store.simulate(sim, batch_size = 1000)  # This function can be run in parallel in many threads"
   ]
  },
  {
   "cell_type": "code",
   "execution_count": 10,
   "id": "3e6dc7e9-ff0a-479d-a4e8-fd8025717327",
   "metadata": {},
   "outputs": [],
   "source": [
    "class Network(swyft.SwyftModule):\n",
    "    def __init__(self):\n",
    "        super().__init__()\n",
    "        self.logratios = swyft.LogRatioEstimator_1dim(num_features = 1, num_params = 1, varnames = 'z')\n",
    "\n",
    "    def forward(self, A, B):\n",
    "        logratios = self.logratios(A['x'], B['z'])\n",
    "        return logratios"
   ]
  },
  {
   "cell_type": "markdown",
   "id": "2554dbed-fc91-45d2-bfa7-418cdaad67b6",
   "metadata": {},
   "source": [
    "## Trainer\n",
    "\n",
    "Training is now done using the `SwyftTrainer` class, which extends `pytorch_lightning.Trainer` by methods like `infer` (see below)."
   ]
  },
  {
   "cell_type": "code",
   "execution_count": 12,
   "id": "5683ce37-a8d0-4ed7-94a6-512ccc7babcb",
   "metadata": {},
   "outputs": [
    {
     "name": "stderr",
     "output_type": "stream",
     "text": [
      "GPU available: True (cuda), used: True\n",
      "TPU available: False, using: 0 TPU cores\n",
      "IPU available: False, using: 0 IPUs\n",
      "HPU available: False, using: 0 HPUs\n"
     ]
    }
   ],
   "source": [
    "trainer = swyft.SwyftTrainer(accelerator = 'gpu', devices=1, max_epochs = 2, precision = 64)"
   ]
  },
  {
   "cell_type": "markdown",
   "id": "053eff99-5d2b-4419-bce7-d938831b623e",
   "metadata": {},
   "source": [
    "The `swyft.Samples` class provides convenience functions to generate data loaders for training and validation data."
   ]
  },
  {
   "cell_type": "code",
   "execution_count": 16,
   "id": "b1b09c64-a0e4-4d69-a639-a5843efac80c",
   "metadata": {},
   "outputs": [],
   "source": [
    "dl_train = store.get_dataloader(batch_size = 64, idx_range = [0, 9500])\n",
    "dl_valid = store.get_dataloader(batch_size = 64, idx_range = [9500, 10000])"
   ]
  },
  {
   "cell_type": "code",
   "execution_count": 17,
   "id": "c5811d37-d10b-49e8-a8ed-1e6d43caefa4",
   "metadata": {},
   "outputs": [],
   "source": [
    "network = Network()"
   ]
  },
  {
   "cell_type": "code",
   "execution_count": 18,
   "id": "41f7765b-45b8-4684-b820-4f75c9719857",
   "metadata": {},
   "outputs": [
    {
     "name": "stderr",
     "output_type": "stream",
     "text": [
      "/home/weniger/miniconda3b/envs/zero/lib/python3.9/site-packages/pytorch_lightning/callbacks/model_checkpoint.py:616: UserWarning: Checkpoint directory /home/weniger/codes/swyft/notebooks/lightning_logs/version_10034687/checkpoints exists and is not empty.\n",
      "  rank_zero_warn(f\"Checkpoint directory {dirpath} exists and is not empty.\")\n",
      "LOCAL_RANK: 0 - CUDA_VISIBLE_DEVICES: [0]\n",
      "\n",
      "  | Name      | Type                   | Params\n",
      "-----------------------------------------------------\n",
      "0 | logratios | LogRatioEstimator_1dim | 17.4 K\n",
      "-----------------------------------------------------\n",
      "17.4 K    Trainable params\n",
      "0         Non-trainable params\n",
      "17.4 K    Total params\n",
      "0.139     Total estimated model params size (MB)\n"
     ]
    },
    {
     "name": "stdout",
     "output_type": "stream",
     "text": [
      "Sanity Checking DataLoader 0:   0%|          | 0/2 [00:00<?, ?it/s]"
     ]
    },
    {
     "name": "stderr",
     "output_type": "stream",
     "text": [
      "/home/weniger/miniconda3b/envs/zero/lib/python3.9/site-packages/pytorch_lightning/trainer/connectors/data_connector.py:219: PossibleUserWarning: The dataloader, val_dataloader 0, does not have many workers which may be a bottleneck. Consider increasing the value of the `num_workers` argument` (try 24 which is the number of cpus on this machine) in the `DataLoader` init to improve performance.\n",
      "  rank_zero_warn(\n"
     ]
    },
    {
     "name": "stdout",
     "output_type": "stream",
     "text": [
      "                                                                           "
     ]
    },
    {
     "name": "stderr",
     "output_type": "stream",
     "text": [
      "/home/weniger/miniconda3b/envs/zero/lib/python3.9/site-packages/pytorch_lightning/trainer/connectors/data_connector.py:219: PossibleUserWarning: The dataloader, train_dataloader, does not have many workers which may be a bottleneck. Consider increasing the value of the `num_workers` argument` (try 24 which is the number of cpus on this machine) in the `DataLoader` init to improve performance.\n",
      "  rank_zero_warn(\n"
     ]
    },
    {
     "name": "stdout",
     "output_type": "stream",
     "text": [
      "Epoch 0: : 149it [00:02, 68.00it/s, loss=-0.54, v_num=1e+7] \n",
      "Validation: 0it [00:00, ?it/s]\u001b[A\n",
      "Validation: 0it [00:00, ?it/s]\u001b[A\n",
      "Validation DataLoader 0: : 0it [00:00, ?it/s]\u001b[A\n",
      "Epoch 0: : 150it [00:02, 67.53it/s, loss=-0.54, v_num=1e+7]\n",
      "Epoch 0: : 151it [00:02, 67.65it/s, loss=-0.54, v_num=1e+7]\n",
      "Epoch 0: : 152it [00:02, 67.82it/s, loss=-0.54, v_num=1e+7]\n",
      "Epoch 0: : 153it [00:02, 67.98it/s, loss=-0.54, v_num=1e+7]\n",
      "Epoch 0: : 154it [00:02, 68.06it/s, loss=-0.54, v_num=1e+7]\n",
      "Epoch 0: : 155it [00:02, 68.21it/s, loss=-0.54, v_num=1e+7]\n",
      "Epoch 0: : 156it [00:02, 68.39it/s, loss=-0.54, v_num=1e+7, val_loss=-.610]\n",
      "Epoch 1: : 149it [00:02, 69.88it/s, loss=-0.549, v_num=1e+7, val_loss=-.610]\n",
      "Validation: 0it [00:00, ?it/s]\u001b[A\n",
      "Validation: 0it [00:00, ?it/s]\u001b[A\n",
      "Validation DataLoader 0: : 0it [00:00, ?it/s]\u001b[A\n",
      "Epoch 1: : 150it [00:02, 69.59it/s, loss=-0.549, v_num=1e+7, val_loss=-.610]\n",
      "Epoch 1: : 151it [00:02, 69.77it/s, loss=-0.549, v_num=1e+7, val_loss=-.610]\n",
      "Epoch 1: : 152it [00:02, 69.95it/s, loss=-0.549, v_num=1e+7, val_loss=-.610]\n",
      "Epoch 1: : 153it [00:02, 70.14it/s, loss=-0.549, v_num=1e+7, val_loss=-.610]\n",
      "Epoch 1: : 154it [00:02, 70.30it/s, loss=-0.549, v_num=1e+7, val_loss=-.610]\n",
      "Epoch 1: : 155it [00:02, 70.19it/s, loss=-0.549, v_num=1e+7, val_loss=-.610]\n",
      "Epoch 1: : 156it [00:02, 70.40it/s, loss=-0.549, v_num=1e+7, val_loss=-.561]\n",
      "Epoch 1: : 156it [00:02, 70.32it/s, loss=-0.549, v_num=1e+7, val_loss=-.561]"
     ]
    },
    {
     "name": "stderr",
     "output_type": "stream",
     "text": [
      "`Trainer.fit` stopped: `max_epochs=2` reached.\n"
     ]
    },
    {
     "name": "stdout",
     "output_type": "stream",
     "text": [
      "Epoch 1: : 156it [00:03, 45.35it/s, loss=-0.549, v_num=1e+7, val_loss=-.561]\n"
     ]
    }
   ],
   "source": [
    "trainer.fit(network, dl_train, dl_valid)"
   ]
  },
  {
   "cell_type": "code",
   "execution_count": null,
   "id": "2863fb41-2d1a-49db-a8f6-29ce8325356f",
   "metadata": {},
   "outputs": [],
   "source": []
  }
 ],
 "metadata": {
  "kernelspec": {
   "display_name": "Python 3",
   "language": "python",
   "name": "python3"
  },
  "language_info": {
   "codemirror_mode": {
    "name": "ipython",
    "version": 3
   },
   "file_extension": ".py",
   "mimetype": "text/x-python",
   "name": "python",
   "nbconvert_exporter": "python",
   "pygments_lexer": "ipython3",
   "version": "3.9.7"
  }
 },
 "nbformat": 4,
 "nbformat_minor": 5
}
