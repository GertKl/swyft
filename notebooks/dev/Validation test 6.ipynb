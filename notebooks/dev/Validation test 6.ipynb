{
 "cells": [
  {
   "cell_type": "code",
   "execution_count": 1,
   "id": "c1ee5187",
   "metadata": {
    "tags": []
   },
   "outputs": [],
   "source": [
    "%load_ext autoreload\n",
    "%autoreload 2"
   ]
  },
  {
   "cell_type": "markdown",
   "id": "675eb475-2378-46d6-a08c-6a0637074e15",
   "metadata": {},
   "source": [
    "Illustrates exponential model with tight measurement constraints and PSF"
   ]
  },
  {
   "cell_type": "code",
   "execution_count": 348,
   "id": "d330c9ab",
   "metadata": {
    "tags": []
   },
   "outputs": [],
   "source": [
    "import numpy as np\n",
    "import torch\n",
    "from torch import nn\n",
    "import torch\n",
    "import time\n",
    "#from pytorch_unet.unet import UNet  # Run \"git clone https://github.com/cweniger/pytorch_unet.git\"\n",
    "import swyft\n",
    "import wandb\n",
    "import pylab as plt\n",
    "from pytorch_lightning.loggers import WandbLogger\n",
    "from scipy.ndimage import gaussian_filter\n",
    "\n",
    "import scipy.stats.distributions as dist\n",
    "from tqdm import tqdm\n",
    "\n",
    "torch.set_float32_matmul_precision('medium')\n",
    "DEVICE = \"cuda\""
   ]
  },
  {
   "cell_type": "markdown",
   "id": "8fff175f-d7ea-48fe-a117-b989b1bab0f0",
   "metadata": {},
   "source": [
    "We assume that the likelihood function can be decomposed as\n",
    "$$p(\\mathbf x | \\mathbf z) = \\Pi_i p(s_i|z_i)$$\n",
    "Where the components of $\\mathbf z$ are wavelet transforms."
   ]
  },
  {
   "cell_type": "code",
   "execution_count": 349,
   "id": "f094edde-b00c-4c63-b4da-fa2cac455c05",
   "metadata": {},
   "outputs": [],
   "source": [
    "SIGMA = 1e-2\n",
    "NPIX = 32"
   ]
  },
  {
   "cell_type": "code",
   "execution_count": 350,
   "id": "0b2acca3-5e01-464d-9023-46eb6c67cebb",
   "metadata": {},
   "outputs": [],
   "source": [
    "def down1d(x):\n",
    "    # Squeeze to make work with zero and one batch dimensions\n",
    "    return torch.nn.functional.avg_pool1d(x.unsqueeze(0), 2).squeeze(0)\n",
    "\n",
    "def down2d(x):\n",
    "    return torch.nn.functional.avg_pool2d(x.unsqueeze(0), 2).squeeze(0)\n",
    "\n",
    "def down3d(x):\n",
    "    return torch.nn.functional.avg_pool3d(x.unsqueeze(0), 2).squeeze(0)\n",
    "\n",
    "def up1d(x):\n",
    "    return x.repeat_interleave(2, dim = -1)\n",
    "\n",
    "def up2d(x):\n",
    "    return x.repeat_interleave(2, dim = -2).repeat_interleave(2, dim = -1)\n",
    "\n",
    "def up3d(x):\n",
    "    return x.repeat_interleave(2, dim = -3).repeat_interleave(2, dim = -2).repeat_interleave(2, dim = -1)\n",
    "\n",
    "def avg1d(x):\n",
    "    return up1d(down1d(x))\n",
    "\n",
    "def avg2d(x):\n",
    "    return up2d(down2d(x))\n",
    "\n",
    "def avg3d(x):\n",
    "    return up3d(down3d(x))"
   ]
  },
  {
   "cell_type": "code",
   "execution_count": 351,
   "id": "6e4a2928-c9da-4719-8a22-0b6d159e250c",
   "metadata": {},
   "outputs": [],
   "source": [
    "def Phi1d(x):\n",
    "    \"\"\"\n",
    "    Takes 1-dim array x of length 2^L and turns it into 1-dim array of length 2*2^L-1\n",
    "    [x1, x2, x3, x4, (x1+x2)/2, (x3+x4)/2, (x1+x2+x3+x4)/4] etc\n",
    "    \"\"\"\n",
    "    length = x.shape[-1]\n",
    "    levels = int(np.log2(length))\n",
    "    temp = x\n",
    "    out = [temp]\n",
    "    for l in range(levels):\n",
    "        temp = down1d(temp)\n",
    "        out.append(temp)\n",
    "    return torch.cat(out, dim=-1)\n",
    "\n",
    "def PhiT1d(x):\n",
    "    \"\"\"\n",
    "    Transpose of Phi1d\n",
    "    \"\"\"\n",
    "    length = int((x.shape[-1]+1)/2)\n",
    "    levels = int(np.log2(length))\n",
    "    tmp = x\n",
    "    out = tmp[..., :length]\n",
    "    for l in range(levels, 0, -1):\n",
    "        tmp = torch.repeat_interleave(tmp[..., length:], 2, dim=-1)/2\n",
    "        out += tmp[..., :length]\n",
    "    return out\n",
    "\n",
    "def Cont1d(x):\n",
    "    \"\"\"\n",
    "    Calculates low-res contrastive vector.\n",
    "    \"\"\"\n",
    "    L = int((x.shape[-1]+1)/2)\n",
    "    x = torch.repeat_interleave(x[..., L:], 2, dim=-1)\n",
    "    x = torch.cat([x, x[..., -1:]*0], dim = -1)\n",
    "    return x\n",
    "\n",
    "def Phi2d(x):\n",
    "    \"\"\"\n",
    "    Takes 2-dim array x of length 2^L and turns it into 1-dim array of length 2*2^L-1\n",
    "    [x1, x2, x3, x4, (x1+x2)/2, (x3+x4)/2, (x1+x2+x3+x4)/4] etc\n",
    "    \"\"\"\n",
    "    length = x.shape[-1]\n",
    "    levels = int(np.log2(length))\n",
    "    temp = x\n",
    "    out = [temp.flatten(start_dim=-2)]\n",
    "    for l in range(levels):\n",
    "        temp = down2d(temp)\n",
    "        out.append(temp.flatten(start_dim=-2))\n",
    "    return torch.cat(out, dim=-1)\n",
    "\n",
    "def PhiT2d(x, length):\n",
    "    \"\"\"\n",
    "    Transpose of Phi2d\n",
    "    \"\"\"\n",
    "#    length = int((x.shape[-1]+1)/2)\n",
    "    levels = int(np.log2(length))\n",
    "    tmp = x\n",
    "    out = torch.zeros(*x.shape[:-2], length, length, device = x.device)\n",
    "    for l in range(levels, 0, -1):\n",
    "        tmp = torch.repeat_interleave(tmp[..., length:], 2, dim=-1)/4\n",
    "        out += tmp[..., :length]\n",
    "    return out"
   ]
  },
  {
   "cell_type": "code",
   "execution_count": 352,
   "id": "1fac29c3-0deb-4cd1-8e2c-fc8935ed25dc",
   "metadata": {},
   "outputs": [
    {
     "data": {
      "text/plain": [
       "tensor([[3., 3., 3., 3., 3., 3., 3., 3.],\n",
       "        [3., 3., 3., 3., 3., 3., 3., 3.],\n",
       "        [3., 3., 3., 3., 3., 3., 3., 3.],\n",
       "        [3., 3., 3., 3., 3., 3., 3., 3.],\n",
       "        [3., 3., 3., 3., 3., 3., 3., 3.],\n",
       "        [3., 3., 3., 3., 3., 3., 3., 3.],\n",
       "        [3., 3., 3., 3., 3., 3., 3., 3.],\n",
       "        [3., 3., 3., 3., 3., 3., 3., 3.]])"
      ]
     },
     "execution_count": 352,
     "metadata": {},
     "output_type": "execute_result"
    }
   ],
   "source": [
    "idx = torch.tensor([[0, 2, 3], [1, 4, 5]])\n",
    "x = torch.rand(6)\n",
    "y = x[idx]\n",
    "z = torch.empty_like(x)\n",
    "z[idx] = y\n",
    "\n",
    "levels = 3\n",
    "n = 2**levels\n",
    "idx_block = torch.zeros(1, 1)\n",
    "for l in range(levels):\n",
    "    idx_block += 1\n",
    "    idx_block = idx_block.repeat_interleave(2, dim = -1).repeat_interleave(2, dim = -2)\n",
    "idx_block"
   ]
  },
  {
   "cell_type": "code",
   "execution_count": 374,
   "id": "057fa05f-3713-451d-a61c-999962c8300c",
   "metadata": {},
   "outputs": [
    {
     "data": {
      "text/plain": [
       "torch.Size([32, 32])"
      ]
     },
     "execution_count": 374,
     "metadata": {},
     "output_type": "execute_result"
    }
   ],
   "source": [
    "def nested_indices_2dim(levels):\n",
    "    if levels == 0:\n",
    "        return torch.tensor([[0]])\n",
    "    x1 = torch.tensor([[0, 1], [2, 3]])\n",
    "    x = x1\n",
    "    for l in range(1, levels):\n",
    "        x = x.repeat(2, 2) + x1.repeat_interleave(2**l, dim=-2).repeat_interleave(2**l, dim=-1)*4**l\n",
    "    return x\n",
    "\n",
    "idx = nested_indices_2dim(5)\n",
    "\n",
    "x = torch.randn(3, 4, 32, 32)\n",
    "\n",
    "def PhiT(x):\n",
    "    return x[..., idx]\n",
    "\n",
    "def Phi(x):\n",
    "    z = torch.empty(*x.shape[:-2], idx.shape[0]*idx.shape[1])\n",
    "    z[..., idx] = x\n",
    "    return z\n",
    "\n",
    "def Phi2(x, levels):\n",
    "    batch_dims = x.shape[:-2]\n",
    "    x = Phi(x)\n",
    "    out = [x]\n",
    "    for _ in range(levels):\n",
    "        x = x.view(*batch_dims, -1, 4).mean(axis=-1)\n",
    "        out.append(x)\n",
    "    return torch.cat(out, dim = -1)\n",
    "\n",
    "def Phi2(x, levels):\n",
    "    batch_dims = x.shape[:-2]\n",
    "    x = Phi(x)\n",
    "    out = [x]\n",
    "    for _ in range(levels):\n",
    "        x = x.view(*batch_dims, -1, 4).mean(axis=-1)\n",
    "        out.append(x)\n",
    "    return torch.cat(out, dim = -1)\n",
    "\n",
    "# Function x_img -> x_flattened = Phi x_img\n",
    "# Function x_flattened -> Phi.T x_flattened\n",
    "# Function x_flattened (B, N) -> x_flattened (B, N, C) autoregressive correlated channels\n",
    "\n",
    "class WaveMe:\n",
    "    def __init__(self, idx, corr_range = 5):\n",
    "        self.idx = idx\n",
    "        self.in_shape = self.idx.shape\n",
    "        self.out_length = len(idx.flatten())\n",
    "        self.for_idx = idx.flatten()\n",
    "        self.inv_idx = torch.empty_like(idx.flatten())\n",
    "        self.inv_idx[idx.flatten()] = torch.tensor(range(len(self.inv_idx)))\n",
    "        \n",
    "        if isinstance(corr_range, int):\n",
    "            corr_range = torch.arange(-corr_range, 0)\n",
    "        self.auto_idx = (\n",
    "            corr_range.unsqueeze(0).repeat(self.out_length, 1)\n",
    "            + torch.arange(self.out_length).unsqueeze(1).repeat(1, len(corr_range))\n",
    "        )\n",
    "\n",
    "    def Phi(self, x):\n",
    "        \"\"\"Image -> Phi Image\"\"\"\n",
    "        z = x.flatten(start_dim=-len(self.idx.shape))[..., self.for_idx]\n",
    "        return z\n",
    "    \n",
    "    def PhiT(self, z):\n",
    "        x = z[..., self.inv_idx].view(*z.shape[:-1], *self.idx.shape)\n",
    "        return x\n",
    "    \n",
    "    def Autoregressive(self, z):\n",
    "        return z[..., self.auto_idx]*(self.auto_idx >= 0)\n",
    "\n",
    "wm = WaveMe(nested_indices_2dim(5), corr_range = 5)\n",
    "wm.in_shape"
   ]
  },
  {
   "cell_type": "markdown",
   "id": "501622e8-e484-4013-a063-4c94561f0f48",
   "metadata": {},
   "source": [
    "### Generative model"
   ]
  },
  {
   "cell_type": "code",
   "execution_count": 375,
   "id": "fed75f3c-e59d-4ceb-af5f-a074d59aecd2",
   "metadata": {
    "tags": []
   },
   "outputs": [],
   "source": [
    "class SimulatorBlob(swyft.Simulator):\n",
    "    def __init__(self, bounds = None, Npix = NPIX, sigma = SIGMA, bounds_theta = None):\n",
    "        super().__init__()\n",
    "        self.transform_samples = swyft.to_numpy32\n",
    "        self.bounds = bounds\n",
    "        self.Npix = Npix\n",
    "        self.sigma = sigma\n",
    "        self.powersampler = swyft.utils.PowerSpectrumSampler(Npix)\n",
    "        self.sigma = torch.ones(Npix, Npix)*sigma\n",
    "\n",
    "    def get_pk_fn(self):\n",
    "#        return lambda k: 1e5*(k/0.5+1)**-3\n",
    "        return lambda k: k*0 + 2  # pixel std is 1\n",
    "\n",
    "    def sample_delta(self, pk_fn):\n",
    "        if self.bounds is not None:\n",
    "            i = np.random.randint(len(self.bounds))\n",
    "            return torch.tensor(self.bounds[i])\n",
    "        else:\n",
    "            return self.powersampler.sample(pk_fn)\n",
    "            \n",
    "    def build(self, graph):\n",
    "        pk_fn = graph.node(\"pk_fn\", self.get_pk_fn)\n",
    "        delta = graph.node(\"delta\", self.sample_delta, pk_fn)\n",
    "        rho = graph.node(\"rho\", lambda delta: torch.tensor(gaussian_filter(np.exp(delta*0.2), 1)), delta)\n",
    "        x = graph.node(\"x\", lambda rho: rho + torch.randn(self.Npix, self.Npix)*self.sigma, rho)"
   ]
  },
  {
   "cell_type": "code",
   "execution_count": 376,
   "id": "43751038-59bb-4b49-b228-894f847bcc84",
   "metadata": {},
   "outputs": [],
   "source": [
    "class Network_delta_x(swyft.SwyftModule):\n",
    "    def __init__(self, N = NPIX):\n",
    "        super().__init__()\n",
    "        self.learning_rate = 1e-3\n",
    "        self.N = N\n",
    "        L = lambda x: x*0\n",
    "        self.Phi = wm.Phi\n",
    "        self.PhiT = wm.PhiT\n",
    "        self.lre = swyft.lightning.estimators.LogRatioEstimator_Gaussian_Autoregressive_Egmond(\n",
    "            self.N**2, \"mu\", Phi = self.Phi, PhiT = self.PhiT, minstd = 1e-5, momentum=0.02, shape = (NPIX, NPIX))\n",
    "        self.unet = UNet(1, 1, hidden_channels = 16, shallow=True)\n",
    "        self.norm1 = torch.nn.LazyBatchNorm2d(momentum = 0.01, affine = False)\n",
    "        self.norm = swyft.networks.OnlineStandardizingLayer((N, N))\n",
    "    \n",
    "    def embed(self, x):\n",
    "        # Input normalization apparently degrades performance, even for small momentum settings.\n",
    "#        x = self.norm1(x.unsqueeze(1)).squeeze(1)\n",
    "        x = self.norm(x)\n",
    "        x = self.unet(x.unsqueeze(1)).squeeze(1) + x*0\n",
    "        x = x.view(-1, self.N, self.N)\n",
    "        return x\n",
    "\n",
    "    def forward(self, A, B):\n",
    "        N = self.N\n",
    "        try:\n",
    "            xA = self.embed(A['x'])\n",
    "            deltaB = B['delta']\n",
    "            result1 = self.lre(xA, deltaB)\n",
    "        except KeyError:\n",
    "            result1 = None\n",
    "        \n",
    "        return result1"
   ]
  },
  {
   "cell_type": "code",
   "execution_count": 377,
   "id": "3f0c92dc-74fb-4e97-bc31-f1b97e07b16c",
   "metadata": {},
   "outputs": [],
   "source": [
    "def get_samples(n_sims = 3000, bounds = None):\n",
    "    sim = SimulatorBlob(Npix = NPIX, bounds = bounds, sigma = SIGMA)\n",
    "    samples = sim.sample(n_sims, exclude = ['pk_fn'])\n",
    "    return sim, samples\n",
    "\n",
    "def train_delta_x(samples, max_epochs = 5, logger = None):\n",
    "    dm = swyft.SwyftDataModule(samples, batch_size = 64)\n",
    "    net = Network_delta_x()\n",
    "    trainer = swyft.SwyftTrainer(accelerator = DEVICE, max_epochs = max_epochs, logger = logger)\n",
    "    trainer.fit(net, dm)\n",
    "    return trainer, net\n",
    "\n",
    "def infer_delta_x(sample0, sim, trainer, net, n_draws = 10, gamma = 0.1, steps = 1000, logger = None):\n",
    "    GAMMA = gamma\n",
    "    x = sample0['x']\n",
    "    d = sample0['delta']\n",
    "    y = net.cuda().double().embed(torch.tensor(x).cuda().double().unsqueeze(0))[0]\n",
    "    draws = []\n",
    "    x0s = []\n",
    "    for _ in tqdm(range(n_draws)):\n",
    "        pk = sim.sample()['pk_fn']\n",
    "        prior = sim.powersampler.get_prior_Q_factors(pk)\n",
    "        prior = (prior[0], prior[1].cuda(), prior[2])\n",
    "        x0 = net.lre.get_MAP(y, prior, gamma = GAMMA)\n",
    "        x0s.append(x0)\n",
    "        draw = net.lre.get_noise_samples_GEDA(1, prior, steps = steps, reset = True, gamma = GAMMA)[0]\n",
    "        draws.append(draw)\n",
    "    draws = torch.stack(draws)\n",
    "    x0s = torch.stack(x0s)\n",
    "    \n",
    "    bounds = [(x0s[i].view(NPIX, NPIX).cpu().detach() + draws[i].view(NPIX, NPIX).cpu()).numpy() for i in range(len(draws))]\n",
    "    bounds = np.array(bounds)\n",
    "\n",
    "    net.float()\n",
    "    \n",
    "    v = 15\n",
    "    fig = plt.figure(figsize = (15, 5))\n",
    "    for i in range(4):\n",
    "        plt.subplot(2, 4, i+1)\n",
    "        if i == 0:\n",
    "            plt.imshow(sample0['delta'], cmap = 'seismic', vmin = -v, vmax = v)\n",
    "        else:\n",
    "            plt.imshow(bounds[i], vmin = -v, vmax = v, cmap = 'seismic')\n",
    "        plt.colorbar()    \n",
    "    #res = [(x0.view(NPIX, NPIX).cpu().detach()*0 + draws[i].view(NPIX, NPIX).cpu()).numpy() for i in range(len(draws))]\n",
    "    print(x.min(), x.max(), bounds[0].min(), bounds[0].max())\n",
    "    res = [d - bounds[i] for i in range(len(draws))]\n",
    "    for i in range(4):\n",
    "        plt.subplot(2, 4, i+1+4)\n",
    "        plt.imshow(res[i], vmin = -v, vmax = v, cmap = 'seismic')\n",
    "        plt.colorbar()\n",
    "    wandb.log({\"img1\": wandb.Image(fig)})\n",
    "\n",
    "    fig = plt.figure(figsize = (5, 5))\n",
    "    x = sample0['delta'].flatten()  # Ground truth\n",
    "    y = bounds.reshape(-1, NPIX**2)  # Posterior samples\n",
    "    ym = y.mean(axis=0)\n",
    "#    ys = y.std(axis=0)\n",
    "    plt.scatter(x, ym)\n",
    "    plt.scatter(x, x)\n",
    "    wandb.log({\"img2\": wandb.Image(fig)})\n",
    "    \n",
    "    fig = plt.figure(figsize = (5, 5))\n",
    "    x = sample0['delta'].flatten()  # Ground truth\n",
    "    y = bounds.reshape(-1, NPIX**2)  # Posterior samples\n",
    "#    ym = y.mean(axis=0)\n",
    "    ys = y.std(axis=0)\n",
    "    plt.scatter(x, ys)\n",
    "    ys_exp = SIGMA/0.2/np.exp(x*0.2)\n",
    "    plt.scatter(x, ys_exp)\n",
    "    wandb.log({\"img2b\": wandb.Image(fig)})\n",
    "\n",
    "    fig = plt.figure(figsize = (5, 5))\n",
    "    diff = (ym-x).flatten()\n",
    "    plt.hist(diff, bins = 30)\n",
    "    p = np.percentile(diff, [2.5, 16, 50, 84, 97.5])\n",
    "    print(\"Residual percentiles:\", p)\n",
    "    print(\"Mean posterior std per pixel:\", ys.mean())\n",
    "    wandb.log({\"img3\": wandb.Image(fig)})\n",
    "\n",
    "    fig = plt.figure(figsize = (5, 5))\n",
    "    pks = swyft.utils.get_pk(torch.tensor(bounds))\n",
    "    clean_sims = sim.sample(100)['delta']\n",
    "    pks2 = swyft.utils.get_pk(torch.tensor(clean_sims))\n",
    "    pks3 = swyft.utils.get_pk(torch.tensor(sample0['delta']))\n",
    "    plt.plot([], '0.5', alpha = 0.5, label = \"Unconstrained\")\n",
    "    plt.plot([], 'r', alpha = 0.5, label = \"Constrained\")\n",
    "    plt.semilogy(pks2.T, '0.5', alpha = 0.5);\n",
    "    plt.semilogy(pks.T, 'r', alpha = 0.5);\n",
    "    plt.semilogy(pks3.T, 'y', label = \"Truth\");\n",
    "    plt.legend()\n",
    "    wandb.log({\"img4\": wandb.Image(fig)})\n",
    "\n",
    "    return bounds"
   ]
  },
  {
   "cell_type": "code",
   "execution_count": 378,
   "id": "016665c8-c2a3-4e4a-a590-8ec094f65dc5",
   "metadata": {
    "tags": []
   },
   "outputs": [
    {
     "data": {
      "image/png": "[encoded data removed]",
      "text/plain": [
       "<Figure size 640x480 with 2 Axes>"
      ]
     },
     "metadata": {},
     "output_type": "display_data"
    },
    {
     "name": "stdout",
     "output_type": "stream",
     "text": [
      "0.059869118\n"
     ]
    }
   ],
   "source": [
    "sim = SimulatorBlob(Npix = NPIX, sigma = SIGMA, bounds = None)\n",
    "sample0 = sim.sample()\n",
    "del sample0['pk_fn']\n",
    "x0 = sample0['x']\n",
    "plt.imshow(x0, cmap = 'seismic')#, vmin = - 20, vmax = 20)\n",
    "plt.colorbar()\n",
    "plt.show()\n",
    "print(x0.std())"
   ]
  },
  {
   "cell_type": "code",
   "execution_count": null,
   "id": "4834a726-d8ea-422e-90e6-6a0661279c2d",
   "metadata": {
    "tags": []
   },
   "outputs": [
    {
     "data": {
      "application/vnd.jupyter.widget-view+json": {
       "model_id": "4d1c1c44f1b5471fbe11f05a3f951634",
       "version_major": 2,
       "version_minor": 0
      },
      "text/plain": [
       "VBox(children=(Label(value='Waiting for wandb.init()...\\r'), FloatProgress(value=0.011136762033371876, max=1.0…"
      ]
     },
     "metadata": {},
     "output_type": "display_data"
    }
   ],
   "source": [
    "bounds_delta_x = None\n",
    "\n",
    "for i, GAMMA in enumerate([1e-1, 1e-1, 1e-1, 1]):\n",
    "    wandb.init(reinit = True, project = 'VT3c', group = 'experiment_1', name = 'round%i'%i)\n",
    "    wandb_logger = WandbLogger(log_model='all')\n",
    "    sim, samples = get_samples(n_sims = 1000, bounds = bounds_delta_x)\n",
    "    trained_delta_x = train_delta_x(samples, max_epochs = 100, logger = wandb_logger)\n",
    "    bounds_delta_x = infer_delta_x(sample0, sim, *trained_delta_x, n_draws = 100, gamma = GAMMA, steps = 300, logger = wandb_logger)\n",
    "    wandb.finish()"
   ]
  },
  {
   "cell_type": "code",
   "execution_count": null,
   "id": "6b3831fa-33ba-4260-9f32-2080f92f831c",
   "metadata": {},
   "outputs": [],
   "source": []
  }
 ],
 "metadata": {
  "kernelspec": {
   "display_name": "Python 3 (ipykernel)",
   "language": "python",
   "name": "python3"
  },
  "language_info": {
   "codemirror_mode": {
    "name": "ipython",
    "version": 3
   },
   "file_extension": ".py",
   "mimetype": "text/x-python",
   "name": "python",
   "nbconvert_exporter": "python",
   "pygments_lexer": "ipython3",
   "version": "3.9.13"
  },
  "vscode": {
   "interpreter": {
    "hash": "d5afa6e12f881b734281db8c81111d8284515b56362758af3f762a609d0ddb79"
   }
  }
 },
 "nbformat": 4,
 "nbformat_minor": 5
}
